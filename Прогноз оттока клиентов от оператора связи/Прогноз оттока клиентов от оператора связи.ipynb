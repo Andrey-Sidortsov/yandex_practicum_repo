{
 "cells": [
  {
   "cell_type": "markdown",
   "metadata": {},
   "source": [
    "# Прогнозирование оттока клиентов"
   ]
  },
  {
   "cell_type": "markdown",
   "metadata": {},
   "source": [
    "Оператор связи хочет научиться прогнозировать отток клиентов. Если выяснится, что пользователь планирует уйти, ему будут предложены промокоды и специальные условия. Команда оператора собрала персональные данные о некоторых клиентах, информацию об их тарифах и договорах."
   ]
  },
  {
   "cell_type": "markdown",
   "metadata": {},
   "source": [
    "## Обзор и загрузка данных"
   ]
  },
  {
   "cell_type": "markdown",
   "metadata": {},
   "source": [
    "Загрузим всё необходимое для работы. "
   ]
  },
  {
   "cell_type": "code",
   "execution_count": 1,
   "metadata": {},
   "outputs": [],
   "source": [
    "import pandas as pd\n",
    "\n",
    "import numpy as np\n",
    "\n",
    "import matplotlib.pyplot as plt\n",
    "\n",
    "import seaborn as sns\n",
    "\n",
    "from sklearn.preprocessing import OrdinalEncoder\n",
    "\n",
    "from sklearn.model_selection import train_test_split\n",
    "\n",
    "from sklearn.tree import DecisionTreeClassifier\n",
    "\n",
    "from sklearn.ensemble import RandomForestClassifier\n",
    "\n",
    "from sklearn.linear_model import LogisticRegression\n",
    "\n",
    "from sklearn.metrics import accuracy_score\n",
    "\n",
    "from sklearn.metrics import roc_auc_score\n",
    "\n",
    "from lightgbm import LGBMClassifier\n",
    "\n",
    "from catboost import CatBoostClassifier"
   ]
  },
  {
   "cell_type": "markdown",
   "metadata": {},
   "source": [
    "Далее загрузим, изучим и опишем имеющиеся в нашем распоряжении данные."
   ]
  },
  {
   "cell_type": "markdown",
   "metadata": {},
   "source": [
    "*Информация о договоре*"
   ]
  },
  {
   "cell_type": "code",
   "execution_count": 2,
   "metadata": {},
   "outputs": [],
   "source": [
    "df_contracts = pd.read_csv('/datasets/final_provider/contract.csv')"
   ]
  },
  {
   "cell_type": "code",
   "execution_count": 3,
   "metadata": {},
   "outputs": [
    {
     "data": {
      "text/html": [
       "<div>\n",
       "<style scoped>\n",
       "    .dataframe tbody tr th:only-of-type {\n",
       "        vertical-align: middle;\n",
       "    }\n",
       "\n",
       "    .dataframe tbody tr th {\n",
       "        vertical-align: top;\n",
       "    }\n",
       "\n",
       "    .dataframe thead th {\n",
       "        text-align: right;\n",
       "    }\n",
       "</style>\n",
       "<table border=\"1\" class=\"dataframe\">\n",
       "  <thead>\n",
       "    <tr style=\"text-align: right;\">\n",
       "      <th></th>\n",
       "      <th>customerID</th>\n",
       "      <th>BeginDate</th>\n",
       "      <th>EndDate</th>\n",
       "      <th>Type</th>\n",
       "      <th>PaperlessBilling</th>\n",
       "      <th>PaymentMethod</th>\n",
       "      <th>MonthlyCharges</th>\n",
       "      <th>TotalCharges</th>\n",
       "    </tr>\n",
       "  </thead>\n",
       "  <tbody>\n",
       "    <tr>\n",
       "      <td>0</td>\n",
       "      <td>7590-VHVEG</td>\n",
       "      <td>2020-01-01</td>\n",
       "      <td>No</td>\n",
       "      <td>Month-to-month</td>\n",
       "      <td>Yes</td>\n",
       "      <td>Electronic check</td>\n",
       "      <td>29.85</td>\n",
       "      <td>29.85</td>\n",
       "    </tr>\n",
       "    <tr>\n",
       "      <td>1</td>\n",
       "      <td>5575-GNVDE</td>\n",
       "      <td>2017-04-01</td>\n",
       "      <td>No</td>\n",
       "      <td>One year</td>\n",
       "      <td>No</td>\n",
       "      <td>Mailed check</td>\n",
       "      <td>56.95</td>\n",
       "      <td>1889.5</td>\n",
       "    </tr>\n",
       "    <tr>\n",
       "      <td>2</td>\n",
       "      <td>3668-QPYBK</td>\n",
       "      <td>2019-10-01</td>\n",
       "      <td>2019-12-01 00:00:00</td>\n",
       "      <td>Month-to-month</td>\n",
       "      <td>Yes</td>\n",
       "      <td>Mailed check</td>\n",
       "      <td>53.85</td>\n",
       "      <td>108.15</td>\n",
       "    </tr>\n",
       "    <tr>\n",
       "      <td>3</td>\n",
       "      <td>7795-CFOCW</td>\n",
       "      <td>2016-05-01</td>\n",
       "      <td>No</td>\n",
       "      <td>One year</td>\n",
       "      <td>No</td>\n",
       "      <td>Bank transfer (automatic)</td>\n",
       "      <td>42.30</td>\n",
       "      <td>1840.75</td>\n",
       "    </tr>\n",
       "    <tr>\n",
       "      <td>4</td>\n",
       "      <td>9237-HQITU</td>\n",
       "      <td>2019-09-01</td>\n",
       "      <td>2019-11-01 00:00:00</td>\n",
       "      <td>Month-to-month</td>\n",
       "      <td>Yes</td>\n",
       "      <td>Electronic check</td>\n",
       "      <td>70.70</td>\n",
       "      <td>151.65</td>\n",
       "    </tr>\n",
       "  </tbody>\n",
       "</table>\n",
       "</div>"
      ],
      "text/plain": [
       "   customerID   BeginDate              EndDate            Type  \\\n",
       "0  7590-VHVEG  2020-01-01                   No  Month-to-month   \n",
       "1  5575-GNVDE  2017-04-01                   No        One year   \n",
       "2  3668-QPYBK  2019-10-01  2019-12-01 00:00:00  Month-to-month   \n",
       "3  7795-CFOCW  2016-05-01                   No        One year   \n",
       "4  9237-HQITU  2019-09-01  2019-11-01 00:00:00  Month-to-month   \n",
       "\n",
       "  PaperlessBilling              PaymentMethod  MonthlyCharges TotalCharges  \n",
       "0              Yes           Electronic check           29.85        29.85  \n",
       "1               No               Mailed check           56.95       1889.5  \n",
       "2              Yes               Mailed check           53.85       108.15  \n",
       "3               No  Bank transfer (automatic)           42.30      1840.75  \n",
       "4              Yes           Electronic check           70.70       151.65  "
      ]
     },
     "execution_count": 3,
     "metadata": {},
     "output_type": "execute_result"
    }
   ],
   "source": [
    "df_contracts.head()"
   ]
  },
  {
   "cell_type": "code",
   "execution_count": 4,
   "metadata": {},
   "outputs": [
    {
     "name": "stdout",
     "output_type": "stream",
     "text": [
      "<class 'pandas.core.frame.DataFrame'>\n",
      "RangeIndex: 7043 entries, 0 to 7042\n",
      "Data columns (total 8 columns):\n",
      "customerID          7043 non-null object\n",
      "BeginDate           7043 non-null object\n",
      "EndDate             7043 non-null object\n",
      "Type                7043 non-null object\n",
      "PaperlessBilling    7043 non-null object\n",
      "PaymentMethod       7043 non-null object\n",
      "MonthlyCharges      7043 non-null float64\n",
      "TotalCharges        7043 non-null object\n",
      "dtypes: float64(1), object(7)\n",
      "memory usage: 440.3+ KB\n"
     ]
    }
   ],
   "source": [
    "df_contracts.info()"
   ]
  },
  {
   "cell_type": "markdown",
   "metadata": {},
   "source": [
    "Отсутствуют пропущенные значения. Это однозначно плюс."
   ]
  },
  {
   "cell_type": "markdown",
   "metadata": {},
   "source": [
    "Прежде чем продолжить обзор информации о договоре, приведём названия столбцов к более каноничному виду, и изменим тип данных столбца `TotalCharges` на `float64` как для корректного отображения статистических характеристик, так и для дальнейшей работы с этим признаком."
   ]
  },
  {
   "cell_type": "code",
   "execution_count": 5,
   "metadata": {},
   "outputs": [],
   "source": [
    "df_contracts.columns = ['customer_id','begin_date','end_date', 'type',\n",
    "                        'paperless_billing', 'payment_method', \n",
    "                        'monthly_charges', 'total_charges']"
   ]
  },
  {
   "cell_type": "markdown",
   "metadata": {},
   "source": [
    "Изменим тип данных `total_charges` на `float`"
   ]
  },
  {
   "cell_type": "code",
   "execution_count": 6,
   "metadata": {},
   "outputs": [],
   "source": [
    "df_contracts['total_charges'] = pd.to_numeric(df_contracts['total_charges'], errors='coerce')"
   ]
  },
  {
   "cell_type": "markdown",
   "metadata": {},
   "source": [
    "Проверим наличие возможных пропусков после изменения типа данных"
   ]
  },
  {
   "cell_type": "code",
   "execution_count": 7,
   "metadata": {},
   "outputs": [
    {
     "data": {
      "text/plain": [
       "11"
      ]
     },
     "execution_count": 7,
     "metadata": {},
     "output_type": "execute_result"
    }
   ],
   "source": [
    "df_contracts['total_charges'].isnull().sum()"
   ]
  },
  {
   "cell_type": "markdown",
   "metadata": {},
   "source": [
    "Не критично для того, чтобы просто удалить этих клиентов."
   ]
  },
  {
   "cell_type": "code",
   "execution_count": 8,
   "metadata": {},
   "outputs": [],
   "source": [
    "df_contracts.dropna(inplace = True)"
   ]
  },
  {
   "cell_type": "markdown",
   "metadata": {},
   "source": [
    "Оценим статистические характеристики для признаков `monthly_charges` и `total_charges`."
   ]
  },
  {
   "cell_type": "code",
   "execution_count": 9,
   "metadata": {},
   "outputs": [
    {
     "data": {
      "text/html": [
       "<div>\n",
       "<style scoped>\n",
       "    .dataframe tbody tr th:only-of-type {\n",
       "        vertical-align: middle;\n",
       "    }\n",
       "\n",
       "    .dataframe tbody tr th {\n",
       "        vertical-align: top;\n",
       "    }\n",
       "\n",
       "    .dataframe thead th {\n",
       "        text-align: right;\n",
       "    }\n",
       "</style>\n",
       "<table border=\"1\" class=\"dataframe\">\n",
       "  <thead>\n",
       "    <tr style=\"text-align: right;\">\n",
       "      <th></th>\n",
       "      <th>monthly_charges</th>\n",
       "      <th>total_charges</th>\n",
       "    </tr>\n",
       "  </thead>\n",
       "  <tbody>\n",
       "    <tr>\n",
       "      <td>count</td>\n",
       "      <td>7032.000000</td>\n",
       "      <td>7032.000000</td>\n",
       "    </tr>\n",
       "    <tr>\n",
       "      <td>mean</td>\n",
       "      <td>64.798208</td>\n",
       "      <td>2283.300441</td>\n",
       "    </tr>\n",
       "    <tr>\n",
       "      <td>std</td>\n",
       "      <td>30.085974</td>\n",
       "      <td>2266.771362</td>\n",
       "    </tr>\n",
       "    <tr>\n",
       "      <td>min</td>\n",
       "      <td>18.250000</td>\n",
       "      <td>18.800000</td>\n",
       "    </tr>\n",
       "    <tr>\n",
       "      <td>25%</td>\n",
       "      <td>35.587500</td>\n",
       "      <td>401.450000</td>\n",
       "    </tr>\n",
       "    <tr>\n",
       "      <td>50%</td>\n",
       "      <td>70.350000</td>\n",
       "      <td>1397.475000</td>\n",
       "    </tr>\n",
       "    <tr>\n",
       "      <td>75%</td>\n",
       "      <td>89.862500</td>\n",
       "      <td>3794.737500</td>\n",
       "    </tr>\n",
       "    <tr>\n",
       "      <td>max</td>\n",
       "      <td>118.750000</td>\n",
       "      <td>8684.800000</td>\n",
       "    </tr>\n",
       "  </tbody>\n",
       "</table>\n",
       "</div>"
      ],
      "text/plain": [
       "       monthly_charges  total_charges\n",
       "count      7032.000000    7032.000000\n",
       "mean         64.798208    2283.300441\n",
       "std          30.085974    2266.771362\n",
       "min          18.250000      18.800000\n",
       "25%          35.587500     401.450000\n",
       "50%          70.350000    1397.475000\n",
       "75%          89.862500    3794.737500\n",
       "max         118.750000    8684.800000"
      ]
     },
     "execution_count": 9,
     "metadata": {},
     "output_type": "execute_result"
    }
   ],
   "source": [
    "df_contracts.describe()"
   ]
  },
  {
   "cell_type": "code",
   "execution_count": 10,
   "metadata": {},
   "outputs": [
    {
     "data": {
      "image/png": "[encoded data removed]",
      "text/plain": [
       "<Figure size 720x432 with 2 Axes>"
      ]
     },
     "metadata": {
      "needs_background": "light"
     },
     "output_type": "display_data"
    }
   ],
   "source": [
    "df_contracts.hist(bins = 50, figsize = (10,6));"
   ]
  },
  {
   "cell_type": "markdown",
   "metadata": {},
   "source": [
    "Из полученных характеристик и гистограмм отлично видно, что большое число клиентов совершают минимальные платы как в месячном, так и в суммарном выражении."
   ]
  },
  {
   "cell_type": "markdown",
   "metadata": {},
   "source": [
    "Рассмотрим теперь каждый признак в отдельности"
   ]
  },
  {
   "cell_type": "markdown",
   "metadata": {},
   "source": [
    "`customer_id` - уникальный идентификатор клиента. Известно, что этот признак общий для всех имеющихся в нашем распоряжении таблиц и следовательно он будет использован для сборки всей информации в один датафрейм.\n",
    "\n",
    "На данном этапе, пожалуй, будет сразу не лишним проверить таблицу на дубликаты. Отправной точкой будет именно этот признак."
   ]
  },
  {
   "cell_type": "code",
   "execution_count": 11,
   "metadata": {},
   "outputs": [
    {
     "data": {
      "text/plain": [
       "2277-AXSDC    1\n",
       "1269-FOYWN    1\n",
       "2882-DDZPG    1\n",
       "6615-ZGEDR    1\n",
       "9565-AXSMR    1\n",
       "Name: customer_id, dtype: int64"
      ]
     },
     "execution_count": 11,
     "metadata": {},
     "output_type": "execute_result"
    }
   ],
   "source": [
    "df_contracts['customer_id'].value_counts(ascending = False).head()"
   ]
  },
  {
   "cell_type": "markdown",
   "metadata": {},
   "source": [
    "Отлично. Никаких дубликатов."
   ]
  },
  {
   "cell_type": "markdown",
   "metadata": {},
   "source": [
    "`begin_date` - дата заключения договора. Пригодится нам для создания нового признака: времени жизни клиента."
   ]
  },
  {
   "cell_type": "markdown",
   "metadata": {},
   "source": [
    "`end_date` - дата окончания договора. Наш целевой признак. Точнее станет им после некоторых преобразований. Также необходим для создания вышеуказанного признака."
   ]
  },
  {
   "cell_type": "markdown",
   "metadata": {},
   "source": [
    "`type` - тип платежа."
   ]
  },
  {
   "cell_type": "code",
   "execution_count": 12,
   "metadata": {},
   "outputs": [
    {
     "data": {
      "text/plain": [
       "Month-to-month    55.105233\n",
       "Two year          23.961889\n",
       "One year          20.932878\n",
       "Name: type, dtype: float64"
      ]
     },
     "execution_count": 12,
     "metadata": {},
     "output_type": "execute_result"
    }
   ],
   "source": [
    "df_contracts['type'].value_counts(normalize = True) * 100"
   ]
  },
  {
   "cell_type": "markdown",
   "metadata": {},
   "source": [
    "Всего три типа: \n",
    "\n",
    "    1) каждый месяц\n",
    "    2) абонемент на год\n",
    "    3) абонемент на два года\n",
    "    \n",
    "Самый распространённый вариант платежа - ежемесячный."
   ]
  },
  {
   "cell_type": "markdown",
   "metadata": {},
   "source": [
    "`paperless_billing` - получение электронного чека."
   ]
  },
  {
   "cell_type": "code",
   "execution_count": 13,
   "metadata": {},
   "outputs": [
    {
     "data": {
      "text/plain": [
       "Yes    59.2719\n",
       "No     40.7281\n",
       "Name: paperless_billing, dtype: float64"
      ]
     },
     "execution_count": 13,
     "metadata": {},
     "output_type": "execute_result"
    }
   ],
   "source": [
    "df_contracts['paperless_billing'].value_counts(normalize = True) * 100"
   ]
  },
  {
   "cell_type": "markdown",
   "metadata": {},
   "source": [
    "Большая часть клиентов предпочитает иметь дело с цифровым вариантом чека."
   ]
  },
  {
   "cell_type": "markdown",
   "metadata": {},
   "source": [
    "`payment_method` - способ оплаты."
   ]
  },
  {
   "cell_type": "code",
   "execution_count": 14,
   "metadata": {},
   "outputs": [
    {
     "data": {
      "text/plain": [
       "Electronic check             33.631968\n",
       "Mailed check                 22.810011\n",
       "Bank transfer (automatic)    21.928328\n",
       "Credit card (automatic)      21.629693\n",
       "Name: payment_method, dtype: float64"
      ]
     },
     "execution_count": 14,
     "metadata": {},
     "output_type": "execute_result"
    }
   ],
   "source": [
    "df_contracts['payment_method'].value_counts(normalize = True) * 100"
   ]
  },
  {
   "cell_type": "markdown",
   "metadata": {},
   "source": [
    "Платить по электронному чеку предпочитает треть клиентов, остальных почти поровну."
   ]
  },
  {
   "cell_type": "markdown",
   "metadata": {},
   "source": [
    "`monthly_charges` - ежемесячный платёж. Из представленной статистики по этому признаку видно, что 25% клиентов платят меньше 35,59$ в месяц, остальная же часть, начиная с этой отметки, распределена нормально."
   ]
  },
  {
   "cell_type": "markdown",
   "metadata": {},
   "source": [
    "`total_charges` - сколько всего принёс клиент денег с момента заключения договора до момента выгрузки данных. Здесь мы также видим сильное смещение клиентской базы в первый квартиль до 401,45$."
   ]
  },
  {
   "cell_type": "markdown",
   "metadata": {},
   "source": [
    "*Персональные данные*"
   ]
  },
  {
   "cell_type": "code",
   "execution_count": 15,
   "metadata": {},
   "outputs": [],
   "source": [
    "df_personal = pd.read_csv('/datasets/final_provider/personal.csv')"
   ]
  },
  {
   "cell_type": "code",
   "execution_count": 16,
   "metadata": {},
   "outputs": [
    {
     "data": {
      "text/html": [
       "<div>\n",
       "<style scoped>\n",
       "    .dataframe tbody tr th:only-of-type {\n",
       "        vertical-align: middle;\n",
       "    }\n",
       "\n",
       "    .dataframe tbody tr th {\n",
       "        vertical-align: top;\n",
       "    }\n",
       "\n",
       "    .dataframe thead th {\n",
       "        text-align: right;\n",
       "    }\n",
       "</style>\n",
       "<table border=\"1\" class=\"dataframe\">\n",
       "  <thead>\n",
       "    <tr style=\"text-align: right;\">\n",
       "      <th></th>\n",
       "      <th>customerID</th>\n",
       "      <th>gender</th>\n",
       "      <th>SeniorCitizen</th>\n",
       "      <th>Partner</th>\n",
       "      <th>Dependents</th>\n",
       "    </tr>\n",
       "  </thead>\n",
       "  <tbody>\n",
       "    <tr>\n",
       "      <td>0</td>\n",
       "      <td>7590-VHVEG</td>\n",
       "      <td>Female</td>\n",
       "      <td>0</td>\n",
       "      <td>Yes</td>\n",
       "      <td>No</td>\n",
       "    </tr>\n",
       "    <tr>\n",
       "      <td>1</td>\n",
       "      <td>5575-GNVDE</td>\n",
       "      <td>Male</td>\n",
       "      <td>0</td>\n",
       "      <td>No</td>\n",
       "      <td>No</td>\n",
       "    </tr>\n",
       "    <tr>\n",
       "      <td>2</td>\n",
       "      <td>3668-QPYBK</td>\n",
       "      <td>Male</td>\n",
       "      <td>0</td>\n",
       "      <td>No</td>\n",
       "      <td>No</td>\n",
       "    </tr>\n",
       "    <tr>\n",
       "      <td>3</td>\n",
       "      <td>7795-CFOCW</td>\n",
       "      <td>Male</td>\n",
       "      <td>0</td>\n",
       "      <td>No</td>\n",
       "      <td>No</td>\n",
       "    </tr>\n",
       "    <tr>\n",
       "      <td>4</td>\n",
       "      <td>9237-HQITU</td>\n",
       "      <td>Female</td>\n",
       "      <td>0</td>\n",
       "      <td>No</td>\n",
       "      <td>No</td>\n",
       "    </tr>\n",
       "  </tbody>\n",
       "</table>\n",
       "</div>"
      ],
      "text/plain": [
       "   customerID  gender  SeniorCitizen Partner Dependents\n",
       "0  7590-VHVEG  Female              0     Yes         No\n",
       "1  5575-GNVDE    Male              0      No         No\n",
       "2  3668-QPYBK    Male              0      No         No\n",
       "3  7795-CFOCW    Male              0      No         No\n",
       "4  9237-HQITU  Female              0      No         No"
      ]
     },
     "execution_count": 16,
     "metadata": {},
     "output_type": "execute_result"
    }
   ],
   "source": [
    "df_personal.head()"
   ]
  },
  {
   "cell_type": "code",
   "execution_count": 17,
   "metadata": {},
   "outputs": [
    {
     "name": "stdout",
     "output_type": "stream",
     "text": [
      "<class 'pandas.core.frame.DataFrame'>\n",
      "RangeIndex: 7043 entries, 0 to 7042\n",
      "Data columns (total 5 columns):\n",
      "customerID       7043 non-null object\n",
      "gender           7043 non-null object\n",
      "SeniorCitizen    7043 non-null int64\n",
      "Partner          7043 non-null object\n",
      "Dependents       7043 non-null object\n",
      "dtypes: int64(1), object(4)\n",
      "memory usage: 275.2+ KB\n"
     ]
    }
   ],
   "source": [
    "df_personal.info()"
   ]
  },
  {
   "cell_type": "markdown",
   "metadata": {},
   "source": [
    "Ни одного пропуска. Также переименуем названия столбцов и далее рассмотрим имеющиеся признаки."
   ]
  },
  {
   "cell_type": "code",
   "execution_count": 18,
   "metadata": {},
   "outputs": [],
   "source": [
    "df_personal.columns = ['customer_id','gender','senior_citizen', 'partner', 'dependents']"
   ]
  },
  {
   "cell_type": "markdown",
   "metadata": {},
   "source": [
    "`customer_id` - идентификатор пользователя. Проверим данные на дубликаты."
   ]
  },
  {
   "cell_type": "code",
   "execution_count": 19,
   "metadata": {},
   "outputs": [
    {
     "data": {
      "text/plain": [
       "2277-AXSDC    1\n",
       "5808-TOTXO    1\n",
       "1335-NTIUC    1\n",
       "2882-DDZPG    1\n",
       "6615-ZGEDR    1\n",
       "Name: customer_id, dtype: int64"
      ]
     },
     "execution_count": 19,
     "metadata": {},
     "output_type": "execute_result"
    }
   ],
   "source": [
    "df_personal['customer_id'].value_counts(ascending = False).head()"
   ]
  },
  {
   "cell_type": "markdown",
   "metadata": {},
   "source": [
    "Дубликатов не обнаружено."
   ]
  },
  {
   "cell_type": "markdown",
   "metadata": {},
   "source": [
    "`gender` - пол."
   ]
  },
  {
   "cell_type": "code",
   "execution_count": 20,
   "metadata": {},
   "outputs": [
    {
     "data": {
      "text/plain": [
       "Male      50.47565\n",
       "Female    49.52435\n",
       "Name: gender, dtype: float64"
      ]
     },
     "execution_count": 20,
     "metadata": {},
     "output_type": "execute_result"
    }
   ],
   "source": [
    "df_personal['gender'].value_counts(normalize = True) * 100"
   ]
  },
  {
   "cell_type": "markdown",
   "metadata": {},
   "source": [
    "Почти поровну."
   ]
  },
  {
   "cell_type": "markdown",
   "metadata": {},
   "source": [
    "`senior_citizen` - пенсионер клиент или нет."
   ]
  },
  {
   "cell_type": "code",
   "execution_count": 21,
   "metadata": {},
   "outputs": [
    {
     "data": {
      "text/plain": [
       "0    83.785319\n",
       "1    16.214681\n",
       "Name: senior_citizen, dtype: float64"
      ]
     },
     "execution_count": 21,
     "metadata": {},
     "output_type": "execute_result"
    }
   ],
   "source": [
    "df_personal['senior_citizen'].value_counts(normalize = True) * 100"
   ]
  },
  {
   "cell_type": "markdown",
   "metadata": {},
   "source": [
    "Пенсионеров, ожидаемо, не много."
   ]
  },
  {
   "cell_type": "markdown",
   "metadata": {},
   "source": [
    "`partner` - состоит ли клиент в отношениях."
   ]
  },
  {
   "cell_type": "code",
   "execution_count": 22,
   "metadata": {},
   "outputs": [
    {
     "data": {
      "text/plain": [
       "No     51.69672\n",
       "Yes    48.30328\n",
       "Name: partner, dtype: float64"
      ]
     },
     "execution_count": 22,
     "metadata": {},
     "output_type": "execute_result"
    }
   ],
   "source": [
    "df_personal['partner'].value_counts(normalize = True) * 100"
   ]
  },
  {
   "cell_type": "markdown",
   "metadata": {},
   "source": [
    "`dependents`- является ли клиент иждивенцем."
   ]
  },
  {
   "cell_type": "code",
   "execution_count": 23,
   "metadata": {},
   "outputs": [
    {
     "data": {
      "text/plain": [
       "No     70.041176\n",
       "Yes    29.958824\n",
       "Name: dependents, dtype: float64"
      ]
     },
     "execution_count": 23,
     "metadata": {},
     "output_type": "execute_result"
    }
   ],
   "source": [
    "df_personal['dependents'].value_counts(normalize = True) * 100"
   ]
  },
  {
   "cell_type": "markdown",
   "metadata": {},
   "source": [
    "Подавляющее большинство - нет."
   ]
  },
  {
   "cell_type": "markdown",
   "metadata": {},
   "source": [
    "*Информация об интернет-услугах*"
   ]
  },
  {
   "cell_type": "code",
   "execution_count": 24,
   "metadata": {},
   "outputs": [],
   "source": [
    "df_internet = pd.read_csv('/datasets/final_provider/internet.csv')"
   ]
  },
  {
   "cell_type": "code",
   "execution_count": 25,
   "metadata": {},
   "outputs": [
    {
     "name": "stdout",
     "output_type": "stream",
     "text": [
      "<class 'pandas.core.frame.DataFrame'>\n",
      "RangeIndex: 5517 entries, 0 to 5516\n",
      "Data columns (total 8 columns):\n",
      "customerID          5517 non-null object\n",
      "InternetService     5517 non-null object\n",
      "OnlineSecurity      5517 non-null object\n",
      "OnlineBackup        5517 non-null object\n",
      "DeviceProtection    5517 non-null object\n",
      "TechSupport         5517 non-null object\n",
      "StreamingTV         5517 non-null object\n",
      "StreamingMovies     5517 non-null object\n",
      "dtypes: object(8)\n",
      "memory usage: 344.9+ KB\n"
     ]
    }
   ],
   "source": [
    "df_internet.info()"
   ]
  },
  {
   "cell_type": "code",
   "execution_count": 26,
   "metadata": {},
   "outputs": [
    {
     "data": {
      "text/html": [
       "<div>\n",
       "<style scoped>\n",
       "    .dataframe tbody tr th:only-of-type {\n",
       "        vertical-align: middle;\n",
       "    }\n",
       "\n",
       "    .dataframe tbody tr th {\n",
       "        vertical-align: top;\n",
       "    }\n",
       "\n",
       "    .dataframe thead th {\n",
       "        text-align: right;\n",
       "    }\n",
       "</style>\n",
       "<table border=\"1\" class=\"dataframe\">\n",
       "  <thead>\n",
       "    <tr style=\"text-align: right;\">\n",
       "      <th></th>\n",
       "      <th>customerID</th>\n",
       "      <th>InternetService</th>\n",
       "      <th>OnlineSecurity</th>\n",
       "      <th>OnlineBackup</th>\n",
       "      <th>DeviceProtection</th>\n",
       "      <th>TechSupport</th>\n",
       "      <th>StreamingTV</th>\n",
       "      <th>StreamingMovies</th>\n",
       "    </tr>\n",
       "  </thead>\n",
       "  <tbody>\n",
       "    <tr>\n",
       "      <td>0</td>\n",
       "      <td>7590-VHVEG</td>\n",
       "      <td>DSL</td>\n",
       "      <td>No</td>\n",
       "      <td>Yes</td>\n",
       "      <td>No</td>\n",
       "      <td>No</td>\n",
       "      <td>No</td>\n",
       "      <td>No</td>\n",
       "    </tr>\n",
       "    <tr>\n",
       "      <td>1</td>\n",
       "      <td>5575-GNVDE</td>\n",
       "      <td>DSL</td>\n",
       "      <td>Yes</td>\n",
       "      <td>No</td>\n",
       "      <td>Yes</td>\n",
       "      <td>No</td>\n",
       "      <td>No</td>\n",
       "      <td>No</td>\n",
       "    </tr>\n",
       "    <tr>\n",
       "      <td>2</td>\n",
       "      <td>3668-QPYBK</td>\n",
       "      <td>DSL</td>\n",
       "      <td>Yes</td>\n",
       "      <td>Yes</td>\n",
       "      <td>No</td>\n",
       "      <td>No</td>\n",
       "      <td>No</td>\n",
       "      <td>No</td>\n",
       "    </tr>\n",
       "    <tr>\n",
       "      <td>3</td>\n",
       "      <td>7795-CFOCW</td>\n",
       "      <td>DSL</td>\n",
       "      <td>Yes</td>\n",
       "      <td>No</td>\n",
       "      <td>Yes</td>\n",
       "      <td>Yes</td>\n",
       "      <td>No</td>\n",
       "      <td>No</td>\n",
       "    </tr>\n",
       "    <tr>\n",
       "      <td>4</td>\n",
       "      <td>9237-HQITU</td>\n",
       "      <td>Fiber optic</td>\n",
       "      <td>No</td>\n",
       "      <td>No</td>\n",
       "      <td>No</td>\n",
       "      <td>No</td>\n",
       "      <td>No</td>\n",
       "      <td>No</td>\n",
       "    </tr>\n",
       "  </tbody>\n",
       "</table>\n",
       "</div>"
      ],
      "text/plain": [
       "   customerID InternetService OnlineSecurity OnlineBackup DeviceProtection  \\\n",
       "0  7590-VHVEG             DSL             No          Yes               No   \n",
       "1  5575-GNVDE             DSL            Yes           No              Yes   \n",
       "2  3668-QPYBK             DSL            Yes          Yes               No   \n",
       "3  7795-CFOCW             DSL            Yes           No              Yes   \n",
       "4  9237-HQITU     Fiber optic             No           No               No   \n",
       "\n",
       "  TechSupport StreamingTV StreamingMovies  \n",
       "0          No          No              No  \n",
       "1          No          No              No  \n",
       "2          No          No              No  \n",
       "3         Yes          No              No  \n",
       "4          No          No              No  "
      ]
     },
     "execution_count": 26,
     "metadata": {},
     "output_type": "execute_result"
    }
   ],
   "source": [
    "df_internet.head()"
   ]
  },
  {
   "cell_type": "code",
   "execution_count": 27,
   "metadata": {},
   "outputs": [],
   "source": [
    "df_internet.columns = ['customer_id','internet_service','online_security', 'online_backup', \n",
    "                       'device_protection', 'tech_support', 'streaming_tv', 'streaming_movies']"
   ]
  },
  {
   "cell_type": "markdown",
   "metadata": {},
   "source": [
    "`customer_id` - идентификатор клиента. Снова оценим наличие дубликатов."
   ]
  },
  {
   "cell_type": "code",
   "execution_count": 28,
   "metadata": {},
   "outputs": [
    {
     "data": {
      "text/plain": [
       "5996-EBTKM    1\n",
       "6362-QHAFM    1\n",
       "2344-JMOGN    1\n",
       "6614-VBEGU    1\n",
       "5233-GEEAX    1\n",
       "Name: customer_id, dtype: int64"
      ]
     },
     "execution_count": 28,
     "metadata": {},
     "output_type": "execute_result"
    }
   ],
   "source": [
    "df_internet['customer_id'].value_counts(ascending = False).head()"
   ]
  },
  {
   "cell_type": "markdown",
   "metadata": {},
   "source": [
    "И опять таковые отсутствуют."
   ]
  },
  {
   "cell_type": "markdown",
   "metadata": {},
   "source": [
    "`internet_service` - тип подключения интернета у клиента."
   ]
  },
  {
   "cell_type": "code",
   "execution_count": 29,
   "metadata": {},
   "outputs": [
    {
     "data": {
      "text/plain": [
       "Fiber optic    56.117455\n",
       "DSL            43.882545\n",
       "Name: internet_service, dtype: float64"
      ]
     },
     "execution_count": 29,
     "metadata": {},
     "output_type": "execute_result"
    }
   ],
   "source": [
    "df_internet['internet_service'].value_counts(normalize = True) * 100"
   ]
  },
  {
   "cell_type": "markdown",
   "metadata": {},
   "source": [
    "Fiber optic - имеет небольшое преимущество."
   ]
  },
  {
   "cell_type": "markdown",
   "metadata": {},
   "source": [
    "`online_security` - использует ли клиент опцию блокировки небезопасных сайтов."
   ]
  },
  {
   "cell_type": "code",
   "execution_count": 30,
   "metadata": {},
   "outputs": [
    {
     "data": {
      "text/plain": [
       "No     63.404024\n",
       "Yes    36.595976\n",
       "Name: online_security, dtype: float64"
      ]
     },
     "execution_count": 30,
     "metadata": {},
     "output_type": "execute_result"
    }
   ],
   "source": [
    "df_internet['online_security'].value_counts(normalize = True) * 100"
   ]
  },
  {
   "cell_type": "markdown",
   "metadata": {},
   "source": [
    "2/3 клиентов предпочитают обходиться без данной опции."
   ]
  },
  {
   "cell_type": "markdown",
   "metadata": {},
   "source": [
    "`online_backup` - использует ли клиент облачное хранилище файлов для резервного копирования данных."
   ]
  },
  {
   "cell_type": "code",
   "execution_count": 31,
   "metadata": {},
   "outputs": [
    {
     "data": {
      "text/plain": [
       "No     55.972449\n",
       "Yes    44.027551\n",
       "Name: online_backup, dtype: float64"
      ]
     },
     "execution_count": 31,
     "metadata": {},
     "output_type": "execute_result"
    }
   ],
   "source": [
    "df_internet['online_backup'].value_counts(normalize = True) * 100"
   ]
  },
  {
   "cell_type": "markdown",
   "metadata": {},
   "source": [
    "Больше -  нет, чем - да."
   ]
  },
  {
   "cell_type": "markdown",
   "metadata": {},
   "source": [
    "`device_protection` - использует ли клиент антивирус."
   ]
  },
  {
   "cell_type": "code",
   "execution_count": 32,
   "metadata": {},
   "outputs": [
    {
     "data": {
      "text/plain": [
       "No     56.099329\n",
       "Yes    43.900671\n",
       "Name: device_protection, dtype: float64"
      ]
     },
     "execution_count": 32,
     "metadata": {},
     "output_type": "execute_result"
    }
   ],
   "source": [
    "df_internet['device_protection'].value_counts(normalize = True) * 100"
   ]
  },
  {
   "cell_type": "markdown",
   "metadata": {},
   "source": [
    "Чуть меньше половины антивирус всё таки используют."
   ]
  },
  {
   "cell_type": "markdown",
   "metadata": {},
   "source": [
    "`tech_support`- использует ли клиент опцию выделенной линии технической поддержки."
   ]
  },
  {
   "cell_type": "code",
   "execution_count": 33,
   "metadata": {},
   "outputs": [
    {
     "data": {
      "text/plain": [
       "No     62.950879\n",
       "Yes    37.049121\n",
       "Name: tech_support, dtype: float64"
      ]
     },
     "execution_count": 33,
     "metadata": {},
     "output_type": "execute_result"
    }
   ],
   "source": [
    "df_internet['tech_support'].value_counts(normalize = True) * 100"
   ]
  },
  {
   "cell_type": "markdown",
   "metadata": {},
   "source": [
    "Большая часть клиентов в выделенной линии технической поддержки не нуждаются."
   ]
  },
  {
   "cell_type": "markdown",
   "metadata": {},
   "source": [
    "`streaming_tv` - использует ли клиент опцию стримингового телевидения."
   ]
  },
  {
   "cell_type": "code",
   "execution_count": 34,
   "metadata": {},
   "outputs": [
    {
     "data": {
      "text/plain": [
       "No     50.933478\n",
       "Yes    49.066522\n",
       "Name: streaming_tv, dtype: float64"
      ]
     },
     "execution_count": 34,
     "metadata": {},
     "output_type": "execute_result"
    }
   ],
   "source": [
    "df_internet['streaming_tv'].value_counts(normalize = True) * 100"
   ]
  },
  {
   "cell_type": "markdown",
   "metadata": {},
   "source": [
    "Для половины пользователей лишняя опция."
   ]
  },
  {
   "cell_type": "markdown",
   "metadata": {},
   "source": [
    "`streaming_movies` - использует ли клиент каталог фильмов."
   ]
  },
  {
   "cell_type": "code",
   "execution_count": 35,
   "metadata": {},
   "outputs": [
    {
     "data": {
      "text/plain": [
       "No     50.480334\n",
       "Yes    49.519666\n",
       "Name: streaming_movies, dtype: float64"
      ]
     },
     "execution_count": 35,
     "metadata": {},
     "output_type": "execute_result"
    }
   ],
   "source": [
    "df_internet['streaming_movies'].value_counts(normalize = True) * 100"
   ]
  },
  {
   "cell_type": "markdown",
   "metadata": {},
   "source": [
    "И снова, только 50% интересен каталог фильмов."
   ]
  },
  {
   "cell_type": "markdown",
   "metadata": {},
   "source": [
    "*Информация об услугах телефонии*"
   ]
  },
  {
   "cell_type": "code",
   "execution_count": 36,
   "metadata": {},
   "outputs": [],
   "source": [
    "df_phone = pd.read_csv('/datasets/final_provider/phone.csv')"
   ]
  },
  {
   "cell_type": "code",
   "execution_count": 37,
   "metadata": {},
   "outputs": [
    {
     "data": {
      "text/html": [
       "<div>\n",
       "<style scoped>\n",
       "    .dataframe tbody tr th:only-of-type {\n",
       "        vertical-align: middle;\n",
       "    }\n",
       "\n",
       "    .dataframe tbody tr th {\n",
       "        vertical-align: top;\n",
       "    }\n",
       "\n",
       "    .dataframe thead th {\n",
       "        text-align: right;\n",
       "    }\n",
       "</style>\n",
       "<table border=\"1\" class=\"dataframe\">\n",
       "  <thead>\n",
       "    <tr style=\"text-align: right;\">\n",
       "      <th></th>\n",
       "      <th>customerID</th>\n",
       "      <th>MultipleLines</th>\n",
       "    </tr>\n",
       "  </thead>\n",
       "  <tbody>\n",
       "    <tr>\n",
       "      <td>0</td>\n",
       "      <td>5575-GNVDE</td>\n",
       "      <td>No</td>\n",
       "    </tr>\n",
       "    <tr>\n",
       "      <td>1</td>\n",
       "      <td>3668-QPYBK</td>\n",
       "      <td>No</td>\n",
       "    </tr>\n",
       "    <tr>\n",
       "      <td>2</td>\n",
       "      <td>9237-HQITU</td>\n",
       "      <td>No</td>\n",
       "    </tr>\n",
       "    <tr>\n",
       "      <td>3</td>\n",
       "      <td>9305-CDSKC</td>\n",
       "      <td>Yes</td>\n",
       "    </tr>\n",
       "    <tr>\n",
       "      <td>4</td>\n",
       "      <td>1452-KIOVK</td>\n",
       "      <td>Yes</td>\n",
       "    </tr>\n",
       "  </tbody>\n",
       "</table>\n",
       "</div>"
      ],
      "text/plain": [
       "   customerID MultipleLines\n",
       "0  5575-GNVDE            No\n",
       "1  3668-QPYBK            No\n",
       "2  9237-HQITU            No\n",
       "3  9305-CDSKC           Yes\n",
       "4  1452-KIOVK           Yes"
      ]
     },
     "execution_count": 37,
     "metadata": {},
     "output_type": "execute_result"
    }
   ],
   "source": [
    "df_phone.head()"
   ]
  },
  {
   "cell_type": "code",
   "execution_count": 38,
   "metadata": {},
   "outputs": [
    {
     "name": "stdout",
     "output_type": "stream",
     "text": [
      "<class 'pandas.core.frame.DataFrame'>\n",
      "RangeIndex: 6361 entries, 0 to 6360\n",
      "Data columns (total 2 columns):\n",
      "customerID       6361 non-null object\n",
      "MultipleLines    6361 non-null object\n",
      "dtypes: object(2)\n",
      "memory usage: 99.5+ KB\n"
     ]
    }
   ],
   "source": [
    "df_phone.info()"
   ]
  },
  {
   "cell_type": "code",
   "execution_count": 39,
   "metadata": {},
   "outputs": [],
   "source": [
    "df_phone.columns = ['customer_id','multiple_lines']"
   ]
  },
  {
   "cell_type": "markdown",
   "metadata": {},
   "source": [
    "`customer_id` - идентификатор клиента."
   ]
  },
  {
   "cell_type": "code",
   "execution_count": 40,
   "metadata": {},
   "outputs": [
    {
     "data": {
      "text/plain": [
       "2277-AXSDC    1\n",
       "5419-KLXBN    1\n",
       "2495-TTHBQ    1\n",
       "6328-ZPBGN    1\n",
       "2351-BKRZW    1\n",
       "Name: customer_id, dtype: int64"
      ]
     },
     "execution_count": 40,
     "metadata": {},
     "output_type": "execute_result"
    }
   ],
   "source": [
    "df_phone['customer_id'].value_counts(ascending = False).head()"
   ]
  },
  {
   "cell_type": "markdown",
   "metadata": {},
   "source": [
    "И здесь также без дубликатов."
   ]
  },
  {
   "cell_type": "markdown",
   "metadata": {},
   "source": [
    "`multiple_lines` - пользуется ли клиент услугой подключения нескольких линий одновременно."
   ]
  },
  {
   "cell_type": "code",
   "execution_count": 41,
   "metadata": {},
   "outputs": [
    {
     "data": {
      "text/plain": [
       "No     53.293507\n",
       "Yes    46.706493\n",
       "Name: multiple_lines, dtype: float64"
      ]
     },
     "execution_count": 41,
     "metadata": {},
     "output_type": "execute_result"
    }
   ],
   "source": [
    "df_phone['multiple_lines'].value_counts(normalize = True) * 100"
   ]
  },
  {
   "cell_type": "markdown",
   "metadata": {},
   "source": [
    "**Вывод**"
   ]
  },
  {
   "cell_type": "markdown",
   "metadata": {},
   "source": [
    "На данном этапе был проведён первичный анализ имеющихся в нашем распоряжении данных. Названия столбцов и тип данных в случае с `monthly_charges` были приведен к рабочему виду. Составлен план действий, для решения поставленной задачи."
   ]
  },
  {
   "cell_type": "markdown",
   "metadata": {},
   "source": [
    "**План**"
   ]
  },
  {
   "cell_type": "markdown",
   "metadata": {},
   "source": [
    "1. **Подготовка данных**: объединим имеющиеся таблицы в один фрейм по столбцу `customer_id`. Создадим новые признаки, удалив при этом лишние. С помощью техники `Ordinal Encoding` произведём перевод текстовых значений в числовую форму. \n",
    "2. **Анализ и разделение данных на выборки**: проанализируем целевой признак на предмет дисбаланса классов. В случае наличия такового, подберем оптимальную технику для решения этой проблемы. Разделим фрейм на выборки. \n",
    "3. **Построение модели и выбор наилучшей**: построим несколько классификаторов разных видов. Подберём гиперпараметры для получения необходимо значения метрики `ROC-AUC`. Также выведим значения `accuracy`.\n",
    "4. **Вывод**: опишем полученные результаты."
   ]
  },
  {
   "cell_type": "markdown",
   "metadata": {},
   "source": [
    "## Подготовка данных"
   ]
  },
  {
   "cell_type": "markdown",
   "metadata": {},
   "source": [
    "**Создание признаков**"
   ]
  },
  {
   "cell_type": "markdown",
   "metadata": {},
   "source": [
    "На основе данных признака `end_date` зададим целевой признак."
   ]
  },
  {
   "cell_type": "code",
   "execution_count": 42,
   "metadata": {},
   "outputs": [],
   "source": [
    "def make_target(data): \n",
    "    if data == 'No':\n",
    "        data = 0\n",
    "    else: \n",
    "        data = 1\n",
    "    return data"
   ]
  },
  {
   "cell_type": "code",
   "execution_count": 43,
   "metadata": {},
   "outputs": [],
   "source": [
    "df_contracts['exited'] = df_contracts['end_date'].apply(make_target)"
   ]
  },
  {
   "cell_type": "markdown",
   "metadata": {},
   "source": [
    "Далее создадим признак `customer_lifetime` - время жизни клиента."
   ]
  },
  {
   "cell_type": "markdown",
   "metadata": {},
   "source": [
    "Для этого в первую очередь заменим в столбце `end_date` все значения `No`, на дату выгрузки данных `01.02.2020`."
   ]
  },
  {
   "cell_type": "code",
   "execution_count": 44,
   "metadata": {},
   "outputs": [],
   "source": [
    "df_contracts['end_date'].replace('No','2020-02-01', inplace = True)"
   ]
  },
  {
   "cell_type": "markdown",
   "metadata": {},
   "source": [
    "Далее для признаков `begin_date` и `end_date` изменим формат данных на `datetime`."
   ]
  },
  {
   "cell_type": "code",
   "execution_count": 45,
   "metadata": {},
   "outputs": [],
   "source": [
    "df_contracts['begin_date'] = pd.to_datetime(df_contracts['begin_date'])"
   ]
  },
  {
   "cell_type": "code",
   "execution_count": 46,
   "metadata": {},
   "outputs": [],
   "source": [
    "df_contracts['end_date'] = pd.to_datetime(df_contracts['end_date'])"
   ]
  },
  {
   "cell_type": "markdown",
   "metadata": {},
   "source": [
    "Теперь посчитаем разницу между этими признаками и приведём данные к соответствующему формату в четырёх вариантах: дни, недели, месяцы, годы."
   ]
  },
  {
   "cell_type": "code",
   "execution_count": 47,
   "metadata": {},
   "outputs": [],
   "source": [
    "df_contracts['customer_lifetime_days'] = (df_contracts['end_date'] \n",
    "                                          - df_contracts['begin_date']).dt.days"
   ]
  },
  {
   "cell_type": "code",
   "execution_count": 48,
   "metadata": {},
   "outputs": [],
   "source": [
    "df_contracts['customer_lifetime_weeks'] = ((df_contracts['end_date'] - df_contracts['begin_date']) \n",
    "                                            / np.timedelta64(1, 'W'))"
   ]
  },
  {
   "cell_type": "code",
   "execution_count": 49,
   "metadata": {},
   "outputs": [],
   "source": [
    "df_contracts['customer_lifetime_months'] = ((df_contracts['end_date'] - df_contracts['begin_date']) \n",
    "                                            / np.timedelta64(1, 'M'))"
   ]
  },
  {
   "cell_type": "code",
   "execution_count": 50,
   "metadata": {},
   "outputs": [],
   "source": [
    "df_contracts['customer_lifetime_years'] = ((df_contracts['end_date'] - df_contracts['begin_date'])\n",
    "                                              / np.timedelta64(1, 'Y'))"
   ]
  },
  {
   "cell_type": "markdown",
   "metadata": {},
   "source": [
    "Прежде чем приступить к дальнейшим расчётам, удалим признаки `begin_date` и `end_date`."
   ]
  },
  {
   "cell_type": "code",
   "execution_count": 51,
   "metadata": {},
   "outputs": [],
   "source": [
    "df_contracts.drop(columns=['begin_date', 'end_date'], inplace = True)"
   ]
  },
  {
   "cell_type": "markdown",
   "metadata": {},
   "source": [
    "Далее создадим признаки отражающие прибыль, которую приносит клиент в единицу времени. За единицу времени будут взяты величины рассчитанные выше. "
   ]
  },
  {
   "cell_type": "code",
   "execution_count": 52,
   "metadata": {},
   "outputs": [],
   "source": [
    "df_contracts['total_per_day'] = (df_contracts['total_charges'] \n",
    "                                 / df_contracts['customer_lifetime_days'])"
   ]
  },
  {
   "cell_type": "code",
   "execution_count": 53,
   "metadata": {},
   "outputs": [],
   "source": [
    "df_contracts['total_per_week'] = (df_contracts['total_charges'] \n",
    "                                  / df_contracts['customer_lifetime_weeks'])"
   ]
  },
  {
   "cell_type": "code",
   "execution_count": 54,
   "metadata": {},
   "outputs": [],
   "source": [
    "df_contracts['total_per_month'] = (df_contracts['total_charges'] \n",
    "                                   / df_contracts['customer_lifetime_months'])"
   ]
  },
  {
   "cell_type": "code",
   "execution_count": 55,
   "metadata": {},
   "outputs": [],
   "source": [
    "df_contracts['total_per_year'] = (df_contracts['total_charges'] \n",
    "                                  / df_contracts['customer_lifetime_years'])"
   ]
  },
  {
   "cell_type": "markdown",
   "metadata": {},
   "source": [
    "**Объединение таблиц и кодирование категориальных признаков**"
   ]
  },
  {
   "cell_type": "markdown",
   "metadata": {},
   "source": [
    "Объединим имеющиеся в нашем распоряжении таблицы в единый фрейм."
   ]
  },
  {
   "cell_type": "code",
   "execution_count": 56,
   "metadata": {},
   "outputs": [],
   "source": [
    "df = pd.merge(df_contracts, df_personal, how='left')"
   ]
  },
  {
   "cell_type": "code",
   "execution_count": 57,
   "metadata": {},
   "outputs": [],
   "source": [
    "df = pd.merge(df, df_internet, how='left')"
   ]
  },
  {
   "cell_type": "code",
   "execution_count": 58,
   "metadata": {},
   "outputs": [],
   "source": [
    "df = pd.merge(df, df_phone, how='left')"
   ]
  },
  {
   "cell_type": "code",
   "execution_count": 59,
   "metadata": {
    "scrolled": true
   },
   "outputs": [
    {
     "data": {
      "text/plain": [
       "customer_id                    0\n",
       "type                           0\n",
       "paperless_billing              0\n",
       "payment_method                 0\n",
       "monthly_charges                0\n",
       "total_charges                  0\n",
       "exited                         0\n",
       "customer_lifetime_days         0\n",
       "customer_lifetime_weeks        0\n",
       "customer_lifetime_months       0\n",
       "customer_lifetime_years        0\n",
       "total_per_day                  0\n",
       "total_per_week                 0\n",
       "total_per_month                0\n",
       "total_per_year                 0\n",
       "gender                         0\n",
       "senior_citizen                 0\n",
       "partner                        0\n",
       "dependents                     0\n",
       "internet_service            1520\n",
       "online_security             1520\n",
       "online_backup               1520\n",
       "device_protection           1520\n",
       "tech_support                1520\n",
       "streaming_tv                1520\n",
       "streaming_movies            1520\n",
       "multiple_lines               680\n",
       "dtype: int64"
      ]
     },
     "execution_count": 59,
     "metadata": {},
     "output_type": "execute_result"
    }
   ],
   "source": [
    "df.isnull().sum()"
   ]
  },
  {
   "cell_type": "markdown",
   "metadata": {},
   "source": [
    "Исходя из размеров объединяемых таблиц ожидаемо получили пропуски в общем датафрейме. Пропуски при применении техники `Ordinal Encoding` заменим на ещё одну категорию."
   ]
  },
  {
   "cell_type": "code",
   "execution_count": 60,
   "metadata": {},
   "outputs": [],
   "source": [
    "columns_enc = ['type','paperless_billing','payment_method','partner','dependents', 'internet_service', 'gender',\n",
    "                'online_security', 'online_backup', 'device_protection', 'tech_support', 'streaming_tv', 'streaming_movies',\n",
    "              'multiple_lines']"
   ]
  },
  {
   "cell_type": "code",
   "execution_count": 61,
   "metadata": {},
   "outputs": [],
   "source": [
    "df.fillna(value = 'No', inplace = True)"
   ]
  },
  {
   "cell_type": "code",
   "execution_count": 62,
   "metadata": {},
   "outputs": [],
   "source": [
    "encoder = OrdinalEncoder()"
   ]
  },
  {
   "cell_type": "code",
   "execution_count": 63,
   "metadata": {},
   "outputs": [],
   "source": [
    "df_enc = pd.DataFrame(encoder.fit_transform(df[columns_enc]), columns=columns_enc)"
   ]
  },
  {
   "cell_type": "code",
   "execution_count": 64,
   "metadata": {},
   "outputs": [],
   "source": [
    "df.drop(columns_enc, axis = 1, inplace = True)"
   ]
  },
  {
   "cell_type": "code",
   "execution_count": 65,
   "metadata": {},
   "outputs": [],
   "source": [
    "df = df.join(df_enc)"
   ]
  },
  {
   "cell_type": "markdown",
   "metadata": {},
   "source": [
    "Проверим полученный результат."
   ]
  },
  {
   "cell_type": "code",
   "execution_count": 66,
   "metadata": {},
   "outputs": [
    {
     "data": {
      "text/html": [
       "<div>\n",
       "<style scoped>\n",
       "    .dataframe tbody tr th:only-of-type {\n",
       "        vertical-align: middle;\n",
       "    }\n",
       "\n",
       "    .dataframe tbody tr th {\n",
       "        vertical-align: top;\n",
       "    }\n",
       "\n",
       "    .dataframe thead th {\n",
       "        text-align: right;\n",
       "    }\n",
       "</style>\n",
       "<table border=\"1\" class=\"dataframe\">\n",
       "  <thead>\n",
       "    <tr style=\"text-align: right;\">\n",
       "      <th></th>\n",
       "      <th>customer_id</th>\n",
       "      <th>monthly_charges</th>\n",
       "      <th>total_charges</th>\n",
       "      <th>exited</th>\n",
       "      <th>customer_lifetime_days</th>\n",
       "      <th>customer_lifetime_weeks</th>\n",
       "      <th>customer_lifetime_months</th>\n",
       "      <th>customer_lifetime_years</th>\n",
       "      <th>total_per_day</th>\n",
       "      <th>total_per_week</th>\n",
       "      <th>...</th>\n",
       "      <th>dependents</th>\n",
       "      <th>internet_service</th>\n",
       "      <th>gender</th>\n",
       "      <th>online_security</th>\n",
       "      <th>online_backup</th>\n",
       "      <th>device_protection</th>\n",
       "      <th>tech_support</th>\n",
       "      <th>streaming_tv</th>\n",
       "      <th>streaming_movies</th>\n",
       "      <th>multiple_lines</th>\n",
       "    </tr>\n",
       "  </thead>\n",
       "  <tbody>\n",
       "    <tr>\n",
       "      <td>0</td>\n",
       "      <td>7590-VHVEG</td>\n",
       "      <td>29.85</td>\n",
       "      <td>29.85</td>\n",
       "      <td>0</td>\n",
       "      <td>31</td>\n",
       "      <td>4.428571</td>\n",
       "      <td>1.018501</td>\n",
       "      <td>0.084875</td>\n",
       "      <td>0.962903</td>\n",
       "      <td>6.740323</td>\n",
       "      <td>...</td>\n",
       "      <td>0.0</td>\n",
       "      <td>0.0</td>\n",
       "      <td>0.0</td>\n",
       "      <td>0.0</td>\n",
       "      <td>1.0</td>\n",
       "      <td>0.0</td>\n",
       "      <td>0.0</td>\n",
       "      <td>0.0</td>\n",
       "      <td>0.0</td>\n",
       "      <td>0.0</td>\n",
       "    </tr>\n",
       "    <tr>\n",
       "      <td>1</td>\n",
       "      <td>5575-GNVDE</td>\n",
       "      <td>56.95</td>\n",
       "      <td>1889.50</td>\n",
       "      <td>0</td>\n",
       "      <td>1036</td>\n",
       "      <td>148.000000</td>\n",
       "      <td>34.037660</td>\n",
       "      <td>2.836472</td>\n",
       "      <td>1.823842</td>\n",
       "      <td>12.766892</td>\n",
       "      <td>...</td>\n",
       "      <td>0.0</td>\n",
       "      <td>0.0</td>\n",
       "      <td>1.0</td>\n",
       "      <td>1.0</td>\n",
       "      <td>0.0</td>\n",
       "      <td>1.0</td>\n",
       "      <td>0.0</td>\n",
       "      <td>0.0</td>\n",
       "      <td>0.0</td>\n",
       "      <td>0.0</td>\n",
       "    </tr>\n",
       "    <tr>\n",
       "      <td>2</td>\n",
       "      <td>3668-QPYBK</td>\n",
       "      <td>53.85</td>\n",
       "      <td>108.15</td>\n",
       "      <td>1</td>\n",
       "      <td>61</td>\n",
       "      <td>8.714286</td>\n",
       "      <td>2.004148</td>\n",
       "      <td>0.167012</td>\n",
       "      <td>1.772951</td>\n",
       "      <td>12.410656</td>\n",
       "      <td>...</td>\n",
       "      <td>0.0</td>\n",
       "      <td>0.0</td>\n",
       "      <td>1.0</td>\n",
       "      <td>1.0</td>\n",
       "      <td>1.0</td>\n",
       "      <td>0.0</td>\n",
       "      <td>0.0</td>\n",
       "      <td>0.0</td>\n",
       "      <td>0.0</td>\n",
       "      <td>0.0</td>\n",
       "    </tr>\n",
       "    <tr>\n",
       "      <td>3</td>\n",
       "      <td>7795-CFOCW</td>\n",
       "      <td>42.30</td>\n",
       "      <td>1840.75</td>\n",
       "      <td>0</td>\n",
       "      <td>1371</td>\n",
       "      <td>195.857143</td>\n",
       "      <td>45.044046</td>\n",
       "      <td>3.753671</td>\n",
       "      <td>1.342633</td>\n",
       "      <td>9.398432</td>\n",
       "      <td>...</td>\n",
       "      <td>0.0</td>\n",
       "      <td>0.0</td>\n",
       "      <td>1.0</td>\n",
       "      <td>1.0</td>\n",
       "      <td>0.0</td>\n",
       "      <td>1.0</td>\n",
       "      <td>1.0</td>\n",
       "      <td>0.0</td>\n",
       "      <td>0.0</td>\n",
       "      <td>0.0</td>\n",
       "    </tr>\n",
       "    <tr>\n",
       "      <td>4</td>\n",
       "      <td>9237-HQITU</td>\n",
       "      <td>70.70</td>\n",
       "      <td>151.65</td>\n",
       "      <td>1</td>\n",
       "      <td>61</td>\n",
       "      <td>8.714286</td>\n",
       "      <td>2.004148</td>\n",
       "      <td>0.167012</td>\n",
       "      <td>2.486066</td>\n",
       "      <td>17.402459</td>\n",
       "      <td>...</td>\n",
       "      <td>0.0</td>\n",
       "      <td>1.0</td>\n",
       "      <td>0.0</td>\n",
       "      <td>0.0</td>\n",
       "      <td>0.0</td>\n",
       "      <td>0.0</td>\n",
       "      <td>0.0</td>\n",
       "      <td>0.0</td>\n",
       "      <td>0.0</td>\n",
       "      <td>0.0</td>\n",
       "    </tr>\n",
       "  </tbody>\n",
       "</table>\n",
       "<p>5 rows × 27 columns</p>\n",
       "</div>"
      ],
      "text/plain": [
       "  customer_id  monthly_charges  total_charges  exited  customer_lifetime_days  \\\n",
       "0  7590-VHVEG            29.85          29.85       0                      31   \n",
       "1  5575-GNVDE            56.95        1889.50       0                    1036   \n",
       "2  3668-QPYBK            53.85         108.15       1                      61   \n",
       "3  7795-CFOCW            42.30        1840.75       0                    1371   \n",
       "4  9237-HQITU            70.70         151.65       1                      61   \n",
       "\n",
       "   customer_lifetime_weeks  customer_lifetime_months  customer_lifetime_years  \\\n",
       "0                 4.428571                  1.018501                 0.084875   \n",
       "1               148.000000                 34.037660                 2.836472   \n",
       "2                 8.714286                  2.004148                 0.167012   \n",
       "3               195.857143                 45.044046                 3.753671   \n",
       "4                 8.714286                  2.004148                 0.167012   \n",
       "\n",
       "   total_per_day  total_per_week  ...  dependents  internet_service  gender  \\\n",
       "0       0.962903        6.740323  ...         0.0               0.0     0.0   \n",
       "1       1.823842       12.766892  ...         0.0               0.0     1.0   \n",
       "2       1.772951       12.410656  ...         0.0               0.0     1.0   \n",
       "3       1.342633        9.398432  ...         0.0               0.0     1.0   \n",
       "4       2.486066       17.402459  ...         0.0               1.0     0.0   \n",
       "\n",
       "   online_security  online_backup  device_protection  tech_support  \\\n",
       "0              0.0            1.0                0.0           0.0   \n",
       "1              1.0            0.0                1.0           0.0   \n",
       "2              1.0            1.0                0.0           0.0   \n",
       "3              1.0            0.0                1.0           1.0   \n",
       "4              0.0            0.0                0.0           0.0   \n",
       "\n",
       "   streaming_tv  streaming_movies  multiple_lines  \n",
       "0           0.0               0.0             0.0  \n",
       "1           0.0               0.0             0.0  \n",
       "2           0.0               0.0             0.0  \n",
       "3           0.0               0.0             0.0  \n",
       "4           0.0               0.0             0.0  \n",
       "\n",
       "[5 rows x 27 columns]"
      ]
     },
     "execution_count": 66,
     "metadata": {},
     "output_type": "execute_result"
    }
   ],
   "source": [
    "df.head(5)"
   ]
  },
  {
   "cell_type": "code",
   "execution_count": 67,
   "metadata": {
    "scrolled": true
   },
   "outputs": [
    {
     "name": "stdout",
     "output_type": "stream",
     "text": [
      "<class 'pandas.core.frame.DataFrame'>\n",
      "Int64Index: 7032 entries, 0 to 7031\n",
      "Data columns (total 27 columns):\n",
      "customer_id                 7032 non-null object\n",
      "monthly_charges             7032 non-null float64\n",
      "total_charges               7032 non-null float64\n",
      "exited                      7032 non-null int64\n",
      "customer_lifetime_days      7032 non-null int64\n",
      "customer_lifetime_weeks     7032 non-null float64\n",
      "customer_lifetime_months    7032 non-null float64\n",
      "customer_lifetime_years     7032 non-null float64\n",
      "total_per_day               7032 non-null float64\n",
      "total_per_week              7032 non-null float64\n",
      "total_per_month             7032 non-null float64\n",
      "total_per_year              7032 non-null float64\n",
      "senior_citizen              7032 non-null int64\n",
      "type                        7032 non-null float64\n",
      "paperless_billing           7032 non-null float64\n",
      "payment_method              7032 non-null float64\n",
      "partner                     7032 non-null float64\n",
      "dependents                  7032 non-null float64\n",
      "internet_service            7032 non-null float64\n",
      "gender                      7032 non-null float64\n",
      "online_security             7032 non-null float64\n",
      "online_backup               7032 non-null float64\n",
      "device_protection           7032 non-null float64\n",
      "tech_support                7032 non-null float64\n",
      "streaming_tv                7032 non-null float64\n",
      "streaming_movies            7032 non-null float64\n",
      "multiple_lines              7032 non-null float64\n",
      "dtypes: float64(23), int64(3), object(1)\n",
      "memory usage: 1.8+ MB\n"
     ]
    }
   ],
   "source": [
    "df.info()"
   ]
  },
  {
   "cell_type": "markdown",
   "metadata": {},
   "source": [
    "Отлично. Всё в соответствии с задуманным."
   ]
  },
  {
   "cell_type": "markdown",
   "metadata": {},
   "source": [
    "Признак `customer_id` нам больше не нужен: таблицы объединены, а роль идентификатора теперь выполняет индекс."
   ]
  },
  {
   "cell_type": "code",
   "execution_count": 68,
   "metadata": {},
   "outputs": [],
   "source": [
    "df.drop(labels = 'customer_id', inplace = True, axis = 1)"
   ]
  },
  {
   "cell_type": "markdown",
   "metadata": {},
   "source": [
    "Перед тем как преступить к обучению моделей, проведём оценку количественных признаков на мультиколлинеарность, а также проведём анализ важности признаков."
   ]
  },
  {
   "cell_type": "markdown",
   "metadata": {},
   "source": [
    "Выделим из нашего фрейма количественные признаки."
   ]
  },
  {
   "cell_type": "code",
   "execution_count": 69,
   "metadata": {},
   "outputs": [],
   "source": [
    "df_quantitative = (df.loc[:,'monthly_charges':'total_per_year']\n",
    "                   .drop(labels = 'exited', axis = 1))"
   ]
  },
  {
   "cell_type": "code",
   "execution_count": 70,
   "metadata": {
    "scrolled": false
   },
   "outputs": [
    {
     "data": {
      "text/plain": [
       "<matplotlib.axes._subplots.AxesSubplot at 0x7f5c7bbad490>"
      ]
     },
     "execution_count": 70,
     "metadata": {},
     "output_type": "execute_result"
    },
    {
     "data": {
      "image/png": "[encoded data removed]",
      "text/plain": [
       "<Figure size 1152x432 with 2 Axes>"
      ]
     },
     "metadata": {
      "needs_background": "light"
     },
     "output_type": "display_data"
    }
   ],
   "source": [
    "plt.figure(figsize=(16, 6)) \n",
    "sns.heatmap(df_quantitative.corr(), vmin=-1, vmax=1, annot=True)\n"
   ]
  },
  {
   "cell_type": "markdown",
   "metadata": {},
   "source": [
    "Итак. Получаем, что все созданные до этого признаки отлично коррелируют не только друг с другом, но и другими двумя количественными признаками. Очевидно, предстоит убрать лишние признаки, но сделаем мы это не сейчас, а после анализа важности признаков, оствавив в итоге наиболее значимый. "
   ]
  },
  {
   "cell_type": "markdown",
   "metadata": {},
   "source": [
    "## Обучение модели"
   ]
  },
  {
   "cell_type": "markdown",
   "metadata": {},
   "source": [
    "Прежде чем переходить к обучению модели проанализируем наш целевой признак на предмет дисбаланса классов."
   ]
  },
  {
   "cell_type": "code",
   "execution_count": 71,
   "metadata": {},
   "outputs": [
    {
     "data": {
      "text/plain": [
       "0.26578498293515357"
      ]
     },
     "execution_count": 71,
     "metadata": {},
     "output_type": "execute_result"
    }
   ],
   "source": [
    "df['exited'].mean()"
   ]
  },
  {
   "cell_type": "markdown",
   "metadata": {},
   "source": [
    "Ситуация далека от идеальной, поэтому при построении моделей произведём взвешивание весов, указав гиперпараметр `class_weight = 'balanced'`. "
   ]
  },
  {
   "cell_type": "markdown",
   "metadata": {},
   "source": [
    "Создадим обучающую, валидационную и тестовую выборки в пропорции 60% / 20% / 20%."
   ]
  },
  {
   "cell_type": "code",
   "execution_count": 72,
   "metadata": {},
   "outputs": [],
   "source": [
    "df_train, df_other = train_test_split(df, test_size = 0.40, random_state = 12345)"
   ]
  },
  {
   "cell_type": "code",
   "execution_count": 73,
   "metadata": {},
   "outputs": [],
   "source": [
    "df_valid, df_test = train_test_split(df_other, test_size = 0.50, random_state = 12345)"
   ]
  },
  {
   "cell_type": "code",
   "execution_count": 74,
   "metadata": {},
   "outputs": [],
   "source": [
    "features_train = df_train.drop(['exited'], axis=1)\n",
    "target_train = df_train['exited']"
   ]
  },
  {
   "cell_type": "code",
   "execution_count": 75,
   "metadata": {},
   "outputs": [
    {
     "data": {
      "text/plain": [
       "(4219, 25)"
      ]
     },
     "execution_count": 75,
     "metadata": {},
     "output_type": "execute_result"
    }
   ],
   "source": [
    "features_train.shape"
   ]
  },
  {
   "cell_type": "code",
   "execution_count": 76,
   "metadata": {},
   "outputs": [],
   "source": [
    "features_valid = df_valid.drop(['exited'], axis=1)\n",
    "target_valid = df_valid['exited']"
   ]
  },
  {
   "cell_type": "code",
   "execution_count": 77,
   "metadata": {},
   "outputs": [
    {
     "data": {
      "text/plain": [
       "(1406, 25)"
      ]
     },
     "execution_count": 77,
     "metadata": {},
     "output_type": "execute_result"
    }
   ],
   "source": [
    "features_valid.shape"
   ]
  },
  {
   "cell_type": "code",
   "execution_count": 78,
   "metadata": {},
   "outputs": [],
   "source": [
    "features_test = df_test.drop(['exited'], axis=1)\n",
    "target_test = df_test['exited']"
   ]
  },
  {
   "cell_type": "code",
   "execution_count": 79,
   "metadata": {
    "scrolled": true
   },
   "outputs": [
    {
     "data": {
      "text/plain": [
       "(1407, 25)"
      ]
     },
     "execution_count": 79,
     "metadata": {},
     "output_type": "execute_result"
    }
   ],
   "source": [
    "features_test.shape"
   ]
  },
  {
   "cell_type": "markdown",
   "metadata": {},
   "source": [
    "Перейдём к обучению моделей."
   ]
  },
  {
   "cell_type": "markdown",
   "metadata": {},
   "source": [
    "**DecisionTreeClassifier**"
   ]
  },
  {
   "cell_type": "code",
   "execution_count": 80,
   "metadata": {},
   "outputs": [
    {
     "name": "stdout",
     "output_type": "stream",
     "text": [
      "Best_depth =  5\n",
      "Accuracy =  0.7837837837837838\n",
      "AUC-ROC =  0.8491206437965988\n"
     ]
    }
   ],
   "source": [
    "best_model = None\n",
    "best_result_roc_auc_tree = 0\n",
    "\n",
    "for depth in range(1,30): \n",
    "    \n",
    "    model = DecisionTreeClassifier(random_state=12345\n",
    "                                   , max_depth= depth\n",
    "                                   , class_weight = 'balanced' )\n",
    "    model.fit(features_train,target_train)\n",
    "    predictions_valid = model.predict(features_valid)\n",
    "    accuracy = accuracy_score(target_valid, predictions_valid)\n",
    "    \n",
    "    probabilities_valid = model.predict_proba(features_valid)\n",
    "    probabilities_one_valid = probabilities_valid[:, 1]\n",
    "    result_roc_auc = roc_auc_score(target_valid, probabilities_one_valid)\n",
    "    \n",
    "    if result_roc_auc > best_result_roc_auc_tree:\n",
    "        best_model = model \n",
    "        best_depth = depth\n",
    "        best_accuracy_tree = accuracy\n",
    "        best_result_roc_auc_tree = result_roc_auc\n",
    "\n",
    "print(\"Best_depth = \", best_depth)    \n",
    "print(\"Accuracy = \", best_accuracy_tree)\n",
    "print(\"AUC-ROC = \", best_result_roc_auc_tree) "
   ]
  },
  {
   "cell_type": "markdown",
   "metadata": {},
   "source": [
    "**RandomForestClassifier**"
   ]
  },
  {
   "cell_type": "code",
   "execution_count": 81,
   "metadata": {},
   "outputs": [
    {
     "name": "stdout",
     "output_type": "stream",
     "text": [
      "Best_est =  180\n",
      "Accuracy =  0.8392603129445235\n",
      "AUC-ROC =  0.8828445694060484\n"
     ]
    }
   ],
   "source": [
    "best_model = None\n",
    "best_result_roc_auc_forest = 0\n",
    "\n",
    "for est in range(10, 200, 10): \n",
    "    \n",
    "    model = RandomForestClassifier(random_state=12345,\n",
    "                                    n_estimators= est,\n",
    "                                    class_weight = 'balanced',\n",
    "                                    criterion = 'entropy')\n",
    "    model.fit(features_train,target_train)\n",
    "    predictions_valid = model.predict(features_valid)\n",
    "    accuracy = accuracy_score(target_valid, predictions_valid)\n",
    "    \n",
    "    probabilities_valid = model.predict_proba(features_valid)\n",
    "    probabilities_one_valid = probabilities_valid[:, 1]\n",
    "    result_roc_auc = roc_auc_score(target_valid, probabilities_one_valid)\n",
    "    \n",
    "    if result_roc_auc > best_result_roc_auc_forest:\n",
    "        best_model = model \n",
    "        best_est = est\n",
    "        best_accuracy_forest = accuracy\n",
    "        best_result_roc_auc_forest = result_roc_auc\n",
    "\n",
    "print(\"Best_est = \", best_est)    \n",
    "print(\"Accuracy = \", best_accuracy_forest)\n",
    "print(\"AUC-ROC = \", best_result_roc_auc_forest) "
   ]
  },
  {
   "cell_type": "markdown",
   "metadata": {},
   "source": [
    "**LogisticRegression**"
   ]
  },
  {
   "cell_type": "code",
   "execution_count": 82,
   "metadata": {
    "scrolled": true
   },
   "outputs": [
    {
     "name": "stdout",
     "output_type": "stream",
     "text": [
      "Best_C =  0.2\n",
      "Best_tol =  8e-05\n",
      "Accuracy =  0.7290184921763869\n",
      "AUC-ROC =  0.8529388665493842\n"
     ]
    }
   ],
   "source": [
    "best_model = None\n",
    "best_result_roc_auc_log_reg = 0\n",
    "\n",
    "for c in np.arange(0.1, 1.0, 0.1):\n",
    "    for tol in np.arange(0.00002, 0.00042, 0.00002):\n",
    "        model = LogisticRegression(random_state=12345,\n",
    "                                    C = c,\n",
    "                                    tol = tol,\n",
    "                                    class_weight = 'balanced',\n",
    "                                    solver = 'liblinear')\n",
    "        \n",
    "        model.fit(features_train,target_train)\n",
    "        predictions_valid = model.predict(features_valid)\n",
    "        accuracy = accuracy_score(target_valid, predictions_valid)\n",
    "    \n",
    "        probabilities_valid = model.predict_proba(features_valid)\n",
    "        probabilities_one_valid = probabilities_valid[:, 1]\n",
    "        result_roc_auc = roc_auc_score(target_valid, probabilities_one_valid)\n",
    "\n",
    "        if result_roc_auc > best_result_roc_auc_log_reg:\n",
    "            best_model = model \n",
    "            best_c = c\n",
    "            best_tol = tol\n",
    "            best_accuracy_log_reg = accuracy\n",
    "            best_result_roc_auc_log_reg = result_roc_auc \n",
    "                            \n",
    "print(\"Best_C = \", best_c)\n",
    "print(\"Best_tol = \", best_tol)\n",
    "print(\"Accuracy = \", best_accuracy_log_reg)\n",
    "print(\"AUC-ROC = \", best_result_roc_auc_log_reg) "
   ]
  },
  {
   "cell_type": "markdown",
   "metadata": {},
   "source": [
    "**LGBMClassifier**"
   ]
  },
  {
   "cell_type": "code",
   "execution_count": 83,
   "metadata": {},
   "outputs": [
    {
     "name": "stdout",
     "output_type": "stream",
     "text": [
      "Best_n_estimators =  250\n",
      "Accuracy =  0.8520625889046942\n",
      "AUC-ROC =  0.9100642958867388\n"
     ]
    }
   ],
   "source": [
    "best_model_lgbm = None\n",
    "best_result_roc_auc_lgbm = 0\n",
    "\n",
    "for n in range(100,501,50):\n",
    "    model = LGBMClassifier(random_state=12345,\n",
    "                           n_estimators = n,\n",
    "                           class_weight = 'balanced')\n",
    "        \n",
    "    model.fit(features_train,target_train)\n",
    "    predictions_valid = model.predict(features_valid)\n",
    "    accuracy = accuracy_score(target_valid, predictions_valid)\n",
    "    \n",
    "    probabilities_valid = model.predict_proba(features_valid)\n",
    "    probabilities_one_valid = probabilities_valid[:, 1]\n",
    "    result_roc_auc = roc_auc_score(target_valid, probabilities_one_valid)\n",
    "\n",
    "    if result_roc_auc > best_result_roc_auc_lgbm:\n",
    "        best_model_lgbm = model \n",
    "        best_accuracy_lgbm = accuracy\n",
    "        best_n_estimators = n\n",
    "        best_result_roc_auc_lgbm = result_roc_auc \n",
    "                    \n",
    "print(\"Best_n_estimators = \", best_n_estimators)\n",
    "print(\"Accuracy = \", best_accuracy_lgbm)\n",
    "print(\"AUC-ROC = \", best_result_roc_auc_lgbm) "
   ]
  },
  {
   "cell_type": "markdown",
   "metadata": {},
   "source": [
    "**CatBoostClassifier**"
   ]
  },
  {
   "cell_type": "code",
   "execution_count": 84,
   "metadata": {},
   "outputs": [],
   "source": [
    "class_1 = target_train.sum()"
   ]
  },
  {
   "cell_type": "code",
   "execution_count": 85,
   "metadata": {},
   "outputs": [],
   "source": [
    "class_0 = target_train.count() - target_train.sum()"
   ]
  },
  {
   "cell_type": "code",
   "execution_count": 86,
   "metadata": {},
   "outputs": [
    {
     "name": "stdout",
     "output_type": "stream",
     "text": [
      "Best_n_iterations =  350\n",
      "Accuracy =  0.8214793741109531\n",
      "AUC-ROC =  0.9134034409818212\n"
     ]
    }
   ],
   "source": [
    "best_model_cat = None\n",
    "best_result_roc_auc_cat = 0\n",
    "\n",
    "for n in range(100,501,50):\n",
    "    \n",
    "    model_cat = CatBoostClassifier(loss_function=\"Logloss\", \n",
    "                                   iterations= n, \n",
    "                                   random_seed = 12345,\n",
    "                                   scale_pos_weight = class_0 / class_1,\n",
    "                                   boosting_type = 'Ordered')\n",
    "\n",
    "    model_cat.fit(features_train,target_train,verbose = False)\n",
    "    predictions_valid = model_cat.predict(features_valid)\n",
    "    accuracy = accuracy_score(target_valid, predictions_valid)\n",
    "\n",
    "    probabilities_valid = model_cat.predict_proba(features_valid)\n",
    "    probabilities_one_valid = probabilities_valid[:, 1]\n",
    "    result_roc_auc = roc_auc_score(target_valid, probabilities_one_valid)\n",
    "\n",
    "    if result_roc_auc > best_result_roc_auc_cat:\n",
    "        best_model_cat = model_cat \n",
    "        best_accuracy_cat = accuracy\n",
    "        best_n_iterations = n\n",
    "        best_result_roc_auc_cat = result_roc_auc    \n",
    "    \n",
    "print(\"Best_n_iterations = \", best_n_iterations)\n",
    "print(\"Accuracy = \", best_accuracy_cat)\n",
    "print(\"AUC-ROC = \", best_result_roc_auc_cat)"
   ]
  },
  {
   "cell_type": "markdown",
   "metadata": {},
   "source": [
    "Сведём полученные результаты в единую таблицу"
   ]
  },
  {
   "cell_type": "code",
   "execution_count": 87,
   "metadata": {},
   "outputs": [],
   "source": [
    "list_results = [\n",
    "    ['DecisionTreeClassifier', best_accuracy_tree, best_result_roc_auc_tree],\n",
    "    ['RandomForestClassifier', best_accuracy_forest, best_result_roc_auc_forest],\n",
    "    ['LogisticRegression',best_accuracy_log_reg, best_result_roc_auc_log_reg],\n",
    "    ['LGBMClassifier', best_accuracy_lgbm, best_result_roc_auc_lgbm],\n",
    "    ['CatBoostClassifier', best_accuracy_cat, best_result_roc_auc_cat]]"
   ]
  },
  {
   "cell_type": "code",
   "execution_count": 88,
   "metadata": {},
   "outputs": [],
   "source": [
    "df_results = pd.DataFrame(list_results, columns = ['name','accuracy','roc_auc'])"
   ]
  },
  {
   "cell_type": "code",
   "execution_count": 89,
   "metadata": {},
   "outputs": [
    {
     "data": {
      "text/html": [
       "<div>\n",
       "<style scoped>\n",
       "    .dataframe tbody tr th:only-of-type {\n",
       "        vertical-align: middle;\n",
       "    }\n",
       "\n",
       "    .dataframe tbody tr th {\n",
       "        vertical-align: top;\n",
       "    }\n",
       "\n",
       "    .dataframe thead th {\n",
       "        text-align: right;\n",
       "    }\n",
       "</style>\n",
       "<table border=\"1\" class=\"dataframe\">\n",
       "  <thead>\n",
       "    <tr style=\"text-align: right;\">\n",
       "      <th></th>\n",
       "      <th>name</th>\n",
       "      <th>accuracy</th>\n",
       "      <th>roc_auc</th>\n",
       "    </tr>\n",
       "  </thead>\n",
       "  <tbody>\n",
       "    <tr>\n",
       "      <td>4</td>\n",
       "      <td>CatBoostClassifier</td>\n",
       "      <td>0.821479</td>\n",
       "      <td>0.913403</td>\n",
       "    </tr>\n",
       "    <tr>\n",
       "      <td>3</td>\n",
       "      <td>LGBMClassifier</td>\n",
       "      <td>0.852063</td>\n",
       "      <td>0.910064</td>\n",
       "    </tr>\n",
       "    <tr>\n",
       "      <td>1</td>\n",
       "      <td>RandomForestClassifier</td>\n",
       "      <td>0.839260</td>\n",
       "      <td>0.882845</td>\n",
       "    </tr>\n",
       "    <tr>\n",
       "      <td>2</td>\n",
       "      <td>LogisticRegression</td>\n",
       "      <td>0.729018</td>\n",
       "      <td>0.852939</td>\n",
       "    </tr>\n",
       "    <tr>\n",
       "      <td>0</td>\n",
       "      <td>DecisionTreeClassifier</td>\n",
       "      <td>0.783784</td>\n",
       "      <td>0.849121</td>\n",
       "    </tr>\n",
       "  </tbody>\n",
       "</table>\n",
       "</div>"
      ],
      "text/plain": [
       "                     name  accuracy   roc_auc\n",
       "4      CatBoostClassifier  0.821479  0.913403\n",
       "3          LGBMClassifier  0.852063  0.910064\n",
       "1  RandomForestClassifier  0.839260  0.882845\n",
       "2      LogisticRegression  0.729018  0.852939\n",
       "0  DecisionTreeClassifier  0.783784  0.849121"
      ]
     },
     "execution_count": 89,
     "metadata": {},
     "output_type": "execute_result"
    }
   ],
   "source": [
    "df_results.sort_values(by = ['roc_auc'], ascending = False)"
   ]
  },
  {
   "cell_type": "markdown",
   "metadata": {},
   "source": [
    "**Анализ мультиколлинеарности и значимости признаков** "
   ]
  },
  {
   "cell_type": "markdown",
   "metadata": {},
   "source": [
    "Как видно из представленной сводной таблицы, нашим лучшим классификатором стал **`CatBoostClassifier`**, следовательно на нём и продолжим работу с признаками. Посмотрим распределение признаков по их значимости для прогноза целевого признака."
   ]
  },
  {
   "cell_type": "code",
   "execution_count": 90,
   "metadata": {},
   "outputs": [
    {
     "data": {
      "image/png": "[encoded data removed]",
      "text/plain": [
       "<Figure size 864x576 with 1 Axes>"
      ]
     },
     "metadata": {
      "needs_background": "light"
     },
     "output_type": "display_data"
    }
   ],
   "source": [
    "x = features_train.columns.tolist()\n",
    "y = best_model_cat.feature_importances_\n",
    "\n",
    "fig, ax = plt.subplots()\n",
    "\n",
    "ax.barh(x, y)\n",
    "\n",
    "ax.set_yticks(x)\n",
    "ax.set_yticklabels(x, fontsize = 12)\n",
    "\n",
    "fig.set_figwidth(12)\n",
    "fig.set_figheight(8)\n",
    "ax.set_title('Важность признака', fontsize = 15)\n",
    "ax.grid()\n",
    "\n",
    "plt.show()"
   ]
  },
  {
   "cell_type": "markdown",
   "metadata": {},
   "source": [
    "Привём таблицу корреляции признаков повторно."
   ]
  },
  {
   "cell_type": "code",
   "execution_count": 91,
   "metadata": {
    "scrolled": false
   },
   "outputs": [
    {
     "data": {
      "text/plain": [
       "<matplotlib.axes._subplots.AxesSubplot at 0x7f5c7c25e710>"
      ]
     },
     "execution_count": 91,
     "metadata": {},
     "output_type": "execute_result"
    },
    {
     "data": {
      "image/png": "[encoded data removed]",
      "text/plain": [
       "<Figure size 1152x432 with 2 Axes>"
      ]
     },
     "metadata": {
      "needs_background": "light"
     },
     "output_type": "display_data"
    }
   ],
   "source": [
    "plt.figure(figsize=(16, 6)) \n",
    "sns.heatmap(df_quantitative.corr(), vmin=-1, vmax=1, annot=True)"
   ]
  },
  {
   "cell_type": "markdown",
   "metadata": {},
   "source": [
    "Как видно из графика и таблицы, наш самый весомый признак это `customer_lifetime_years`, который в свою очередь даёт корреляцию меньше 0.8 только с `monthly_charges`. Собственно, из количественных признаков эти два только и оставим. \n",
    "\n",
    "Также удалим несколько категориальных признаков с незначительным влиянием. В реальных условиях любая информация стоит денег, поэтому оставим только необходимое."
   ]
  },
  {
   "cell_type": "code",
   "execution_count": 92,
   "metadata": {},
   "outputs": [],
   "source": [
    "df.drop(labels = ['customer_lifetime_weeks', \n",
    "                  'customer_lifetime_months',\n",
    "                  'customer_lifetime_days',\n",
    "                  'total_per_year',\n",
    "                  'total_per_month',\n",
    "                  'total_per_week',\n",
    "                  'total_per_day',\n",
    "                  'total_charges',\n",
    "                  'gender',\n",
    "                  'device_protection',\n",
    "                  'online_backup', \n",
    "                  'online_security',\n",
    "                  'dependents',\n",
    "                  'partner'], inplace = True, axis = 1)"
   ]
  },
  {
   "cell_type": "markdown",
   "metadata": {},
   "source": [
    "Повторно создадим необходимые выборки."
   ]
  },
  {
   "cell_type": "code",
   "execution_count": 93,
   "metadata": {},
   "outputs": [],
   "source": [
    "df_train, df_other = train_test_split(df, test_size = 0.40, random_state = 12345)"
   ]
  },
  {
   "cell_type": "code",
   "execution_count": 94,
   "metadata": {},
   "outputs": [],
   "source": [
    "df_valid, df_test = train_test_split(df_other, test_size = 0.50, random_state = 12345)"
   ]
  },
  {
   "cell_type": "code",
   "execution_count": 95,
   "metadata": {},
   "outputs": [],
   "source": [
    "features_train = df_train.drop(['exited'], axis=1)\n",
    "target_train = df_train['exited']"
   ]
  },
  {
   "cell_type": "code",
   "execution_count": 96,
   "metadata": {},
   "outputs": [
    {
     "data": {
      "text/plain": [
       "(4219, 11)"
      ]
     },
     "execution_count": 96,
     "metadata": {},
     "output_type": "execute_result"
    }
   ],
   "source": [
    "features_train.shape"
   ]
  },
  {
   "cell_type": "code",
   "execution_count": 97,
   "metadata": {},
   "outputs": [],
   "source": [
    "features_valid = df_valid.drop(['exited'], axis=1)\n",
    "target_valid = df_valid['exited']"
   ]
  },
  {
   "cell_type": "code",
   "execution_count": 98,
   "metadata": {},
   "outputs": [
    {
     "data": {
      "text/plain": [
       "(1406, 11)"
      ]
     },
     "execution_count": 98,
     "metadata": {},
     "output_type": "execute_result"
    }
   ],
   "source": [
    "features_valid.shape"
   ]
  },
  {
   "cell_type": "code",
   "execution_count": 99,
   "metadata": {},
   "outputs": [],
   "source": [
    "features_test = df_test.drop(['exited'], axis=1)\n",
    "target_test = df_test['exited']"
   ]
  },
  {
   "cell_type": "code",
   "execution_count": 100,
   "metadata": {
    "scrolled": true
   },
   "outputs": [
    {
     "data": {
      "text/plain": [
       "(1407, 11)"
      ]
     },
     "execution_count": 100,
     "metadata": {},
     "output_type": "execute_result"
    }
   ],
   "source": [
    "features_test.shape"
   ]
  },
  {
   "cell_type": "markdown",
   "metadata": {},
   "source": [
    "Посмотрим на метрики модели после удаления признаков по результатам анализа мультиколлиниарности и их значимости."
   ]
  },
  {
   "cell_type": "code",
   "execution_count": 101,
   "metadata": {},
   "outputs": [
    {
     "name": "stdout",
     "output_type": "stream",
     "text": [
      "Best_n_iterations =  400\n",
      "Accuracy =  0.8307254623044097\n",
      "AUC-ROC =  0.9231198165368183\n"
     ]
    }
   ],
   "source": [
    "best_model_cat = None\n",
    "best_result_roc_auc_cat = 0\n",
    "\n",
    "for n in range(100,501,50):\n",
    "    \n",
    "    model_cat = CatBoostClassifier(loss_function=\"Logloss\", \n",
    "                                   iterations= n, \n",
    "                                   random_seed = 12345,\n",
    "                                   scale_pos_weight = class_0 / class_1,\n",
    "                                   boosting_type = 'Ordered')\n",
    "\n",
    "    model_cat.fit(features_train,target_train,verbose = False)\n",
    "    predictions_valid = model_cat.predict(features_valid)\n",
    "    accuracy = accuracy_score(target_valid, predictions_valid)\n",
    "\n",
    "    probabilities_valid = model_cat.predict_proba(features_valid)\n",
    "    probabilities_one_valid = probabilities_valid[:, 1]\n",
    "    result_roc_auc = roc_auc_score(target_valid, probabilities_one_valid)\n",
    "\n",
    "    if result_roc_auc > best_result_roc_auc_cat:\n",
    "        best_model_cat = model_cat \n",
    "        best_accuracy_cat = accuracy\n",
    "        best_n_iterations = n\n",
    "        best_result_roc_auc_cat = result_roc_auc    \n",
    "    \n",
    "print(\"Best_n_iterations = \", best_n_iterations)\n",
    "print(\"Accuracy = \", best_accuracy_cat)\n",
    "print(\"AUC-ROC = \", best_result_roc_auc_cat)"
   ]
  },
  {
   "cell_type": "markdown",
   "metadata": {},
   "source": [
    "Отлично! Меньше признаков - выше метрики! Перейдём к тесту."
   ]
  },
  {
   "cell_type": "markdown",
   "metadata": {},
   "source": [
    "**Финальное тестирование для модели `CatBoostClassifier`**"
   ]
  },
  {
   "cell_type": "code",
   "execution_count": 102,
   "metadata": {},
   "outputs": [
    {
     "name": "stdout",
     "output_type": "stream",
     "text": [
      "Accuracy =  0.830135039090263\n",
      "AUC-ROC =  0.9113117665780315\n"
     ]
    }
   ],
   "source": [
    "model_cat = CatBoostClassifier(loss_function=\"Logloss\", \n",
    "                                   iterations= 400, \n",
    "                                   random_seed = 12345,\n",
    "                                   scale_pos_weight = class_0 / class_1,\n",
    "                                   boosting_type = 'Ordered')\n",
    "\n",
    "model_cat.fit(features_train,target_train,verbose = False)\n",
    "\n",
    "predictions_test = model_cat.predict(features_test)\n",
    "accuracy_cat = accuracy_score(target_test, predictions_test)\n",
    "\n",
    "probabilities_test = model_cat.predict_proba(features_test)\n",
    "probabilities_one_test = probabilities_test[:, 1]\n",
    "roc_auc_cat = roc_auc_score(target_test, probabilities_one_test)\n",
    "\n",
    "print(\"Accuracy = \", accuracy_cat)\n",
    "print(\"AUC-ROC = \", roc_auc_cat)"
   ]
  },
  {
   "cell_type": "markdown",
   "metadata": {},
   "source": [
    "**Вывод**"
   ]
  },
  {
   "cell_type": "markdown",
   "metadata": {},
   "source": [
    "В результате подготовки данных, создания дополнительных признаков и обучения моделей, нам удалось получить ключевую метрику `AUC-ROC = 0.9113`, а также метрику `Accuracy = 0.8301` для классификатора `CatBoostClassifier` с гиперпараметрами `iterations = 400` и `boosting_type = Ordered`."
   ]
  },
  {
   "cell_type": "markdown",
   "metadata": {},
   "source": [
    "## Вывод"
   ]
  },
  {
   "cell_type": "markdown",
   "metadata": {},
   "source": [
    "1. Каждый из пунктов ранее намеченного план был выполнен. \n",
    "2. Пожалуй основной трудностью было решение вопроса относительно имеющихся и созданных признаков: что оставить, а что убрать? Удаление дат было обусловенно необходимостью нивелировать утечку целевого признака, для остального отлично подошли совмещённые анализ мультиколлиниарности и важности признаков.\n",
    "3. В соответстие с планом можно выделить следующие ключевые шаги в решение поставленной задачи: обзор данных - подготовка и анализ - обучение моделей и выбор лучшей - доработка по признакам с помощью анализа мультиколлиниарности и важности признаков - тест финальной модели. \n",
    "4. Итоговой моделью является классификатор `CatBoostClassifier` с гиперпараметрами `iterations = 400` и `boosting_type = Ordered`, с помощью которого на тестовой выборке удалось получить метрику `AUC-ROC = 0.9113`, а также `Accuracy = 0.8301`."
   ]
  }
 ],
 "metadata": {
  "ExecuteTimeLog": [
   {
    "duration": 1654,
    "start_time": "2022-03-04T19:42:21.273Z"
   },
   {
    "duration": 56,
    "start_time": "2022-03-04T19:42:22.930Z"
   },
   {
    "duration": 19,
    "start_time": "2022-03-04T19:42:23.567Z"
   },
   {
    "duration": 13,
    "start_time": "2022-03-04T19:42:33.663Z"
   }
  ],
  "kernelspec": {
   "display_name": "Python 3 (ipykernel)",
   "language": "python",
   "name": "python3"
  },
  "language_info": {
   "codemirror_mode": {
    "name": "ipython",
    "version": 3
   },
   "file_extension": ".py",
   "mimetype": "text/x-python",
   "name": "python",
   "nbconvert_exporter": "python",
   "pygments_lexer": "ipython3",
   "version": "3.9.7"
  },
  "toc": {
   "base_numbering": 1,
   "nav_menu": {},
   "number_sections": true,
   "sideBar": true,
   "skip_h1_title": true,
   "title_cell": "Table of Contents",
   "title_sidebar": "Contents",
   "toc_cell": false,
   "toc_position": {},
   "toc_section_display": true,
   "toc_window_display": false
  }
 },
 "nbformat": 4,
 "nbformat_minor": 2
}
