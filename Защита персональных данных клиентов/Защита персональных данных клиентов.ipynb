{
 "cells": [
  {
   "cell_type": "markdown",
   "metadata": {
    "toc": true
   },
   "source": [
    "<h1>Содержание<span class=\"tocSkip\"></span></h1>\n",
    "<div class=\"toc\"><ul class=\"toc-item\"><li><span><a href=\"#Загрузка-данных\" data-toc-modified-id=\"Загрузка-данных-1\"><span class=\"toc-item-num\">1&nbsp;&nbsp;</span>Загрузка данных</a></span></li><li><span><a href=\"#Умножение-матриц\" data-toc-modified-id=\"Умножение-матриц-2\"><span class=\"toc-item-num\">2&nbsp;&nbsp;</span>Умножение матриц</a></span></li><li><span><a href=\"#Алгоритм-преобразования\" data-toc-modified-id=\"Алгоритм-преобразования-3\"><span class=\"toc-item-num\">3&nbsp;&nbsp;</span>Алгоритм преобразования</a></span></li><li><span><a href=\"#Проверка-алгоритма\" data-toc-modified-id=\"Проверка-алгоритма-4\"><span class=\"toc-item-num\">4&nbsp;&nbsp;</span>Проверка алгоритма</a></span></li><li><span><a href=\"#Вывод\" data-toc-modified-id=\"Вывод-5\"><span class=\"toc-item-num\">5&nbsp;&nbsp;</span>Вывод</a></span></li><li><span><a href=\"#Чек-лист-проверки\" data-toc-modified-id=\"Чек-лист-проверки-6\"><span class=\"toc-item-num\">6&nbsp;&nbsp;</span>Чек-лист проверки</a></span></li></ul></div>"
   ]
  },
  {
   "cell_type": "markdown",
   "metadata": {},
   "source": [
    "# Защита персональных данных клиентов"
   ]
  },
  {
   "cell_type": "markdown",
   "metadata": {},
   "source": [
    "Вам нужно защитить данные клиентов страховой компании «Хоть потоп». Разработайте такой метод преобразования данных, чтобы по ним было сложно восстановить персональную информацию. Обоснуйте корректность его работы.\n",
    "\n",
    "Нужно защитить данные, чтобы при преобразовании качество моделей машинного обучения не ухудшилось. Подбирать наилучшую модель не требуется."
   ]
  },
  {
   "cell_type": "markdown",
   "metadata": {},
   "source": [
    "## Загрузка данных"
   ]
  },
  {
   "cell_type": "markdown",
   "metadata": {},
   "source": [
    "Загрузим всё необходимое для работы"
   ]
  },
  {
   "cell_type": "code",
   "execution_count": 1,
   "metadata": {},
   "outputs": [],
   "source": [
    "import pandas as pd\n",
    "import numpy as np\n",
    "from sklearn.linear_model import LinearRegression\n",
    "from sklearn.metrics import r2_score\n",
    "from sklearn.model_selection import train_test_split"
   ]
  },
  {
   "cell_type": "code",
   "execution_count": 2,
   "metadata": {},
   "outputs": [],
   "source": [
    "df = pd.read_csv('/datasets/insurance.csv')"
   ]
  },
  {
   "cell_type": "code",
   "execution_count": 3,
   "metadata": {},
   "outputs": [
    {
     "data": {
      "text/html": [
       "<div>\n",
       "<style scoped>\n",
       "    .dataframe tbody tr th:only-of-type {\n",
       "        vertical-align: middle;\n",
       "    }\n",
       "\n",
       "    .dataframe tbody tr th {\n",
       "        vertical-align: top;\n",
       "    }\n",
       "\n",
       "    .dataframe thead th {\n",
       "        text-align: right;\n",
       "    }\n",
       "</style>\n",
       "<table border=\"1\" class=\"dataframe\">\n",
       "  <thead>\n",
       "    <tr style=\"text-align: right;\">\n",
       "      <th></th>\n",
       "      <th>Пол</th>\n",
       "      <th>Возраст</th>\n",
       "      <th>Зарплата</th>\n",
       "      <th>Члены семьи</th>\n",
       "      <th>Страховые выплаты</th>\n",
       "    </tr>\n",
       "  </thead>\n",
       "  <tbody>\n",
       "    <tr>\n",
       "      <td>0</td>\n",
       "      <td>1</td>\n",
       "      <td>41.0</td>\n",
       "      <td>49600.0</td>\n",
       "      <td>1</td>\n",
       "      <td>0</td>\n",
       "    </tr>\n",
       "    <tr>\n",
       "      <td>1</td>\n",
       "      <td>0</td>\n",
       "      <td>46.0</td>\n",
       "      <td>38000.0</td>\n",
       "      <td>1</td>\n",
       "      <td>1</td>\n",
       "    </tr>\n",
       "    <tr>\n",
       "      <td>2</td>\n",
       "      <td>0</td>\n",
       "      <td>29.0</td>\n",
       "      <td>21000.0</td>\n",
       "      <td>0</td>\n",
       "      <td>0</td>\n",
       "    </tr>\n",
       "    <tr>\n",
       "      <td>3</td>\n",
       "      <td>0</td>\n",
       "      <td>21.0</td>\n",
       "      <td>41700.0</td>\n",
       "      <td>2</td>\n",
       "      <td>0</td>\n",
       "    </tr>\n",
       "    <tr>\n",
       "      <td>4</td>\n",
       "      <td>1</td>\n",
       "      <td>28.0</td>\n",
       "      <td>26100.0</td>\n",
       "      <td>0</td>\n",
       "      <td>0</td>\n",
       "    </tr>\n",
       "    <tr>\n",
       "      <td>...</td>\n",
       "      <td>...</td>\n",
       "      <td>...</td>\n",
       "      <td>...</td>\n",
       "      <td>...</td>\n",
       "      <td>...</td>\n",
       "    </tr>\n",
       "    <tr>\n",
       "      <td>4995</td>\n",
       "      <td>0</td>\n",
       "      <td>28.0</td>\n",
       "      <td>35700.0</td>\n",
       "      <td>2</td>\n",
       "      <td>0</td>\n",
       "    </tr>\n",
       "    <tr>\n",
       "      <td>4996</td>\n",
       "      <td>0</td>\n",
       "      <td>34.0</td>\n",
       "      <td>52400.0</td>\n",
       "      <td>1</td>\n",
       "      <td>0</td>\n",
       "    </tr>\n",
       "    <tr>\n",
       "      <td>4997</td>\n",
       "      <td>0</td>\n",
       "      <td>20.0</td>\n",
       "      <td>33900.0</td>\n",
       "      <td>2</td>\n",
       "      <td>0</td>\n",
       "    </tr>\n",
       "    <tr>\n",
       "      <td>4998</td>\n",
       "      <td>1</td>\n",
       "      <td>22.0</td>\n",
       "      <td>32700.0</td>\n",
       "      <td>3</td>\n",
       "      <td>0</td>\n",
       "    </tr>\n",
       "    <tr>\n",
       "      <td>4999</td>\n",
       "      <td>1</td>\n",
       "      <td>28.0</td>\n",
       "      <td>40600.0</td>\n",
       "      <td>1</td>\n",
       "      <td>0</td>\n",
       "    </tr>\n",
       "  </tbody>\n",
       "</table>\n",
       "<p>5000 rows × 5 columns</p>\n",
       "</div>"
      ],
      "text/plain": [
       "      Пол  Возраст  Зарплата  Члены семьи  Страховые выплаты\n",
       "0       1     41.0   49600.0            1                  0\n",
       "1       0     46.0   38000.0            1                  1\n",
       "2       0     29.0   21000.0            0                  0\n",
       "3       0     21.0   41700.0            2                  0\n",
       "4       1     28.0   26100.0            0                  0\n",
       "...   ...      ...       ...          ...                ...\n",
       "4995    0     28.0   35700.0            2                  0\n",
       "4996    0     34.0   52400.0            1                  0\n",
       "4997    0     20.0   33900.0            2                  0\n",
       "4998    1     22.0   32700.0            3                  0\n",
       "4999    1     28.0   40600.0            1                  0\n",
       "\n",
       "[5000 rows x 5 columns]"
      ]
     },
     "execution_count": 3,
     "metadata": {},
     "output_type": "execute_result"
    }
   ],
   "source": [
    "df"
   ]
  },
  {
   "cell_type": "markdown",
   "metadata": {},
   "source": [
    "Изучим полученные данные"
   ]
  },
  {
   "cell_type": "code",
   "execution_count": 4,
   "metadata": {},
   "outputs": [
    {
     "name": "stdout",
     "output_type": "stream",
     "text": [
      "<class 'pandas.core.frame.DataFrame'>\n",
      "RangeIndex: 5000 entries, 0 to 4999\n",
      "Data columns (total 5 columns):\n",
      "Пол                  5000 non-null int64\n",
      "Возраст              5000 non-null float64\n",
      "Зарплата             5000 non-null float64\n",
      "Члены семьи          5000 non-null int64\n",
      "Страховые выплаты    5000 non-null int64\n",
      "dtypes: float64(2), int64(3)\n",
      "memory usage: 195.4 KB\n"
     ]
    }
   ],
   "source": [
    "df.info()"
   ]
  },
  {
   "cell_type": "code",
   "execution_count": 5,
   "metadata": {
    "scrolled": false
   },
   "outputs": [
    {
     "data": {
      "text/html": [
       "<div>\n",
       "<style scoped>\n",
       "    .dataframe tbody tr th:only-of-type {\n",
       "        vertical-align: middle;\n",
       "    }\n",
       "\n",
       "    .dataframe tbody tr th {\n",
       "        vertical-align: top;\n",
       "    }\n",
       "\n",
       "    .dataframe thead th {\n",
       "        text-align: right;\n",
       "    }\n",
       "</style>\n",
       "<table border=\"1\" class=\"dataframe\">\n",
       "  <thead>\n",
       "    <tr style=\"text-align: right;\">\n",
       "      <th></th>\n",
       "      <th>Пол</th>\n",
       "      <th>Возраст</th>\n",
       "      <th>Зарплата</th>\n",
       "      <th>Члены семьи</th>\n",
       "      <th>Страховые выплаты</th>\n",
       "    </tr>\n",
       "  </thead>\n",
       "  <tbody>\n",
       "    <tr>\n",
       "      <td>count</td>\n",
       "      <td>5000.000000</td>\n",
       "      <td>5000.000000</td>\n",
       "      <td>5000.000000</td>\n",
       "      <td>5000.000000</td>\n",
       "      <td>5000.000000</td>\n",
       "    </tr>\n",
       "    <tr>\n",
       "      <td>mean</td>\n",
       "      <td>0.499000</td>\n",
       "      <td>30.952800</td>\n",
       "      <td>39916.360000</td>\n",
       "      <td>1.194200</td>\n",
       "      <td>0.148000</td>\n",
       "    </tr>\n",
       "    <tr>\n",
       "      <td>std</td>\n",
       "      <td>0.500049</td>\n",
       "      <td>8.440807</td>\n",
       "      <td>9900.083569</td>\n",
       "      <td>1.091387</td>\n",
       "      <td>0.463183</td>\n",
       "    </tr>\n",
       "    <tr>\n",
       "      <td>min</td>\n",
       "      <td>0.000000</td>\n",
       "      <td>18.000000</td>\n",
       "      <td>5300.000000</td>\n",
       "      <td>0.000000</td>\n",
       "      <td>0.000000</td>\n",
       "    </tr>\n",
       "    <tr>\n",
       "      <td>25%</td>\n",
       "      <td>0.000000</td>\n",
       "      <td>24.000000</td>\n",
       "      <td>33300.000000</td>\n",
       "      <td>0.000000</td>\n",
       "      <td>0.000000</td>\n",
       "    </tr>\n",
       "    <tr>\n",
       "      <td>50%</td>\n",
       "      <td>0.000000</td>\n",
       "      <td>30.000000</td>\n",
       "      <td>40200.000000</td>\n",
       "      <td>1.000000</td>\n",
       "      <td>0.000000</td>\n",
       "    </tr>\n",
       "    <tr>\n",
       "      <td>75%</td>\n",
       "      <td>1.000000</td>\n",
       "      <td>37.000000</td>\n",
       "      <td>46600.000000</td>\n",
       "      <td>2.000000</td>\n",
       "      <td>0.000000</td>\n",
       "    </tr>\n",
       "    <tr>\n",
       "      <td>max</td>\n",
       "      <td>1.000000</td>\n",
       "      <td>65.000000</td>\n",
       "      <td>79000.000000</td>\n",
       "      <td>6.000000</td>\n",
       "      <td>5.000000</td>\n",
       "    </tr>\n",
       "  </tbody>\n",
       "</table>\n",
       "</div>"
      ],
      "text/plain": [
       "               Пол      Возраст      Зарплата  Члены семьи  Страховые выплаты\n",
       "count  5000.000000  5000.000000   5000.000000  5000.000000        5000.000000\n",
       "mean      0.499000    30.952800  39916.360000     1.194200           0.148000\n",
       "std       0.500049     8.440807   9900.083569     1.091387           0.463183\n",
       "min       0.000000    18.000000   5300.000000     0.000000           0.000000\n",
       "25%       0.000000    24.000000  33300.000000     0.000000           0.000000\n",
       "50%       0.000000    30.000000  40200.000000     1.000000           0.000000\n",
       "75%       1.000000    37.000000  46600.000000     2.000000           0.000000\n",
       "max       1.000000    65.000000  79000.000000     6.000000           5.000000"
      ]
     },
     "execution_count": 5,
     "metadata": {},
     "output_type": "execute_result"
    }
   ],
   "source": [
    "df.describe()"
   ]
  },
  {
   "cell_type": "code",
   "execution_count": 6,
   "metadata": {},
   "outputs": [
    {
     "data": {
      "image/png": "[encoded data removed]",
      "text/plain": [
       "<Figure size 1080x1440 with 6 Axes>"
      ]
     },
     "metadata": {
      "needs_background": "light"
     },
     "output_type": "display_data"
    }
   ],
   "source": [
    "df.hist(bins = 50, figsize = (15,20));"
   ]
  },
  {
   "cell_type": "markdown",
   "metadata": {},
   "source": [
    "Очевидно, основная цель данного проекта далеко не предобработка данных, поэтому всё образцовопоказательно со старта: пропусков нет, значения признаков вменяемы, аномалий в рамках выборки не наблюдается."
   ]
  },
  {
   "cell_type": "markdown",
   "metadata": {},
   "source": [
    "Единственное, что хотелось бы поправить, прежде, чем приступить к выполнению поставленной задачи, это названия столбцов."
   ]
  },
  {
   "cell_type": "code",
   "execution_count": 7,
   "metadata": {},
   "outputs": [],
   "source": [
    "df.columns = (['sex', \n",
    "               'age', \n",
    "               'salary', \n",
    "               'family_members', \n",
    "               'insurance_payments'])"
   ]
  },
  {
   "cell_type": "markdown",
   "metadata": {},
   "source": [
    "## Умножение матриц"
   ]
  },
  {
   "cell_type": "markdown",
   "metadata": {},
   "source": [
    "В этом задании вы можете записывать формулы в *Jupyter Notebook.*\n",
    "\n",
    "Чтобы записать формулу внутри текста, окружите её символами доллара \\\\$; если снаружи —  двойными символами \\\\$\\\\$. Эти формулы записываются на языке вёрстки *LaTeX.* \n",
    "\n",
    "Для примера мы записали формулы линейной регрессии. Можете их скопировать и отредактировать, чтобы решить задачу.\n",
    "\n",
    "Работать в *LaTeX* необязательно."
   ]
  },
  {
   "cell_type": "markdown",
   "metadata": {},
   "source": [
    "Обозначения:\n",
    "\n",
    "- $X$ — матрица признаков (нулевой столбец состоит из единиц)\n",
    "\n",
    "- $y$ — вектор целевого признака\n",
    "\n",
    "- $P$ — матрица, на которую умножаются признаки\n",
    "\n",
    "- $w$ — вектор весов линейной регрессии (нулевой элемент равен сдвигу)"
   ]
  },
  {
   "cell_type": "markdown",
   "metadata": {},
   "source": [
    "Предсказания:\n",
    "\n",
    "$$\n",
    "a = Xw\n",
    "$$\n",
    "\n",
    "Задача обучения:\n",
    "\n",
    "$$\n",
    "w = \\arg\\min_w MSE(Xw, y)\n",
    "$$\n",
    "\n",
    "Формула обучения:\n",
    "\n",
    "$$\n",
    "w = (X^T X)^{-1} X^T y\n",
    "$$"
   ]
  },
  {
   "cell_type": "markdown",
   "metadata": {},
   "source": [
    "**Ответ:** Не изменится\n",
    "\n",
    "**Обоснование:** \n",
    "\n",
    "Допустим, что: \n",
    "\n",
    "$$\n",
    "a' = Xw'\n",
    "$$\n",
    "\n",
    ", где: \n",
    "\n",
    "$$\n",
    "w' = ((X P)^T (X P))^{-1} (X P)^T y\n",
    "$$\n",
    "\n",
    "Докажем, что: \n",
    "\n",
    "$$\n",
    "a' = a\n",
    "$$\n",
    "\n",
    "$$\n",
    "w' = ((X P)^T (X P))^{-1} (X P)^T y = \n",
    "$$\n",
    "\n",
    "$$\n",
    "= (X P)^{-1} ((X P)^T)^{-1} (X P)^T y =\n",
    "$$\n",
    "\n",
    "$$\n",
    "= P^{-1} X^{-1} (P^T X^T)^{-1} P^T X^T y =\n",
    "$$\n",
    "\n",
    "$$\n",
    " = P^{-1} X^{-1} (X^T)^{-1} (P^T)^{-1} P^T X^T y = \n",
    "$$\n",
    "\n",
    "$$\n",
    " = P^{-1} X^{-1} (X^T)^{-1} E X^T y =\n",
    "$$\n",
    "\n",
    "$$\n",
    " = P^{-1} (X^T X)^{-1} X^T y =\n",
    "$$\n",
    "\n",
    "$$\n",
    " = P^{-1} w\n",
    "$$\n",
    "\n",
    "Отсюда:\n",
    "\n",
    "$$\n",
    "a' = X P w' = X P P^{-1} w = X E w = X w = a\n",
    "$$\n",
    "\n",
    ", где E - единичная матрица.\n",
    "\n",
    "Что и требовалось доказать."
   ]
  },
  {
   "cell_type": "markdown",
   "metadata": {},
   "source": [
    "## Алгоритм преобразования"
   ]
  },
  {
   "cell_type": "markdown",
   "metadata": {},
   "source": [
    "**Алгоритм**\n",
    "\n",
    "1. Создадим случайную матрицу $ A $;\n",
    "2. Проверим матрицу $ A $ на обратимость;\n",
    "3. Защитим персональные данные клиентов, умножив признаки `features_train` \n",
    "($ n\\ x\\ p $) и `features_valid` ($ m\\ x\\ p $) на матрицу A ($ p\\ x\\ p $) .\n",
    "4. Далее, создадим класс `LinearRegression`. \n",
    "5. Дополнительных операций внутри класса `LinearRegression` для получения исходных значений признаков `features_train` и `features_valid` не требуется. \n",
    "6. Рассчитаем финальную метрику `R2`.\n",
    "7. Для проверки сравним с аналогичной метрикой для тех же данных, но без преобразований."
   ]
  },
  {
   "cell_type": "markdown",
   "metadata": {},
   "source": [
    "**Обоснование**\n",
    "\n",
    "1. Чтобы проверить матрицу $ A $ на обратимость, найдём обратную к ней матрицу $ A^{-1} $\n",
    "\n",
    "2. Домножение признаков `features_train` ($ n\\ x\\ p $) и `features_valid` ($ m\\ x\\ p $) на случайную матрицу $ A $ ($ p\\ x\\ p $) не повлияет на итоговый результат, так как: \n",
    "\n",
    "$$\n",
    "a' = X P w' = X P P^{-1} w = X E w = X w = a\n",
    "$$\n",
    "\n",
    " , что доказано в пункте 2. \n",
    "\n",
    " 3. Каких-либо ещё преобразований от нас больше не требуется. Сравним полученные результаты метрик `R2` для непреобразованных и преобразованных данных соответственно."
   ]
  },
  {
   "cell_type": "markdown",
   "metadata": {},
   "source": [
    "## Проверка алгоритма"
   ]
  },
  {
   "cell_type": "markdown",
   "metadata": {},
   "source": [
    "Обучим модель линейной регрессии без каких-либо преобразований"
   ]
  },
  {
   "cell_type": "code",
   "execution_count": 8,
   "metadata": {},
   "outputs": [],
   "source": [
    "features= df.drop('insurance_payments', axis=1)\n",
    "target = df['insurance_payments']"
   ]
  },
  {
   "cell_type": "code",
   "execution_count": 9,
   "metadata": {},
   "outputs": [],
   "source": [
    "features_train, features_valid, target_train, target_valid = train_test_split(\n",
    "    features, target, test_size= 0.25, random_state=12345)"
   ]
  },
  {
   "cell_type": "code",
   "execution_count": 10,
   "metadata": {
    "scrolled": true
   },
   "outputs": [
    {
     "name": "stdout",
     "output_type": "stream",
     "text": [
      "0.435227571270266\n"
     ]
    }
   ],
   "source": [
    "model = LinearRegression()\n",
    "model.fit(features_train, target_train)\n",
    "predictions = model.predict(features_valid)\n",
    "R_2 = r2_score(target_valid, predictions)\n",
    "print(R_2)"
   ]
  },
  {
   "cell_type": "markdown",
   "metadata": {},
   "source": [
    "Теперь будет действовать согласно описанному в пункте 3 алгоритму"
   ]
  },
  {
   "cell_type": "code",
   "execution_count": 11,
   "metadata": {},
   "outputs": [],
   "source": [
    "features= df.drop('insurance_payments', axis=1)\n",
    "target = df['insurance_payments']"
   ]
  },
  {
   "cell_type": "code",
   "execution_count": 12,
   "metadata": {},
   "outputs": [],
   "source": [
    "features_train, features_valid, target_train, target_valid = train_test_split(\n",
    "    features, target, test_size= 0.25, random_state=12345)"
   ]
  },
  {
   "cell_type": "markdown",
   "metadata": {},
   "source": [
    "Напишем цикл, который бы объединял в себе: \n",
    "1. Создание матрицы $ A $;\n",
    "2. Проверку матрицы на обратимость;"
   ]
  },
  {
   "cell_type": "code",
   "execution_count": 13,
   "metadata": {},
   "outputs": [],
   "source": [
    "while True:\n",
    "        \n",
    "    try:            \n",
    "        A = np.random.normal(size=(features_train.shape[1],features_train.shape[1]))\n",
    "        A_inv = np.linalg.inv(A)\n",
    "            \n",
    "    except:\n",
    "        continue\n",
    "            \n",
    "    break"
   ]
  },
  {
   "cell_type": "markdown",
   "metadata": {},
   "source": [
    "Преобразуем признаки"
   ]
  },
  {
   "cell_type": "code",
   "execution_count": 14,
   "metadata": {},
   "outputs": [],
   "source": [
    "features_train = features_train @ A"
   ]
  },
  {
   "cell_type": "code",
   "execution_count": 15,
   "metadata": {},
   "outputs": [],
   "source": [
    "features_valid = features_valid @ A"
   ]
  },
  {
   "cell_type": "markdown",
   "metadata": {},
   "source": [
    "Создадим класс `LinearRegression`"
   ]
  },
  {
   "cell_type": "code",
   "execution_count": 16,
   "metadata": {},
   "outputs": [],
   "source": [
    "class LinearRegression:\n",
    "    def fit(self, train_features, train_target):\n",
    "        X = np.concatenate((np.ones((train_features.shape[0], 1)), train_features), axis=1)\n",
    "        y = train_target \n",
    "        w = np.linalg.inv(X.T @ X) @ X.T @ y \n",
    "        self.w = w[1:]\n",
    "        self.w0 = w[0]\n",
    "    \n",
    "    def predict(self, test_features):\n",
    "        return test_features.dot(self.w) + self.w0"
   ]
  },
  {
   "cell_type": "code",
   "execution_count": 17,
   "metadata": {
    "scrolled": true
   },
   "outputs": [],
   "source": [
    "model = LinearRegression()\n",
    "model.fit(features_train, target_train)\n",
    "predictions = model.predict(features_valid)"
   ]
  },
  {
   "cell_type": "code",
   "execution_count": 18,
   "metadata": {},
   "outputs": [],
   "source": [
    "def mse(target, predictions):\n",
    "    return((target - predictions)**2).mean()"
   ]
  },
  {
   "cell_type": "code",
   "execution_count": 19,
   "metadata": {
    "scrolled": false
   },
   "outputs": [],
   "source": [
    "mse_1 = mse(target_valid, predictions)"
   ]
  },
  {
   "cell_type": "code",
   "execution_count": 20,
   "metadata": {},
   "outputs": [],
   "source": [
    "mean = np.full(target_valid.shape[0], target.mean())"
   ]
  },
  {
   "cell_type": "code",
   "execution_count": 21,
   "metadata": {},
   "outputs": [],
   "source": [
    "mse_mean = mse(target_valid, mean)"
   ]
  },
  {
   "cell_type": "markdown",
   "metadata": {},
   "source": [
    "Рассчитаем финальную метрику `R2`"
   ]
  },
  {
   "cell_type": "markdown",
   "metadata": {},
   "source": [
    "Для наглядности добавим индекс t (transformed - преобразованный) к названию метрики"
   ]
  },
  {
   "cell_type": "code",
   "execution_count": 22,
   "metadata": {},
   "outputs": [],
   "source": [
    "R_2_t = 1 - mse_1 / mse_mean"
   ]
  },
  {
   "cell_type": "markdown",
   "metadata": {},
   "source": [
    "Сравним полученные значения метрики `R2`"
   ]
  },
  {
   "cell_type": "code",
   "execution_count": 23,
   "metadata": {},
   "outputs": [
    {
     "data": {
      "text/plain": [
       "R_2      0.435228\n",
       "R_2_t    0.435271\n",
       "dtype: float64"
      ]
     },
     "execution_count": 23,
     "metadata": {},
     "output_type": "execute_result"
    }
   ],
   "source": [
    "pd.Series([R_2,R_2_t], ['R_2', 'R_2_t'])"
   ]
  },
  {
   "cell_type": "markdown",
   "metadata": {},
   "source": [
    "Полное совпадние"
   ]
  },
  {
   "cell_type": "markdown",
   "metadata": {},
   "source": [
    "## Вывод"
   ]
  },
  {
   "cell_type": "markdown",
   "metadata": {},
   "source": [
    "Таким образом, из полученных результатов хорошо видно, что выбранный алгоритм преобразования данных является верным. Значения метрики `R2` до и после преобразований абсолютно идентичны."
   ]
  },
  {
   "cell_type": "markdown",
   "metadata": {},
   "source": [
    "## Чек-лист проверки"
   ]
  },
  {
   "cell_type": "markdown",
   "metadata": {},
   "source": [
    "Поставьте 'x' в выполненных пунктах. Далее нажмите Shift+Enter."
   ]
  },
  {
   "cell_type": "markdown",
   "metadata": {},
   "source": [
    "- [x]  Jupyter Notebook открыт\n",
    "- [x]  Весь код выполняется без ошибок\n",
    "- [x]  Ячейки с кодом расположены в порядке исполнения\n",
    "- [x]  Выполнен шаг 1: данные загружены\n",
    "- [x]  Выполнен шаг 2: получен ответ на вопрос об умножении матриц\n",
    "    - [x]  Указан правильный вариант ответа\n",
    "    - [x]  Вариант обоснован\n",
    "- [x]  Выполнен шаг 3: предложен алгоритм преобразования\n",
    "    - [x]  Алгоритм описан\n",
    "    - [x]  Алгоритм обоснован\n",
    "- [x]  Выполнен шаг 4: алгоритм проверен\n",
    "    - [x]  Алгоритм реализован\n",
    "    - [x]  Проведено сравнение качества моделей до и после преобразования"
   ]
  }
 ],
 "metadata": {
  "ExecuteTimeLog": [
   {
    "duration": 602,
    "start_time": "2021-10-14T23:35:10.491Z"
   },
   {
    "duration": 410,
    "start_time": "2021-10-14T23:35:39.172Z"
   },
   {
    "duration": 19,
    "start_time": "2021-10-14T23:35:51.634Z"
   },
   {
    "duration": 18,
    "start_time": "2021-10-14T23:35:57.765Z"
   },
   {
    "duration": 6,
    "start_time": "2021-10-14T23:36:39.244Z"
   },
   {
    "duration": 11,
    "start_time": "2021-10-14T23:36:45.660Z"
   },
   {
    "duration": 3,
    "start_time": "2021-10-14T23:37:35.164Z"
   },
   {
    "duration": 23,
    "start_time": "2021-10-14T23:37:55.131Z"
   },
   {
    "duration": 11,
    "start_time": "2021-10-14T23:38:04.276Z"
   },
   {
    "duration": 785,
    "start_time": "2021-10-26T19:55:52.583Z"
   },
   {
    "duration": 23,
    "start_time": "2021-10-26T19:55:53.371Z"
   },
   {
    "duration": 27,
    "start_time": "2021-10-26T19:55:54.451Z"
   },
   {
    "duration": 366,
    "start_time": "2021-10-26T20:24:12.766Z"
   },
   {
    "duration": 4,
    "start_time": "2021-10-26T20:24:39.391Z"
   },
   {
    "duration": 5,
    "start_time": "2021-10-26T20:24:48.290Z"
   },
   {
    "duration": 4,
    "start_time": "2021-10-26T20:25:35.546Z"
   },
   {
    "duration": 4,
    "start_time": "2021-10-26T20:25:46.969Z"
   },
   {
    "duration": 5,
    "start_time": "2021-10-26T20:25:52.281Z"
   },
   {
    "duration": 4,
    "start_time": "2021-10-26T20:26:02.337Z"
   },
   {
    "duration": 3,
    "start_time": "2021-10-26T20:26:03.793Z"
   },
   {
    "duration": 5,
    "start_time": "2021-10-26T20:26:04.129Z"
   },
   {
    "duration": 5,
    "start_time": "2021-10-26T20:27:30.073Z"
   },
   {
    "duration": 6,
    "start_time": "2021-10-26T20:27:35.136Z"
   },
   {
    "duration": 3,
    "start_time": "2021-10-26T20:28:01.273Z"
   },
   {
    "duration": 5,
    "start_time": "2021-10-26T20:28:02.032Z"
   },
   {
    "duration": 4,
    "start_time": "2021-10-26T20:28:03.992Z"
   },
   {
    "duration": 3,
    "start_time": "2021-10-26T20:28:04.240Z"
   },
   {
    "duration": 5,
    "start_time": "2021-10-26T20:28:04.416Z"
   },
   {
    "duration": 5,
    "start_time": "2021-10-26T20:28:04.600Z"
   },
   {
    "duration": 5,
    "start_time": "2021-10-26T20:28:05.025Z"
   },
   {
    "duration": 6,
    "start_time": "2021-10-26T20:29:07.616Z"
   },
   {
    "duration": 4,
    "start_time": "2021-10-26T20:29:20.632Z"
   },
   {
    "duration": 5,
    "start_time": "2021-10-26T20:29:23.312Z"
   },
   {
    "duration": 6,
    "start_time": "2021-10-26T20:29:31.808Z"
   },
   {
    "duration": 99,
    "start_time": "2021-10-26T20:29:54.656Z"
   },
   {
    "duration": 258,
    "start_time": "2021-10-26T20:29:59.494Z"
   },
   {
    "duration": 6,
    "start_time": "2021-10-26T20:30:07.064Z"
   },
   {
    "duration": 6,
    "start_time": "2021-10-26T20:32:07.520Z"
   },
   {
    "duration": 3,
    "start_time": "2021-10-26T20:32:19.215Z"
   },
   {
    "duration": 4,
    "start_time": "2021-10-26T20:32:40.703Z"
   },
   {
    "duration": 6,
    "start_time": "2021-10-26T20:32:45.839Z"
   },
   {
    "duration": 5,
    "start_time": "2021-10-26T20:33:05.151Z"
   },
   {
    "duration": 6,
    "start_time": "2021-10-26T20:33:48.326Z"
   },
   {
    "duration": 3,
    "start_time": "2021-10-26T20:34:08.615Z"
   },
   {
    "duration": 3,
    "start_time": "2021-10-26T20:34:55.158Z"
   },
   {
    "duration": 5,
    "start_time": "2021-10-26T20:34:59.366Z"
   },
   {
    "duration": 4,
    "start_time": "2021-10-26T20:35:52.454Z"
   },
   {
    "duration": 6,
    "start_time": "2021-10-26T20:36:06.766Z"
   },
   {
    "duration": 6,
    "start_time": "2021-10-26T20:36:15.950Z"
   },
   {
    "duration": 6,
    "start_time": "2021-10-26T20:36:46.742Z"
   },
   {
    "duration": 3,
    "start_time": "2021-10-26T20:37:21.430Z"
   },
   {
    "duration": 120,
    "start_time": "2021-10-26T20:37:23.869Z"
   },
   {
    "duration": 3,
    "start_time": "2021-10-26T20:37:24.101Z"
   },
   {
    "duration": 4,
    "start_time": "2021-10-26T20:37:28.166Z"
   },
   {
    "duration": 3,
    "start_time": "2021-10-26T20:37:29.670Z"
   },
   {
    "duration": 7,
    "start_time": "2021-10-26T20:37:30.485Z"
   },
   {
    "duration": 3,
    "start_time": "2021-10-26T20:37:34.358Z"
   },
   {
    "duration": 3,
    "start_time": "2021-10-26T20:37:34.661Z"
   },
   {
    "duration": 4,
    "start_time": "2021-10-26T20:37:35.024Z"
   },
   {
    "duration": 4,
    "start_time": "2021-10-26T20:37:35.557Z"
   },
   {
    "duration": 7,
    "start_time": "2021-10-26T20:37:35.941Z"
   },
   {
    "duration": 7,
    "start_time": "2021-10-26T20:37:45.469Z"
   },
   {
    "duration": 4,
    "start_time": "2021-10-26T20:37:46.093Z"
   },
   {
    "duration": 4,
    "start_time": "2021-10-26T20:37:46.629Z"
   },
   {
    "duration": 4,
    "start_time": "2021-10-26T20:37:47.237Z"
   },
   {
    "duration": 3,
    "start_time": "2021-10-26T20:37:47.597Z"
   },
   {
    "duration": 5,
    "start_time": "2021-10-26T20:37:47.989Z"
   },
   {
    "duration": 4,
    "start_time": "2021-10-26T20:39:32.757Z"
   },
   {
    "duration": 3,
    "start_time": "2021-10-26T20:39:35.277Z"
   },
   {
    "duration": 4,
    "start_time": "2021-10-26T20:39:35.532Z"
   },
   {
    "duration": 4,
    "start_time": "2021-10-26T20:39:35.767Z"
   },
   {
    "duration": 6,
    "start_time": "2021-10-26T20:39:36.125Z"
   },
   {
    "duration": 4,
    "start_time": "2021-10-26T20:39:37.501Z"
   },
   {
    "duration": 4,
    "start_time": "2021-10-26T20:39:37.725Z"
   },
   {
    "duration": 4,
    "start_time": "2021-10-26T20:39:37.908Z"
   },
   {
    "duration": 3,
    "start_time": "2021-10-26T20:39:38.101Z"
   },
   {
    "duration": 6,
    "start_time": "2021-10-26T20:39:38.564Z"
   },
   {
    "duration": 4,
    "start_time": "2021-10-26T20:41:03.044Z"
   },
   {
    "duration": 3,
    "start_time": "2021-10-26T20:41:03.988Z"
   },
   {
    "duration": 5,
    "start_time": "2021-10-26T20:41:04.877Z"
   },
   {
    "duration": 4,
    "start_time": "2021-10-26T20:41:05.124Z"
   },
   {
    "duration": 5,
    "start_time": "2021-10-26T20:41:06.884Z"
   },
   {
    "duration": 4,
    "start_time": "2021-10-26T20:41:10.756Z"
   },
   {
    "duration": 6,
    "start_time": "2021-10-26T20:41:11.140Z"
   },
   {
    "duration": 6,
    "start_time": "2021-10-26T20:41:12.596Z"
   },
   {
    "duration": 4,
    "start_time": "2021-10-26T20:41:13.820Z"
   },
   {
    "duration": 6,
    "start_time": "2021-10-26T20:41:14.156Z"
   },
   {
    "duration": 4,
    "start_time": "2021-10-26T20:41:15.700Z"
   },
   {
    "duration": 4,
    "start_time": "2021-10-26T20:41:16.196Z"
   },
   {
    "duration": 6,
    "start_time": "2021-10-26T20:41:16.636Z"
   },
   {
    "duration": 3,
    "start_time": "2021-10-26T20:41:21.964Z"
   },
   {
    "duration": 8,
    "start_time": "2021-10-26T20:41:22.252Z"
   },
   {
    "duration": 4,
    "start_time": "2021-10-26T20:44:00.563Z"
   },
   {
    "duration": 4,
    "start_time": "2021-10-26T20:44:00.947Z"
   },
   {
    "duration": 3,
    "start_time": "2021-10-26T20:44:01.326Z"
   },
   {
    "duration": 4,
    "start_time": "2021-10-26T20:44:02.396Z"
   },
   {
    "duration": 7,
    "start_time": "2021-10-26T20:44:02.891Z"
   },
   {
    "duration": 3,
    "start_time": "2021-10-26T20:44:04.475Z"
   },
   {
    "duration": 6,
    "start_time": "2021-10-26T20:44:05.011Z"
   },
   {
    "duration": 4,
    "start_time": "2021-10-26T20:44:07.955Z"
   },
   {
    "duration": 6,
    "start_time": "2021-10-26T20:44:08.339Z"
   },
   {
    "duration": 7,
    "start_time": "2021-10-26T20:44:10.011Z"
   },
   {
    "duration": 3,
    "start_time": "2021-10-26T20:44:12.763Z"
   },
   {
    "duration": 6,
    "start_time": "2021-10-26T20:44:13.579Z"
   },
   {
    "duration": 4,
    "start_time": "2021-10-26T20:44:15.355Z"
   },
   {
    "duration": 3,
    "start_time": "2021-10-26T20:44:15.955Z"
   },
   {
    "duration": 5,
    "start_time": "2021-10-26T20:44:17.243Z"
   },
   {
    "duration": 3,
    "start_time": "2021-10-26T20:44:22.699Z"
   },
   {
    "duration": 14,
    "start_time": "2021-10-26T20:44:23.149Z"
   },
   {
    "duration": 407,
    "start_time": "2021-11-02T13:10:13.862Z"
   },
   {
    "duration": 7,
    "start_time": "2021-11-02T13:10:55.095Z"
   },
   {
    "duration": 7,
    "start_time": "2021-11-02T15:43:04.536Z"
   },
   {
    "duration": 261,
    "start_time": "2021-11-02T15:43:50.528Z"
   },
   {
    "duration": 4,
    "start_time": "2021-11-02T15:43:56.907Z"
   },
   {
    "duration": 5,
    "start_time": "2021-11-02T15:44:37.826Z"
   },
   {
    "duration": 382,
    "start_time": "2021-11-02T15:44:48.867Z"
   },
   {
    "duration": 473,
    "start_time": "2021-11-02T15:45:03.361Z"
   },
   {
    "duration": 17,
    "start_time": "2021-11-02T15:45:08.938Z"
   },
   {
    "duration": 317,
    "start_time": "2021-11-02T15:58:14.086Z"
   },
   {
    "duration": 5,
    "start_time": "2021-11-02T15:58:25.493Z"
   },
   {
    "duration": 4,
    "start_time": "2021-11-02T16:01:17.676Z"
   },
   {
    "duration": 302,
    "start_time": "2021-11-02T16:07:00.667Z"
   },
   {
    "duration": 446,
    "start_time": "2021-11-02T16:07:59.339Z"
   },
   {
    "duration": 3,
    "start_time": "2021-11-02T16:08:42.120Z"
   },
   {
    "duration": 4,
    "start_time": "2021-11-02T16:08:43.890Z"
   },
   {
    "duration": 4,
    "start_time": "2021-11-02T16:08:49.042Z"
   },
   {
    "duration": 4,
    "start_time": "2021-11-02T16:09:28.346Z"
   },
   {
    "duration": 5,
    "start_time": "2021-11-02T16:09:33.262Z"
   },
   {
    "duration": 4,
    "start_time": "2021-11-02T16:10:25.793Z"
   },
   {
    "duration": 4,
    "start_time": "2021-11-02T16:10:31.057Z"
   },
   {
    "duration": 5,
    "start_time": "2021-11-02T16:12:03.185Z"
   },
   {
    "duration": 667,
    "start_time": "2021-11-02T16:12:11.664Z"
   },
   {
    "duration": 5,
    "start_time": "2021-11-02T16:14:07.137Z"
   },
   {
    "duration": 40101,
    "start_time": "2021-11-02T16:14:08.152Z"
   },
   {
    "duration": 4,
    "start_time": "2021-11-02T16:19:07.727Z"
   },
   {
    "duration": 5,
    "start_time": "2021-11-02T16:19:28.622Z"
   },
   {
    "duration": 647,
    "start_time": "2021-11-02T16:19:29.919Z"
   },
   {
    "duration": 266,
    "start_time": "2021-11-02T16:20:38.406Z"
   },
   {
    "duration": 277,
    "start_time": "2021-11-02T16:20:48.903Z"
   },
   {
    "duration": 383,
    "start_time": "2021-11-02T16:21:14.966Z"
   },
   {
    "duration": 4,
    "start_time": "2021-11-02T16:21:33.833Z"
   },
   {
    "duration": 40140,
    "start_time": "2021-11-02T16:21:35.534Z"
   },
   {
    "duration": 2211,
    "start_time": "2021-11-02T18:33:26.581Z"
   },
   {
    "duration": 31,
    "start_time": "2021-11-02T18:33:28.794Z"
   },
   {
    "duration": 20,
    "start_time": "2021-11-02T18:33:28.827Z"
   },
   {
    "duration": 4,
    "start_time": "2021-11-02T18:33:58.587Z"
   },
   {
    "duration": 4,
    "start_time": "2021-11-02T18:33:59.591Z"
   },
   {
    "duration": 34,
    "start_time": "2021-11-02T18:34:00.671Z"
   },
   {
    "duration": 340,
    "start_time": "2021-11-02T18:34:08.277Z"
   },
   {
    "duration": 5,
    "start_time": "2021-11-02T18:34:15.048Z"
   },
   {
    "duration": 42450,
    "start_time": "2021-11-02T18:34:17.224Z"
   },
   {
    "duration": -73,
    "start_time": "2021-11-02T18:34:59.749Z"
   },
   {
    "duration": 3,
    "start_time": "2021-11-02T19:25:11.301Z"
   },
   {
    "duration": 2,
    "start_time": "2021-11-02T19:25:11.888Z"
   },
   {
    "duration": 3,
    "start_time": "2021-11-02T19:25:12.375Z"
   },
   {
    "duration": 3,
    "start_time": "2021-11-02T19:25:13.013Z"
   },
   {
    "duration": 5,
    "start_time": "2021-11-02T19:25:13.555Z"
   },
   {
    "duration": 2,
    "start_time": "2021-11-02T19:25:15.587Z"
   },
   {
    "duration": 5,
    "start_time": "2021-11-02T19:25:15.912Z"
   },
   {
    "duration": 3,
    "start_time": "2021-11-02T19:25:16.166Z"
   },
   {
    "duration": 4,
    "start_time": "2021-11-02T19:25:16.346Z"
   },
   {
    "duration": 5,
    "start_time": "2021-11-02T19:25:16.542Z"
   },
   {
    "duration": 2,
    "start_time": "2021-11-02T19:25:16.734Z"
   },
   {
    "duration": 4,
    "start_time": "2021-11-02T19:25:16.922Z"
   },
   {
    "duration": 3,
    "start_time": "2021-11-02T19:25:17.547Z"
   },
   {
    "duration": 3,
    "start_time": "2021-11-02T19:25:17.994Z"
   },
   {
    "duration": 4,
    "start_time": "2021-11-02T19:25:18.323Z"
   },
   {
    "duration": 2,
    "start_time": "2021-11-02T19:25:18.735Z"
   },
   {
    "duration": 4,
    "start_time": "2021-11-02T19:25:19.766Z"
   },
   {
    "duration": 4,
    "start_time": "2021-11-02T19:25:36.045Z"
   },
   {
    "duration": 2,
    "start_time": "2021-11-02T19:25:36.452Z"
   },
   {
    "duration": 2,
    "start_time": "2021-11-02T19:25:38.464Z"
   },
   {
    "duration": 2,
    "start_time": "2021-11-02T19:25:40.068Z"
   },
   {
    "duration": 4,
    "start_time": "2021-11-02T19:25:40.774Z"
   },
   {
    "duration": 4,
    "start_time": "2021-11-02T19:25:51.813Z"
   },
   {
    "duration": 4,
    "start_time": "2021-11-02T19:25:52.282Z"
   },
   {
    "duration": 593,
    "start_time": "2021-11-02T19:25:53.599Z"
   },
   {
    "duration": -22,
    "start_time": "2021-11-02T19:25:54.216Z"
   },
   {
    "duration": 4,
    "start_time": "2021-11-02T19:26:00.279Z"
   },
   {
    "duration": 606,
    "start_time": "2021-11-02T19:26:01.469Z"
   },
   {
    "duration": 342,
    "start_time": "2021-11-02T19:26:04.439Z"
   },
   {
    "duration": 3,
    "start_time": "2021-11-02T19:26:46.822Z"
   },
   {
    "duration": 3,
    "start_time": "2021-11-02T19:26:48.773Z"
   },
   {
    "duration": 4,
    "start_time": "2021-11-02T19:26:50.201Z"
   },
   {
    "duration": 2,
    "start_time": "2021-11-02T19:26:50.794Z"
   },
   {
    "duration": 4,
    "start_time": "2021-11-02T19:26:51.330Z"
   },
   {
    "duration": 3,
    "start_time": "2021-11-02T19:26:52.673Z"
   },
   {
    "duration": 4,
    "start_time": "2021-11-02T19:26:53.292Z"
   },
   {
    "duration": 4,
    "start_time": "2021-11-02T19:26:53.838Z"
   },
   {
    "duration": 3,
    "start_time": "2021-11-02T19:26:55.052Z"
   },
   {
    "duration": 5,
    "start_time": "2021-11-02T19:26:55.381Z"
   },
   {
    "duration": 3,
    "start_time": "2021-11-02T19:26:55.848Z"
   },
   {
    "duration": 3,
    "start_time": "2021-11-02T19:26:57.470Z"
   },
   {
    "duration": 4,
    "start_time": "2021-11-02T19:26:57.772Z"
   },
   {
    "duration": 2,
    "start_time": "2021-11-02T19:26:57.976Z"
   },
   {
    "duration": 4,
    "start_time": "2021-11-02T19:26:58.352Z"
   },
   {
    "duration": 3,
    "start_time": "2021-11-02T19:27:24.243Z"
   },
   {
    "duration": 2,
    "start_time": "2021-11-02T19:27:56.003Z"
   },
   {
    "duration": 390,
    "start_time": "2021-11-02T19:28:02.203Z"
   },
   {
    "duration": 3,
    "start_time": "2021-11-02T19:28:19.442Z"
   },
   {
    "duration": 3,
    "start_time": "2021-11-02T19:28:20.180Z"
   },
   {
    "duration": 3,
    "start_time": "2021-11-02T19:28:21.081Z"
   },
   {
    "duration": 6,
    "start_time": "2021-11-02T19:28:21.538Z"
   },
   {
    "duration": 4,
    "start_time": "2021-11-02T19:28:26.218Z"
   },
   {
    "duration": 5,
    "start_time": "2021-11-02T19:28:26.988Z"
   },
   {
    "duration": 3,
    "start_time": "2021-11-02T19:28:29.449Z"
   },
   {
    "duration": 4,
    "start_time": "2021-11-02T19:28:30.272Z"
   },
   {
    "duration": 3,
    "start_time": "2021-11-02T19:28:45.783Z"
   },
   {
    "duration": 2,
    "start_time": "2021-11-02T19:28:46.779Z"
   },
   {
    "duration": 4,
    "start_time": "2021-11-02T19:28:47.138Z"
   },
   {
    "duration": 2,
    "start_time": "2021-11-02T19:28:47.422Z"
   },
   {
    "duration": 4,
    "start_time": "2021-11-02T19:28:47.664Z"
   },
   {
    "duration": 3,
    "start_time": "2021-11-02T19:28:47.881Z"
   },
   {
    "duration": 4,
    "start_time": "2021-11-02T19:28:48.082Z"
   },
   {
    "duration": 5,
    "start_time": "2021-11-02T19:28:48.285Z"
   },
   {
    "duration": 3,
    "start_time": "2021-11-02T19:28:48.474Z"
   },
   {
    "duration": 5,
    "start_time": "2021-11-02T19:28:48.657Z"
   },
   {
    "duration": 3,
    "start_time": "2021-11-02T19:28:48.858Z"
   },
   {
    "duration": 342,
    "start_time": "2021-11-02T19:28:49.461Z"
   },
   {
    "duration": 4,
    "start_time": "2021-11-02T19:28:50.023Z"
   },
   {
    "duration": 2,
    "start_time": "2021-11-02T19:28:50.845Z"
   },
   {
    "duration": 4,
    "start_time": "2021-11-02T19:28:51.286Z"
   },
   {
    "duration": 7,
    "start_time": "2021-11-02T19:29:19.116Z"
   },
   {
    "duration": 2,
    "start_time": "2021-11-02T19:29:20.731Z"
   },
   {
    "duration": 3,
    "start_time": "2021-11-02T19:29:21.260Z"
   },
   {
    "duration": 2,
    "start_time": "2021-11-02T19:29:24.304Z"
   },
   {
    "duration": 18,
    "start_time": "2021-11-02T19:29:24.308Z"
   },
   {
    "duration": 3,
    "start_time": "2021-11-02T19:29:29.754Z"
   },
   {
    "duration": 5,
    "start_time": "2021-11-02T19:29:30.230Z"
   },
   {
    "duration": 5,
    "start_time": "2021-11-02T19:29:32.259Z"
   },
   {
    "duration": 3,
    "start_time": "2021-11-02T19:29:32.795Z"
   },
   {
    "duration": 5,
    "start_time": "2021-11-02T19:29:33.451Z"
   },
   {
    "duration": 3,
    "start_time": "2021-11-02T19:29:35.555Z"
   },
   {
    "duration": 353,
    "start_time": "2021-11-02T19:29:36.114Z"
   },
   {
    "duration": 5,
    "start_time": "2021-11-02T19:29:39.709Z"
   },
   {
    "duration": 3,
    "start_time": "2021-11-02T19:29:50.291Z"
   },
   {
    "duration": 3,
    "start_time": "2021-11-02T19:29:50.726Z"
   },
   {
    "duration": 4,
    "start_time": "2021-11-02T19:29:51.618Z"
   },
   {
    "duration": 3,
    "start_time": "2021-11-02T19:29:54.934Z"
   },
   {
    "duration": 4,
    "start_time": "2021-11-02T19:29:55.341Z"
   },
   {
    "duration": 4,
    "start_time": "2021-11-02T19:30:06.611Z"
   },
   {
    "duration": 3,
    "start_time": "2021-11-02T19:30:06.965Z"
   },
   {
    "duration": 3,
    "start_time": "2021-11-02T19:30:07.510Z"
   },
   {
    "duration": 3,
    "start_time": "2021-11-02T19:30:08.018Z"
   },
   {
    "duration": 4,
    "start_time": "2021-11-02T19:30:08.566Z"
   },
   {
    "duration": 2,
    "start_time": "2021-11-02T19:30:11.777Z"
   },
   {
    "duration": 4,
    "start_time": "2021-11-02T19:30:12.231Z"
   },
   {
    "duration": 3,
    "start_time": "2021-11-02T19:30:13.019Z"
   },
   {
    "duration": 4,
    "start_time": "2021-11-02T19:30:14.777Z"
   },
   {
    "duration": 5,
    "start_time": "2021-11-02T19:30:15.487Z"
   },
   {
    "duration": 3,
    "start_time": "2021-11-02T19:30:17.969Z"
   },
   {
    "duration": 5,
    "start_time": "2021-11-02T19:30:18.769Z"
   },
   {
    "duration": 3,
    "start_time": "2021-11-02T19:30:20.820Z"
   },
   {
    "duration": 3,
    "start_time": "2021-11-02T19:30:21.532Z"
   },
   {
    "duration": 5,
    "start_time": "2021-11-02T19:30:22.280Z"
   },
   {
    "duration": 3,
    "start_time": "2021-11-02T19:30:24.167Z"
   },
   {
    "duration": 4,
    "start_time": "2021-11-02T19:30:25.026Z"
   },
   {
    "duration": 3,
    "start_time": "2021-11-02T19:41:01.082Z"
   },
   {
    "duration": 582,
    "start_time": "2021-11-02T19:41:01.324Z"
   },
   {
    "duration": 3,
    "start_time": "2021-11-02T19:41:36.921Z"
   },
   {
    "duration": 573,
    "start_time": "2021-11-02T19:41:37.551Z"
   },
   {
    "duration": 3,
    "start_time": "2021-11-02T19:41:50.674Z"
   },
   {
    "duration": 725,
    "start_time": "2021-11-02T19:41:51.796Z"
   },
   {
    "duration": 3,
    "start_time": "2021-11-02T19:42:20.197Z"
   },
   {
    "duration": 3,
    "start_time": "2021-11-02T19:42:20.583Z"
   },
   {
    "duration": 557,
    "start_time": "2021-11-02T19:42:48.311Z"
   },
   {
    "duration": 3,
    "start_time": "2021-11-02T19:43:01.585Z"
   },
   {
    "duration": 4,
    "start_time": "2021-11-02T19:43:04.361Z"
   },
   {
    "duration": 3,
    "start_time": "2021-11-02T19:43:12.989Z"
   },
   {
    "duration": 6,
    "start_time": "2021-11-02T19:43:13.702Z"
   },
   {
    "duration": 593,
    "start_time": "2021-11-02T19:43:14.001Z"
   },
   {
    "duration": 567,
    "start_time": "2021-11-02T19:43:20.947Z"
   },
   {
    "duration": 3,
    "start_time": "2021-11-02T19:43:32.619Z"
   },
   {
    "duration": 594,
    "start_time": "2021-11-02T19:43:36.086Z"
   },
   {
    "duration": 2,
    "start_time": "2021-11-02T19:44:14.241Z"
   },
   {
    "duration": 2,
    "start_time": "2021-11-02T19:44:25.390Z"
   },
   {
    "duration": 4,
    "start_time": "2021-11-02T19:44:26.477Z"
   },
   {
    "duration": 590,
    "start_time": "2021-11-02T19:44:27.189Z"
   },
   {
    "duration": 3,
    "start_time": "2021-11-02T19:44:45.746Z"
   },
   {
    "duration": 4,
    "start_time": "2021-11-02T19:44:46.374Z"
   },
   {
    "duration": 5,
    "start_time": "2021-11-02T19:44:46.942Z"
   },
   {
    "duration": 3,
    "start_time": "2021-11-02T19:46:06.848Z"
   },
   {
    "duration": 359,
    "start_time": "2021-11-02T19:46:08.196Z"
   },
   {
    "duration": 3,
    "start_time": "2021-11-02T19:46:35.973Z"
   },
   {
    "duration": 2,
    "start_time": "2021-11-02T19:46:36.683Z"
   },
   {
    "duration": 2,
    "start_time": "2021-11-02T19:46:37.687Z"
   },
   {
    "duration": 3,
    "start_time": "2021-11-02T19:46:38.889Z"
   },
   {
    "duration": 3,
    "start_time": "2021-11-02T19:46:42.340Z"
   },
   {
    "duration": 3,
    "start_time": "2021-11-02T19:46:42.960Z"
   },
   {
    "duration": 7,
    "start_time": "2021-11-02T19:46:45.005Z"
   },
   {
    "duration": 4,
    "start_time": "2021-11-02T19:46:45.370Z"
   },
   {
    "duration": 5,
    "start_time": "2021-11-02T19:46:45.836Z"
   },
   {
    "duration": 2,
    "start_time": "2021-11-02T19:46:47.621Z"
   },
   {
    "duration": 11,
    "start_time": "2021-11-02T19:46:47.907Z"
   },
   {
    "duration": 3,
    "start_time": "2021-11-02T19:46:52.092Z"
   },
   {
    "duration": 342,
    "start_time": "2021-11-02T19:46:52.531Z"
   },
   {
    "duration": 3,
    "start_time": "2021-11-02T19:46:56.359Z"
   },
   {
    "duration": 3,
    "start_time": "2021-11-02T19:46:56.746Z"
   },
   {
    "duration": 4,
    "start_time": "2021-11-02T19:46:57.406Z"
   },
   {
    "duration": 3,
    "start_time": "2021-11-02T19:46:57.917Z"
   },
   {
    "duration": 4,
    "start_time": "2021-11-02T19:46:58.252Z"
   },
   {
    "duration": 333,
    "start_time": "2021-11-02T19:47:40.656Z"
   },
   {
    "duration": 10,
    "start_time": "2021-11-02T19:47:54.539Z"
   },
   {
    "duration": 5,
    "start_time": "2021-11-02T19:48:08.230Z"
   },
   {
    "duration": 677,
    "start_time": "2021-11-02T19:48:12.606Z"
   },
   {
    "duration": 5,
    "start_time": "2021-11-03T04:29:15.025Z"
   },
   {
    "duration": 308,
    "start_time": "2021-11-03T04:29:20.235Z"
   },
   {
    "duration": 1206,
    "start_time": "2021-11-03T04:29:39.738Z"
   },
   {
    "duration": 18,
    "start_time": "2021-11-03T04:29:40.946Z"
   },
   {
    "duration": 17,
    "start_time": "2021-11-03T04:29:40.966Z"
   },
   {
    "duration": 3,
    "start_time": "2021-11-03T04:29:40.985Z"
   },
   {
    "duration": 5,
    "start_time": "2021-11-03T04:29:40.989Z"
   },
   {
    "duration": 5,
    "start_time": "2021-11-03T04:29:40.995Z"
   },
   {
    "duration": 4,
    "start_time": "2021-11-03T04:29:41.001Z"
   },
   {
    "duration": 5,
    "start_time": "2021-11-03T04:29:41.008Z"
   },
   {
    "duration": 4,
    "start_time": "2021-11-03T04:29:41.015Z"
   },
   {
    "duration": 25,
    "start_time": "2021-11-03T04:29:41.021Z"
   },
   {
    "duration": 3,
    "start_time": "2021-11-03T04:29:41.048Z"
   },
   {
    "duration": 5,
    "start_time": "2021-11-03T04:29:41.053Z"
   },
   {
    "duration": 11,
    "start_time": "2021-11-03T04:29:41.059Z"
   },
   {
    "duration": 3,
    "start_time": "2021-11-03T04:29:41.072Z"
   },
   {
    "duration": 5,
    "start_time": "2021-11-03T04:29:41.077Z"
   },
   {
    "duration": 62,
    "start_time": "2021-11-03T04:29:41.083Z"
   },
   {
    "duration": 331,
    "start_time": "2021-11-03T04:29:41.147Z"
   },
   {
    "duration": -195,
    "start_time": "2021-11-03T04:29:41.675Z"
   },
   {
    "duration": -199,
    "start_time": "2021-11-03T04:29:41.680Z"
   },
   {
    "duration": -204,
    "start_time": "2021-11-03T04:29:41.686Z"
   },
   {
    "duration": -207,
    "start_time": "2021-11-03T04:29:41.690Z"
   },
   {
    "duration": -211,
    "start_time": "2021-11-03T04:29:41.695Z"
   },
   {
    "duration": -215,
    "start_time": "2021-11-03T04:29:41.699Z"
   },
   {
    "duration": -217,
    "start_time": "2021-11-03T04:29:41.702Z"
   },
   {
    "duration": 3,
    "start_time": "2021-11-03T04:29:59.380Z"
   },
   {
    "duration": 20,
    "start_time": "2021-11-03T04:29:59.385Z"
   },
   {
    "duration": 12,
    "start_time": "2021-11-03T04:29:59.408Z"
   },
   {
    "duration": 4,
    "start_time": "2021-11-03T04:29:59.422Z"
   },
   {
    "duration": 5,
    "start_time": "2021-11-03T04:29:59.428Z"
   },
   {
    "duration": 7,
    "start_time": "2021-11-03T04:29:59.434Z"
   },
   {
    "duration": 5,
    "start_time": "2021-11-03T04:29:59.443Z"
   },
   {
    "duration": 6,
    "start_time": "2021-11-03T04:29:59.450Z"
   },
   {
    "duration": 3,
    "start_time": "2021-11-03T04:29:59.459Z"
   },
   {
    "duration": 6,
    "start_time": "2021-11-03T04:29:59.464Z"
   },
   {
    "duration": 5,
    "start_time": "2021-11-03T04:29:59.472Z"
   },
   {
    "duration": 6,
    "start_time": "2021-11-03T04:29:59.478Z"
   },
   {
    "duration": 6,
    "start_time": "2021-11-03T04:29:59.485Z"
   },
   {
    "duration": 52,
    "start_time": "2021-11-03T04:29:59.493Z"
   },
   {
    "duration": 4,
    "start_time": "2021-11-03T04:29:59.546Z"
   },
   {
    "duration": 4,
    "start_time": "2021-11-03T04:29:59.552Z"
   },
   {
    "duration": 300,
    "start_time": "2021-11-03T04:29:59.557Z"
   },
   {
    "duration": -143,
    "start_time": "2021-11-03T04:30:00.002Z"
   },
   {
    "duration": -146,
    "start_time": "2021-11-03T04:30:00.006Z"
   },
   {
    "duration": -148,
    "start_time": "2021-11-03T04:30:00.009Z"
   },
   {
    "duration": -160,
    "start_time": "2021-11-03T04:30:00.022Z"
   },
   {
    "duration": -161,
    "start_time": "2021-11-03T04:30:00.024Z"
   },
   {
    "duration": -163,
    "start_time": "2021-11-03T04:30:00.027Z"
   },
   {
    "duration": -165,
    "start_time": "2021-11-03T04:30:00.029Z"
   },
   {
    "duration": 3,
    "start_time": "2021-11-03T04:30:16.863Z"
   },
   {
    "duration": 5,
    "start_time": "2021-11-03T04:30:16.869Z"
   },
   {
    "duration": 6,
    "start_time": "2021-11-03T04:30:16.877Z"
   },
   {
    "duration": 6,
    "start_time": "2021-11-03T04:30:16.885Z"
   },
   {
    "duration": 8,
    "start_time": "2021-11-03T04:30:16.892Z"
   },
   {
    "duration": 8,
    "start_time": "2021-11-03T04:30:16.902Z"
   },
   {
    "duration": 6,
    "start_time": "2021-11-03T04:30:16.912Z"
   },
   {
    "duration": 6,
    "start_time": "2021-11-03T04:30:16.920Z"
   },
   {
    "duration": 100,
    "start_time": "2021-11-03T04:30:16.945Z"
   },
   {
    "duration": 8,
    "start_time": "2021-11-03T04:30:17.047Z"
   },
   {
    "duration": 102,
    "start_time": "2021-11-03T04:30:17.146Z"
   },
   {
    "duration": 4,
    "start_time": "2021-11-03T04:31:17.211Z"
   },
   {
    "duration": 2,
    "start_time": "2021-11-03T04:31:48.164Z"
   },
   {
    "duration": 3,
    "start_time": "2021-11-03T04:31:49.860Z"
   },
   {
    "duration": 2,
    "start_time": "2021-11-03T04:32:08.934Z"
   },
   {
    "duration": 4,
    "start_time": "2021-11-03T04:32:10.896Z"
   },
   {
    "duration": 4,
    "start_time": "2021-11-03T04:32:28.626Z"
   },
   {
    "duration": 3,
    "start_time": "2021-11-03T04:32:33.505Z"
   },
   {
    "duration": 4,
    "start_time": "2021-11-03T04:32:34.113Z"
   },
   {
    "duration": 4,
    "start_time": "2021-11-03T04:32:56.311Z"
   },
   {
    "duration": 4,
    "start_time": "2021-11-03T04:33:02.952Z"
   },
   {
    "duration": 4,
    "start_time": "2021-11-03T04:33:34.040Z"
   },
   {
    "duration": 3,
    "start_time": "2021-11-03T04:33:36.265Z"
   },
   {
    "duration": 4,
    "start_time": "2021-11-03T04:33:36.740Z"
   },
   {
    "duration": 4,
    "start_time": "2021-11-03T04:33:47.344Z"
   },
   {
    "duration": 3,
    "start_time": "2021-11-03T04:34:01.292Z"
   },
   {
    "duration": 2,
    "start_time": "2021-11-03T04:34:01.926Z"
   },
   {
    "duration": 5,
    "start_time": "2021-11-03T04:34:05.579Z"
   },
   {
    "duration": 4,
    "start_time": "2021-11-03T04:34:29.128Z"
   },
   {
    "duration": 3,
    "start_time": "2021-11-03T04:34:35.872Z"
   },
   {
    "duration": 4,
    "start_time": "2021-11-03T04:34:42.664Z"
   },
   {
    "duration": 2,
    "start_time": "2021-11-03T04:35:16.994Z"
   },
   {
    "duration": 2,
    "start_time": "2021-11-03T04:35:24.187Z"
   },
   {
    "duration": 3,
    "start_time": "2021-11-03T04:35:26.543Z"
   },
   {
    "duration": 4,
    "start_time": "2021-11-03T04:35:38.909Z"
   },
   {
    "duration": 3,
    "start_time": "2021-11-03T04:35:52.436Z"
   },
   {
    "duration": 4,
    "start_time": "2021-11-03T04:35:52.898Z"
   },
   {
    "duration": 3,
    "start_time": "2021-11-03T04:35:55.524Z"
   },
   {
    "duration": 4,
    "start_time": "2021-11-03T04:35:55.940Z"
   },
   {
    "duration": 3,
    "start_time": "2021-11-03T04:35:58.082Z"
   },
   {
    "duration": 4,
    "start_time": "2021-11-03T04:35:58.474Z"
   },
   {
    "duration": 5,
    "start_time": "2021-11-03T04:36:00.384Z"
   },
   {
    "duration": 3,
    "start_time": "2021-11-03T04:36:01.404Z"
   },
   {
    "duration": 5,
    "start_time": "2021-11-03T04:36:01.834Z"
   },
   {
    "duration": 3,
    "start_time": "2021-11-03T04:36:09.575Z"
   },
   {
    "duration": 4,
    "start_time": "2021-11-03T04:36:10.000Z"
   },
   {
    "duration": 4,
    "start_time": "2021-11-03T04:36:10.645Z"
   },
   {
    "duration": 3,
    "start_time": "2021-11-03T04:36:11.367Z"
   },
   {
    "duration": 4,
    "start_time": "2021-11-03T04:36:11.800Z"
   },
   {
    "duration": 11,
    "start_time": "2021-11-03T04:36:39.336Z"
   },
   {
    "duration": 3,
    "start_time": "2021-11-03T04:36:50.204Z"
   },
   {
    "duration": 4,
    "start_time": "2021-11-03T04:37:32.071Z"
   },
   {
    "duration": 4,
    "start_time": "2021-11-03T04:37:38.198Z"
   },
   {
    "duration": 4,
    "start_time": "2021-11-03T04:37:46.076Z"
   },
   {
    "duration": 7,
    "start_time": "2021-11-03T04:37:46.972Z"
   },
   {
    "duration": 98,
    "start_time": "2021-11-03T04:42:22.581Z"
   },
   {
    "duration": 11,
    "start_time": "2021-11-03T04:42:39.262Z"
   },
   {
    "duration": 9,
    "start_time": "2021-11-03T04:42:44.647Z"
   },
   {
    "duration": 10,
    "start_time": "2021-11-03T04:42:51.895Z"
   },
   {
    "duration": 3,
    "start_time": "2021-11-03T04:42:58.375Z"
   },
   {
    "duration": 9,
    "start_time": "2021-11-03T04:43:03.916Z"
   },
   {
    "duration": 10,
    "start_time": "2021-11-03T04:43:06.172Z"
   },
   {
    "duration": 5,
    "start_time": "2021-11-03T04:43:06.632Z"
   },
   {
    "duration": 9,
    "start_time": "2021-11-03T04:43:06.857Z"
   },
   {
    "duration": 3,
    "start_time": "2021-11-03T04:46:41.406Z"
   },
   {
    "duration": 9,
    "start_time": "2021-11-03T04:46:41.628Z"
   },
   {
    "duration": 4,
    "start_time": "2021-11-03T04:46:43.843Z"
   },
   {
    "duration": 9,
    "start_time": "2021-11-03T04:46:44.134Z"
   },
   {
    "duration": 264,
    "start_time": "2021-11-03T04:51:19.415Z"
   },
   {
    "duration": 3,
    "start_time": "2021-11-03T04:51:24.863Z"
   },
   {
    "duration": 11,
    "start_time": "2021-11-03T04:51:27.432Z"
   },
   {
    "duration": 4,
    "start_time": "2021-11-03T04:51:31.089Z"
   },
   {
    "duration": 6,
    "start_time": "2021-11-03T04:51:31.597Z"
   },
   {
    "duration": 7,
    "start_time": "2021-11-03T04:51:38.956Z"
   },
   {
    "duration": 9,
    "start_time": "2021-11-03T04:51:42.279Z"
   },
   {
    "duration": 4,
    "start_time": "2021-11-03T04:51:45.733Z"
   },
   {
    "duration": 4,
    "start_time": "2021-11-03T04:51:46.015Z"
   },
   {
    "duration": 9,
    "start_time": "2021-11-03T04:51:46.624Z"
   },
   {
    "duration": 6,
    "start_time": "2021-11-03T04:54:01.732Z"
   },
   {
    "duration": 6,
    "start_time": "2021-11-03T04:55:32.529Z"
   },
   {
    "duration": 4,
    "start_time": "2021-11-03T04:55:44.500Z"
   },
   {
    "duration": 4,
    "start_time": "2021-11-03T04:55:58.263Z"
   },
   {
    "duration": 4,
    "start_time": "2021-11-03T04:56:34.090Z"
   },
   {
    "duration": 4,
    "start_time": "2021-11-03T05:00:49.936Z"
   },
   {
    "duration": 4,
    "start_time": "2021-11-03T05:01:13.853Z"
   },
   {
    "duration": 12,
    "start_time": "2021-11-03T05:01:14.610Z"
   },
   {
    "duration": 4,
    "start_time": "2021-11-03T05:01:17.367Z"
   },
   {
    "duration": 4,
    "start_time": "2021-11-03T05:01:17.731Z"
   },
   {
    "duration": 10,
    "start_time": "2021-11-03T05:01:18.035Z"
   },
   {
    "duration": 4,
    "start_time": "2021-11-03T05:01:22.405Z"
   },
   {
    "duration": 4,
    "start_time": "2021-11-03T05:01:24.269Z"
   },
   {
    "duration": 53,
    "start_time": "2021-11-03T05:01:24.592Z"
   },
   {
    "duration": 4,
    "start_time": "2021-11-03T05:04:22.705Z"
   },
   {
    "duration": 4,
    "start_time": "2021-11-03T05:04:23.102Z"
   },
   {
    "duration": 8,
    "start_time": "2021-11-03T05:04:23.852Z"
   },
   {
    "duration": 215,
    "start_time": "2021-11-03T05:05:09.131Z"
   },
   {
    "duration": 3,
    "start_time": "2021-11-03T05:07:35.285Z"
   },
   {
    "duration": 3,
    "start_time": "2021-11-03T05:07:35.653Z"
   },
   {
    "duration": 2,
    "start_time": "2021-11-03T05:07:36.048Z"
   },
   {
    "duration": 4,
    "start_time": "2021-11-03T05:07:36.453Z"
   },
   {
    "duration": 3,
    "start_time": "2021-11-03T05:09:14.574Z"
   },
   {
    "duration": 4,
    "start_time": "2021-11-03T05:09:14.907Z"
   },
   {
    "duration": 3,
    "start_time": "2021-11-03T05:09:15.218Z"
   },
   {
    "duration": 4,
    "start_time": "2021-11-03T05:09:15.794Z"
   },
   {
    "duration": 453,
    "start_time": "2021-11-03T05:09:16.109Z"
   },
   {
    "duration": -29,
    "start_time": "2021-11-03T05:09:16.594Z"
   },
   {
    "duration": -33,
    "start_time": "2021-11-03T05:09:16.599Z"
   },
   {
    "duration": 256,
    "start_time": "2021-11-03T05:09:16.694Z"
   },
   {
    "duration": -27,
    "start_time": "2021-11-03T05:09:16.979Z"
   },
   {
    "duration": 428,
    "start_time": "2021-11-03T05:09:31.610Z"
   },
   {
    "duration": 2,
    "start_time": "2021-11-03T05:12:55.575Z"
   },
   {
    "duration": 282,
    "start_time": "2021-11-03T05:12:56.337Z"
   },
   {
    "duration": 4,
    "start_time": "2021-11-03T05:12:56.704Z"
   },
   {
    "duration": 3,
    "start_time": "2021-11-03T05:13:14.806Z"
   },
   {
    "duration": 3,
    "start_time": "2021-11-03T05:13:15.135Z"
   },
   {
    "duration": 3,
    "start_time": "2021-11-03T05:13:15.467Z"
   },
   {
    "duration": 3,
    "start_time": "2021-11-03T05:13:17.602Z"
   },
   {
    "duration": 5,
    "start_time": "2021-11-03T05:13:19.823Z"
   },
   {
    "duration": 4,
    "start_time": "2021-11-03T05:14:06.500Z"
   },
   {
    "duration": 5,
    "start_time": "2021-11-03T05:14:27.856Z"
   },
   {
    "duration": 3,
    "start_time": "2021-11-03T05:25:16.815Z"
   },
   {
    "duration": 2,
    "start_time": "2021-11-03T05:25:22.379Z"
   },
   {
    "duration": 4,
    "start_time": "2021-11-03T05:25:23.029Z"
   },
   {
    "duration": 2,
    "start_time": "2021-11-03T05:25:26.512Z"
   },
   {
    "duration": 4,
    "start_time": "2021-11-03T05:25:30.073Z"
   },
   {
    "duration": 3,
    "start_time": "2021-11-03T05:25:35.825Z"
   },
   {
    "duration": 3,
    "start_time": "2021-11-03T05:25:53.918Z"
   },
   {
    "duration": 4,
    "start_time": "2021-11-03T05:25:54.303Z"
   },
   {
    "duration": 5,
    "start_time": "2021-11-03T05:26:10.248Z"
   },
   {
    "duration": 3,
    "start_time": "2021-11-03T05:26:18.365Z"
   },
   {
    "duration": 4,
    "start_time": "2021-11-03T05:26:19.410Z"
   },
   {
    "duration": 3,
    "start_time": "2021-11-03T05:26:27.195Z"
   },
   {
    "duration": 3,
    "start_time": "2021-11-03T05:26:28.134Z"
   },
   {
    "duration": 5,
    "start_time": "2021-11-03T05:26:29.336Z"
   },
   {
    "duration": 2,
    "start_time": "2021-11-03T05:26:35.629Z"
   },
   {
    "duration": 4,
    "start_time": "2021-11-03T05:26:36.021Z"
   },
   {
    "duration": 3,
    "start_time": "2021-11-03T05:27:18.504Z"
   },
   {
    "duration": 2,
    "start_time": "2021-11-03T05:27:22.284Z"
   },
   {
    "duration": 3,
    "start_time": "2021-11-03T05:27:39.612Z"
   },
   {
    "duration": 4,
    "start_time": "2021-11-03T05:27:49.679Z"
   },
   {
    "duration": 3,
    "start_time": "2021-11-03T05:28:14.687Z"
   },
   {
    "duration": 4,
    "start_time": "2021-11-03T05:28:21.024Z"
   },
   {
    "duration": 3,
    "start_time": "2021-11-03T05:28:51.388Z"
   },
   {
    "duration": 2,
    "start_time": "2021-11-03T05:28:51.744Z"
   },
   {
    "duration": 4,
    "start_time": "2021-11-03T05:28:53.339Z"
   },
   {
    "duration": 4,
    "start_time": "2021-11-03T05:28:59.556Z"
   },
   {
    "duration": 3,
    "start_time": "2021-11-03T05:29:23.791Z"
   },
   {
    "duration": 6,
    "start_time": "2021-11-03T05:29:24.356Z"
   },
   {
    "duration": 3,
    "start_time": "2021-11-03T05:30:26.366Z"
   },
   {
    "duration": 3,
    "start_time": "2021-11-03T05:30:26.714Z"
   },
   {
    "duration": 5,
    "start_time": "2021-11-03T06:16:16.702Z"
   },
   {
    "duration": 4,
    "start_time": "2021-11-03T06:16:31.021Z"
   },
   {
    "duration": 3,
    "start_time": "2021-11-03T06:17:15.823Z"
   },
   {
    "duration": 3,
    "start_time": "2021-11-03T06:17:16.188Z"
   },
   {
    "duration": 4,
    "start_time": "2021-11-03T06:17:16.477Z"
   },
   {
    "duration": 5,
    "start_time": "2021-11-03T06:17:16.957Z"
   },
   {
    "duration": 2,
    "start_time": "2021-11-03T06:18:22.145Z"
   },
   {
    "duration": 3,
    "start_time": "2021-11-03T06:18:22.533Z"
   },
   {
    "duration": 3,
    "start_time": "2021-11-03T06:18:37.512Z"
   },
   {
    "duration": 2,
    "start_time": "2021-11-03T06:18:37.785Z"
   },
   {
    "duration": 4,
    "start_time": "2021-11-03T06:18:38.457Z"
   },
   {
    "duration": 4,
    "start_time": "2021-11-03T06:18:44.242Z"
   },
   {
    "duration": 2,
    "start_time": "2021-11-03T06:19:04.168Z"
   },
   {
    "duration": 3,
    "start_time": "2021-11-03T06:19:04.553Z"
   },
   {
    "duration": 4,
    "start_time": "2021-11-03T06:19:10.005Z"
   },
   {
    "duration": 3,
    "start_time": "2021-11-03T06:49:16.711Z"
   },
   {
    "duration": 2,
    "start_time": "2021-11-03T06:49:17.072Z"
   },
   {
    "duration": 3,
    "start_time": "2021-11-03T06:49:17.396Z"
   },
   {
    "duration": 4,
    "start_time": "2021-11-03T06:49:18.452Z"
   },
   {
    "duration": 3,
    "start_time": "2021-11-03T06:49:18.615Z"
   },
   {
    "duration": 3,
    "start_time": "2021-11-03T06:49:18.811Z"
   },
   {
    "duration": 4,
    "start_time": "2021-11-03T06:49:18.997Z"
   },
   {
    "duration": 4,
    "start_time": "2021-11-03T06:49:19.188Z"
   },
   {
    "duration": 3,
    "start_time": "2021-11-03T06:49:19.578Z"
   },
   {
    "duration": 3,
    "start_time": "2021-11-03T06:49:19.783Z"
   },
   {
    "duration": 5,
    "start_time": "2021-11-03T06:49:19.968Z"
   },
   {
    "duration": 4,
    "start_time": "2021-11-03T06:49:20.142Z"
   },
   {
    "duration": 2,
    "start_time": "2021-11-03T06:49:20.327Z"
   },
   {
    "duration": 3,
    "start_time": "2021-11-03T06:49:20.527Z"
   },
   {
    "duration": 5,
    "start_time": "2021-11-03T06:49:20.716Z"
   },
   {
    "duration": 4,
    "start_time": "2021-11-03T06:49:20.932Z"
   },
   {
    "duration": 5,
    "start_time": "2021-11-03T06:49:21.127Z"
   },
   {
    "duration": 4,
    "start_time": "2021-11-03T06:49:21.338Z"
   },
   {
    "duration": 3,
    "start_time": "2021-11-03T06:49:21.537Z"
   },
   {
    "duration": 3,
    "start_time": "2021-11-03T06:49:21.747Z"
   },
   {
    "duration": 5,
    "start_time": "2021-11-03T06:49:21.971Z"
   },
   {
    "duration": 4,
    "start_time": "2021-11-03T06:49:22.207Z"
   },
   {
    "duration": 2,
    "start_time": "2021-11-03T06:49:22.437Z"
   },
   {
    "duration": 2,
    "start_time": "2021-11-03T06:49:22.963Z"
   },
   {
    "duration": 3,
    "start_time": "2021-11-03T06:49:23.302Z"
   },
   {
    "duration": 4,
    "start_time": "2021-11-03T06:49:23.634Z"
   },
   {
    "duration": 4,
    "start_time": "2021-11-03T06:49:24.150Z"
   },
   {
    "duration": 3,
    "start_time": "2021-11-03T06:49:25.587Z"
   },
   {
    "duration": 3,
    "start_time": "2021-11-03T06:49:26.279Z"
   },
   {
    "duration": 5,
    "start_time": "2021-11-03T06:49:26.692Z"
   },
   {
    "duration": 4,
    "start_time": "2021-11-03T06:49:27.463Z"
   },
   {
    "duration": 10,
    "start_time": "2021-11-03T09:48:53.768Z"
   },
   {
    "duration": 527,
    "start_time": "2021-11-03T09:48:54.065Z"
   },
   {
    "duration": 662,
    "start_time": "2021-11-03T09:48:59.831Z"
   },
   {
    "duration": -57,
    "start_time": "2021-11-03T09:49:00.553Z"
   },
   {
    "duration": -61,
    "start_time": "2021-11-03T09:49:00.558Z"
   },
   {
    "duration": 408,
    "start_time": "2021-11-03T09:49:08.048Z"
   },
   {
    "duration": -30,
    "start_time": "2021-11-03T09:49:08.488Z"
   },
   {
    "duration": 1398,
    "start_time": "2021-11-03T09:49:13.786Z"
   },
   {
    "duration": 20,
    "start_time": "2021-11-03T09:49:15.187Z"
   },
   {
    "duration": 44,
    "start_time": "2021-11-03T09:49:15.209Z"
   },
   {
    "duration": 12,
    "start_time": "2021-11-03T09:49:15.256Z"
   },
   {
    "duration": 21,
    "start_time": "2021-11-03T09:49:15.271Z"
   },
   {
    "duration": 443,
    "start_time": "2021-11-03T09:49:15.295Z"
   },
   {
    "duration": -36,
    "start_time": "2021-11-03T09:49:15.777Z"
   },
   {
    "duration": -42,
    "start_time": "2021-11-03T09:49:15.785Z"
   },
   {
    "duration": -43,
    "start_time": "2021-11-03T09:49:15.787Z"
   },
   {
    "duration": 30,
    "start_time": "2021-11-03T09:49:43.730Z"
   },
   {
    "duration": 5,
    "start_time": "2021-11-03T09:49:48.319Z"
   },
   {
    "duration": 6,
    "start_time": "2021-11-03T09:49:48.328Z"
   },
   {
    "duration": 100,
    "start_time": "2021-11-03T09:49:48.366Z"
   },
   {
    "duration": 391,
    "start_time": "2021-11-05T19:27:19.144Z"
   },
   {
    "duration": 1682,
    "start_time": "2021-11-05T19:27:23.177Z"
   },
   {
    "duration": 25,
    "start_time": "2021-11-05T19:27:24.862Z"
   },
   {
    "duration": 48,
    "start_time": "2021-11-05T19:27:24.890Z"
   },
   {
    "duration": 17,
    "start_time": "2021-11-05T19:27:26.778Z"
   },
   {
    "duration": 46,
    "start_time": "2021-11-05T19:28:01.511Z"
   },
   {
    "duration": 2678,
    "start_time": "2021-11-05T19:30:01.792Z"
   },
   {
    "duration": 108,
    "start_time": "2021-11-05T19:30:10.034Z"
   },
   {
    "duration": 2782,
    "start_time": "2021-11-05T19:30:12.695Z"
   },
   {
    "duration": 4,
    "start_time": "2021-11-05T19:44:47.918Z"
   },
   {
    "duration": 19,
    "start_time": "2021-11-05T19:44:53.363Z"
   },
   {
    "duration": 23,
    "start_time": "2021-11-05T19:53:11.541Z"
   },
   {
    "duration": 364,
    "start_time": "2021-11-05T19:59:00.897Z"
   },
   {
    "duration": 311,
    "start_time": "2021-11-05T19:59:07.181Z"
   },
   {
    "duration": 5,
    "start_time": "2021-11-05T19:59:27.311Z"
   },
   {
    "duration": 5,
    "start_time": "2021-11-05T19:59:38.134Z"
   },
   {
    "duration": 7,
    "start_time": "2021-11-05T19:59:41.249Z"
   },
   {
    "duration": 5,
    "start_time": "2021-11-05T19:59:49.677Z"
   },
   {
    "duration": 5,
    "start_time": "2021-11-05T19:59:55.595Z"
   },
   {
    "duration": 6,
    "start_time": "2021-11-05T20:00:01.631Z"
   },
   {
    "duration": 6,
    "start_time": "2021-11-05T20:00:05.427Z"
   },
   {
    "duration": 11,
    "start_time": "2021-11-05T20:00:56.263Z"
   },
   {
    "duration": 5,
    "start_time": "2021-11-05T20:02:27.509Z"
   },
   {
    "duration": 5,
    "start_time": "2021-11-05T20:06:16.904Z"
   },
   {
    "duration": 15,
    "start_time": "2021-11-05T20:06:22.477Z"
   },
   {
    "duration": 359,
    "start_time": "2021-11-05T20:07:26.591Z"
   },
   {
    "duration": 24,
    "start_time": "2021-11-05T20:07:42.937Z"
   },
   {
    "duration": 9,
    "start_time": "2021-11-05T20:07:55.732Z"
   },
   {
    "duration": 304,
    "start_time": "2021-11-05T20:08:14.675Z"
   },
   {
    "duration": 303,
    "start_time": "2021-11-05T20:08:21.589Z"
   },
   {
    "duration": 310,
    "start_time": "2021-11-05T20:08:28.829Z"
   },
   {
    "duration": 8,
    "start_time": "2021-11-05T20:08:36.562Z"
   },
   {
    "duration": 5880,
    "start_time": "2021-11-05T20:08:54.921Z"
   },
   {
    "duration": 5,
    "start_time": "2021-11-05T20:09:11.245Z"
   },
   {
    "duration": 4,
    "start_time": "2021-11-05T20:09:29.262Z"
   },
   {
    "duration": 6,
    "start_time": "2021-11-05T20:09:37.893Z"
   },
   {
    "duration": 15,
    "start_time": "2021-11-05T20:09:44.748Z"
   },
   {
    "duration": 300,
    "start_time": "2021-11-05T20:09:54.715Z"
   },
   {
    "duration": 16,
    "start_time": "2021-11-05T20:10:04.021Z"
   },
   {
    "duration": 5,
    "start_time": "2021-11-05T20:10:09.363Z"
   },
   {
    "duration": 296,
    "start_time": "2021-11-05T20:10:18.663Z"
   },
   {
    "duration": 281,
    "start_time": "2021-11-05T20:10:25.607Z"
   },
   {
    "duration": 328,
    "start_time": "2021-11-05T20:10:40.432Z"
   },
   {
    "duration": 3,
    "start_time": "2021-11-05T20:10:55.919Z"
   },
   {
    "duration": 6,
    "start_time": "2021-11-05T20:10:58.439Z"
   },
   {
    "duration": 6,
    "start_time": "2021-11-05T20:11:05.200Z"
   },
   {
    "duration": 15,
    "start_time": "2021-11-05T20:11:18.971Z"
   },
   {
    "duration": 8,
    "start_time": "2021-11-05T20:12:28.408Z"
   },
   {
    "duration": 6,
    "start_time": "2021-11-05T20:13:07.818Z"
   },
   {
    "duration": 6,
    "start_time": "2021-11-05T20:13:10.203Z"
   },
   {
    "duration": 5,
    "start_time": "2021-11-05T20:13:16.392Z"
   },
   {
    "duration": 7,
    "start_time": "2021-11-05T20:13:20.103Z"
   },
   {
    "duration": 5,
    "start_time": "2021-11-05T20:13:23.487Z"
   },
   {
    "duration": 10,
    "start_time": "2021-11-05T20:13:39.016Z"
   },
   {
    "duration": 6,
    "start_time": "2021-11-05T20:15:11.088Z"
   },
   {
    "duration": 6,
    "start_time": "2021-11-05T20:15:11.492Z"
   },
   {
    "duration": 41,
    "start_time": "2021-11-05T20:15:12.054Z"
   },
   {
    "duration": 9,
    "start_time": "2021-11-05T20:15:26.918Z"
   },
   {
    "duration": 10,
    "start_time": "2021-11-05T20:15:46.349Z"
   },
   {
    "duration": 5,
    "start_time": "2021-11-05T20:17:32.425Z"
   },
   {
    "duration": 4,
    "start_time": "2021-11-05T20:17:51.969Z"
   },
   {
    "duration": 7,
    "start_time": "2021-11-05T20:18:13.627Z"
   },
   {
    "duration": 5,
    "start_time": "2021-11-05T20:30:57.629Z"
   },
   {
    "duration": 7,
    "start_time": "2021-11-05T20:31:24.013Z"
   },
   {
    "duration": 6,
    "start_time": "2021-11-05T20:31:28.001Z"
   },
   {
    "duration": 8,
    "start_time": "2021-11-05T20:31:31.209Z"
   },
   {
    "duration": 363,
    "start_time": "2021-11-05T20:31:52.849Z"
   },
   {
    "duration": 5,
    "start_time": "2021-11-05T20:31:56.444Z"
   },
   {
    "duration": 6,
    "start_time": "2021-11-05T20:31:58.874Z"
   },
   {
    "duration": 4,
    "start_time": "2021-11-05T20:35:38.802Z"
   },
   {
    "duration": 7,
    "start_time": "2021-11-05T20:35:51.558Z"
   },
   {
    "duration": 5,
    "start_time": "2021-11-05T20:36:17.156Z"
   },
   {
    "duration": 7,
    "start_time": "2021-11-05T20:36:22.268Z"
   },
   {
    "duration": 311,
    "start_time": "2021-11-05T20:36:39.686Z"
   },
   {
    "duration": 4,
    "start_time": "2021-11-05T20:38:42.843Z"
   },
   {
    "duration": 6,
    "start_time": "2021-11-05T20:38:45.591Z"
   },
   {
    "duration": 5,
    "start_time": "2021-11-05T20:38:54.231Z"
   },
   {
    "duration": 7,
    "start_time": "2021-11-05T20:38:54.483Z"
   },
   {
    "duration": 6,
    "start_time": "2021-11-05T20:38:57.876Z"
   },
   {
    "duration": 8,
    "start_time": "2021-11-05T20:38:58.149Z"
   },
   {
    "duration": 6,
    "start_time": "2021-11-05T20:39:14.315Z"
   },
   {
    "duration": 4,
    "start_time": "2021-11-05T20:41:03.518Z"
   },
   {
    "duration": 5,
    "start_time": "2021-11-05T20:41:50.334Z"
   },
   {
    "duration": 9,
    "start_time": "2021-11-05T20:42:09.430Z"
   },
   {
    "duration": 18,
    "start_time": "2021-11-05T20:42:28.749Z"
   },
   {
    "duration": 597,
    "start_time": "2021-11-05T20:43:00.538Z"
   },
   {
    "duration": 290,
    "start_time": "2021-11-05T20:43:23.490Z"
   },
   {
    "duration": 297,
    "start_time": "2021-11-05T20:45:44.281Z"
   },
   {
    "duration": 4,
    "start_time": "2021-11-05T20:47:35.757Z"
   },
   {
    "duration": 5,
    "start_time": "2021-11-05T20:47:40.574Z"
   },
   {
    "duration": 4,
    "start_time": "2021-11-05T20:47:55.292Z"
   },
   {
    "duration": 6,
    "start_time": "2021-11-05T20:48:00.780Z"
   },
   {
    "duration": 5,
    "start_time": "2021-11-05T20:48:31.308Z"
   },
   {
    "duration": 4,
    "start_time": "2021-11-05T20:48:37.972Z"
   },
   {
    "duration": 6,
    "start_time": "2021-11-05T20:48:38.467Z"
   },
   {
    "duration": 5,
    "start_time": "2021-11-05T20:48:46.156Z"
   },
   {
    "duration": 5,
    "start_time": "2021-11-05T20:48:56.568Z"
   },
   {
    "duration": 10,
    "start_time": "2021-11-05T20:48:56.990Z"
   },
   {
    "duration": 6,
    "start_time": "2021-11-05T20:49:02.471Z"
   },
   {
    "duration": 4,
    "start_time": "2021-11-05T20:49:10.197Z"
   },
   {
    "duration": 5,
    "start_time": "2021-11-05T20:49:15.022Z"
   },
   {
    "duration": 3,
    "start_time": "2021-11-05T20:49:29.652Z"
   },
   {
    "duration": 4,
    "start_time": "2021-11-05T20:49:38.193Z"
   },
   {
    "duration": 1313,
    "start_time": "2021-11-06T07:31:32.409Z"
   },
   {
    "duration": 19,
    "start_time": "2021-11-06T07:31:33.724Z"
   },
   {
    "duration": 34,
    "start_time": "2021-11-06T07:31:33.747Z"
   },
   {
    "duration": 21,
    "start_time": "2021-11-06T07:31:33.783Z"
   },
   {
    "duration": 41,
    "start_time": "2021-11-06T07:31:33.807Z"
   },
   {
    "duration": 2295,
    "start_time": "2021-11-06T07:31:33.851Z"
   },
   {
    "duration": 3,
    "start_time": "2021-11-06T07:31:36.149Z"
   },
   {
    "duration": 5,
    "start_time": "2021-11-06T07:32:07.541Z"
   },
   {
    "duration": 473,
    "start_time": "2021-11-06T08:15:35.879Z"
   },
   {
    "duration": -35,
    "start_time": "2021-11-06T08:15:36.390Z"
   },
   {
    "duration": 5,
    "start_time": "2021-11-06T08:15:55.100Z"
   },
   {
    "duration": 379,
    "start_time": "2021-11-06T08:16:20.487Z"
   },
   {
    "duration": 6,
    "start_time": "2021-11-06T08:16:33.727Z"
   },
   {
    "duration": 5,
    "start_time": "2021-11-06T08:16:34.319Z"
   },
   {
    "duration": 5,
    "start_time": "2021-11-06T08:16:54.814Z"
   },
   {
    "duration": 263,
    "start_time": "2021-11-06T13:17:57.957Z"
   },
   {
    "duration": 5,
    "start_time": "2021-11-06T13:18:01.024Z"
   },
   {
    "duration": 251,
    "start_time": "2021-11-06T13:18:02.694Z"
   },
   {
    "duration": 8,
    "start_time": "2021-11-06T13:18:06.816Z"
   },
   {
    "duration": 5,
    "start_time": "2021-11-06T13:18:07.945Z"
   },
   {
    "duration": 5,
    "start_time": "2021-11-06T13:18:18.499Z"
   },
   {
    "duration": 307,
    "start_time": "2021-11-06T13:21:35.703Z"
   },
   {
    "duration": 413,
    "start_time": "2021-11-06T13:21:39.102Z"
   },
   {
    "duration": 244,
    "start_time": "2021-11-06T13:21:41.831Z"
   },
   {
    "duration": 4,
    "start_time": "2021-11-06T13:21:45.205Z"
   },
   {
    "duration": 5,
    "start_time": "2021-11-06T13:21:49.926Z"
   },
   {
    "duration": 4,
    "start_time": "2021-11-06T13:21:52.064Z"
   },
   {
    "duration": 6,
    "start_time": "2021-11-06T13:21:52.327Z"
   },
   {
    "duration": 4,
    "start_time": "2021-11-06T13:22:03.127Z"
   },
   {
    "duration": 5,
    "start_time": "2021-11-06T13:22:03.471Z"
   },
   {
    "duration": 3,
    "start_time": "2021-11-06T13:22:06.863Z"
   },
   {
    "duration": 5,
    "start_time": "2021-11-06T13:22:07.191Z"
   },
   {
    "duration": 4,
    "start_time": "2021-11-06T13:24:52.647Z"
   },
   {
    "duration": 4,
    "start_time": "2021-11-06T13:24:53.342Z"
   },
   {
    "duration": 1327,
    "start_time": "2021-11-06T19:02:44.783Z"
   },
   {
    "duration": 22,
    "start_time": "2021-11-06T19:02:46.112Z"
   },
   {
    "duration": 28,
    "start_time": "2021-11-06T19:02:46.138Z"
   },
   {
    "duration": 9,
    "start_time": "2021-11-06T19:02:46.169Z"
   },
   {
    "duration": 61,
    "start_time": "2021-11-06T19:02:46.181Z"
   },
   {
    "duration": 2235,
    "start_time": "2021-11-06T19:02:46.245Z"
   },
   {
    "duration": 5,
    "start_time": "2021-11-06T19:02:48.482Z"
   },
   {
    "duration": 8,
    "start_time": "2021-11-06T19:02:48.489Z"
   },
   {
    "duration": 25,
    "start_time": "2021-11-06T19:02:48.500Z"
   },
   {
    "duration": 22,
    "start_time": "2021-11-06T19:02:48.528Z"
   },
   {
    "duration": 8,
    "start_time": "2021-11-06T19:02:48.552Z"
   },
   {
    "duration": 9,
    "start_time": "2021-11-06T19:02:48.562Z"
   },
   {
    "duration": 6,
    "start_time": "2021-11-06T19:05:31.868Z"
   },
   {
    "duration": 7,
    "start_time": "2021-11-06T19:05:34.271Z"
   },
   {
    "duration": 4,
    "start_time": "2021-11-06T19:05:38.754Z"
   },
   {
    "duration": 4,
    "start_time": "2021-11-06T19:05:39.094Z"
   },
   {
    "duration": 5,
    "start_time": "2021-11-06T19:05:39.470Z"
   },
   {
    "duration": 5,
    "start_time": "2021-11-06T19:05:56.300Z"
   },
   {
    "duration": 4,
    "start_time": "2021-11-06T19:06:11.592Z"
   },
   {
    "duration": 10,
    "start_time": "2021-11-06T19:06:26.991Z"
   },
   {
    "duration": 4,
    "start_time": "2021-11-06T19:06:49.801Z"
   },
   {
    "duration": 6,
    "start_time": "2021-11-06T19:07:29.168Z"
   },
   {
    "duration": 10,
    "start_time": "2021-11-06T19:09:26.760Z"
   },
   {
    "duration": 3,
    "start_time": "2021-11-06T19:09:59.988Z"
   },
   {
    "duration": 6,
    "start_time": "2021-11-06T19:10:05.679Z"
   },
   {
    "duration": 5,
    "start_time": "2021-11-06T19:10:06.204Z"
   },
   {
    "duration": 4,
    "start_time": "2021-11-06T19:10:21.619Z"
   },
   {
    "duration": 5,
    "start_time": "2021-11-06T19:10:23.170Z"
   },
   {
    "duration": 6,
    "start_time": "2021-11-06T19:10:30.098Z"
   },
   {
    "duration": 4,
    "start_time": "2021-11-06T19:10:33.892Z"
   },
   {
    "duration": 6,
    "start_time": "2021-11-06T19:10:34.248Z"
   },
   {
    "duration": 964,
    "start_time": "2021-11-07T04:12:14.724Z"
   },
   {
    "duration": 86,
    "start_time": "2021-11-07T04:12:15.689Z"
   },
   {
    "duration": 17,
    "start_time": "2021-11-07T04:12:15.777Z"
   },
   {
    "duration": 5,
    "start_time": "2021-11-07T04:12:15.796Z"
   },
   {
    "duration": 21,
    "start_time": "2021-11-07T04:12:15.803Z"
   },
   {
    "duration": 1360,
    "start_time": "2021-11-07T04:12:15.825Z"
   },
   {
    "duration": 4,
    "start_time": "2021-11-07T04:12:17.187Z"
   },
   {
    "duration": 4,
    "start_time": "2021-11-07T04:12:36.284Z"
   },
   {
    "duration": 16,
    "start_time": "2021-11-07T04:12:36.558Z"
   },
   {
    "duration": 8,
    "start_time": "2021-11-07T04:12:37.120Z"
   },
   {
    "duration": 8,
    "start_time": "2021-11-07T04:12:37.861Z"
   },
   {
    "duration": 4,
    "start_time": "2021-11-07T04:12:40.294Z"
   },
   {
    "duration": 6,
    "start_time": "2021-11-07T04:12:40.610Z"
   },
   {
    "duration": 3,
    "start_time": "2021-11-07T04:12:41.810Z"
   },
   {
    "duration": 3,
    "start_time": "2021-11-07T04:12:42.205Z"
   },
   {
    "duration": 3,
    "start_time": "2021-11-07T04:12:42.387Z"
   },
   {
    "duration": 4,
    "start_time": "2021-11-07T04:12:44.455Z"
   },
   {
    "duration": 4,
    "start_time": "2021-11-07T04:12:44.698Z"
   },
   {
    "duration": 3,
    "start_time": "2021-11-07T04:12:44.884Z"
   },
   {
    "duration": 4,
    "start_time": "2021-11-07T04:12:47.609Z"
   },
   {
    "duration": 7,
    "start_time": "2021-11-07T04:12:49.313Z"
   },
   {
    "duration": 3,
    "start_time": "2021-11-07T04:44:09.230Z"
   },
   {
    "duration": 18,
    "start_time": "2021-11-07T04:44:09.852Z"
   },
   {
    "duration": 11,
    "start_time": "2021-11-07T04:44:10.416Z"
   },
   {
    "duration": 6,
    "start_time": "2021-11-07T04:44:32.265Z"
   },
   {
    "duration": 22,
    "start_time": "2021-11-07T04:44:32.924Z"
   },
   {
    "duration": 1327,
    "start_time": "2021-11-07T04:44:33.682Z"
   },
   {
    "duration": 3,
    "start_time": "2021-11-07T04:44:58.206Z"
   },
   {
    "duration": 3,
    "start_time": "2021-11-07T04:51:58.965Z"
   },
   {
    "duration": 4,
    "start_time": "2021-11-07T04:55:50.381Z"
   },
   {
    "duration": 5,
    "start_time": "2021-11-07T04:55:51.524Z"
   },
   {
    "duration": 259,
    "start_time": "2021-11-07T04:57:35.784Z"
   },
   {
    "duration": 169,
    "start_time": "2021-11-07T04:57:36.050Z"
   },
   {
    "duration": 165,
    "start_time": "2021-11-07T04:57:39.121Z"
   },
   {
    "duration": 2,
    "start_time": "2021-11-07T04:57:42.970Z"
   },
   {
    "duration": 4,
    "start_time": "2021-11-07T04:57:43.691Z"
   },
   {
    "duration": 3,
    "start_time": "2021-11-07T04:57:44.350Z"
   },
   {
    "duration": 4,
    "start_time": "2021-11-07T04:57:44.611Z"
   },
   {
    "duration": 2,
    "start_time": "2021-11-07T04:57:48.137Z"
   },
   {
    "duration": 4,
    "start_time": "2021-11-07T04:57:48.568Z"
   },
   {
    "duration": 62,
    "start_time": "2021-11-07T04:59:22.981Z"
   },
   {
    "duration": 3,
    "start_time": "2021-11-07T04:59:27.563Z"
   },
   {
    "duration": 4,
    "start_time": "2021-11-07T05:01:05.030Z"
   },
   {
    "duration": 4,
    "start_time": "2021-11-07T05:01:08.375Z"
   },
   {
    "duration": 2,
    "start_time": "2021-11-07T05:02:36.617Z"
   },
   {
    "duration": 4,
    "start_time": "2021-11-07T05:02:36.957Z"
   },
   {
    "duration": 5,
    "start_time": "2021-11-07T05:06:27.536Z"
   },
   {
    "duration": 6,
    "start_time": "2021-11-07T05:06:48.441Z"
   },
   {
    "duration": 6,
    "start_time": "2021-11-07T05:07:59.345Z"
   },
   {
    "duration": 5,
    "start_time": "2021-11-07T05:08:19.374Z"
   },
   {
    "duration": 4,
    "start_time": "2021-11-07T05:10:29.545Z"
   },
   {
    "duration": 6,
    "start_time": "2021-11-07T05:10:29.751Z"
   },
   {
    "duration": 7,
    "start_time": "2021-11-07T05:10:29.948Z"
   },
   {
    "duration": 3,
    "start_time": "2021-11-07T05:10:49.052Z"
   },
   {
    "duration": 20,
    "start_time": "2021-11-07T05:10:49.057Z"
   },
   {
    "duration": 10,
    "start_time": "2021-11-07T05:10:49.080Z"
   },
   {
    "duration": 6,
    "start_time": "2021-11-07T05:10:49.092Z"
   },
   {
    "duration": 20,
    "start_time": "2021-11-07T05:10:49.100Z"
   },
   {
    "duration": 1333,
    "start_time": "2021-11-07T05:10:49.121Z"
   },
   {
    "duration": 3,
    "start_time": "2021-11-07T05:10:50.456Z"
   },
   {
    "duration": 5,
    "start_time": "2021-11-07T05:10:55.623Z"
   },
   {
    "duration": 6,
    "start_time": "2021-11-07T05:10:55.980Z"
   },
   {
    "duration": 7,
    "start_time": "2021-11-07T05:10:56.372Z"
   },
   {
    "duration": 6,
    "start_time": "2021-11-07T05:11:02.797Z"
   },
   {
    "duration": 6,
    "start_time": "2021-11-07T05:11:03.045Z"
   },
   {
    "duration": 3,
    "start_time": "2021-11-07T05:11:03.477Z"
   },
   {
    "duration": 2,
    "start_time": "2021-11-07T05:11:03.669Z"
   },
   {
    "duration": 4,
    "start_time": "2021-11-07T05:11:04.078Z"
   },
   {
    "duration": 3,
    "start_time": "2021-11-07T05:11:04.289Z"
   },
   {
    "duration": 3,
    "start_time": "2021-11-07T05:11:04.497Z"
   },
   {
    "duration": 3,
    "start_time": "2021-11-07T05:11:04.699Z"
   },
   {
    "duration": 4,
    "start_time": "2021-11-07T05:11:05.099Z"
   },
   {
    "duration": 6,
    "start_time": "2021-11-07T05:11:05.301Z"
   },
   {
    "duration": 4,
    "start_time": "2021-11-07T05:11:05.749Z"
   },
   {
    "duration": 4,
    "start_time": "2021-11-07T05:11:05.940Z"
   },
   {
    "duration": 3,
    "start_time": "2021-11-07T05:11:06.160Z"
   },
   {
    "duration": 4,
    "start_time": "2021-11-07T05:11:06.361Z"
   },
   {
    "duration": 2,
    "start_time": "2021-11-07T05:11:06.973Z"
   },
   {
    "duration": 4,
    "start_time": "2021-11-07T05:11:07.198Z"
   },
   {
    "duration": 6,
    "start_time": "2021-11-07T05:11:08.705Z"
   },
   {
    "duration": 1371,
    "start_time": "2021-11-07T14:23:33.013Z"
   },
   {
    "duration": 20,
    "start_time": "2021-11-07T14:23:34.387Z"
   },
   {
    "duration": 30,
    "start_time": "2021-11-07T14:23:34.410Z"
   },
   {
    "duration": 27,
    "start_time": "2021-11-07T14:23:34.443Z"
   },
   {
    "duration": 37,
    "start_time": "2021-11-07T14:23:34.472Z"
   },
   {
    "duration": 2348,
    "start_time": "2021-11-07T14:23:34.511Z"
   },
   {
    "duration": 9,
    "start_time": "2021-11-07T14:23:36.861Z"
   },
   {
    "duration": 17,
    "start_time": "2021-11-07T14:23:36.874Z"
   },
   {
    "duration": 9,
    "start_time": "2021-11-07T14:23:36.894Z"
   },
   {
    "duration": 11,
    "start_time": "2021-11-07T14:23:36.906Z"
   },
   {
    "duration": 6,
    "start_time": "2021-11-07T14:23:36.920Z"
   },
   {
    "duration": 42,
    "start_time": "2021-11-07T14:23:36.928Z"
   },
   {
    "duration": 7,
    "start_time": "2021-11-07T14:23:36.972Z"
   },
   {
    "duration": 20,
    "start_time": "2021-11-07T14:23:36.982Z"
   },
   {
    "duration": 8,
    "start_time": "2021-11-07T14:23:37.006Z"
   },
   {
    "duration": 6,
    "start_time": "2021-11-07T14:23:37.017Z"
   },
   {
    "duration": 11,
    "start_time": "2021-11-07T14:23:37.026Z"
   },
   {
    "duration": 4,
    "start_time": "2021-11-07T14:23:37.040Z"
   },
   {
    "duration": 23,
    "start_time": "2021-11-07T14:23:37.046Z"
   },
   {
    "duration": 12,
    "start_time": "2021-11-07T14:23:37.071Z"
   },
   {
    "duration": 81,
    "start_time": "2021-11-07T14:23:37.086Z"
   },
   {
    "duration": 7,
    "start_time": "2021-11-07T14:23:37.170Z"
   },
   {
    "duration": 4,
    "start_time": "2021-11-07T14:23:37.268Z"
   },
   {
    "duration": 13,
    "start_time": "2021-11-07T14:23:37.275Z"
   },
   {
    "duration": 11,
    "start_time": "2021-11-07T14:23:37.291Z"
   },
   {
    "duration": 13,
    "start_time": "2021-11-07T14:23:37.304Z"
   },
   {
    "duration": 542,
    "start_time": "2021-11-07T14:23:37.320Z"
   },
   {
    "duration": 430,
    "start_time": "2021-11-07T16:41:43.443Z"
   },
   {
    "duration": 1436,
    "start_time": "2021-11-07T16:41:53.711Z"
   },
   {
    "duration": 21,
    "start_time": "2021-11-07T16:41:55.150Z"
   },
   {
    "duration": 35,
    "start_time": "2021-11-07T16:41:55.174Z"
   },
   {
    "duration": 9,
    "start_time": "2021-11-07T16:41:55.211Z"
   },
   {
    "duration": 38,
    "start_time": "2021-11-07T16:41:55.222Z"
   },
   {
    "duration": 2506,
    "start_time": "2021-11-07T16:41:55.262Z"
   },
   {
    "duration": 5,
    "start_time": "2021-11-07T16:41:57.771Z"
   },
   {
    "duration": 6,
    "start_time": "2021-11-07T16:42:11.509Z"
   },
   {
    "duration": 8,
    "start_time": "2021-11-07T16:42:11.740Z"
   },
   {
    "duration": 9,
    "start_time": "2021-11-07T16:42:11.995Z"
   },
   {
    "duration": 6,
    "start_time": "2021-11-07T17:37:19.634Z"
   },
   {
    "duration": 8,
    "start_time": "2021-11-07T17:37:20.233Z"
   },
   {
    "duration": 14,
    "start_time": "2021-11-07T17:37:20.570Z"
   },
   {
    "duration": 7,
    "start_time": "2021-11-07T17:37:26.842Z"
   },
   {
    "duration": 8,
    "start_time": "2021-11-07T17:37:27.257Z"
   },
   {
    "duration": 4,
    "start_time": "2021-11-07T17:37:27.972Z"
   },
   {
    "duration": 4,
    "start_time": "2021-11-07T17:37:29.393Z"
   },
   {
    "duration": 4,
    "start_time": "2021-11-07T17:37:30.018Z"
   },
   {
    "duration": 4,
    "start_time": "2021-11-07T17:37:30.185Z"
   },
   {
    "duration": 11,
    "start_time": "2021-11-07T17:37:30.361Z"
   },
   {
    "duration": 5,
    "start_time": "2021-11-07T17:37:30.825Z"
   },
   {
    "duration": 6,
    "start_time": "2021-11-07T17:37:31.641Z"
   },
   {
    "duration": 19,
    "start_time": "2021-11-07T17:37:32.849Z"
   },
   {
    "duration": 4,
    "start_time": "2021-11-07T17:37:33.601Z"
   },
   {
    "duration": 7,
    "start_time": "2021-11-07T17:37:33.961Z"
   },
   {
    "duration": 5,
    "start_time": "2021-11-07T17:37:34.289Z"
   },
   {
    "duration": 5,
    "start_time": "2021-11-07T17:37:34.665Z"
   },
   {
    "duration": 4,
    "start_time": "2021-11-07T17:37:36.000Z"
   },
   {
    "duration": 6,
    "start_time": "2021-11-07T17:37:36.448Z"
   },
   {
    "duration": 8,
    "start_time": "2021-11-07T17:37:37.585Z"
   },
   {
    "duration": 6,
    "start_time": "2021-11-07T18:21:35.152Z"
   },
   {
    "duration": 8,
    "start_time": "2021-11-07T18:21:35.546Z"
   },
   {
    "duration": 4,
    "start_time": "2021-11-07T18:21:36.178Z"
   },
   {
    "duration": 4,
    "start_time": "2021-11-07T18:21:37.626Z"
   },
   {
    "duration": 5,
    "start_time": "2021-11-07T18:21:38.050Z"
   },
   {
    "duration": 5,
    "start_time": "2021-11-07T18:21:40.034Z"
   },
   {
    "duration": 8,
    "start_time": "2021-11-07T18:21:41.817Z"
   },
   {
    "duration": 4,
    "start_time": "2021-11-07T18:21:44.617Z"
   },
   {
    "duration": 5,
    "start_time": "2021-11-07T18:21:44.945Z"
   },
   {
    "duration": 6,
    "start_time": "2021-11-07T18:21:45.290Z"
   },
   {
    "duration": 5,
    "start_time": "2021-11-07T18:21:45.658Z"
   },
   {
    "duration": 4,
    "start_time": "2021-11-07T18:21:48.737Z"
   },
   {
    "duration": 5,
    "start_time": "2021-11-07T18:21:49.178Z"
   },
   {
    "duration": 5,
    "start_time": "2021-11-07T19:39:32.666Z"
   },
   {
    "duration": 440,
    "start_time": "2021-11-07T19:39:32.849Z"
   },
   {
    "duration": 3,
    "start_time": "2021-11-07T19:39:38.218Z"
   },
   {
    "duration": 8,
    "start_time": "2021-11-07T19:40:38.722Z"
   },
   {
    "duration": 6,
    "start_time": "2021-11-07T19:43:16.104Z"
   },
   {
    "duration": 3,
    "start_time": "2021-11-07T19:43:40.336Z"
   },
   {
    "duration": 7,
    "start_time": "2021-11-07T19:43:51.704Z"
   },
   {
    "duration": 879,
    "start_time": "2021-11-07T19:54:21.261Z"
   },
   {
    "duration": 5,
    "start_time": "2021-11-07T19:54:30.205Z"
   },
   {
    "duration": 368,
    "start_time": "2021-11-07T19:54:52.364Z"
   },
   {
    "duration": 6,
    "start_time": "2021-11-07T19:54:59.100Z"
   },
   {
    "duration": 643,
    "start_time": "2021-11-07T19:56:31.030Z"
   },
   {
    "duration": 693,
    "start_time": "2021-11-07T19:56:53.155Z"
   },
   {
    "duration": 5,
    "start_time": "2021-11-07T19:57:00.739Z"
   },
   {
    "duration": 6,
    "start_time": "2021-11-07T19:57:04.835Z"
   },
   {
    "duration": 4,
    "start_time": "2021-11-07T20:45:33.306Z"
   },
   {
    "duration": 5,
    "start_time": "2021-11-07T20:45:44.613Z"
   },
   {
    "duration": 155,
    "start_time": "2021-11-07T20:49:05.275Z"
   },
   {
    "duration": 604,
    "start_time": "2021-11-07T20:49:12.412Z"
   },
   {
    "duration": 5,
    "start_time": "2021-11-07T20:49:23.035Z"
   },
   {
    "duration": 124,
    "start_time": "2021-11-07T20:49:39.356Z"
   },
   {
    "duration": 824,
    "start_time": "2021-11-07T20:49:49.260Z"
   },
   {
    "duration": 5,
    "start_time": "2021-11-07T21:12:44.456Z"
   },
   {
    "duration": 790,
    "start_time": "2021-11-07T21:12:46.547Z"
   },
   {
    "duration": 5,
    "start_time": "2021-11-07T21:13:06.219Z"
   },
   {
    "duration": 6,
    "start_time": "2021-11-07T21:13:07.459Z"
   },
   {
    "duration": 6,
    "start_time": "2021-11-07T21:40:26.993Z"
   },
   {
    "duration": 8,
    "start_time": "2021-11-07T21:40:27.187Z"
   },
   {
    "duration": 6,
    "start_time": "2021-11-07T21:40:28.739Z"
   },
   {
    "duration": 5,
    "start_time": "2021-11-07T21:40:43.811Z"
   },
   {
    "duration": 17,
    "start_time": "2021-11-07T21:40:53.690Z"
   },
   {
    "duration": 7,
    "start_time": "2021-11-07T21:41:11.098Z"
   },
   {
    "duration": 17,
    "start_time": "2021-11-07T21:41:15.051Z"
   },
   {
    "duration": 5,
    "start_time": "2021-11-07T21:41:28.139Z"
   },
   {
    "duration": 6,
    "start_time": "2021-11-07T21:41:28.914Z"
   },
   {
    "duration": 19,
    "start_time": "2021-11-07T21:41:30.291Z"
   },
   {
    "duration": 6,
    "start_time": "2021-11-07T21:43:04.098Z"
   },
   {
    "duration": 7,
    "start_time": "2021-11-07T21:43:05.369Z"
   },
   {
    "duration": 18,
    "start_time": "2021-11-07T21:43:06.209Z"
   },
   {
    "duration": 18,
    "start_time": "2021-11-07T21:43:14.978Z"
   },
   {
    "duration": 17,
    "start_time": "2021-11-07T21:43:21.298Z"
   },
   {
    "duration": 5,
    "start_time": "2021-11-07T21:43:35.621Z"
   },
   {
    "duration": 22,
    "start_time": "2021-11-07T21:43:35.630Z"
   },
   {
    "duration": 18,
    "start_time": "2021-11-07T21:43:35.656Z"
   },
   {
    "duration": 22,
    "start_time": "2021-11-07T21:43:35.678Z"
   },
   {
    "duration": 36,
    "start_time": "2021-11-07T21:43:35.703Z"
   },
   {
    "duration": 2487,
    "start_time": "2021-11-07T21:43:35.743Z"
   },
   {
    "duration": 5,
    "start_time": "2021-11-07T21:43:38.234Z"
   },
   {
    "duration": 16,
    "start_time": "2021-11-07T21:43:38.242Z"
   },
   {
    "duration": 17,
    "start_time": "2021-11-07T21:43:38.261Z"
   },
   {
    "duration": 30,
    "start_time": "2021-11-07T21:43:38.280Z"
   },
   {
    "duration": 5,
    "start_time": "2021-11-07T21:43:38.313Z"
   },
   {
    "duration": 10,
    "start_time": "2021-11-07T21:43:38.320Z"
   },
   {
    "duration": 5,
    "start_time": "2021-11-07T21:43:41.793Z"
   },
   {
    "duration": 6,
    "start_time": "2021-11-07T21:43:42.770Z"
   },
   {
    "duration": 18,
    "start_time": "2021-11-07T21:43:45.750Z"
   },
   {
    "duration": 17,
    "start_time": "2021-11-07T21:43:48.737Z"
   },
   {
    "duration": 16,
    "start_time": "2021-11-07T21:43:53.602Z"
   },
   {
    "duration": 5,
    "start_time": "2021-11-07T21:44:47.497Z"
   },
   {
    "duration": 6,
    "start_time": "2021-11-07T21:44:49.041Z"
   },
   {
    "duration": 397,
    "start_time": "2021-11-07T21:44:51.977Z"
   },
   {
    "duration": 6,
    "start_time": "2021-11-07T21:45:41.441Z"
   },
   {
    "duration": 4,
    "start_time": "2021-11-07T21:45:42.457Z"
   },
   {
    "duration": 24,
    "start_time": "2021-11-07T21:45:47.873Z"
   },
   {
    "duration": 166,
    "start_time": "2021-11-07T21:45:56.122Z"
   },
   {
    "duration": 5,
    "start_time": "2021-11-07T21:46:05.969Z"
   },
   {
    "duration": 64,
    "start_time": "2021-11-07T21:46:07.537Z"
   },
   {
    "duration": 5,
    "start_time": "2021-11-07T21:46:25.592Z"
   },
   {
    "duration": 6,
    "start_time": "2021-11-07T21:46:26.991Z"
   },
   {
    "duration": 17,
    "start_time": "2021-11-07T21:46:28.280Z"
   },
   {
    "duration": 16,
    "start_time": "2021-11-07T21:48:28.648Z"
   },
   {
    "duration": 5,
    "start_time": "2021-11-07T22:18:31.853Z"
   },
   {
    "duration": 7,
    "start_time": "2021-11-07T22:18:32.895Z"
   },
   {
    "duration": 17,
    "start_time": "2021-11-07T22:18:34.719Z"
   },
   {
    "duration": 19,
    "start_time": "2021-11-07T22:18:40.062Z"
   },
   {
    "duration": 5,
    "start_time": "2021-11-07T22:18:42.240Z"
   },
   {
    "duration": 6,
    "start_time": "2021-11-07T22:18:42.654Z"
   },
   {
    "duration": 18,
    "start_time": "2021-11-07T22:18:43.294Z"
   },
   {
    "duration": 5,
    "start_time": "2021-11-07T22:20:15.814Z"
   },
   {
    "duration": 6,
    "start_time": "2021-11-07T22:20:16.406Z"
   },
   {
    "duration": 376,
    "start_time": "2021-11-07T22:20:20.190Z"
   },
   {
    "duration": 5,
    "start_time": "2021-11-07T22:20:37.328Z"
   },
   {
    "duration": 7,
    "start_time": "2021-11-07T22:20:37.941Z"
   },
   {
    "duration": 371,
    "start_time": "2021-11-07T22:20:38.422Z"
   },
   {
    "duration": 4,
    "start_time": "2021-11-07T22:23:01.637Z"
   },
   {
    "duration": 4,
    "start_time": "2021-11-07T22:23:08.572Z"
   },
   {
    "duration": 5,
    "start_time": "2021-11-07T22:23:12.109Z"
   },
   {
    "duration": 4,
    "start_time": "2021-11-07T22:23:23.733Z"
   },
   {
    "duration": 3,
    "start_time": "2021-11-07T22:23:24.165Z"
   },
   {
    "duration": 5,
    "start_time": "2021-11-07T22:23:24.509Z"
   },
   {
    "duration": 377,
    "start_time": "2021-11-07T22:23:26.654Z"
   },
   {
    "duration": 4,
    "start_time": "2021-11-07T22:23:34.909Z"
   },
   {
    "duration": 3,
    "start_time": "2021-11-07T22:23:35.309Z"
   },
   {
    "duration": 379,
    "start_time": "2021-11-07T22:23:35.620Z"
   },
   {
    "duration": 119,
    "start_time": "2021-11-07T22:26:48.074Z"
   },
   {
    "duration": 3,
    "start_time": "2021-11-07T22:27:03.292Z"
   },
   {
    "duration": 5,
    "start_time": "2021-11-07T22:27:04.708Z"
   },
   {
    "duration": 957,
    "start_time": "2021-11-07T22:27:04.956Z"
   },
   {
    "duration": 4,
    "start_time": "2021-11-07T22:27:13.643Z"
   },
   {
    "duration": 5,
    "start_time": "2021-11-07T22:27:14.411Z"
   },
   {
    "duration": 789,
    "start_time": "2021-11-07T22:27:14.851Z"
   },
   {
    "duration": 361,
    "start_time": "2021-11-07T22:27:19.604Z"
   },
   {
    "duration": 5,
    "start_time": "2021-11-07T22:32:32.722Z"
   },
   {
    "duration": 17,
    "start_time": "2021-11-07T22:32:36.394Z"
   },
   {
    "duration": 4,
    "start_time": "2021-11-07T22:34:41.114Z"
   },
   {
    "duration": 14,
    "start_time": "2021-11-07T22:34:45.321Z"
   },
   {
    "duration": 5,
    "start_time": "2021-11-07T23:28:48.367Z"
   },
   {
    "duration": 6,
    "start_time": "2021-11-07T23:28:52.194Z"
   },
   {
    "duration": 8,
    "start_time": "2021-11-07T23:28:54.392Z"
   },
   {
    "duration": 4,
    "start_time": "2021-11-07T23:28:56.808Z"
   },
   {
    "duration": 7,
    "start_time": "2021-11-07T23:28:57.176Z"
   },
   {
    "duration": 4,
    "start_time": "2021-11-07T23:28:57.632Z"
   },
   {
    "duration": 5,
    "start_time": "2021-11-07T23:28:58.096Z"
   },
   {
    "duration": 4,
    "start_time": "2021-11-07T23:29:00.560Z"
   },
   {
    "duration": 6,
    "start_time": "2021-11-07T23:29:00.856Z"
   },
   {
    "duration": 7,
    "start_time": "2021-11-07T23:29:04.696Z"
   },
   {
    "duration": 4,
    "start_time": "2021-11-07T23:29:32.638Z"
   },
   {
    "duration": 26,
    "start_time": "2021-11-07T23:29:32.645Z"
   },
   {
    "duration": 18,
    "start_time": "2021-11-07T23:29:32.675Z"
   },
   {
    "duration": 11,
    "start_time": "2021-11-07T23:29:32.697Z"
   },
   {
    "duration": 45,
    "start_time": "2021-11-07T23:29:32.711Z"
   },
   {
    "duration": 2478,
    "start_time": "2021-11-07T23:29:32.759Z"
   },
   {
    "duration": 5,
    "start_time": "2021-11-07T23:29:35.240Z"
   },
   {
    "duration": 12,
    "start_time": "2021-11-07T23:29:35.248Z"
   },
   {
    "duration": 16,
    "start_time": "2021-11-07T23:29:35.264Z"
   },
   {
    "duration": 12,
    "start_time": "2021-11-07T23:29:35.283Z"
   },
   {
    "duration": 6,
    "start_time": "2021-11-07T23:29:35.298Z"
   },
   {
    "duration": 11,
    "start_time": "2021-11-07T23:29:35.307Z"
   },
   {
    "duration": 5,
    "start_time": "2021-11-07T23:29:35.320Z"
   },
   {
    "duration": 11,
    "start_time": "2021-11-07T23:29:35.327Z"
   },
   {
    "duration": 61,
    "start_time": "2021-11-07T23:29:35.341Z"
   },
   {
    "duration": 96,
    "start_time": "2021-11-07T23:29:35.405Z"
   },
   {
    "duration": 14,
    "start_time": "2021-11-07T23:29:38.456Z"
   },
   {
    "duration": 4,
    "start_time": "2021-11-07T23:29:38.705Z"
   },
   {
    "duration": 6,
    "start_time": "2021-11-07T23:29:38.896Z"
   },
   {
    "duration": 4,
    "start_time": "2021-11-07T23:29:39.064Z"
   },
   {
    "duration": 5,
    "start_time": "2021-11-07T23:29:39.256Z"
   },
   {
    "duration": 3,
    "start_time": "2021-11-07T23:29:40.568Z"
   },
   {
    "duration": 5,
    "start_time": "2021-11-07T23:29:40.752Z"
   },
   {
    "duration": 15,
    "start_time": "2021-11-07T23:30:32.712Z"
   },
   {
    "duration": 15,
    "start_time": "2021-11-07T23:30:37.032Z"
   },
   {
    "duration": 7,
    "start_time": "2021-11-07T23:30:47.143Z"
   },
   {
    "duration": 9,
    "start_time": "2021-11-07T23:30:49.079Z"
   },
   {
    "duration": 8,
    "start_time": "2021-11-07T23:30:55.192Z"
   },
   {
    "duration": 5,
    "start_time": "2021-11-07T23:31:41.087Z"
   },
   {
    "duration": 6,
    "start_time": "2021-11-07T23:31:42.080Z"
   },
   {
    "duration": 12,
    "start_time": "2021-11-07T23:31:43.591Z"
   },
   {
    "duration": 3,
    "start_time": "2021-11-07T23:31:43.967Z"
   },
   {
    "duration": 6,
    "start_time": "2021-11-07T23:31:44.143Z"
   },
   {
    "duration": 5,
    "start_time": "2021-11-07T23:31:44.319Z"
   },
   {
    "duration": 5,
    "start_time": "2021-11-07T23:31:44.487Z"
   },
   {
    "duration": 4,
    "start_time": "2021-11-07T23:31:45.895Z"
   },
   {
    "duration": 6,
    "start_time": "2021-11-07T23:31:46.263Z"
   },
   {
    "duration": 8,
    "start_time": "2021-11-07T23:31:47.768Z"
   },
   {
    "duration": 4,
    "start_time": "2021-11-07T23:32:01.537Z"
   },
   {
    "duration": 37,
    "start_time": "2021-11-07T23:32:01.544Z"
   },
   {
    "duration": 32,
    "start_time": "2021-11-07T23:32:01.584Z"
   },
   {
    "duration": 19,
    "start_time": "2021-11-07T23:32:01.619Z"
   },
   {
    "duration": 40,
    "start_time": "2021-11-07T23:32:01.641Z"
   },
   {
    "duration": 2447,
    "start_time": "2021-11-07T23:32:01.683Z"
   },
   {
    "duration": 3,
    "start_time": "2021-11-07T23:32:04.132Z"
   },
   {
    "duration": 12,
    "start_time": "2021-11-07T23:32:04.139Z"
   },
   {
    "duration": 20,
    "start_time": "2021-11-07T23:32:04.153Z"
   },
   {
    "duration": 36,
    "start_time": "2021-11-07T23:32:04.176Z"
   },
   {
    "duration": 9,
    "start_time": "2021-11-07T23:32:04.215Z"
   },
   {
    "duration": 16,
    "start_time": "2021-11-07T23:32:04.226Z"
   },
   {
    "duration": 12,
    "start_time": "2021-11-07T23:32:04.245Z"
   },
   {
    "duration": 18,
    "start_time": "2021-11-07T23:32:04.259Z"
   },
   {
    "duration": 23,
    "start_time": "2021-11-07T23:32:04.279Z"
   },
   {
    "duration": 96,
    "start_time": "2021-11-07T23:32:04.305Z"
   },
   {
    "duration": 98,
    "start_time": "2021-11-07T23:32:04.404Z"
   },
   {
    "duration": 96,
    "start_time": "2021-11-07T23:32:04.505Z"
   },
   {
    "duration": 6,
    "start_time": "2021-11-07T23:32:04.603Z"
   },
   {
    "duration": 10,
    "start_time": "2021-11-07T23:32:04.612Z"
   },
   {
    "duration": 17,
    "start_time": "2021-11-07T23:32:04.624Z"
   },
   {
    "duration": 57,
    "start_time": "2021-11-07T23:32:04.644Z"
   },
   {
    "duration": 8,
    "start_time": "2021-11-07T23:32:04.706Z"
   },
   {
    "duration": 12,
    "start_time": "2021-11-07T23:32:04.717Z"
   },
   {
    "duration": 5,
    "start_time": "2021-11-07T23:37:34.398Z"
   },
   {
    "duration": 6,
    "start_time": "2021-11-07T23:37:39.013Z"
   },
   {
    "duration": 4,
    "start_time": "2021-11-07T23:39:19.786Z"
   },
   {
    "duration": 27,
    "start_time": "2021-11-07T23:39:19.793Z"
   },
   {
    "duration": 18,
    "start_time": "2021-11-07T23:39:19.823Z"
   },
   {
    "duration": 8,
    "start_time": "2021-11-07T23:39:19.845Z"
   },
   {
    "duration": 66,
    "start_time": "2021-11-07T23:39:19.855Z"
   },
   {
    "duration": 2232,
    "start_time": "2021-11-07T23:39:19.923Z"
   },
   {
    "duration": 4,
    "start_time": "2021-11-07T23:39:22.158Z"
   },
   {
    "duration": 10,
    "start_time": "2021-11-07T23:39:22.164Z"
   },
   {
    "duration": 7,
    "start_time": "2021-11-07T23:39:22.202Z"
   },
   {
    "duration": 11,
    "start_time": "2021-11-07T23:39:22.212Z"
   },
   {
    "duration": 5,
    "start_time": "2021-11-07T23:39:22.225Z"
   },
   {
    "duration": 9,
    "start_time": "2021-11-07T23:39:22.232Z"
   },
   {
    "duration": 5,
    "start_time": "2021-11-07T23:39:22.243Z"
   },
   {
    "duration": 6,
    "start_time": "2021-11-07T23:39:22.300Z"
   },
   {
    "duration": 7,
    "start_time": "2021-11-07T23:39:22.308Z"
   },
   {
    "duration": 4,
    "start_time": "2021-11-07T23:39:24.053Z"
   },
   {
    "duration": 5,
    "start_time": "2021-11-07T23:39:24.252Z"
   },
   {
    "duration": 6,
    "start_time": "2021-11-07T23:39:25.598Z"
   },
   {
    "duration": 6,
    "start_time": "2021-11-07T23:39:26.269Z"
   },
   {
    "duration": 4,
    "start_time": "2021-11-07T23:39:27.924Z"
   },
   {
    "duration": 5,
    "start_time": "2021-11-07T23:39:28.077Z"
   },
   {
    "duration": 4,
    "start_time": "2021-11-07T23:39:28.228Z"
   },
   {
    "duration": 5,
    "start_time": "2021-11-07T23:39:28.404Z"
   },
   {
    "duration": 4,
    "start_time": "2021-11-07T23:39:29.933Z"
   },
   {
    "duration": 5,
    "start_time": "2021-11-07T23:39:30.197Z"
   },
   {
    "duration": 7,
    "start_time": "2021-11-07T23:39:32.077Z"
   },
   {
    "duration": 14,
    "start_time": "2021-11-07T23:40:05.581Z"
   },
   {
    "duration": 4,
    "start_time": "2021-11-07T23:43:38.604Z"
   },
   {
    "duration": 4,
    "start_time": "2021-11-07T23:43:40.019Z"
   },
   {
    "duration": 4,
    "start_time": "2021-11-07T23:43:40.315Z"
   },
   {
    "duration": 6,
    "start_time": "2021-11-07T23:43:41.579Z"
   },
   {
    "duration": 7,
    "start_time": "2021-11-07T23:43:41.947Z"
   },
   {
    "duration": 4,
    "start_time": "2021-11-07T23:43:42.283Z"
   },
   {
    "duration": 5,
    "start_time": "2021-11-07T23:43:42.459Z"
   },
   {
    "duration": 4,
    "start_time": "2021-11-07T23:43:42.635Z"
   },
   {
    "duration": 5,
    "start_time": "2021-11-07T23:43:42.810Z"
   },
   {
    "duration": 3,
    "start_time": "2021-11-07T23:43:43.323Z"
   },
   {
    "duration": 5,
    "start_time": "2021-11-07T23:43:43.515Z"
   },
   {
    "duration": 7,
    "start_time": "2021-11-07T23:43:44.020Z"
   },
   {
    "duration": 4,
    "start_time": "2021-11-07T23:43:59.733Z"
   },
   {
    "duration": 21,
    "start_time": "2021-11-07T23:43:59.739Z"
   },
   {
    "duration": 18,
    "start_time": "2021-11-07T23:43:59.763Z"
   },
   {
    "duration": 14,
    "start_time": "2021-11-07T23:43:59.783Z"
   },
   {
    "duration": 34,
    "start_time": "2021-11-07T23:43:59.799Z"
   },
   {
    "duration": 2369,
    "start_time": "2021-11-07T23:43:59.835Z"
   },
   {
    "duration": 4,
    "start_time": "2021-11-07T23:44:02.206Z"
   },
   {
    "duration": 20,
    "start_time": "2021-11-07T23:44:02.213Z"
   },
   {
    "duration": 10,
    "start_time": "2021-11-07T23:44:02.235Z"
   },
   {
    "duration": 28,
    "start_time": "2021-11-07T23:44:02.248Z"
   },
   {
    "duration": 6,
    "start_time": "2021-11-07T23:44:05.411Z"
   },
   {
    "duration": 8,
    "start_time": "2021-11-07T23:44:06.125Z"
   },
   {
    "duration": 4,
    "start_time": "2021-11-07T23:44:10.571Z"
   },
   {
    "duration": 4,
    "start_time": "2021-11-07T23:44:15.611Z"
   },
   {
    "duration": 4,
    "start_time": "2021-11-07T23:44:16.979Z"
   },
   {
    "duration": 6,
    "start_time": "2021-11-07T23:44:18.124Z"
   },
   {
    "duration": 6,
    "start_time": "2021-11-07T23:44:19.140Z"
   },
   {
    "duration": 5,
    "start_time": "2021-11-07T23:44:19.827Z"
   },
   {
    "duration": 5,
    "start_time": "2021-11-07T23:44:20.043Z"
   },
   {
    "duration": 4,
    "start_time": "2021-11-07T23:44:20.211Z"
   },
   {
    "duration": 4,
    "start_time": "2021-11-07T23:44:20.395Z"
   },
   {
    "duration": 3,
    "start_time": "2021-11-07T23:44:21.227Z"
   },
   {
    "duration": 5,
    "start_time": "2021-11-07T23:44:21.731Z"
   },
   {
    "duration": 4,
    "start_time": "2021-11-07T23:44:45.983Z"
   },
   {
    "duration": 22,
    "start_time": "2021-11-07T23:44:45.990Z"
   },
   {
    "duration": 21,
    "start_time": "2021-11-07T23:44:46.016Z"
   },
   {
    "duration": 17,
    "start_time": "2021-11-07T23:44:46.040Z"
   },
   {
    "duration": 63,
    "start_time": "2021-11-07T23:44:46.059Z"
   },
   {
    "duration": 2262,
    "start_time": "2021-11-07T23:44:46.124Z"
   },
   {
    "duration": 12,
    "start_time": "2021-11-07T23:44:48.389Z"
   },
   {
    "duration": 16,
    "start_time": "2021-11-07T23:44:48.405Z"
   },
   {
    "duration": 24,
    "start_time": "2021-11-07T23:44:48.423Z"
   },
   {
    "duration": 17,
    "start_time": "2021-11-07T23:44:48.450Z"
   },
   {
    "duration": 6,
    "start_time": "2021-11-07T23:44:48.470Z"
   },
   {
    "duration": 25,
    "start_time": "2021-11-07T23:44:48.478Z"
   },
   {
    "duration": 6,
    "start_time": "2021-11-07T23:44:56.050Z"
   },
   {
    "duration": 4,
    "start_time": "2021-11-07T23:45:45.966Z"
   },
   {
    "duration": 24,
    "start_time": "2021-11-07T23:45:45.972Z"
   },
   {
    "duration": 18,
    "start_time": "2021-11-07T23:45:45.999Z"
   },
   {
    "duration": 10,
    "start_time": "2021-11-07T23:45:46.019Z"
   },
   {
    "duration": 71,
    "start_time": "2021-11-07T23:45:46.031Z"
   },
   {
    "duration": 2353,
    "start_time": "2021-11-07T23:45:46.104Z"
   },
   {
    "duration": 4,
    "start_time": "2021-11-07T23:45:48.459Z"
   },
   {
    "duration": 16,
    "start_time": "2021-11-07T23:45:48.465Z"
   },
   {
    "duration": 7,
    "start_time": "2021-11-07T23:45:48.501Z"
   },
   {
    "duration": 20,
    "start_time": "2021-11-07T23:45:48.510Z"
   },
   {
    "duration": 5,
    "start_time": "2021-11-07T23:45:48.532Z"
   },
   {
    "duration": 17,
    "start_time": "2021-11-07T23:45:48.539Z"
   },
   {
    "duration": 5,
    "start_time": "2021-11-07T23:45:51.355Z"
   },
   {
    "duration": 7,
    "start_time": "2021-11-07T23:45:53.075Z"
   },
   {
    "duration": 4,
    "start_time": "2021-11-07T23:45:58.899Z"
   },
   {
    "duration": 11,
    "start_time": "2021-11-07T23:45:59.570Z"
   },
   {
    "duration": 5,
    "start_time": "2021-11-07T23:46:05.244Z"
   },
   {
    "duration": 5,
    "start_time": "2021-11-07T23:46:05.522Z"
   },
   {
    "duration": 6,
    "start_time": "2021-11-07T23:46:07.251Z"
   },
   {
    "duration": 7,
    "start_time": "2021-11-07T23:46:08.706Z"
   },
   {
    "duration": 4,
    "start_time": "2021-11-07T23:46:09.106Z"
   },
   {
    "duration": 5,
    "start_time": "2021-11-07T23:46:09.282Z"
   },
   {
    "duration": 4,
    "start_time": "2021-11-07T23:46:09.483Z"
   },
   {
    "duration": 5,
    "start_time": "2021-11-07T23:46:09.706Z"
   },
   {
    "duration": 3,
    "start_time": "2021-11-07T23:46:11.211Z"
   },
   {
    "duration": 6,
    "start_time": "2021-11-07T23:46:11.634Z"
   },
   {
    "duration": 7,
    "start_time": "2021-11-07T23:46:13.924Z"
   },
   {
    "duration": 4,
    "start_time": "2021-11-07T23:47:13.035Z"
   },
   {
    "duration": 4,
    "start_time": "2021-11-07T23:47:22.948Z"
   },
   {
    "duration": 22,
    "start_time": "2021-11-07T23:47:22.954Z"
   },
   {
    "duration": 18,
    "start_time": "2021-11-07T23:47:22.979Z"
   },
   {
    "duration": 12,
    "start_time": "2021-11-07T23:47:22.999Z"
   },
   {
    "duration": 34,
    "start_time": "2021-11-07T23:47:23.014Z"
   },
   {
    "duration": 2249,
    "start_time": "2021-11-07T23:47:23.051Z"
   },
   {
    "duration": 4,
    "start_time": "2021-11-07T23:47:25.302Z"
   },
   {
    "duration": 9,
    "start_time": "2021-11-07T23:47:25.310Z"
   },
   {
    "duration": 8,
    "start_time": "2021-11-07T23:47:25.322Z"
   },
   {
    "duration": 9,
    "start_time": "2021-11-07T23:47:25.333Z"
   },
   {
    "duration": 5,
    "start_time": "2021-11-07T23:47:25.344Z"
   },
   {
    "duration": 53,
    "start_time": "2021-11-07T23:47:25.351Z"
   },
   {
    "duration": 5,
    "start_time": "2021-11-07T23:47:25.407Z"
   },
   {
    "duration": 85,
    "start_time": "2021-11-07T23:47:25.416Z"
   },
   {
    "duration": 6,
    "start_time": "2021-11-07T23:47:25.505Z"
   },
   {
    "duration": 87,
    "start_time": "2021-11-07T23:47:25.515Z"
   },
   {
    "duration": 11,
    "start_time": "2021-11-07T23:47:25.605Z"
   },
   {
    "duration": 82,
    "start_time": "2021-11-07T23:47:25.619Z"
   },
   {
    "duration": 7,
    "start_time": "2021-11-07T23:47:25.705Z"
   },
   {
    "duration": 90,
    "start_time": "2021-11-07T23:47:25.715Z"
   },
   {
    "duration": 6,
    "start_time": "2021-11-07T23:47:25.808Z"
   },
   {
    "duration": 5,
    "start_time": "2021-11-07T23:47:25.816Z"
   },
   {
    "duration": 6,
    "start_time": "2021-11-07T23:47:25.825Z"
   },
   {
    "duration": 8,
    "start_time": "2021-11-07T23:47:25.833Z"
   },
   {
    "duration": 1292,
    "start_time": "2021-11-07T23:49:41.939Z"
   },
   {
    "duration": 19,
    "start_time": "2021-11-07T23:49:43.233Z"
   },
   {
    "duration": 26,
    "start_time": "2021-11-07T23:49:43.256Z"
   },
   {
    "duration": 21,
    "start_time": "2021-11-07T23:49:43.285Z"
   },
   {
    "duration": 34,
    "start_time": "2021-11-07T23:49:43.308Z"
   },
   {
    "duration": 2508,
    "start_time": "2021-11-07T23:49:43.345Z"
   },
   {
    "duration": 4,
    "start_time": "2021-11-07T23:49:45.856Z"
   },
   {
    "duration": 10,
    "start_time": "2021-11-07T23:49:45.864Z"
   },
   {
    "duration": 9,
    "start_time": "2021-11-07T23:49:45.902Z"
   },
   {
    "duration": 17,
    "start_time": "2021-11-07T23:49:45.914Z"
   },
   {
    "duration": 5,
    "start_time": "2021-11-07T23:49:45.934Z"
   },
   {
    "duration": 14,
    "start_time": "2021-11-07T23:49:45.941Z"
   },
   {
    "duration": 45,
    "start_time": "2021-11-07T23:49:45.958Z"
   },
   {
    "duration": 10,
    "start_time": "2021-11-07T23:49:46.007Z"
   },
   {
    "duration": 82,
    "start_time": "2021-11-07T23:49:46.020Z"
   },
   {
    "duration": 9,
    "start_time": "2021-11-07T23:49:46.106Z"
   },
   {
    "duration": 16,
    "start_time": "2021-11-07T23:49:46.201Z"
   },
   {
    "duration": 5,
    "start_time": "2021-11-07T23:49:46.301Z"
   },
   {
    "duration": 93,
    "start_time": "2021-11-07T23:49:46.309Z"
   },
   {
    "duration": 8,
    "start_time": "2021-11-07T23:49:46.405Z"
   },
   {
    "duration": 7,
    "start_time": "2021-11-07T23:49:46.416Z"
   },
   {
    "duration": 7,
    "start_time": "2021-11-07T23:49:46.425Z"
   },
   {
    "duration": 8,
    "start_time": "2021-11-07T23:49:46.436Z"
   },
   {
    "duration": 9,
    "start_time": "2021-11-07T23:49:46.446Z"
   },
   {
    "duration": 1371,
    "start_time": "2021-11-07T23:57:31.424Z"
   },
   {
    "duration": 22,
    "start_time": "2021-11-07T23:57:32.798Z"
   },
   {
    "duration": 30,
    "start_time": "2021-11-07T23:57:32.823Z"
   },
   {
    "duration": 14,
    "start_time": "2021-11-07T23:57:32.856Z"
   },
   {
    "duration": 59,
    "start_time": "2021-11-07T23:57:32.873Z"
   },
   {
    "duration": 2324,
    "start_time": "2021-11-07T23:57:32.934Z"
   },
   {
    "duration": 4,
    "start_time": "2021-11-07T23:57:35.260Z"
   },
   {
    "duration": 8,
    "start_time": "2021-11-07T23:57:35.268Z"
   },
   {
    "duration": 7,
    "start_time": "2021-11-07T23:57:35.300Z"
   },
   {
    "duration": 13,
    "start_time": "2021-11-07T23:57:35.310Z"
   },
   {
    "duration": 5,
    "start_time": "2021-11-07T23:57:35.326Z"
   },
   {
    "duration": 11,
    "start_time": "2021-11-07T23:57:35.333Z"
   },
   {
    "duration": 57,
    "start_time": "2021-11-07T23:57:35.346Z"
   },
   {
    "duration": 5,
    "start_time": "2021-11-07T23:57:35.407Z"
   },
   {
    "duration": 88,
    "start_time": "2021-11-07T23:57:35.415Z"
   },
   {
    "duration": 9,
    "start_time": "2021-11-07T23:57:35.506Z"
   },
   {
    "duration": 83,
    "start_time": "2021-11-07T23:57:35.518Z"
   },
   {
    "duration": 5,
    "start_time": "2021-11-07T23:57:35.603Z"
   },
   {
    "duration": 90,
    "start_time": "2021-11-07T23:57:35.612Z"
   },
   {
    "duration": 4,
    "start_time": "2021-11-07T23:57:35.705Z"
   },
   {
    "duration": 13,
    "start_time": "2021-11-07T23:57:35.711Z"
   },
   {
    "duration": 11,
    "start_time": "2021-11-07T23:57:35.726Z"
   },
   {
    "duration": 8,
    "start_time": "2021-11-07T23:57:35.742Z"
   },
   {
    "duration": 49,
    "start_time": "2021-11-07T23:57:35.753Z"
   },
   {
    "duration": 1486,
    "start_time": "2021-11-08T17:46:54.705Z"
   },
   {
    "duration": 60,
    "start_time": "2021-11-08T17:46:56.194Z"
   },
   {
    "duration": 29,
    "start_time": "2021-11-08T17:46:56.257Z"
   },
   {
    "duration": 10,
    "start_time": "2021-11-08T17:46:56.290Z"
   },
   {
    "duration": 43,
    "start_time": "2021-11-08T17:46:56.304Z"
   },
   {
    "duration": 2442,
    "start_time": "2021-11-08T17:46:56.350Z"
   },
   {
    "duration": 8,
    "start_time": "2021-11-08T17:46:58.795Z"
   },
   {
    "duration": 11,
    "start_time": "2021-11-08T17:46:58.805Z"
   },
   {
    "duration": 9,
    "start_time": "2021-11-08T17:46:58.820Z"
   },
   {
    "duration": 17,
    "start_time": "2021-11-08T17:46:58.831Z"
   },
   {
    "duration": 8,
    "start_time": "2021-11-08T17:46:58.851Z"
   },
   {
    "duration": 139,
    "start_time": "2021-11-08T17:46:58.861Z"
   },
   {
    "duration": 6,
    "start_time": "2021-11-08T17:46:59.003Z"
   },
   {
    "duration": 12,
    "start_time": "2021-11-08T17:46:59.012Z"
   },
   {
    "duration": 79,
    "start_time": "2021-11-08T17:46:59.028Z"
   },
   {
    "duration": 89,
    "start_time": "2021-11-08T17:46:59.111Z"
   },
   {
    "duration": 28,
    "start_time": "2021-11-08T17:46:59.203Z"
   },
   {
    "duration": 11,
    "start_time": "2021-11-08T17:46:59.303Z"
   },
   {
    "duration": 7,
    "start_time": "2021-11-08T17:46:59.402Z"
   },
   {
    "duration": 8,
    "start_time": "2021-11-08T17:46:59.412Z"
   },
   {
    "duration": 16,
    "start_time": "2021-11-08T17:46:59.422Z"
   },
   {
    "duration": 5,
    "start_time": "2021-11-08T17:46:59.441Z"
   },
   {
    "duration": 11,
    "start_time": "2021-11-08T17:46:59.449Z"
   }
  ],
  "kernelspec": {
   "display_name": "Python 3",
   "language": "python",
   "name": "python3"
  },
  "language_info": {
   "codemirror_mode": {
    "name": "ipython",
    "version": 3
   },
   "file_extension": ".py",
   "mimetype": "text/x-python",
   "name": "python",
   "nbconvert_exporter": "python",
   "pygments_lexer": "ipython3",
   "version": "3.7.8"
  },
  "toc": {
   "base_numbering": 1,
   "nav_menu": {},
   "number_sections": true,
   "sideBar": true,
   "skip_h1_title": true,
   "title_cell": "Содержание",
   "title_sidebar": "Contents",
   "toc_cell": true,
   "toc_position": {},
   "toc_section_display": true,
   "toc_window_display": false
  }
 },
 "nbformat": 4,
 "nbformat_minor": 2
}
