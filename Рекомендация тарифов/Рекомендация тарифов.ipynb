{
 "cells": [
  {
   "cell_type": "markdown",
   "metadata": {},
   "source": [
    "# Рекомендация тарифов"
   ]
  },
  {
   "cell_type": "markdown",
   "metadata": {},
   "source": [
    "#### Описание работы :\n",
    "\n",
    "Оператор мобильной связи выяснил: многие клиенты пользуются архивными тарифами. На основании данных о поведении клиентов, уже перешедших на новые тарифы, необходимо построить систему, способную проанализировать поведение клиентов и предложить пользователям новый тариф: «Смарт» или «Ультра»."
   ]
  },
  {
   "cell_type": "markdown",
   "metadata": {},
   "source": [
    "#### Описание данных :\n",
    "\n",
    "* `сalls` — количество звонков\n",
    "* `minutes` — суммарная длительность звонков в минутах,\n",
    "* `messages` — количество sms-сообщений,\n",
    "* `mb_used` — израсходованный интернет-трафик в Мб,\n",
    "* `is_ultra` — каким тарифом пользовался в течение месяца («Ультра» — 1, «Смарт» — 0)."
   ]
  },
  {
   "cell_type": "markdown",
   "metadata": {},
   "source": [
    "#### План работы над проектом :\n",
    "\n",
    "   1. [Обзор и загрузка данных](#Step_1)\n",
    "   2. [Разделение данных на выборки](#Step_2)  \n",
    "   3. [Исследование модели](#Step_3)  \n",
    "   4. [Проверка модели на тестовой выборке](#Step_4) \n",
    "   5. [Проверка модели на адекватность](#Step_5) \n",
    "   6. [Общий вывод](#Step_6) "
   ]
  },
  {
   "cell_type": "markdown",
   "metadata": {},
   "source": [
    "## 1. Обзор и загрузка данных <a id=\"Step_1\"></a>"
   ]
  },
  {
   "cell_type": "markdown",
   "metadata": {},
   "source": [
    "Загрузим необходимые для работы библиотеки."
   ]
  },
  {
   "cell_type": "code",
   "execution_count": 1,
   "metadata": {},
   "outputs": [],
   "source": [
    "import pandas as pd\n",
    "import math\n",
    "\n",
    "# для разделения данных на выборки\n",
    "from sklearn.model_selection import train_test_split\n",
    "\n",
    "# для использования алгоритма классификации \"решающее дерево\"\n",
    "from sklearn.tree import DecisionTreeClassifier\n",
    "\n",
    "# для определения количества правильных ответов\n",
    "from sklearn.metrics import accuracy_score\n",
    "\n",
    "# для использования алгоритма классификации \"случайный лес\"\n",
    "from sklearn.ensemble import RandomForestClassifier\n",
    "\n",
    "# для использования алгоритма логистической регрессии\n",
    "from sklearn.linear_model import LogisticRegression\n",
    "\n",
    "# для создания простейшей модели\n",
    "from sklearn.dummy import DummyClassifier"
   ]
  },
  {
   "cell_type": "markdown",
   "metadata": {},
   "source": [
    "Откроем файл с данными и изучим общую информацию."
   ]
  },
  {
   "cell_type": "code",
   "execution_count": 2,
   "metadata": {},
   "outputs": [],
   "source": [
    "df = pd.read_csv('/datasets/users_behavior.csv', sep=',')"
   ]
  },
  {
   "cell_type": "code",
   "execution_count": 3,
   "metadata": {},
   "outputs": [
    {
     "data": {
      "text/html": [
       "<div>\n",
       "<style scoped>\n",
       "    .dataframe tbody tr th:only-of-type {\n",
       "        vertical-align: middle;\n",
       "    }\n",
       "\n",
       "    .dataframe tbody tr th {\n",
       "        vertical-align: top;\n",
       "    }\n",
       "\n",
       "    .dataframe thead th {\n",
       "        text-align: right;\n",
       "    }\n",
       "</style>\n",
       "<table border=\"1\" class=\"dataframe\">\n",
       "  <thead>\n",
       "    <tr style=\"text-align: right;\">\n",
       "      <th></th>\n",
       "      <th>calls</th>\n",
       "      <th>minutes</th>\n",
       "      <th>messages</th>\n",
       "      <th>mb_used</th>\n",
       "      <th>is_ultra</th>\n",
       "    </tr>\n",
       "  </thead>\n",
       "  <tbody>\n",
       "    <tr>\n",
       "      <td>0</td>\n",
       "      <td>40.0</td>\n",
       "      <td>311.90</td>\n",
       "      <td>83.0</td>\n",
       "      <td>19915.42</td>\n",
       "      <td>0</td>\n",
       "    </tr>\n",
       "    <tr>\n",
       "      <td>1</td>\n",
       "      <td>85.0</td>\n",
       "      <td>516.75</td>\n",
       "      <td>56.0</td>\n",
       "      <td>22696.96</td>\n",
       "      <td>0</td>\n",
       "    </tr>\n",
       "    <tr>\n",
       "      <td>2</td>\n",
       "      <td>77.0</td>\n",
       "      <td>467.66</td>\n",
       "      <td>86.0</td>\n",
       "      <td>21060.45</td>\n",
       "      <td>0</td>\n",
       "    </tr>\n",
       "    <tr>\n",
       "      <td>3</td>\n",
       "      <td>106.0</td>\n",
       "      <td>745.53</td>\n",
       "      <td>81.0</td>\n",
       "      <td>8437.39</td>\n",
       "      <td>1</td>\n",
       "    </tr>\n",
       "    <tr>\n",
       "      <td>4</td>\n",
       "      <td>66.0</td>\n",
       "      <td>418.74</td>\n",
       "      <td>1.0</td>\n",
       "      <td>14502.75</td>\n",
       "      <td>0</td>\n",
       "    </tr>\n",
       "    <tr>\n",
       "      <td>...</td>\n",
       "      <td>...</td>\n",
       "      <td>...</td>\n",
       "      <td>...</td>\n",
       "      <td>...</td>\n",
       "      <td>...</td>\n",
       "    </tr>\n",
       "    <tr>\n",
       "      <td>3209</td>\n",
       "      <td>122.0</td>\n",
       "      <td>910.98</td>\n",
       "      <td>20.0</td>\n",
       "      <td>35124.90</td>\n",
       "      <td>1</td>\n",
       "    </tr>\n",
       "    <tr>\n",
       "      <td>3210</td>\n",
       "      <td>25.0</td>\n",
       "      <td>190.36</td>\n",
       "      <td>0.0</td>\n",
       "      <td>3275.61</td>\n",
       "      <td>0</td>\n",
       "    </tr>\n",
       "    <tr>\n",
       "      <td>3211</td>\n",
       "      <td>97.0</td>\n",
       "      <td>634.44</td>\n",
       "      <td>70.0</td>\n",
       "      <td>13974.06</td>\n",
       "      <td>0</td>\n",
       "    </tr>\n",
       "    <tr>\n",
       "      <td>3212</td>\n",
       "      <td>64.0</td>\n",
       "      <td>462.32</td>\n",
       "      <td>90.0</td>\n",
       "      <td>31239.78</td>\n",
       "      <td>0</td>\n",
       "    </tr>\n",
       "    <tr>\n",
       "      <td>3213</td>\n",
       "      <td>80.0</td>\n",
       "      <td>566.09</td>\n",
       "      <td>6.0</td>\n",
       "      <td>29480.52</td>\n",
       "      <td>1</td>\n",
       "    </tr>\n",
       "  </tbody>\n",
       "</table>\n",
       "<p>3214 rows × 5 columns</p>\n",
       "</div>"
      ],
      "text/plain": [
       "      calls  minutes  messages   mb_used  is_ultra\n",
       "0      40.0   311.90      83.0  19915.42         0\n",
       "1      85.0   516.75      56.0  22696.96         0\n",
       "2      77.0   467.66      86.0  21060.45         0\n",
       "3     106.0   745.53      81.0   8437.39         1\n",
       "4      66.0   418.74       1.0  14502.75         0\n",
       "...     ...      ...       ...       ...       ...\n",
       "3209  122.0   910.98      20.0  35124.90         1\n",
       "3210   25.0   190.36       0.0   3275.61         0\n",
       "3211   97.0   634.44      70.0  13974.06         0\n",
       "3212   64.0   462.32      90.0  31239.78         0\n",
       "3213   80.0   566.09       6.0  29480.52         1\n",
       "\n",
       "[3214 rows x 5 columns]"
      ]
     },
     "metadata": {},
     "output_type": "display_data"
    },
    {
     "name": "stdout",
     "output_type": "stream",
     "text": [
      "<class 'pandas.core.frame.DataFrame'>\n",
      "RangeIndex: 3214 entries, 0 to 3213\n",
      "Data columns (total 5 columns):\n",
      "calls       3214 non-null float64\n",
      "minutes     3214 non-null float64\n",
      "messages    3214 non-null float64\n",
      "mb_used     3214 non-null float64\n",
      "is_ultra    3214 non-null int64\n",
      "dtypes: float64(4), int64(1)\n",
      "memory usage: 125.7 KB\n"
     ]
    },
    {
     "data": {
      "text/html": [
       "<div>\n",
       "<style scoped>\n",
       "    .dataframe tbody tr th:only-of-type {\n",
       "        vertical-align: middle;\n",
       "    }\n",
       "\n",
       "    .dataframe tbody tr th {\n",
       "        vertical-align: top;\n",
       "    }\n",
       "\n",
       "    .dataframe thead th {\n",
       "        text-align: right;\n",
       "    }\n",
       "</style>\n",
       "<table border=\"1\" class=\"dataframe\">\n",
       "  <thead>\n",
       "    <tr style=\"text-align: right;\">\n",
       "      <th></th>\n",
       "      <th>calls</th>\n",
       "      <th>minutes</th>\n",
       "      <th>messages</th>\n",
       "      <th>mb_used</th>\n",
       "      <th>is_ultra</th>\n",
       "    </tr>\n",
       "  </thead>\n",
       "  <tbody>\n",
       "    <tr>\n",
       "      <td>count</td>\n",
       "      <td>3214.000000</td>\n",
       "      <td>3214.000000</td>\n",
       "      <td>3214.000000</td>\n",
       "      <td>3214.000000</td>\n",
       "      <td>3214.000000</td>\n",
       "    </tr>\n",
       "    <tr>\n",
       "      <td>mean</td>\n",
       "      <td>63.038892</td>\n",
       "      <td>438.208787</td>\n",
       "      <td>38.281269</td>\n",
       "      <td>17207.673836</td>\n",
       "      <td>0.306472</td>\n",
       "    </tr>\n",
       "    <tr>\n",
       "      <td>std</td>\n",
       "      <td>33.236368</td>\n",
       "      <td>234.569872</td>\n",
       "      <td>36.148326</td>\n",
       "      <td>7570.968246</td>\n",
       "      <td>0.461100</td>\n",
       "    </tr>\n",
       "    <tr>\n",
       "      <td>min</td>\n",
       "      <td>0.000000</td>\n",
       "      <td>0.000000</td>\n",
       "      <td>0.000000</td>\n",
       "      <td>0.000000</td>\n",
       "      <td>0.000000</td>\n",
       "    </tr>\n",
       "    <tr>\n",
       "      <td>25%</td>\n",
       "      <td>40.000000</td>\n",
       "      <td>274.575000</td>\n",
       "      <td>9.000000</td>\n",
       "      <td>12491.902500</td>\n",
       "      <td>0.000000</td>\n",
       "    </tr>\n",
       "    <tr>\n",
       "      <td>50%</td>\n",
       "      <td>62.000000</td>\n",
       "      <td>430.600000</td>\n",
       "      <td>30.000000</td>\n",
       "      <td>16943.235000</td>\n",
       "      <td>0.000000</td>\n",
       "    </tr>\n",
       "    <tr>\n",
       "      <td>75%</td>\n",
       "      <td>82.000000</td>\n",
       "      <td>571.927500</td>\n",
       "      <td>57.000000</td>\n",
       "      <td>21424.700000</td>\n",
       "      <td>1.000000</td>\n",
       "    </tr>\n",
       "    <tr>\n",
       "      <td>max</td>\n",
       "      <td>244.000000</td>\n",
       "      <td>1632.060000</td>\n",
       "      <td>224.000000</td>\n",
       "      <td>49745.730000</td>\n",
       "      <td>1.000000</td>\n",
       "    </tr>\n",
       "  </tbody>\n",
       "</table>\n",
       "</div>"
      ],
      "text/plain": [
       "             calls      minutes     messages       mb_used     is_ultra\n",
       "count  3214.000000  3214.000000  3214.000000   3214.000000  3214.000000\n",
       "mean     63.038892   438.208787    38.281269  17207.673836     0.306472\n",
       "std      33.236368   234.569872    36.148326   7570.968246     0.461100\n",
       "min       0.000000     0.000000     0.000000      0.000000     0.000000\n",
       "25%      40.000000   274.575000     9.000000  12491.902500     0.000000\n",
       "50%      62.000000   430.600000    30.000000  16943.235000     0.000000\n",
       "75%      82.000000   571.927500    57.000000  21424.700000     1.000000\n",
       "max     244.000000  1632.060000   224.000000  49745.730000     1.000000"
      ]
     },
     "execution_count": 3,
     "metadata": {},
     "output_type": "execute_result"
    }
   ],
   "source": [
    "display(df)\n",
    "df.info()\n",
    "df.describe()"
   ]
  },
  {
   "cell_type": "markdown",
   "metadata": {},
   "source": [
    "Как и сказано в задании, предобработка данных не понадобится. Описание самих столбцов приведено выше. Каких-либо аномалий не видно.\n",
    "\n",
    "Тем не менее, проведём небольшую предобработку данных. Нули после точки в столбцах `calls` и `messages` нам совершенно ни к чему, поэтому приведём данные в них к целочисленному типу."
   ]
  },
  {
   "cell_type": "code",
   "execution_count": 4,
   "metadata": {},
   "outputs": [],
   "source": [
    "df[['calls', 'messages']] = df[['calls', 'messages']].astype('int')"
   ]
  },
  {
   "cell_type": "markdown",
   "metadata": {},
   "source": [
    "Также, округлим значения в столбцах `minutes` и `mb_used` в большую сторону, согласно тому, как оператор взимает плату за использования траффика."
   ]
  },
  {
   "cell_type": "code",
   "execution_count": 5,
   "metadata": {},
   "outputs": [],
   "source": [
    "df['minutes'] = df['minutes'].apply(math.ceil)\n",
    "df['mb_used'] = df['mb_used'].apply(math.ceil)"
   ]
  },
  {
   "cell_type": "markdown",
   "metadata": {},
   "source": [
    "## 2. Разделение данных на выборки <a id=\"Step_2\"></a>"
   ]
  },
  {
   "cell_type": "markdown",
   "metadata": {},
   "source": [
    "Разделим исходные данные на обучающую, валидационную и тестовую выборки в пропорции 60% / 20% / 20% соответственно.\n",
    "\n",
    "Сначала разделим данные в пропорции 60 / 40, сформировав тем самым обучающий набор данных."
   ]
  },
  {
   "cell_type": "code",
   "execution_count": 6,
   "metadata": {},
   "outputs": [],
   "source": [
    "df_train, df_other = train_test_split(df, test_size=0.40, random_state=12345)"
   ]
  },
  {
   "cell_type": "markdown",
   "metadata": {},
   "source": [
    "Теперь, оставшиеся 40% данных, снова разделим пополам, получив тем самым валидационную и тестовую выборки в пропорции 20% каждая от исходных данных."
   ]
  },
  {
   "cell_type": "code",
   "execution_count": 7,
   "metadata": {},
   "outputs": [],
   "source": [
    "df_valid, df_test = train_test_split(df_other, test_size=0.50, random_state=12345)"
   ]
  },
  {
   "cell_type": "markdown",
   "metadata": {},
   "source": [
    "Посмотрим размер получившихся выборок. "
   ]
  },
  {
   "cell_type": "code",
   "execution_count": 8,
   "metadata": {},
   "outputs": [
    {
     "name": "stdout",
     "output_type": "stream",
     "text": [
      "Обучающая выборка: (1928, 5)\n",
      "Валидационная выборка: (643, 5)\n",
      "Тестовая выборка: (643, 5)\n"
     ]
    }
   ],
   "source": [
    "print('Обучающая выборка:', df_train.shape)\n",
    "print('Валидационная выборка:', df_valid.shape)\n",
    "print('Тестовая выборка:', df_test.shape)"
   ]
  },
  {
   "cell_type": "markdown",
   "metadata": {},
   "source": [
    "Разделение проведено корректно."
   ]
  },
  {
   "cell_type": "markdown",
   "metadata": {},
   "source": [
    "## 3. Исследование модели <a id=\"Step_3\"></a>"
   ]
  },
  {
   "cell_type": "markdown",
   "metadata": {},
   "source": [
    "Перед тем, как приступить непосредственно к исследованию моделей, создадим переменные для хранения признаков и целевого признака каждой из выборок. Целевым признаком в нашему случае будем `is_ultra`."
   ]
  },
  {
   "cell_type": "markdown",
   "metadata": {},
   "source": [
    "Обучающая выборка. "
   ]
  },
  {
   "cell_type": "code",
   "execution_count": 9,
   "metadata": {},
   "outputs": [],
   "source": [
    "features_train = df_train.drop(['is_ultra'], axis=1)\n",
    "target_train = df_train['is_ultra']"
   ]
  },
  {
   "cell_type": "markdown",
   "metadata": {},
   "source": [
    "Валидационная выборка. "
   ]
  },
  {
   "cell_type": "code",
   "execution_count": 10,
   "metadata": {},
   "outputs": [],
   "source": [
    "features_valid = df_valid.drop(['is_ultra'], axis=1)\n",
    "target_valid = df_valid['is_ultra']"
   ]
  },
  {
   "cell_type": "markdown",
   "metadata": {},
   "source": [
    "Тестовая выборка. "
   ]
  },
  {
   "cell_type": "code",
   "execution_count": 11,
   "metadata": {},
   "outputs": [],
   "source": [
    "features_test = df_test.drop(['is_ultra'], axis=1)\n",
    "target_test = df_test['is_ultra']"
   ]
  },
  {
   "cell_type": "markdown",
   "metadata": {},
   "source": [
    "Переменные созданы, перейдём к исследованию моделей."
   ]
  },
  {
   "cell_type": "markdown",
   "metadata": {},
   "source": [
    "*3.1. Дерево решений.*"
   ]
  },
  {
   "cell_type": "markdown",
   "metadata": {},
   "source": [
    "Итак. В нашем случае поставлена задача бинарной классификации, относящаяся к классу \"обучение с учителем\". Для решения данной задачи воспользуемся структурой данных, именуемой деревом решений `DecisionTreeClassifier`."
   ]
  },
  {
   "cell_type": "markdown",
   "metadata": {},
   "source": [
    "Посмотрим как будет меняться количество правильных ответов при изменении гиперпараметра, определяющего размер решающего дерева, `max_depth`."
   ]
  },
  {
   "cell_type": "code",
   "execution_count": 12,
   "metadata": {},
   "outputs": [
    {
     "name": "stdout",
     "output_type": "stream",
     "text": [
      "max_depth = 1 : 0.7543\n",
      "max_depth = 2 : 0.7823\n",
      "max_depth = 3 : 0.7854\n",
      "max_depth = 4 : 0.7792\n",
      "max_depth = 5 : 0.7776\n",
      "max_depth = 6 : 0.7854\n",
      "max_depth = 7 : 0.7823\n",
      "max_depth = 8 : 0.7776\n",
      "max_depth = 9 : 0.7776\n",
      "max_depth = 10 : 0.7714\n",
      "max_depth = 11 : 0.7574\n",
      "max_depth = 12 : 0.7636\n",
      "max_depth = 13 : 0.7512\n",
      "max_depth = 14 : 0.7481\n",
      "max_depth = 15 : 0.7434\n"
     ]
    }
   ],
   "source": [
    "for depth in range(1,16): \n",
    "    \n",
    "    model = DecisionTreeClassifier(random_state=12345, max_depth= depth)\n",
    "    model.fit(features_train,target_train)\n",
    "    predictions_valid = model.predict(features_valid)\n",
    "    print(\"max_depth =\", depth, \": \", end='')\n",
    "    print(round(accuracy_score(target_valid, predictions_valid),4))"
   ]
  },
  {
   "cell_type": "markdown",
   "metadata": {},
   "source": [
    "Я намеренно не вывожу только лучший результат, потому что хочу посмотреть на зависимость как таковую.\n",
    "\n",
    "В итоге, при `max_depth` = 3 количество правильных ответов наиболее высокое: `accuracy` = 0.7854. Да, аналогичный результат мы получаем и на `max_depth` = 6, но совершенно точно нет смысла усложнять в ситуации, где это не принесёт никакого эффекта. Далее видно, что происходит переобучение модели, количество правильных ответов снижается, и следовательно остальные варианты нам не подходят."
   ]
  },
  {
   "cell_type": "markdown",
   "metadata": {},
   "source": [
    "*3.2. Случайный лес.*"
   ]
  },
  {
   "cell_type": "markdown",
   "metadata": {},
   "source": [
    "Одна модель у нас есть. Попробуем воспользоватся алгоритмом классификации \"случайный лес\" (`RandomForestClassifier`) для построении модели и оценим результат."
   ]
  },
  {
   "cell_type": "markdown",
   "metadata": {},
   "source": [
    "Здесь изменяемым гиперпараметром будет количество деревьев `n_estimators`."
   ]
  },
  {
   "cell_type": "code",
   "execution_count": 13,
   "metadata": {},
   "outputs": [
    {
     "name": "stdout",
     "output_type": "stream",
     "text": [
      "n_estimators = 1 : 0.6936\n",
      "n_estimators = 2 : 0.7589\n",
      "n_estimators = 3 : 0.7294\n",
      "n_estimators = 4 : 0.7496\n",
      "n_estimators = 5 : 0.7403\n",
      "n_estimators = 6 : 0.7683\n",
      "n_estimators = 7 : 0.7667\n",
      "n_estimators = 8 : 0.7745\n",
      "n_estimators = 9 : 0.7698\n",
      "n_estimators = 10 : 0.776\n",
      "n_estimators = 11 : 0.7823\n",
      "n_estimators = 12 : 0.7792\n",
      "n_estimators = 13 : 0.7745\n",
      "n_estimators = 14 : 0.7854\n",
      "n_estimators = 15 : 0.7823\n"
     ]
    }
   ],
   "source": [
    "for est in range(1, 16):\n",
    "    model = RandomForestClassifier(random_state=12345, n_estimators= est) \n",
    "    model.fit(features_train, target_train) \n",
    "    predictions_valid = model.predict(features_valid)\n",
    "    print(\"n_estimators =\", est, \": \", end='')\n",
    "    print(round(accuracy_score(target_valid, predictions_valid),4))"
   ]
  },
  {
   "cell_type": "markdown",
   "metadata": {},
   "source": [
    "Также как и в предыдущем случае мы рассмотрели 15 вариантов. Лучшим оказался разультат для `n_estimators` = 14, где `accuracy` = 0.7854. На нём и остановимся. Отметим, что данный результат полностью совпадает с предыдущим алгоритмом, при том, что дерево решений требует явно меньшее количество ресурсов."
   ]
  },
  {
   "cell_type": "markdown",
   "metadata": {},
   "source": [
    "*3.3. Логистическая регрессия.*"
   ]
  },
  {
   "cell_type": "markdown",
   "metadata": {},
   "source": [
    "На этот раз используем алгоритм логистической регрессии (`LogisticRegression`). "
   ]
  },
  {
   "cell_type": "markdown",
   "metadata": {},
   "source": [
    "Здесь будем рассматривать изменения для нескольких гиперпараметров: \n",
    " - `penalty` - вид регуляризации; \n",
    " - `C` - параметр регуляризации;\n",
    " - `tol` - указывает алгоритму оптимизации, когда следует остановиться."
   ]
  },
  {
   "cell_type": "markdown",
   "metadata": {},
   "source": [
    "Начнём с `penalty` = `l1`. \n",
    "Относительно гиперпараметра `C` поступим следующим образом. Из документации следует, что чем меньше этот гиперпараметр, тем сильнее регуляризация. Следовательно, посмотрим на изменение количества правильных ответов для данного вида регуляризация, перебрав значения параметра регуляризации `C` от 0.1 до 1."
   ]
  },
  {
   "cell_type": "markdown",
   "metadata": {},
   "source": [
    "Для того, чтобы не получать сообщение от системы о возможных проблемах `FutureWarning`, гиперпараметру `solver`, указывающему алгоритм, который используется для решения проблемы оптимизации, присвоим значение `liblinear`."
   ]
  },
  {
   "cell_type": "markdown",
   "metadata": {},
   "source": [
    "Сначала посмотрим как ведёт себя `accuracy` при установленном `penalty` и изменяющимся `C`."
   ]
  },
  {
   "cell_type": "code",
   "execution_count": 14,
   "metadata": {},
   "outputs": [
    {
     "name": "stdout",
     "output_type": "stream",
     "text": [
      "C = 0.1 : 0.7574\n",
      "C = 0.2 : 0.7558\n",
      "C = 0.3 : 0.7574\n",
      "C = 0.4 : 0.7574\n",
      "C = 0.5 : 0.7574\n",
      "C = 0.6 : 0.7558\n",
      "C = 0.7 : 0.7558\n",
      "C = 0.8 : 0.7558\n",
      "C = 0.9 : 0.7558\n",
      "C = 1.0 : 0.7558\n"
     ]
    }
   ],
   "source": [
    "list_c = [i / 10 for i in range(1,11,1)]\n",
    "\n",
    "for c in list_c:\n",
    "    model = LogisticRegression(random_state=12345, C = c, solver = 'liblinear', penalty = 'l1')\n",
    "    model.fit(features_train, target_train) \n",
    "    predictions_valid = model.predict(features_valid)\n",
    "    print(\"C =\", c, \": \", end='')\n",
    "    print(round(accuracy_score(target_valid, predictions_valid),4))"
   ]
  },
  {
   "cell_type": "markdown",
   "metadata": {},
   "source": [
    "Получили максимальное количество правильных ответов при `C` = 0.1, 0.4, 0.5 . Возьмём 0.5 ."
   ]
  },
  {
   "cell_type": "markdown",
   "metadata": {},
   "source": [
    "Теперь посмотрим как поведёт себя модель при изменении гиперпараметра `tol`. \n",
    "Зададим диапазон изменения от 0.00002 до 0.0004, то есть в меньшую и большую сторону от значения установленного по умолчанию (0.0001)."
   ]
  },
  {
   "cell_type": "code",
   "execution_count": 15,
   "metadata": {},
   "outputs": [
    {
     "name": "stdout",
     "output_type": "stream",
     "text": [
      "tol = 2e-05 : 0.7574\n",
      "tol = 4e-05 : 0.7574\n",
      "tol = 6e-05 : 0.7574\n",
      "tol = 8e-05 : 0.7574\n",
      "tol = 0.0001 : 0.7574\n",
      "tol = 0.00012 : 0.7574\n",
      "tol = 0.00014 : 0.7574\n",
      "tol = 0.00016 : 0.7574\n",
      "tol = 0.00018 : 0.7543\n",
      "tol = 0.0002 : 0.7543\n",
      "tol = 0.00022 : 0.7543\n",
      "tol = 0.00024 : 0.7543\n",
      "tol = 0.00026 : 0.7543\n",
      "tol = 0.00028 : 0.7543\n",
      "tol = 0.0003 : 0.7543\n",
      "tol = 0.00032 : 0.7543\n",
      "tol = 0.00034 : 0.7543\n",
      "tol = 0.00036 : 0.7543\n",
      "tol = 0.00038 : 0.7527\n",
      "tol = 0.0004 : 0.7527\n"
     ]
    }
   ],
   "source": [
    "list_tol = [i / 50000 for i in range(1,21,1)]\n",
    "\n",
    "for tol in list_tol:\n",
    "    model = LogisticRegression(random_state=12345\n",
    "                               , C = 0.5\n",
    "                               , solver = 'liblinear'\n",
    "                               , tol = tol\n",
    "                               , penalty = 'l1')\n",
    "    model.fit(features_train, target_train) \n",
    "    predictions_valid = model.predict(features_valid)\n",
    "    print(\"tol =\", tol, \": \", end='')\n",
    "    print(round(accuracy_score(target_valid, predictions_valid),4))"
   ]
  },
  {
   "cell_type": "markdown",
   "metadata": {},
   "source": [
    "Из полученных результатов хорошо видно, что после того, как значение остановки алгоритма превышает 0.00016 происходит уменьшение количества правильных ответов. "
   ]
  },
  {
   "cell_type": "markdown",
   "metadata": {},
   "source": [
    "Таким образом, для гиперпарамера `penalty` = `l1` лучший результат, равный 0.7574, можно получить при `C` = 0.5 и `tol` = 0.0016.\n",
    "\n",
    "Создадим соответсвующую сводную таблицу для простоты сравнения результатов изменения гиперпараметров для данного алгоритма."
   ]
  },
  {
   "cell_type": "code",
   "execution_count": 16,
   "metadata": {},
   "outputs": [],
   "source": [
    "df_gip_LR = pd.DataFrame({'penalty': 'l1'\n",
    "                          , 'C': 0.5\n",
    "                          ,'tol':0.0016\n",
    "                          , 'accuracy': 0.7574}, index=[0])"
   ]
  },
  {
   "cell_type": "code",
   "execution_count": 17,
   "metadata": {},
   "outputs": [
    {
     "data": {
      "text/html": [
       "<div>\n",
       "<style scoped>\n",
       "    .dataframe tbody tr th:only-of-type {\n",
       "        vertical-align: middle;\n",
       "    }\n",
       "\n",
       "    .dataframe tbody tr th {\n",
       "        vertical-align: top;\n",
       "    }\n",
       "\n",
       "    .dataframe thead th {\n",
       "        text-align: right;\n",
       "    }\n",
       "</style>\n",
       "<table border=\"1\" class=\"dataframe\">\n",
       "  <thead>\n",
       "    <tr style=\"text-align: right;\">\n",
       "      <th></th>\n",
       "      <th>penalty</th>\n",
       "      <th>C</th>\n",
       "      <th>tol</th>\n",
       "      <th>accuracy</th>\n",
       "    </tr>\n",
       "  </thead>\n",
       "  <tbody>\n",
       "    <tr>\n",
       "      <td>0</td>\n",
       "      <td>l1</td>\n",
       "      <td>0.5</td>\n",
       "      <td>0.0016</td>\n",
       "      <td>0.7574</td>\n",
       "    </tr>\n",
       "  </tbody>\n",
       "</table>\n",
       "</div>"
      ],
      "text/plain": [
       "  penalty    C     tol  accuracy\n",
       "0      l1  0.5  0.0016    0.7574"
      ]
     },
     "execution_count": 17,
     "metadata": {},
     "output_type": "execute_result"
    }
   ],
   "source": [
    "df_gip_LR"
   ]
  },
  {
   "cell_type": "markdown",
   "metadata": {},
   "source": [
    "Чтобы в следуюший раз нам не разбивать выбор гиперпараметров `tol` и `C` при заданном `penalty` на несколько операций, напишем функцию, которая рассчитает нам лучшую комбинацию."
   ]
  },
  {
   "cell_type": "markdown",
   "metadata": {},
   "source": [
    "Для проверки корректности работы функции, используяем данные рассчитанного выше варианта."
   ]
  },
  {
   "cell_type": "code",
   "execution_count": 18,
   "metadata": {},
   "outputs": [],
   "source": [
    "def best_result_LG (penalty, solver):\n",
    "\n",
    "    list_c = [i / 10 for i in range(1,11,1)]\n",
    "    list_tol = [i / 50000 for i in range(1,21,1)]\n",
    "\n",
    "    list_res = []\n",
    "    list_c_res = []\n",
    "    list_tol_res = []\n",
    "\n",
    "    for c in list_c:\n",
    "        for tol in list_tol:\n",
    "            model = LogisticRegression(random_state=12345\n",
    "                                       , penalty = penalty\n",
    "                                       , C = c\n",
    "                                       , tol = tol\n",
    "                                       , solver = solver)\n",
    "                                       \n",
    "            model.fit(features_train, target_train) \n",
    "            predictions_valid = model.predict(features_valid)\n",
    "            result = round(accuracy_score(target_valid, predictions_valid),4)\n",
    "        \n",
    "            list_res.append(result)\n",
    "            list_c_res.append(c)\n",
    "            list_tol_res.append(tol)\n",
    "        \n",
    "\n",
    "    df_gip = pd.DataFrame({'penalty': penalty\n",
    "                           , 'C': list_c_res\n",
    "                           ,'tol':list_tol_res\n",
    "                           ,'accuracy': list_res})\n",
    "\n",
    "    return df_gip.query('accuracy == accuracy.max()')"
   ]
  },
  {
   "cell_type": "code",
   "execution_count": 19,
   "metadata": {
    "scrolled": true
   },
   "outputs": [
    {
     "data": {
      "text/html": [
       "<div>\n",
       "<style scoped>\n",
       "    .dataframe tbody tr th:only-of-type {\n",
       "        vertical-align: middle;\n",
       "    }\n",
       "\n",
       "    .dataframe tbody tr th {\n",
       "        vertical-align: top;\n",
       "    }\n",
       "\n",
       "    .dataframe thead th {\n",
       "        text-align: right;\n",
       "    }\n",
       "</style>\n",
       "<table border=\"1\" class=\"dataframe\">\n",
       "  <thead>\n",
       "    <tr style=\"text-align: right;\">\n",
       "      <th></th>\n",
       "      <th>penalty</th>\n",
       "      <th>C</th>\n",
       "      <th>tol</th>\n",
       "      <th>accuracy</th>\n",
       "    </tr>\n",
       "  </thead>\n",
       "  <tbody>\n",
       "    <tr>\n",
       "      <td>1</td>\n",
       "      <td>l1</td>\n",
       "      <td>0.1</td>\n",
       "      <td>0.00004</td>\n",
       "      <td>0.7574</td>\n",
       "    </tr>\n",
       "    <tr>\n",
       "      <td>2</td>\n",
       "      <td>l1</td>\n",
       "      <td>0.1</td>\n",
       "      <td>0.00006</td>\n",
       "      <td>0.7574</td>\n",
       "    </tr>\n",
       "    <tr>\n",
       "      <td>3</td>\n",
       "      <td>l1</td>\n",
       "      <td>0.1</td>\n",
       "      <td>0.00008</td>\n",
       "      <td>0.7574</td>\n",
       "    </tr>\n",
       "    <tr>\n",
       "      <td>4</td>\n",
       "      <td>l1</td>\n",
       "      <td>0.1</td>\n",
       "      <td>0.00010</td>\n",
       "      <td>0.7574</td>\n",
       "    </tr>\n",
       "    <tr>\n",
       "      <td>5</td>\n",
       "      <td>l1</td>\n",
       "      <td>0.1</td>\n",
       "      <td>0.00012</td>\n",
       "      <td>0.7574</td>\n",
       "    </tr>\n",
       "    <tr>\n",
       "      <td>6</td>\n",
       "      <td>l1</td>\n",
       "      <td>0.1</td>\n",
       "      <td>0.00014</td>\n",
       "      <td>0.7574</td>\n",
       "    </tr>\n",
       "    <tr>\n",
       "      <td>7</td>\n",
       "      <td>l1</td>\n",
       "      <td>0.1</td>\n",
       "      <td>0.00016</td>\n",
       "      <td>0.7574</td>\n",
       "    </tr>\n",
       "    <tr>\n",
       "      <td>20</td>\n",
       "      <td>l1</td>\n",
       "      <td>0.2</td>\n",
       "      <td>0.00002</td>\n",
       "      <td>0.7574</td>\n",
       "    </tr>\n",
       "    <tr>\n",
       "      <td>40</td>\n",
       "      <td>l1</td>\n",
       "      <td>0.3</td>\n",
       "      <td>0.00002</td>\n",
       "      <td>0.7574</td>\n",
       "    </tr>\n",
       "    <tr>\n",
       "      <td>41</td>\n",
       "      <td>l1</td>\n",
       "      <td>0.3</td>\n",
       "      <td>0.00004</td>\n",
       "      <td>0.7574</td>\n",
       "    </tr>\n",
       "    <tr>\n",
       "      <td>42</td>\n",
       "      <td>l1</td>\n",
       "      <td>0.3</td>\n",
       "      <td>0.00006</td>\n",
       "      <td>0.7574</td>\n",
       "    </tr>\n",
       "    <tr>\n",
       "      <td>43</td>\n",
       "      <td>l1</td>\n",
       "      <td>0.3</td>\n",
       "      <td>0.00008</td>\n",
       "      <td>0.7574</td>\n",
       "    </tr>\n",
       "    <tr>\n",
       "      <td>44</td>\n",
       "      <td>l1</td>\n",
       "      <td>0.3</td>\n",
       "      <td>0.00010</td>\n",
       "      <td>0.7574</td>\n",
       "    </tr>\n",
       "    <tr>\n",
       "      <td>45</td>\n",
       "      <td>l1</td>\n",
       "      <td>0.3</td>\n",
       "      <td>0.00012</td>\n",
       "      <td>0.7574</td>\n",
       "    </tr>\n",
       "    <tr>\n",
       "      <td>46</td>\n",
       "      <td>l1</td>\n",
       "      <td>0.3</td>\n",
       "      <td>0.00014</td>\n",
       "      <td>0.7574</td>\n",
       "    </tr>\n",
       "    <tr>\n",
       "      <td>47</td>\n",
       "      <td>l1</td>\n",
       "      <td>0.3</td>\n",
       "      <td>0.00016</td>\n",
       "      <td>0.7574</td>\n",
       "    </tr>\n",
       "    <tr>\n",
       "      <td>60</td>\n",
       "      <td>l1</td>\n",
       "      <td>0.4</td>\n",
       "      <td>0.00002</td>\n",
       "      <td>0.7574</td>\n",
       "    </tr>\n",
       "    <tr>\n",
       "      <td>61</td>\n",
       "      <td>l1</td>\n",
       "      <td>0.4</td>\n",
       "      <td>0.00004</td>\n",
       "      <td>0.7574</td>\n",
       "    </tr>\n",
       "    <tr>\n",
       "      <td>62</td>\n",
       "      <td>l1</td>\n",
       "      <td>0.4</td>\n",
       "      <td>0.00006</td>\n",
       "      <td>0.7574</td>\n",
       "    </tr>\n",
       "    <tr>\n",
       "      <td>63</td>\n",
       "      <td>l1</td>\n",
       "      <td>0.4</td>\n",
       "      <td>0.00008</td>\n",
       "      <td>0.7574</td>\n",
       "    </tr>\n",
       "    <tr>\n",
       "      <td>64</td>\n",
       "      <td>l1</td>\n",
       "      <td>0.4</td>\n",
       "      <td>0.00010</td>\n",
       "      <td>0.7574</td>\n",
       "    </tr>\n",
       "    <tr>\n",
       "      <td>65</td>\n",
       "      <td>l1</td>\n",
       "      <td>0.4</td>\n",
       "      <td>0.00012</td>\n",
       "      <td>0.7574</td>\n",
       "    </tr>\n",
       "    <tr>\n",
       "      <td>66</td>\n",
       "      <td>l1</td>\n",
       "      <td>0.4</td>\n",
       "      <td>0.00014</td>\n",
       "      <td>0.7574</td>\n",
       "    </tr>\n",
       "    <tr>\n",
       "      <td>67</td>\n",
       "      <td>l1</td>\n",
       "      <td>0.4</td>\n",
       "      <td>0.00016</td>\n",
       "      <td>0.7574</td>\n",
       "    </tr>\n",
       "    <tr>\n",
       "      <td>80</td>\n",
       "      <td>l1</td>\n",
       "      <td>0.5</td>\n",
       "      <td>0.00002</td>\n",
       "      <td>0.7574</td>\n",
       "    </tr>\n",
       "    <tr>\n",
       "      <td>81</td>\n",
       "      <td>l1</td>\n",
       "      <td>0.5</td>\n",
       "      <td>0.00004</td>\n",
       "      <td>0.7574</td>\n",
       "    </tr>\n",
       "    <tr>\n",
       "      <td>82</td>\n",
       "      <td>l1</td>\n",
       "      <td>0.5</td>\n",
       "      <td>0.00006</td>\n",
       "      <td>0.7574</td>\n",
       "    </tr>\n",
       "    <tr>\n",
       "      <td>83</td>\n",
       "      <td>l1</td>\n",
       "      <td>0.5</td>\n",
       "      <td>0.00008</td>\n",
       "      <td>0.7574</td>\n",
       "    </tr>\n",
       "    <tr>\n",
       "      <td>84</td>\n",
       "      <td>l1</td>\n",
       "      <td>0.5</td>\n",
       "      <td>0.00010</td>\n",
       "      <td>0.7574</td>\n",
       "    </tr>\n",
       "    <tr>\n",
       "      <td>85</td>\n",
       "      <td>l1</td>\n",
       "      <td>0.5</td>\n",
       "      <td>0.00012</td>\n",
       "      <td>0.7574</td>\n",
       "    </tr>\n",
       "    <tr>\n",
       "      <td>86</td>\n",
       "      <td>l1</td>\n",
       "      <td>0.5</td>\n",
       "      <td>0.00014</td>\n",
       "      <td>0.7574</td>\n",
       "    </tr>\n",
       "    <tr>\n",
       "      <td>87</td>\n",
       "      <td>l1</td>\n",
       "      <td>0.5</td>\n",
       "      <td>0.00016</td>\n",
       "      <td>0.7574</td>\n",
       "    </tr>\n",
       "    <tr>\n",
       "      <td>100</td>\n",
       "      <td>l1</td>\n",
       "      <td>0.6</td>\n",
       "      <td>0.00002</td>\n",
       "      <td>0.7574</td>\n",
       "    </tr>\n",
       "    <tr>\n",
       "      <td>101</td>\n",
       "      <td>l1</td>\n",
       "      <td>0.6</td>\n",
       "      <td>0.00004</td>\n",
       "      <td>0.7574</td>\n",
       "    </tr>\n",
       "    <tr>\n",
       "      <td>102</td>\n",
       "      <td>l1</td>\n",
       "      <td>0.6</td>\n",
       "      <td>0.00006</td>\n",
       "      <td>0.7574</td>\n",
       "    </tr>\n",
       "    <tr>\n",
       "      <td>103</td>\n",
       "      <td>l1</td>\n",
       "      <td>0.6</td>\n",
       "      <td>0.00008</td>\n",
       "      <td>0.7574</td>\n",
       "    </tr>\n",
       "    <tr>\n",
       "      <td>120</td>\n",
       "      <td>l1</td>\n",
       "      <td>0.7</td>\n",
       "      <td>0.00002</td>\n",
       "      <td>0.7574</td>\n",
       "    </tr>\n",
       "    <tr>\n",
       "      <td>121</td>\n",
       "      <td>l1</td>\n",
       "      <td>0.7</td>\n",
       "      <td>0.00004</td>\n",
       "      <td>0.7574</td>\n",
       "    </tr>\n",
       "    <tr>\n",
       "      <td>122</td>\n",
       "      <td>l1</td>\n",
       "      <td>0.7</td>\n",
       "      <td>0.00006</td>\n",
       "      <td>0.7574</td>\n",
       "    </tr>\n",
       "    <tr>\n",
       "      <td>123</td>\n",
       "      <td>l1</td>\n",
       "      <td>0.7</td>\n",
       "      <td>0.00008</td>\n",
       "      <td>0.7574</td>\n",
       "    </tr>\n",
       "    <tr>\n",
       "      <td>140</td>\n",
       "      <td>l1</td>\n",
       "      <td>0.8</td>\n",
       "      <td>0.00002</td>\n",
       "      <td>0.7574</td>\n",
       "    </tr>\n",
       "  </tbody>\n",
       "</table>\n",
       "</div>"
      ],
      "text/plain": [
       "    penalty    C      tol  accuracy\n",
       "1        l1  0.1  0.00004    0.7574\n",
       "2        l1  0.1  0.00006    0.7574\n",
       "3        l1  0.1  0.00008    0.7574\n",
       "4        l1  0.1  0.00010    0.7574\n",
       "5        l1  0.1  0.00012    0.7574\n",
       "6        l1  0.1  0.00014    0.7574\n",
       "7        l1  0.1  0.00016    0.7574\n",
       "20       l1  0.2  0.00002    0.7574\n",
       "40       l1  0.3  0.00002    0.7574\n",
       "41       l1  0.3  0.00004    0.7574\n",
       "42       l1  0.3  0.00006    0.7574\n",
       "43       l1  0.3  0.00008    0.7574\n",
       "44       l1  0.3  0.00010    0.7574\n",
       "45       l1  0.3  0.00012    0.7574\n",
       "46       l1  0.3  0.00014    0.7574\n",
       "47       l1  0.3  0.00016    0.7574\n",
       "60       l1  0.4  0.00002    0.7574\n",
       "61       l1  0.4  0.00004    0.7574\n",
       "62       l1  0.4  0.00006    0.7574\n",
       "63       l1  0.4  0.00008    0.7574\n",
       "64       l1  0.4  0.00010    0.7574\n",
       "65       l1  0.4  0.00012    0.7574\n",
       "66       l1  0.4  0.00014    0.7574\n",
       "67       l1  0.4  0.00016    0.7574\n",
       "80       l1  0.5  0.00002    0.7574\n",
       "81       l1  0.5  0.00004    0.7574\n",
       "82       l1  0.5  0.00006    0.7574\n",
       "83       l1  0.5  0.00008    0.7574\n",
       "84       l1  0.5  0.00010    0.7574\n",
       "85       l1  0.5  0.00012    0.7574\n",
       "86       l1  0.5  0.00014    0.7574\n",
       "87       l1  0.5  0.00016    0.7574\n",
       "100      l1  0.6  0.00002    0.7574\n",
       "101      l1  0.6  0.00004    0.7574\n",
       "102      l1  0.6  0.00006    0.7574\n",
       "103      l1  0.6  0.00008    0.7574\n",
       "120      l1  0.7  0.00002    0.7574\n",
       "121      l1  0.7  0.00004    0.7574\n",
       "122      l1  0.7  0.00006    0.7574\n",
       "123      l1  0.7  0.00008    0.7574\n",
       "140      l1  0.8  0.00002    0.7574"
      ]
     },
     "execution_count": 19,
     "metadata": {},
     "output_type": "execute_result"
    }
   ],
   "source": [
    "best_result_LG('l1', 'liblinear')"
   ]
  },
  {
   "cell_type": "markdown",
   "metadata": {},
   "source": [
    "Как видим, возможных комбинаций, при которых будет получен наилучший результат, достаточно много. Есть и наш результат, полученный выше с помощью нескольких операций изменения гиперпараметров.\n",
    "\n",
    "Изменим функцию так, чтобы она выводила только один лучший результат."
   ]
  },
  {
   "cell_type": "code",
   "execution_count": 20,
   "metadata": {},
   "outputs": [],
   "source": [
    "def best_result_LG (penalty, solver):\n",
    "\n",
    "    list_c = [i / 10 for i in range(1,11,1)]\n",
    "    list_tol = [i / 50000 for i in range(1,21,1)]\n",
    "\n",
    "    list_res = []\n",
    "    list_c_res = []\n",
    "    list_tol_res = []\n",
    "\n",
    "    for c in list_c:\n",
    "        for tol in list_tol:\n",
    "            model = LogisticRegression(random_state=12345\n",
    "                                       , penalty = penalty\n",
    "                                       , C = c\n",
    "                                       , tol = tol\n",
    "                                       , solver = solver)\n",
    "                                       \n",
    "            model.fit(features_train, target_train) \n",
    "            predictions_valid = model.predict(features_valid)\n",
    "            result = round(accuracy_score(target_valid, predictions_valid),4)\n",
    "        \n",
    "            list_res.append(result)\n",
    "            list_c_res.append(c)\n",
    "            list_tol_res.append(tol)\n",
    "        \n",
    "\n",
    "    df_gip = pd.DataFrame({'penalty': penalty\n",
    "                           , 'C': list_c_res\n",
    "                           ,'tol':list_tol_res\n",
    "                           ,'accuracy': list_res})\n",
    "\n",
    "    return df_gip.query('accuracy == accuracy.max()').head(1)"
   ]
  },
  {
   "cell_type": "code",
   "execution_count": 21,
   "metadata": {},
   "outputs": [
    {
     "data": {
      "text/html": [
       "<div>\n",
       "<style scoped>\n",
       "    .dataframe tbody tr th:only-of-type {\n",
       "        vertical-align: middle;\n",
       "    }\n",
       "\n",
       "    .dataframe tbody tr th {\n",
       "        vertical-align: top;\n",
       "    }\n",
       "\n",
       "    .dataframe thead th {\n",
       "        text-align: right;\n",
       "    }\n",
       "</style>\n",
       "<table border=\"1\" class=\"dataframe\">\n",
       "  <thead>\n",
       "    <tr style=\"text-align: right;\">\n",
       "      <th></th>\n",
       "      <th>penalty</th>\n",
       "      <th>C</th>\n",
       "      <th>tol</th>\n",
       "      <th>accuracy</th>\n",
       "    </tr>\n",
       "  </thead>\n",
       "  <tbody>\n",
       "    <tr>\n",
       "      <td>1</td>\n",
       "      <td>l1</td>\n",
       "      <td>0.1</td>\n",
       "      <td>0.00004</td>\n",
       "      <td>0.7574</td>\n",
       "    </tr>\n",
       "  </tbody>\n",
       "</table>\n",
       "</div>"
      ],
      "text/plain": [
       "  penalty    C      tol  accuracy\n",
       "1      l1  0.1  0.00004    0.7574"
      ]
     },
     "execution_count": 21,
     "metadata": {},
     "output_type": "execute_result"
    }
   ],
   "source": [
    "best_result_LG('l1', 'liblinear')"
   ]
  },
  {
   "cell_type": "markdown",
   "metadata": {},
   "source": [
    "Отлично, теперь посмотрим, как будет меняется количество правильных ответов, в зависимости от разных вариантов гиперпараметра `penalty`.\n",
    "\n",
    "Возьмем `penalty` = `l2`"
   ]
  },
  {
   "cell_type": "code",
   "execution_count": 22,
   "metadata": {},
   "outputs": [],
   "source": [
    "df_gip_LR = pd.concat([df_gip_LR, best_result_LG('l2', 'liblinear')])"
   ]
  },
  {
   "cell_type": "code",
   "execution_count": 23,
   "metadata": {},
   "outputs": [
    {
     "data": {
      "text/html": [
       "<div>\n",
       "<style scoped>\n",
       "    .dataframe tbody tr th:only-of-type {\n",
       "        vertical-align: middle;\n",
       "    }\n",
       "\n",
       "    .dataframe tbody tr th {\n",
       "        vertical-align: top;\n",
       "    }\n",
       "\n",
       "    .dataframe thead th {\n",
       "        text-align: right;\n",
       "    }\n",
       "</style>\n",
       "<table border=\"1\" class=\"dataframe\">\n",
       "  <thead>\n",
       "    <tr style=\"text-align: right;\">\n",
       "      <th></th>\n",
       "      <th>penalty</th>\n",
       "      <th>C</th>\n",
       "      <th>tol</th>\n",
       "      <th>accuracy</th>\n",
       "    </tr>\n",
       "  </thead>\n",
       "  <tbody>\n",
       "    <tr>\n",
       "      <td>0</td>\n",
       "      <td>l1</td>\n",
       "      <td>0.5</td>\n",
       "      <td>0.00160</td>\n",
       "      <td>0.7574</td>\n",
       "    </tr>\n",
       "    <tr>\n",
       "      <td>143</td>\n",
       "      <td>l2</td>\n",
       "      <td>0.8</td>\n",
       "      <td>0.00008</td>\n",
       "      <td>0.7589</td>\n",
       "    </tr>\n",
       "  </tbody>\n",
       "</table>\n",
       "</div>"
      ],
      "text/plain": [
       "    penalty    C      tol  accuracy\n",
       "0        l1  0.5  0.00160    0.7574\n",
       "143      l2  0.8  0.00008    0.7589"
      ]
     },
     "execution_count": 23,
     "metadata": {},
     "output_type": "execute_result"
    }
   ],
   "source": [
    "df_gip_LR"
   ]
  },
  {
   "cell_type": "markdown",
   "metadata": {},
   "source": [
    "`Accuracy` незначительно, но подрос."
   ]
  },
  {
   "cell_type": "markdown",
   "metadata": {},
   "source": [
    "Таким образом, исходя из полученных результатов, для логистической регресии примем следующие гиперпараметры: \n",
    "  - `penalty` = `l2`\n",
    "  - `C` = 0.8\n",
    "  - `tol` = 0.00008"
   ]
  },
  {
   "cell_type": "markdown",
   "metadata": {},
   "source": [
    "## 4. Проверка модели на тестовой выборке <a id=\"Step_4\"></a>"
   ]
  },
  {
   "cell_type": "markdown",
   "metadata": {},
   "source": [
    "После того, как мы определились с гиперпараметрами наших алгоритмов, оценим количество правильных ответов для каждой из моделей на тестовой выборке."
   ]
  },
  {
   "cell_type": "markdown",
   "metadata": {},
   "source": [
    "*4.1. Дерево решений.*"
   ]
  },
  {
   "cell_type": "code",
   "execution_count": 24,
   "metadata": {},
   "outputs": [
    {
     "name": "stdout",
     "output_type": "stream",
     "text": [
      "Accuracy = 0.77916\n"
     ]
    }
   ],
   "source": [
    "model = DecisionTreeClassifier(random_state=12345, max_depth = 3)\n",
    "model.fit(features_train,target_train)\n",
    "predictions_test = model.predict(features_test)\n",
    "result = round((accuracy_score(target_test, predictions_test)),5)\n",
    "print('Accuracy =', result)"
   ]
  },
  {
   "cell_type": "markdown",
   "metadata": {},
   "source": [
    "*4.2. Случайный лес.*"
   ]
  },
  {
   "cell_type": "code",
   "execution_count": 25,
   "metadata": {},
   "outputs": [
    {
     "name": "stdout",
     "output_type": "stream",
     "text": [
      "Accuracy = 0.79782\n"
     ]
    }
   ],
   "source": [
    "model = RandomForestClassifier(random_state=12345, n_estimators= 14) \n",
    "model.fit(features_train, target_train) \n",
    "predictions_test = model.predict(features_test)\n",
    "result = round(accuracy_score(target_test, predictions_test),5)\n",
    "print('Accuracy =', result)"
   ]
  },
  {
   "cell_type": "markdown",
   "metadata": {},
   "source": [
    "*4.3. Логистическая регрессия.*"
   ]
  },
  {
   "cell_type": "code",
   "execution_count": 26,
   "metadata": {},
   "outputs": [
    {
     "name": "stdout",
     "output_type": "stream",
     "text": [
      "Accuracy = 0.74028\n"
     ]
    }
   ],
   "source": [
    "model = LogisticRegression(random_state=12345\n",
    "                           , penalty = 'l2'\n",
    "                           , C = 0.8\n",
    "                           , tol = 0.00008\n",
    "                           , solver = 'liblinear')\n",
    "model.fit(features_train, target_train) \n",
    "predictions_test = model.predict(features_test)\n",
    "result = round(accuracy_score(target_test, predictions_test),5)\n",
    "print('Accuracy =', result)"
   ]
  },
  {
   "cell_type": "markdown",
   "metadata": {},
   "source": [
    "Итак. Больше всего правильных предсказаний (`accuracy` = 0.79782) нам даёт модель, использующая алгоритм \"случайный лес\". Её и примем за основную."
   ]
  },
  {
   "cell_type": "markdown",
   "metadata": {},
   "source": [
    "## 5. Проверка модели на адекватность <a id=\"Step_5\"></a>"
   ]
  },
  {
   "cell_type": "markdown",
   "metadata": {},
   "source": [
    "Чтобы проверить полученную модель на адекватность сравним её по параметру `accuracy` с простейшей (dummy) моделью, которая всегда предсказывает наиболее часто встречающийся класс."
   ]
  },
  {
   "cell_type": "code",
   "execution_count": 27,
   "metadata": {},
   "outputs": [
    {
     "name": "stdout",
     "output_type": "stream",
     "text": [
      "Accuracy = 0.68429\n"
     ]
    }
   ],
   "source": [
    "dummy_clf = DummyClassifier(strategy = \"most_frequent\", random_state=0)\n",
    "\n",
    "dummy_clf.fit(features_train, target_train)\n",
    "\n",
    "result = round((dummy_clf.score(features_test, target_test)), 5)\n",
    "\n",
    "print('Accuracy =', result)"
   ]
  },
  {
   "cell_type": "markdown",
   "metadata": {},
   "source": [
    "Результат существенно ниже, чем у выбранной нами модели. Следовательно, можно сделать вывод, что обученная ранее модель вполне адекватна."
   ]
  },
  {
   "cell_type": "markdown",
   "metadata": {},
   "source": [
    "## 6.  Общий вывод <a id=\"Step_6\"></a>"
   ]
  },
  {
   "cell_type": "markdown",
   "metadata": {},
   "source": [
    "В ходе исследования нам удалось получить следующие результаты для каждого из трёх алгоритмов классификации: \n",
    "\n",
    "- дерево решений `DecisionTreeClassifier`, `Accuracy` = 0.77916 \n",
    "- случайный лес `RandomForestClassifier`, `Accuracy` = 0.79782  \n",
    "- логистическая регрессия `LogisticRegression`, `Accuracy` = 0.74028  \n",
    "\n",
    "\n",
    "На основании приведённых выше результатов можно сделать вывод о том, что модель, построенная на алгоритме \"случайный лес\" `RandomForestClassifier` с гиперпараметрами `penalty` = l2, `C` = 0.8, `tol` = 0.00008, даёт наибольшее количество правильных ответов, где `Accuracy` = 0.79782, и как следствие именно её стоит рекомендовать оператору мобильной связи для решения задачи классификации - выбора подходящего тарифа.  "
   ]
  }
 ],
 "metadata": {
  "ExecuteTimeLog": [
   {
    "duration": 1256,
    "start_time": "2022-03-11T17:31:55.770Z"
   },
   {
    "duration": 29,
    "start_time": "2022-03-11T17:31:57.028Z"
   },
   {
    "duration": 48,
    "start_time": "2022-03-11T17:31:57.059Z"
   },
   {
    "duration": 6,
    "start_time": "2022-03-11T17:31:57.109Z"
   },
   {
    "duration": 39,
    "start_time": "2022-03-11T17:31:57.116Z"
   },
   {
    "duration": 18,
    "start_time": "2022-03-11T17:31:57.157Z"
   },
   {
    "duration": 19,
    "start_time": "2022-03-11T17:31:57.177Z"
   },
   {
    "duration": 21,
    "start_time": "2022-03-11T17:31:57.198Z"
   },
   {
    "duration": 6,
    "start_time": "2022-03-11T17:31:57.222Z"
   },
   {
    "duration": 16,
    "start_time": "2022-03-11T17:31:57.230Z"
   },
   {
    "duration": 24,
    "start_time": "2022-03-11T17:31:57.247Z"
   },
   {
    "duration": 134,
    "start_time": "2022-03-11T17:31:57.272Z"
   },
   {
    "duration": 573,
    "start_time": "2022-03-11T17:31:57.408Z"
   },
   {
    "duration": 181,
    "start_time": "2022-03-11T17:31:57.983Z"
   },
   {
    "duration": 283,
    "start_time": "2022-03-11T17:31:58.167Z"
   },
   {
    "duration": 4,
    "start_time": "2022-03-11T17:31:58.452Z"
   },
   {
    "duration": 23,
    "start_time": "2022-03-11T17:31:58.457Z"
   },
   {
    "duration": 16,
    "start_time": "2022-03-11T17:31:58.482Z"
   },
   {
    "duration": 2243,
    "start_time": "2022-03-11T17:31:58.500Z"
   },
   {
    "duration": 7,
    "start_time": "2022-03-11T17:32:00.745Z"
   },
   {
    "duration": 2317,
    "start_time": "2022-03-11T17:32:00.754Z"
   },
   {
    "duration": 1212,
    "start_time": "2022-03-11T17:32:03.073Z"
   },
   {
    "duration": 8,
    "start_time": "2022-03-11T17:32:04.287Z"
   },
   {
    "duration": 14,
    "start_time": "2022-03-11T17:32:04.297Z"
   },
   {
    "duration": 78,
    "start_time": "2022-03-11T17:32:04.312Z"
   },
   {
    "duration": 15,
    "start_time": "2022-03-11T17:32:04.392Z"
   },
   {
    "duration": 7,
    "start_time": "2022-03-11T17:32:04.410Z"
   }
  ],
  "kernelspec": {
   "display_name": "Python 3 (ipykernel)",
   "language": "python",
   "name": "python3"
  },
  "language_info": {
   "codemirror_mode": {
    "name": "ipython",
    "version": 3
   },
   "file_extension": ".py",
   "mimetype": "text/x-python",
   "name": "python",
   "nbconvert_exporter": "python",
   "pygments_lexer": "ipython3",
   "version": "3.9.5"
  },
  "toc": {
   "base_numbering": 1,
   "nav_menu": {},
   "number_sections": false,
   "sideBar": true,
   "skip_h1_title": true,
   "title_cell": "Table of Contents",
   "title_sidebar": "Contents",
   "toc_cell": false,
   "toc_position": {},
   "toc_section_display": true,
   "toc_window_display": false
  }
 },
 "nbformat": 4,
 "nbformat_minor": 2
}
