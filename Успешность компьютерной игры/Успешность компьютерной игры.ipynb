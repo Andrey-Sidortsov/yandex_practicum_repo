{
 "cells": [
  {
   "cell_type": "markdown",
   "metadata": {},
   "source": [
    "# Исследование закономерностей, определяющих успешность компьютерной игры."
   ]
  },
  {
   "cell_type": "markdown",
   "metadata": {},
   "source": [
    "#### Описание работы :\n",
    "\n",
    "Из открытых источников доступны исторические данные о продажах игр, оценки пользователей и экспертов, жанры и платформы (например, Xbox или PlayStation). Чтобы выявить потенциально популярный продукт и как следствие правильно спланировать рекламные кампании, необходимо определить закономерности характерные для успешной игры. \n",
    "\n",
    "На основании выявленных закономерностей и данных за 2016 год нужно спрогнозировать продажи на 2017 год, отработав принцип работы с данными таким образом, чтобы в будущем можно было делать прогноз на следующий год, исходя из данных предыдущего. "
   ]
  },
  {
   "cell_type": "markdown",
   "metadata": {},
   "source": [
    "#### Описание данных :\n",
    "\n",
    "* `Name` — название игры\n",
    "* `Platform` — платформа\n",
    "* `Year_of_Release` — год выпуска\n",
    "* `Genre` — жанр игры\n",
    "* `NA_sales` — продажи в Северной Америке (миллионы проданных копий)\n",
    "* `EU_sales` — продажи в Европе (миллионы проданных копий)\n",
    "* `JP_sales` — продажи в Японии (миллионы проданных копий)\n",
    "* `Other_sales` — продажи в других странах (миллионы проданных копий)\n",
    "* `Critic_Score` — оценка критиков (максимум 100)\n",
    "* `User_Score` — оценка пользователей (максимум 10)\n",
    "* `Rating` — рейтинг от организации ESRB (англ. Entertainment Software Rating Board). Эта ассоциация определяет рейтинг компьютерных игр и присваивает им подходящую возрастную категорию."
   ]
  },
  {
   "cell_type": "markdown",
   "metadata": {},
   "source": [
    "#### План работы над проектом :\n",
    "\n",
    "   1. [Обзор и загрузка данных.](#Step_1)\n",
    "   2. [Подготовка данных:](#Step_2)\n",
    "       * [Приведение названий столбцов к нижнему регистру.](#Step_2_1)\n",
    "       * [Обработка пропусков.](#Step_2_2)\n",
    "       * [Преобразование данных в нужные типы.](#Step_2_3)\n",
    "       * [Обработка дубликатов.](#Step_2_4)\n",
    "       * [Расчёт суммарных продаж во всех регионах.](#Step_2_5)     \n",
    "   3. [Анализ данных:](#Step_3)    \n",
    "       * [Оценка количества игр, выпущенных в разные годы.](#Step_3_1)\n",
    "       * [Оценка динамики продаж по платформам.](#Step_3_2)\n",
    "       * [Определение актуального периода. Выбор нескольких потенциально прибыльных платформ.](#Step_3_3)\n",
    "       * [Диаграмма размаха по глобальным продажам игр в разбивке по платформам.](#Step_3_4)\n",
    "       * [Оценка влияния на продажи отзывов пользователей и критиков.](#Step_3_5)\n",
    "       * [Анализ влияния отзывов пользователей и критиков на продажи игр на других платформах.](#Step_3_6)\n",
    "       * [Анализ распределения игр по жанрам.](#Step_3_7)\n",
    "   4. [Составление портрета пользователя для каждого региона.](Step_4)\n",
    "       * [Самые популярные платформы (топ-5). Различия в долях продаж.](#Step_4_1)\n",
    "       * [Самые популярные жанры (топ-5). Оценка разницы.](#Step_4_2)\n",
    "       * [Влияние рейтинга ESRB на продажи в отдельном регионе.](#Step_4_3)\n",
    "   5. [Проверка гипотез:](#Step_5)\n",
    "       * [Средние пользовательские рейтинги платформ Xbox One и PC одинаковые.](#Step_5_1)\n",
    "       * [Средние пользовательские рейтинги жанров Action (англ. «действие», экшен-игры) и Sports (англ. «спортивные соревнования») разные.](#Step_5_2)\n",
    "   6. [Общий вывод.](#Step_6)"
   ]
  },
  {
   "cell_type": "markdown",
   "metadata": {},
   "source": [
    "### Шаг 1. Обзор и загрузка данных. <a id=\"Step_1\"></a>"
   ]
  },
  {
   "cell_type": "markdown",
   "metadata": {},
   "source": [
    "Загрузим необходимые для работы библиотеки."
   ]
  },
  {
   "cell_type": "code",
   "execution_count": 1,
   "metadata": {},
   "outputs": [],
   "source": [
    "import pandas as pd\n",
    "import math\n",
    "import numpy as np\n",
    "from scipy import stats as st\n",
    "import matplotlib.pyplot as plt\n",
    "import seaborn as sns"
   ]
  },
  {
   "cell_type": "markdown",
   "metadata": {},
   "source": [
    "Откроем файл с данными и изучим общую информацию."
   ]
  },
  {
   "cell_type": "code",
   "execution_count": 2,
   "metadata": {},
   "outputs": [],
   "source": [
    "data = pd.read_csv('/datasets/games.csv', sep=',')"
   ]
  },
  {
   "cell_type": "code",
   "execution_count": 3,
   "metadata": {},
   "outputs": [
    {
     "data": {
      "text/html": [
       "<div>\n",
       "<style scoped>\n",
       "    .dataframe tbody tr th:only-of-type {\n",
       "        vertical-align: middle;\n",
       "    }\n",
       "\n",
       "    .dataframe tbody tr th {\n",
       "        vertical-align: top;\n",
       "    }\n",
       "\n",
       "    .dataframe thead th {\n",
       "        text-align: right;\n",
       "    }\n",
       "</style>\n",
       "<table border=\"1\" class=\"dataframe\">\n",
       "  <thead>\n",
       "    <tr style=\"text-align: right;\">\n",
       "      <th></th>\n",
       "      <th>Name</th>\n",
       "      <th>Platform</th>\n",
       "      <th>Year_of_Release</th>\n",
       "      <th>Genre</th>\n",
       "      <th>NA_sales</th>\n",
       "      <th>EU_sales</th>\n",
       "      <th>JP_sales</th>\n",
       "      <th>Other_sales</th>\n",
       "      <th>Critic_Score</th>\n",
       "      <th>User_Score</th>\n",
       "      <th>Rating</th>\n",
       "    </tr>\n",
       "  </thead>\n",
       "  <tbody>\n",
       "    <tr>\n",
       "      <td>0</td>\n",
       "      <td>Wii Sports</td>\n",
       "      <td>Wii</td>\n",
       "      <td>2006.0</td>\n",
       "      <td>Sports</td>\n",
       "      <td>41.36</td>\n",
       "      <td>28.96</td>\n",
       "      <td>3.77</td>\n",
       "      <td>8.45</td>\n",
       "      <td>76.0</td>\n",
       "      <td>8</td>\n",
       "      <td>E</td>\n",
       "    </tr>\n",
       "    <tr>\n",
       "      <td>1</td>\n",
       "      <td>Super Mario Bros.</td>\n",
       "      <td>NES</td>\n",
       "      <td>1985.0</td>\n",
       "      <td>Platform</td>\n",
       "      <td>29.08</td>\n",
       "      <td>3.58</td>\n",
       "      <td>6.81</td>\n",
       "      <td>0.77</td>\n",
       "      <td>NaN</td>\n",
       "      <td>NaN</td>\n",
       "      <td>NaN</td>\n",
       "    </tr>\n",
       "    <tr>\n",
       "      <td>2</td>\n",
       "      <td>Mario Kart Wii</td>\n",
       "      <td>Wii</td>\n",
       "      <td>2008.0</td>\n",
       "      <td>Racing</td>\n",
       "      <td>15.68</td>\n",
       "      <td>12.76</td>\n",
       "      <td>3.79</td>\n",
       "      <td>3.29</td>\n",
       "      <td>82.0</td>\n",
       "      <td>8.3</td>\n",
       "      <td>E</td>\n",
       "    </tr>\n",
       "    <tr>\n",
       "      <td>3</td>\n",
       "      <td>Wii Sports Resort</td>\n",
       "      <td>Wii</td>\n",
       "      <td>2009.0</td>\n",
       "      <td>Sports</td>\n",
       "      <td>15.61</td>\n",
       "      <td>10.93</td>\n",
       "      <td>3.28</td>\n",
       "      <td>2.95</td>\n",
       "      <td>80.0</td>\n",
       "      <td>8</td>\n",
       "      <td>E</td>\n",
       "    </tr>\n",
       "    <tr>\n",
       "      <td>4</td>\n",
       "      <td>Pokemon Red/Pokemon Blue</td>\n",
       "      <td>GB</td>\n",
       "      <td>1996.0</td>\n",
       "      <td>Role-Playing</td>\n",
       "      <td>11.27</td>\n",
       "      <td>8.89</td>\n",
       "      <td>10.22</td>\n",
       "      <td>1.00</td>\n",
       "      <td>NaN</td>\n",
       "      <td>NaN</td>\n",
       "      <td>NaN</td>\n",
       "    </tr>\n",
       "    <tr>\n",
       "      <td>...</td>\n",
       "      <td>...</td>\n",
       "      <td>...</td>\n",
       "      <td>...</td>\n",
       "      <td>...</td>\n",
       "      <td>...</td>\n",
       "      <td>...</td>\n",
       "      <td>...</td>\n",
       "      <td>...</td>\n",
       "      <td>...</td>\n",
       "      <td>...</td>\n",
       "      <td>...</td>\n",
       "    </tr>\n",
       "    <tr>\n",
       "      <td>16710</td>\n",
       "      <td>Samurai Warriors: Sanada Maru</td>\n",
       "      <td>PS3</td>\n",
       "      <td>2016.0</td>\n",
       "      <td>Action</td>\n",
       "      <td>0.00</td>\n",
       "      <td>0.00</td>\n",
       "      <td>0.01</td>\n",
       "      <td>0.00</td>\n",
       "      <td>NaN</td>\n",
       "      <td>NaN</td>\n",
       "      <td>NaN</td>\n",
       "    </tr>\n",
       "    <tr>\n",
       "      <td>16711</td>\n",
       "      <td>LMA Manager 2007</td>\n",
       "      <td>X360</td>\n",
       "      <td>2006.0</td>\n",
       "      <td>Sports</td>\n",
       "      <td>0.00</td>\n",
       "      <td>0.01</td>\n",
       "      <td>0.00</td>\n",
       "      <td>0.00</td>\n",
       "      <td>NaN</td>\n",
       "      <td>NaN</td>\n",
       "      <td>NaN</td>\n",
       "    </tr>\n",
       "    <tr>\n",
       "      <td>16712</td>\n",
       "      <td>Haitaka no Psychedelica</td>\n",
       "      <td>PSV</td>\n",
       "      <td>2016.0</td>\n",
       "      <td>Adventure</td>\n",
       "      <td>0.00</td>\n",
       "      <td>0.00</td>\n",
       "      <td>0.01</td>\n",
       "      <td>0.00</td>\n",
       "      <td>NaN</td>\n",
       "      <td>NaN</td>\n",
       "      <td>NaN</td>\n",
       "    </tr>\n",
       "    <tr>\n",
       "      <td>16713</td>\n",
       "      <td>Spirits &amp; Spells</td>\n",
       "      <td>GBA</td>\n",
       "      <td>2003.0</td>\n",
       "      <td>Platform</td>\n",
       "      <td>0.01</td>\n",
       "      <td>0.00</td>\n",
       "      <td>0.00</td>\n",
       "      <td>0.00</td>\n",
       "      <td>NaN</td>\n",
       "      <td>NaN</td>\n",
       "      <td>NaN</td>\n",
       "    </tr>\n",
       "    <tr>\n",
       "      <td>16714</td>\n",
       "      <td>Winning Post 8 2016</td>\n",
       "      <td>PSV</td>\n",
       "      <td>2016.0</td>\n",
       "      <td>Simulation</td>\n",
       "      <td>0.00</td>\n",
       "      <td>0.00</td>\n",
       "      <td>0.01</td>\n",
       "      <td>0.00</td>\n",
       "      <td>NaN</td>\n",
       "      <td>NaN</td>\n",
       "      <td>NaN</td>\n",
       "    </tr>\n",
       "  </tbody>\n",
       "</table>\n",
       "<p>16715 rows × 11 columns</p>\n",
       "</div>"
      ],
      "text/plain": [
       "                                Name Platform  Year_of_Release         Genre  \\\n",
       "0                         Wii Sports      Wii           2006.0        Sports   \n",
       "1                  Super Mario Bros.      NES           1985.0      Platform   \n",
       "2                     Mario Kart Wii      Wii           2008.0        Racing   \n",
       "3                  Wii Sports Resort      Wii           2009.0        Sports   \n",
       "4           Pokemon Red/Pokemon Blue       GB           1996.0  Role-Playing   \n",
       "...                              ...      ...              ...           ...   \n",
       "16710  Samurai Warriors: Sanada Maru      PS3           2016.0        Action   \n",
       "16711               LMA Manager 2007     X360           2006.0        Sports   \n",
       "16712        Haitaka no Psychedelica      PSV           2016.0     Adventure   \n",
       "16713               Spirits & Spells      GBA           2003.0      Platform   \n",
       "16714            Winning Post 8 2016      PSV           2016.0    Simulation   \n",
       "\n",
       "       NA_sales  EU_sales  JP_sales  Other_sales  Critic_Score User_Score  \\\n",
       "0         41.36     28.96      3.77         8.45          76.0          8   \n",
       "1         29.08      3.58      6.81         0.77           NaN        NaN   \n",
       "2         15.68     12.76      3.79         3.29          82.0        8.3   \n",
       "3         15.61     10.93      3.28         2.95          80.0          8   \n",
       "4         11.27      8.89     10.22         1.00           NaN        NaN   \n",
       "...         ...       ...       ...          ...           ...        ...   \n",
       "16710      0.00      0.00      0.01         0.00           NaN        NaN   \n",
       "16711      0.00      0.01      0.00         0.00           NaN        NaN   \n",
       "16712      0.00      0.00      0.01         0.00           NaN        NaN   \n",
       "16713      0.01      0.00      0.00         0.00           NaN        NaN   \n",
       "16714      0.00      0.00      0.01         0.00           NaN        NaN   \n",
       "\n",
       "      Rating  \n",
       "0          E  \n",
       "1        NaN  \n",
       "2          E  \n",
       "3          E  \n",
       "4        NaN  \n",
       "...      ...  \n",
       "16710    NaN  \n",
       "16711    NaN  \n",
       "16712    NaN  \n",
       "16713    NaN  \n",
       "16714    NaN  \n",
       "\n",
       "[16715 rows x 11 columns]"
      ]
     },
     "metadata": {},
     "output_type": "display_data"
    },
    {
     "name": "stdout",
     "output_type": "stream",
     "text": [
      "<class 'pandas.core.frame.DataFrame'>\n",
      "RangeIndex: 16715 entries, 0 to 16714\n",
      "Data columns (total 11 columns):\n",
      "Name               16713 non-null object\n",
      "Platform           16715 non-null object\n",
      "Year_of_Release    16446 non-null float64\n",
      "Genre              16713 non-null object\n",
      "NA_sales           16715 non-null float64\n",
      "EU_sales           16715 non-null float64\n",
      "JP_sales           16715 non-null float64\n",
      "Other_sales        16715 non-null float64\n",
      "Critic_Score       8137 non-null float64\n",
      "User_Score         10014 non-null object\n",
      "Rating             9949 non-null object\n",
      "dtypes: float64(6), object(5)\n",
      "memory usage: 1.4+ MB\n"
     ]
    },
    {
     "data": {
      "text/html": [
       "<div>\n",
       "<style scoped>\n",
       "    .dataframe tbody tr th:only-of-type {\n",
       "        vertical-align: middle;\n",
       "    }\n",
       "\n",
       "    .dataframe tbody tr th {\n",
       "        vertical-align: top;\n",
       "    }\n",
       "\n",
       "    .dataframe thead th {\n",
       "        text-align: right;\n",
       "    }\n",
       "</style>\n",
       "<table border=\"1\" class=\"dataframe\">\n",
       "  <thead>\n",
       "    <tr style=\"text-align: right;\">\n",
       "      <th></th>\n",
       "      <th>Year_of_Release</th>\n",
       "      <th>NA_sales</th>\n",
       "      <th>EU_sales</th>\n",
       "      <th>JP_sales</th>\n",
       "      <th>Other_sales</th>\n",
       "      <th>Critic_Score</th>\n",
       "    </tr>\n",
       "  </thead>\n",
       "  <tbody>\n",
       "    <tr>\n",
       "      <td>count</td>\n",
       "      <td>16446.000000</td>\n",
       "      <td>16715.000000</td>\n",
       "      <td>16715.000000</td>\n",
       "      <td>16715.000000</td>\n",
       "      <td>16715.000000</td>\n",
       "      <td>8137.000000</td>\n",
       "    </tr>\n",
       "    <tr>\n",
       "      <td>mean</td>\n",
       "      <td>2006.484616</td>\n",
       "      <td>0.263377</td>\n",
       "      <td>0.145060</td>\n",
       "      <td>0.077617</td>\n",
       "      <td>0.047342</td>\n",
       "      <td>68.967679</td>\n",
       "    </tr>\n",
       "    <tr>\n",
       "      <td>std</td>\n",
       "      <td>5.877050</td>\n",
       "      <td>0.813604</td>\n",
       "      <td>0.503339</td>\n",
       "      <td>0.308853</td>\n",
       "      <td>0.186731</td>\n",
       "      <td>13.938165</td>\n",
       "    </tr>\n",
       "    <tr>\n",
       "      <td>min</td>\n",
       "      <td>1980.000000</td>\n",
       "      <td>0.000000</td>\n",
       "      <td>0.000000</td>\n",
       "      <td>0.000000</td>\n",
       "      <td>0.000000</td>\n",
       "      <td>13.000000</td>\n",
       "    </tr>\n",
       "    <tr>\n",
       "      <td>25%</td>\n",
       "      <td>2003.000000</td>\n",
       "      <td>0.000000</td>\n",
       "      <td>0.000000</td>\n",
       "      <td>0.000000</td>\n",
       "      <td>0.000000</td>\n",
       "      <td>60.000000</td>\n",
       "    </tr>\n",
       "    <tr>\n",
       "      <td>50%</td>\n",
       "      <td>2007.000000</td>\n",
       "      <td>0.080000</td>\n",
       "      <td>0.020000</td>\n",
       "      <td>0.000000</td>\n",
       "      <td>0.010000</td>\n",
       "      <td>71.000000</td>\n",
       "    </tr>\n",
       "    <tr>\n",
       "      <td>75%</td>\n",
       "      <td>2010.000000</td>\n",
       "      <td>0.240000</td>\n",
       "      <td>0.110000</td>\n",
       "      <td>0.040000</td>\n",
       "      <td>0.030000</td>\n",
       "      <td>79.000000</td>\n",
       "    </tr>\n",
       "    <tr>\n",
       "      <td>max</td>\n",
       "      <td>2016.000000</td>\n",
       "      <td>41.360000</td>\n",
       "      <td>28.960000</td>\n",
       "      <td>10.220000</td>\n",
       "      <td>10.570000</td>\n",
       "      <td>98.000000</td>\n",
       "    </tr>\n",
       "  </tbody>\n",
       "</table>\n",
       "</div>"
      ],
      "text/plain": [
       "       Year_of_Release      NA_sales      EU_sales      JP_sales  \\\n",
       "count     16446.000000  16715.000000  16715.000000  16715.000000   \n",
       "mean       2006.484616      0.263377      0.145060      0.077617   \n",
       "std           5.877050      0.813604      0.503339      0.308853   \n",
       "min        1980.000000      0.000000      0.000000      0.000000   \n",
       "25%        2003.000000      0.000000      0.000000      0.000000   \n",
       "50%        2007.000000      0.080000      0.020000      0.000000   \n",
       "75%        2010.000000      0.240000      0.110000      0.040000   \n",
       "max        2016.000000     41.360000     28.960000     10.220000   \n",
       "\n",
       "        Other_sales  Critic_Score  \n",
       "count  16715.000000   8137.000000  \n",
       "mean       0.047342     68.967679  \n",
       "std        0.186731     13.938165  \n",
       "min        0.000000     13.000000  \n",
       "25%        0.000000     60.000000  \n",
       "50%        0.010000     71.000000  \n",
       "75%        0.030000     79.000000  \n",
       "max       10.570000     98.000000  "
      ]
     },
     "execution_count": 3,
     "metadata": {},
     "output_type": "execute_result"
    }
   ],
   "source": [
    "display(data)\n",
    "data.info()\n",
    "data.describe()"
   ]
  },
  {
   "cell_type": "markdown",
   "metadata": {},
   "source": [
    "Рассмотрим более подробно каждый столбец фрейма `data`:\n",
    "\n",
    "* `Name` — название игры. Пара отсутствующих значений. Можно будет удалить. \n",
    "* `Platform` — платформа. Всё на месте.  \n",
    "* `Year_of_Release` — год выпуска. 269 пропущенных значений. Это всего лишь 1,6 % общего числа. При необходимости можно будет спокойно удалить соотвествующие этим пропускам строки. Делать это или нет решим в процессе выполнения работы. Если говорить о причинах появление этих пропусков, то либо это сбой автоматики: при формировании/загрузке/выгрузке данных, либо человеческий фактор: некорретная обработка/занесение информации. \n",
    "* `Genre` — жанр игры. Также как и `Name` нехватает двух значений. \n",
    "* `NA_sales`,`EU_sales`,`JP_sales`,`Other_sales` — продажи в Северной Америке, Европе, Японии и других странах мира соответственно (миллионы проданных копий). Пропусков нет. \n",
    "* `Critic_Score` и `User_Score` — оценка критиков (максимум 100) и пользователей (максимум 10) соответственно. В данном случае наличие пропусков можно объяснить либо отсутствием оценки как таковой, либо отсутствием данных об оценке в распоряжении у заказчика, который направил этот датасет, либо какой-то сбой при работе с данными перед их отправкой со стороны автоматики/человеческого фактора. В любом случае, в реальной ситуации, этот вопрос было бы необходимо прояснять с заказчиком максимально детально, потому что метрика крайне важная, а отсутствие данных - значительное. Также, необходимо изменить тип данных столбца `User_Score` на `float`.\n",
    "* `Rating` — рейтинг от организации ESRB. Скорее всего, просто не все игры его получили по тем или иным причинам, отсюда и такое число пропусков. \n",
    "    \n",
    "    \n",
    "\n"
   ]
  },
  {
   "cell_type": "markdown",
   "metadata": {},
   "source": [
    "#### Результат выполнения 1 шага \"Обзор и загрузка данных\":\n",
    "*Данные успешно загружены, проведён их первичный анализ, определены необходимые действия для последующей корректной подготовки и предобработки имеющейся информации.*"
   ]
  },
  {
   "cell_type": "markdown",
   "metadata": {},
   "source": [
    "### Шаг 2. Подготовка данных. <a id=\"Step_2\"></a>"
   ]
  },
  {
   "cell_type": "markdown",
   "metadata": {},
   "source": [
    "*2.1. Приведение названий столбцов к нижнему регистру.* <a id=\"Step_2_1\"></a>"
   ]
  },
  {
   "cell_type": "code",
   "execution_count": 4,
   "metadata": {},
   "outputs": [],
   "source": [
    "data.columns = map(str.lower, data.columns)"
   ]
  },
  {
   "cell_type": "markdown",
   "metadata": {},
   "source": [
    "*2.2. Обработка пропусков.* <a id=\"Step_2_2\"></a>"
   ]
  },
  {
   "cell_type": "markdown",
   "metadata": {},
   "source": [
    "В столбце `name` и `genre` пропущенно по 2 значения. Тут всё просто - удалим их.\n",
    "\n",
    "Столбец `year_of_release` - год выпуска - наша ключевая метрика, без него вести какой-то анализ, в рамках данной задачи, мероприятие крайне сомнительное. 1,6 % пропусков от общего числа данных это то от чего можно просто избавиться, сильно при этом не потеряв."
   ]
  },
  {
   "cell_type": "code",
   "execution_count": 5,
   "metadata": {},
   "outputs": [],
   "source": [
    "data.dropna(subset = ['name','genre','year_of_release'], inplace = True) "
   ]
  },
  {
   "cell_type": "markdown",
   "metadata": {},
   "source": [
    "А вот, что касается трёх последних столбцов с рейтингом, тут не всё так однозначно. Пока, всё выглядит так, что, исходя из контекста поставленных задач, изобретать велосипед и стараться заполнить пропуски самостоятельно (средним/медианой/с опорой на какой-то признак) идея так себе. Вероятно, имеющихся данных нам должно хватить для ответа на поставленные вопросы. Если, на каком-то этапе выполнения работы, станет понятно, что это не так, то у нас всегда остаётся возможность для манёвра и работы с пропущенными значения. Об удалении такого количества строк, конечно же, и речи быть не может. "
   ]
  },
  {
   "cell_type": "markdown",
   "metadata": {},
   "source": [
    "*2.3. Преобразование данных в нужные типы.* <a id=\"Step_2_3\"></a>"
   ]
  },
  {
   "cell_type": "markdown",
   "metadata": {},
   "source": [
    "Столбец `year_of_release`. В нём размещены даты, но так как нам понадобится только год, то изменим тип данных на `Int64`."
   ]
  },
  {
   "cell_type": "code",
   "execution_count": 6,
   "metadata": {},
   "outputs": [],
   "source": [
    "data['year_of_release'] = data['year_of_release'].astype('int')"
   ]
  },
  {
   "cell_type": "markdown",
   "metadata": {},
   "source": [
    "Столбец `user_score`. Прежде, чем приступить к изменению типа данных, проверим его на наличие `tbd`."
   ]
  },
  {
   "cell_type": "code",
   "execution_count": 7,
   "metadata": {},
   "outputs": [
    {
     "data": {
      "text/plain": [
       "2376"
      ]
     },
     "execution_count": 7,
     "metadata": {},
     "output_type": "execute_result"
    }
   ],
   "source": [
    "len(data.query('user_score == \"tbd\"'))"
   ]
  },
  {
   "cell_type": "markdown",
   "metadata": {},
   "source": [
    "Не мало. Но проблема в том, что де факто, рейтинг, который находится в процессе обсуждения, это рейтинг, которого нет.\n",
    "Поэтому при изменении типа данных, учтём это, заменив значения `tbd` на `NaN`."
   ]
  },
  {
   "cell_type": "code",
   "execution_count": 8,
   "metadata": {},
   "outputs": [],
   "source": [
    "data['user_score'] = pd.to_numeric(data['user_score'], errors = 'coerce')"
   ]
  },
  {
   "cell_type": "markdown",
   "metadata": {},
   "source": [
    "Проверим наличие `tbd` после изменения типа данных. "
   ]
  },
  {
   "cell_type": "code",
   "execution_count": 9,
   "metadata": {},
   "outputs": [
    {
     "data": {
      "text/plain": [
       "0"
      ]
     },
     "execution_count": 9,
     "metadata": {},
     "output_type": "execute_result"
    }
   ],
   "source": [
    "len(data.query('user_score == \"tbd\"'))"
   ]
  },
  {
   "cell_type": "markdown",
   "metadata": {},
   "source": [
    "*2.4. Обработка дубликатов.* <a id=\"Step_2_4\"></a>"
   ]
  },
  {
   "cell_type": "markdown",
   "metadata": {},
   "source": [
    "Проверим фрейм на наличие полных дубликатов."
   ]
  },
  {
   "cell_type": "code",
   "execution_count": 10,
   "metadata": {},
   "outputs": [
    {
     "name": "stdout",
     "output_type": "stream",
     "text": [
      "0\n"
     ]
    }
   ],
   "source": [
    "print(data.duplicated().sum()) "
   ]
  },
  {
   "cell_type": "markdown",
   "metadata": {},
   "source": [
    "Полностью дублирующих друг друга строк не обнаружено. На всякий случай убедимся, что названия игр тоже не повторяются."
   ]
  },
  {
   "cell_type": "code",
   "execution_count": 11,
   "metadata": {},
   "outputs": [
    {
     "data": {
      "text/plain": [
       "Need for Speed: Most Wanted               12\n",
       "FIFA 14                                    9\n",
       "LEGO Marvel Super Heroes                   9\n",
       "Ratatouille                                9\n",
       "Terraria                                   8\n",
       "                                          ..\n",
       "Hexyz Force                                1\n",
       "LEGO Island 2: The Brickster's Revenge     1\n",
       "Are You Alice?                             1\n",
       "The Sims: Superstar                        1\n",
       "Sakura Wars: Atsuki Chishio Ni             1\n",
       "Name: name, Length: 11426, dtype: int64"
      ]
     },
     "execution_count": 11,
     "metadata": {},
     "output_type": "execute_result"
    }
   ],
   "source": [
    "data['name'].value_counts()"
   ]
  },
  {
   "cell_type": "markdown",
   "metadata": {},
   "source": [
    "Воу. Хьюстон... Ну вы поняли. \n",
    "\n",
    "Так, проверим сколько раз повторяются суммарно названия всех игр и сколько всего игр, названия которых повторяются :D"
   ]
  },
  {
   "cell_type": "code",
   "execution_count": 12,
   "metadata": {},
   "outputs": [
    {
     "data": {
      "text/plain": [
       "index    Need for Speed: Most WantedFIFA 14LEGO Marvel ...\n",
       "name                                                  7766\n",
       "dtype: object"
      ]
     },
     "execution_count": 12,
     "metadata": {},
     "output_type": "execute_result"
    }
   ],
   "source": [
    "data['name'].value_counts().reset_index().query('name > 1').sum()"
   ]
  },
  {
   "cell_type": "code",
   "execution_count": 13,
   "metadata": {},
   "outputs": [
    {
     "data": {
      "text/plain": [
       "index    2748\n",
       "name     2748\n",
       "dtype: int64"
      ]
     },
     "execution_count": 13,
     "metadata": {},
     "output_type": "execute_result"
    }
   ],
   "source": [
    "data['name'].value_counts().reset_index().query('name > 1').count()"
   ]
  },
  {
   "cell_type": "markdown",
   "metadata": {},
   "source": [
    "Итого. У нас 2805 игр, названия которых повторяются. Суммарно они все вместе составляют 7959 строчек. Вычитая одно из другого получаем, что лишних строчек у нас 5154 штуки."
   ]
  },
  {
   "cell_type": "markdown",
   "metadata": {},
   "source": [
    "Рассмотрим на примере самой частоповторяющийся игры `Need for Speed: Most Wanted`, что же эти дубликаты из себя представляют."
   ]
  },
  {
   "cell_type": "code",
   "execution_count": 14,
   "metadata": {},
   "outputs": [
    {
     "data": {
      "text/html": [
       "<div>\n",
       "<style scoped>\n",
       "    .dataframe tbody tr th:only-of-type {\n",
       "        vertical-align: middle;\n",
       "    }\n",
       "\n",
       "    .dataframe tbody tr th {\n",
       "        vertical-align: top;\n",
       "    }\n",
       "\n",
       "    .dataframe thead th {\n",
       "        text-align: right;\n",
       "    }\n",
       "</style>\n",
       "<table border=\"1\" class=\"dataframe\">\n",
       "  <thead>\n",
       "    <tr style=\"text-align: right;\">\n",
       "      <th></th>\n",
       "      <th></th>\n",
       "      <th></th>\n",
       "      <th>critic_score</th>\n",
       "      <th>eu_sales</th>\n",
       "      <th>jp_sales</th>\n",
       "      <th>na_sales</th>\n",
       "      <th>other_sales</th>\n",
       "      <th>user_score</th>\n",
       "    </tr>\n",
       "    <tr>\n",
       "      <th>year_of_release</th>\n",
       "      <th>name</th>\n",
       "      <th>platform</th>\n",
       "      <th></th>\n",
       "      <th></th>\n",
       "      <th></th>\n",
       "      <th></th>\n",
       "      <th></th>\n",
       "      <th></th>\n",
       "    </tr>\n",
       "  </thead>\n",
       "  <tbody>\n",
       "    <tr>\n",
       "      <td rowspan=\"7\" valign=\"top\">2005</td>\n",
       "      <td rowspan=\"7\" valign=\"top\">Need for Speed: Most Wanted</td>\n",
       "      <td>DS</td>\n",
       "      <td>45.0</td>\n",
       "      <td>0.01</td>\n",
       "      <td>0.00</td>\n",
       "      <td>0.24</td>\n",
       "      <td>0.02</td>\n",
       "      <td>6.1</td>\n",
       "    </tr>\n",
       "    <tr>\n",
       "      <td>GBA</td>\n",
       "      <td>NaN</td>\n",
       "      <td>0.07</td>\n",
       "      <td>0.00</td>\n",
       "      <td>0.19</td>\n",
       "      <td>0.00</td>\n",
       "      <td>8.3</td>\n",
       "    </tr>\n",
       "    <tr>\n",
       "      <td>GC</td>\n",
       "      <td>80.0</td>\n",
       "      <td>0.11</td>\n",
       "      <td>0.00</td>\n",
       "      <td>0.43</td>\n",
       "      <td>0.02</td>\n",
       "      <td>9.1</td>\n",
       "    </tr>\n",
       "    <tr>\n",
       "      <td>PC</td>\n",
       "      <td>82.0</td>\n",
       "      <td>0.23</td>\n",
       "      <td>0.00</td>\n",
       "      <td>0.02</td>\n",
       "      <td>0.04</td>\n",
       "      <td>8.5</td>\n",
       "    </tr>\n",
       "    <tr>\n",
       "      <td>PS2</td>\n",
       "      <td>82.0</td>\n",
       "      <td>1.79</td>\n",
       "      <td>0.08</td>\n",
       "      <td>2.03</td>\n",
       "      <td>0.47</td>\n",
       "      <td>9.1</td>\n",
       "    </tr>\n",
       "    <tr>\n",
       "      <td>X360</td>\n",
       "      <td>83.0</td>\n",
       "      <td>0.13</td>\n",
       "      <td>0.02</td>\n",
       "      <td>1.00</td>\n",
       "      <td>0.10</td>\n",
       "      <td>8.5</td>\n",
       "    </tr>\n",
       "    <tr>\n",
       "      <td>XB</td>\n",
       "      <td>83.0</td>\n",
       "      <td>0.46</td>\n",
       "      <td>0.00</td>\n",
       "      <td>0.53</td>\n",
       "      <td>0.05</td>\n",
       "      <td>8.8</td>\n",
       "    </tr>\n",
       "    <tr>\n",
       "      <td rowspan=\"4\" valign=\"top\">2012</td>\n",
       "      <td rowspan=\"4\" valign=\"top\">Need for Speed: Most Wanted</td>\n",
       "      <td>PC</td>\n",
       "      <td>82.0</td>\n",
       "      <td>0.06</td>\n",
       "      <td>0.00</td>\n",
       "      <td>0.00</td>\n",
       "      <td>0.02</td>\n",
       "      <td>8.5</td>\n",
       "    </tr>\n",
       "    <tr>\n",
       "      <td>PS3</td>\n",
       "      <td>NaN</td>\n",
       "      <td>1.46</td>\n",
       "      <td>0.06</td>\n",
       "      <td>0.71</td>\n",
       "      <td>0.58</td>\n",
       "      <td>NaN</td>\n",
       "    </tr>\n",
       "    <tr>\n",
       "      <td>PSV</td>\n",
       "      <td>NaN</td>\n",
       "      <td>0.45</td>\n",
       "      <td>0.01</td>\n",
       "      <td>0.33</td>\n",
       "      <td>0.22</td>\n",
       "      <td>NaN</td>\n",
       "    </tr>\n",
       "    <tr>\n",
       "      <td>X360</td>\n",
       "      <td>83.0</td>\n",
       "      <td>0.78</td>\n",
       "      <td>0.01</td>\n",
       "      <td>0.62</td>\n",
       "      <td>0.15</td>\n",
       "      <td>8.5</td>\n",
       "    </tr>\n",
       "    <tr>\n",
       "      <td>2013</td>\n",
       "      <td>Need for Speed: Most Wanted</td>\n",
       "      <td>WiiU</td>\n",
       "      <td>NaN</td>\n",
       "      <td>0.12</td>\n",
       "      <td>0.00</td>\n",
       "      <td>0.13</td>\n",
       "      <td>0.02</td>\n",
       "      <td>NaN</td>\n",
       "    </tr>\n",
       "  </tbody>\n",
       "</table>\n",
       "</div>"
      ],
      "text/plain": [
       "                                                      critic_score  eu_sales  \\\n",
       "year_of_release name                        platform                           \n",
       "2005            Need for Speed: Most Wanted DS                45.0      0.01   \n",
       "                                            GBA                NaN      0.07   \n",
       "                                            GC                80.0      0.11   \n",
       "                                            PC                82.0      0.23   \n",
       "                                            PS2               82.0      1.79   \n",
       "                                            X360              83.0      0.13   \n",
       "                                            XB                83.0      0.46   \n",
       "2012            Need for Speed: Most Wanted PC                82.0      0.06   \n",
       "                                            PS3                NaN      1.46   \n",
       "                                            PSV                NaN      0.45   \n",
       "                                            X360              83.0      0.78   \n",
       "2013            Need for Speed: Most Wanted WiiU               NaN      0.12   \n",
       "\n",
       "                                                      jp_sales  na_sales  \\\n",
       "year_of_release name                        platform                       \n",
       "2005            Need for Speed: Most Wanted DS            0.00      0.24   \n",
       "                                            GBA           0.00      0.19   \n",
       "                                            GC            0.00      0.43   \n",
       "                                            PC            0.00      0.02   \n",
       "                                            PS2           0.08      2.03   \n",
       "                                            X360          0.02      1.00   \n",
       "                                            XB            0.00      0.53   \n",
       "2012            Need for Speed: Most Wanted PC            0.00      0.00   \n",
       "                                            PS3           0.06      0.71   \n",
       "                                            PSV           0.01      0.33   \n",
       "                                            X360          0.01      0.62   \n",
       "2013            Need for Speed: Most Wanted WiiU          0.00      0.13   \n",
       "\n",
       "                                                      other_sales  user_score  \n",
       "year_of_release name                        platform                           \n",
       "2005            Need for Speed: Most Wanted DS               0.02         6.1  \n",
       "                                            GBA              0.00         8.3  \n",
       "                                            GC               0.02         9.1  \n",
       "                                            PC               0.04         8.5  \n",
       "                                            PS2              0.47         9.1  \n",
       "                                            X360             0.10         8.5  \n",
       "                                            XB               0.05         8.8  \n",
       "2012            Need for Speed: Most Wanted PC               0.02         8.5  \n",
       "                                            PS3              0.58         NaN  \n",
       "                                            PSV              0.22         NaN  \n",
       "                                            X360             0.15         8.5  \n",
       "2013            Need for Speed: Most Wanted WiiU             0.02         NaN  "
      ]
     },
     "execution_count": 14,
     "metadata": {},
     "output_type": "execute_result"
    }
   ],
   "source": [
    "(data.pivot_table(index = ['year_of_release','name', 'platform'])\n",
    " .query('name == \"Need for Speed: Most Wanted\"'))"
   ]
  },
  {
   "cell_type": "markdown",
   "metadata": {},
   "source": [
    "Прояснилось) Разные платформы плюс перезапуск игры в 2012 году. Значит не всё так плохо. На всякий случай проверим игру номер 2 в нашем хит-параде. "
   ]
  },
  {
   "cell_type": "code",
   "execution_count": 15,
   "metadata": {
    "scrolled": false
   },
   "outputs": [
    {
     "data": {
      "text/html": [
       "<div>\n",
       "<style scoped>\n",
       "    .dataframe tbody tr th:only-of-type {\n",
       "        vertical-align: middle;\n",
       "    }\n",
       "\n",
       "    .dataframe tbody tr th {\n",
       "        vertical-align: top;\n",
       "    }\n",
       "\n",
       "    .dataframe thead th {\n",
       "        text-align: right;\n",
       "    }\n",
       "</style>\n",
       "<table border=\"1\" class=\"dataframe\">\n",
       "  <thead>\n",
       "    <tr style=\"text-align: right;\">\n",
       "      <th></th>\n",
       "      <th></th>\n",
       "      <th></th>\n",
       "      <th>critic_score</th>\n",
       "      <th>eu_sales</th>\n",
       "      <th>jp_sales</th>\n",
       "      <th>na_sales</th>\n",
       "      <th>other_sales</th>\n",
       "      <th>user_score</th>\n",
       "    </tr>\n",
       "    <tr>\n",
       "      <th>year_of_release</th>\n",
       "      <th>name</th>\n",
       "      <th>platform</th>\n",
       "      <th></th>\n",
       "      <th></th>\n",
       "      <th></th>\n",
       "      <th></th>\n",
       "      <th></th>\n",
       "      <th></th>\n",
       "    </tr>\n",
       "  </thead>\n",
       "  <tbody>\n",
       "    <tr>\n",
       "      <td rowspan=\"9\" valign=\"top\">2013</td>\n",
       "      <td rowspan=\"9\" valign=\"top\">LEGO Marvel Super Heroes</td>\n",
       "      <td>3DS</td>\n",
       "      <td>61.0</td>\n",
       "      <td>0.36</td>\n",
       "      <td>0.04</td>\n",
       "      <td>0.42</td>\n",
       "      <td>0.07</td>\n",
       "      <td>5.2</td>\n",
       "    </tr>\n",
       "    <tr>\n",
       "      <td>DS</td>\n",
       "      <td>NaN</td>\n",
       "      <td>0.13</td>\n",
       "      <td>0.00</td>\n",
       "      <td>0.22</td>\n",
       "      <td>0.03</td>\n",
       "      <td>4.8</td>\n",
       "    </tr>\n",
       "    <tr>\n",
       "      <td>PC</td>\n",
       "      <td>78.0</td>\n",
       "      <td>0.12</td>\n",
       "      <td>0.00</td>\n",
       "      <td>0.04</td>\n",
       "      <td>0.01</td>\n",
       "      <td>8.1</td>\n",
       "    </tr>\n",
       "    <tr>\n",
       "      <td>PS3</td>\n",
       "      <td>82.0</td>\n",
       "      <td>0.76</td>\n",
       "      <td>0.01</td>\n",
       "      <td>0.77</td>\n",
       "      <td>0.29</td>\n",
       "      <td>7.9</td>\n",
       "    </tr>\n",
       "    <tr>\n",
       "      <td>PS4</td>\n",
       "      <td>83.0</td>\n",
       "      <td>0.76</td>\n",
       "      <td>0.01</td>\n",
       "      <td>0.59</td>\n",
       "      <td>0.26</td>\n",
       "      <td>7.7</td>\n",
       "    </tr>\n",
       "    <tr>\n",
       "      <td>PSV</td>\n",
       "      <td>NaN</td>\n",
       "      <td>0.29</td>\n",
       "      <td>0.00</td>\n",
       "      <td>0.11</td>\n",
       "      <td>0.11</td>\n",
       "      <td>NaN</td>\n",
       "    </tr>\n",
       "    <tr>\n",
       "      <td>WiiU</td>\n",
       "      <td>82.0</td>\n",
       "      <td>0.35</td>\n",
       "      <td>0.02</td>\n",
       "      <td>0.31</td>\n",
       "      <td>0.06</td>\n",
       "      <td>8.0</td>\n",
       "    </tr>\n",
       "    <tr>\n",
       "      <td>X360</td>\n",
       "      <td>80.0</td>\n",
       "      <td>0.79</td>\n",
       "      <td>0.00</td>\n",
       "      <td>1.24</td>\n",
       "      <td>0.19</td>\n",
       "      <td>7.6</td>\n",
       "    </tr>\n",
       "    <tr>\n",
       "      <td>XOne</td>\n",
       "      <td>NaN</td>\n",
       "      <td>0.35</td>\n",
       "      <td>0.00</td>\n",
       "      <td>0.61</td>\n",
       "      <td>0.09</td>\n",
       "      <td>6.8</td>\n",
       "    </tr>\n",
       "  </tbody>\n",
       "</table>\n",
       "</div>"
      ],
      "text/plain": [
       "                                                   critic_score  eu_sales  \\\n",
       "year_of_release name                     platform                           \n",
       "2013            LEGO Marvel Super Heroes 3DS               61.0      0.36   \n",
       "                                         DS                 NaN      0.13   \n",
       "                                         PC                78.0      0.12   \n",
       "                                         PS3               82.0      0.76   \n",
       "                                         PS4               83.0      0.76   \n",
       "                                         PSV                NaN      0.29   \n",
       "                                         WiiU              82.0      0.35   \n",
       "                                         X360              80.0      0.79   \n",
       "                                         XOne               NaN      0.35   \n",
       "\n",
       "                                                   jp_sales  na_sales  \\\n",
       "year_of_release name                     platform                       \n",
       "2013            LEGO Marvel Super Heroes 3DS           0.04      0.42   \n",
       "                                         DS            0.00      0.22   \n",
       "                                         PC            0.00      0.04   \n",
       "                                         PS3           0.01      0.77   \n",
       "                                         PS4           0.01      0.59   \n",
       "                                         PSV           0.00      0.11   \n",
       "                                         WiiU          0.02      0.31   \n",
       "                                         X360          0.00      1.24   \n",
       "                                         XOne          0.00      0.61   \n",
       "\n",
       "                                                   other_sales  user_score  \n",
       "year_of_release name                     platform                           \n",
       "2013            LEGO Marvel Super Heroes 3DS              0.07         5.2  \n",
       "                                         DS               0.03         4.8  \n",
       "                                         PC               0.01         8.1  \n",
       "                                         PS3              0.29         7.9  \n",
       "                                         PS4              0.26         7.7  \n",
       "                                         PSV              0.11         NaN  \n",
       "                                         WiiU             0.06         8.0  \n",
       "                                         X360             0.19         7.6  \n",
       "                                         XOne             0.09         6.8  "
      ]
     },
     "execution_count": 15,
     "metadata": {},
     "output_type": "execute_result"
    }
   ],
   "source": [
    "(data.pivot_table(index = ['year_of_release','name', 'platform'])\n",
    " .query('name == \"LEGO Marvel Super Heroes\"'))"
   ]
  },
  {
   "cell_type": "markdown",
   "metadata": {},
   "source": [
    "Ясно-понятно) С дубликатами не всё так печально, как могло бы показаться на первый взгляд."
   ]
  },
  {
   "cell_type": "code",
   "execution_count": 16,
   "metadata": {},
   "outputs": [
    {
     "data": {
      "text/html": [
       "<div>\n",
       "<style scoped>\n",
       "    .dataframe tbody tr th:only-of-type {\n",
       "        vertical-align: middle;\n",
       "    }\n",
       "\n",
       "    .dataframe tbody tr th {\n",
       "        vertical-align: top;\n",
       "    }\n",
       "\n",
       "    .dataframe thead th {\n",
       "        text-align: right;\n",
       "    }\n",
       "</style>\n",
       "<table border=\"1\" class=\"dataframe\">\n",
       "  <thead>\n",
       "    <tr style=\"text-align: right;\">\n",
       "      <th></th>\n",
       "      <th>name</th>\n",
       "      <th>platform</th>\n",
       "      <th>year_of_release</th>\n",
       "      <th>genre</th>\n",
       "      <th>na_sales</th>\n",
       "      <th>eu_sales</th>\n",
       "      <th>jp_sales</th>\n",
       "      <th>other_sales</th>\n",
       "      <th>critic_score</th>\n",
       "      <th>user_score</th>\n",
       "      <th>rating</th>\n",
       "    </tr>\n",
       "  </thead>\n",
       "  <tbody>\n",
       "    <tr>\n",
       "      <td>604</td>\n",
       "      <td>Madden NFL 13</td>\n",
       "      <td>PS3</td>\n",
       "      <td>2012</td>\n",
       "      <td>Sports</td>\n",
       "      <td>2.11</td>\n",
       "      <td>0.22</td>\n",
       "      <td>0.0</td>\n",
       "      <td>0.23</td>\n",
       "      <td>83.0</td>\n",
       "      <td>5.5</td>\n",
       "      <td>E</td>\n",
       "    </tr>\n",
       "    <tr>\n",
       "      <td>16230</td>\n",
       "      <td>Madden NFL 13</td>\n",
       "      <td>PS3</td>\n",
       "      <td>2012</td>\n",
       "      <td>Sports</td>\n",
       "      <td>0.00</td>\n",
       "      <td>0.01</td>\n",
       "      <td>0.0</td>\n",
       "      <td>0.00</td>\n",
       "      <td>83.0</td>\n",
       "      <td>5.5</td>\n",
       "      <td>E</td>\n",
       "    </tr>\n",
       "  </tbody>\n",
       "</table>\n",
       "</div>"
      ],
      "text/plain": [
       "                name platform  year_of_release   genre  na_sales  eu_sales  \\\n",
       "604    Madden NFL 13      PS3             2012  Sports      2.11      0.22   \n",
       "16230  Madden NFL 13      PS3             2012  Sports      0.00      0.01   \n",
       "\n",
       "       jp_sales  other_sales  critic_score  user_score rating  \n",
       "604         0.0         0.23          83.0         5.5      E  \n",
       "16230       0.0         0.00          83.0         5.5      E  "
      ]
     },
     "metadata": {},
     "output_type": "display_data"
    }
   ],
   "source": [
    "display(data[data.duplicated(subset = ['name'\n",
    "                                , 'year_of_release'\n",
    "                                , 'platform']\n",
    "                      , keep = False)])"
   ]
  },
  {
   "cell_type": "markdown",
   "metadata": {},
   "source": [
    "Один дубликат всё таки имеется.\n",
    "\n",
    "Предположим, это человеческий фактор и на каком-то этапе данные были некорректно загружены, что привело к разделению результата для одной и той же игры. Добавим в первую строчку результат продаж из второй, после чего удалим дубликат."
   ]
  },
  {
   "cell_type": "code",
   "execution_count": 17,
   "metadata": {},
   "outputs": [],
   "source": [
    "data.loc[604, 'eu_sales'] = 0.23"
   ]
  },
  {
   "cell_type": "code",
   "execution_count": 18,
   "metadata": {},
   "outputs": [],
   "source": [
    "data = (data\n",
    "        .drop_duplicates(subset=['name'\n",
    "                                , 'year_of_release'\n",
    "                                , 'platform'], keep='first', inplace= False)\n",
    "        .reset_index(drop = True)) "
   ]
  },
  {
   "cell_type": "markdown",
   "metadata": {},
   "source": [
    "*2.5. Расчёт суммарных продаж во всех регионах.* <a id=\"Step_2_5\"></a>"
   ]
  },
  {
   "cell_type": "markdown",
   "metadata": {},
   "source": [
    "Всегда бы так :D \n",
    "\n",
    "Более чем понятная задача. Все данные на месте. Просто сложим соответствующие столбцы)"
   ]
  },
  {
   "cell_type": "code",
   "execution_count": 19,
   "metadata": {},
   "outputs": [],
   "source": [
    "data['total_of_sales'] = (data['na_sales'] \n",
    "                          + data['eu_sales'] \n",
    "                          + data['jp_sales'] \n",
    "                          + data['other_sales'])"
   ]
  },
  {
   "cell_type": "markdown",
   "metadata": {},
   "source": [
    "#### Результат выполнения 2 шага \"Подготовка данных\":\n",
    "   1. *Регистр заголовков изменён на нижний.*\n",
    "   2. *Для столбцов `year_of_release` и `user_score` изменён тип данных.*\n",
    "   3. *Для столбца `user_score` значения `tbd` заменены на `NaN`.*\n",
    "   4. *Проверка на наличие дубликатов произведена. Дубликатов не обнаружено.*\n",
    "   5. *В столбцах `year_of_release`, `name`, `genre` удалены пропуски.* \n",
    "   6. *Добавлен столбец суммарных продаж для всех регионов `total_of_sales`.*"
   ]
  },
  {
   "cell_type": "markdown",
   "metadata": {},
   "source": [
    "### Шаг 3. Анализ данных. <a id=\"Step_3\"></a>"
   ]
  },
  {
   "cell_type": "markdown",
   "metadata": {},
   "source": [
    "*3.1. Оценка количества игр, выпущенных в разные годы.* <a id=\"Step_3_1\"></a>"
   ]
  },
  {
   "cell_type": "markdown",
   "metadata": {},
   "source": [
    "Сгруппируем данные, чтобы оценить количество игр, выпущенных в разные годы."
   ]
  },
  {
   "cell_type": "code",
   "execution_count": 20,
   "metadata": {
    "scrolled": true
   },
   "outputs": [
    {
     "data": {
      "text/html": [
       "<div>\n",
       "<style scoped>\n",
       "    .dataframe tbody tr th:only-of-type {\n",
       "        vertical-align: middle;\n",
       "    }\n",
       "\n",
       "    .dataframe tbody tr th {\n",
       "        vertical-align: top;\n",
       "    }\n",
       "\n",
       "    .dataframe thead th {\n",
       "        text-align: right;\n",
       "    }\n",
       "</style>\n",
       "<table border=\"1\" class=\"dataframe\">\n",
       "  <thead>\n",
       "    <tr style=\"text-align: right;\">\n",
       "      <th></th>\n",
       "      <th>name</th>\n",
       "    </tr>\n",
       "    <tr>\n",
       "      <th>year_of_release</th>\n",
       "      <th></th>\n",
       "    </tr>\n",
       "  </thead>\n",
       "  <tbody>\n",
       "    <tr>\n",
       "      <td>1980</td>\n",
       "      <td>9</td>\n",
       "    </tr>\n",
       "    <tr>\n",
       "      <td>1981</td>\n",
       "      <td>46</td>\n",
       "    </tr>\n",
       "    <tr>\n",
       "      <td>1982</td>\n",
       "      <td>36</td>\n",
       "    </tr>\n",
       "    <tr>\n",
       "      <td>1983</td>\n",
       "      <td>17</td>\n",
       "    </tr>\n",
       "    <tr>\n",
       "      <td>1984</td>\n",
       "      <td>14</td>\n",
       "    </tr>\n",
       "    <tr>\n",
       "      <td>1985</td>\n",
       "      <td>14</td>\n",
       "    </tr>\n",
       "    <tr>\n",
       "      <td>1986</td>\n",
       "      <td>21</td>\n",
       "    </tr>\n",
       "    <tr>\n",
       "      <td>1987</td>\n",
       "      <td>16</td>\n",
       "    </tr>\n",
       "    <tr>\n",
       "      <td>1988</td>\n",
       "      <td>15</td>\n",
       "    </tr>\n",
       "    <tr>\n",
       "      <td>1989</td>\n",
       "      <td>17</td>\n",
       "    </tr>\n",
       "    <tr>\n",
       "      <td>1990</td>\n",
       "      <td>16</td>\n",
       "    </tr>\n",
       "    <tr>\n",
       "      <td>1991</td>\n",
       "      <td>41</td>\n",
       "    </tr>\n",
       "    <tr>\n",
       "      <td>1992</td>\n",
       "      <td>43</td>\n",
       "    </tr>\n",
       "    <tr>\n",
       "      <td>1993</td>\n",
       "      <td>60</td>\n",
       "    </tr>\n",
       "    <tr>\n",
       "      <td>1994</td>\n",
       "      <td>121</td>\n",
       "    </tr>\n",
       "    <tr>\n",
       "      <td>1995</td>\n",
       "      <td>219</td>\n",
       "    </tr>\n",
       "    <tr>\n",
       "      <td>1996</td>\n",
       "      <td>263</td>\n",
       "    </tr>\n",
       "    <tr>\n",
       "      <td>1997</td>\n",
       "      <td>289</td>\n",
       "    </tr>\n",
       "    <tr>\n",
       "      <td>1998</td>\n",
       "      <td>379</td>\n",
       "    </tr>\n",
       "    <tr>\n",
       "      <td>1999</td>\n",
       "      <td>338</td>\n",
       "    </tr>\n",
       "    <tr>\n",
       "      <td>2000</td>\n",
       "      <td>350</td>\n",
       "    </tr>\n",
       "    <tr>\n",
       "      <td>2001</td>\n",
       "      <td>482</td>\n",
       "    </tr>\n",
       "    <tr>\n",
       "      <td>2002</td>\n",
       "      <td>829</td>\n",
       "    </tr>\n",
       "    <tr>\n",
       "      <td>2003</td>\n",
       "      <td>775</td>\n",
       "    </tr>\n",
       "    <tr>\n",
       "      <td>2004</td>\n",
       "      <td>762</td>\n",
       "    </tr>\n",
       "    <tr>\n",
       "      <td>2005</td>\n",
       "      <td>939</td>\n",
       "    </tr>\n",
       "    <tr>\n",
       "      <td>2006</td>\n",
       "      <td>1006</td>\n",
       "    </tr>\n",
       "    <tr>\n",
       "      <td>2007</td>\n",
       "      <td>1197</td>\n",
       "    </tr>\n",
       "    <tr>\n",
       "      <td>2008</td>\n",
       "      <td>1427</td>\n",
       "    </tr>\n",
       "    <tr>\n",
       "      <td>2009</td>\n",
       "      <td>1426</td>\n",
       "    </tr>\n",
       "    <tr>\n",
       "      <td>2010</td>\n",
       "      <td>1255</td>\n",
       "    </tr>\n",
       "    <tr>\n",
       "      <td>2011</td>\n",
       "      <td>1136</td>\n",
       "    </tr>\n",
       "    <tr>\n",
       "      <td>2012</td>\n",
       "      <td>652</td>\n",
       "    </tr>\n",
       "    <tr>\n",
       "      <td>2013</td>\n",
       "      <td>544</td>\n",
       "    </tr>\n",
       "    <tr>\n",
       "      <td>2014</td>\n",
       "      <td>581</td>\n",
       "    </tr>\n",
       "    <tr>\n",
       "      <td>2015</td>\n",
       "      <td>606</td>\n",
       "    </tr>\n",
       "    <tr>\n",
       "      <td>2016</td>\n",
       "      <td>502</td>\n",
       "    </tr>\n",
       "  </tbody>\n",
       "</table>\n",
       "</div>"
      ],
      "text/plain": [
       "                 name\n",
       "year_of_release      \n",
       "1980                9\n",
       "1981               46\n",
       "1982               36\n",
       "1983               17\n",
       "1984               14\n",
       "1985               14\n",
       "1986               21\n",
       "1987               16\n",
       "1988               15\n",
       "1989               17\n",
       "1990               16\n",
       "1991               41\n",
       "1992               43\n",
       "1993               60\n",
       "1994              121\n",
       "1995              219\n",
       "1996              263\n",
       "1997              289\n",
       "1998              379\n",
       "1999              338\n",
       "2000              350\n",
       "2001              482\n",
       "2002              829\n",
       "2003              775\n",
       "2004              762\n",
       "2005              939\n",
       "2006             1006\n",
       "2007             1197\n",
       "2008             1427\n",
       "2009             1426\n",
       "2010             1255\n",
       "2011             1136\n",
       "2012              652\n",
       "2013              544\n",
       "2014              581\n",
       "2015              606\n",
       "2016              502"
      ]
     },
     "execution_count": 20,
     "metadata": {},
     "output_type": "execute_result"
    }
   ],
   "source": [
    "data.pivot_table(index = 'year_of_release', values = 'name', aggfunc = 'count')"
   ]
  },
  {
   "cell_type": "markdown",
   "metadata": {},
   "source": [
    "Сделаем условную границу в 100 игр. Ниже этого числа брать соответствующие годы для анализа не станем. То есть далее будем рассматривать данные, начиная с 1994 года. "
   ]
  },
  {
   "cell_type": "code",
   "execution_count": 21,
   "metadata": {},
   "outputs": [],
   "source": [
    "data = data.query('year_of_release > 1993')"
   ]
  },
  {
   "cell_type": "markdown",
   "metadata": {},
   "source": [
    "Построим график, чтобы отразить динамику суммарных продаж по годам."
   ]
  },
  {
   "cell_type": "code",
   "execution_count": 22,
   "metadata": {},
   "outputs": [
    {
     "data": {
      "image/png": "[encoded data removed]",
      "text/plain": [
       "<Figure size 1080x504 with 1 Axes>"
      ]
     },
     "metadata": {
      "needs_background": "light"
     },
     "output_type": "display_data"
    }
   ],
   "source": [
    "(data\n",
    " .pivot_table(index = 'year_of_release', values = 'total_of_sales', aggfunc = 'sum')\n",
    " .reset_index()\n",
    " .plot(x = 'year_of_release'\n",
    "       , y  = 'total_of_sales'\n",
    "       , style = 'o-'\n",
    "       , xlim = (1993, 2017) \n",
    "       , figsize = (15,7)\n",
    "       , grid = True ))\n",
    "\n",
    "# Для наглядности включим второстепенное деление осей. \n",
    "\n",
    "plt.minorticks_on()\n",
    "\n",
    "# Зададим внешний вид линий основной сетки:\n",
    "plt.grid(which='major',\n",
    "        color = 'k', \n",
    "        linewidth = 2)\n",
    "\n",
    "# Зададим внешний вид линий вспомогательной сетки:\n",
    "plt.grid(which='minor', \n",
    "        color = 'k', \n",
    "        linestyle = ':')\n",
    "plt.title('График продаж игр по годам', fontsize=18)\n",
    "plt.xlabel(\"Год выпуска\", fontsize=14)\n",
    "plt.ylabel(\"Продажи (млн)\", fontsize=14)\n",
    "\n",
    "plt.show()"
   ]
  },
  {
   "cell_type": "markdown",
   "metadata": {},
   "source": [
    "Да, вышло более чем наглядно. Кризис 2008 не обошёл и игровую индустрию. По всей видимости 2020, для этой индустрии, должен всё вернуть на круги своя)"
   ]
  },
  {
   "cell_type": "markdown",
   "metadata": {},
   "source": [
    "*3.2. Оценка динамики продаж по платформам.* <a id=\"Step_3_2\"></a>"
   ]
  },
  {
   "cell_type": "markdown",
   "metadata": {},
   "source": [
    "Для корректной оценки динами продаж по платформам создадим новый датасет, который будет включать все необходимые параметры `year_of_release`, `platform`, `total_of_sales`."
   ]
  },
  {
   "cell_type": "code",
   "execution_count": 23,
   "metadata": {},
   "outputs": [],
   "source": [
    "sorted_data = (data\n",
    " .pivot_table(index = ['year_of_release', 'platform']\n",
    "              , values = 'total_of_sales'\n",
    "              , aggfunc = 'sum')\n",
    " .sort_values(by = ['year_of_release','total_of_sales'], ascending = [True, False]))"
   ]
  },
  {
   "cell_type": "markdown",
   "metadata": {},
   "source": [
    "Посмотрим как по годам менялась первая пятёрка самых успешныхс точки зрения платформ."
   ]
  },
  {
   "cell_type": "code",
   "execution_count": 24,
   "metadata": {},
   "outputs": [
    {
     "data": {
      "text/html": [
       "<div>\n",
       "<style scoped>\n",
       "    .dataframe tbody tr th:only-of-type {\n",
       "        vertical-align: middle;\n",
       "    }\n",
       "\n",
       "    .dataframe tbody tr th {\n",
       "        vertical-align: top;\n",
       "    }\n",
       "\n",
       "    .dataframe thead th {\n",
       "        text-align: right;\n",
       "    }\n",
       "</style>\n",
       "<table border=\"1\" class=\"dataframe\">\n",
       "  <thead>\n",
       "    <tr style=\"text-align: right;\">\n",
       "      <th></th>\n",
       "      <th></th>\n",
       "      <th>total_of_sales</th>\n",
       "    </tr>\n",
       "    <tr>\n",
       "      <th>year_of_release</th>\n",
       "      <th>platform</th>\n",
       "      <th></th>\n",
       "    </tr>\n",
       "  </thead>\n",
       "  <tbody>\n",
       "    <tr>\n",
       "      <td rowspan=\"5\" valign=\"top\">1994</td>\n",
       "      <td>SNES</td>\n",
       "      <td>35.08</td>\n",
       "    </tr>\n",
       "    <tr>\n",
       "      <td>PC</td>\n",
       "      <td>12.87</td>\n",
       "    </tr>\n",
       "    <tr>\n",
       "      <td>GB</td>\n",
       "      <td>12.18</td>\n",
       "    </tr>\n",
       "    <tr>\n",
       "      <td>GEN</td>\n",
       "      <td>8.13</td>\n",
       "    </tr>\n",
       "    <tr>\n",
       "      <td>PS</td>\n",
       "      <td>6.03</td>\n",
       "    </tr>\n",
       "  </tbody>\n",
       "</table>\n",
       "</div>"
      ],
      "text/plain": [
       "                          total_of_sales\n",
       "year_of_release platform                \n",
       "1994            SNES               35.08\n",
       "                PC                 12.87\n",
       "                GB                 12.18\n",
       "                GEN                 8.13\n",
       "                PS                  6.03"
      ]
     },
     "metadata": {},
     "output_type": "display_data"
    },
    {
     "data": {
      "text/html": [
       "<div>\n",
       "<style scoped>\n",
       "    .dataframe tbody tr th:only-of-type {\n",
       "        vertical-align: middle;\n",
       "    }\n",
       "\n",
       "    .dataframe tbody tr th {\n",
       "        vertical-align: top;\n",
       "    }\n",
       "\n",
       "    .dataframe thead th {\n",
       "        text-align: right;\n",
       "    }\n",
       "</style>\n",
       "<table border=\"1\" class=\"dataframe\">\n",
       "  <thead>\n",
       "    <tr style=\"text-align: right;\">\n",
       "      <th></th>\n",
       "      <th></th>\n",
       "      <th>total_of_sales</th>\n",
       "    </tr>\n",
       "    <tr>\n",
       "      <th>year_of_release</th>\n",
       "      <th>platform</th>\n",
       "      <th></th>\n",
       "    </tr>\n",
       "  </thead>\n",
       "  <tbody>\n",
       "    <tr>\n",
       "      <td rowspan=\"5\" valign=\"top\">1995</td>\n",
       "      <td>PS</td>\n",
       "      <td>35.96</td>\n",
       "    </tr>\n",
       "    <tr>\n",
       "      <td>SNES</td>\n",
       "      <td>32.20</td>\n",
       "    </tr>\n",
       "    <tr>\n",
       "      <td>SAT</td>\n",
       "      <td>11.57</td>\n",
       "    </tr>\n",
       "    <tr>\n",
       "      <td>PC</td>\n",
       "      <td>4.22</td>\n",
       "    </tr>\n",
       "    <tr>\n",
       "      <td>GB</td>\n",
       "      <td>3.60</td>\n",
       "    </tr>\n",
       "  </tbody>\n",
       "</table>\n",
       "</div>"
      ],
      "text/plain": [
       "                          total_of_sales\n",
       "year_of_release platform                \n",
       "1995            PS                 35.96\n",
       "                SNES               32.20\n",
       "                SAT                11.57\n",
       "                PC                  4.22\n",
       "                GB                  3.60"
      ]
     },
     "metadata": {},
     "output_type": "display_data"
    },
    {
     "data": {
      "text/html": [
       "<div>\n",
       "<style scoped>\n",
       "    .dataframe tbody tr th:only-of-type {\n",
       "        vertical-align: middle;\n",
       "    }\n",
       "\n",
       "    .dataframe tbody tr th {\n",
       "        vertical-align: top;\n",
       "    }\n",
       "\n",
       "    .dataframe thead th {\n",
       "        text-align: right;\n",
       "    }\n",
       "</style>\n",
       "<table border=\"1\" class=\"dataframe\">\n",
       "  <thead>\n",
       "    <tr style=\"text-align: right;\">\n",
       "      <th></th>\n",
       "      <th></th>\n",
       "      <th>total_of_sales</th>\n",
       "    </tr>\n",
       "    <tr>\n",
       "      <th>year_of_release</th>\n",
       "      <th>platform</th>\n",
       "      <th></th>\n",
       "    </tr>\n",
       "  </thead>\n",
       "  <tbody>\n",
       "    <tr>\n",
       "      <td rowspan=\"5\" valign=\"top\">1996</td>\n",
       "      <td>PS</td>\n",
       "      <td>94.70</td>\n",
       "    </tr>\n",
       "    <tr>\n",
       "      <td>GB</td>\n",
       "      <td>36.03</td>\n",
       "    </tr>\n",
       "    <tr>\n",
       "      <td>N64</td>\n",
       "      <td>34.10</td>\n",
       "    </tr>\n",
       "    <tr>\n",
       "      <td>SNES</td>\n",
       "      <td>15.92</td>\n",
       "    </tr>\n",
       "    <tr>\n",
       "      <td>PC</td>\n",
       "      <td>10.58</td>\n",
       "    </tr>\n",
       "  </tbody>\n",
       "</table>\n",
       "</div>"
      ],
      "text/plain": [
       "                          total_of_sales\n",
       "year_of_release platform                \n",
       "1996            PS                 94.70\n",
       "                GB                 36.03\n",
       "                N64                34.10\n",
       "                SNES               15.92\n",
       "                PC                 10.58"
      ]
     },
     "metadata": {},
     "output_type": "display_data"
    },
    {
     "data": {
      "text/html": [
       "<div>\n",
       "<style scoped>\n",
       "    .dataframe tbody tr th:only-of-type {\n",
       "        vertical-align: middle;\n",
       "    }\n",
       "\n",
       "    .dataframe tbody tr th {\n",
       "        vertical-align: top;\n",
       "    }\n",
       "\n",
       "    .dataframe thead th {\n",
       "        text-align: right;\n",
       "    }\n",
       "</style>\n",
       "<table border=\"1\" class=\"dataframe\">\n",
       "  <thead>\n",
       "    <tr style=\"text-align: right;\">\n",
       "      <th></th>\n",
       "      <th></th>\n",
       "      <th>total_of_sales</th>\n",
       "    </tr>\n",
       "    <tr>\n",
       "      <th>year_of_release</th>\n",
       "      <th>platform</th>\n",
       "      <th></th>\n",
       "    </tr>\n",
       "  </thead>\n",
       "  <tbody>\n",
       "    <tr>\n",
       "      <td rowspan=\"5\" valign=\"top\">1997</td>\n",
       "      <td>PS</td>\n",
       "      <td>136.17</td>\n",
       "    </tr>\n",
       "    <tr>\n",
       "      <td>N64</td>\n",
       "      <td>39.50</td>\n",
       "    </tr>\n",
       "    <tr>\n",
       "      <td>PC</td>\n",
       "      <td>11.27</td>\n",
       "    </tr>\n",
       "    <tr>\n",
       "      <td>SAT</td>\n",
       "      <td>6.77</td>\n",
       "    </tr>\n",
       "    <tr>\n",
       "      <td>GB</td>\n",
       "      <td>6.37</td>\n",
       "    </tr>\n",
       "  </tbody>\n",
       "</table>\n",
       "</div>"
      ],
      "text/plain": [
       "                          total_of_sales\n",
       "year_of_release platform                \n",
       "1997            PS                136.17\n",
       "                N64                39.50\n",
       "                PC                 11.27\n",
       "                SAT                 6.77\n",
       "                GB                  6.37"
      ]
     },
     "metadata": {},
     "output_type": "display_data"
    },
    {
     "data": {
      "text/html": [
       "<div>\n",
       "<style scoped>\n",
       "    .dataframe tbody tr th:only-of-type {\n",
       "        vertical-align: middle;\n",
       "    }\n",
       "\n",
       "    .dataframe tbody tr th {\n",
       "        vertical-align: top;\n",
       "    }\n",
       "\n",
       "    .dataframe thead th {\n",
       "        text-align: right;\n",
       "    }\n",
       "</style>\n",
       "<table border=\"1\" class=\"dataframe\">\n",
       "  <thead>\n",
       "    <tr style=\"text-align: right;\">\n",
       "      <th></th>\n",
       "      <th></th>\n",
       "      <th>total_of_sales</th>\n",
       "    </tr>\n",
       "    <tr>\n",
       "      <th>year_of_release</th>\n",
       "      <th>platform</th>\n",
       "      <th></th>\n",
       "    </tr>\n",
       "  </thead>\n",
       "  <tbody>\n",
       "    <tr>\n",
       "      <td rowspan=\"5\" valign=\"top\">1998</td>\n",
       "      <td>PS</td>\n",
       "      <td>169.49</td>\n",
       "    </tr>\n",
       "    <tr>\n",
       "      <td>N64</td>\n",
       "      <td>49.24</td>\n",
       "    </tr>\n",
       "    <tr>\n",
       "      <td>GB</td>\n",
       "      <td>26.90</td>\n",
       "    </tr>\n",
       "    <tr>\n",
       "      <td>SAT</td>\n",
       "      <td>3.82</td>\n",
       "    </tr>\n",
       "    <tr>\n",
       "      <td>DC</td>\n",
       "      <td>3.38</td>\n",
       "    </tr>\n",
       "  </tbody>\n",
       "</table>\n",
       "</div>"
      ],
      "text/plain": [
       "                          total_of_sales\n",
       "year_of_release platform                \n",
       "1998            PS                169.49\n",
       "                N64                49.24\n",
       "                GB                 26.90\n",
       "                SAT                 3.82\n",
       "                DC                  3.38"
      ]
     },
     "metadata": {},
     "output_type": "display_data"
    },
    {
     "data": {
      "text/html": [
       "<div>\n",
       "<style scoped>\n",
       "    .dataframe tbody tr th:only-of-type {\n",
       "        vertical-align: middle;\n",
       "    }\n",
       "\n",
       "    .dataframe tbody tr th {\n",
       "        vertical-align: top;\n",
       "    }\n",
       "\n",
       "    .dataframe thead th {\n",
       "        text-align: right;\n",
       "    }\n",
       "</style>\n",
       "<table border=\"1\" class=\"dataframe\">\n",
       "  <thead>\n",
       "    <tr style=\"text-align: right;\">\n",
       "      <th></th>\n",
       "      <th></th>\n",
       "      <th>total_of_sales</th>\n",
       "    </tr>\n",
       "    <tr>\n",
       "      <th>year_of_release</th>\n",
       "      <th>platform</th>\n",
       "      <th></th>\n",
       "    </tr>\n",
       "  </thead>\n",
       "  <tbody>\n",
       "    <tr>\n",
       "      <td rowspan=\"5\" valign=\"top\">1999</td>\n",
       "      <td>PS</td>\n",
       "      <td>144.53</td>\n",
       "    </tr>\n",
       "    <tr>\n",
       "      <td>N64</td>\n",
       "      <td>57.87</td>\n",
       "    </tr>\n",
       "    <tr>\n",
       "      <td>GB</td>\n",
       "      <td>38.00</td>\n",
       "    </tr>\n",
       "    <tr>\n",
       "      <td>DC</td>\n",
       "      <td>5.16</td>\n",
       "    </tr>\n",
       "    <tr>\n",
       "      <td>PC</td>\n",
       "      <td>4.74</td>\n",
       "    </tr>\n",
       "  </tbody>\n",
       "</table>\n",
       "</div>"
      ],
      "text/plain": [
       "                          total_of_sales\n",
       "year_of_release platform                \n",
       "1999            PS                144.53\n",
       "                N64                57.87\n",
       "                GB                 38.00\n",
       "                DC                  5.16\n",
       "                PC                  4.74"
      ]
     },
     "metadata": {},
     "output_type": "display_data"
    },
    {
     "data": {
      "text/html": [
       "<div>\n",
       "<style scoped>\n",
       "    .dataframe tbody tr th:only-of-type {\n",
       "        vertical-align: middle;\n",
       "    }\n",
       "\n",
       "    .dataframe tbody tr th {\n",
       "        vertical-align: top;\n",
       "    }\n",
       "\n",
       "    .dataframe thead th {\n",
       "        text-align: right;\n",
       "    }\n",
       "</style>\n",
       "<table border=\"1\" class=\"dataframe\">\n",
       "  <thead>\n",
       "    <tr style=\"text-align: right;\">\n",
       "      <th></th>\n",
       "      <th></th>\n",
       "      <th>total_of_sales</th>\n",
       "    </tr>\n",
       "    <tr>\n",
       "      <th>year_of_release</th>\n",
       "      <th>platform</th>\n",
       "      <th></th>\n",
       "    </tr>\n",
       "  </thead>\n",
       "  <tbody>\n",
       "    <tr>\n",
       "      <td rowspan=\"5\" valign=\"top\">2000</td>\n",
       "      <td>PS</td>\n",
       "      <td>96.37</td>\n",
       "    </tr>\n",
       "    <tr>\n",
       "      <td>PS2</td>\n",
       "      <td>39.17</td>\n",
       "    </tr>\n",
       "    <tr>\n",
       "      <td>N64</td>\n",
       "      <td>33.97</td>\n",
       "    </tr>\n",
       "    <tr>\n",
       "      <td>GB</td>\n",
       "      <td>19.76</td>\n",
       "    </tr>\n",
       "    <tr>\n",
       "      <td>DC</td>\n",
       "      <td>5.99</td>\n",
       "    </tr>\n",
       "  </tbody>\n",
       "</table>\n",
       "</div>"
      ],
      "text/plain": [
       "                          total_of_sales\n",
       "year_of_release platform                \n",
       "2000            PS                 96.37\n",
       "                PS2                39.17\n",
       "                N64                33.97\n",
       "                GB                 19.76\n",
       "                DC                  5.99"
      ]
     },
     "metadata": {},
     "output_type": "display_data"
    },
    {
     "data": {
      "text/html": [
       "<div>\n",
       "<style scoped>\n",
       "    .dataframe tbody tr th:only-of-type {\n",
       "        vertical-align: middle;\n",
       "    }\n",
       "\n",
       "    .dataframe tbody tr th {\n",
       "        vertical-align: top;\n",
       "    }\n",
       "\n",
       "    .dataframe thead th {\n",
       "        text-align: right;\n",
       "    }\n",
       "</style>\n",
       "<table border=\"1\" class=\"dataframe\">\n",
       "  <thead>\n",
       "    <tr style=\"text-align: right;\">\n",
       "      <th></th>\n",
       "      <th></th>\n",
       "      <th>total_of_sales</th>\n",
       "    </tr>\n",
       "    <tr>\n",
       "      <th>year_of_release</th>\n",
       "      <th>platform</th>\n",
       "      <th></th>\n",
       "    </tr>\n",
       "  </thead>\n",
       "  <tbody>\n",
       "    <tr>\n",
       "      <td rowspan=\"5\" valign=\"top\">2001</td>\n",
       "      <td>PS2</td>\n",
       "      <td>166.43</td>\n",
       "    </tr>\n",
       "    <tr>\n",
       "      <td>GBA</td>\n",
       "      <td>61.53</td>\n",
       "    </tr>\n",
       "    <tr>\n",
       "      <td>PS</td>\n",
       "      <td>35.59</td>\n",
       "    </tr>\n",
       "    <tr>\n",
       "      <td>GC</td>\n",
       "      <td>26.34</td>\n",
       "    </tr>\n",
       "    <tr>\n",
       "      <td>XB</td>\n",
       "      <td>22.26</td>\n",
       "    </tr>\n",
       "  </tbody>\n",
       "</table>\n",
       "</div>"
      ],
      "text/plain": [
       "                          total_of_sales\n",
       "year_of_release platform                \n",
       "2001            PS2               166.43\n",
       "                GBA                61.53\n",
       "                PS                 35.59\n",
       "                GC                 26.34\n",
       "                XB                 22.26"
      ]
     },
     "metadata": {},
     "output_type": "display_data"
    },
    {
     "data": {
      "text/html": [
       "<div>\n",
       "<style scoped>\n",
       "    .dataframe tbody tr th:only-of-type {\n",
       "        vertical-align: middle;\n",
       "    }\n",
       "\n",
       "    .dataframe tbody tr th {\n",
       "        vertical-align: top;\n",
       "    }\n",
       "\n",
       "    .dataframe thead th {\n",
       "        text-align: right;\n",
       "    }\n",
       "</style>\n",
       "<table border=\"1\" class=\"dataframe\">\n",
       "  <thead>\n",
       "    <tr style=\"text-align: right;\">\n",
       "      <th></th>\n",
       "      <th></th>\n",
       "      <th>total_of_sales</th>\n",
       "    </tr>\n",
       "    <tr>\n",
       "      <th>year_of_release</th>\n",
       "      <th>platform</th>\n",
       "      <th></th>\n",
       "    </tr>\n",
       "  </thead>\n",
       "  <tbody>\n",
       "    <tr>\n",
       "      <td rowspan=\"5\" valign=\"top\">2002</td>\n",
       "      <td>PS2</td>\n",
       "      <td>205.38</td>\n",
       "    </tr>\n",
       "    <tr>\n",
       "      <td>GBA</td>\n",
       "      <td>74.16</td>\n",
       "    </tr>\n",
       "    <tr>\n",
       "      <td>GC</td>\n",
       "      <td>51.81</td>\n",
       "    </tr>\n",
       "    <tr>\n",
       "      <td>XB</td>\n",
       "      <td>48.01</td>\n",
       "    </tr>\n",
       "    <tr>\n",
       "      <td>PC</td>\n",
       "      <td>8.57</td>\n",
       "    </tr>\n",
       "  </tbody>\n",
       "</table>\n",
       "</div>"
      ],
      "text/plain": [
       "                          total_of_sales\n",
       "year_of_release platform                \n",
       "2002            PS2               205.38\n",
       "                GBA                74.16\n",
       "                GC                 51.81\n",
       "                XB                 48.01\n",
       "                PC                  8.57"
      ]
     },
     "metadata": {},
     "output_type": "display_data"
    },
    {
     "data": {
      "text/html": [
       "<div>\n",
       "<style scoped>\n",
       "    .dataframe tbody tr th:only-of-type {\n",
       "        vertical-align: middle;\n",
       "    }\n",
       "\n",
       "    .dataframe tbody tr th {\n",
       "        vertical-align: top;\n",
       "    }\n",
       "\n",
       "    .dataframe thead th {\n",
       "        text-align: right;\n",
       "    }\n",
       "</style>\n",
       "<table border=\"1\" class=\"dataframe\">\n",
       "  <thead>\n",
       "    <tr style=\"text-align: right;\">\n",
       "      <th></th>\n",
       "      <th></th>\n",
       "      <th>total_of_sales</th>\n",
       "    </tr>\n",
       "    <tr>\n",
       "      <th>year_of_release</th>\n",
       "      <th>platform</th>\n",
       "      <th></th>\n",
       "    </tr>\n",
       "  </thead>\n",
       "  <tbody>\n",
       "    <tr>\n",
       "      <td rowspan=\"5\" valign=\"top\">2003</td>\n",
       "      <td>PS2</td>\n",
       "      <td>184.31</td>\n",
       "    </tr>\n",
       "    <tr>\n",
       "      <td>GBA</td>\n",
       "      <td>56.67</td>\n",
       "    </tr>\n",
       "    <tr>\n",
       "      <td>XB</td>\n",
       "      <td>55.04</td>\n",
       "    </tr>\n",
       "    <tr>\n",
       "      <td>GC</td>\n",
       "      <td>50.61</td>\n",
       "    </tr>\n",
       "    <tr>\n",
       "      <td>PC</td>\n",
       "      <td>8.84</td>\n",
       "    </tr>\n",
       "  </tbody>\n",
       "</table>\n",
       "</div>"
      ],
      "text/plain": [
       "                          total_of_sales\n",
       "year_of_release platform                \n",
       "2003            PS2               184.31\n",
       "                GBA                56.67\n",
       "                XB                 55.04\n",
       "                GC                 50.61\n",
       "                PC                  8.84"
      ]
     },
     "metadata": {},
     "output_type": "display_data"
    },
    {
     "data": {
      "text/html": [
       "<div>\n",
       "<style scoped>\n",
       "    .dataframe tbody tr th:only-of-type {\n",
       "        vertical-align: middle;\n",
       "    }\n",
       "\n",
       "    .dataframe tbody tr th {\n",
       "        vertical-align: top;\n",
       "    }\n",
       "\n",
       "    .dataframe thead th {\n",
       "        text-align: right;\n",
       "    }\n",
       "</style>\n",
       "<table border=\"1\" class=\"dataframe\">\n",
       "  <thead>\n",
       "    <tr style=\"text-align: right;\">\n",
       "      <th></th>\n",
       "      <th></th>\n",
       "      <th>total_of_sales</th>\n",
       "    </tr>\n",
       "    <tr>\n",
       "      <th>year_of_release</th>\n",
       "      <th>platform</th>\n",
       "      <th></th>\n",
       "    </tr>\n",
       "  </thead>\n",
       "  <tbody>\n",
       "    <tr>\n",
       "      <td rowspan=\"5\" valign=\"top\">2004</td>\n",
       "      <td>PS2</td>\n",
       "      <td>211.81</td>\n",
       "    </tr>\n",
       "    <tr>\n",
       "      <td>GBA</td>\n",
       "      <td>77.91</td>\n",
       "    </tr>\n",
       "    <tr>\n",
       "      <td>XB</td>\n",
       "      <td>65.42</td>\n",
       "    </tr>\n",
       "    <tr>\n",
       "      <td>GC</td>\n",
       "      <td>28.82</td>\n",
       "    </tr>\n",
       "    <tr>\n",
       "      <td>DS</td>\n",
       "      <td>17.27</td>\n",
       "    </tr>\n",
       "  </tbody>\n",
       "</table>\n",
       "</div>"
      ],
      "text/plain": [
       "                          total_of_sales\n",
       "year_of_release platform                \n",
       "2004            PS2               211.81\n",
       "                GBA                77.91\n",
       "                XB                 65.42\n",
       "                GC                 28.82\n",
       "                DS                 17.27"
      ]
     },
     "metadata": {},
     "output_type": "display_data"
    },
    {
     "data": {
      "text/html": [
       "<div>\n",
       "<style scoped>\n",
       "    .dataframe tbody tr th:only-of-type {\n",
       "        vertical-align: middle;\n",
       "    }\n",
       "\n",
       "    .dataframe tbody tr th {\n",
       "        vertical-align: top;\n",
       "    }\n",
       "\n",
       "    .dataframe thead th {\n",
       "        text-align: right;\n",
       "    }\n",
       "</style>\n",
       "<table border=\"1\" class=\"dataframe\">\n",
       "  <thead>\n",
       "    <tr style=\"text-align: right;\">\n",
       "      <th></th>\n",
       "      <th></th>\n",
       "      <th>total_of_sales</th>\n",
       "    </tr>\n",
       "    <tr>\n",
       "      <th>year_of_release</th>\n",
       "      <th>platform</th>\n",
       "      <th></th>\n",
       "    </tr>\n",
       "  </thead>\n",
       "  <tbody>\n",
       "    <tr>\n",
       "      <td rowspan=\"5\" valign=\"top\">2005</td>\n",
       "      <td>PS2</td>\n",
       "      <td>160.66</td>\n",
       "    </tr>\n",
       "    <tr>\n",
       "      <td>DS</td>\n",
       "      <td>130.14</td>\n",
       "    </tr>\n",
       "    <tr>\n",
       "      <td>XB</td>\n",
       "      <td>49.08</td>\n",
       "    </tr>\n",
       "    <tr>\n",
       "      <td>PSP</td>\n",
       "      <td>43.84</td>\n",
       "    </tr>\n",
       "    <tr>\n",
       "      <td>GBA</td>\n",
       "      <td>33.86</td>\n",
       "    </tr>\n",
       "  </tbody>\n",
       "</table>\n",
       "</div>"
      ],
      "text/plain": [
       "                          total_of_sales\n",
       "year_of_release platform                \n",
       "2005            PS2               160.66\n",
       "                DS                130.14\n",
       "                XB                 49.08\n",
       "                PSP                43.84\n",
       "                GBA                33.86"
      ]
     },
     "metadata": {},
     "output_type": "display_data"
    },
    {
     "data": {
      "text/html": [
       "<div>\n",
       "<style scoped>\n",
       "    .dataframe tbody tr th:only-of-type {\n",
       "        vertical-align: middle;\n",
       "    }\n",
       "\n",
       "    .dataframe tbody tr th {\n",
       "        vertical-align: top;\n",
       "    }\n",
       "\n",
       "    .dataframe thead th {\n",
       "        text-align: right;\n",
       "    }\n",
       "</style>\n",
       "<table border=\"1\" class=\"dataframe\">\n",
       "  <thead>\n",
       "    <tr style=\"text-align: right;\">\n",
       "      <th></th>\n",
       "      <th></th>\n",
       "      <th>total_of_sales</th>\n",
       "    </tr>\n",
       "    <tr>\n",
       "      <th>year_of_release</th>\n",
       "      <th>platform</th>\n",
       "      <th></th>\n",
       "    </tr>\n",
       "  </thead>\n",
       "  <tbody>\n",
       "    <tr>\n",
       "      <td rowspan=\"5\" valign=\"top\">2006</td>\n",
       "      <td>Wii</td>\n",
       "      <td>137.15</td>\n",
       "    </tr>\n",
       "    <tr>\n",
       "      <td>DS</td>\n",
       "      <td>119.81</td>\n",
       "    </tr>\n",
       "    <tr>\n",
       "      <td>PS2</td>\n",
       "      <td>103.42</td>\n",
       "    </tr>\n",
       "    <tr>\n",
       "      <td>PSP</td>\n",
       "      <td>55.32</td>\n",
       "    </tr>\n",
       "    <tr>\n",
       "      <td>X360</td>\n",
       "      <td>51.62</td>\n",
       "    </tr>\n",
       "  </tbody>\n",
       "</table>\n",
       "</div>"
      ],
      "text/plain": [
       "                          total_of_sales\n",
       "year_of_release platform                \n",
       "2006            Wii               137.15\n",
       "                DS                119.81\n",
       "                PS2               103.42\n",
       "                PSP                55.32\n",
       "                X360               51.62"
      ]
     },
     "metadata": {},
     "output_type": "display_data"
    },
    {
     "data": {
      "text/html": [
       "<div>\n",
       "<style scoped>\n",
       "    .dataframe tbody tr th:only-of-type {\n",
       "        vertical-align: middle;\n",
       "    }\n",
       "\n",
       "    .dataframe tbody tr th {\n",
       "        vertical-align: top;\n",
       "    }\n",
       "\n",
       "    .dataframe thead th {\n",
       "        text-align: right;\n",
       "    }\n",
       "</style>\n",
       "<table border=\"1\" class=\"dataframe\">\n",
       "  <thead>\n",
       "    <tr style=\"text-align: right;\">\n",
       "      <th></th>\n",
       "      <th></th>\n",
       "      <th>total_of_sales</th>\n",
       "    </tr>\n",
       "    <tr>\n",
       "      <th>year_of_release</th>\n",
       "      <th>platform</th>\n",
       "      <th></th>\n",
       "    </tr>\n",
       "  </thead>\n",
       "  <tbody>\n",
       "    <tr>\n",
       "      <td rowspan=\"5\" valign=\"top\">2007</td>\n",
       "      <td>Wii</td>\n",
       "      <td>152.77</td>\n",
       "    </tr>\n",
       "    <tr>\n",
       "      <td>DS</td>\n",
       "      <td>146.94</td>\n",
       "    </tr>\n",
       "    <tr>\n",
       "      <td>X360</td>\n",
       "      <td>95.41</td>\n",
       "    </tr>\n",
       "    <tr>\n",
       "      <td>PS2</td>\n",
       "      <td>75.99</td>\n",
       "    </tr>\n",
       "    <tr>\n",
       "      <td>PS3</td>\n",
       "      <td>73.19</td>\n",
       "    </tr>\n",
       "  </tbody>\n",
       "</table>\n",
       "</div>"
      ],
      "text/plain": [
       "                          total_of_sales\n",
       "year_of_release platform                \n",
       "2007            Wii               152.77\n",
       "                DS                146.94\n",
       "                X360               95.41\n",
       "                PS2                75.99\n",
       "                PS3                73.19"
      ]
     },
     "metadata": {},
     "output_type": "display_data"
    },
    {
     "data": {
      "text/html": [
       "<div>\n",
       "<style scoped>\n",
       "    .dataframe tbody tr th:only-of-type {\n",
       "        vertical-align: middle;\n",
       "    }\n",
       "\n",
       "    .dataframe tbody tr th {\n",
       "        vertical-align: top;\n",
       "    }\n",
       "\n",
       "    .dataframe thead th {\n",
       "        text-align: right;\n",
       "    }\n",
       "</style>\n",
       "<table border=\"1\" class=\"dataframe\">\n",
       "  <thead>\n",
       "    <tr style=\"text-align: right;\">\n",
       "      <th></th>\n",
       "      <th></th>\n",
       "      <th>total_of_sales</th>\n",
       "    </tr>\n",
       "    <tr>\n",
       "      <th>year_of_release</th>\n",
       "      <th>platform</th>\n",
       "      <th></th>\n",
       "    </tr>\n",
       "  </thead>\n",
       "  <tbody>\n",
       "    <tr>\n",
       "      <td rowspan=\"5\" valign=\"top\">2008</td>\n",
       "      <td>Wii</td>\n",
       "      <td>171.32</td>\n",
       "    </tr>\n",
       "    <tr>\n",
       "      <td>DS</td>\n",
       "      <td>145.31</td>\n",
       "    </tr>\n",
       "    <tr>\n",
       "      <td>X360</td>\n",
       "      <td>135.26</td>\n",
       "    </tr>\n",
       "    <tr>\n",
       "      <td>PS3</td>\n",
       "      <td>118.52</td>\n",
       "    </tr>\n",
       "    <tr>\n",
       "      <td>PS2</td>\n",
       "      <td>53.90</td>\n",
       "    </tr>\n",
       "  </tbody>\n",
       "</table>\n",
       "</div>"
      ],
      "text/plain": [
       "                          total_of_sales\n",
       "year_of_release platform                \n",
       "2008            Wii               171.32\n",
       "                DS                145.31\n",
       "                X360              135.26\n",
       "                PS3               118.52\n",
       "                PS2                53.90"
      ]
     },
     "metadata": {},
     "output_type": "display_data"
    },
    {
     "data": {
      "text/html": [
       "<div>\n",
       "<style scoped>\n",
       "    .dataframe tbody tr th:only-of-type {\n",
       "        vertical-align: middle;\n",
       "    }\n",
       "\n",
       "    .dataframe tbody tr th {\n",
       "        vertical-align: top;\n",
       "    }\n",
       "\n",
       "    .dataframe thead th {\n",
       "        text-align: right;\n",
       "    }\n",
       "</style>\n",
       "<table border=\"1\" class=\"dataframe\">\n",
       "  <thead>\n",
       "    <tr style=\"text-align: right;\">\n",
       "      <th></th>\n",
       "      <th></th>\n",
       "      <th>total_of_sales</th>\n",
       "    </tr>\n",
       "    <tr>\n",
       "      <th>year_of_release</th>\n",
       "      <th>platform</th>\n",
       "      <th></th>\n",
       "    </tr>\n",
       "  </thead>\n",
       "  <tbody>\n",
       "    <tr>\n",
       "      <td rowspan=\"5\" valign=\"top\">2009</td>\n",
       "      <td>Wii</td>\n",
       "      <td>206.97</td>\n",
       "    </tr>\n",
       "    <tr>\n",
       "      <td>PS3</td>\n",
       "      <td>130.93</td>\n",
       "    </tr>\n",
       "    <tr>\n",
       "      <td>X360</td>\n",
       "      <td>120.29</td>\n",
       "    </tr>\n",
       "    <tr>\n",
       "      <td>DS</td>\n",
       "      <td>119.54</td>\n",
       "    </tr>\n",
       "    <tr>\n",
       "      <td>PSP</td>\n",
       "      <td>37.78</td>\n",
       "    </tr>\n",
       "  </tbody>\n",
       "</table>\n",
       "</div>"
      ],
      "text/plain": [
       "                          total_of_sales\n",
       "year_of_release platform                \n",
       "2009            Wii               206.97\n",
       "                PS3               130.93\n",
       "                X360              120.29\n",
       "                DS                119.54\n",
       "                PSP                37.78"
      ]
     },
     "metadata": {},
     "output_type": "display_data"
    },
    {
     "data": {
      "text/html": [
       "<div>\n",
       "<style scoped>\n",
       "    .dataframe tbody tr th:only-of-type {\n",
       "        vertical-align: middle;\n",
       "    }\n",
       "\n",
       "    .dataframe tbody tr th {\n",
       "        vertical-align: top;\n",
       "    }\n",
       "\n",
       "    .dataframe thead th {\n",
       "        text-align: right;\n",
       "    }\n",
       "</style>\n",
       "<table border=\"1\" class=\"dataframe\">\n",
       "  <thead>\n",
       "    <tr style=\"text-align: right;\">\n",
       "      <th></th>\n",
       "      <th></th>\n",
       "      <th>total_of_sales</th>\n",
       "    </tr>\n",
       "    <tr>\n",
       "      <th>year_of_release</th>\n",
       "      <th>platform</th>\n",
       "      <th></th>\n",
       "    </tr>\n",
       "  </thead>\n",
       "  <tbody>\n",
       "    <tr>\n",
       "      <td rowspan=\"5\" valign=\"top\">2010</td>\n",
       "      <td>X360</td>\n",
       "      <td>170.03</td>\n",
       "    </tr>\n",
       "    <tr>\n",
       "      <td>PS3</td>\n",
       "      <td>142.17</td>\n",
       "    </tr>\n",
       "    <tr>\n",
       "      <td>Wii</td>\n",
       "      <td>127.95</td>\n",
       "    </tr>\n",
       "    <tr>\n",
       "      <td>DS</td>\n",
       "      <td>85.02</td>\n",
       "    </tr>\n",
       "    <tr>\n",
       "      <td>PSP</td>\n",
       "      <td>35.04</td>\n",
       "    </tr>\n",
       "  </tbody>\n",
       "</table>\n",
       "</div>"
      ],
      "text/plain": [
       "                          total_of_sales\n",
       "year_of_release platform                \n",
       "2010            X360              170.03\n",
       "                PS3               142.17\n",
       "                Wii               127.95\n",
       "                DS                 85.02\n",
       "                PSP                35.04"
      ]
     },
     "metadata": {},
     "output_type": "display_data"
    },
    {
     "data": {
      "text/html": [
       "<div>\n",
       "<style scoped>\n",
       "    .dataframe tbody tr th:only-of-type {\n",
       "        vertical-align: middle;\n",
       "    }\n",
       "\n",
       "    .dataframe tbody tr th {\n",
       "        vertical-align: top;\n",
       "    }\n",
       "\n",
       "    .dataframe thead th {\n",
       "        text-align: right;\n",
       "    }\n",
       "</style>\n",
       "<table border=\"1\" class=\"dataframe\">\n",
       "  <thead>\n",
       "    <tr style=\"text-align: right;\">\n",
       "      <th></th>\n",
       "      <th></th>\n",
       "      <th>total_of_sales</th>\n",
       "    </tr>\n",
       "    <tr>\n",
       "      <th>year_of_release</th>\n",
       "      <th>platform</th>\n",
       "      <th></th>\n",
       "    </tr>\n",
       "  </thead>\n",
       "  <tbody>\n",
       "    <tr>\n",
       "      <td rowspan=\"5\" valign=\"top\">2011</td>\n",
       "      <td>PS3</td>\n",
       "      <td>156.78</td>\n",
       "    </tr>\n",
       "    <tr>\n",
       "      <td>X360</td>\n",
       "      <td>143.84</td>\n",
       "    </tr>\n",
       "    <tr>\n",
       "      <td>3DS</td>\n",
       "      <td>63.20</td>\n",
       "    </tr>\n",
       "    <tr>\n",
       "      <td>Wii</td>\n",
       "      <td>59.65</td>\n",
       "    </tr>\n",
       "    <tr>\n",
       "      <td>PC</td>\n",
       "      <td>35.03</td>\n",
       "    </tr>\n",
       "  </tbody>\n",
       "</table>\n",
       "</div>"
      ],
      "text/plain": [
       "                          total_of_sales\n",
       "year_of_release platform                \n",
       "2011            PS3               156.78\n",
       "                X360              143.84\n",
       "                3DS                63.20\n",
       "                Wii                59.65\n",
       "                PC                 35.03"
      ]
     },
     "metadata": {},
     "output_type": "display_data"
    },
    {
     "data": {
      "text/html": [
       "<div>\n",
       "<style scoped>\n",
       "    .dataframe tbody tr th:only-of-type {\n",
       "        vertical-align: middle;\n",
       "    }\n",
       "\n",
       "    .dataframe tbody tr th {\n",
       "        vertical-align: top;\n",
       "    }\n",
       "\n",
       "    .dataframe thead th {\n",
       "        text-align: right;\n",
       "    }\n",
       "</style>\n",
       "<table border=\"1\" class=\"dataframe\">\n",
       "  <thead>\n",
       "    <tr style=\"text-align: right;\">\n",
       "      <th></th>\n",
       "      <th></th>\n",
       "      <th>total_of_sales</th>\n",
       "    </tr>\n",
       "    <tr>\n",
       "      <th>year_of_release</th>\n",
       "      <th>platform</th>\n",
       "      <th></th>\n",
       "    </tr>\n",
       "  </thead>\n",
       "  <tbody>\n",
       "    <tr>\n",
       "      <td rowspan=\"5\" valign=\"top\">2012</td>\n",
       "      <td>PS3</td>\n",
       "      <td>107.36</td>\n",
       "    </tr>\n",
       "    <tr>\n",
       "      <td>X360</td>\n",
       "      <td>99.74</td>\n",
       "    </tr>\n",
       "    <tr>\n",
       "      <td>3DS</td>\n",
       "      <td>51.36</td>\n",
       "    </tr>\n",
       "    <tr>\n",
       "      <td>PC</td>\n",
       "      <td>23.22</td>\n",
       "    </tr>\n",
       "    <tr>\n",
       "      <td>Wii</td>\n",
       "      <td>21.71</td>\n",
       "    </tr>\n",
       "  </tbody>\n",
       "</table>\n",
       "</div>"
      ],
      "text/plain": [
       "                          total_of_sales\n",
       "year_of_release platform                \n",
       "2012            PS3               107.36\n",
       "                X360               99.74\n",
       "                3DS                51.36\n",
       "                PC                 23.22\n",
       "                Wii                21.71"
      ]
     },
     "metadata": {},
     "output_type": "display_data"
    },
    {
     "data": {
      "text/html": [
       "<div>\n",
       "<style scoped>\n",
       "    .dataframe tbody tr th:only-of-type {\n",
       "        vertical-align: middle;\n",
       "    }\n",
       "\n",
       "    .dataframe tbody tr th {\n",
       "        vertical-align: top;\n",
       "    }\n",
       "\n",
       "    .dataframe thead th {\n",
       "        text-align: right;\n",
       "    }\n",
       "</style>\n",
       "<table border=\"1\" class=\"dataframe\">\n",
       "  <thead>\n",
       "    <tr style=\"text-align: right;\">\n",
       "      <th></th>\n",
       "      <th></th>\n",
       "      <th>total_of_sales</th>\n",
       "    </tr>\n",
       "    <tr>\n",
       "      <th>year_of_release</th>\n",
       "      <th>platform</th>\n",
       "      <th></th>\n",
       "    </tr>\n",
       "  </thead>\n",
       "  <tbody>\n",
       "    <tr>\n",
       "      <td rowspan=\"5\" valign=\"top\">2013</td>\n",
       "      <td>PS3</td>\n",
       "      <td>113.25</td>\n",
       "    </tr>\n",
       "    <tr>\n",
       "      <td>X360</td>\n",
       "      <td>88.58</td>\n",
       "    </tr>\n",
       "    <tr>\n",
       "      <td>3DS</td>\n",
       "      <td>56.57</td>\n",
       "    </tr>\n",
       "    <tr>\n",
       "      <td>PS4</td>\n",
       "      <td>25.99</td>\n",
       "    </tr>\n",
       "    <tr>\n",
       "      <td>WiiU</td>\n",
       "      <td>21.65</td>\n",
       "    </tr>\n",
       "  </tbody>\n",
       "</table>\n",
       "</div>"
      ],
      "text/plain": [
       "                          total_of_sales\n",
       "year_of_release platform                \n",
       "2013            PS3               113.25\n",
       "                X360               88.58\n",
       "                3DS                56.57\n",
       "                PS4                25.99\n",
       "                WiiU               21.65"
      ]
     },
     "metadata": {},
     "output_type": "display_data"
    },
    {
     "data": {
      "text/html": [
       "<div>\n",
       "<style scoped>\n",
       "    .dataframe tbody tr th:only-of-type {\n",
       "        vertical-align: middle;\n",
       "    }\n",
       "\n",
       "    .dataframe tbody tr th {\n",
       "        vertical-align: top;\n",
       "    }\n",
       "\n",
       "    .dataframe thead th {\n",
       "        text-align: right;\n",
       "    }\n",
       "</style>\n",
       "<table border=\"1\" class=\"dataframe\">\n",
       "  <thead>\n",
       "    <tr style=\"text-align: right;\">\n",
       "      <th></th>\n",
       "      <th></th>\n",
       "      <th>total_of_sales</th>\n",
       "    </tr>\n",
       "    <tr>\n",
       "      <th>year_of_release</th>\n",
       "      <th>platform</th>\n",
       "      <th></th>\n",
       "    </tr>\n",
       "  </thead>\n",
       "  <tbody>\n",
       "    <tr>\n",
       "      <td rowspan=\"5\" valign=\"top\">2014</td>\n",
       "      <td>PS4</td>\n",
       "      <td>100.00</td>\n",
       "    </tr>\n",
       "    <tr>\n",
       "      <td>XOne</td>\n",
       "      <td>54.07</td>\n",
       "    </tr>\n",
       "    <tr>\n",
       "      <td>PS3</td>\n",
       "      <td>47.76</td>\n",
       "    </tr>\n",
       "    <tr>\n",
       "      <td>3DS</td>\n",
       "      <td>43.76</td>\n",
       "    </tr>\n",
       "    <tr>\n",
       "      <td>X360</td>\n",
       "      <td>34.74</td>\n",
       "    </tr>\n",
       "  </tbody>\n",
       "</table>\n",
       "</div>"
      ],
      "text/plain": [
       "                          total_of_sales\n",
       "year_of_release platform                \n",
       "2014            PS4               100.00\n",
       "                XOne               54.07\n",
       "                PS3                47.76\n",
       "                3DS                43.76\n",
       "                X360               34.74"
      ]
     },
     "metadata": {},
     "output_type": "display_data"
    },
    {
     "data": {
      "text/html": [
       "<div>\n",
       "<style scoped>\n",
       "    .dataframe tbody tr th:only-of-type {\n",
       "        vertical-align: middle;\n",
       "    }\n",
       "\n",
       "    .dataframe tbody tr th {\n",
       "        vertical-align: top;\n",
       "    }\n",
       "\n",
       "    .dataframe thead th {\n",
       "        text-align: right;\n",
       "    }\n",
       "</style>\n",
       "<table border=\"1\" class=\"dataframe\">\n",
       "  <thead>\n",
       "    <tr style=\"text-align: right;\">\n",
       "      <th></th>\n",
       "      <th></th>\n",
       "      <th>total_of_sales</th>\n",
       "    </tr>\n",
       "    <tr>\n",
       "      <th>year_of_release</th>\n",
       "      <th>platform</th>\n",
       "      <th></th>\n",
       "    </tr>\n",
       "  </thead>\n",
       "  <tbody>\n",
       "    <tr>\n",
       "      <td rowspan=\"5\" valign=\"top\">2015</td>\n",
       "      <td>PS4</td>\n",
       "      <td>118.90</td>\n",
       "    </tr>\n",
       "    <tr>\n",
       "      <td>XOne</td>\n",
       "      <td>60.14</td>\n",
       "    </tr>\n",
       "    <tr>\n",
       "      <td>3DS</td>\n",
       "      <td>27.78</td>\n",
       "    </tr>\n",
       "    <tr>\n",
       "      <td>PS3</td>\n",
       "      <td>16.82</td>\n",
       "    </tr>\n",
       "    <tr>\n",
       "      <td>WiiU</td>\n",
       "      <td>16.35</td>\n",
       "    </tr>\n",
       "  </tbody>\n",
       "</table>\n",
       "</div>"
      ],
      "text/plain": [
       "                          total_of_sales\n",
       "year_of_release platform                \n",
       "2015            PS4               118.90\n",
       "                XOne               60.14\n",
       "                3DS                27.78\n",
       "                PS3                16.82\n",
       "                WiiU               16.35"
      ]
     },
     "metadata": {},
     "output_type": "display_data"
    },
    {
     "data": {
      "text/html": [
       "<div>\n",
       "<style scoped>\n",
       "    .dataframe tbody tr th:only-of-type {\n",
       "        vertical-align: middle;\n",
       "    }\n",
       "\n",
       "    .dataframe tbody tr th {\n",
       "        vertical-align: top;\n",
       "    }\n",
       "\n",
       "    .dataframe thead th {\n",
       "        text-align: right;\n",
       "    }\n",
       "</style>\n",
       "<table border=\"1\" class=\"dataframe\">\n",
       "  <thead>\n",
       "    <tr style=\"text-align: right;\">\n",
       "      <th></th>\n",
       "      <th></th>\n",
       "      <th>total_of_sales</th>\n",
       "    </tr>\n",
       "    <tr>\n",
       "      <th>year_of_release</th>\n",
       "      <th>platform</th>\n",
       "      <th></th>\n",
       "    </tr>\n",
       "  </thead>\n",
       "  <tbody>\n",
       "    <tr>\n",
       "      <td rowspan=\"5\" valign=\"top\">2016</td>\n",
       "      <td>PS4</td>\n",
       "      <td>69.25</td>\n",
       "    </tr>\n",
       "    <tr>\n",
       "      <td>XOne</td>\n",
       "      <td>26.15</td>\n",
       "    </tr>\n",
       "    <tr>\n",
       "      <td>3DS</td>\n",
       "      <td>15.14</td>\n",
       "    </tr>\n",
       "    <tr>\n",
       "      <td>PC</td>\n",
       "      <td>5.25</td>\n",
       "    </tr>\n",
       "    <tr>\n",
       "      <td>WiiU</td>\n",
       "      <td>4.60</td>\n",
       "    </tr>\n",
       "  </tbody>\n",
       "</table>\n",
       "</div>"
      ],
      "text/plain": [
       "                          total_of_sales\n",
       "year_of_release platform                \n",
       "2016            PS4                69.25\n",
       "                XOne               26.15\n",
       "                3DS                15.14\n",
       "                PC                  5.25\n",
       "                WiiU                4.60"
      ]
     },
     "metadata": {},
     "output_type": "display_data"
    }
   ],
   "source": [
    "for i in range (1994,2017):\n",
    "    display(sorted_data.query('year_of_release == @i').head(5))"
   ]
  },
  {
   "cell_type": "markdown",
   "metadata": {},
   "source": [
    "Хорошо видно, что нет каких-то бесменных лидеров, в первую очередь благодаря прогрессу и выходу новых платформ. Видно, что и динамика продаж носит не линейный характер, а в последние годы дела так и вообще идут так себе."
   ]
  },
  {
   "cell_type": "markdown",
   "metadata": {},
   "source": [
    "Создадим таблицу с суммарными продажами для каждой платформы, чтобы выбрать 10 наиболее успешных из них."
   ]
  },
  {
   "cell_type": "code",
   "execution_count": 25,
   "metadata": {},
   "outputs": [],
   "source": [
    "top_10_platforms = (data\n",
    " .pivot_table(index = 'platform'\n",
    "              , values = 'total_of_sales'\n",
    "              , aggfunc = 'sum')\n",
    " .sort_values(by = 'total_of_sales', ascending = False)\n",
    " .head(10)\n",
    " .reset_index())"
   ]
  },
  {
   "cell_type": "code",
   "execution_count": 26,
   "metadata": {
    "scrolled": false
   },
   "outputs": [
    {
     "data": {
      "text/html": [
       "<div>\n",
       "<style scoped>\n",
       "    .dataframe tbody tr th:only-of-type {\n",
       "        vertical-align: middle;\n",
       "    }\n",
       "\n",
       "    .dataframe tbody tr th {\n",
       "        vertical-align: top;\n",
       "    }\n",
       "\n",
       "    .dataframe thead th {\n",
       "        text-align: right;\n",
       "    }\n",
       "</style>\n",
       "<table border=\"1\" class=\"dataframe\">\n",
       "  <thead>\n",
       "    <tr style=\"text-align: right;\">\n",
       "      <th></th>\n",
       "      <th>platform</th>\n",
       "      <th>total_of_sales</th>\n",
       "    </tr>\n",
       "  </thead>\n",
       "  <tbody>\n",
       "    <tr>\n",
       "      <td>0</td>\n",
       "      <td>PS2</td>\n",
       "      <td>1233.56</td>\n",
       "    </tr>\n",
       "    <tr>\n",
       "      <td>1</td>\n",
       "      <td>X360</td>\n",
       "      <td>961.24</td>\n",
       "    </tr>\n",
       "    <tr>\n",
       "      <td>2</td>\n",
       "      <td>PS3</td>\n",
       "      <td>931.34</td>\n",
       "    </tr>\n",
       "    <tr>\n",
       "      <td>3</td>\n",
       "      <td>Wii</td>\n",
       "      <td>891.18</td>\n",
       "    </tr>\n",
       "    <tr>\n",
       "      <td>4</td>\n",
       "      <td>DS</td>\n",
       "      <td>802.76</td>\n",
       "    </tr>\n",
       "    <tr>\n",
       "      <td>5</td>\n",
       "      <td>PS</td>\n",
       "      <td>727.58</td>\n",
       "    </tr>\n",
       "    <tr>\n",
       "      <td>6</td>\n",
       "      <td>PS4</td>\n",
       "      <td>314.14</td>\n",
       "    </tr>\n",
       "    <tr>\n",
       "      <td>7</td>\n",
       "      <td>GBA</td>\n",
       "      <td>312.88</td>\n",
       "    </tr>\n",
       "    <tr>\n",
       "      <td>8</td>\n",
       "      <td>PSP</td>\n",
       "      <td>289.53</td>\n",
       "    </tr>\n",
       "    <tr>\n",
       "      <td>9</td>\n",
       "      <td>3DS</td>\n",
       "      <td>257.81</td>\n",
       "    </tr>\n",
       "  </tbody>\n",
       "</table>\n",
       "</div>"
      ],
      "text/plain": [
       "  platform  total_of_sales\n",
       "0      PS2         1233.56\n",
       "1     X360          961.24\n",
       "2      PS3          931.34\n",
       "3      Wii          891.18\n",
       "4       DS          802.76\n",
       "5       PS          727.58\n",
       "6      PS4          314.14\n",
       "7      GBA          312.88\n",
       "8      PSP          289.53\n",
       "9      3DS          257.81"
      ]
     },
     "metadata": {},
     "output_type": "display_data"
    }
   ],
   "source": [
    "display(top_10_platforms)"
   ]
  },
  {
   "cell_type": "markdown",
   "metadata": {},
   "source": [
    "Собственно, 10 наиболее успешных платформ с точки зрения продажи компьютерных игр. Забавно, что PC в этот список не попал, и, видимо, не последнюю роль в этом сыграли торренты и иже с ними) "
   ]
  },
  {
   "cell_type": "markdown",
   "metadata": {},
   "source": [
    "Построим график распределения продаж для этой десятки по годам."
   ]
  },
  {
   "cell_type": "code",
   "execution_count": 27,
   "metadata": {
    "scrolled": false
   },
   "outputs": [
    {
     "data": {
      "image/png": "[encoded data removed]",
      "text/plain": [
       "<Figure size 1152x576 with 1 Axes>"
      ]
     },
     "metadata": {
      "needs_background": "light"
     },
     "output_type": "display_data"
    }
   ],
   "source": [
    "import matplotlib.ticker as ticker\n",
    "\n",
    "fig, ax = plt.subplots()\n",
    "\n",
    "for i in top_10_platforms['platform']:\n",
    "    \n",
    "    x = sorted_data.reset_index().query('platform == @i')['year_of_release']\n",
    "    y = sorted_data.reset_index().query('platform == @i')['total_of_sales']\n",
    "    \n",
    "    ax.plot(x, y, label = i, marker = 'o')\n",
    "\n",
    "ax.legend(fontsize = 14, edgecolor = 'b')\n",
    "\n",
    "plt.minorticks_on()\n",
    "\n",
    "# Зададим внешний вид линий основной сетки:\n",
    "plt.grid(which='major',\n",
    "        color = 'k', \n",
    "        linewidth = 2)\n",
    "\n",
    "# Зададим внешний вид линий вспомогательной сетки:\n",
    "plt.grid(which='minor', \n",
    "        color = 'k', \n",
    "        linestyle = ':')\n",
    "\n",
    "ax.tick_params(axis = 'both', labelsize = 14)\n",
    "\n",
    "ax.set_xlabel('year_of_release', fontsize = 16)\n",
    "ax.set_ylabel('total_of_sales', fontsize = 16)\n",
    "\n",
    "fig.set_figwidth(16)\n",
    "fig.set_figheight(8)\n",
    "\n",
    "plt.title('Распределение по годам продаж компьютерных игр для топ-10 платформ', fontsize = 20)\n",
    "\n",
    "plt.show()"
   ]
  },
  {
   "cell_type": "markdown",
   "metadata": {},
   "source": [
    "Анализируя график, можно с легкостью заметить, что у каждой платформы есть свой период славы: пик максимальных продаж компьютерных игр для неё. Да и не только славы, но и жизни как таковой. Из представленных выше платформ видно, что на подъём до максимального уровня продаж компьютерных игр уходит 4-5 лет. На уход со сцены - подольше - 6-8 лет."
   ]
  },
  {
   "cell_type": "markdown",
   "metadata": {},
   "source": [
    "*3.3. Определение актуального периода. Выбор нескольких потенциально прибыльных платформ.* <a id=\"Step_3_3\"></a>"
   ]
  },
  {
   "cell_type": "markdown",
   "metadata": {},
   "source": [
    "На основании предыдущего графика, мы сделали вывод, что выход на максимум по продажам игр для платформы, как правило, составляет 4-5 лет. С учётом того, что нам предстоит делать прогноз на 2017 год, за актуальный период примем интервал с 2012 по 2016.\n",
    "\n",
    "Для выбора нескольких потенциально прибыльных платформ, определим наиболее успешные из них и построим график  аналогичный предыдущему для анализа динамики."
   ]
  },
  {
   "cell_type": "code",
   "execution_count": 28,
   "metadata": {},
   "outputs": [],
   "source": [
    "current_period_top_10_platforms = (data\n",
    "                       .query('year_of_release  > 2011')\n",
    "                       .pivot_table(index = 'platform'\n",
    "                                    , values = 'total_of_sales'\n",
    "                                    , aggfunc = 'sum')\n",
    "                       .sort_values(by = 'total_of_sales', ascending = False)\n",
    "                       .head(10)\n",
    "                       .reset_index())"
   ]
  },
  {
   "cell_type": "code",
   "execution_count": 29,
   "metadata": {
    "scrolled": false
   },
   "outputs": [
    {
     "data": {
      "text/html": [
       "<div>\n",
       "<style scoped>\n",
       "    .dataframe tbody tr th:only-of-type {\n",
       "        vertical-align: middle;\n",
       "    }\n",
       "\n",
       "    .dataframe tbody tr th {\n",
       "        vertical-align: top;\n",
       "    }\n",
       "\n",
       "    .dataframe thead th {\n",
       "        text-align: right;\n",
       "    }\n",
       "</style>\n",
       "<table border=\"1\" class=\"dataframe\">\n",
       "  <thead>\n",
       "    <tr style=\"text-align: right;\">\n",
       "      <th></th>\n",
       "      <th>platform</th>\n",
       "      <th>total_of_sales</th>\n",
       "    </tr>\n",
       "  </thead>\n",
       "  <tbody>\n",
       "    <tr>\n",
       "      <td>0</td>\n",
       "      <td>PS4</td>\n",
       "      <td>314.14</td>\n",
       "    </tr>\n",
       "    <tr>\n",
       "      <td>1</td>\n",
       "      <td>PS3</td>\n",
       "      <td>288.79</td>\n",
       "    </tr>\n",
       "    <tr>\n",
       "      <td>2</td>\n",
       "      <td>X360</td>\n",
       "      <td>236.54</td>\n",
       "    </tr>\n",
       "    <tr>\n",
       "      <td>3</td>\n",
       "      <td>3DS</td>\n",
       "      <td>194.61</td>\n",
       "    </tr>\n",
       "    <tr>\n",
       "      <td>4</td>\n",
       "      <td>XOne</td>\n",
       "      <td>159.32</td>\n",
       "    </tr>\n",
       "    <tr>\n",
       "      <td>5</td>\n",
       "      <td>WiiU</td>\n",
       "      <td>82.19</td>\n",
       "    </tr>\n",
       "    <tr>\n",
       "      <td>6</td>\n",
       "      <td>PC</td>\n",
       "      <td>62.65</td>\n",
       "    </tr>\n",
       "    <tr>\n",
       "      <td>7</td>\n",
       "      <td>PSV</td>\n",
       "      <td>49.18</td>\n",
       "    </tr>\n",
       "    <tr>\n",
       "      <td>8</td>\n",
       "      <td>Wii</td>\n",
       "      <td>35.37</td>\n",
       "    </tr>\n",
       "    <tr>\n",
       "      <td>9</td>\n",
       "      <td>DS</td>\n",
       "      <td>12.55</td>\n",
       "    </tr>\n",
       "  </tbody>\n",
       "</table>\n",
       "</div>"
      ],
      "text/plain": [
       "  platform  total_of_sales\n",
       "0      PS4          314.14\n",
       "1      PS3          288.79\n",
       "2     X360          236.54\n",
       "3      3DS          194.61\n",
       "4     XOne          159.32\n",
       "5     WiiU           82.19\n",
       "6       PC           62.65\n",
       "7      PSV           49.18\n",
       "8      Wii           35.37\n",
       "9       DS           12.55"
      ]
     },
     "execution_count": 29,
     "metadata": {},
     "output_type": "execute_result"
    }
   ],
   "source": [
    "current_period_top_10_platforms"
   ]
  },
  {
   "cell_type": "markdown",
   "metadata": {},
   "source": [
    "Десятка лидеров несколько изменилась. Оценим визуально эти изменения с помощью графика."
   ]
  },
  {
   "cell_type": "code",
   "execution_count": 30,
   "metadata": {},
   "outputs": [
    {
     "data": {
      "image/png": "[encoded data removed]",
      "text/plain": [
       "<Figure size 1152x576 with 1 Axes>"
      ]
     },
     "metadata": {
      "needs_background": "light"
     },
     "output_type": "display_data"
    }
   ],
   "source": [
    "sorted_data_since_2012 = sorted_data.reset_index().query('year_of_release > 2011')\n",
    "\n",
    "fig, ax = plt.subplots()\n",
    "\n",
    "for i in current_period_top_10_platforms['platform']:\n",
    "    \n",
    "    x = (sorted_data_since_2012.query('platform == @i')['year_of_release'])\n",
    "    y = (sorted_data_since_2012.query('platform == @i')['total_of_sales'])\n",
    "    \n",
    "    ax.plot(x, y, label = i, marker = 'o')\n",
    "\n",
    "ax.legend(fontsize = 14, edgecolor = 'b')\n",
    "\n",
    "plt.minorticks_on()\n",
    "\n",
    "# Зададим внешний вид линий основной сетки:\n",
    "plt.grid(which='major',\n",
    "        color = 'k', \n",
    "        linewidth = 2)\n",
    "\n",
    "# Зададим внешний вид линий вспомогательной сетки:\n",
    "plt.grid(which='minor', \n",
    "        color = 'k', \n",
    "        linestyle = ':')\n",
    "\n",
    "ax.tick_params(axis = 'both', labelsize = 14)\n",
    "ax.xaxis.set_major_locator(ticker.MultipleLocator(1))\n",
    "\n",
    "ax.set_xlabel('year_of_release', fontsize = 16)\n",
    "ax.set_ylabel('total_of_sales', fontsize = 16)\n",
    "\n",
    "fig.set_figwidth(16)\n",
    "fig.set_figheight(8)\n",
    "\n",
    "plt.title('Распределение по годам продаж компьютерных игр для топ-10 платформ c 2012 года'\n",
    "          , fontsize = 20)\n",
    "\n",
    "plt.show()"
   ]
  },
  {
   "cell_type": "markdown",
   "metadata": {},
   "source": [
    "Итак. Проанализируем полученный результат.\n",
    "\n",
    "Первое, на что хотелось бы обратить внимание, это 4 платформы: `PS4`,`PS3`,`XOne`, `X360`. Мы имеем дело с двумя сериями игровых консолей: `Playstaion` и `Xbox`. `PS4` это более новая, чем `PS3`, модель семейства `Playstaion`. `XOne` более новая, чем `X360`, модель семейства `Xbox`. На графике хорошо видно, что с момента появления новой линейки, продажи игр для старых моделей неуклонно снижаются, а для новых - растут. Снижение продаж в 2016 для `PS4`, `XOne`, далеко не факт, что является первым звоночком безальтернативно нисходящего тренда. На примере графика `Распределение по годам продаж компьютерных игр для топ-10 платформ` хорошо видно, что довольно часто на фоне общего роста, снижения показателей иногда случаются, в целом не меняя тренда. \n",
    "\n",
    "Остальные платформы имеют уверенное снижение результатов из года в год. В том числе и `3DS`, которая вроде бы и показала уверенное третье место за 2016 год, но с учётом предыдущих темпов падения, в 2017 году вероятней всего окажется в команде текущих аутсайдеров.\n",
    "\n",
    "Да, от 1 млн до 5 млн это тоже не саме маленькие цифры, но если мы говорим о прогнозе будущих лидеров по количеству проданных игр, которые при этом могут ещё продемонстрировать и рост по сравнению с предыдущим годом, то это однозначно платформы `PS4`, `XOne`."
   ]
  },
  {
   "cell_type": "markdown",
   "metadata": {},
   "source": [
    "*3.4. Диаграмма размаха по глобальным продажам игр в разбивке по платформам.* <a id=\"Step_3_4\"></a>"
   ]
  },
  {
   "cell_type": "markdown",
   "metadata": {},
   "source": [
    "Возьмём топ 10 платформ и построим по ним диаграммы размаха. "
   ]
  },
  {
   "cell_type": "code",
   "execution_count": 31,
   "metadata": {},
   "outputs": [
    {
     "data": {
      "image/png": "[encoded data removed]",
      "text/plain": [
       "<Figure size 1440x864 with 1 Axes>"
      ]
     },
     "metadata": {
      "needs_background": "light"
     },
     "output_type": "display_data"
    }
   ],
   "source": [
    "platforms = top_10_platforms['platform']\n",
    "sorted_data_of_top_10 = sorted_data.reset_index().query('platform in @platforms')\n",
    "\n",
    "fig, ax = plt.subplots(figsize=(20,12))\n",
    "\n",
    "ax = sns.boxplot(x= \"platform\", y=\"total_of_sales\", data = sorted_data_of_top_10)\n",
    "\n",
    "ax.tick_params(axis = 'both', labelsize = 14)\n",
    "\n",
    "ax.set_xlabel('platform', fontsize = 16)\n",
    "ax.set_ylabel('total_of_sales', fontsize = 16)\n",
    "\n",
    "plt.title('Диаграмма размаха по глобальным продажам игр в разбивке по платформам'\n",
    "          , fontsize = 20)\n",
    "\n",
    "plt.show()"
   ]
  },
  {
   "cell_type": "markdown",
   "metadata": {},
   "source": [
    "Если анализировать результат на всём имеющемся интервале, который мы определили как значимый, то сразу хотелось бы выделить линейку `Playstation`. Все платформы, кроме `PSP`, выглядят крайне успешными, а самая новая весьма перспективной, учитывая количество лет, прошедших с момента запуска, и характер распределения количества игр на это временном интервале. \n",
    "\n",
    "Распределения для `DS`, `X360`, `Wii` тоже выглядят весьма неплохо. Медианный отметки находятся достаточно высоко, что говорит нам о хороших продажах более чем на половине всего интервала. \n",
    "\n",
    "`PSP`, `GBA`, `3DS` - аутсайдеры нашего рейтинга. Звёзд с неба не хватали, но держались уверен в своё диапазоне, что и позволило им по суммарному количеству продаж попасть в десятку лучших платформ.  "
   ]
  },
  {
   "cell_type": "markdown",
   "metadata": {},
   "source": [
    "*Проведём аналогичный анализ для актуального интервала, что позволит нам также оценить распредление продаж по годам для более новых и перспективных платформ.*"
   ]
  },
  {
   "cell_type": "code",
   "execution_count": 32,
   "metadata": {},
   "outputs": [
    {
     "data": {
      "image/png": "[encoded data removed]",
      "text/plain": [
       "<Figure size 1440x864 with 1 Axes>"
      ]
     },
     "metadata": {
      "needs_background": "light"
     },
     "output_type": "display_data"
    }
   ],
   "source": [
    "platforms = current_period_top_10_platforms['platform']\n",
    "sorted_data_of_top_10 = sorted_data.reset_index().query('platform in @platforms')\n",
    "\n",
    "fig, ax = plt.subplots(figsize=(20,12))\n",
    "\n",
    "ax = sns.boxplot(x= \"platform\", y=\"total_of_sales\", data = sorted_data_of_top_10)\n",
    "\n",
    "ax.tick_params(axis = 'both', labelsize = 14)\n",
    "\n",
    "ax.set_xlabel('platform', fontsize = 16)\n",
    "ax.set_ylabel('total_of_sales', fontsize = 16)\n",
    "\n",
    "plt.title('Диаграмма размаха за период с 2012 года по глобальным продажам игр в разбивке по платформам'\n",
    "          , fontsize = 20)\n",
    "\n",
    "plt.show()"
   ]
  },
  {
   "cell_type": "markdown",
   "metadata": {},
   "source": [
    "Из новичков у нас `PC`, `PSV`, `WiiU`, `XOne` по сравнению с полным периодом. \n",
    "И если про `PC`, `PSV`, `WiiU` сказать особо нечего, потому что их небольшой разброс обусловлен в первую очередь окончанием своего цикла жизни (разве что кроме `PC` - тут целевой диапазон выходит за пределы только лишь игровой индустрии), то `XOne`, благодаря своей относительной новизне, стоит немного особняком. Не самый плохой старт, небольшой разброс количества игр по годам, но явное отставание от своего основного конкурента ,`PS4`, с которым они появились и в один год и примерно с одного уровня проданных игр."
   ]
  },
  {
   "cell_type": "markdown",
   "metadata": {},
   "source": [
    "*3.5. Оценка влияния на продажи отзывов пользователей и критиков.* <a id=\"Step_3_5\"></a>"
   ]
  },
  {
   "cell_type": "markdown",
   "metadata": {},
   "source": [
    "За платформу, в рамках которой будем рассматривать влияние отзывов критиков и пользователей, возьмем `PS4`, как самую популярную за актуальный период и притом потенциально самую прибыльную, относительно продаж компьютерных игр, платформу на 2017 год. Создадим соотвествующий фрейм, в котором нас будут интересовать только строки с оценками."
   ]
  },
  {
   "cell_type": "markdown",
   "metadata": {},
   "source": [
    "Создадим фрейм для анализа данных за актуальный период (с 2012 по 2016)."
   ]
  },
  {
   "cell_type": "code",
   "execution_count": 33,
   "metadata": {},
   "outputs": [],
   "source": [
    "data_curr = data.query('year_of_release > 2011')"
   ]
  },
  {
   "cell_type": "code",
   "execution_count": 34,
   "metadata": {},
   "outputs": [],
   "source": [
    "data_PS4 = data_curr.query('platform == \"PS4\"').dropna(subset = ['critic_score','user_score'])"
   ]
  },
  {
   "cell_type": "markdown",
   "metadata": {},
   "source": [
    "Построим диаграммы рассеяния для пар `critic_score` - `total_of_sales` и `user_score` -`total_of_sales`. "
   ]
  },
  {
   "cell_type": "code",
   "execution_count": 35,
   "metadata": {},
   "outputs": [
    {
     "data": {
      "image/png": "[encoded data removed]",
      "text/plain": [
       "<Figure size 1008x576 with 1 Axes>"
      ]
     },
     "metadata": {
      "needs_background": "light"
     },
     "output_type": "display_data"
    }
   ],
   "source": [
    "fig, ax = plt.subplots(figsize=(14,8))\n",
    "\n",
    "ax.scatter(data_PS4['critic_score'], data_PS4['total_of_sales'], label = 'critic_score')\n",
    "\n",
    "# Для того, чтобы наглядно можно было сопоставить два рейтинга на одном графике, умножим \n",
    "# пользовательский рейтинг на 10.\n",
    "\n",
    "ax.scatter(data_PS4['user_score']*10, data_PS4['total_of_sales'], label = 'user_score' )\n",
    "\n",
    "ax.legend(fontsize = 14, edgecolor = 'b')\n",
    "\n",
    "ax.tick_params(axis = 'both', labelsize = 12)\n",
    "\n",
    "ax.set_xlabel('score', fontsize = 16)\n",
    "ax.set_ylabel('total_of_sales', fontsize = 16)\n",
    "\n",
    "plt.title('Диаграмма рассеяния между отзывами и количеством проданных игр (PS4)'\n",
    "          , fontsize = 18)\n",
    "\n",
    "plt.show()"
   ]
  },
  {
   "cell_type": "markdown",
   "metadata": {},
   "source": [
    "Как видно из графика: высокие оценки, что критиков, что пользователей далеко ещё не гарантия успеха. Оценки критиков при этом находятся чуть правее оценок пользователей. Это говорит нам о том, что критики склонны ставить рейтинг чуть выше чем пользователи."
   ]
  },
  {
   "cell_type": "markdown",
   "metadata": {},
   "source": [
    "Теперь посчитаем коэффициент Пирсона, чтобы получить более точную оценку взаимосвязи анализируемых параметров."
   ]
  },
  {
   "cell_type": "code",
   "execution_count": 36,
   "metadata": {},
   "outputs": [
    {
     "data": {
      "text/plain": [
       "0.41"
      ]
     },
     "execution_count": 36,
     "metadata": {},
     "output_type": "execute_result"
    }
   ],
   "source": [
    "round(data_PS4['critic_score'].corr(data_PS4['total_of_sales']),2)"
   ]
  },
  {
   "cell_type": "code",
   "execution_count": 37,
   "metadata": {},
   "outputs": [
    {
     "data": {
      "text/plain": [
       "-0.03"
      ]
     },
     "execution_count": 37,
     "metadata": {},
     "output_type": "execute_result"
    }
   ],
   "source": [
    "round(data_PS4['user_score'].corr(data_PS4['total_of_sales']),2)"
   ]
  },
  {
   "cell_type": "markdown",
   "metadata": {},
   "source": [
    "Коэффициенты Пирсона подтверждают наши выводы, сделанные на основе построенной диаграммы рассеяния. Для оценки критиков можно говорить о наличии определённого влияния на продажи. В случае с пользотелями не сильно погрешим против истины, если скажем, что какая-либо взаимосвязь с данными здесь отсутствует напрочь."
   ]
  },
  {
   "cell_type": "markdown",
   "metadata": {},
   "source": [
    "Для того, чтобы окончательно убедиться в справедливости сделанных выводов, проведём аналогичное исследование для платформ `XOne`, она хоть и не на высоте рейтинга, но является нашей второй перспективной платформой после `PS4` на 2017 год, и возьмём ещё `PS3`, занимающую 2-ое место в нашем `current_period_top_10_platforms`."
   ]
  },
  {
   "cell_type": "markdown",
   "metadata": {},
   "source": [
    "#### `XOne`"
   ]
  },
  {
   "cell_type": "code",
   "execution_count": 38,
   "metadata": {},
   "outputs": [],
   "source": [
    "data_XOne = data_curr.query('platform == \"XOne\"').dropna(subset = ['critic_score'\n",
    "                                                                   ,'user_score'])"
   ]
  },
  {
   "cell_type": "code",
   "execution_count": 39,
   "metadata": {},
   "outputs": [
    {
     "data": {
      "image/png": "[encoded data removed]",
      "text/plain": [
       "<Figure size 1008x576 with 1 Axes>"
      ]
     },
     "metadata": {
      "needs_background": "light"
     },
     "output_type": "display_data"
    }
   ],
   "source": [
    "fig, ax = plt.subplots(figsize=(14,8))\n",
    "\n",
    "ax.scatter(data_XOne['critic_score'], data_XOne['total_of_sales'], label = 'critic_score')\n",
    "\n",
    "# Для того, чтобы наглядно можно было сопоставить два рейтинга на одном графике, умножим \n",
    "# пользовательский рейтинг на 10.\n",
    "\n",
    "ax.scatter(data_XOne['user_score']*10, data_XOne['total_of_sales'], label = 'user_score' )\n",
    "\n",
    "ax.legend(fontsize = 14, edgecolor = 'b')\n",
    "\n",
    "ax.tick_params(axis = 'both', labelsize = 12)\n",
    "\n",
    "ax.set_xlabel('score', fontsize = 16)\n",
    "ax.set_ylabel('total_of_sales', fontsize = 16)\n",
    "\n",
    "plt.title('Диаграмма рассеяния между отзывами и количеством проданных игр (XOne)'\n",
    "          , fontsize = 18)\n",
    "\n",
    "plt.show()"
   ]
  },
  {
   "cell_type": "code",
   "execution_count": 40,
   "metadata": {},
   "outputs": [
    {
     "data": {
      "text/plain": [
       "0.41"
      ]
     },
     "execution_count": 40,
     "metadata": {},
     "output_type": "execute_result"
    }
   ],
   "source": [
    "round(data_XOne['critic_score'] .corr(data_XOne['total_of_sales']),2)"
   ]
  },
  {
   "cell_type": "code",
   "execution_count": 41,
   "metadata": {},
   "outputs": [
    {
     "data": {
      "text/plain": [
       "-0.09"
      ]
     },
     "execution_count": 41,
     "metadata": {},
     "output_type": "execute_result"
    }
   ],
   "source": [
    "round(data_XOne['user_score'] .corr(data_XOne['total_of_sales']),2)"
   ]
  },
  {
   "cell_type": "markdown",
   "metadata": {},
   "source": [
    "Для `XOne` с критиками всё также, а вот в случае с пользователями даже появилась, пусть и совершенно не большая, но всё же обратная корреляция."
   ]
  },
  {
   "cell_type": "markdown",
   "metadata": {},
   "source": [
    "#### `PS3`"
   ]
  },
  {
   "cell_type": "code",
   "execution_count": 42,
   "metadata": {},
   "outputs": [],
   "source": [
    "data_PS3 = data_curr.query('platform == \"PS3\"').dropna(subset = ['critic_score'\n",
    "                                                                 ,'user_score'])"
   ]
  },
  {
   "cell_type": "code",
   "execution_count": 43,
   "metadata": {},
   "outputs": [
    {
     "data": {
      "image/png": "[encoded data removed]",
      "text/plain": [
       "<Figure size 1008x576 with 1 Axes>"
      ]
     },
     "metadata": {
      "needs_background": "light"
     },
     "output_type": "display_data"
    }
   ],
   "source": [
    "fig, ax = plt.subplots(figsize=(14,8))\n",
    "\n",
    "ax.scatter(data_PS3['critic_score'], data_PS3['total_of_sales'], label = 'critic_score')\n",
    "\n",
    "# Для того, чтобы наглядно можно было сопоставить два рейтинга на одном графике, умножим \n",
    "# пользовательский рейтинг на 10.\n",
    "\n",
    "ax.scatter(data_PS3['user_score']*10, data_PS3['total_of_sales'], label = 'user_score' )\n",
    "\n",
    "ax.legend(fontsize = 14, edgecolor = 'b')\n",
    "\n",
    "ax.tick_params(axis = 'both', labelsize = 12)\n",
    "\n",
    "ax.set_xlabel('score', fontsize = 16)\n",
    "ax.set_ylabel('total_of_sales', fontsize = 16)\n",
    "\n",
    "plt.title('Диаграмма рассеяния между отзывами и количеством проданных игр (PS3)'\n",
    "          , fontsize = 18)\n",
    "\n",
    "plt.show()"
   ]
  },
  {
   "cell_type": "code",
   "execution_count": 44,
   "metadata": {},
   "outputs": [
    {
     "data": {
      "text/plain": [
       "0.33"
      ]
     },
     "execution_count": 44,
     "metadata": {},
     "output_type": "execute_result"
    }
   ],
   "source": [
    "round(data_PS3['critic_score'] .corr(data_PS3['total_of_sales']),2)"
   ]
  },
  {
   "cell_type": "code",
   "execution_count": 45,
   "metadata": {},
   "outputs": [
    {
     "data": {
      "text/plain": [
       "0.0"
      ]
     },
     "execution_count": 45,
     "metadata": {},
     "output_type": "execute_result"
    }
   ],
   "source": [
    "round(data_PS3['user_score'] .corr(data_PS3['total_of_sales']),2)"
   ]
  },
  {
   "cell_type": "markdown",
   "metadata": {},
   "source": [
    "И `PS3` не стала исключением. Всё плюс-минус в том же диапазоне."
   ]
  },
  {
   "cell_type": "markdown",
   "metadata": {},
   "source": [
    "Рассмотрев три платформы `PS4`, `XOne`, `PS3` на предмет наличия зависимости между продажами и оценкой, мы можем с уверенностью утверждать, что о какой-то корреляции и влиянии есть смысл говорить для оценки критиков `critic_score` и продаж `total_of_sales`, в случае же с оценками пользователей `user_score` и продажами `total_of_sales` о какой-либо взаимосвязи говорить не приходится. "
   ]
  },
  {
   "cell_type": "markdown",
   "metadata": {},
   "source": [
    "Остаётся, конечно, вопрос: то ли это компания выпускает стоящую игру и критики не редко попадают в рынок своей оценкой, то ли рынок попадает в критиков, частенько ориентируясь на их мнение) Скорее всего, как всегда, истина где-то посередине, со смещением чуть в сторону первой версии, судя по нашим данным) Тем не менее, я бы предложил компаниям не оставлять совсем без внимания, пусть и не то что бы сильно выдающийся, но всё таки рычаг, и с критиками на той или иной основе работать, так сказать) \n",
    "\n",
    "Мысль, что называется, на поверхности, но даже в рамках нашей работы сложно пройти мимо))"
   ]
  },
  {
   "cell_type": "markdown",
   "metadata": {},
   "source": [
    "*3.7. Анализ распределения игр по жанрам.* <a id=\"Step_3_7\"></a>"
   ]
  },
  {
   "cell_type": "markdown",
   "metadata": {},
   "source": [
    "Оценим общее распределение игр по жанрам."
   ]
  },
  {
   "cell_type": "code",
   "execution_count": 46,
   "metadata": {},
   "outputs": [
    {
     "data": {
      "text/plain": [
       "Action          1031\n",
       "Role-Playing     370\n",
       "Adventure        302\n",
       "Sports           267\n",
       "Shooter          235\n",
       "Misc             192\n",
       "Racing           115\n",
       "Fighting         109\n",
       "Platform          85\n",
       "Simulation        80\n",
       "Strategy          71\n",
       "Puzzle            28\n",
       "Name: genre, dtype: int64"
      ]
     },
     "execution_count": 46,
     "metadata": {},
     "output_type": "execute_result"
    }
   ],
   "source": [
    "data_curr['genre'].value_counts()"
   ]
  },
  {
   "cell_type": "markdown",
   "metadata": {},
   "source": [
    "Лидеры и аутсайдеры налицо. Жанр `Action` явный фаворит, а если учесть его под-жанры `Shooter`, `Platform`, `Fighting`, то разрыв с ближайшими конкурентами становится более чем ощутимым, а как следствие этого - вкусы целевой аудитории, более понятными."
   ]
  },
  {
   "cell_type": "markdown",
   "metadata": {},
   "source": [
    "Далее оценим в такой же последовательности располагаются жанры по количеству проданных копий, как и по количеству выпущенных игр. "
   ]
  },
  {
   "cell_type": "code",
   "execution_count": 47,
   "metadata": {},
   "outputs": [],
   "source": [
    "genre_top = (data_curr\n",
    " .pivot_table(index = 'genre'\n",
    "              , values = 'total_of_sales'\n",
    "              , aggfunc = 'sum')\n",
    " .sort_values(by = 'total_of_sales', ascending = False)\n",
    " .reset_index())"
   ]
  },
  {
   "cell_type": "code",
   "execution_count": 48,
   "metadata": {
    "scrolled": true
   },
   "outputs": [
    {
     "data": {
      "text/html": [
       "<div>\n",
       "<style scoped>\n",
       "    .dataframe tbody tr th:only-of-type {\n",
       "        vertical-align: middle;\n",
       "    }\n",
       "\n",
       "    .dataframe tbody tr th {\n",
       "        vertical-align: top;\n",
       "    }\n",
       "\n",
       "    .dataframe thead th {\n",
       "        text-align: right;\n",
       "    }\n",
       "</style>\n",
       "<table border=\"1\" class=\"dataframe\">\n",
       "  <thead>\n",
       "    <tr style=\"text-align: right;\">\n",
       "      <th></th>\n",
       "      <th>genre</th>\n",
       "      <th>total_of_sales</th>\n",
       "    </tr>\n",
       "  </thead>\n",
       "  <tbody>\n",
       "    <tr>\n",
       "      <td>0</td>\n",
       "      <td>Action</td>\n",
       "      <td>441.12</td>\n",
       "    </tr>\n",
       "    <tr>\n",
       "      <td>1</td>\n",
       "      <td>Shooter</td>\n",
       "      <td>304.73</td>\n",
       "    </tr>\n",
       "    <tr>\n",
       "      <td>2</td>\n",
       "      <td>Role-Playing</td>\n",
       "      <td>192.80</td>\n",
       "    </tr>\n",
       "    <tr>\n",
       "      <td>3</td>\n",
       "      <td>Sports</td>\n",
       "      <td>181.07</td>\n",
       "    </tr>\n",
       "    <tr>\n",
       "      <td>4</td>\n",
       "      <td>Misc</td>\n",
       "      <td>85.04</td>\n",
       "    </tr>\n",
       "    <tr>\n",
       "      <td>5</td>\n",
       "      <td>Platform</td>\n",
       "      <td>61.00</td>\n",
       "    </tr>\n",
       "    <tr>\n",
       "      <td>6</td>\n",
       "      <td>Racing</td>\n",
       "      <td>53.50</td>\n",
       "    </tr>\n",
       "    <tr>\n",
       "      <td>7</td>\n",
       "      <td>Fighting</td>\n",
       "      <td>44.49</td>\n",
       "    </tr>\n",
       "    <tr>\n",
       "      <td>8</td>\n",
       "      <td>Simulation</td>\n",
       "      <td>35.12</td>\n",
       "    </tr>\n",
       "    <tr>\n",
       "      <td>9</td>\n",
       "      <td>Adventure</td>\n",
       "      <td>29.43</td>\n",
       "    </tr>\n",
       "    <tr>\n",
       "      <td>10</td>\n",
       "      <td>Strategy</td>\n",
       "      <td>13.34</td>\n",
       "    </tr>\n",
       "    <tr>\n",
       "      <td>11</td>\n",
       "      <td>Puzzle</td>\n",
       "      <td>4.89</td>\n",
       "    </tr>\n",
       "  </tbody>\n",
       "</table>\n",
       "</div>"
      ],
      "text/plain": [
       "           genre  total_of_sales\n",
       "0         Action          441.12\n",
       "1        Shooter          304.73\n",
       "2   Role-Playing          192.80\n",
       "3         Sports          181.07\n",
       "4           Misc           85.04\n",
       "5       Platform           61.00\n",
       "6         Racing           53.50\n",
       "7       Fighting           44.49\n",
       "8     Simulation           35.12\n",
       "9      Adventure           29.43\n",
       "10      Strategy           13.34\n",
       "11        Puzzle            4.89"
      ]
     },
     "execution_count": 48,
     "metadata": {},
     "output_type": "execute_result"
    }
   ],
   "source": [
    "genre_top"
   ]
  },
  {
   "cell_type": "markdown",
   "metadata": {},
   "source": [
    "Из полученного списка видно, что много выпущенных игр, не всегда означает много проданных игр. Первая строчка не изменалась, там всё также жанр `Action`. Далее рейтинг притерпел некоторые изменения, но самым значительным подтверждением выдвинутого в начале тезиса является измение позиции жанра `Adventure`. С 3-ей позиции - почти в самый низ. Для сравнения на две строчки ниже стоящий в рейтинге по количеству выпущенных игр жанр `Shooter` , по количеству проданных копий занял второе место."
   ]
  },
  {
   "cell_type": "markdown",
   "metadata": {},
   "source": [
    "Проанализируем динамику изменения продаж по годам для самых популярных жанров. Возьмём первые 5 по продажам."
   ]
  },
  {
   "cell_type": "code",
   "execution_count": 49,
   "metadata": {},
   "outputs": [],
   "source": [
    "genre_top_5 = genre_top.head(5)"
   ]
  },
  {
   "cell_type": "markdown",
   "metadata": {},
   "source": [
    "Сгруппируем исходные данные по жанрам и годам."
   ]
  },
  {
   "cell_type": "code",
   "execution_count": 50,
   "metadata": {},
   "outputs": [],
   "source": [
    "sorted_data_genre = (data_curr\n",
    " .pivot_table(index = ['year_of_release', 'genre']\n",
    "              , values = 'total_of_sales'\n",
    "              , aggfunc = 'sum')\n",
    " .sort_values(by = ['year_of_release','total_of_sales'], ascending = [True, False]))"
   ]
  },
  {
   "cell_type": "markdown",
   "metadata": {},
   "source": [
    "Построим график изменения продаж для каждого жанра по годам."
   ]
  },
  {
   "cell_type": "code",
   "execution_count": 51,
   "metadata": {
    "scrolled": false
   },
   "outputs": [
    {
     "data": {
      "image/png": "[encoded data removed]",
      "text/plain": [
       "<Figure size 1152x576 with 1 Axes>"
      ]
     },
     "metadata": {
      "needs_background": "light"
     },
     "output_type": "display_data"
    }
   ],
   "source": [
    "fig, ax = plt.subplots()\n",
    "\n",
    "for i in genre_top_5['genre']:\n",
    "    \n",
    "    x = sorted_data_genre.reset_index().query('genre == @i')['year_of_release']\n",
    "    y = sorted_data_genre.reset_index().query('genre == @i')['total_of_sales']\n",
    "    \n",
    "    ax.plot(x, y, label = i, marker = 'o')\n",
    "\n",
    "ax.legend(fontsize = 14, edgecolor = 'b')\n",
    "\n",
    "plt.minorticks_on()\n",
    "\n",
    "# Зададим внешний вид линий основной сетки:\n",
    "plt.grid(which='major',\n",
    "        color = 'k', \n",
    "        linewidth = 2)\n",
    "\n",
    "# Зададим внешний вид линий вспомогательной сетки:\n",
    "plt.grid(which='minor', \n",
    "        color = 'k', \n",
    "        linestyle = ':')\n",
    "\n",
    "ax.tick_params(axis = 'both', labelsize = 14)\n",
    "ax.xaxis.set_major_locator(ticker.MultipleLocator(1))\n",
    "\n",
    "ax.set_xlabel('year_of_release', fontsize = 16)\n",
    "ax.set_ylabel('total_of_sales', fontsize = 16)\n",
    "\n",
    "fig.set_figwidth(16)\n",
    "fig.set_figheight(8)\n",
    "\n",
    "plt.title('Распределение по годам продаж компьютерных игр для топ-5 жанров', fontsize = 20)\n",
    "\n",
    "plt.show()"
   ]
  },
  {
   "cell_type": "markdown",
   "metadata": {},
   "source": [
    "Рассмотрим два потенциально наиболее прибыльных жанра: \n",
    "1. Жанр `Action`, который сильнее всех потерял в популярности за последние годы, но всё ещё находится достаточно высоко; \n",
    "2. И его под-жанр `Shooter`, который наоборот, за тот же временной интервал, не только уверенно сохранил набранные позиции, но и в 2016, на фоне общего спада, вышел в лидеры по продажам компьютерных игр."
   ]
  },
  {
   "cell_type": "markdown",
   "metadata": {},
   "source": [
    "#### Результат выполнения 3 шага \"Анализ данных\":\n",
    "   1. *Произведена оценка количества игр, выпущенных в разные годы. Отмечен рост продаж копий до 2008 года и спад после.*\n",
    "   2. *На основании анализа распределения по годам продаж компьютерных игр для каждой из платформ, сделали вывод, что цикл жизни платформы составлет как правило 10 - 13 лет, из которых 4-5 идут на подъём и достижение максимума продаж компьютерных игр, а 6-8 на постепенный спад этого показателя до полного прекращения поддержки данной платформы.*\n",
    "   3. *Определили актуальный период для прогноза на 2017 год наиболее прибыльных платформ. Наиболее перспективными выглядят платформы `PS4` и `XOne`.*\n",
    "   4. *Проанализировав данные по глобальным продажам игр в разбивке по платформам, сделали вывод, что линейка консолей `Playstation` является крайне успешной, за исключением `PSP`. Выдылели группу платформ с достойными показателями `DS`, `X360`, `Wii` и платформы со слабыми результатами `PSP`, `GBA`, `3DS`.\n",
    "   5. *Для актуального периода выделили перспективные платформы `PS4`, `XOne`. Подчеркнули разницу в динамике продаж игр, после почти одинакового старта, как по времени (2013), так и по уровню продаж.* \n",
    "   6. *Анализ влияние отзывов на продажи игр показал почти полностью отсутствующую взаимосвязь между отзывами игроков и продажами, и не очень сильную, но тем не менее связь, в случае с отзывами критиков.*\n",
    "   7. *Для метрики жанров было установлено, что большое количество выпущенных игр, далеко не гарантия большого количества игр проданных (жанр `Adventure` - наиболее яркий пример). Выделены наиболее перспективные жанры `Shooter` и `Action`.*"
   ]
  },
  {
   "cell_type": "markdown",
   "metadata": {},
   "source": [
    "### Шаг 4. Составление портрета пользователя для каждого региона. <a id=\"Step_4\"></a>"
   ]
  },
  {
   "cell_type": "markdown",
   "metadata": {},
   "source": [
    "*4.1. Самые популярные платформы (топ-5). Различия в долях продаж.* <a id=\"Step_4_1\"></a>"
   ]
  },
  {
   "cell_type": "markdown",
   "metadata": {},
   "source": [
    "*Северная Америка `NA`.*"
   ]
  },
  {
   "cell_type": "markdown",
   "metadata": {},
   "source": [
    "Посчитаем топ-5 самых популярных платформ для компьютерных игр."
   ]
  },
  {
   "cell_type": "code",
   "execution_count": 52,
   "metadata": {},
   "outputs": [],
   "source": [
    "top_5_platforms_NA = (data_curr\n",
    " .pivot_table(index = 'platform'\n",
    "              , values = 'na_sales'\n",
    "              , aggfunc = 'sum')\n",
    " .sort_values(by = 'na_sales', ascending = False)\n",
    " .reset_index()\n",
    " .head(5))"
   ]
  },
  {
   "cell_type": "code",
   "execution_count": 53,
   "metadata": {},
   "outputs": [
    {
     "data": {
      "text/html": [
       "<div>\n",
       "<style scoped>\n",
       "    .dataframe tbody tr th:only-of-type {\n",
       "        vertical-align: middle;\n",
       "    }\n",
       "\n",
       "    .dataframe tbody tr th {\n",
       "        vertical-align: top;\n",
       "    }\n",
       "\n",
       "    .dataframe thead th {\n",
       "        text-align: right;\n",
       "    }\n",
       "</style>\n",
       "<table border=\"1\" class=\"dataframe\">\n",
       "  <thead>\n",
       "    <tr style=\"text-align: right;\">\n",
       "      <th></th>\n",
       "      <th>platform</th>\n",
       "      <th>na_sales</th>\n",
       "    </tr>\n",
       "  </thead>\n",
       "  <tbody>\n",
       "    <tr>\n",
       "      <td>0</td>\n",
       "      <td>X360</td>\n",
       "      <td>140.05</td>\n",
       "    </tr>\n",
       "    <tr>\n",
       "      <td>1</td>\n",
       "      <td>PS4</td>\n",
       "      <td>108.74</td>\n",
       "    </tr>\n",
       "    <tr>\n",
       "      <td>2</td>\n",
       "      <td>PS3</td>\n",
       "      <td>103.38</td>\n",
       "    </tr>\n",
       "    <tr>\n",
       "      <td>3</td>\n",
       "      <td>XOne</td>\n",
       "      <td>93.12</td>\n",
       "    </tr>\n",
       "    <tr>\n",
       "      <td>4</td>\n",
       "      <td>3DS</td>\n",
       "      <td>55.31</td>\n",
       "    </tr>\n",
       "  </tbody>\n",
       "</table>\n",
       "</div>"
      ],
      "text/plain": [
       "  platform  na_sales\n",
       "0     X360    140.05\n",
       "1      PS4    108.74\n",
       "2      PS3    103.38\n",
       "3     XOne     93.12\n",
       "4      3DS     55.31"
      ]
     },
     "execution_count": 53,
     "metadata": {},
     "output_type": "execute_result"
    }
   ],
   "source": [
    "top_5_platforms_NA"
   ]
  },
  {
   "cell_type": "markdown",
   "metadata": {},
   "source": [
    "Теперь посчитаем долю каждой платформы относительно всего регионального рынка компьютерных игр."
   ]
  },
  {
   "cell_type": "code",
   "execution_count": 54,
   "metadata": {},
   "outputs": [],
   "source": [
    "na_sales_sum = data_curr['na_sales'].sum()"
   ]
  },
  {
   "cell_type": "code",
   "execution_count": 55,
   "metadata": {},
   "outputs": [],
   "source": [
    "top_5_platforms_NA['share_of_sales']= round(\n",
    "    (top_5_platforms_NA['na_sales'] / na_sales_sum),2)"
   ]
  },
  {
   "cell_type": "code",
   "execution_count": 56,
   "metadata": {},
   "outputs": [
    {
     "data": {
      "text/html": [
       "<div>\n",
       "<style scoped>\n",
       "    .dataframe tbody tr th:only-of-type {\n",
       "        vertical-align: middle;\n",
       "    }\n",
       "\n",
       "    .dataframe tbody tr th {\n",
       "        vertical-align: top;\n",
       "    }\n",
       "\n",
       "    .dataframe thead th {\n",
       "        text-align: right;\n",
       "    }\n",
       "</style>\n",
       "<table border=\"1\" class=\"dataframe\">\n",
       "  <thead>\n",
       "    <tr style=\"text-align: right;\">\n",
       "      <th></th>\n",
       "      <th>platform</th>\n",
       "      <th>na_sales</th>\n",
       "      <th>share_of_sales</th>\n",
       "    </tr>\n",
       "  </thead>\n",
       "  <tbody>\n",
       "    <tr>\n",
       "      <td>0</td>\n",
       "      <td>X360</td>\n",
       "      <td>140.05</td>\n",
       "      <td>0.24</td>\n",
       "    </tr>\n",
       "    <tr>\n",
       "      <td>1</td>\n",
       "      <td>PS4</td>\n",
       "      <td>108.74</td>\n",
       "      <td>0.18</td>\n",
       "    </tr>\n",
       "    <tr>\n",
       "      <td>2</td>\n",
       "      <td>PS3</td>\n",
       "      <td>103.38</td>\n",
       "      <td>0.17</td>\n",
       "    </tr>\n",
       "    <tr>\n",
       "      <td>3</td>\n",
       "      <td>XOne</td>\n",
       "      <td>93.12</td>\n",
       "      <td>0.16</td>\n",
       "    </tr>\n",
       "    <tr>\n",
       "      <td>4</td>\n",
       "      <td>3DS</td>\n",
       "      <td>55.31</td>\n",
       "      <td>0.09</td>\n",
       "    </tr>\n",
       "  </tbody>\n",
       "</table>\n",
       "</div>"
      ],
      "text/plain": [
       "  platform  na_sales  share_of_sales\n",
       "0     X360    140.05            0.24\n",
       "1      PS4    108.74            0.18\n",
       "2      PS3    103.38            0.17\n",
       "3     XOne     93.12            0.16\n",
       "4      3DS     55.31            0.09"
      ]
     },
     "execution_count": 56,
     "metadata": {},
     "output_type": "execute_result"
    }
   ],
   "source": [
    "top_5_platforms_NA"
   ]
  },
  {
   "cell_type": "markdown",
   "metadata": {},
   "source": [
    "Предпочтения игроков Северной Америки в региональном масштабе вполне наглядно демонстрирует полученная таблица."
   ]
  },
  {
   "cell_type": "markdown",
   "metadata": {},
   "source": [
    "*Европа `EU`.*"
   ]
  },
  {
   "cell_type": "markdown",
   "metadata": {},
   "source": [
    "Произведём полностью аналогичные расчёты."
   ]
  },
  {
   "cell_type": "code",
   "execution_count": 57,
   "metadata": {},
   "outputs": [],
   "source": [
    "top_5_platforms_EU = (data_curr\n",
    " .pivot_table(index = 'platform'\n",
    "              , values = 'eu_sales'\n",
    "              , aggfunc = 'sum')\n",
    " .sort_values(by = 'eu_sales', ascending = False)\n",
    " .reset_index()\n",
    " .head(5))"
   ]
  },
  {
   "cell_type": "code",
   "execution_count": 58,
   "metadata": {},
   "outputs": [
    {
     "data": {
      "text/html": [
       "<div>\n",
       "<style scoped>\n",
       "    .dataframe tbody tr th:only-of-type {\n",
       "        vertical-align: middle;\n",
       "    }\n",
       "\n",
       "    .dataframe tbody tr th {\n",
       "        vertical-align: top;\n",
       "    }\n",
       "\n",
       "    .dataframe thead th {\n",
       "        text-align: right;\n",
       "    }\n",
       "</style>\n",
       "<table border=\"1\" class=\"dataframe\">\n",
       "  <thead>\n",
       "    <tr style=\"text-align: right;\">\n",
       "      <th></th>\n",
       "      <th>platform</th>\n",
       "      <th>eu_sales</th>\n",
       "    </tr>\n",
       "  </thead>\n",
       "  <tbody>\n",
       "    <tr>\n",
       "      <td>0</td>\n",
       "      <td>PS4</td>\n",
       "      <td>141.09</td>\n",
       "    </tr>\n",
       "    <tr>\n",
       "      <td>1</td>\n",
       "      <td>PS3</td>\n",
       "      <td>106.86</td>\n",
       "    </tr>\n",
       "    <tr>\n",
       "      <td>2</td>\n",
       "      <td>X360</td>\n",
       "      <td>74.52</td>\n",
       "    </tr>\n",
       "    <tr>\n",
       "      <td>3</td>\n",
       "      <td>XOne</td>\n",
       "      <td>51.59</td>\n",
       "    </tr>\n",
       "    <tr>\n",
       "      <td>4</td>\n",
       "      <td>3DS</td>\n",
       "      <td>42.64</td>\n",
       "    </tr>\n",
       "  </tbody>\n",
       "</table>\n",
       "</div>"
      ],
      "text/plain": [
       "  platform  eu_sales\n",
       "0      PS4    141.09\n",
       "1      PS3    106.86\n",
       "2     X360     74.52\n",
       "3     XOne     51.59\n",
       "4      3DS     42.64"
      ]
     },
     "execution_count": 58,
     "metadata": {},
     "output_type": "execute_result"
    }
   ],
   "source": [
    "top_5_platforms_EU"
   ]
  },
  {
   "cell_type": "code",
   "execution_count": 59,
   "metadata": {},
   "outputs": [],
   "source": [
    "eu_sales_sum = data_curr['eu_sales'].sum()"
   ]
  },
  {
   "cell_type": "code",
   "execution_count": 60,
   "metadata": {},
   "outputs": [],
   "source": [
    "top_5_platforms_EU['share_of_sales']= round(\n",
    "    (top_5_platforms_EU['eu_sales'] / eu_sales_sum),2)"
   ]
  },
  {
   "cell_type": "code",
   "execution_count": 61,
   "metadata": {},
   "outputs": [
    {
     "data": {
      "text/html": [
       "<div>\n",
       "<style scoped>\n",
       "    .dataframe tbody tr th:only-of-type {\n",
       "        vertical-align: middle;\n",
       "    }\n",
       "\n",
       "    .dataframe tbody tr th {\n",
       "        vertical-align: top;\n",
       "    }\n",
       "\n",
       "    .dataframe thead th {\n",
       "        text-align: right;\n",
       "    }\n",
       "</style>\n",
       "<table border=\"1\" class=\"dataframe\">\n",
       "  <thead>\n",
       "    <tr style=\"text-align: right;\">\n",
       "      <th></th>\n",
       "      <th>platform</th>\n",
       "      <th>eu_sales</th>\n",
       "      <th>share_of_sales</th>\n",
       "    </tr>\n",
       "  </thead>\n",
       "  <tbody>\n",
       "    <tr>\n",
       "      <td>0</td>\n",
       "      <td>PS4</td>\n",
       "      <td>141.09</td>\n",
       "      <td>0.28</td>\n",
       "    </tr>\n",
       "    <tr>\n",
       "      <td>1</td>\n",
       "      <td>PS3</td>\n",
       "      <td>106.86</td>\n",
       "      <td>0.21</td>\n",
       "    </tr>\n",
       "    <tr>\n",
       "      <td>2</td>\n",
       "      <td>X360</td>\n",
       "      <td>74.52</td>\n",
       "      <td>0.15</td>\n",
       "    </tr>\n",
       "    <tr>\n",
       "      <td>3</td>\n",
       "      <td>XOne</td>\n",
       "      <td>51.59</td>\n",
       "      <td>0.10</td>\n",
       "    </tr>\n",
       "    <tr>\n",
       "      <td>4</td>\n",
       "      <td>3DS</td>\n",
       "      <td>42.64</td>\n",
       "      <td>0.08</td>\n",
       "    </tr>\n",
       "  </tbody>\n",
       "</table>\n",
       "</div>"
      ],
      "text/plain": [
       "  platform  eu_sales  share_of_sales\n",
       "0      PS4    141.09            0.28\n",
       "1      PS3    106.86            0.21\n",
       "2     X360     74.52            0.15\n",
       "3     XOne     51.59            0.10\n",
       "4      3DS     42.64            0.08"
      ]
     },
     "execution_count": 61,
     "metadata": {},
     "output_type": "execute_result"
    }
   ],
   "source": [
    "top_5_platforms_EU"
   ]
  },
  {
   "cell_type": "markdown",
   "metadata": {},
   "source": [
    "В Европе лидеры распределены несколько иначе, но состав тот же."
   ]
  },
  {
   "cell_type": "markdown",
   "metadata": {},
   "source": [
    "*Япония `JP`*."
   ]
  },
  {
   "cell_type": "code",
   "execution_count": 62,
   "metadata": {},
   "outputs": [],
   "source": [
    "top_5_platforms_JP = (data_curr\n",
    " .pivot_table(index = 'platform'\n",
    "              , values = 'jp_sales'\n",
    "              , aggfunc = 'sum')\n",
    " .sort_values(by = 'jp_sales', ascending = False)\n",
    " .reset_index()\n",
    " .head(5))"
   ]
  },
  {
   "cell_type": "code",
   "execution_count": 63,
   "metadata": {},
   "outputs": [
    {
     "data": {
      "text/html": [
       "<div>\n",
       "<style scoped>\n",
       "    .dataframe tbody tr th:only-of-type {\n",
       "        vertical-align: middle;\n",
       "    }\n",
       "\n",
       "    .dataframe tbody tr th {\n",
       "        vertical-align: top;\n",
       "    }\n",
       "\n",
       "    .dataframe thead th {\n",
       "        text-align: right;\n",
       "    }\n",
       "</style>\n",
       "<table border=\"1\" class=\"dataframe\">\n",
       "  <thead>\n",
       "    <tr style=\"text-align: right;\">\n",
       "      <th></th>\n",
       "      <th>platform</th>\n",
       "      <th>jp_sales</th>\n",
       "    </tr>\n",
       "  </thead>\n",
       "  <tbody>\n",
       "    <tr>\n",
       "      <td>0</td>\n",
       "      <td>3DS</td>\n",
       "      <td>87.79</td>\n",
       "    </tr>\n",
       "    <tr>\n",
       "      <td>1</td>\n",
       "      <td>PS3</td>\n",
       "      <td>35.29</td>\n",
       "    </tr>\n",
       "    <tr>\n",
       "      <td>2</td>\n",
       "      <td>PSV</td>\n",
       "      <td>21.04</td>\n",
       "    </tr>\n",
       "    <tr>\n",
       "      <td>3</td>\n",
       "      <td>PS4</td>\n",
       "      <td>15.96</td>\n",
       "    </tr>\n",
       "    <tr>\n",
       "      <td>4</td>\n",
       "      <td>WiiU</td>\n",
       "      <td>13.01</td>\n",
       "    </tr>\n",
       "  </tbody>\n",
       "</table>\n",
       "</div>"
      ],
      "text/plain": [
       "  platform  jp_sales\n",
       "0      3DS     87.79\n",
       "1      PS3     35.29\n",
       "2      PSV     21.04\n",
       "3      PS4     15.96\n",
       "4     WiiU     13.01"
      ]
     },
     "execution_count": 63,
     "metadata": {},
     "output_type": "execute_result"
    }
   ],
   "source": [
    "top_5_platforms_JP"
   ]
  },
  {
   "cell_type": "code",
   "execution_count": 64,
   "metadata": {},
   "outputs": [],
   "source": [
    "jp_sales_sum = data_curr['jp_sales'].sum()"
   ]
  },
  {
   "cell_type": "code",
   "execution_count": 65,
   "metadata": {},
   "outputs": [],
   "source": [
    "top_5_platforms_JP['share_of_sales']= round(\n",
    "    (top_5_platforms_JP['jp_sales'] / jp_sales_sum),2)"
   ]
  },
  {
   "cell_type": "markdown",
   "metadata": {},
   "source": [
    "Для большей наглядности и простоты анализа выведем все три таблицы."
   ]
  },
  {
   "cell_type": "markdown",
   "metadata": {},
   "source": [
    "Северная Америка `NA`. "
   ]
  },
  {
   "cell_type": "code",
   "execution_count": 66,
   "metadata": {},
   "outputs": [
    {
     "data": {
      "text/html": [
       "<div>\n",
       "<style scoped>\n",
       "    .dataframe tbody tr th:only-of-type {\n",
       "        vertical-align: middle;\n",
       "    }\n",
       "\n",
       "    .dataframe tbody tr th {\n",
       "        vertical-align: top;\n",
       "    }\n",
       "\n",
       "    .dataframe thead th {\n",
       "        text-align: right;\n",
       "    }\n",
       "</style>\n",
       "<table border=\"1\" class=\"dataframe\">\n",
       "  <thead>\n",
       "    <tr style=\"text-align: right;\">\n",
       "      <th></th>\n",
       "      <th>platform</th>\n",
       "      <th>na_sales</th>\n",
       "      <th>share_of_sales</th>\n",
       "    </tr>\n",
       "  </thead>\n",
       "  <tbody>\n",
       "    <tr>\n",
       "      <td>0</td>\n",
       "      <td>X360</td>\n",
       "      <td>140.05</td>\n",
       "      <td>0.24</td>\n",
       "    </tr>\n",
       "    <tr>\n",
       "      <td>1</td>\n",
       "      <td>PS4</td>\n",
       "      <td>108.74</td>\n",
       "      <td>0.18</td>\n",
       "    </tr>\n",
       "    <tr>\n",
       "      <td>2</td>\n",
       "      <td>PS3</td>\n",
       "      <td>103.38</td>\n",
       "      <td>0.17</td>\n",
       "    </tr>\n",
       "    <tr>\n",
       "      <td>3</td>\n",
       "      <td>XOne</td>\n",
       "      <td>93.12</td>\n",
       "      <td>0.16</td>\n",
       "    </tr>\n",
       "    <tr>\n",
       "      <td>4</td>\n",
       "      <td>3DS</td>\n",
       "      <td>55.31</td>\n",
       "      <td>0.09</td>\n",
       "    </tr>\n",
       "  </tbody>\n",
       "</table>\n",
       "</div>"
      ],
      "text/plain": [
       "  platform  na_sales  share_of_sales\n",
       "0     X360    140.05            0.24\n",
       "1      PS4    108.74            0.18\n",
       "2      PS3    103.38            0.17\n",
       "3     XOne     93.12            0.16\n",
       "4      3DS     55.31            0.09"
      ]
     },
     "execution_count": 66,
     "metadata": {},
     "output_type": "execute_result"
    }
   ],
   "source": [
    "top_5_platforms_NA"
   ]
  },
  {
   "cell_type": "markdown",
   "metadata": {},
   "source": [
    "Европа `EU`."
   ]
  },
  {
   "cell_type": "code",
   "execution_count": 67,
   "metadata": {},
   "outputs": [
    {
     "data": {
      "text/html": [
       "<div>\n",
       "<style scoped>\n",
       "    .dataframe tbody tr th:only-of-type {\n",
       "        vertical-align: middle;\n",
       "    }\n",
       "\n",
       "    .dataframe tbody tr th {\n",
       "        vertical-align: top;\n",
       "    }\n",
       "\n",
       "    .dataframe thead th {\n",
       "        text-align: right;\n",
       "    }\n",
       "</style>\n",
       "<table border=\"1\" class=\"dataframe\">\n",
       "  <thead>\n",
       "    <tr style=\"text-align: right;\">\n",
       "      <th></th>\n",
       "      <th>platform</th>\n",
       "      <th>eu_sales</th>\n",
       "      <th>share_of_sales</th>\n",
       "    </tr>\n",
       "  </thead>\n",
       "  <tbody>\n",
       "    <tr>\n",
       "      <td>0</td>\n",
       "      <td>PS4</td>\n",
       "      <td>141.09</td>\n",
       "      <td>0.28</td>\n",
       "    </tr>\n",
       "    <tr>\n",
       "      <td>1</td>\n",
       "      <td>PS3</td>\n",
       "      <td>106.86</td>\n",
       "      <td>0.21</td>\n",
       "    </tr>\n",
       "    <tr>\n",
       "      <td>2</td>\n",
       "      <td>X360</td>\n",
       "      <td>74.52</td>\n",
       "      <td>0.15</td>\n",
       "    </tr>\n",
       "    <tr>\n",
       "      <td>3</td>\n",
       "      <td>XOne</td>\n",
       "      <td>51.59</td>\n",
       "      <td>0.10</td>\n",
       "    </tr>\n",
       "    <tr>\n",
       "      <td>4</td>\n",
       "      <td>3DS</td>\n",
       "      <td>42.64</td>\n",
       "      <td>0.08</td>\n",
       "    </tr>\n",
       "  </tbody>\n",
       "</table>\n",
       "</div>"
      ],
      "text/plain": [
       "  platform  eu_sales  share_of_sales\n",
       "0      PS4    141.09            0.28\n",
       "1      PS3    106.86            0.21\n",
       "2     X360     74.52            0.15\n",
       "3     XOne     51.59            0.10\n",
       "4      3DS     42.64            0.08"
      ]
     },
     "execution_count": 67,
     "metadata": {},
     "output_type": "execute_result"
    }
   ],
   "source": [
    "top_5_platforms_EU"
   ]
  },
  {
   "cell_type": "markdown",
   "metadata": {},
   "source": [
    "Япония `JP`."
   ]
  },
  {
   "cell_type": "code",
   "execution_count": 68,
   "metadata": {},
   "outputs": [
    {
     "data": {
      "text/html": [
       "<div>\n",
       "<style scoped>\n",
       "    .dataframe tbody tr th:only-of-type {\n",
       "        vertical-align: middle;\n",
       "    }\n",
       "\n",
       "    .dataframe tbody tr th {\n",
       "        vertical-align: top;\n",
       "    }\n",
       "\n",
       "    .dataframe thead th {\n",
       "        text-align: right;\n",
       "    }\n",
       "</style>\n",
       "<table border=\"1\" class=\"dataframe\">\n",
       "  <thead>\n",
       "    <tr style=\"text-align: right;\">\n",
       "      <th></th>\n",
       "      <th>platform</th>\n",
       "      <th>jp_sales</th>\n",
       "      <th>share_of_sales</th>\n",
       "    </tr>\n",
       "  </thead>\n",
       "  <tbody>\n",
       "    <tr>\n",
       "      <td>0</td>\n",
       "      <td>3DS</td>\n",
       "      <td>87.79</td>\n",
       "      <td>0.46</td>\n",
       "    </tr>\n",
       "    <tr>\n",
       "      <td>1</td>\n",
       "      <td>PS3</td>\n",
       "      <td>35.29</td>\n",
       "      <td>0.18</td>\n",
       "    </tr>\n",
       "    <tr>\n",
       "      <td>2</td>\n",
       "      <td>PSV</td>\n",
       "      <td>21.04</td>\n",
       "      <td>0.11</td>\n",
       "    </tr>\n",
       "    <tr>\n",
       "      <td>3</td>\n",
       "      <td>PS4</td>\n",
       "      <td>15.96</td>\n",
       "      <td>0.08</td>\n",
       "    </tr>\n",
       "    <tr>\n",
       "      <td>4</td>\n",
       "      <td>WiiU</td>\n",
       "      <td>13.01</td>\n",
       "      <td>0.07</td>\n",
       "    </tr>\n",
       "  </tbody>\n",
       "</table>\n",
       "</div>"
      ],
      "text/plain": [
       "  platform  jp_sales  share_of_sales\n",
       "0      3DS     87.79            0.46\n",
       "1      PS3     35.29            0.18\n",
       "2      PSV     21.04            0.11\n",
       "3      PS4     15.96            0.08\n",
       "4     WiiU     13.01            0.07"
      ]
     },
     "execution_count": 68,
     "metadata": {},
     "output_type": "execute_result"
    }
   ],
   "source": [
    "top_5_platforms_JP"
   ]
  },
  {
   "cell_type": "markdown",
   "metadata": {},
   "source": [
    "Да, лидеры среди платформ по продажам компьютерных игр от региона к региону отличаются. Это отчётливо видно из представленных таблиц. В очередной раз стоит отметить, что семейство консолей `Plastation` чувствует себя крайне неплохо в каждом регионе, в Европе при этом занимая 1-ое и 2-ое места. Самым ёмким рынком из представленных выглядит американский, самым незначительным -  японский (относительно, конечно). На первую пятёрку платформ для Америки и Европы приходится более 70% продаж, а для Японии этот показатель и вовсе составляет 90%! Также, в случае Японии, нельзя обойти стороной популярность платформы `3DS`, для которой продаётся почти в 2,5 раза игр больше, чем для платформы ближайшего конкурента."
   ]
  },
  {
   "cell_type": "markdown",
   "metadata": {},
   "source": [
    "*4.2. Самые популярные жанры (топ-5). Оценка разницы.* <a id=\"Step_4_2\"></a>"
   ]
  },
  {
   "cell_type": "markdown",
   "metadata": {},
   "source": [
    "В прерыдущем разделе мы считали доли продаж относительно видов платформ, теперь проделаем тоже самое с жанрами."
   ]
  },
  {
   "cell_type": "markdown",
   "metadata": {},
   "source": [
    "*Северная Америка `NA`.*"
   ]
  },
  {
   "cell_type": "markdown",
   "metadata": {},
   "source": [
    "Посчитаем топ-5 самых популярных жанров для компьютерных игр."
   ]
  },
  {
   "cell_type": "code",
   "execution_count": 69,
   "metadata": {},
   "outputs": [],
   "source": [
    "top_5_genre_NA = (data_curr\n",
    " .pivot_table(index = 'genre'\n",
    "              , values = 'na_sales'\n",
    "              , aggfunc = 'sum')\n",
    " .sort_values(by = 'na_sales', ascending = False)\n",
    " .reset_index()\n",
    " .head(5))"
   ]
  },
  {
   "cell_type": "code",
   "execution_count": 70,
   "metadata": {},
   "outputs": [
    {
     "data": {
      "text/html": [
       "<div>\n",
       "<style scoped>\n",
       "    .dataframe tbody tr th:only-of-type {\n",
       "        vertical-align: middle;\n",
       "    }\n",
       "\n",
       "    .dataframe tbody tr th {\n",
       "        vertical-align: top;\n",
       "    }\n",
       "\n",
       "    .dataframe thead th {\n",
       "        text-align: right;\n",
       "    }\n",
       "</style>\n",
       "<table border=\"1\" class=\"dataframe\">\n",
       "  <thead>\n",
       "    <tr style=\"text-align: right;\">\n",
       "      <th></th>\n",
       "      <th>genre</th>\n",
       "      <th>na_sales</th>\n",
       "    </tr>\n",
       "  </thead>\n",
       "  <tbody>\n",
       "    <tr>\n",
       "      <td>0</td>\n",
       "      <td>Action</td>\n",
       "      <td>177.84</td>\n",
       "    </tr>\n",
       "    <tr>\n",
       "      <td>1</td>\n",
       "      <td>Shooter</td>\n",
       "      <td>144.77</td>\n",
       "    </tr>\n",
       "    <tr>\n",
       "      <td>2</td>\n",
       "      <td>Sports</td>\n",
       "      <td>81.53</td>\n",
       "    </tr>\n",
       "    <tr>\n",
       "      <td>3</td>\n",
       "      <td>Role-Playing</td>\n",
       "      <td>64.00</td>\n",
       "    </tr>\n",
       "    <tr>\n",
       "      <td>4</td>\n",
       "      <td>Misc</td>\n",
       "      <td>38.19</td>\n",
       "    </tr>\n",
       "  </tbody>\n",
       "</table>\n",
       "</div>"
      ],
      "text/plain": [
       "          genre  na_sales\n",
       "0        Action    177.84\n",
       "1       Shooter    144.77\n",
       "2        Sports     81.53\n",
       "3  Role-Playing     64.00\n",
       "4          Misc     38.19"
      ]
     },
     "execution_count": 70,
     "metadata": {},
     "output_type": "execute_result"
    }
   ],
   "source": [
    "top_5_genre_NA"
   ]
  },
  {
   "cell_type": "markdown",
   "metadata": {},
   "source": [
    "Теперь посчитаем долю каждого жанра относительно всего регионального рынка компьютерных игр."
   ]
  },
  {
   "cell_type": "code",
   "execution_count": 71,
   "metadata": {},
   "outputs": [],
   "source": [
    "top_5_genre_NA['share_of_sales']= round(\n",
    "    (top_5_genre_NA['na_sales'] / na_sales_sum),2)"
   ]
  },
  {
   "cell_type": "code",
   "execution_count": 72,
   "metadata": {},
   "outputs": [
    {
     "data": {
      "text/html": [
       "<div>\n",
       "<style scoped>\n",
       "    .dataframe tbody tr th:only-of-type {\n",
       "        vertical-align: middle;\n",
       "    }\n",
       "\n",
       "    .dataframe tbody tr th {\n",
       "        vertical-align: top;\n",
       "    }\n",
       "\n",
       "    .dataframe thead th {\n",
       "        text-align: right;\n",
       "    }\n",
       "</style>\n",
       "<table border=\"1\" class=\"dataframe\">\n",
       "  <thead>\n",
       "    <tr style=\"text-align: right;\">\n",
       "      <th></th>\n",
       "      <th>genre</th>\n",
       "      <th>na_sales</th>\n",
       "      <th>share_of_sales</th>\n",
       "    </tr>\n",
       "  </thead>\n",
       "  <tbody>\n",
       "    <tr>\n",
       "      <td>0</td>\n",
       "      <td>Action</td>\n",
       "      <td>177.84</td>\n",
       "      <td>0.30</td>\n",
       "    </tr>\n",
       "    <tr>\n",
       "      <td>1</td>\n",
       "      <td>Shooter</td>\n",
       "      <td>144.77</td>\n",
       "      <td>0.24</td>\n",
       "    </tr>\n",
       "    <tr>\n",
       "      <td>2</td>\n",
       "      <td>Sports</td>\n",
       "      <td>81.53</td>\n",
       "      <td>0.14</td>\n",
       "    </tr>\n",
       "    <tr>\n",
       "      <td>3</td>\n",
       "      <td>Role-Playing</td>\n",
       "      <td>64.00</td>\n",
       "      <td>0.11</td>\n",
       "    </tr>\n",
       "    <tr>\n",
       "      <td>4</td>\n",
       "      <td>Misc</td>\n",
       "      <td>38.19</td>\n",
       "      <td>0.06</td>\n",
       "    </tr>\n",
       "  </tbody>\n",
       "</table>\n",
       "</div>"
      ],
      "text/plain": [
       "          genre  na_sales  share_of_sales\n",
       "0        Action    177.84            0.30\n",
       "1       Shooter    144.77            0.24\n",
       "2        Sports     81.53            0.14\n",
       "3  Role-Playing     64.00            0.11\n",
       "4          Misc     38.19            0.06"
      ]
     },
     "execution_count": 72,
     "metadata": {},
     "output_type": "execute_result"
    }
   ],
   "source": [
    "top_5_genre_NA"
   ]
  },
  {
   "cell_type": "markdown",
   "metadata": {},
   "source": [
    "Европа `EU`."
   ]
  },
  {
   "cell_type": "code",
   "execution_count": 73,
   "metadata": {},
   "outputs": [],
   "source": [
    "top_5_genre_EU = (data_curr\n",
    " .pivot_table(index = 'genre'\n",
    "              , values = 'eu_sales'\n",
    "              , aggfunc = 'sum')\n",
    " .sort_values(by = 'eu_sales', ascending = False)\n",
    " .reset_index()\n",
    " .head(5))"
   ]
  },
  {
   "cell_type": "code",
   "execution_count": 74,
   "metadata": {},
   "outputs": [
    {
     "data": {
      "text/html": [
       "<div>\n",
       "<style scoped>\n",
       "    .dataframe tbody tr th:only-of-type {\n",
       "        vertical-align: middle;\n",
       "    }\n",
       "\n",
       "    .dataframe tbody tr th {\n",
       "        vertical-align: top;\n",
       "    }\n",
       "\n",
       "    .dataframe thead th {\n",
       "        text-align: right;\n",
       "    }\n",
       "</style>\n",
       "<table border=\"1\" class=\"dataframe\">\n",
       "  <thead>\n",
       "    <tr style=\"text-align: right;\">\n",
       "      <th></th>\n",
       "      <th>genre</th>\n",
       "      <th>eu_sales</th>\n",
       "    </tr>\n",
       "  </thead>\n",
       "  <tbody>\n",
       "    <tr>\n",
       "      <td>0</td>\n",
       "      <td>Action</td>\n",
       "      <td>159.34</td>\n",
       "    </tr>\n",
       "    <tr>\n",
       "      <td>1</td>\n",
       "      <td>Shooter</td>\n",
       "      <td>113.47</td>\n",
       "    </tr>\n",
       "    <tr>\n",
       "      <td>2</td>\n",
       "      <td>Sports</td>\n",
       "      <td>69.09</td>\n",
       "    </tr>\n",
       "    <tr>\n",
       "      <td>3</td>\n",
       "      <td>Role-Playing</td>\n",
       "      <td>48.53</td>\n",
       "    </tr>\n",
       "    <tr>\n",
       "      <td>4</td>\n",
       "      <td>Racing</td>\n",
       "      <td>27.29</td>\n",
       "    </tr>\n",
       "  </tbody>\n",
       "</table>\n",
       "</div>"
      ],
      "text/plain": [
       "          genre  eu_sales\n",
       "0        Action    159.34\n",
       "1       Shooter    113.47\n",
       "2        Sports     69.09\n",
       "3  Role-Playing     48.53\n",
       "4        Racing     27.29"
      ]
     },
     "execution_count": 74,
     "metadata": {},
     "output_type": "execute_result"
    }
   ],
   "source": [
    "top_5_genre_EU"
   ]
  },
  {
   "cell_type": "code",
   "execution_count": 75,
   "metadata": {},
   "outputs": [],
   "source": [
    "top_5_genre_EU['share_of_sales']= round(\n",
    "    (top_5_genre_EU['eu_sales'] / eu_sales_sum),2)"
   ]
  },
  {
   "cell_type": "code",
   "execution_count": 76,
   "metadata": {},
   "outputs": [
    {
     "data": {
      "text/html": [
       "<div>\n",
       "<style scoped>\n",
       "    .dataframe tbody tr th:only-of-type {\n",
       "        vertical-align: middle;\n",
       "    }\n",
       "\n",
       "    .dataframe tbody tr th {\n",
       "        vertical-align: top;\n",
       "    }\n",
       "\n",
       "    .dataframe thead th {\n",
       "        text-align: right;\n",
       "    }\n",
       "</style>\n",
       "<table border=\"1\" class=\"dataframe\">\n",
       "  <thead>\n",
       "    <tr style=\"text-align: right;\">\n",
       "      <th></th>\n",
       "      <th>genre</th>\n",
       "      <th>eu_sales</th>\n",
       "      <th>share_of_sales</th>\n",
       "    </tr>\n",
       "  </thead>\n",
       "  <tbody>\n",
       "    <tr>\n",
       "      <td>0</td>\n",
       "      <td>Action</td>\n",
       "      <td>159.34</td>\n",
       "      <td>0.31</td>\n",
       "    </tr>\n",
       "    <tr>\n",
       "      <td>1</td>\n",
       "      <td>Shooter</td>\n",
       "      <td>113.47</td>\n",
       "      <td>0.22</td>\n",
       "    </tr>\n",
       "    <tr>\n",
       "      <td>2</td>\n",
       "      <td>Sports</td>\n",
       "      <td>69.09</td>\n",
       "      <td>0.14</td>\n",
       "    </tr>\n",
       "    <tr>\n",
       "      <td>3</td>\n",
       "      <td>Role-Playing</td>\n",
       "      <td>48.53</td>\n",
       "      <td>0.10</td>\n",
       "    </tr>\n",
       "    <tr>\n",
       "      <td>4</td>\n",
       "      <td>Racing</td>\n",
       "      <td>27.29</td>\n",
       "      <td>0.05</td>\n",
       "    </tr>\n",
       "  </tbody>\n",
       "</table>\n",
       "</div>"
      ],
      "text/plain": [
       "          genre  eu_sales  share_of_sales\n",
       "0        Action    159.34            0.31\n",
       "1       Shooter    113.47            0.22\n",
       "2        Sports     69.09            0.14\n",
       "3  Role-Playing     48.53            0.10\n",
       "4        Racing     27.29            0.05"
      ]
     },
     "execution_count": 76,
     "metadata": {},
     "output_type": "execute_result"
    }
   ],
   "source": [
    "top_5_genre_EU"
   ]
  },
  {
   "cell_type": "markdown",
   "metadata": {},
   "source": [
    "Почти идентично американскому региону."
   ]
  },
  {
   "cell_type": "markdown",
   "metadata": {},
   "source": [
    "Япония `JP`."
   ]
  },
  {
   "cell_type": "code",
   "execution_count": 77,
   "metadata": {},
   "outputs": [],
   "source": [
    "top_5_genre_JP = (data_curr\n",
    " .pivot_table(index = 'genre'\n",
    "              , values = 'jp_sales'\n",
    "              , aggfunc = 'sum')\n",
    " .sort_values(by = 'jp_sales', ascending = False)\n",
    " .reset_index()\n",
    " .head(5))"
   ]
  },
  {
   "cell_type": "code",
   "execution_count": 78,
   "metadata": {},
   "outputs": [
    {
     "data": {
      "text/html": [
       "<div>\n",
       "<style scoped>\n",
       "    .dataframe tbody tr th:only-of-type {\n",
       "        vertical-align: middle;\n",
       "    }\n",
       "\n",
       "    .dataframe tbody tr th {\n",
       "        vertical-align: top;\n",
       "    }\n",
       "\n",
       "    .dataframe thead th {\n",
       "        text-align: right;\n",
       "    }\n",
       "</style>\n",
       "<table border=\"1\" class=\"dataframe\">\n",
       "  <thead>\n",
       "    <tr style=\"text-align: right;\">\n",
       "      <th></th>\n",
       "      <th>genre</th>\n",
       "      <th>jp_sales</th>\n",
       "    </tr>\n",
       "  </thead>\n",
       "  <tbody>\n",
       "    <tr>\n",
       "      <td>0</td>\n",
       "      <td>Role-Playing</td>\n",
       "      <td>65.44</td>\n",
       "    </tr>\n",
       "    <tr>\n",
       "      <td>1</td>\n",
       "      <td>Action</td>\n",
       "      <td>52.80</td>\n",
       "    </tr>\n",
       "    <tr>\n",
       "      <td>2</td>\n",
       "      <td>Misc</td>\n",
       "      <td>12.86</td>\n",
       "    </tr>\n",
       "    <tr>\n",
       "      <td>3</td>\n",
       "      <td>Simulation</td>\n",
       "      <td>10.41</td>\n",
       "    </tr>\n",
       "    <tr>\n",
       "      <td>4</td>\n",
       "      <td>Fighting</td>\n",
       "      <td>9.44</td>\n",
       "    </tr>\n",
       "  </tbody>\n",
       "</table>\n",
       "</div>"
      ],
      "text/plain": [
       "          genre  jp_sales\n",
       "0  Role-Playing     65.44\n",
       "1        Action     52.80\n",
       "2          Misc     12.86\n",
       "3    Simulation     10.41\n",
       "4      Fighting      9.44"
      ]
     },
     "execution_count": 78,
     "metadata": {},
     "output_type": "execute_result"
    }
   ],
   "source": [
    "top_5_genre_JP"
   ]
  },
  {
   "cell_type": "code",
   "execution_count": 79,
   "metadata": {},
   "outputs": [],
   "source": [
    "top_5_genre_JP['share_of_sales']= round(\n",
    "    (top_5_genre_JP['jp_sales'] / jp_sales_sum),2)"
   ]
  },
  {
   "cell_type": "markdown",
   "metadata": {},
   "source": [
    "Выведем все три таблицы для каждого региона."
   ]
  },
  {
   "cell_type": "markdown",
   "metadata": {},
   "source": [
    "Северная Америка `NA`."
   ]
  },
  {
   "cell_type": "code",
   "execution_count": 80,
   "metadata": {},
   "outputs": [
    {
     "data": {
      "text/html": [
       "<div>\n",
       "<style scoped>\n",
       "    .dataframe tbody tr th:only-of-type {\n",
       "        vertical-align: middle;\n",
       "    }\n",
       "\n",
       "    .dataframe tbody tr th {\n",
       "        vertical-align: top;\n",
       "    }\n",
       "\n",
       "    .dataframe thead th {\n",
       "        text-align: right;\n",
       "    }\n",
       "</style>\n",
       "<table border=\"1\" class=\"dataframe\">\n",
       "  <thead>\n",
       "    <tr style=\"text-align: right;\">\n",
       "      <th></th>\n",
       "      <th>genre</th>\n",
       "      <th>na_sales</th>\n",
       "      <th>share_of_sales</th>\n",
       "    </tr>\n",
       "  </thead>\n",
       "  <tbody>\n",
       "    <tr>\n",
       "      <td>0</td>\n",
       "      <td>Action</td>\n",
       "      <td>177.84</td>\n",
       "      <td>0.30</td>\n",
       "    </tr>\n",
       "    <tr>\n",
       "      <td>1</td>\n",
       "      <td>Shooter</td>\n",
       "      <td>144.77</td>\n",
       "      <td>0.24</td>\n",
       "    </tr>\n",
       "    <tr>\n",
       "      <td>2</td>\n",
       "      <td>Sports</td>\n",
       "      <td>81.53</td>\n",
       "      <td>0.14</td>\n",
       "    </tr>\n",
       "    <tr>\n",
       "      <td>3</td>\n",
       "      <td>Role-Playing</td>\n",
       "      <td>64.00</td>\n",
       "      <td>0.11</td>\n",
       "    </tr>\n",
       "    <tr>\n",
       "      <td>4</td>\n",
       "      <td>Misc</td>\n",
       "      <td>38.19</td>\n",
       "      <td>0.06</td>\n",
       "    </tr>\n",
       "  </tbody>\n",
       "</table>\n",
       "</div>"
      ],
      "text/plain": [
       "          genre  na_sales  share_of_sales\n",
       "0        Action    177.84            0.30\n",
       "1       Shooter    144.77            0.24\n",
       "2        Sports     81.53            0.14\n",
       "3  Role-Playing     64.00            0.11\n",
       "4          Misc     38.19            0.06"
      ]
     },
     "execution_count": 80,
     "metadata": {},
     "output_type": "execute_result"
    }
   ],
   "source": [
    "top_5_genre_NA"
   ]
  },
  {
   "cell_type": "markdown",
   "metadata": {},
   "source": [
    "Европа `EU`."
   ]
  },
  {
   "cell_type": "code",
   "execution_count": 81,
   "metadata": {},
   "outputs": [
    {
     "data": {
      "text/html": [
       "<div>\n",
       "<style scoped>\n",
       "    .dataframe tbody tr th:only-of-type {\n",
       "        vertical-align: middle;\n",
       "    }\n",
       "\n",
       "    .dataframe tbody tr th {\n",
       "        vertical-align: top;\n",
       "    }\n",
       "\n",
       "    .dataframe thead th {\n",
       "        text-align: right;\n",
       "    }\n",
       "</style>\n",
       "<table border=\"1\" class=\"dataframe\">\n",
       "  <thead>\n",
       "    <tr style=\"text-align: right;\">\n",
       "      <th></th>\n",
       "      <th>genre</th>\n",
       "      <th>eu_sales</th>\n",
       "      <th>share_of_sales</th>\n",
       "    </tr>\n",
       "  </thead>\n",
       "  <tbody>\n",
       "    <tr>\n",
       "      <td>0</td>\n",
       "      <td>Action</td>\n",
       "      <td>159.34</td>\n",
       "      <td>0.31</td>\n",
       "    </tr>\n",
       "    <tr>\n",
       "      <td>1</td>\n",
       "      <td>Shooter</td>\n",
       "      <td>113.47</td>\n",
       "      <td>0.22</td>\n",
       "    </tr>\n",
       "    <tr>\n",
       "      <td>2</td>\n",
       "      <td>Sports</td>\n",
       "      <td>69.09</td>\n",
       "      <td>0.14</td>\n",
       "    </tr>\n",
       "    <tr>\n",
       "      <td>3</td>\n",
       "      <td>Role-Playing</td>\n",
       "      <td>48.53</td>\n",
       "      <td>0.10</td>\n",
       "    </tr>\n",
       "    <tr>\n",
       "      <td>4</td>\n",
       "      <td>Racing</td>\n",
       "      <td>27.29</td>\n",
       "      <td>0.05</td>\n",
       "    </tr>\n",
       "  </tbody>\n",
       "</table>\n",
       "</div>"
      ],
      "text/plain": [
       "          genre  eu_sales  share_of_sales\n",
       "0        Action    159.34            0.31\n",
       "1       Shooter    113.47            0.22\n",
       "2        Sports     69.09            0.14\n",
       "3  Role-Playing     48.53            0.10\n",
       "4        Racing     27.29            0.05"
      ]
     },
     "execution_count": 81,
     "metadata": {},
     "output_type": "execute_result"
    }
   ],
   "source": [
    "top_5_genre_EU"
   ]
  },
  {
   "cell_type": "markdown",
   "metadata": {},
   "source": [
    "Япония `JP`."
   ]
  },
  {
   "cell_type": "code",
   "execution_count": 82,
   "metadata": {},
   "outputs": [
    {
     "data": {
      "text/html": [
       "<div>\n",
       "<style scoped>\n",
       "    .dataframe tbody tr th:only-of-type {\n",
       "        vertical-align: middle;\n",
       "    }\n",
       "\n",
       "    .dataframe tbody tr th {\n",
       "        vertical-align: top;\n",
       "    }\n",
       "\n",
       "    .dataframe thead th {\n",
       "        text-align: right;\n",
       "    }\n",
       "</style>\n",
       "<table border=\"1\" class=\"dataframe\">\n",
       "  <thead>\n",
       "    <tr style=\"text-align: right;\">\n",
       "      <th></th>\n",
       "      <th>genre</th>\n",
       "      <th>jp_sales</th>\n",
       "      <th>share_of_sales</th>\n",
       "    </tr>\n",
       "  </thead>\n",
       "  <tbody>\n",
       "    <tr>\n",
       "      <td>0</td>\n",
       "      <td>Role-Playing</td>\n",
       "      <td>65.44</td>\n",
       "      <td>0.34</td>\n",
       "    </tr>\n",
       "    <tr>\n",
       "      <td>1</td>\n",
       "      <td>Action</td>\n",
       "      <td>52.80</td>\n",
       "      <td>0.27</td>\n",
       "    </tr>\n",
       "    <tr>\n",
       "      <td>2</td>\n",
       "      <td>Misc</td>\n",
       "      <td>12.86</td>\n",
       "      <td>0.07</td>\n",
       "    </tr>\n",
       "    <tr>\n",
       "      <td>3</td>\n",
       "      <td>Simulation</td>\n",
       "      <td>10.41</td>\n",
       "      <td>0.05</td>\n",
       "    </tr>\n",
       "    <tr>\n",
       "      <td>4</td>\n",
       "      <td>Fighting</td>\n",
       "      <td>9.44</td>\n",
       "      <td>0.05</td>\n",
       "    </tr>\n",
       "  </tbody>\n",
       "</table>\n",
       "</div>"
      ],
      "text/plain": [
       "          genre  jp_sales  share_of_sales\n",
       "0  Role-Playing     65.44            0.34\n",
       "1        Action     52.80            0.27\n",
       "2          Misc     12.86            0.07\n",
       "3    Simulation     10.41            0.05\n",
       "4      Fighting      9.44            0.05"
      ]
     },
     "execution_count": 82,
     "metadata": {},
     "output_type": "execute_result"
    }
   ],
   "source": [
    "top_5_genre_JP"
   ]
  },
  {
   "cell_type": "markdown",
   "metadata": {},
   "source": [
    "Для Америки и Европы отношение в долях первой пятёрки практически идентичное, а лидерами в обоих случаях являются `Shooter` и `Action`. А вот в Японии своя атмосфера, и тут на передний план выходит жанр `Role-Playing` он же `RPG`, уверенное второе место занимает жанр`Action`. Также стоит отметить, что на долю первых двух жанров, для каждого из регионов, приходится более 50% от числа всех проданных игр.\n",
    "\n",
    "Можно предположить, что такое положение дел для Японии объясняется через не самый простой психологический климат, жестко завязанный на традициях и в целом специфике устройства японского социума. А игры жанра `RPG`, которым свойственна система развития персонажа аналогичная в каком-то смысле жизни реального человека, скорее своей концепцией и структурой, позволяют этот момент компенсировать не без внутренней психологической ассоциации: успехи и признание не в реальной, но в виртуальной жизни. Не то что бы это специфика `RPG` только для Японии, но судя по цифрам, здесь этот вопрос крайне актуален. "
   ]
  },
  {
   "cell_type": "markdown",
   "metadata": {},
   "source": [
    "*4.3. Влияние рейтинга ESRB на продажи в отдельном регионе.* <a id=\"Step_4_3\"></a>"
   ]
  },
  {
   "cell_type": "markdown",
   "metadata": {},
   "source": [
    "Для анализа рейтинга ESRB на продажи по регионам сгрупируем данные соответствующим образом. Пропуски рейтинга заменим на значение `NR` - no rating (слишком много пропущенных значений, чтобы просто их проигнорировать)."
   ]
  },
  {
   "cell_type": "code",
   "execution_count": 83,
   "metadata": {},
   "outputs": [],
   "source": [
    "data_for_ESRB = data_curr.fillna('NR')"
   ]
  },
  {
   "cell_type": "markdown",
   "metadata": {},
   "source": [
    "Посмотрим, какой рейтинг у нас в принципе встречается.  "
   ]
  },
  {
   "cell_type": "code",
   "execution_count": 84,
   "metadata": {},
   "outputs": [
    {
     "data": {
      "text/plain": [
       "NR      1275\n",
       "M        498\n",
       "T        412\n",
       "E        394\n",
       "E10+     306\n",
       "Name: rating, dtype: int64"
      ]
     },
     "execution_count": 84,
     "metadata": {},
     "output_type": "execute_result"
    }
   ],
   "source": [
    "data_for_ESRB['rating'].value_counts()"
   ]
  },
  {
   "cell_type": "markdown",
   "metadata": {},
   "source": [
    "Обозначения рейтинга расшифровываются следующим образом: \n",
    "\n",
    "* `E` - («Everyone») — «Для всех»: Содержание вполне подходит для возрастной категории от 6 лет и старше;\n",
    "* `E10+` - («Everyone 10 and older») —«Для всех от 10 лет и старше;\n",
    "* `T` - («Teen») — «Подросткам»: Игра подходит для лиц от 13 лет и старше;\n",
    "* `M` - («Mature») — «Для взрослых»: Материалы игры не подходят для подростков младше 17 лет;\n",
    "* `NR` - («No rating») - «нет рейтинга»: Сокращение, позволяющие выделить игры без рейтинга. "
   ]
  },
  {
   "cell_type": "markdown",
   "metadata": {},
   "source": [
    "Приступим к непосредственному анализу влияния рейтинга на продажи для каждого из регионов."
   ]
  },
  {
   "cell_type": "markdown",
   "metadata": {},
   "source": [
    "Северная Америка `NA`."
   ]
  },
  {
   "cell_type": "code",
   "execution_count": 85,
   "metadata": {},
   "outputs": [],
   "source": [
    "rating_and_sales_NA = (data_for_ESRB\n",
    " .pivot_table(index = 'rating'\n",
    "              , values = 'na_sales'\n",
    "              , aggfunc = 'sum')\n",
    " .sort_values(by = 'na_sales', ascending = False)\n",
    " .reset_index())"
   ]
  },
  {
   "cell_type": "code",
   "execution_count": 86,
   "metadata": {},
   "outputs": [
    {
     "data": {
      "text/html": [
       "<div>\n",
       "<style scoped>\n",
       "    .dataframe tbody tr th:only-of-type {\n",
       "        vertical-align: middle;\n",
       "    }\n",
       "\n",
       "    .dataframe tbody tr th {\n",
       "        vertical-align: top;\n",
       "    }\n",
       "\n",
       "    .dataframe thead th {\n",
       "        text-align: right;\n",
       "    }\n",
       "</style>\n",
       "<table border=\"1\" class=\"dataframe\">\n",
       "  <thead>\n",
       "    <tr style=\"text-align: right;\">\n",
       "      <th></th>\n",
       "      <th>rating</th>\n",
       "      <th>na_sales</th>\n",
       "    </tr>\n",
       "  </thead>\n",
       "  <tbody>\n",
       "    <tr>\n",
       "      <td>0</td>\n",
       "      <td>M</td>\n",
       "      <td>231.57</td>\n",
       "    </tr>\n",
       "    <tr>\n",
       "      <td>1</td>\n",
       "      <td>E</td>\n",
       "      <td>114.37</td>\n",
       "    </tr>\n",
       "    <tr>\n",
       "      <td>2</td>\n",
       "      <td>NR</td>\n",
       "      <td>103.31</td>\n",
       "    </tr>\n",
       "    <tr>\n",
       "      <td>3</td>\n",
       "      <td>E10+</td>\n",
       "      <td>75.70</td>\n",
       "    </tr>\n",
       "    <tr>\n",
       "      <td>4</td>\n",
       "      <td>T</td>\n",
       "      <td>66.02</td>\n",
       "    </tr>\n",
       "  </tbody>\n",
       "</table>\n",
       "</div>"
      ],
      "text/plain": [
       "  rating  na_sales\n",
       "0      M    231.57\n",
       "1      E    114.37\n",
       "2     NR    103.31\n",
       "3   E10+     75.70\n",
       "4      T     66.02"
      ]
     },
     "execution_count": 86,
     "metadata": {},
     "output_type": "execute_result"
    }
   ],
   "source": [
    "rating_and_sales_NA"
   ]
  },
  {
   "cell_type": "markdown",
   "metadata": {},
   "source": [
    "Европа `EU`."
   ]
  },
  {
   "cell_type": "code",
   "execution_count": 87,
   "metadata": {},
   "outputs": [],
   "source": [
    "rating_and_sales_EU = (data_for_ESRB\n",
    " .pivot_table(index = 'rating'\n",
    "              , values = 'eu_sales'\n",
    "              , aggfunc = 'sum')\n",
    " .sort_values(by = 'eu_sales', ascending = False)\n",
    " .reset_index())"
   ]
  },
  {
   "cell_type": "code",
   "execution_count": 88,
   "metadata": {},
   "outputs": [
    {
     "data": {
      "text/html": [
       "<div>\n",
       "<style scoped>\n",
       "    .dataframe tbody tr th:only-of-type {\n",
       "        vertical-align: middle;\n",
       "    }\n",
       "\n",
       "    .dataframe tbody tr th {\n",
       "        vertical-align: top;\n",
       "    }\n",
       "\n",
       "    .dataframe thead th {\n",
       "        text-align: right;\n",
       "    }\n",
       "</style>\n",
       "<table border=\"1\" class=\"dataframe\">\n",
       "  <thead>\n",
       "    <tr style=\"text-align: right;\">\n",
       "      <th></th>\n",
       "      <th>rating</th>\n",
       "      <th>eu_sales</th>\n",
       "    </tr>\n",
       "  </thead>\n",
       "  <tbody>\n",
       "    <tr>\n",
       "      <td>0</td>\n",
       "      <td>M</td>\n",
       "      <td>193.96</td>\n",
       "    </tr>\n",
       "    <tr>\n",
       "      <td>1</td>\n",
       "      <td>E</td>\n",
       "      <td>113.03</td>\n",
       "    </tr>\n",
       "    <tr>\n",
       "      <td>2</td>\n",
       "      <td>NR</td>\n",
       "      <td>91.50</td>\n",
       "    </tr>\n",
       "    <tr>\n",
       "      <td>3</td>\n",
       "      <td>E10+</td>\n",
       "      <td>55.37</td>\n",
       "    </tr>\n",
       "    <tr>\n",
       "      <td>4</td>\n",
       "      <td>T</td>\n",
       "      <td>52.96</td>\n",
       "    </tr>\n",
       "  </tbody>\n",
       "</table>\n",
       "</div>"
      ],
      "text/plain": [
       "  rating  eu_sales\n",
       "0      M    193.96\n",
       "1      E    113.03\n",
       "2     NR     91.50\n",
       "3   E10+     55.37\n",
       "4      T     52.96"
      ]
     },
     "execution_count": 88,
     "metadata": {},
     "output_type": "execute_result"
    }
   ],
   "source": [
    "rating_and_sales_EU"
   ]
  },
  {
   "cell_type": "markdown",
   "metadata": {},
   "source": [
    "Япония `JP`."
   ]
  },
  {
   "cell_type": "code",
   "execution_count": 89,
   "metadata": {},
   "outputs": [],
   "source": [
    "rating_and_sales_JP = (data_for_ESRB\n",
    " .pivot_table(index = 'rating'\n",
    "              , values = 'jp_sales'\n",
    "              , aggfunc = 'sum')\n",
    " .sort_values(by = 'jp_sales', ascending = False)\n",
    " .reset_index())"
   ]
  },
  {
   "cell_type": "code",
   "execution_count": 90,
   "metadata": {},
   "outputs": [
    {
     "data": {
      "text/html": [
       "<div>\n",
       "<style scoped>\n",
       "    .dataframe tbody tr th:only-of-type {\n",
       "        vertical-align: middle;\n",
       "    }\n",
       "\n",
       "    .dataframe tbody tr th {\n",
       "        vertical-align: top;\n",
       "    }\n",
       "\n",
       "    .dataframe thead th {\n",
       "        text-align: right;\n",
       "    }\n",
       "</style>\n",
       "<table border=\"1\" class=\"dataframe\">\n",
       "  <thead>\n",
       "    <tr style=\"text-align: right;\">\n",
       "      <th></th>\n",
       "      <th>rating</th>\n",
       "      <th>jp_sales</th>\n",
       "    </tr>\n",
       "  </thead>\n",
       "  <tbody>\n",
       "    <tr>\n",
       "      <td>0</td>\n",
       "      <td>NR</td>\n",
       "      <td>108.84</td>\n",
       "    </tr>\n",
       "    <tr>\n",
       "      <td>1</td>\n",
       "      <td>E</td>\n",
       "      <td>28.33</td>\n",
       "    </tr>\n",
       "    <tr>\n",
       "      <td>2</td>\n",
       "      <td>T</td>\n",
       "      <td>26.02</td>\n",
       "    </tr>\n",
       "    <tr>\n",
       "      <td>3</td>\n",
       "      <td>M</td>\n",
       "      <td>21.20</td>\n",
       "    </tr>\n",
       "    <tr>\n",
       "      <td>4</td>\n",
       "      <td>E10+</td>\n",
       "      <td>8.19</td>\n",
       "    </tr>\n",
       "  </tbody>\n",
       "</table>\n",
       "</div>"
      ],
      "text/plain": [
       "  rating  jp_sales\n",
       "0     NR    108.84\n",
       "1      E     28.33\n",
       "2      T     26.02\n",
       "3      M     21.20\n",
       "4   E10+      8.19"
      ]
     },
     "execution_count": 90,
     "metadata": {},
     "output_type": "execute_result"
    }
   ],
   "source": [
    "rating_and_sales_JP"
   ]
  },
  {
   "cell_type": "markdown",
   "metadata": {},
   "source": [
    "И снова у нас единодушие Америки и Европы, в противовес своим взглядам на мир игроков японского региона.\n",
    "В случае первых двух говорить о каком-то влиянии рейтинга `ESRB` не приходится от слова совсем. Тут уверенно первое место занимают игры 17+. Следовательно, ставку стоит делать на контент и целевую аудиторию. \n",
    "\n",
    "Да, в Японии некоторая зависимость вроде бы прослеживается, но она, во-первых, не то что бы очень внушительная, во-вторых такое количество отсутствующих значений не даёт нам право воспользоваться даже этим данными.\n",
    "\n",
    "Что касается, так называемых, игр без рейтинга `NR`, которые в свою очередь составляют внушительную часть наших данных, а в Японии так вообще с большим отрывом находятся на первом месте, то 'так называемые' они в первую очередь потому, что отсутствие рейтинга в рамках `ESRB` совершенно не означает его отсуствие в принципе. Просто исходя из того, что `ESRB` это не единственная организация, которая может присваивать рейтинг. \n",
    "\n",
    "Поэтому в реальной ситуации, для Европы и Америки можно было бы оставить всё как есть, а вот делать какие-то выводы для японского рынка, с таким количеством пропусков, мягко говоря, не совсем корректно. И если бы мы захотели наверняка убедиться в аналогичности ситуации американским и европейским рынка, то пришлось бы найти рейтинг других организаций и привести всё к общему знаменателю."
   ]
  },
  {
   "cell_type": "markdown",
   "metadata": {},
   "source": [
    "### Шаг 5. Проверка гипотез. <a id=\"Step_5\"></a>"
   ]
  },
  {
   "cell_type": "markdown",
   "metadata": {},
   "source": [
    "*5.1. Средние пользовательские рейтинги платформ Xbox One и PC одинаковые.* <a id=\"Step_5_1\"></a>"
   ]
  },
  {
   "cell_type": "markdown",
   "metadata": {},
   "source": [
    "Проверку гипотезы проведём через T-критерий Стьюдента.\n",
    "\n",
    "За нулевую гипотезу `Н_0` примем, что пользовательские рейтинги для платформ `XOne` и `PC` одинаковые.\n",
    "\n",
    "За альтернативную гипотезу `Н_1` примем обратное утверждение.\n",
    "\n",
    "Установим уровень критической значимости как `alpha = .05`\n",
    "\n",
    "Чтобы понять, какое значение присвоить параметру `equal_var`, произведём оценку дисперсии для каждой выборки. Создадим соответствующий фрейм для работы."
   ]
  },
  {
   "cell_type": "code",
   "execution_count": 91,
   "metadata": {
    "scrolled": true
   },
   "outputs": [],
   "source": [
    "data_for_hip = (data_curr\n",
    "          .dropna(subset = ['user_score'])\n",
    "          .reset_index(drop = True))"
   ]
  },
  {
   "cell_type": "code",
   "execution_count": 92,
   "metadata": {},
   "outputs": [
    {
     "name": "stdout",
     "output_type": "stream",
     "text": [
      "1.907\n",
      "2.77\n"
     ]
    }
   ],
   "source": [
    "print(round((data_for_hip.query('platform == \"XOne\"')['user_score'].var()),3))\n",
    "print(round((data_for_hip.query('platform == \"PC\"')['user_score'].var()),3))"
   ]
  },
  {
   "cell_type": "markdown",
   "metadata": {},
   "source": [
    "Примем `equal_var` равным True."
   ]
  },
  {
   "cell_type": "code",
   "execution_count": 93,
   "metadata": {},
   "outputs": [
    {
     "name": "stdout",
     "output_type": "stream",
     "text": [
      "p-значение: 0.5535080500643661\n",
      "Не получилось отвергнуть нулевую гипотезу\n"
     ]
    }
   ],
   "source": [
    "alpha = 0.05\n",
    "\n",
    "results =  st.ttest_ind(\n",
    "    data_for_hip.query('platform == \"XOne\"')['user_score'], \n",
    "    data_for_hip.query('platform == \"PC\"')['user_score'],\n",
    "    equal_var = True)\n",
    "\n",
    "print('p-значение:', results.pvalue)\n",
    "\n",
    "if (results.pvalue < alpha):\n",
    "    print(\"Отвергаем нулевую гипотезу\")\n",
    "else:\n",
    "    print(\"Не получилось отвергнуть нулевую гипотезу\")"
   ]
  },
  {
   "cell_type": "markdown",
   "metadata": {},
   "source": [
    "По результатам теста Стьюдента нулевую гипотезу не отвергаем. То есть средние пользовательские рейтинги платформ Xbox One и PC между собой равны."
   ]
  },
  {
   "cell_type": "markdown",
   "metadata": {},
   "source": [
    "*5.2. Средние пользовательские рейтинги жанров Action (англ. «действие», экшен-игры) и Sports (англ. «спортивные соревнования») разные.* <a id=\"Step_5_2\"></a>"
   ]
  },
  {
   "cell_type": "markdown",
   "metadata": {},
   "source": [
    "Проверку гипотезы проведём также через T-критерий Стьюдента.\n",
    "\n",
    "За нулевую гипотезу `Н_0` примем, что средние пользовательские рейтинги для жанров `Action` и `Sports` равны.\n",
    "\n",
    "За альтернативную гипотезу `Н_1` примем обратное утверждение.\n",
    "\n",
    "Установим уровень критической значимости как `alpha = .05`\n",
    "\n",
    "Чтобы понять, какое значение присвоить параметру `equal_var`, произведём оценку дисперсии для каждой выборки. "
   ]
  },
  {
   "cell_type": "code",
   "execution_count": 94,
   "metadata": {},
   "outputs": [
    {
     "name": "stdout",
     "output_type": "stream",
     "text": [
      "1.889\n",
      "3.039\n"
     ]
    }
   ],
   "source": [
    "print(round((data_for_hip.query('genre == \"Action\"')['user_score'].var()),3))\n",
    "print(round((data_for_hip.query('genre == \"Sports\"')['user_score'].var()),3))"
   ]
  },
  {
   "cell_type": "markdown",
   "metadata": {},
   "source": [
    "Примем `equal_var` равным True. "
   ]
  },
  {
   "cell_type": "code",
   "execution_count": 95,
   "metadata": {},
   "outputs": [
    {
     "name": "stdout",
     "output_type": "stream",
     "text": [
      "p-значение: 4.8045233804629176e-26\n",
      "Отвергаем нулевую гипотезу\n"
     ]
    }
   ],
   "source": [
    "alpha = 0.05\n",
    "\n",
    "results =  st.ttest_ind(\n",
    "    data_for_hip.query('genre == \"Action\"')['user_score'], \n",
    "    data_for_hip.query('genre == \"Sports\"')['user_score'],\n",
    "    equal_var = True)\n",
    "\n",
    "print('p-значение:', results.pvalue)\n",
    "\n",
    "if (results.pvalue < alpha):\n",
    "    print(\"Отвергаем нулевую гипотезу\")\n",
    "else:\n",
    "    print(\"Не получилось отвергнуть нулевую гипотезу\")"
   ]
  },
  {
   "cell_type": "markdown",
   "metadata": {},
   "source": [
    "Исходя из результатов теста, можно сделать вывод, что средние пользовательские рейтинги жанров Action и Sports не равны."
   ]
  },
  {
   "cell_type": "markdown",
   "metadata": {},
   "source": [
    "### Шаг 6. Общий вывод. <a id=\"Step_6\"></a>"
   ]
  },
  {
   "cell_type": "markdown",
   "metadata": {},
   "source": [
    "Итак. Наша основная задача попытаться установить принципы, на основании которых можно было бы сделать прогноз на следующий год, исходя из имеющейся информации о годах прошедших."
   ]
  },
  {
   "cell_type": "markdown",
   "metadata": {},
   "source": [
    "Попробуем сформулировать эти принципы, проанализировав и собрав воедино полученные результаты."
   ]
  },
  {
   "cell_type": "markdown",
   "metadata": {},
   "source": [
    "Первыми нашими шагами на пути к выполнению поставленной задачи являлись: загрузка, обзор, описание и подготовка данных. Все необходимые предпосылки для дальнейшей работы были сформированы."
   ]
  },
  {
   "cell_type": "markdown",
   "metadata": {},
   "source": [
    "Непосредственно анализ данных и составление портрета пользователя для каждого региона позволили нам получить следующие результаты, на основании которых можно построить как систему прогноза в целом, так и дать конкретные советы бизнесу в частности: \n",
    "\n",
    "1. Первое, что следует оценить - это репрезентативные свойства имеющейся выборки. Если у нас в одни годы продаётся 1000+ игр, а в другие не дотягивает и до 100, то стоит задуматься о границе, ниже которой рассматривать данные за год не имеет смысла. В нашем случае мы установили границу в 100 игр и продолжили анализ, отбросив все данные старше 1994. \n",
    "2. Далее, не лишним будет построить динамику продаж для глобального рынка, чтобы в целом понимать как общую картину на протяжении имеющегося интервала, так и то, в рамках какого тренда мы находимся на данный момент. Конректно в нашем случае легко заметить переломную точку в 2008 году. До неё - восходящий тренд, после - нисходящий.\n",
    "3. На основании анализа распределения по годам продаж компьютерных игр для каждой из платформ, удалось установить, что цикл жизни платформы составлет как правило 10 - 13 лет, из которых 4-5 идут на подъём и достижение максимума продаж компьютерных игр, а 6-8 на постепенный спад этого показателя до полного прекращения поддержки данной платформы. То есть, если с общих позиций оценивать для каких платформ продажа игр вероятней всего будет идти веселее в прогнозируемые период, то нужно брать интервал в 3-4 года до этого момента (чтобы оставался предполагаемый запас для потенциального роста). Конечно, с оговоркой на анализ общей динамики для каждой конкретной платформы. В нашем случае, для прогноза на 2017 год, наиболее перспективными, несмотря на некоторый спад, выглядят `PS4` и `XOne`.\n",
    "4. Также, при анализе стоит обращать внимание на принадлежность платформы к той или иной линейке, это, как и многое из того, что здесь есть, ещё не гарантия, но тоже признак. Яркий пример линейка консолей `Playstation`. Каждая модель, за исключением `PSP` (вероятней всего развитие смартфонов внесло свою не самую положительную лепту в ситуацию с продажами для этой и аналогичных ей платформ), продемонстрировала и демонстрирует весьма внушительные показатели. Для `PS2`, например, вообще продано больше всего игр за свю историю сущестования платформ. A `PS4` и `PS3` занимают 1-ое и 2-ое места по продажам игр соответственно за выбранными нами для анализа актуальный период.\n",
    "5. Следующим параметром, на который всё таки стоит обратить внимание, это влияние оценки критиков на количество продаж. Наше исследование показывает, что в случае пользователей влияние на продажи стремится к нулю, а вот критики, пусть и не решающую, но всё таки свою роль играют. Другими словами, высокий рейтинг критиков для предполгаемых к продажам игр лишним не будет точно. \n",
    "6. Если мы говорим о жанрах и предпочтениях целевой аудитории, то неплохо было бы соотносить динамику предыдущего периода с регионом, в котором планируется осуществлять продажи. Это повысило бы вероятность успеха относительно продаж той или иной игры. В рамках предоставленных данных выделяются 2 наиболее популярных жанра `Action` и `Shooter` для Америки и Европы, а для Японии это будут жанр `RPG` и `Action`. Для каждого из регионов на первую двойку приходится более половины всех продаж.\n",
    "7. При выборе: игры каких платформ вероятней будут продаваться успешней всего? Стоит оценивать данные не только за прошлые годы, но и делать это с поправкой на регион. Из анализа видно, что в целом, неплохо было бы попадать в топ-5 платформ для выбранного региона, потому что на них, как правило, приходится от 70 % до 90%  от всего объёма проданных игр.\n",
    "8. И наконец рейтинг ESRB. Анализ полученной информации показывает, что делать ставку на принцип: \"ниже ограничения - выше количество потенциальных покупателей\", - было бы ошибкой. Скорее качество контента, хорошее понимание своей целевой аудитории и соотвествующая рекламная компания, будут в большей степени сопутствовать коммерческому успеху, чем какие-то ни было возрастные ограничения либо их отсуствие. Исключением, правда, при дополнительном сборе данных, гипотетически могла бы стать Япония, но в нашем случае это остаётся под вопросом.  \n",
    "\n",
    "Хотелось бы отметить, что только комплексный, системный анализ описанных выше параметров и закономерностей позволит построить и сбалансировать модель, благодаря которой, опираясь на возможности магазина/бизнеса, можно было бы с высокой степенью вероятности спрогнозировать наиболее удачное решение относительно поставки и рекламы для тех или иных игр в том или ином регионе. "
   ]
  },
  {
   "cell_type": "markdown",
   "metadata": {},
   "source": [
    "Попробуем создать такую модель для каждого из регионов."
   ]
  },
  {
   "cell_type": "markdown",
   "metadata": {},
   "source": [
    "#### Северная Америка `NA` и Европа `EU`."
   ]
  },
  {
   "cell_type": "markdown",
   "metadata": {},
   "source": [
    "Здесь будет вестись речь как минимум о двух крупных рекламных компания разделённых по моделям платформ: \n",
    "\n",
    "1. Игры для платформы `PS4`.\n",
    "2. Игры для платформы `XOne`. \n",
    "\n",
    "Причём в большей степени, возможно пропорционально динамики продаж прошлых лет, то есть почти в 2 раза, я рекомендовал бы, сделать упор на `PS4`.\n",
    "\n",
    "Совсем забывать про остальные платформы из первой пятёрки я бы не стал. Акции, скидки, выбор наиболее популярных игр прошлых лет, другими словами что-то выжать из `X360`, `PS3`, `3DS` стоило попытаться. Но, конечно, основной бюджет - на лидеров."
   ]
  },
  {
   "cell_type": "markdown",
   "metadata": {},
   "source": [
    "Высокий рейтинг критиков был бы не лишний. Если игра не новая и есть данные динамики за прошлые годы, то смотрел бы в первую очерель на них. Так как рейтинг, это далеко не определяющая составляющая успеха."
   ]
  },
  {
   "cell_type": "markdown",
   "metadata": {},
   "source": [
    "Что касается жанров, то вероятней всего, в каждом из них есть свои звёзды, про которые нельзя забывать не в коем случае. Но именно для этого региона, массово я бы делал ставку на `Action` и `Shooter` в первую очередь. Во втором эшелоне шли бы `Sports`, `RPG` и `Misc`.\n",
    "\n",
    "Единственное, что для Европы я бы рекомендова вместое `Misc` включить во второй эшелон `Racing`."
   ]
  },
  {
   "cell_type": "markdown",
   "metadata": {},
   "source": [
    "Итого, топ-1 для прогноза на 2017 год будет игра на `PS4`, жанра `Action` с высоким рейтингом критиков."
   ]
  },
  {
   "cell_type": "markdown",
   "metadata": {},
   "source": [
    "#### Япония `JP`."
   ]
  },
  {
   "cell_type": "markdown",
   "metadata": {},
   "source": [
    "Для японского региона стоит выбрать следующих флагманов среди платформ: \n",
    "\n",
    "1. `PS4` - как наиболее перспективную. \n",
    "2. `3DS` - как невероятно популярную в Японии.\n",
    "3. `XOne` - существенно менее перспективную, чем `PS4`, но всё же способную, за счёт ребалансировки рынка, забрать своё у теряющих популярность платформ и войти в первую пятёрку.\n",
    "\n",
    "Второй эшелон здесь будут представлять `PS3`, `PSV`, `WiiU` в формате аналогичном Европе и Америки."
   ]
  },
  {
   "cell_type": "markdown",
   "metadata": {},
   "source": [
    "Подход к рейтингу критиков - аналогичный."
   ]
  },
  {
   "cell_type": "markdown",
   "metadata": {},
   "source": [
    "Жанры: основной ресурс на `RPG` и `Action`. \n",
    "\n",
    "`Misc`, `Simulation`, `Fighting` - по остаточному принципу. "
   ]
  },
  {
   "cell_type": "markdown",
   "metadata": {},
   "source": [
    "Что касается рейтинга ESRB, то именно для Японии , я бы рекомендовал получить более полные данные, и если иерархия, имеющаяся на данный момент, подтвердиться, а разрыв увеличиться, то несколько сместить выбор в сторону игр с рейтингом `E` и `T`."
   ]
  },
  {
   "cell_type": "markdown",
   "metadata": {},
   "source": [
    "Для Японии, игры, которые веротней всего будут продаваться лучше остальных, имеют следующие параметры: платформа `PS4`, жанр `RPG`, высокий рейтинг критиков и, возможно, при оговорённых выше условиях, рейтинг `ESRB` (иили аналогичный ему)  уровня `E`. "
   ]
  }
 ],
 "metadata": {
  "ExecuteTimeLog": [
   {
    "duration": 1303,
    "start_time": "2022-03-11T17:21:28.955Z"
   },
   {
    "duration": 56,
    "start_time": "2022-03-11T17:21:30.260Z"
   },
   {
    "duration": 107,
    "start_time": "2022-03-11T17:21:30.319Z"
   },
   {
    "duration": 4,
    "start_time": "2022-03-11T17:21:30.429Z"
   },
   {
    "duration": 14,
    "start_time": "2022-03-11T17:21:30.435Z"
   },
   {
    "duration": 14,
    "start_time": "2022-03-11T17:21:30.452Z"
   },
   {
    "duration": 10,
    "start_time": "2022-03-11T17:21:30.478Z"
   },
   {
    "duration": 18,
    "start_time": "2022-03-11T17:21:30.491Z"
   },
   {
    "duration": 14,
    "start_time": "2022-03-11T17:21:30.512Z"
   },
   {
    "duration": 18,
    "start_time": "2022-03-11T17:21:30.529Z"
   },
   {
    "duration": 38,
    "start_time": "2022-03-11T17:21:30.548Z"
   },
   {
    "duration": 25,
    "start_time": "2022-03-11T17:21:30.588Z"
   },
   {
    "duration": 21,
    "start_time": "2022-03-11T17:21:30.616Z"
   },
   {
    "duration": 98,
    "start_time": "2022-03-11T17:21:30.639Z"
   },
   {
    "duration": 83,
    "start_time": "2022-03-11T17:21:30.741Z"
   },
   {
    "duration": 26,
    "start_time": "2022-03-11T17:21:30.826Z"
   },
   {
    "duration": 25,
    "start_time": "2022-03-11T17:21:30.855Z"
   },
   {
    "duration": 48,
    "start_time": "2022-03-11T17:21:30.882Z"
   },
   {
    "duration": 8,
    "start_time": "2022-03-11T17:21:30.935Z"
   },
   {
    "duration": 28,
    "start_time": "2022-03-11T17:21:30.945Z"
   },
   {
    "duration": 9,
    "start_time": "2022-03-11T17:21:30.975Z"
   },
   {
    "duration": 538,
    "start_time": "2022-03-11T17:21:30.986Z"
   },
   {
    "duration": 19,
    "start_time": "2022-03-11T17:21:31.530Z"
   },
   {
    "duration": 280,
    "start_time": "2022-03-11T17:21:31.553Z"
   },
   {
    "duration": 42,
    "start_time": "2022-03-11T17:21:31.835Z"
   },
   {
    "duration": 11,
    "start_time": "2022-03-11T17:21:31.880Z"
   },
   {
    "duration": 785,
    "start_time": "2022-03-11T17:21:31.893Z"
   },
   {
    "duration": 25,
    "start_time": "2022-03-11T17:21:32.682Z"
   },
   {
    "duration": 12,
    "start_time": "2022-03-11T17:21:32.709Z"
   },
   {
    "duration": 686,
    "start_time": "2022-03-11T17:21:32.724Z"
   },
   {
    "duration": 716,
    "start_time": "2022-03-11T17:21:33.413Z"
   },
   {
    "duration": 648,
    "start_time": "2022-03-11T17:21:34.131Z"
   },
   {
    "duration": 6,
    "start_time": "2022-03-11T17:21:34.781Z"
   },
   {
    "duration": 17,
    "start_time": "2022-03-11T17:21:34.789Z"
   },
   {
    "duration": 471,
    "start_time": "2022-03-11T17:21:34.808Z"
   },
   {
    "duration": 6,
    "start_time": "2022-03-11T17:21:35.282Z"
   },
   {
    "duration": 16,
    "start_time": "2022-03-11T17:21:35.290Z"
   },
   {
    "duration": 15,
    "start_time": "2022-03-11T17:21:35.308Z"
   },
   {
    "duration": 618,
    "start_time": "2022-03-11T17:21:35.326Z"
   },
   {
    "duration": 7,
    "start_time": "2022-03-11T17:21:35.947Z"
   },
   {
    "duration": 25,
    "start_time": "2022-03-11T17:21:35.956Z"
   },
   {
    "duration": 24,
    "start_time": "2022-03-11T17:21:35.983Z"
   },
   {
    "duration": 477,
    "start_time": "2022-03-11T17:21:36.010Z"
   },
   {
    "duration": 6,
    "start_time": "2022-03-11T17:21:36.489Z"
   },
   {
    "duration": 10,
    "start_time": "2022-03-11T17:21:36.497Z"
   },
   {
    "duration": 14,
    "start_time": "2022-03-11T17:21:36.510Z"
   },
   {
    "duration": 17,
    "start_time": "2022-03-11T17:21:36.526Z"
   },
   {
    "duration": 14,
    "start_time": "2022-03-11T17:21:36.545Z"
   },
   {
    "duration": 7,
    "start_time": "2022-03-11T17:21:36.561Z"
   },
   {
    "duration": 16,
    "start_time": "2022-03-11T17:21:36.570Z"
   },
   {
    "duration": 600,
    "start_time": "2022-03-11T17:21:36.588Z"
   },
   {
    "duration": 12,
    "start_time": "2022-03-11T17:21:37.191Z"
   },
   {
    "duration": 12,
    "start_time": "2022-03-11T17:21:37.205Z"
   },
   {
    "duration": 59,
    "start_time": "2022-03-11T17:21:37.219Z"
   },
   {
    "duration": 9,
    "start_time": "2022-03-11T17:21:37.280Z"
   },
   {
    "duration": 20,
    "start_time": "2022-03-11T17:21:37.291Z"
   },
   {
    "duration": 14,
    "start_time": "2022-03-11T17:21:37.313Z"
   },
   {
    "duration": 11,
    "start_time": "2022-03-11T17:21:37.329Z"
   },
   {
    "duration": 6,
    "start_time": "2022-03-11T17:21:37.341Z"
   },
   {
    "duration": 7,
    "start_time": "2022-03-11T17:21:37.349Z"
   },
   {
    "duration": 13,
    "start_time": "2022-03-11T17:21:37.358Z"
   },
   {
    "duration": 14,
    "start_time": "2022-03-11T17:21:37.373Z"
   },
   {
    "duration": 13,
    "start_time": "2022-03-11T17:21:37.389Z"
   },
   {
    "duration": 6,
    "start_time": "2022-03-11T17:21:37.404Z"
   },
   {
    "duration": 9,
    "start_time": "2022-03-11T17:21:37.411Z"
   },
   {
    "duration": 15,
    "start_time": "2022-03-11T17:21:37.422Z"
   },
   {
    "duration": 11,
    "start_time": "2022-03-11T17:21:37.440Z"
   },
   {
    "duration": 11,
    "start_time": "2022-03-11T17:21:37.457Z"
   },
   {
    "duration": 17,
    "start_time": "2022-03-11T17:21:37.471Z"
   },
   {
    "duration": 7,
    "start_time": "2022-03-11T17:21:37.491Z"
   },
   {
    "duration": 8,
    "start_time": "2022-03-11T17:21:37.500Z"
   },
   {
    "duration": 11,
    "start_time": "2022-03-11T17:21:37.510Z"
   },
   {
    "duration": 55,
    "start_time": "2022-03-11T17:21:37.523Z"
   },
   {
    "duration": 10,
    "start_time": "2022-03-11T17:21:37.580Z"
   },
   {
    "duration": 7,
    "start_time": "2022-03-11T17:21:37.593Z"
   },
   {
    "duration": 14,
    "start_time": "2022-03-11T17:21:37.602Z"
   },
   {
    "duration": 65,
    "start_time": "2022-03-11T17:21:37.618Z"
   },
   {
    "duration": 8,
    "start_time": "2022-03-11T17:21:37.685Z"
   },
   {
    "duration": 9,
    "start_time": "2022-03-11T17:21:37.695Z"
   },
   {
    "duration": 16,
    "start_time": "2022-03-11T17:21:37.707Z"
   },
   {
    "duration": 58,
    "start_time": "2022-03-11T17:21:37.725Z"
   },
   {
    "duration": 14,
    "start_time": "2022-03-11T17:21:37.786Z"
   },
   {
    "duration": 18,
    "start_time": "2022-03-11T17:21:37.802Z"
   },
   {
    "duration": 59,
    "start_time": "2022-03-11T17:21:37.822Z"
   },
   {
    "duration": 18,
    "start_time": "2022-03-11T17:21:37.884Z"
   },
   {
    "duration": 16,
    "start_time": "2022-03-11T17:21:37.904Z"
   },
   {
    "duration": 65,
    "start_time": "2022-03-11T17:21:37.922Z"
   },
   {
    "duration": 9,
    "start_time": "2022-03-11T17:21:37.989Z"
   },
   {
    "duration": 16,
    "start_time": "2022-03-11T17:21:38.000Z"
   },
   {
    "duration": 15,
    "start_time": "2022-03-11T17:21:38.018Z"
   },
   {
    "duration": 11,
    "start_time": "2022-03-11T17:21:38.035Z"
   },
   {
    "duration": 37,
    "start_time": "2022-03-11T17:21:38.048Z"
   },
   {
    "duration": 11,
    "start_time": "2022-03-11T17:21:38.087Z"
   },
   {
    "duration": 12,
    "start_time": "2022-03-11T17:21:38.099Z"
   },
   {
    "duration": 11,
    "start_time": "2022-03-11T17:21:38.113Z"
   }
  ],
  "kernelspec": {
   "display_name": "Python 3 (ipykernel)",
   "language": "python",
   "name": "python3"
  },
  "language_info": {
   "codemirror_mode": {
    "name": "ipython",
    "version": 3
   },
   "file_extension": ".py",
   "mimetype": "text/x-python",
   "name": "python",
   "nbconvert_exporter": "python",
   "pygments_lexer": "ipython3",
   "version": "3.9.7"
  },
  "toc": {
   "base_numbering": 1,
   "nav_menu": {},
   "number_sections": false,
   "sideBar": true,
   "skip_h1_title": true,
   "title_cell": "Table of Contents",
   "title_sidebar": "Contents",
   "toc_cell": false,
   "toc_position": {},
   "toc_section_display": true,
   "toc_window_display": false
  }
 },
 "nbformat": 4,
 "nbformat_minor": 2
}
