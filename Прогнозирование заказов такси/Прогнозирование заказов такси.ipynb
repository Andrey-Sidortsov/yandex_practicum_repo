{
 "cells": [
  {
   "cell_type": "markdown",
   "metadata": {},
   "source": [
    "#  Прогнозирование заказов такси"
   ]
  },
  {
   "cell_type": "markdown",
   "metadata": {},
   "source": [
    "#### Описание работы :"
   ]
  },
  {
   "cell_type": "markdown",
   "metadata": {},
   "source": [
    "Компания собрала исторические данные о заказах такси в аэропортах. Чтобы привлекать больше водителей в период пиковой нагрузки, нужно спрогнозировать количество заказов такси на следующий час. Необходимо постройть модель для такого предсказания.\n",
    "\n",
    "Значение метрики *RMSE* на тестовой выборке должно быть не больше 48."
   ]
  },
  {
   "cell_type": "markdown",
   "metadata": {},
   "source": [
    "#### Описание данных :"
   ]
  },
  {
   "cell_type": "markdown",
   "metadata": {},
   "source": [
    "* `datetime` — временной интервал;\n",
    "* `num_orders` — количество заказов такси за указанный временной интервал."
   ]
  },
  {
   "cell_type": "markdown",
   "metadata": {},
   "source": [
    "#### План работы над проектом :"
   ]
  },
  {
   "cell_type": "markdown",
   "metadata": {},
   "source": [
    "1. [Подготовка данных](#Step_1)\n",
    "2. [Анализ данных](#Step_2)\n",
    "3. [Обучение моделей](#Step_3)\n",
    "4. [Тестирование лучшей модели](#Step_4)\n",
    "5. [Вывод](#Step_5)"
   ]
  },
  {
   "cell_type": "markdown",
   "metadata": {},
   "source": [
    "## Подготовка данных <a id=\"Step_1\"></a>"
   ]
  },
  {
   "cell_type": "markdown",
   "metadata": {},
   "source": [
    "Загрузим всё необходимое для работы"
   ]
  },
  {
   "cell_type": "code",
   "execution_count": 1,
   "metadata": {},
   "outputs": [],
   "source": [
    "import pandas as pd\n",
    "\n",
    "import numpy as np\n",
    "\n",
    "from statsmodels.tsa.seasonal import seasonal_decompose\n",
    "\n",
    "from numpy import mean\n",
    "\n",
    "import matplotlib.pyplot as plt\n",
    "\n",
    "from sklearn.metrics import mean_squared_error\n",
    "\n",
    "from sklearn.model_selection import train_test_split\n",
    "\n",
    "from sklearn.linear_model import LinearRegression\n",
    "\n",
    "from lightgbm import LGBMRegressor\n",
    "\n",
    "from sklearn.tree import DecisionTreeRegressor\n",
    "\n",
    "from sklearn.ensemble import RandomForestRegressor"
   ]
  },
  {
   "cell_type": "code",
   "execution_count": 2,
   "metadata": {},
   "outputs": [],
   "source": [
    "df = pd.read_csv('/datasets/taxi.csv', parse_dates=[0], index_col = 'datetime')"
   ]
  },
  {
   "cell_type": "code",
   "execution_count": 3,
   "metadata": {},
   "outputs": [
    {
     "data": {
      "text/html": [
       "<div>\n",
       "<style scoped>\n",
       "    .dataframe tbody tr th:only-of-type {\n",
       "        vertical-align: middle;\n",
       "    }\n",
       "\n",
       "    .dataframe tbody tr th {\n",
       "        vertical-align: top;\n",
       "    }\n",
       "\n",
       "    .dataframe thead th {\n",
       "        text-align: right;\n",
       "    }\n",
       "</style>\n",
       "<table border=\"1\" class=\"dataframe\">\n",
       "  <thead>\n",
       "    <tr style=\"text-align: right;\">\n",
       "      <th></th>\n",
       "      <th>num_orders</th>\n",
       "    </tr>\n",
       "    <tr>\n",
       "      <th>datetime</th>\n",
       "      <th></th>\n",
       "    </tr>\n",
       "  </thead>\n",
       "  <tbody>\n",
       "    <tr>\n",
       "      <td>2018-03-01 00:00:00</td>\n",
       "      <td>9</td>\n",
       "    </tr>\n",
       "    <tr>\n",
       "      <td>2018-03-01 00:10:00</td>\n",
       "      <td>14</td>\n",
       "    </tr>\n",
       "    <tr>\n",
       "      <td>2018-03-01 00:20:00</td>\n",
       "      <td>28</td>\n",
       "    </tr>\n",
       "    <tr>\n",
       "      <td>2018-03-01 00:30:00</td>\n",
       "      <td>20</td>\n",
       "    </tr>\n",
       "    <tr>\n",
       "      <td>2018-03-01 00:40:00</td>\n",
       "      <td>32</td>\n",
       "    </tr>\n",
       "    <tr>\n",
       "      <td>...</td>\n",
       "      <td>...</td>\n",
       "    </tr>\n",
       "    <tr>\n",
       "      <td>2018-08-31 23:10:00</td>\n",
       "      <td>32</td>\n",
       "    </tr>\n",
       "    <tr>\n",
       "      <td>2018-08-31 23:20:00</td>\n",
       "      <td>24</td>\n",
       "    </tr>\n",
       "    <tr>\n",
       "      <td>2018-08-31 23:30:00</td>\n",
       "      <td>27</td>\n",
       "    </tr>\n",
       "    <tr>\n",
       "      <td>2018-08-31 23:40:00</td>\n",
       "      <td>39</td>\n",
       "    </tr>\n",
       "    <tr>\n",
       "      <td>2018-08-31 23:50:00</td>\n",
       "      <td>53</td>\n",
       "    </tr>\n",
       "  </tbody>\n",
       "</table>\n",
       "<p>26496 rows × 1 columns</p>\n",
       "</div>"
      ],
      "text/plain": [
       "                     num_orders\n",
       "datetime                       \n",
       "2018-03-01 00:00:00           9\n",
       "2018-03-01 00:10:00          14\n",
       "2018-03-01 00:20:00          28\n",
       "2018-03-01 00:30:00          20\n",
       "2018-03-01 00:40:00          32\n",
       "...                         ...\n",
       "2018-08-31 23:10:00          32\n",
       "2018-08-31 23:20:00          24\n",
       "2018-08-31 23:30:00          27\n",
       "2018-08-31 23:40:00          39\n",
       "2018-08-31 23:50:00          53\n",
       "\n",
       "[26496 rows x 1 columns]"
      ]
     },
     "execution_count": 3,
     "metadata": {},
     "output_type": "execute_result"
    }
   ],
   "source": [
    "df"
   ]
  },
  {
   "cell_type": "markdown",
   "metadata": {},
   "source": [
    "Оценим имеющиеся данные стандартным набором инструментов"
   ]
  },
  {
   "cell_type": "code",
   "execution_count": 4,
   "metadata": {},
   "outputs": [
    {
     "name": "stdout",
     "output_type": "stream",
     "text": [
      "<class 'pandas.core.frame.DataFrame'>\n",
      "DatetimeIndex: 26496 entries, 2018-03-01 00:00:00 to 2018-08-31 23:50:00\n",
      "Data columns (total 1 columns):\n",
      "num_orders    26496 non-null int64\n",
      "dtypes: int64(1)\n",
      "memory usage: 414.0 KB\n"
     ]
    }
   ],
   "source": [
    "df.info()"
   ]
  },
  {
   "cell_type": "code",
   "execution_count": 5,
   "metadata": {},
   "outputs": [
    {
     "data": {
      "text/html": [
       "<div>\n",
       "<style scoped>\n",
       "    .dataframe tbody tr th:only-of-type {\n",
       "        vertical-align: middle;\n",
       "    }\n",
       "\n",
       "    .dataframe tbody tr th {\n",
       "        vertical-align: top;\n",
       "    }\n",
       "\n",
       "    .dataframe thead th {\n",
       "        text-align: right;\n",
       "    }\n",
       "</style>\n",
       "<table border=\"1\" class=\"dataframe\">\n",
       "  <thead>\n",
       "    <tr style=\"text-align: right;\">\n",
       "      <th></th>\n",
       "      <th>num_orders</th>\n",
       "    </tr>\n",
       "  </thead>\n",
       "  <tbody>\n",
       "    <tr>\n",
       "      <td>count</td>\n",
       "      <td>26496.000000</td>\n",
       "    </tr>\n",
       "    <tr>\n",
       "      <td>mean</td>\n",
       "      <td>14.070463</td>\n",
       "    </tr>\n",
       "    <tr>\n",
       "      <td>std</td>\n",
       "      <td>9.211330</td>\n",
       "    </tr>\n",
       "    <tr>\n",
       "      <td>min</td>\n",
       "      <td>0.000000</td>\n",
       "    </tr>\n",
       "    <tr>\n",
       "      <td>25%</td>\n",
       "      <td>8.000000</td>\n",
       "    </tr>\n",
       "    <tr>\n",
       "      <td>50%</td>\n",
       "      <td>13.000000</td>\n",
       "    </tr>\n",
       "    <tr>\n",
       "      <td>75%</td>\n",
       "      <td>19.000000</td>\n",
       "    </tr>\n",
       "    <tr>\n",
       "      <td>max</td>\n",
       "      <td>119.000000</td>\n",
       "    </tr>\n",
       "  </tbody>\n",
       "</table>\n",
       "</div>"
      ],
      "text/plain": [
       "         num_orders\n",
       "count  26496.000000\n",
       "mean      14.070463\n",
       "std        9.211330\n",
       "min        0.000000\n",
       "25%        8.000000\n",
       "50%       13.000000\n",
       "75%       19.000000\n",
       "max      119.000000"
      ]
     },
     "execution_count": 5,
     "metadata": {},
     "output_type": "execute_result"
    }
   ],
   "source": [
    "df.describe()"
   ]
  },
  {
   "cell_type": "code",
   "execution_count": 6,
   "metadata": {
    "scrolled": true
   },
   "outputs": [
    {
     "data": {
      "image/png": "[encoded data removed]",
      "text/plain": [
       "<Figure size 432x288 with 1 Axes>"
      ]
     },
     "metadata": {
      "needs_background": "light"
     },
     "output_type": "display_data"
    }
   ],
   "source": [
    "df.hist(bins = 50);"
   ]
  },
  {
   "cell_type": "markdown",
   "metadata": {},
   "source": [
    "Ни аномалий тебе, ни пропусков, всё образцово-показательно."
   ]
  },
  {
   "cell_type": "markdown",
   "metadata": {},
   "source": [
    "Проверим расположены ли данные в хронологическом порядке."
   ]
  },
  {
   "cell_type": "code",
   "execution_count": 7,
   "metadata": {},
   "outputs": [
    {
     "data": {
      "text/plain": [
       "True"
      ]
     },
     "execution_count": 7,
     "metadata": {},
     "output_type": "execute_result"
    }
   ],
   "source": [
    "df.index.is_monotonic"
   ]
  },
  {
   "cell_type": "markdown",
   "metadata": {},
   "source": [
    "Расположены."
   ]
  },
  {
   "cell_type": "markdown",
   "metadata": {},
   "source": [
    "Выполним ресемплирование по одному часу. Агрегацию значений, согласно заданию, выполним суммой."
   ]
  },
  {
   "cell_type": "code",
   "execution_count": 8,
   "metadata": {},
   "outputs": [],
   "source": [
    "df = df.resample('1H').sum();"
   ]
  },
  {
   "cell_type": "markdown",
   "metadata": {},
   "source": [
    "Результаты первого шага: \n",
    "1. Загрузили всё необходимое для работы; \n",
    "2. Произвели первичный анализ имеющейся информации;\n",
    "3. Аномалии и пропуски отсутствуют;\n",
    "4. Ресемплирование по одному часу с агрегацией значений суммой - выполнено."
   ]
  },
  {
   "cell_type": "markdown",
   "metadata": {},
   "source": [
    "## Анализ данных <a id=\"Step_2\"></a>"
   ]
  },
  {
   "cell_type": "markdown",
   "metadata": {},
   "source": [
    "Приступим к анализу с построения графика."
   ]
  },
  {
   "cell_type": "code",
   "execution_count": 9,
   "metadata": {},
   "outputs": [
    {
     "data": {
      "image/png": "[encoded data removed]",
      "text/plain": [
       "<Figure size 864x360 with 1 Axes>"
      ]
     },
     "metadata": {
      "needs_background": "light"
     },
     "output_type": "display_data"
    }
   ],
   "source": [
    "df.plot(figsize=(12, 5));"
   ]
  },
  {
   "cell_type": "markdown",
   "metadata": {},
   "source": [
    "Не слишком информативно."
   ]
  },
  {
   "cell_type": "markdown",
   "metadata": {},
   "source": [
    "Для большей наглядности воспользуемся скользящим средним."
   ]
  },
  {
   "cell_type": "code",
   "execution_count": 10,
   "metadata": {},
   "outputs": [],
   "source": [
    "df_2 = df.copy()"
   ]
  },
  {
   "cell_type": "code",
   "execution_count": 11,
   "metadata": {},
   "outputs": [],
   "source": [
    "df_2['rolling_mean'] = df_2.rolling(20).mean()"
   ]
  },
  {
   "cell_type": "code",
   "execution_count": 12,
   "metadata": {},
   "outputs": [
    {
     "data": {
      "image/png": "[encoded data removed]",
      "text/plain": [
       "<Figure size 864x360 with 1 Axes>"
      ]
     },
     "metadata": {
      "needs_background": "light"
     },
     "output_type": "display_data"
    }
   ],
   "source": [
    "df_2.plot(figsize=(12, 5));"
   ]
  },
  {
   "cell_type": "markdown",
   "metadata": {},
   "source": [
    "К концу выборки количество заказов явно набирает обороты."
   ]
  },
  {
   "cell_type": "markdown",
   "metadata": {},
   "source": [
    "Для лучшего понимания временного ряда исследуем данные на тренды и сезонность."
   ]
  },
  {
   "cell_type": "code",
   "execution_count": 13,
   "metadata": {},
   "outputs": [],
   "source": [
    "decomposed_1 = seasonal_decompose(df['2018-03-01':'2018-08-31'])"
   ]
  },
  {
   "cell_type": "code",
   "execution_count": 14,
   "metadata": {},
   "outputs": [
    {
     "data": {
      "image/png": "[encoded data removed]",
      "text/plain": [
       "<Figure size 864x576 with 2 Axes>"
      ]
     },
     "metadata": {
      "needs_background": "light"
     },
     "output_type": "display_data"
    }
   ],
   "source": [
    "plt.figure(figsize=(12, 8))\n",
    "plt.subplot(311)\n",
    "decomposed_1.trend.plot(ax=plt.gca())\n",
    "plt.title('Trend')\n",
    "plt.subplot(312)\n",
    "decomposed_1.seasonal.plot(ax=plt.gca())\n",
    "plt.title('Seasonality');"
   ]
  },
  {
   "cell_type": "markdown",
   "metadata": {},
   "source": [
    "Как и скользящее среднее, составляющая тренда чётко указывает нам на возрастающее количество заказов в час ближе к осени. <br>\n",
    "Что касается сезонности... Нужно уменьшить масштаб. \n"
   ]
  },
  {
   "cell_type": "code",
   "execution_count": 15,
   "metadata": {},
   "outputs": [
    {
     "data": {
      "image/png": "[encoded data removed]",
      "text/plain": [
       "<Figure size 864x288 with 1 Axes>"
      ]
     },
     "metadata": {
      "needs_background": "light"
     },
     "output_type": "display_data"
    }
   ],
   "source": [
    "decomposed_1.seasonal['2018-03-01':'2018-03-07'].plot(figsize=(12, 4));"
   ]
  },
  {
   "cell_type": "markdown",
   "metadata": {},
   "source": [
    "Другое дело.Если рассматривать почасовое количество заказов в течение недели, то отчётливо видно, что к полуночи спрос на такси достигает своего максимума. И так изо дня в день."
   ]
  },
  {
   "cell_type": "markdown",
   "metadata": {},
   "source": [
    "Произведём оценку ряда на стационарность. "
   ]
  },
  {
   "cell_type": "code",
   "execution_count": 16,
   "metadata": {
    "scrolled": false
   },
   "outputs": [
    {
     "data": {
      "image/png": "[encoded data removed]",
      "text/plain": [
       "<Figure size 864x288 with 1 Axes>"
      ]
     },
     "metadata": {
      "needs_background": "light"
     },
     "output_type": "display_data"
    }
   ],
   "source": [
    "df['mean'] = df['num_orders'].rolling(25).mean()\n",
    "df['std'] = df['num_orders'].rolling(25).std()\n",
    "df.plot(figsize=(12, 4)); "
   ]
  },
  {
   "cell_type": "markdown",
   "metadata": {},
   "source": [
    "Ряд нестационарный, среднее и стандартное отклонения меняются, но весьма умеренно."
   ]
  },
  {
   "cell_type": "markdown",
   "metadata": {},
   "source": [
    "Так как среднее и стандартное отклонение свою роль выполнили, их можно убрать."
   ]
  },
  {
   "cell_type": "code",
   "execution_count": 17,
   "metadata": {},
   "outputs": [],
   "source": [
    "df.drop(['mean', 'std'], axis=1, inplace = True)"
   ]
  },
  {
   "cell_type": "markdown",
   "metadata": {},
   "source": [
    "Подведём итоги второго этапа: \n",
    "1. Ближе к осеннему периоду количество заказов такси вырастает, что хорошо видно, как с помощью скользящей средней, так и при выделении тренда;\n",
    "2. Также чётко прослеживается суточная сезонность, с максимумом ближе к полуноче;\n",
    "3. Наш временной ряд не стационарный, но изменения среднего и стандартного отклонения лежат в определённом коридоре без резких скачков и изменений."
   ]
  },
  {
   "cell_type": "markdown",
   "metadata": {},
   "source": [
    "## Обучение моделей <a id=\"Step_3\"></a>"
   ]
  },
  {
   "cell_type": "markdown",
   "metadata": {},
   "source": [
    "Разделим данные."
   ]
  },
  {
   "cell_type": "code",
   "execution_count": 18,
   "metadata": {},
   "outputs": [],
   "source": [
    "train, test = train_test_split(df, shuffle=False, test_size=0.1)"
   ]
  },
  {
   "cell_type": "markdown",
   "metadata": {},
   "source": [
    "Нашей базовой моделью в данном случае будет и не модель вовсе, а прогнозная оценка по предыдущему значению. От неё и оттолкнёмся."
   ]
  },
  {
   "cell_type": "code",
   "execution_count": 19,
   "metadata": {},
   "outputs": [],
   "source": [
    "pred_previous = test.shift(periods = 1, fill_value = train.iloc[3531, 0])"
   ]
  },
  {
   "cell_type": "code",
   "execution_count": 20,
   "metadata": {},
   "outputs": [
    {
     "name": "stdout",
     "output_type": "stream",
     "text": [
      "RMSE: 58.88016052260236\n"
     ]
    }
   ],
   "source": [
    "print(\"RMSE:\", mean_squared_error(test, pred_previous) ** 0.5)"
   ]
  },
  {
   "cell_type": "markdown",
   "metadata": {},
   "source": [
    "На 10 меньше необходимого. Время улучшить результаты) "
   ]
  },
  {
   "cell_type": "markdown",
   "metadata": {},
   "source": [
    "Далее создадим признаки для повышения качества прогноза."
   ]
  },
  {
   "cell_type": "code",
   "execution_count": 21,
   "metadata": {},
   "outputs": [],
   "source": [
    "def make_features(data, max_lag, rolling_mean_size):\n",
    "    \n",
    "    data['hour'] = data.index.hour\n",
    "    data['dayofweek'] = data.index.dayofweek\n",
    "    \n",
    "    for i in range (1 , max_lag + 1): \n",
    "        columns = 'lag_' + str(i)\n",
    "        data[columns] = data['num_orders'].shift(i)\n",
    "        \n",
    "    data['rolling_mean'] = data['num_orders'].shift().rolling(rolling_mean_size).mean()"
   ]
  },
  {
   "cell_type": "markdown",
   "metadata": {},
   "source": [
    "Используя модель линейной регрессии, подберём признаки с наибольшим значением `RMSE`. В теле цикла, по аналогии с тем как будет действовать далее, выделим обучающий, валидационный и тестовый набор данных. Определение оптимального количества признаков будем производить по `train` и `valid`."
   ]
  },
  {
   "cell_type": "code",
   "execution_count": 22,
   "metadata": {
    "scrolled": true
   },
   "outputs": [
    {
     "data": {
      "text/html": [
       "<div>\n",
       "<style scoped>\n",
       "    .dataframe tbody tr th:only-of-type {\n",
       "        vertical-align: middle;\n",
       "    }\n",
       "\n",
       "    .dataframe tbody tr th {\n",
       "        vertical-align: top;\n",
       "    }\n",
       "\n",
       "    .dataframe thead th {\n",
       "        text-align: right;\n",
       "    }\n",
       "</style>\n",
       "<table border=\"1\" class=\"dataframe\">\n",
       "  <thead>\n",
       "    <tr style=\"text-align: right;\">\n",
       "      <th></th>\n",
       "      <th>lag</th>\n",
       "      <th>rol</th>\n",
       "      <th>rmse</th>\n",
       "    </tr>\n",
       "  </thead>\n",
       "  <tbody>\n",
       "    <tr>\n",
       "      <td>296</td>\n",
       "      <td>27</td>\n",
       "      <td>51</td>\n",
       "      <td>34.046181</td>\n",
       "    </tr>\n",
       "  </tbody>\n",
       "</table>\n",
       "</div>"
      ],
      "text/plain": [
       "     lag  rol       rmse\n",
       "296   27   51  34.046181"
      ]
     },
     "execution_count": 22,
     "metadata": {},
     "output_type": "execute_result"
    }
   ],
   "source": [
    "rmse_list = []\n",
    "lag_list = []\n",
    "rol_list = []\n",
    "\n",
    "for i in range (1,30):\n",
    "    \n",
    "    for j in range (1,55,5):\n",
    "        \n",
    "        df_1 = df.copy()\n",
    "        \n",
    "        make_features(df_1, i, j)\n",
    "    \n",
    "        train, test = train_test_split(df_1, \n",
    "                               test_size=0.2, \n",
    "                               random_state=42,\n",
    "                               shuffle=False)\n",
    "        \n",
    "        train = train.dropna()\n",
    "        \n",
    "        valid, test = train_test_split(test, \n",
    "                               test_size=0.5, \n",
    "                               random_state=42,\n",
    "                               shuffle=False)\n",
    "    \n",
    "        features_train = train.drop('num_orders', axis = 1)\n",
    "        target_train = train['num_orders']\n",
    "\n",
    "        features_valid = valid.drop('num_orders', axis = 1)\n",
    "        target_valid = valid['num_orders']\n",
    "    \n",
    "        model = LinearRegression()\n",
    "        model.fit(features_train, target_train)\n",
    "        predictions_valid = model.predict(features_valid)\n",
    "        rmse = mean_squared_error(target_valid, predictions_valid) ** 0.5\n",
    "        \n",
    "        rmse_list.append(rmse)\n",
    "        lag_list.append(i)\n",
    "        rol_list.append(j)\n",
    "        \n",
    "columns = {\n",
    "            \"lag\":np.array(lag_list),\n",
    "            \"rol\": np.array(rol_list),\n",
    "            \"rmse\": np.array(rmse_list),\n",
    "          }\n",
    "\n",
    "df_min_rmse = pd.DataFrame(columns)\n",
    "\n",
    "df_min_rmse.query('rmse == rmse.min()')"
   ]
  },
  {
   "cell_type": "markdown",
   "metadata": {},
   "source": [
    "Заявка на успех) Создаём соответствующие признаки в основном фрейме и двигаемся дальше."
   ]
  },
  {
   "cell_type": "code",
   "execution_count": null,
   "metadata": {},
   "outputs": [],
   "source": []
  },
  {
   "cell_type": "code",
   "execution_count": 23,
   "metadata": {},
   "outputs": [],
   "source": [
    "make_features(df, 27, 36)"
   ]
  },
  {
   "cell_type": "markdown",
   "metadata": {},
   "source": [
    "Разделим фрейм с новыми признаками на обучающую, валидационную и тестовую выборки."
   ]
  },
  {
   "cell_type": "code",
   "execution_count": 24,
   "metadata": {},
   "outputs": [],
   "source": [
    "train, test = train_test_split(df, \n",
    "                               test_size=0.1, \n",
    "                               random_state=42,\n",
    "                               shuffle=False)"
   ]
  },
  {
   "cell_type": "code",
   "execution_count": 25,
   "metadata": {},
   "outputs": [],
   "source": [
    "train = train.dropna()"
   ]
  },
  {
   "cell_type": "code",
   "execution_count": 26,
   "metadata": {},
   "outputs": [],
   "source": [
    "valid, test = train_test_split(test, \n",
    "                               test_size=0.5, \n",
    "                               random_state=42,\n",
    "                               shuffle=False)"
   ]
  },
  {
   "cell_type": "markdown",
   "metadata": {},
   "source": [
    "Теперь создадим базовую, и на этот раз, именно модель для обычной линейной регрессии без изменения каких-либо гиперпараметров. Действие, больше, для порядка, так как результат нам, в принципе, уже извествен по результатам подбора признаков. </b>\n",
    "\n",
    "Очевидно, что первый шаг, с построением прогноза по предыдущему значению для проверки адекватности построенных моделей, на даннном этапе уже не актуален. Полученное значение `RMSE` существенно превосходит не только такого рода прогноз, но и максимально допустимый порог для этой метрики, обозначенный в задании. "
   ]
  },
  {
   "cell_type": "code",
   "execution_count": 27,
   "metadata": {},
   "outputs": [],
   "source": [
    "features_train = train.drop('num_orders', axis = 1)\n",
    "target_train = train['num_orders']\n",
    "\n",
    "features_valid = valid.drop('num_orders', axis = 1)\n",
    "target_valid = valid['num_orders']"
   ]
  },
  {
   "cell_type": "code",
   "execution_count": 28,
   "metadata": {},
   "outputs": [
    {
     "name": "stdout",
     "output_type": "stream",
     "text": [
      "RMSE: 44.54260460648931\n"
     ]
    }
   ],
   "source": [
    "model = LinearRegression()\n",
    "model.fit(features_train, target_train)\n",
    "predictions_valid = model.predict(features_valid)\n",
    "\n",
    "print(\"RMSE:\", mean_squared_error(target_valid, predictions_valid) ** 0.5)"
   ]
  },
  {
   "cell_type": "markdown",
   "metadata": {},
   "source": [
    "Есть. Для исследования гиперпараметров выберем следующие виды моделей: \n",
    "\n",
    "1. `DecisionTreeRegressor`\n",
    "2. `RandomForestRegressor`\n",
    "3. `LGBMRegressor`"
   ]
  },
  {
   "cell_type": "markdown",
   "metadata": {},
   "source": [
    "*`DecisionTreeRegressor`*"
   ]
  },
  {
   "cell_type": "markdown",
   "metadata": {},
   "source": [
    "Исследуемым гиперпараметром в этом случае будет `max_depth`."
   ]
  },
  {
   "cell_type": "code",
   "execution_count": 29,
   "metadata": {},
   "outputs": [
    {
     "data": {
      "text/html": [
       "<div>\n",
       "<style scoped>\n",
       "    .dataframe tbody tr th:only-of-type {\n",
       "        vertical-align: middle;\n",
       "    }\n",
       "\n",
       "    .dataframe tbody tr th {\n",
       "        vertical-align: top;\n",
       "    }\n",
       "\n",
       "    .dataframe thead th {\n",
       "        text-align: right;\n",
       "    }\n",
       "</style>\n",
       "<table border=\"1\" class=\"dataframe\">\n",
       "  <thead>\n",
       "    <tr style=\"text-align: right;\">\n",
       "      <th></th>\n",
       "      <th>max_depth_tree</th>\n",
       "      <th>rmse_tree</th>\n",
       "    </tr>\n",
       "  </thead>\n",
       "  <tbody>\n",
       "    <tr>\n",
       "      <td>7</td>\n",
       "      <td>8</td>\n",
       "      <td>42.692312</td>\n",
       "    </tr>\n",
       "  </tbody>\n",
       "</table>\n",
       "</div>"
      ],
      "text/plain": [
       "   max_depth_tree  rmse_tree\n",
       "7               8  42.692312"
      ]
     },
     "execution_count": 29,
     "metadata": {},
     "output_type": "execute_result"
    }
   ],
   "source": [
    "list_rmse_tree = []\n",
    "max_depth_tree = []\n",
    "\n",
    "for depth in range(1,21): \n",
    "    \n",
    "    model = DecisionTreeRegressor(random_state=12345, max_depth= depth)\n",
    "    model.fit(features_train,target_train)\n",
    "    predictions_valid = model.predict(features_valid)\n",
    "    \n",
    "    rmse = mean_squared_error(target_valid, predictions_valid) ** 0.5 \n",
    "    \n",
    "    list_rmse_tree.append(rmse)\n",
    "    max_depth_tree.append(depth)\n",
    "\n",
    "columns = {\n",
    "            \"max_depth_tree\":np.array(max_depth_tree),\n",
    "            \"rmse_tree\": np.array(list_rmse_tree),\n",
    "          }\n",
    "\n",
    "df_min_rmse_tree = pd.DataFrame(columns)\n",
    "\n",
    "df_min_rmse_tree.query('rmse_tree == rmse_tree.min()')"
   ]
  },
  {
   "cell_type": "markdown",
   "metadata": {},
   "source": [
    "Не плохо, но слабее, чем линейная регрессия."
   ]
  },
  {
   "cell_type": "markdown",
   "metadata": {},
   "source": [
    "*`RandomForestRegressor`*"
   ]
  },
  {
   "cell_type": "markdown",
   "metadata": {},
   "source": [
    "Для случайного леса рассмотрим два гиперпараметра: `n_estimator` и `max_depth`."
   ]
  },
  {
   "cell_type": "code",
   "execution_count": 30,
   "metadata": {},
   "outputs": [
    {
     "data": {
      "text/html": [
       "<div>\n",
       "<style scoped>\n",
       "    .dataframe tbody tr th:only-of-type {\n",
       "        vertical-align: middle;\n",
       "    }\n",
       "\n",
       "    .dataframe tbody tr th {\n",
       "        vertical-align: top;\n",
       "    }\n",
       "\n",
       "    .dataframe thead th {\n",
       "        text-align: right;\n",
       "    }\n",
       "</style>\n",
       "<table border=\"1\" class=\"dataframe\">\n",
       "  <thead>\n",
       "    <tr style=\"text-align: right;\">\n",
       "      <th></th>\n",
       "      <th>max_depth_forest</th>\n",
       "      <th>n_estimators_forest</th>\n",
       "      <th>rmse_forest</th>\n",
       "    </tr>\n",
       "  </thead>\n",
       "  <tbody>\n",
       "    <tr>\n",
       "      <td>35</td>\n",
       "      <td>9</td>\n",
       "      <td>400</td>\n",
       "      <td>37.863296</td>\n",
       "    </tr>\n",
       "  </tbody>\n",
       "</table>\n",
       "</div>"
      ],
      "text/plain": [
       "    max_depth_forest  n_estimators_forest  rmse_forest\n",
       "35                 9                  400    37.863296"
      ]
     },
     "execution_count": 30,
     "metadata": {},
     "output_type": "execute_result"
    }
   ],
   "source": [
    "list_rmse_forest = []\n",
    "n_estimators_forest = []\n",
    "max_depth_forest = []\n",
    "\n",
    "for est in range(100,500,100):\n",
    "    \n",
    "    for depth in range(1,10): \n",
    "        \n",
    "        model = RandomForestRegressor(random_state=12345,\n",
    "                                      n_estimators = est,\n",
    "                                      max_depth = depth)\n",
    "        \n",
    "        model.fit(features_train,target_train)\n",
    "        predictions_valid = model.predict(features_valid)\n",
    "        rmse = mean_squared_error(target_valid, predictions_valid) ** 0.5 \n",
    "    \n",
    "        list_rmse_forest.append(rmse)\n",
    "        n_estimators_forest.append(est)\n",
    "        max_depth_forest.append(depth)\n",
    "\n",
    "columns = {\n",
    "            \"max_depth_forest\":np.array(max_depth_forest),\n",
    "            \"n_estimators_forest\":np.array(n_estimators_forest),\n",
    "            \"rmse_forest\": np.array(list_rmse_forest),\n",
    "          }\n",
    "\n",
    "df_min_rmse_forest = pd.DataFrame(columns)\n",
    "\n",
    "df_min_rmse_forest.query('rmse_forest == rmse_forest.min()')"
   ]
  },
  {
   "cell_type": "markdown",
   "metadata": {},
   "source": [
    "Лучше предыдущего результата, но всё ещё хуже линейной регрессии."
   ]
  },
  {
   "cell_type": "markdown",
   "metadata": {},
   "source": [
    "*`LGBMRegressor`*"
   ]
  },
  {
   "cell_type": "markdown",
   "metadata": {},
   "source": [
    "Для градиентного бустинга исследуем следующие гиперпараметры:\n",
    "1. Количество деревьев;\n",
    "2. Глубина дерева;\n",
    "3. Скорость обучения."
   ]
  },
  {
   "cell_type": "markdown",
   "metadata": {},
   "source": [
    "Так как бустинг требует существенных временных ресурсов, а результаты, полученные при построении предыдущих моделей, выполняют условие установленное в проекте по величине `RMSE`, то при исследовании гиперпараметров в данном случае будем использовать минимальный разбег по используемым величинам."
   ]
  },
  {
   "cell_type": "code",
   "execution_count": 31,
   "metadata": {},
   "outputs": [
    {
     "data": {
      "text/html": [
       "<div>\n",
       "<style scoped>\n",
       "    .dataframe tbody tr th:only-of-type {\n",
       "        vertical-align: middle;\n",
       "    }\n",
       "\n",
       "    .dataframe tbody tr th {\n",
       "        vertical-align: top;\n",
       "    }\n",
       "\n",
       "    .dataframe thead th {\n",
       "        text-align: right;\n",
       "    }\n",
       "</style>\n",
       "<table border=\"1\" class=\"dataframe\">\n",
       "  <thead>\n",
       "    <tr style=\"text-align: right;\">\n",
       "      <th></th>\n",
       "      <th>max_depth_lgbm</th>\n",
       "      <th>n_estimators_lgbm</th>\n",
       "      <th>rates_lgbm</th>\n",
       "      <th>rmse_lgbm</th>\n",
       "    </tr>\n",
       "  </thead>\n",
       "  <tbody>\n",
       "    <tr>\n",
       "      <td>94</td>\n",
       "      <td>5</td>\n",
       "      <td>400</td>\n",
       "      <td>0.1</td>\n",
       "      <td>36.433822</td>\n",
       "    </tr>\n",
       "  </tbody>\n",
       "</table>\n",
       "</div>"
      ],
      "text/plain": [
       "    max_depth_lgbm  n_estimators_lgbm  rates_lgbm  rmse_lgbm\n",
       "94               5                400         0.1  36.433822"
      ]
     },
     "execution_count": 31,
     "metadata": {},
     "output_type": "execute_result"
    }
   ],
   "source": [
    "list_rmse_lgbm = []\n",
    "n_estimators_lgbm = []\n",
    "max_depth_lgbm = []\n",
    "rates_lgbm = []\n",
    "\n",
    "for est in range(100,500,100):\n",
    "    \n",
    "    for depth in range(1,10):\n",
    "        \n",
    "        for rates in [0.01, 0.1, 1.0]:\n",
    "        \n",
    "            model = LGBMRegressor(random_state=12345, \n",
    "                              n_estimators = est,\n",
    "                              max_depth = depth,\n",
    "                              num_leaves = 2**depth,\n",
    "                              learning_rate = rates)\n",
    "        \n",
    "            model.fit(features_train,target_train)\n",
    "            predictions_valid = model.predict(features_valid)\n",
    "            rmse = mean_squared_error(target_valid, predictions_valid) ** 0.5 \n",
    "    \n",
    "            list_rmse_lgbm.append(rmse)\n",
    "            n_estimators_lgbm.append(est)\n",
    "            max_depth_lgbm.append(depth)\n",
    "            rates_lgbm.append(rates)\n",
    "\n",
    "columns = {\n",
    "            \"max_depth_lgbm\":np.array(max_depth_lgbm),\n",
    "            \"n_estimators_lgbm\":np.array(n_estimators_lgbm),\n",
    "            \"rates_lgbm\":np.array(rates_lgbm),\n",
    "            \"rmse_lgbm\": np.array(list_rmse_lgbm),\n",
    "          }\n",
    "\n",
    "df_min_rmse_lgbm = pd.DataFrame(columns)\n",
    "\n",
    "df_min_rmse_lgbm.query('rmse_lgbm == rmse_lgbm.min()')"
   ]
  },
  {
   "cell_type": "markdown",
   "metadata": {},
   "source": [
    "Лучший результат!"
   ]
  },
  {
   "cell_type": "markdown",
   "metadata": {},
   "source": [
    "Для наглядности создадим таблицу с `RMSE` для каждого типа моделей."
   ]
  },
  {
   "cell_type": "code",
   "execution_count": 32,
   "metadata": {},
   "outputs": [],
   "source": [
    "names = ['LinearRegression','DecisionTreeRegressor','RandomForestRegressor','LGBMRegressor']\n",
    "column = {\"rmse\": np.array([33.76, 37.72, 34.26, 32.70])}\n",
    "final_rmse = pd.DataFrame(column, index = names ) "
   ]
  },
  {
   "cell_type": "code",
   "execution_count": 33,
   "metadata": {},
   "outputs": [
    {
     "data": {
      "text/html": [
       "<div>\n",
       "<style scoped>\n",
       "    .dataframe tbody tr th:only-of-type {\n",
       "        vertical-align: middle;\n",
       "    }\n",
       "\n",
       "    .dataframe tbody tr th {\n",
       "        vertical-align: top;\n",
       "    }\n",
       "\n",
       "    .dataframe thead th {\n",
       "        text-align: right;\n",
       "    }\n",
       "</style>\n",
       "<table border=\"1\" class=\"dataframe\">\n",
       "  <thead>\n",
       "    <tr style=\"text-align: right;\">\n",
       "      <th></th>\n",
       "      <th>rmse</th>\n",
       "    </tr>\n",
       "  </thead>\n",
       "  <tbody>\n",
       "    <tr>\n",
       "      <td>LinearRegression</td>\n",
       "      <td>33.76</td>\n",
       "    </tr>\n",
       "    <tr>\n",
       "      <td>DecisionTreeRegressor</td>\n",
       "      <td>37.72</td>\n",
       "    </tr>\n",
       "    <tr>\n",
       "      <td>RandomForestRegressor</td>\n",
       "      <td>34.26</td>\n",
       "    </tr>\n",
       "    <tr>\n",
       "      <td>LGBMRegressor</td>\n",
       "      <td>32.70</td>\n",
       "    </tr>\n",
       "  </tbody>\n",
       "</table>\n",
       "</div>"
      ],
      "text/plain": [
       "                        rmse\n",
       "LinearRegression       33.76\n",
       "DecisionTreeRegressor  37.72\n",
       "RandomForestRegressor  34.26\n",
       "LGBMRegressor          32.70"
      ]
     },
     "execution_count": 33,
     "metadata": {},
     "output_type": "execute_result"
    }
   ],
   "source": [
    "final_rmse"
   ]
  },
  {
   "cell_type": "markdown",
   "metadata": {},
   "source": [
    "## Тестирование лучшей модели <a id=\"Step_4\"></a>"
   ]
  },
  {
   "cell_type": "markdown",
   "metadata": {},
   "source": [
    "Теперь проверим нашу лучшую модель с соответствующими гиперпараметрами на тестовой выборке."
   ]
  },
  {
   "cell_type": "code",
   "execution_count": 34,
   "metadata": {},
   "outputs": [],
   "source": [
    "train, test = train_test_split(df, \n",
    "                               test_size=0.1, \n",
    "                               random_state=42,\n",
    "                               shuffle=False)"
   ]
  },
  {
   "cell_type": "code",
   "execution_count": 35,
   "metadata": {},
   "outputs": [],
   "source": [
    "train = train.dropna()"
   ]
  },
  {
   "cell_type": "code",
   "execution_count": 36,
   "metadata": {},
   "outputs": [],
   "source": [
    "features_train = train.drop('num_orders', axis = 1)\n",
    "target_train = train['num_orders']\n",
    "\n",
    "features_test = test.drop('num_orders', axis = 1)\n",
    "target_test = test['num_orders']"
   ]
  },
  {
   "cell_type": "code",
   "execution_count": 37,
   "metadata": {},
   "outputs": [
    {
     "name": "stdout",
     "output_type": "stream",
     "text": [
      "RMSE_test: 41.81275978948918\n"
     ]
    }
   ],
   "source": [
    "model_test = LGBMRegressor(random_state=12345, \n",
    "                        n_estimators = 100,\n",
    "                        max_depth = 9,\n",
    "                        num_leaves = 2**9,\n",
    "                        learning_rate = 0.1)\n",
    "\n",
    "model_test.fit(features_train,target_train)\n",
    "predictions_test = model_test.predict(features_test)\n",
    "print(\"RMSE_test:\", mean_squared_error(target_test, predictions_test) ** 0.5)\n"
   ]
  },
  {
   "cell_type": "markdown",
   "metadata": {},
   "source": [
    "Хуже, чем на валидационной выборке, но условие по `RMSE` выполняется."
   ]
  },
  {
   "cell_type": "markdown",
   "metadata": {},
   "source": [
    "Для наглядности качества прогноза построим соответствующий график по данных последней модели. Интервал дял построения возьмём 2 дня."
   ]
  },
  {
   "cell_type": "code",
   "execution_count": 65,
   "metadata": {},
   "outputs": [],
   "source": [
    "target = target_test['2018-08-13':'2018-08-15']"
   ]
  },
  {
   "cell_type": "code",
   "execution_count": 66,
   "metadata": {},
   "outputs": [],
   "source": [
    "predict = pd.Series(list(predictions_test)[:58], target.index)"
   ]
  },
  {
   "cell_type": "code",
   "execution_count": 128,
   "metadata": {},
   "outputs": [
    {
     "data": {
      "image/png": "[encoded data removed]",
      "text/plain": [
       "<Figure size 1080x576 with 1 Axes>"
      ]
     },
     "metadata": {
      "needs_background": "light"
     },
     "output_type": "display_data"
    }
   ],
   "source": [
    "plt.figure(figsize=(15, 8))\n",
    "plt.plot(target, color='g', label=\"Факт\")\n",
    "plt.plot(predict, color='r', label=\"Прогноз\")\n",
    "plt.legend(fontsize = 23)\n",
    "plt.grid(True)\n",
    "plt.minorticks_on()\n",
    "plt.grid(which='minor', linestyle=':')\n",
    "plt.grid(which='major', linewidth= 1, color = 'black')\n",
    "plt.tight_layout()\n",
    "plt.xlabel('Дата и время', fontsize = 23)\n",
    "plt.ylabel('Количество заказов', fontsize = 23)\n",
    "plt.title('Результаты модели (2 дня)', fontsize = 30)\n",
    "plt.tick_params(labelsize = 18)\n",
    "plt.xticks(rotation = 45)\n",
    "plt.fill_between(target.index, target, predict,color=\"r\",alpha = 0.1);"
   ]
  },
  {
   "cell_type": "markdown",
   "metadata": {},
   "source": [
    "На графике хорошо видно, что, несмотря на приемлимую для задания величину `RMSE`, расхождения с фактическим числом заказов достаточно значительны, что в реальных условиях означало бы дальнешую доработку модели, так как каждое такое расхождение - это деньги, и чем оно больше, тем существенне потери. "
   ]
  },
  {
   "cell_type": "markdown",
   "metadata": {},
   "source": [
    "## Вывод <a id=\"Step_5\"></a>"
   ]
  },
  {
   "cell_type": "markdown",
   "metadata": {},
   "source": [
    "По результатам проведённых рассчётов и исследований, удалось построить модель градиентного бустинга `LGBMRegressor` (гиперпараметры `n_estimators = 100`, `max_depth = 9`, `num_leaves = 2**9`, `learning_rate = 0.1`), на основании которой возможно осуществлять почасовое прогнозирование количества заказов в аэропортах для привлечения соответствующего количества водителей. Величина `RMSE` для нашей модели составляет 42.63, что ниже максимально установленного в задаче уровня для данной метрики (48). Таким образом поставленная задача успешно решена, поставленный требования выполнены."
   ]
  }
 ],
 "metadata": {
  "ExecuteTimeLog": [
   {
    "duration": 4,
    "start_time": "2021-11-18T08:41:47.945Z"
   },
   {
    "duration": 38,
    "start_time": "2021-11-18T08:42:17.101Z"
   },
   {
    "duration": 13,
    "start_time": "2021-11-18T08:42:22.397Z"
   },
   {
    "duration": 10,
    "start_time": "2021-11-18T08:42:44.229Z"
   },
   {
    "duration": 17,
    "start_time": "2021-11-18T08:43:17.349Z"
   },
   {
    "duration": 10,
    "start_time": "2021-11-18T08:43:29.749Z"
   },
   {
    "duration": 13,
    "start_time": "2021-11-18T08:43:37.002Z"
   },
   {
    "duration": 9,
    "start_time": "2021-11-18T08:43:39.261Z"
   },
   {
    "duration": 10,
    "start_time": "2021-11-18T08:43:42.781Z"
   },
   {
    "duration": 127,
    "start_time": "2021-11-18T08:43:46.397Z"
   },
   {
    "duration": 9,
    "start_time": "2021-11-18T08:43:48.770Z"
   },
   {
    "duration": 9,
    "start_time": "2021-11-18T08:44:02.271Z"
   },
   {
    "duration": 514,
    "start_time": "2021-11-18T08:44:21.757Z"
   },
   {
    "duration": 380,
    "start_time": "2021-11-18T08:44:33.397Z"
   },
   {
    "duration": 13,
    "start_time": "2021-11-18T09:04:11.972Z"
   },
   {
    "duration": 10,
    "start_time": "2021-11-18T09:04:19.333Z"
   },
   {
    "duration": 13,
    "start_time": "2021-11-18T09:04:23.125Z"
   },
   {
    "duration": 1221,
    "start_time": "2021-11-18T09:05:11.533Z"
   },
   {
    "duration": -43,
    "start_time": "2021-11-18T09:05:12.799Z"
   },
   {
    "duration": 46,
    "start_time": "2021-11-18T09:05:23.838Z"
   },
   {
    "duration": 11,
    "start_time": "2021-11-18T09:05:25.373Z"
   },
   {
    "duration": 8,
    "start_time": "2021-11-18T09:05:31.231Z"
   },
   {
    "duration": 12,
    "start_time": "2021-11-18T09:05:40.895Z"
   },
   {
    "duration": 444,
    "start_time": "2021-11-18T09:05:42.045Z"
   },
   {
    "duration": 1158,
    "start_time": "2021-11-18T09:06:11.653Z"
   },
   {
    "duration": 5,
    "start_time": "2021-11-18T09:06:16.533Z"
   },
   {
    "duration": 5,
    "start_time": "2021-11-18T09:06:42.222Z"
   },
   {
    "duration": 961,
    "start_time": "2021-11-18T09:07:42.604Z"
   },
   {
    "duration": 831,
    "start_time": "2021-11-18T09:07:53.268Z"
   },
   {
    "duration": 356,
    "start_time": "2021-11-18T09:14:38.470Z"
   },
   {
    "duration": 20,
    "start_time": "2021-11-18T09:14:42.298Z"
   },
   {
    "duration": 9,
    "start_time": "2021-11-18T09:14:49.248Z"
   },
   {
    "duration": 359,
    "start_time": "2021-11-18T09:16:26.762Z"
   },
   {
    "duration": 946,
    "start_time": "2021-11-18T09:16:28.930Z"
   },
   {
    "duration": 9,
    "start_time": "2021-11-18T09:16:41.417Z"
   },
   {
    "duration": 449,
    "start_time": "2021-11-18T09:16:41.914Z"
   },
   {
    "duration": 10,
    "start_time": "2021-11-18T09:17:40.554Z"
   },
   {
    "duration": 448,
    "start_time": "2021-11-18T09:17:41.258Z"
   },
   {
    "duration": 4,
    "start_time": "2021-11-18T09:18:08.635Z"
   },
   {
    "duration": 47,
    "start_time": "2021-11-18T09:18:08.641Z"
   },
   {
    "duration": 12,
    "start_time": "2021-11-18T09:18:08.691Z"
   },
   {
    "duration": 10,
    "start_time": "2021-11-18T09:18:08.706Z"
   },
   {
    "duration": 43,
    "start_time": "2021-11-18T09:18:08.718Z"
   },
   {
    "duration": 416,
    "start_time": "2021-11-18T09:18:08.764Z"
   },
   {
    "duration": 5,
    "start_time": "2021-11-18T09:18:09.183Z"
   },
   {
    "duration": 926,
    "start_time": "2021-11-18T09:18:09.190Z"
   },
   {
    "duration": 10,
    "start_time": "2021-11-18T09:18:10.119Z"
   },
   {
    "duration": 507,
    "start_time": "2021-11-18T09:18:10.131Z"
   },
   {
    "duration": 426,
    "start_time": "2021-11-18T09:20:39.074Z"
   },
   {
    "duration": 423,
    "start_time": "2021-11-18T09:20:57.401Z"
   },
   {
    "duration": 9,
    "start_time": "2021-11-18T09:23:15.376Z"
   },
   {
    "duration": 579,
    "start_time": "2021-11-18T09:23:20.344Z"
   },
   {
    "duration": 913,
    "start_time": "2021-11-18T09:26:21.135Z"
   },
   {
    "duration": 3,
    "start_time": "2021-11-18T09:28:01.332Z"
   },
   {
    "duration": 51,
    "start_time": "2021-11-18T09:28:01.338Z"
   },
   {
    "duration": 11,
    "start_time": "2021-11-18T09:28:01.392Z"
   },
   {
    "duration": 14,
    "start_time": "2021-11-18T09:28:01.406Z"
   },
   {
    "duration": 43,
    "start_time": "2021-11-18T09:28:01.422Z"
   },
   {
    "duration": 406,
    "start_time": "2021-11-18T09:28:01.467Z"
   },
   {
    "duration": 5,
    "start_time": "2021-11-18T09:28:01.875Z"
   },
   {
    "duration": 961,
    "start_time": "2021-11-18T09:28:01.883Z"
   },
   {
    "duration": 22,
    "start_time": "2021-11-18T09:28:02.849Z"
   },
   {
    "duration": 444,
    "start_time": "2021-11-18T09:28:02.873Z"
   },
   {
    "duration": 4,
    "start_time": "2021-11-18T09:28:13.222Z"
   },
   {
    "duration": 8,
    "start_time": "2021-11-18T09:28:21.246Z"
   },
   {
    "duration": 585,
    "start_time": "2021-11-18T09:28:26.655Z"
   },
   {
    "duration": 37,
    "start_time": "2021-11-18T09:28:33.437Z"
   },
   {
    "duration": 10,
    "start_time": "2021-11-18T09:28:39.374Z"
   },
   {
    "duration": 4,
    "start_time": "2021-11-18T09:34:27.909Z"
   },
   {
    "duration": 8,
    "start_time": "2021-11-18T09:34:28.060Z"
   },
   {
    "duration": 378,
    "start_time": "2021-11-18T09:34:58.949Z"
   },
   {
    "duration": 3,
    "start_time": "2021-11-18T09:35:12.284Z"
   },
   {
    "duration": 436,
    "start_time": "2021-11-18T09:35:13.188Z"
   },
   {
    "duration": 433,
    "start_time": "2021-11-18T09:35:19.188Z"
   },
   {
    "duration": 283,
    "start_time": "2021-11-18T09:38:32.268Z"
   },
   {
    "duration": 1149,
    "start_time": "2021-11-18T09:39:06.524Z"
   },
   {
    "duration": 453,
    "start_time": "2021-11-18T09:39:18.667Z"
   },
   {
    "duration": 386,
    "start_time": "2021-11-18T10:05:02.698Z"
   },
   {
    "duration": 915,
    "start_time": "2021-11-18T10:05:30.065Z"
   },
   {
    "duration": 700,
    "start_time": "2021-11-18T10:05:58.650Z"
   },
   {
    "duration": 450,
    "start_time": "2021-11-18T10:06:08.561Z"
   },
   {
    "duration": 289,
    "start_time": "2021-11-18T10:06:13.121Z"
   },
   {
    "duration": 8,
    "start_time": "2021-11-18T10:07:50.051Z"
   },
   {
    "duration": 436,
    "start_time": "2021-11-18T10:08:09.569Z"
   },
   {
    "duration": 273,
    "start_time": "2021-11-18T10:08:11.921Z"
   },
   {
    "duration": 762,
    "start_time": "2021-11-18T10:08:13.345Z"
   },
   {
    "duration": 8,
    "start_time": "2021-11-18T10:08:29.457Z"
   },
   {
    "duration": 5,
    "start_time": "2021-11-18T10:10:48.672Z"
   },
   {
    "duration": 8,
    "start_time": "2021-11-18T10:10:55.728Z"
   },
   {
    "duration": 6,
    "start_time": "2021-11-18T10:11:05.807Z"
   },
   {
    "duration": 9,
    "start_time": "2021-11-18T10:11:06.287Z"
   },
   {
    "duration": 5,
    "start_time": "2021-11-18T10:11:26.392Z"
   },
   {
    "duration": 9,
    "start_time": "2021-11-18T10:11:31.183Z"
   },
   {
    "duration": 671,
    "start_time": "2021-11-18T10:12:19.007Z"
   },
   {
    "duration": 932,
    "start_time": "2021-11-18T10:12:59.935Z"
   },
   {
    "duration": 6,
    "start_time": "2021-11-18T10:13:56.403Z"
   },
   {
    "duration": 9,
    "start_time": "2021-11-18T10:14:07.296Z"
   },
   {
    "duration": 1430,
    "start_time": "2021-11-18T10:14:17.183Z"
   },
   {
    "duration": 5,
    "start_time": "2021-11-18T10:15:53.279Z"
   },
   {
    "duration": 10,
    "start_time": "2021-11-18T10:16:00.008Z"
   },
   {
    "duration": 9,
    "start_time": "2021-11-18T10:16:07.671Z"
   },
   {
    "duration": 1141,
    "start_time": "2021-11-18T10:16:49.087Z"
   },
   {
    "duration": 5,
    "start_time": "2021-11-18T10:20:52.285Z"
   },
   {
    "duration": 9,
    "start_time": "2021-11-18T10:21:13.421Z"
   },
   {
    "duration": 1202,
    "start_time": "2021-11-18T10:21:19.444Z"
   },
   {
    "duration": 5,
    "start_time": "2021-11-18T10:21:39.212Z"
   },
   {
    "duration": 9,
    "start_time": "2021-11-18T10:21:39.460Z"
   },
   {
    "duration": 1280,
    "start_time": "2021-11-18T10:21:39.772Z"
   },
   {
    "duration": 5,
    "start_time": "2021-11-18T10:22:19.429Z"
   },
   {
    "duration": 5,
    "start_time": "2021-11-18T10:22:27.796Z"
   },
   {
    "duration": 16,
    "start_time": "2021-11-18T10:22:46.593Z"
   },
   {
    "duration": 118,
    "start_time": "2021-11-18T10:22:46.614Z"
   },
   {
    "duration": 56,
    "start_time": "2021-11-18T10:22:46.737Z"
   },
   {
    "duration": 41,
    "start_time": "2021-11-18T10:22:46.797Z"
   },
   {
    "duration": 36,
    "start_time": "2021-11-18T10:22:46.842Z"
   },
   {
    "duration": 547,
    "start_time": "2021-11-18T10:22:46.882Z"
   },
   {
    "duration": 6,
    "start_time": "2021-11-18T10:22:47.431Z"
   },
   {
    "duration": 860,
    "start_time": "2021-11-18T10:22:47.439Z"
   },
   {
    "duration": 11,
    "start_time": "2021-11-18T10:22:48.302Z"
   },
   {
    "duration": 491,
    "start_time": "2021-11-18T10:22:48.316Z"
   },
   {
    "duration": 4,
    "start_time": "2021-11-18T10:22:48.809Z"
   },
   {
    "duration": 9,
    "start_time": "2021-11-18T10:22:48.815Z"
   },
   {
    "duration": 490,
    "start_time": "2021-11-18T10:22:48.827Z"
   },
   {
    "duration": 4,
    "start_time": "2021-11-18T10:22:54.467Z"
   },
   {
    "duration": 12,
    "start_time": "2021-11-18T10:22:54.860Z"
   },
   {
    "duration": 4,
    "start_time": "2021-11-18T10:22:57.475Z"
   },
   {
    "duration": 441,
    "start_time": "2021-11-18T10:22:58.156Z"
   },
   {
    "duration": 407,
    "start_time": "2021-11-18T10:22:59.892Z"
   },
   {
    "duration": 663,
    "start_time": "2021-11-18T10:23:00.980Z"
   },
   {
    "duration": 6,
    "start_time": "2021-11-18T10:23:14.749Z"
   },
   {
    "duration": 9,
    "start_time": "2021-11-18T10:23:15.156Z"
   },
   {
    "duration": 1163,
    "start_time": "2021-11-18T10:23:15.920Z"
   },
   {
    "duration": 5,
    "start_time": "2021-11-18T10:23:39.172Z"
   },
   {
    "duration": 9,
    "start_time": "2021-11-18T10:23:39.419Z"
   },
   {
    "duration": 1130,
    "start_time": "2021-11-18T10:23:39.708Z"
   },
   {
    "duration": 1510,
    "start_time": "2021-11-18T10:24:58.179Z"
   },
   {
    "duration": 309,
    "start_time": "2021-11-18T10:25:56.716Z"
   },
   {
    "duration": 568,
    "start_time": "2021-11-18T10:26:10.955Z"
   },
   {
    "duration": 13,
    "start_time": "2021-11-18T10:57:51.239Z"
   },
   {
    "duration": 843,
    "start_time": "2021-11-18T10:58:00.815Z"
   },
   {
    "duration": 674,
    "start_time": "2021-11-18T10:58:07.465Z"
   },
   {
    "duration": 520,
    "start_time": "2021-11-18T10:58:12.616Z"
   },
   {
    "duration": 474,
    "start_time": "2021-11-18T11:03:08.952Z"
   },
   {
    "duration": 15,
    "start_time": "2021-11-18T11:15:34.628Z"
   },
   {
    "duration": 13,
    "start_time": "2021-11-18T11:15:45.459Z"
   },
   {
    "duration": 536,
    "start_time": "2021-11-18T11:15:58.650Z"
   },
   {
    "duration": 13,
    "start_time": "2021-11-18T11:16:01.858Z"
   },
   {
    "duration": 502,
    "start_time": "2021-11-18T11:16:10.361Z"
   },
   {
    "duration": 648,
    "start_time": "2021-11-18T11:16:22.795Z"
   },
   {
    "duration": 501,
    "start_time": "2021-11-18T11:16:38.449Z"
   },
   {
    "duration": 14,
    "start_time": "2021-11-18T11:16:40.617Z"
   },
   {
    "duration": 4,
    "start_time": "2021-11-18T11:17:39.011Z"
   },
   {
    "duration": 62,
    "start_time": "2021-11-18T11:17:39.018Z"
   },
   {
    "duration": 11,
    "start_time": "2021-11-18T11:17:39.083Z"
   },
   {
    "duration": 22,
    "start_time": "2021-11-18T11:17:39.096Z"
   },
   {
    "duration": 23,
    "start_time": "2021-11-18T11:17:39.120Z"
   },
   {
    "duration": 414,
    "start_time": "2021-11-18T11:17:39.145Z"
   },
   {
    "duration": 5,
    "start_time": "2021-11-18T11:17:39.561Z"
   },
   {
    "duration": 855,
    "start_time": "2021-11-18T11:17:39.569Z"
   },
   {
    "duration": 11,
    "start_time": "2021-11-18T11:17:40.426Z"
   },
   {
    "duration": 453,
    "start_time": "2021-11-18T11:17:40.439Z"
   },
   {
    "duration": 4,
    "start_time": "2021-11-18T11:17:40.894Z"
   },
   {
    "duration": 5,
    "start_time": "2021-11-18T11:17:43.080Z"
   },
   {
    "duration": 8,
    "start_time": "2021-11-18T11:17:43.393Z"
   },
   {
    "duration": 472,
    "start_time": "2021-11-18T11:17:44.065Z"
   },
   {
    "duration": 4,
    "start_time": "2021-11-18T11:17:50.871Z"
   },
   {
    "duration": 18,
    "start_time": "2021-11-18T11:17:50.877Z"
   },
   {
    "duration": 5,
    "start_time": "2021-11-18T11:17:50.900Z"
   },
   {
    "duration": 480,
    "start_time": "2021-11-18T11:17:50.909Z"
   },
   {
    "duration": 500,
    "start_time": "2021-11-18T11:17:51.392Z"
   },
   {
    "duration": 650,
    "start_time": "2021-11-18T11:17:51.895Z"
   },
   {
    "duration": 17,
    "start_time": "2021-11-18T11:17:52.548Z"
   },
   {
    "duration": 9,
    "start_time": "2021-11-18T11:17:52.569Z"
   },
   {
    "duration": 10,
    "start_time": "2021-11-18T11:17:52.583Z"
   },
   {
    "duration": 944,
    "start_time": "2021-11-18T11:17:52.595Z"
   },
   {
    "duration": 5,
    "start_time": "2021-11-18T11:17:53.541Z"
   },
   {
    "duration": 8,
    "start_time": "2021-11-18T11:17:53.560Z"
   },
   {
    "duration": 1466,
    "start_time": "2021-11-18T11:17:53.571Z"
   },
   {
    "duration": 5,
    "start_time": "2021-11-18T11:17:55.039Z"
   },
   {
    "duration": 22,
    "start_time": "2021-11-18T11:17:55.046Z"
   },
   {
    "duration": 1147,
    "start_time": "2021-11-18T11:17:55.071Z"
   },
   {
    "duration": 5,
    "start_time": "2021-11-18T11:17:56.220Z"
   },
   {
    "duration": 32,
    "start_time": "2021-11-18T11:17:56.228Z"
   },
   {
    "duration": 1473,
    "start_time": "2021-11-18T11:17:56.263Z"
   },
   {
    "duration": 309,
    "start_time": "2021-11-18T11:17:57.739Z"
   },
   {
    "duration": 463,
    "start_time": "2021-11-18T11:17:58.051Z"
   },
   {
    "duration": 524,
    "start_time": "2021-11-18T11:17:58.516Z"
   },
   {
    "duration": 23,
    "start_time": "2021-11-18T11:17:59.043Z"
   },
   {
    "duration": 9687,
    "start_time": "2021-11-18T11:20:35.504Z"
   },
   {
    "duration": 410,
    "start_time": "2021-11-18T11:20:54.306Z"
   },
   {
    "duration": 792,
    "start_time": "2021-11-18T11:20:58.953Z"
   },
   {
    "duration": 540,
    "start_time": "2021-11-18T11:21:10.080Z"
   },
   {
    "duration": 547,
    "start_time": "2021-11-18T11:21:17.632Z"
   },
   {
    "duration": 372,
    "start_time": "2021-11-18T12:10:45.175Z"
   },
   {
    "duration": 78,
    "start_time": "2021-11-18T12:10:54.454Z"
   },
   {
    "duration": 7,
    "start_time": "2021-11-18T12:10:54.990Z"
   },
   {
    "duration": 6,
    "start_time": "2021-11-18T12:11:06.294Z"
   },
   {
    "duration": 6,
    "start_time": "2021-11-18T12:13:46.223Z"
   },
   {
    "duration": 435,
    "start_time": "2021-11-18T12:16:31.201Z"
   },
   {
    "duration": 4,
    "start_time": "2021-11-18T12:16:43.885Z"
   },
   {
    "duration": 5,
    "start_time": "2021-11-18T12:16:46.309Z"
   },
   {
    "duration": 3,
    "start_time": "2021-11-18T12:17:28.021Z"
   },
   {
    "duration": 3,
    "start_time": "2021-11-18T12:18:00.909Z"
   },
   {
    "duration": 392,
    "start_time": "2021-11-18T12:18:28.285Z"
   },
   {
    "duration": 15,
    "start_time": "2021-11-18T12:47:33.815Z"
   },
   {
    "duration": 6,
    "start_time": "2021-11-18T12:51:28.994Z"
   },
   {
    "duration": 15,
    "start_time": "2021-11-18T12:51:37.297Z"
   },
   {
    "duration": 7,
    "start_time": "2021-11-18T12:51:43.313Z"
   },
   {
    "duration": 6,
    "start_time": "2021-11-18T12:51:44.778Z"
   },
   {
    "duration": 5,
    "start_time": "2021-11-18T12:52:05.161Z"
   },
   {
    "duration": 7,
    "start_time": "2021-11-18T12:52:06.010Z"
   },
   {
    "duration": 6,
    "start_time": "2021-11-18T12:52:35.155Z"
   },
   {
    "duration": 7,
    "start_time": "2021-11-18T12:52:49.451Z"
   },
   {
    "duration": 6,
    "start_time": "2021-11-18T16:24:06.346Z"
   },
   {
    "duration": 4,
    "start_time": "2021-11-18T16:24:24.866Z"
   },
   {
    "duration": 4,
    "start_time": "2021-11-18T16:24:44.418Z"
   },
   {
    "duration": 7,
    "start_time": "2021-11-18T16:24:45.650Z"
   },
   {
    "duration": 6,
    "start_time": "2021-11-18T16:24:55.890Z"
   },
   {
    "duration": 4,
    "start_time": "2021-11-18T16:27:30.770Z"
   },
   {
    "duration": 4,
    "start_time": "2021-11-18T16:27:58.146Z"
   },
   {
    "duration": 9,
    "start_time": "2021-11-18T16:28:01.330Z"
   },
   {
    "duration": 16,
    "start_time": "2021-11-18T16:28:07.521Z"
   },
   {
    "duration": 4,
    "start_time": "2021-11-18T16:29:56.987Z"
   },
   {
    "duration": 48,
    "start_time": "2021-11-18T16:29:56.994Z"
   },
   {
    "duration": 23,
    "start_time": "2021-11-18T16:29:57.044Z"
   },
   {
    "duration": 11,
    "start_time": "2021-11-18T16:29:57.070Z"
   },
   {
    "duration": 13,
    "start_time": "2021-11-18T16:29:57.083Z"
   },
   {
    "duration": 439,
    "start_time": "2021-11-18T16:29:57.098Z"
   },
   {
    "duration": 6,
    "start_time": "2021-11-18T16:29:57.539Z"
   },
   {
    "duration": 831,
    "start_time": "2021-11-18T16:29:57.560Z"
   },
   {
    "duration": 10,
    "start_time": "2021-11-18T16:29:58.394Z"
   },
   {
    "duration": 460,
    "start_time": "2021-11-18T16:29:58.407Z"
   },
   {
    "duration": 3,
    "start_time": "2021-11-18T16:29:58.870Z"
   },
   {
    "duration": 16,
    "start_time": "2021-11-18T16:29:58.877Z"
   },
   {
    "duration": 577,
    "start_time": "2021-11-18T16:29:58.896Z"
   },
   {
    "duration": 4,
    "start_time": "2021-11-18T16:29:59.476Z"
   },
   {
    "duration": 18,
    "start_time": "2021-11-18T16:29:59.483Z"
   },
   {
    "duration": 5,
    "start_time": "2021-11-18T16:29:59.504Z"
   },
   {
    "duration": 511,
    "start_time": "2021-11-18T16:29:59.513Z"
   },
   {
    "duration": 517,
    "start_time": "2021-11-18T16:30:00.027Z"
   },
   {
    "duration": 714,
    "start_time": "2021-11-18T16:30:00.547Z"
   },
   {
    "duration": 9,
    "start_time": "2021-11-18T16:30:01.264Z"
   },
   {
    "duration": 32,
    "start_time": "2021-11-18T16:30:01.275Z"
   },
   {
    "duration": 16,
    "start_time": "2021-11-18T16:30:01.309Z"
   },
   {
    "duration": 1069,
    "start_time": "2021-11-18T16:30:01.331Z"
   },
   {
    "duration": 5,
    "start_time": "2021-11-18T16:30:02.403Z"
   },
   {
    "duration": 16,
    "start_time": "2021-11-18T16:30:02.410Z"
   },
   {
    "duration": 1628,
    "start_time": "2021-11-18T16:30:02.428Z"
   },
   {
    "duration": 6,
    "start_time": "2021-11-18T16:30:04.059Z"
   },
   {
    "duration": 16,
    "start_time": "2021-11-18T16:30:04.067Z"
   },
   {
    "duration": 1348,
    "start_time": "2021-11-18T16:30:04.086Z"
   },
   {
    "duration": 5,
    "start_time": "2021-11-18T16:30:05.436Z"
   },
   {
    "duration": 22,
    "start_time": "2021-11-18T16:30:05.443Z"
   },
   {
    "duration": 1556,
    "start_time": "2021-11-18T16:30:05.467Z"
   },
   {
    "duration": 326,
    "start_time": "2021-11-18T16:30:07.025Z"
   },
   {
    "duration": 468,
    "start_time": "2021-11-18T16:30:07.354Z"
   },
   {
    "duration": 536,
    "start_time": "2021-11-18T16:30:07.825Z"
   },
   {
    "duration": 573,
    "start_time": "2021-11-18T16:30:08.364Z"
   },
   {
    "duration": 3,
    "start_time": "2021-11-18T16:30:08.939Z"
   },
   {
    "duration": 18,
    "start_time": "2021-11-18T16:30:08.944Z"
   },
   {
    "duration": 23,
    "start_time": "2021-11-18T16:30:08.964Z"
   },
   {
    "duration": 21,
    "start_time": "2021-11-18T16:30:08.989Z"
   },
   {
    "duration": 14,
    "start_time": "2021-11-18T16:30:09.012Z"
   },
   {
    "duration": 21,
    "start_time": "2021-11-18T16:30:09.028Z"
   },
   {
    "duration": 21,
    "start_time": "2021-11-18T16:30:09.051Z"
   },
   {
    "duration": 15,
    "start_time": "2021-11-18T16:30:09.074Z"
   },
   {
    "duration": 30,
    "start_time": "2021-11-18T16:30:09.092Z"
   },
   {
    "duration": 21,
    "start_time": "2021-11-18T16:30:09.124Z"
   },
   {
    "duration": 36,
    "start_time": "2021-11-18T16:30:09.147Z"
   },
   {
    "duration": 33,
    "start_time": "2021-11-18T16:30:09.185Z"
   },
   {
    "duration": 18,
    "start_time": "2021-11-18T16:30:09.221Z"
   },
   {
    "duration": 137,
    "start_time": "2021-11-18T16:30:09.241Z"
   },
   {
    "duration": -94,
    "start_time": "2021-11-18T16:30:09.474Z"
   },
   {
    "duration": 7,
    "start_time": "2021-11-18T16:30:19.560Z"
   },
   {
    "duration": 14,
    "start_time": "2021-11-18T16:30:21.503Z"
   },
   {
    "duration": 26,
    "start_time": "2021-11-18T16:30:30.336Z"
   },
   {
    "duration": 4,
    "start_time": "2021-11-18T16:32:33.580Z"
   },
   {
    "duration": 55,
    "start_time": "2021-11-18T16:32:33.587Z"
   },
   {
    "duration": 24,
    "start_time": "2021-11-18T16:32:33.646Z"
   },
   {
    "duration": 21,
    "start_time": "2021-11-18T16:32:33.673Z"
   },
   {
    "duration": 13,
    "start_time": "2021-11-18T16:32:33.696Z"
   },
   {
    "duration": 450,
    "start_time": "2021-11-18T16:32:33.711Z"
   },
   {
    "duration": 5,
    "start_time": "2021-11-18T16:32:34.164Z"
   },
   {
    "duration": 1209,
    "start_time": "2021-11-18T16:32:34.172Z"
   },
   {
    "duration": 11,
    "start_time": "2021-11-18T16:32:35.385Z"
   },
   {
    "duration": 613,
    "start_time": "2021-11-18T16:32:35.399Z"
   },
   {
    "duration": 5,
    "start_time": "2021-11-18T16:32:36.015Z"
   },
   {
    "duration": 36,
    "start_time": "2021-11-18T16:32:36.023Z"
   },
   {
    "duration": 559,
    "start_time": "2021-11-18T16:32:36.061Z"
   },
   {
    "duration": 4,
    "start_time": "2021-11-18T16:32:36.622Z"
   },
   {
    "duration": 35,
    "start_time": "2021-11-18T16:32:36.629Z"
   },
   {
    "duration": 4,
    "start_time": "2021-11-18T16:32:36.666Z"
   },
   {
    "duration": 487,
    "start_time": "2021-11-18T16:32:36.672Z"
   },
   {
    "duration": 305,
    "start_time": "2021-11-18T16:32:37.161Z"
   },
   {
    "duration": 702,
    "start_time": "2021-11-18T16:32:37.468Z"
   },
   {
    "duration": 8,
    "start_time": "2021-11-18T16:32:38.173Z"
   },
   {
    "duration": 14,
    "start_time": "2021-11-18T16:32:38.184Z"
   },
   {
    "duration": 22,
    "start_time": "2021-11-18T16:32:38.201Z"
   },
   {
    "duration": 956,
    "start_time": "2021-11-18T16:32:38.226Z"
   },
   {
    "duration": 7,
    "start_time": "2021-11-18T16:32:39.185Z"
   },
   {
    "duration": 25,
    "start_time": "2021-11-18T16:32:39.194Z"
   },
   {
    "duration": 1706,
    "start_time": "2021-11-18T16:32:39.221Z"
   },
   {
    "duration": 24,
    "start_time": "2021-11-18T16:32:40.935Z"
   },
   {
    "duration": 12,
    "start_time": "2021-11-18T16:32:40.963Z"
   },
   {
    "duration": 1417,
    "start_time": "2021-11-18T16:32:40.978Z"
   },
   {
    "duration": 7,
    "start_time": "2021-11-18T16:32:42.398Z"
   },
   {
    "duration": 14,
    "start_time": "2021-11-18T16:32:42.407Z"
   },
   {
    "duration": 1877,
    "start_time": "2021-11-18T16:32:42.423Z"
   },
   {
    "duration": 321,
    "start_time": "2021-11-18T16:32:44.303Z"
   },
   {
    "duration": 554,
    "start_time": "2021-11-18T16:32:44.627Z"
   },
   {
    "duration": 1022,
    "start_time": "2021-11-18T16:32:45.184Z"
   },
   {
    "duration": 755,
    "start_time": "2021-11-18T16:32:46.210Z"
   },
   {
    "duration": 4,
    "start_time": "2021-11-18T16:32:46.968Z"
   },
   {
    "duration": 14,
    "start_time": "2021-11-18T16:32:46.975Z"
   },
   {
    "duration": 35,
    "start_time": "2021-11-18T16:32:46.992Z"
   },
   {
    "duration": 21,
    "start_time": "2021-11-18T16:32:47.030Z"
   },
   {
    "duration": 21,
    "start_time": "2021-11-18T16:32:47.054Z"
   },
   {
    "duration": 14,
    "start_time": "2021-11-18T16:32:47.078Z"
   },
   {
    "duration": 21,
    "start_time": "2021-11-18T16:32:47.095Z"
   },
   {
    "duration": 13,
    "start_time": "2021-11-18T16:32:47.119Z"
   },
   {
    "duration": 38,
    "start_time": "2021-11-18T16:32:47.134Z"
   },
   {
    "duration": 12,
    "start_time": "2021-11-18T16:32:47.174Z"
   },
   {
    "duration": 14,
    "start_time": "2021-11-18T16:32:47.189Z"
   },
   {
    "duration": 22,
    "start_time": "2021-11-18T16:32:47.205Z"
   },
   {
    "duration": 12,
    "start_time": "2021-11-18T16:32:47.229Z"
   },
   {
    "duration": 6,
    "start_time": "2021-11-18T16:32:49.655Z"
   },
   {
    "duration": 18,
    "start_time": "2021-11-18T16:32:59.871Z"
   },
   {
    "duration": 28,
    "start_time": "2021-11-18T16:33:00.751Z"
   },
   {
    "duration": 479,
    "start_time": "2021-11-18T16:35:50.782Z"
   },
   {
    "duration": 8,
    "start_time": "2021-11-18T16:35:56.038Z"
   },
   {
    "duration": 547,
    "start_time": "2021-11-19T21:20:52.011Z"
   },
   {
    "duration": 38,
    "start_time": "2021-11-19T21:20:52.560Z"
   },
   {
    "duration": 13,
    "start_time": "2021-11-19T21:20:52.600Z"
   },
   {
    "duration": 6,
    "start_time": "2021-11-19T21:20:52.614Z"
   },
   {
    "duration": 8,
    "start_time": "2021-11-19T21:20:52.621Z"
   },
   {
    "duration": 329,
    "start_time": "2021-11-19T21:20:52.630Z"
   },
   {
    "duration": 3,
    "start_time": "2021-11-19T21:20:52.961Z"
   },
   {
    "duration": 642,
    "start_time": "2021-11-19T21:20:52.966Z"
   },
   {
    "duration": 9,
    "start_time": "2021-11-19T21:20:53.610Z"
   },
   {
    "duration": 272,
    "start_time": "2021-11-19T21:20:53.621Z"
   },
   {
    "duration": 3,
    "start_time": "2021-11-19T21:20:53.894Z"
   },
   {
    "duration": 23,
    "start_time": "2021-11-19T21:20:53.898Z"
   },
   {
    "duration": 312,
    "start_time": "2021-11-19T21:20:53.923Z"
   },
   {
    "duration": 426,
    "start_time": "2021-11-19T21:20:54.236Z"
   },
   {
    "duration": 6,
    "start_time": "2021-11-19T21:20:54.664Z"
   },
   {
    "duration": 3,
    "start_time": "2021-11-19T21:20:54.671Z"
   },
   {
    "duration": 279,
    "start_time": "2021-11-19T21:20:54.675Z"
   },
   {
    "duration": 191,
    "start_time": "2021-11-19T21:20:54.956Z"
   },
   {
    "duration": 416,
    "start_time": "2021-11-19T21:20:55.149Z"
   },
   {
    "duration": 6,
    "start_time": "2021-11-19T21:20:55.567Z"
   },
   {
    "duration": 16,
    "start_time": "2021-11-19T21:20:55.575Z"
   },
   {
    "duration": 7,
    "start_time": "2021-11-19T21:20:55.593Z"
   },
   {
    "duration": 646,
    "start_time": "2021-11-19T21:20:55.602Z"
   },
   {
    "duration": 5,
    "start_time": "2021-11-19T21:20:56.250Z"
   },
   {
    "duration": 10,
    "start_time": "2021-11-19T21:20:56.257Z"
   },
   {
    "duration": 1008,
    "start_time": "2021-11-19T21:20:56.268Z"
   },
   {
    "duration": 4,
    "start_time": "2021-11-19T21:20:57.292Z"
   },
   {
    "duration": 7,
    "start_time": "2021-11-19T21:20:57.298Z"
   },
   {
    "duration": 744,
    "start_time": "2021-11-19T21:20:57.307Z"
   },
   {
    "duration": 4,
    "start_time": "2021-11-19T21:20:58.052Z"
   },
   {
    "duration": 20,
    "start_time": "2021-11-19T21:20:58.057Z"
   },
   {
    "duration": 945,
    "start_time": "2021-11-19T21:20:58.079Z"
   },
   {
    "duration": 185,
    "start_time": "2021-11-19T21:20:59.026Z"
   },
   {
    "duration": 282,
    "start_time": "2021-11-19T21:20:59.213Z"
   },
   {
    "duration": 398,
    "start_time": "2021-11-19T21:20:59.496Z"
   },
   {
    "duration": 343,
    "start_time": "2021-11-19T21:20:59.895Z"
   },
   {
    "duration": 60,
    "start_time": "2021-11-19T21:21:00.240Z"
   },
   {
    "duration": 4,
    "start_time": "2021-11-19T21:21:00.302Z"
   },
   {
    "duration": 11,
    "start_time": "2021-11-19T21:21:00.308Z"
   },
   {
    "duration": 11,
    "start_time": "2021-11-19T21:21:00.320Z"
   },
   {
    "duration": 6,
    "start_time": "2021-11-19T21:21:00.332Z"
   },
   {
    "duration": 10,
    "start_time": "2021-11-19T21:21:00.339Z"
   },
   {
    "duration": 13,
    "start_time": "2021-11-19T21:21:00.351Z"
   },
   {
    "duration": 11,
    "start_time": "2021-11-19T21:21:00.365Z"
   },
   {
    "duration": 7,
    "start_time": "2021-11-19T21:21:00.377Z"
   },
   {
    "duration": 8,
    "start_time": "2021-11-19T21:21:00.386Z"
   },
   {
    "duration": 21,
    "start_time": "2021-11-19T21:21:00.395Z"
   },
   {
    "duration": 10,
    "start_time": "2021-11-19T21:21:00.418Z"
   },
   {
    "duration": 27,
    "start_time": "2021-11-19T21:21:00.430Z"
   },
   {
    "duration": 11,
    "start_time": "2021-11-19T21:21:00.458Z"
   },
   {
    "duration": 25,
    "start_time": "2021-11-19T21:21:00.471Z"
   },
   {
    "duration": 7,
    "start_time": "2021-11-19T21:21:00.498Z"
   },
   {
    "duration": 6,
    "start_time": "2021-11-19T21:22:00.382Z"
   },
   {
    "duration": 5,
    "start_time": "2021-11-19T21:22:30.582Z"
   },
   {
    "duration": 16,
    "start_time": "2021-11-19T21:22:43.878Z"
   },
   {
    "duration": 17,
    "start_time": "2021-11-19T21:23:09.781Z"
   },
   {
    "duration": 14,
    "start_time": "2021-11-19T21:24:03.155Z"
   },
   {
    "duration": 570,
    "start_time": "2021-11-19T21:25:30.329Z"
   },
   {
    "duration": 38,
    "start_time": "2021-11-19T21:25:30.900Z"
   },
   {
    "duration": 12,
    "start_time": "2021-11-19T21:25:30.940Z"
   },
   {
    "duration": 13,
    "start_time": "2021-11-19T21:25:30.954Z"
   },
   {
    "duration": 15,
    "start_time": "2021-11-19T21:25:30.968Z"
   },
   {
    "duration": 312,
    "start_time": "2021-11-19T21:25:30.984Z"
   },
   {
    "duration": 3,
    "start_time": "2021-11-19T21:25:31.298Z"
   },
   {
    "duration": 655,
    "start_time": "2021-11-19T21:25:31.303Z"
   },
   {
    "duration": 9,
    "start_time": "2021-11-19T21:25:31.961Z"
   },
   {
    "duration": 263,
    "start_time": "2021-11-19T21:25:31.972Z"
   },
   {
    "duration": 2,
    "start_time": "2021-11-19T21:25:32.237Z"
   },
   {
    "duration": 8,
    "start_time": "2021-11-19T21:25:32.241Z"
   },
   {
    "duration": 304,
    "start_time": "2021-11-19T21:25:32.250Z"
   },
   {
    "duration": 429,
    "start_time": "2021-11-19T21:25:32.555Z"
   },
   {
    "duration": 5,
    "start_time": "2021-11-19T21:25:32.986Z"
   },
   {
    "duration": 3,
    "start_time": "2021-11-19T21:25:32.993Z"
   },
   {
    "duration": 282,
    "start_time": "2021-11-19T21:25:32.997Z"
   },
   {
    "duration": 180,
    "start_time": "2021-11-19T21:25:33.280Z"
   },
   {
    "duration": 444,
    "start_time": "2021-11-19T21:25:33.461Z"
   },
   {
    "duration": 5,
    "start_time": "2021-11-19T21:25:33.906Z"
   },
   {
    "duration": 6,
    "start_time": "2021-11-19T21:25:33.913Z"
   },
   {
    "duration": 8,
    "start_time": "2021-11-19T21:25:33.920Z"
   },
   {
    "duration": 607,
    "start_time": "2021-11-19T21:25:33.929Z"
   },
   {
    "duration": 4,
    "start_time": "2021-11-19T21:25:34.538Z"
   },
   {
    "duration": 8,
    "start_time": "2021-11-19T21:25:34.544Z"
   },
   {
    "duration": 1025,
    "start_time": "2021-11-19T21:25:34.553Z"
   },
   {
    "duration": 4,
    "start_time": "2021-11-19T21:25:35.590Z"
   },
   {
    "duration": 8,
    "start_time": "2021-11-19T21:25:35.596Z"
   },
   {
    "duration": 773,
    "start_time": "2021-11-19T21:25:35.605Z"
   },
   {
    "duration": 11,
    "start_time": "2021-11-19T21:25:36.380Z"
   },
   {
    "duration": 31,
    "start_time": "2021-11-19T21:25:36.393Z"
   },
   {
    "duration": 976,
    "start_time": "2021-11-19T21:25:36.426Z"
   },
   {
    "duration": 197,
    "start_time": "2021-11-19T21:25:37.404Z"
   },
   {
    "duration": 291,
    "start_time": "2021-11-19T21:25:37.603Z"
   },
   {
    "duration": 404,
    "start_time": "2021-11-19T21:25:37.896Z"
   },
   {
    "duration": 355,
    "start_time": "2021-11-19T21:25:38.302Z"
   },
   {
    "duration": 65,
    "start_time": "2021-11-19T21:25:38.659Z"
   },
   {
    "duration": 4,
    "start_time": "2021-11-19T21:25:38.725Z"
   },
   {
    "duration": 7,
    "start_time": "2021-11-19T21:25:38.731Z"
   },
   {
    "duration": 5,
    "start_time": "2021-11-19T21:25:38.740Z"
   },
   {
    "duration": 4,
    "start_time": "2021-11-19T21:25:38.747Z"
   },
   {
    "duration": 6,
    "start_time": "2021-11-19T21:25:38.753Z"
   },
   {
    "duration": 5,
    "start_time": "2021-11-19T21:25:38.760Z"
   },
   {
    "duration": 6,
    "start_time": "2021-11-19T21:25:38.766Z"
   },
   {
    "duration": 20,
    "start_time": "2021-11-19T21:25:38.773Z"
   },
   {
    "duration": 5,
    "start_time": "2021-11-19T21:25:38.795Z"
   },
   {
    "duration": 5,
    "start_time": "2021-11-19T21:25:38.801Z"
   },
   {
    "duration": 5,
    "start_time": "2021-11-19T21:25:38.807Z"
   },
   {
    "duration": 6,
    "start_time": "2021-11-19T21:25:38.813Z"
   },
   {
    "duration": 6,
    "start_time": "2021-11-19T21:25:38.820Z"
   },
   {
    "duration": 13,
    "start_time": "2021-11-19T21:25:38.827Z"
   },
   {
    "duration": 5,
    "start_time": "2021-11-19T21:25:38.841Z"
   },
   {
    "duration": 4,
    "start_time": "2021-11-19T21:25:38.847Z"
   },
   {
    "duration": 39,
    "start_time": "2021-11-19T21:25:38.853Z"
   },
   {
    "duration": 17,
    "start_time": "2021-11-19T21:25:38.893Z"
   },
   {
    "duration": 81,
    "start_time": "2021-11-19T21:25:38.912Z"
   },
   {
    "duration": 11,
    "start_time": "2021-11-19T21:28:01.013Z"
   },
   {
    "duration": 3,
    "start_time": "2021-11-19T21:32:50.139Z"
   },
   {
    "duration": 3,
    "start_time": "2021-11-19T21:32:50.524Z"
   },
   {
    "duration": 438,
    "start_time": "2021-11-19T21:32:50.868Z"
   },
   {
    "duration": -83,
    "start_time": "2021-11-19T21:32:51.391Z"
   },
   {
    "duration": 12,
    "start_time": "2021-11-19T21:32:56.867Z"
   },
   {
    "duration": 3,
    "start_time": "2021-11-19T21:33:01.860Z"
   },
   {
    "duration": 1517,
    "start_time": "2021-11-19T21:33:02.788Z"
   },
   {
    "duration": 3,
    "start_time": "2021-11-19T21:35:13.028Z"
   },
   {
    "duration": 3,
    "start_time": "2021-11-19T21:35:13.436Z"
   },
   {
    "duration": 3,
    "start_time": "2021-11-19T21:35:13.811Z"
   },
   {
    "duration": 1036,
    "start_time": "2021-11-19T21:35:14.269Z"
   },
   {
    "duration": 3,
    "start_time": "2021-11-19T21:35:54.292Z"
   },
   {
    "duration": 48013,
    "start_time": "2021-11-19T21:35:58.083Z"
   },
   {
    "duration": 57,
    "start_time": "2021-11-19T21:40:22.781Z"
   },
   {
    "duration": 4,
    "start_time": "2021-11-19T21:40:38.266Z"
   },
   {
    "duration": 3,
    "start_time": "2021-11-19T21:40:57.642Z"
   },
   {
    "duration": 7,
    "start_time": "2021-11-19T21:41:03.411Z"
   },
   {
    "duration": 7889,
    "start_time": "2021-11-19T21:41:10.515Z"
   },
   {
    "duration": 3,
    "start_time": "2021-11-19T21:41:41.826Z"
   },
   {
    "duration": 3,
    "start_time": "2021-11-19T21:41:55.619Z"
   },
   {
    "duration": 4,
    "start_time": "2021-11-19T21:42:01.338Z"
   },
   {
    "duration": 4841,
    "start_time": "2021-11-19T21:42:06.970Z"
   },
   {
    "duration": 3,
    "start_time": "2021-11-19T21:42:39.326Z"
   },
   {
    "duration": 4,
    "start_time": "2021-11-19T21:42:54.497Z"
   },
   {
    "duration": 3,
    "start_time": "2021-11-19T21:42:59.375Z"
   },
   {
    "duration": 2992,
    "start_time": "2021-11-19T21:43:05.714Z"
   },
   {
    "duration": 59,
    "start_time": "2021-11-19T21:43:20.609Z"
   },
   {
    "duration": 2,
    "start_time": "2021-11-19T21:53:44.532Z"
   },
   {
    "duration": 171,
    "start_time": "2021-11-19T21:53:59.147Z"
   },
   {
    "duration": 439,
    "start_time": "2021-11-19T21:54:04.763Z"
   },
   {
    "duration": 4,
    "start_time": "2021-11-19T21:54:25.475Z"
   },
   {
    "duration": 5,
    "start_time": "2021-11-19T21:54:29.955Z"
   },
   {
    "duration": 55,
    "start_time": "2021-11-19T21:55:38.171Z"
   },
   {
    "duration": 164,
    "start_time": "2021-11-19T21:58:45.528Z"
   },
   {
    "duration": 51,
    "start_time": "2021-11-19T23:05:54.743Z"
   },
   {
    "duration": 3,
    "start_time": "2021-11-19T23:06:57.889Z"
   },
   {
    "duration": 175,
    "start_time": "2021-11-19T23:07:25.024Z"
   },
   {
    "duration": 2,
    "start_time": "2021-11-19T23:07:33.608Z"
   },
   {
    "duration": 169,
    "start_time": "2021-11-19T23:07:33.983Z"
   },
   {
    "duration": 4,
    "start_time": "2021-11-19T23:08:11.288Z"
   },
   {
    "duration": 3,
    "start_time": "2021-11-19T23:09:50.711Z"
   },
   {
    "duration": 3,
    "start_time": "2021-11-19T23:09:51.439Z"
   },
   {
    "duration": 3,
    "start_time": "2021-11-19T23:09:54.959Z"
   },
   {
    "duration": 91639,
    "start_time": "2021-11-19T23:09:55.607Z"
   },
   {
    "duration": 4,
    "start_time": "2021-11-19T23:11:31.039Z"
   },
   {
    "duration": 3,
    "start_time": "2021-11-19T23:11:31.534Z"
   },
   {
    "duration": 349,
    "start_time": "2021-11-19T23:11:32.599Z"
   },
   {
    "duration": 90905,
    "start_time": "2021-11-19T23:11:33.230Z"
   },
   {
    "duration": 3,
    "start_time": "2021-11-19T23:13:04.137Z"
   },
   {
    "duration": 32,
    "start_time": "2021-11-19T23:13:04.142Z"
   },
   {
    "duration": 4,
    "start_time": "2021-11-19T23:13:08.445Z"
   },
   {
    "duration": 3,
    "start_time": "2021-11-19T23:13:08.838Z"
   },
   {
    "duration": 9,
    "start_time": "2021-11-19T23:13:09.309Z"
   },
   {
    "duration": 523,
    "start_time": "2021-11-19T23:13:10.822Z"
   },
   {
    "duration": 3,
    "start_time": "2021-11-19T23:13:27.382Z"
   },
   {
    "duration": 3,
    "start_time": "2021-11-19T23:13:27.766Z"
   },
   {
    "duration": 3,
    "start_time": "2021-11-19T23:13:29.061Z"
   },
   {
    "duration": 705,
    "start_time": "2021-11-19T23:13:29.606Z"
   },
   {
    "duration": 57,
    "start_time": "2021-11-19T23:14:41.405Z"
   },
   {
    "duration": 3,
    "start_time": "2021-11-19T23:14:46.885Z"
   },
   {
    "duration": 3,
    "start_time": "2021-11-19T23:14:47.510Z"
   },
   {
    "duration": 3,
    "start_time": "2021-11-19T23:14:47.943Z"
   },
   {
    "duration": 628,
    "start_time": "2021-11-19T23:14:48.454Z"
   },
   {
    "duration": 3,
    "start_time": "2021-11-19T23:24:08.593Z"
   },
   {
    "duration": 32,
    "start_time": "2021-11-19T23:24:42.745Z"
   },
   {
    "duration": 7,
    "start_time": "2021-11-19T23:24:43.399Z"
   },
   {
    "duration": 6,
    "start_time": "2021-11-19T23:24:46.608Z"
   },
   {
    "duration": 13,
    "start_time": "2021-11-19T23:28:09.408Z"
   },
   {
    "duration": 6,
    "start_time": "2021-11-19T23:29:18.223Z"
   },
   {
    "duration": 13,
    "start_time": "2021-11-19T23:29:19.327Z"
   },
   {
    "duration": 249,
    "start_time": "2021-11-19T23:29:20.673Z"
   },
   {
    "duration": 8,
    "start_time": "2021-11-19T23:32:34.414Z"
   },
   {
    "duration": 3,
    "start_time": "2021-11-19T23:41:35.627Z"
   },
   {
    "duration": 6,
    "start_time": "2021-11-19T23:41:37.610Z"
   },
   {
    "duration": 283,
    "start_time": "2021-11-19T23:41:38.283Z"
   },
   {
    "duration": 341,
    "start_time": "2021-11-19T23:42:03.707Z"
   },
   {
    "duration": 256,
    "start_time": "2021-11-19T23:42:11.507Z"
   },
   {
    "duration": 194,
    "start_time": "2021-11-19T23:42:32.210Z"
   },
   {
    "duration": 3,
    "start_time": "2021-11-19T23:56:15.845Z"
   },
   {
    "duration": 964,
    "start_time": "2021-11-19T23:58:19.356Z"
   },
   {
    "duration": 8,
    "start_time": "2021-11-19T23:58:23.132Z"
   },
   {
    "duration": 963,
    "start_time": "2021-11-19T23:58:25.348Z"
   },
   {
    "duration": 712,
    "start_time": "2021-11-20T00:04:00.802Z"
   },
   {
    "duration": 507,
    "start_time": "2021-11-20T00:04:16.618Z"
   },
   {
    "duration": 511,
    "start_time": "2021-11-20T00:04:28.882Z"
   },
   {
    "duration": 3,
    "start_time": "2021-11-20T00:05:52.114Z"
   },
   {
    "duration": 286,
    "start_time": "2021-11-20T00:08:23.568Z"
   },
   {
    "duration": 267,
    "start_time": "2021-11-20T00:08:29.064Z"
   },
   {
    "duration": 305,
    "start_time": "2021-11-20T00:08:45.199Z"
   },
   {
    "duration": 199,
    "start_time": "2021-11-20T00:08:52.199Z"
   },
   {
    "duration": 174,
    "start_time": "2021-11-20T00:16:39.724Z"
   },
   {
    "duration": 561,
    "start_time": "2021-11-20T00:16:47.932Z"
   },
   {
    "duration": 506,
    "start_time": "2021-11-20T00:16:54.612Z"
   },
   {
    "duration": 551,
    "start_time": "2021-11-20T00:17:00.315Z"
   },
   {
    "duration": 503,
    "start_time": "2021-11-20T00:17:25.675Z"
   },
   {
    "duration": 369,
    "start_time": "2021-11-20T00:17:31.083Z"
   },
   {
    "duration": 365,
    "start_time": "2021-11-20T00:17:35.739Z"
   },
   {
    "duration": 348,
    "start_time": "2021-11-20T00:17:40.347Z"
   },
   {
    "duration": 328,
    "start_time": "2021-11-20T00:17:47.844Z"
   },
   {
    "duration": 316,
    "start_time": "2021-11-20T00:17:52.275Z"
   },
   {
    "duration": 330,
    "start_time": "2021-11-20T00:18:03.797Z"
   },
   {
    "duration": 608,
    "start_time": "2021-11-20T00:18:15.955Z"
   },
   {
    "duration": 489,
    "start_time": "2021-11-20T00:18:21.507Z"
   },
   {
    "duration": 532,
    "start_time": "2021-11-20T00:18:28.139Z"
   },
   {
    "duration": 560,
    "start_time": "2021-11-20T00:18:33.131Z"
   },
   {
    "duration": 214,
    "start_time": "2021-11-20T00:18:48.379Z"
   },
   {
    "duration": 198,
    "start_time": "2021-11-20T00:18:52.466Z"
   },
   {
    "duration": 456,
    "start_time": "2021-11-20T00:48:58.499Z"
   },
   {
    "duration": 217,
    "start_time": "2021-11-20T00:51:46.068Z"
   },
   {
    "duration": 351,
    "start_time": "2021-11-20T00:51:53.243Z"
   },
   {
    "duration": 278,
    "start_time": "2021-11-20T00:52:01.379Z"
   },
   {
    "duration": 337,
    "start_time": "2021-11-20T00:52:09.323Z"
   },
   {
    "duration": 4,
    "start_time": "2021-11-20T00:56:54.650Z"
   },
   {
    "duration": 3,
    "start_time": "2021-11-20T00:57:05.298Z"
   },
   {
    "duration": 5,
    "start_time": "2021-11-20T01:09:21.135Z"
   },
   {
    "duration": 58,
    "start_time": "2021-11-20T01:09:59.463Z"
   },
   {
    "duration": 81,
    "start_time": "2021-11-20T01:10:10.047Z"
   },
   {
    "duration": 60,
    "start_time": "2021-11-20T01:10:14.063Z"
   },
   {
    "duration": 60,
    "start_time": "2021-11-20T01:10:22.654Z"
   },
   {
    "duration": 3,
    "start_time": "2021-11-20T01:11:29.214Z"
   },
   {
    "duration": 2,
    "start_time": "2021-11-20T01:11:33.393Z"
   },
   {
    "duration": 3,
    "start_time": "2021-11-20T01:11:39.551Z"
   },
   {
    "duration": 3,
    "start_time": "2021-11-20T01:12:11.071Z"
   },
   {
    "duration": 4,
    "start_time": "2021-11-20T01:15:44.115Z"
   },
   {
    "duration": 4,
    "start_time": "2021-11-20T01:15:48.437Z"
   },
   {
    "duration": 5,
    "start_time": "2021-11-20T01:15:53.858Z"
   },
   {
    "duration": 5,
    "start_time": "2021-11-20T01:15:56.442Z"
   },
   {
    "duration": 4,
    "start_time": "2021-11-20T01:15:57.284Z"
   },
   {
    "duration": 4,
    "start_time": "2021-11-20T01:15:57.643Z"
   },
   {
    "duration": 4,
    "start_time": "2021-11-20T01:26:35.541Z"
   },
   {
    "duration": 11,
    "start_time": "2021-11-20T01:26:36.197Z"
   },
   {
    "duration": 7,
    "start_time": "2021-11-20T01:26:43.566Z"
   },
   {
    "duration": 5,
    "start_time": "2021-11-20T01:26:44.172Z"
   },
   {
    "duration": 6,
    "start_time": "2021-11-20T01:26:44.828Z"
   },
   {
    "duration": 5,
    "start_time": "2021-11-20T01:26:48.028Z"
   },
   {
    "duration": 190,
    "start_time": "2021-11-20T01:41:37.718Z"
   },
   {
    "duration": 59,
    "start_time": "2021-11-20T01:41:53.605Z"
   },
   {
    "duration": 4,
    "start_time": "2021-11-20T01:42:02.118Z"
   },
   {
    "duration": 5,
    "start_time": "2021-11-20T01:42:12.949Z"
   },
   {
    "duration": 197,
    "start_time": "2021-11-20T01:44:24.053Z"
   },
   {
    "duration": 211,
    "start_time": "2021-11-20T01:46:11.212Z"
   },
   {
    "duration": 15,
    "start_time": "2021-11-20T01:46:27.384Z"
   },
   {
    "duration": 195,
    "start_time": "2021-11-20T01:46:40.801Z"
   },
   {
    "duration": 15,
    "start_time": "2021-11-20T02:21:39.609Z"
   },
   {
    "duration": 8,
    "start_time": "2021-11-20T02:21:48.476Z"
   },
   {
    "duration": 256,
    "start_time": "2021-11-20T02:22:09.689Z"
   },
   {
    "duration": 2164,
    "start_time": "2021-11-20T02:23:23.835Z"
   },
   {
    "duration": 2797,
    "start_time": "2021-11-20T02:25:12.395Z"
   },
   {
    "duration": 2470,
    "start_time": "2021-11-20T02:25:40.723Z"
   },
   {
    "duration": 4,
    "start_time": "2021-11-20T02:25:51.326Z"
   },
   {
    "duration": 38,
    "start_time": "2021-11-20T02:25:51.331Z"
   },
   {
    "duration": 7,
    "start_time": "2021-11-20T02:25:51.371Z"
   },
   {
    "duration": 11,
    "start_time": "2021-11-20T02:25:51.380Z"
   },
   {
    "duration": 21,
    "start_time": "2021-11-20T02:25:51.393Z"
   },
   {
    "duration": 254,
    "start_time": "2021-11-20T02:25:51.415Z"
   },
   {
    "duration": 3,
    "start_time": "2021-11-20T02:25:51.671Z"
   },
   {
    "duration": 34,
    "start_time": "2021-11-20T02:25:51.676Z"
   },
   {
    "duration": 313,
    "start_time": "2021-11-20T02:25:51.712Z"
   },
   {
    "duration": 3,
    "start_time": "2021-11-20T02:25:52.027Z"
   },
   {
    "duration": 33,
    "start_time": "2021-11-20T02:25:52.031Z"
   },
   {
    "duration": 370,
    "start_time": "2021-11-20T02:25:52.066Z"
   },
   {
    "duration": 8,
    "start_time": "2021-11-20T02:25:52.437Z"
   },
   {
    "duration": 695,
    "start_time": "2021-11-20T02:25:52.446Z"
   },
   {
    "duration": 211,
    "start_time": "2021-11-20T02:25:53.143Z"
   },
   {
    "duration": 345,
    "start_time": "2021-11-20T02:25:53.357Z"
   },
   {
    "duration": 3,
    "start_time": "2021-11-20T02:25:53.704Z"
   },
   {
    "duration": 71,
    "start_time": "2021-11-20T02:25:53.709Z"
   },
   {
    "duration": 37,
    "start_time": "2021-11-20T02:25:53.782Z"
   },
   {
    "duration": 42,
    "start_time": "2021-11-20T02:25:53.821Z"
   },
   {
    "duration": 28,
    "start_time": "2021-11-20T02:25:53.865Z"
   },
   {
    "duration": 1980,
    "start_time": "2021-11-20T02:25:58.123Z"
   },
   {
    "duration": 3,
    "start_time": "2021-11-20T02:30:54.101Z"
   },
   {
    "duration": 4,
    "start_time": "2021-11-20T02:32:02.791Z"
   },
   {
    "duration": 4,
    "start_time": "2021-11-20T02:32:08.773Z"
   },
   {
    "duration": 4,
    "start_time": "2021-11-20T02:32:15.325Z"
   },
   {
    "duration": 3,
    "start_time": "2021-11-20T02:34:04.228Z"
   },
   {
    "duration": 58,
    "start_time": "2021-11-20T02:34:04.233Z"
   },
   {
    "duration": 8,
    "start_time": "2021-11-20T02:34:04.293Z"
   },
   {
    "duration": 29,
    "start_time": "2021-11-20T02:34:04.303Z"
   },
   {
    "duration": 24,
    "start_time": "2021-11-20T02:34:04.334Z"
   },
   {
    "duration": 253,
    "start_time": "2021-11-20T02:34:04.359Z"
   },
   {
    "duration": 4,
    "start_time": "2021-11-20T02:34:04.614Z"
   },
   {
    "duration": 36,
    "start_time": "2021-11-20T02:34:04.619Z"
   },
   {
    "duration": 322,
    "start_time": "2021-11-20T02:34:04.658Z"
   },
   {
    "duration": 3,
    "start_time": "2021-11-20T02:34:04.981Z"
   },
   {
    "duration": 17,
    "start_time": "2021-11-20T02:34:04.985Z"
   },
   {
    "duration": 365,
    "start_time": "2021-11-20T02:34:05.003Z"
   },
   {
    "duration": 7,
    "start_time": "2021-11-20T02:34:05.369Z"
   },
   {
    "duration": 696,
    "start_time": "2021-11-20T02:34:05.377Z"
   },
   {
    "duration": 214,
    "start_time": "2021-11-20T02:34:06.074Z"
   },
   {
    "duration": 343,
    "start_time": "2021-11-20T02:34:06.289Z"
   },
   {
    "duration": 4,
    "start_time": "2021-11-20T02:34:06.633Z"
   },
   {
    "duration": 7,
    "start_time": "2021-11-20T02:34:06.638Z"
   },
   {
    "duration": 5,
    "start_time": "2021-11-20T02:34:06.647Z"
   },
   {
    "duration": 6,
    "start_time": "2021-11-20T02:34:06.653Z"
   },
   {
    "duration": 4,
    "start_time": "2021-11-20T02:34:06.660Z"
   },
   {
    "duration": 3,
    "start_time": "2021-11-20T02:38:03.973Z"
   },
   {
    "duration": 185,
    "start_time": "2021-11-20T02:38:44.652Z"
   },
   {
    "duration": 4,
    "start_time": "2021-11-20T02:39:37.684Z"
   },
   {
    "duration": 4,
    "start_time": "2021-11-20T02:39:49.844Z"
   },
   {
    "duration": 191,
    "start_time": "2021-11-20T02:40:38.717Z"
   },
   {
    "duration": 28208,
    "start_time": "2021-11-20T02:40:51.391Z"
   },
   {
    "duration": 3,
    "start_time": "2021-11-20T02:41:45.762Z"
   },
   {
    "duration": 34,
    "start_time": "2021-11-20T02:41:45.767Z"
   },
   {
    "duration": 7,
    "start_time": "2021-11-20T02:41:45.803Z"
   },
   {
    "duration": 7,
    "start_time": "2021-11-20T02:41:45.812Z"
   },
   {
    "duration": 10,
    "start_time": "2021-11-20T02:41:45.820Z"
   },
   {
    "duration": 268,
    "start_time": "2021-11-20T02:41:45.831Z"
   },
   {
    "duration": 3,
    "start_time": "2021-11-20T02:41:46.101Z"
   },
   {
    "duration": 8,
    "start_time": "2021-11-20T02:41:46.107Z"
   },
   {
    "duration": 320,
    "start_time": "2021-11-20T02:41:46.117Z"
   },
   {
    "duration": 3,
    "start_time": "2021-11-20T02:41:46.439Z"
   },
   {
    "duration": 7,
    "start_time": "2021-11-20T02:41:46.444Z"
   },
   {
    "duration": 349,
    "start_time": "2021-11-20T02:41:46.452Z"
   },
   {
    "duration": 7,
    "start_time": "2021-11-20T02:41:46.802Z"
   },
   {
    "duration": 578,
    "start_time": "2021-11-20T02:41:46.811Z"
   },
   {
    "duration": 211,
    "start_time": "2021-11-20T02:41:47.390Z"
   },
   {
    "duration": 475,
    "start_time": "2021-11-20T02:41:47.602Z"
   },
   {
    "duration": 4,
    "start_time": "2021-11-20T02:41:48.078Z"
   },
   {
    "duration": 10,
    "start_time": "2021-11-20T02:41:48.083Z"
   },
   {
    "duration": 6,
    "start_time": "2021-11-20T02:41:48.095Z"
   },
   {
    "duration": 6,
    "start_time": "2021-11-20T02:41:48.102Z"
   },
   {
    "duration": 6,
    "start_time": "2021-11-20T02:41:48.109Z"
   },
   {
    "duration": 6,
    "start_time": "2021-11-20T02:41:48.116Z"
   },
   {
    "duration": 27572,
    "start_time": "2021-11-20T02:41:54.732Z"
   },
   {
    "duration": 2499,
    "start_time": "2021-11-20T02:45:57.899Z"
   },
   {
    "duration": 3,
    "start_time": "2021-11-20T02:46:11.919Z"
   },
   {
    "duration": 35,
    "start_time": "2021-11-20T02:46:11.924Z"
   },
   {
    "duration": 7,
    "start_time": "2021-11-20T02:46:11.961Z"
   },
   {
    "duration": 7,
    "start_time": "2021-11-20T02:46:11.970Z"
   },
   {
    "duration": 12,
    "start_time": "2021-11-20T02:46:11.979Z"
   },
   {
    "duration": 243,
    "start_time": "2021-11-20T02:46:11.993Z"
   },
   {
    "duration": 4,
    "start_time": "2021-11-20T02:46:12.239Z"
   },
   {
    "duration": 9,
    "start_time": "2021-11-20T02:46:12.245Z"
   },
   {
    "duration": 318,
    "start_time": "2021-11-20T02:46:12.257Z"
   },
   {
    "duration": 15,
    "start_time": "2021-11-20T02:46:12.577Z"
   },
   {
    "duration": 8,
    "start_time": "2021-11-20T02:46:12.594Z"
   },
   {
    "duration": 328,
    "start_time": "2021-11-20T02:46:12.603Z"
   },
   {
    "duration": 8,
    "start_time": "2021-11-20T02:46:12.932Z"
   },
   {
    "duration": 567,
    "start_time": "2021-11-20T02:46:12.941Z"
   },
   {
    "duration": 211,
    "start_time": "2021-11-20T02:46:13.509Z"
   },
   {
    "duration": 471,
    "start_time": "2021-11-20T02:46:13.722Z"
   },
   {
    "duration": 3,
    "start_time": "2021-11-20T02:46:14.195Z"
   },
   {
    "duration": 10,
    "start_time": "2021-11-20T02:46:14.200Z"
   },
   {
    "duration": 5,
    "start_time": "2021-11-20T02:46:14.212Z"
   },
   {
    "duration": 6,
    "start_time": "2021-11-20T02:46:14.219Z"
   },
   {
    "duration": 4,
    "start_time": "2021-11-20T02:46:14.227Z"
   },
   {
    "duration": 2584,
    "start_time": "2021-11-20T02:46:27.413Z"
   },
   {
    "duration": 22,
    "start_time": "2021-11-20T02:46:55.011Z"
   },
   {
    "duration": 3,
    "start_time": "2021-11-20T02:47:11.137Z"
   },
   {
    "duration": 36,
    "start_time": "2021-11-20T02:47:11.142Z"
   },
   {
    "duration": 8,
    "start_time": "2021-11-20T02:47:11.180Z"
   },
   {
    "duration": 7,
    "start_time": "2021-11-20T02:47:11.190Z"
   },
   {
    "duration": 12,
    "start_time": "2021-11-20T02:47:11.199Z"
   },
   {
    "duration": 249,
    "start_time": "2021-11-20T02:47:11.212Z"
   },
   {
    "duration": 4,
    "start_time": "2021-11-20T02:47:11.463Z"
   },
   {
    "duration": 27,
    "start_time": "2021-11-20T02:47:11.469Z"
   },
   {
    "duration": 310,
    "start_time": "2021-11-20T02:47:11.499Z"
   },
   {
    "duration": 4,
    "start_time": "2021-11-20T02:47:11.811Z"
   },
   {
    "duration": 9,
    "start_time": "2021-11-20T02:47:11.817Z"
   },
   {
    "duration": 344,
    "start_time": "2021-11-20T02:47:11.828Z"
   },
   {
    "duration": 17,
    "start_time": "2021-11-20T02:47:12.174Z"
   },
   {
    "duration": 560,
    "start_time": "2021-11-20T02:47:12.193Z"
   },
   {
    "duration": 213,
    "start_time": "2021-11-20T02:47:12.755Z"
   },
   {
    "duration": 471,
    "start_time": "2021-11-20T02:47:12.970Z"
   },
   {
    "duration": 5,
    "start_time": "2021-11-20T02:47:13.443Z"
   },
   {
    "duration": 7,
    "start_time": "2021-11-20T02:47:13.449Z"
   },
   {
    "duration": 7,
    "start_time": "2021-11-20T02:47:13.457Z"
   },
   {
    "duration": 6,
    "start_time": "2021-11-20T02:47:13.465Z"
   },
   {
    "duration": 4,
    "start_time": "2021-11-20T02:47:13.491Z"
   },
   {
    "duration": 2531,
    "start_time": "2021-11-20T02:47:17.867Z"
   },
   {
    "duration": 2625,
    "start_time": "2021-11-20T02:47:42.476Z"
   },
   {
    "duration": 3,
    "start_time": "2021-11-20T02:55:08.695Z"
   },
   {
    "duration": 34,
    "start_time": "2021-11-20T02:55:08.702Z"
   },
   {
    "duration": 7,
    "start_time": "2021-11-20T02:55:08.738Z"
   },
   {
    "duration": 8,
    "start_time": "2021-11-20T02:55:08.747Z"
   },
   {
    "duration": 13,
    "start_time": "2021-11-20T02:55:08.756Z"
   },
   {
    "duration": 256,
    "start_time": "2021-11-20T02:55:08.770Z"
   },
   {
    "duration": 4,
    "start_time": "2021-11-20T02:55:09.027Z"
   },
   {
    "duration": 9,
    "start_time": "2021-11-20T02:55:09.032Z"
   },
   {
    "duration": 330,
    "start_time": "2021-11-20T02:55:09.043Z"
   },
   {
    "duration": 3,
    "start_time": "2021-11-20T02:55:09.375Z"
   },
   {
    "duration": 12,
    "start_time": "2021-11-20T02:55:09.379Z"
   },
   {
    "duration": 337,
    "start_time": "2021-11-20T02:55:09.393Z"
   },
   {
    "duration": 6,
    "start_time": "2021-11-20T02:55:09.732Z"
   },
   {
    "duration": 565,
    "start_time": "2021-11-20T02:55:09.740Z"
   },
   {
    "duration": 208,
    "start_time": "2021-11-20T02:55:10.306Z"
   },
   {
    "duration": 344,
    "start_time": "2021-11-20T02:55:10.516Z"
   },
   {
    "duration": 4,
    "start_time": "2021-11-20T02:55:10.862Z"
   },
   {
    "duration": 14,
    "start_time": "2021-11-20T02:55:10.867Z"
   },
   {
    "duration": 20,
    "start_time": "2021-11-20T02:55:10.882Z"
   },
   {
    "duration": 15,
    "start_time": "2021-11-20T02:55:10.903Z"
   },
   {
    "duration": 10,
    "start_time": "2021-11-20T02:55:35.401Z"
   },
   {
    "duration": 5,
    "start_time": "2021-11-20T02:55:56.801Z"
   },
   {
    "duration": 6,
    "start_time": "2021-11-20T02:56:17.768Z"
   },
   {
    "duration": 5,
    "start_time": "2021-11-20T02:56:32.105Z"
   },
   {
    "duration": 208,
    "start_time": "2021-11-20T02:57:18.384Z"
   },
   {
    "duration": 4,
    "start_time": "2021-11-20T02:57:31.245Z"
   },
   {
    "duration": 50,
    "start_time": "2021-11-20T02:57:31.251Z"
   },
   {
    "duration": 8,
    "start_time": "2021-11-20T02:57:31.303Z"
   },
   {
    "duration": 8,
    "start_time": "2021-11-20T02:57:31.313Z"
   },
   {
    "duration": 12,
    "start_time": "2021-11-20T02:57:31.323Z"
   },
   {
    "duration": 260,
    "start_time": "2021-11-20T02:57:31.336Z"
   },
   {
    "duration": 5,
    "start_time": "2021-11-20T02:57:31.597Z"
   },
   {
    "duration": 11,
    "start_time": "2021-11-20T02:57:31.603Z"
   },
   {
    "duration": 466,
    "start_time": "2021-11-20T02:57:31.616Z"
   },
   {
    "duration": 7,
    "start_time": "2021-11-20T02:57:32.084Z"
   },
   {
    "duration": 6,
    "start_time": "2021-11-20T02:57:32.093Z"
   },
   {
    "duration": 343,
    "start_time": "2021-11-20T02:57:32.101Z"
   },
   {
    "duration": 8,
    "start_time": "2021-11-20T02:57:32.446Z"
   },
   {
    "duration": 582,
    "start_time": "2021-11-20T02:57:32.455Z"
   },
   {
    "duration": 215,
    "start_time": "2021-11-20T02:57:33.039Z"
   },
   {
    "duration": 351,
    "start_time": "2021-11-20T02:57:33.256Z"
   },
   {
    "duration": 3,
    "start_time": "2021-11-20T02:57:33.609Z"
   },
   {
    "duration": 16,
    "start_time": "2021-11-20T02:57:33.614Z"
   },
   {
    "duration": 27,
    "start_time": "2021-11-20T02:57:33.631Z"
   },
   {
    "duration": 24,
    "start_time": "2021-11-20T02:57:33.659Z"
   },
   {
    "duration": 14,
    "start_time": "2021-11-20T02:57:33.685Z"
   },
   {
    "duration": 13,
    "start_time": "2021-11-20T02:57:39.735Z"
   },
   {
    "duration": 5,
    "start_time": "2021-11-20T02:57:39.976Z"
   },
   {
    "duration": 6,
    "start_time": "2021-11-20T02:57:40.175Z"
   },
   {
    "duration": 6,
    "start_time": "2021-11-20T02:57:40.368Z"
   },
   {
    "duration": 151,
    "start_time": "2021-11-20T02:57:40.743Z"
   },
   {
    "duration": 4,
    "start_time": "2021-11-20T02:58:01.437Z"
   },
   {
    "duration": 39,
    "start_time": "2021-11-20T02:58:01.442Z"
   },
   {
    "duration": 7,
    "start_time": "2021-11-20T02:58:01.483Z"
   },
   {
    "duration": 9,
    "start_time": "2021-11-20T02:58:01.491Z"
   },
   {
    "duration": 19,
    "start_time": "2021-11-20T02:58:01.502Z"
   },
   {
    "duration": 247,
    "start_time": "2021-11-20T02:58:01.523Z"
   },
   {
    "duration": 5,
    "start_time": "2021-11-20T02:58:01.772Z"
   },
   {
    "duration": 20,
    "start_time": "2021-11-20T02:58:01.779Z"
   },
   {
    "duration": 456,
    "start_time": "2021-11-20T02:58:01.802Z"
   },
   {
    "duration": 4,
    "start_time": "2021-11-20T02:58:02.260Z"
   },
   {
    "duration": 16,
    "start_time": "2021-11-20T02:58:02.266Z"
   },
   {
    "duration": 343,
    "start_time": "2021-11-20T02:58:02.284Z"
   },
   {
    "duration": 9,
    "start_time": "2021-11-20T02:58:02.629Z"
   },
   {
    "duration": 576,
    "start_time": "2021-11-20T02:58:02.639Z"
   },
   {
    "duration": 213,
    "start_time": "2021-11-20T02:58:03.217Z"
   },
   {
    "duration": 362,
    "start_time": "2021-11-20T02:58:03.432Z"
   },
   {
    "duration": 5,
    "start_time": "2021-11-20T02:58:03.796Z"
   },
   {
    "duration": 21,
    "start_time": "2021-11-20T02:58:03.803Z"
   },
   {
    "duration": 18,
    "start_time": "2021-11-20T02:58:03.825Z"
   },
   {
    "duration": 28,
    "start_time": "2021-11-20T02:58:03.845Z"
   },
   {
    "duration": 12,
    "start_time": "2021-11-20T02:58:03.875Z"
   },
   {
    "duration": 13,
    "start_time": "2021-11-20T02:58:24.495Z"
   },
   {
    "duration": 5,
    "start_time": "2021-11-20T02:58:24.808Z"
   },
   {
    "duration": 5,
    "start_time": "2021-11-20T02:58:25.152Z"
   },
   {
    "duration": 6,
    "start_time": "2021-11-20T02:58:26.054Z"
   },
   {
    "duration": 195,
    "start_time": "2021-11-20T02:58:27.339Z"
   },
   {
    "duration": 4,
    "start_time": "2021-11-20T02:58:57.277Z"
   },
   {
    "duration": 37,
    "start_time": "2021-11-20T02:58:57.283Z"
   },
   {
    "duration": 8,
    "start_time": "2021-11-20T02:58:57.322Z"
   },
   {
    "duration": 7,
    "start_time": "2021-11-20T02:58:57.331Z"
   },
   {
    "duration": 11,
    "start_time": "2021-11-20T02:58:57.340Z"
   },
   {
    "duration": 261,
    "start_time": "2021-11-20T02:58:57.352Z"
   },
   {
    "duration": 4,
    "start_time": "2021-11-20T02:58:57.615Z"
   },
   {
    "duration": 11,
    "start_time": "2021-11-20T02:58:57.620Z"
   },
   {
    "duration": 322,
    "start_time": "2021-11-20T02:58:57.633Z"
   },
   {
    "duration": 3,
    "start_time": "2021-11-20T02:58:57.957Z"
   },
   {
    "duration": 7,
    "start_time": "2021-11-20T02:58:57.962Z"
   },
   {
    "duration": 476,
    "start_time": "2021-11-20T02:58:57.971Z"
   },
   {
    "duration": 7,
    "start_time": "2021-11-20T02:58:58.448Z"
   },
   {
    "duration": 590,
    "start_time": "2021-11-20T02:58:58.457Z"
   },
   {
    "duration": 194,
    "start_time": "2021-11-20T02:58:59.049Z"
   },
   {
    "duration": 339,
    "start_time": "2021-11-20T02:58:59.245Z"
   },
   {
    "duration": 4,
    "start_time": "2021-11-20T02:58:59.585Z"
   },
   {
    "duration": 22,
    "start_time": "2021-11-20T02:58:59.590Z"
   },
   {
    "duration": 18,
    "start_time": "2021-11-20T02:58:59.613Z"
   },
   {
    "duration": 32,
    "start_time": "2021-11-20T02:58:59.632Z"
   },
   {
    "duration": 33,
    "start_time": "2021-11-20T02:58:59.666Z"
   },
   {
    "duration": 62,
    "start_time": "2021-11-20T02:58:59.701Z"
   },
   {
    "duration": 44,
    "start_time": "2021-11-20T02:58:59.764Z"
   },
   {
    "duration": 15,
    "start_time": "2021-11-20T02:58:59.809Z"
   },
   {
    "duration": 41,
    "start_time": "2021-11-20T02:58:59.825Z"
   },
   {
    "duration": 34,
    "start_time": "2021-11-20T02:58:59.868Z"
   },
   {
    "duration": 5,
    "start_time": "2021-11-20T02:59:09.527Z"
   },
   {
    "duration": 10,
    "start_time": "2021-11-20T02:59:10.015Z"
   },
   {
    "duration": 4,
    "start_time": "2021-11-20T02:59:31.693Z"
   },
   {
    "duration": 39,
    "start_time": "2021-11-20T02:59:31.698Z"
   },
   {
    "duration": 8,
    "start_time": "2021-11-20T02:59:31.739Z"
   },
   {
    "duration": 12,
    "start_time": "2021-11-20T02:59:31.749Z"
   },
   {
    "duration": 13,
    "start_time": "2021-11-20T02:59:31.763Z"
   },
   {
    "duration": 254,
    "start_time": "2021-11-20T02:59:31.778Z"
   },
   {
    "duration": 3,
    "start_time": "2021-11-20T02:59:32.034Z"
   },
   {
    "duration": 10,
    "start_time": "2021-11-20T02:59:32.039Z"
   },
   {
    "duration": 322,
    "start_time": "2021-11-20T02:59:32.051Z"
   },
   {
    "duration": 2,
    "start_time": "2021-11-20T02:59:32.375Z"
   },
   {
    "duration": 15,
    "start_time": "2021-11-20T02:59:32.379Z"
   },
   {
    "duration": 339,
    "start_time": "2021-11-20T02:59:32.396Z"
   },
   {
    "duration": 7,
    "start_time": "2021-11-20T02:59:32.736Z"
   },
   {
    "duration": 688,
    "start_time": "2021-11-20T02:59:32.744Z"
   },
   {
    "duration": 212,
    "start_time": "2021-11-20T02:59:33.434Z"
   },
   {
    "duration": 348,
    "start_time": "2021-11-20T02:59:33.648Z"
   },
   {
    "duration": 4,
    "start_time": "2021-11-20T02:59:33.997Z"
   },
   {
    "duration": 6,
    "start_time": "2021-11-20T02:59:34.003Z"
   },
   {
    "duration": 5,
    "start_time": "2021-11-20T02:59:34.011Z"
   },
   {
    "duration": 6,
    "start_time": "2021-11-20T02:59:34.017Z"
   },
   {
    "duration": 4,
    "start_time": "2021-11-20T02:59:34.024Z"
   },
   {
    "duration": 15,
    "start_time": "2021-11-20T02:59:36.430Z"
   },
   {
    "duration": 5,
    "start_time": "2021-11-20T02:59:37.190Z"
   },
   {
    "duration": 5,
    "start_time": "2021-11-20T02:59:37.855Z"
   },
   {
    "duration": 6,
    "start_time": "2021-11-20T02:59:38.159Z"
   },
   {
    "duration": 6,
    "start_time": "2021-11-20T02:59:38.425Z"
   },
   {
    "duration": 13,
    "start_time": "2021-11-20T02:59:38.734Z"
   },
   {
    "duration": 4,
    "start_time": "2021-11-20T03:00:27.011Z"
   },
   {
    "duration": 39,
    "start_time": "2021-11-20T03:00:27.017Z"
   },
   {
    "duration": 8,
    "start_time": "2021-11-20T03:00:27.058Z"
   },
   {
    "duration": 6,
    "start_time": "2021-11-20T03:00:27.068Z"
   },
   {
    "duration": 16,
    "start_time": "2021-11-20T03:00:27.076Z"
   },
   {
    "duration": 258,
    "start_time": "2021-11-20T03:00:27.094Z"
   },
   {
    "duration": 3,
    "start_time": "2021-11-20T03:00:27.354Z"
   },
   {
    "duration": 10,
    "start_time": "2021-11-20T03:00:27.358Z"
   },
   {
    "duration": 334,
    "start_time": "2021-11-20T03:00:27.370Z"
   },
   {
    "duration": 3,
    "start_time": "2021-11-20T03:00:27.706Z"
   },
   {
    "duration": 8,
    "start_time": "2021-11-20T03:00:27.710Z"
   },
   {
    "duration": 351,
    "start_time": "2021-11-20T03:00:27.719Z"
   },
   {
    "duration": 7,
    "start_time": "2021-11-20T03:00:28.072Z"
   },
   {
    "duration": 722,
    "start_time": "2021-11-20T03:00:28.080Z"
   },
   {
    "duration": 216,
    "start_time": "2021-11-20T03:00:28.803Z"
   },
   {
    "duration": 353,
    "start_time": "2021-11-20T03:00:29.020Z"
   },
   {
    "duration": 3,
    "start_time": "2021-11-20T03:00:29.375Z"
   },
   {
    "duration": 15,
    "start_time": "2021-11-20T03:00:29.379Z"
   },
   {
    "duration": 7,
    "start_time": "2021-11-20T03:00:29.395Z"
   },
   {
    "duration": 8,
    "start_time": "2021-11-20T03:00:29.404Z"
   },
   {
    "duration": 5,
    "start_time": "2021-11-20T03:00:29.413Z"
   },
   {
    "duration": 28003,
    "start_time": "2021-11-20T03:04:06.901Z"
   },
   {
    "duration": 4,
    "start_time": "2021-11-20T03:05:24.825Z"
   },
   {
    "duration": 36,
    "start_time": "2021-11-20T03:05:24.831Z"
   },
   {
    "duration": 8,
    "start_time": "2021-11-20T03:05:24.869Z"
   },
   {
    "duration": 7,
    "start_time": "2021-11-20T03:05:24.879Z"
   },
   {
    "duration": 11,
    "start_time": "2021-11-20T03:05:24.888Z"
   },
   {
    "duration": 269,
    "start_time": "2021-11-20T03:05:24.900Z"
   },
   {
    "duration": 4,
    "start_time": "2021-11-20T03:05:25.171Z"
   },
   {
    "duration": 17,
    "start_time": "2021-11-20T03:05:25.177Z"
   },
   {
    "duration": 344,
    "start_time": "2021-11-20T03:05:25.196Z"
   },
   {
    "duration": 3,
    "start_time": "2021-11-20T03:05:25.542Z"
   },
   {
    "duration": 8,
    "start_time": "2021-11-20T03:05:25.546Z"
   },
   {
    "duration": 369,
    "start_time": "2021-11-20T03:05:25.556Z"
   },
   {
    "duration": 10,
    "start_time": "2021-11-20T03:05:25.927Z"
   },
   {
    "duration": 729,
    "start_time": "2021-11-20T03:05:25.938Z"
   },
   {
    "duration": 239,
    "start_time": "2021-11-20T03:05:26.669Z"
   },
   {
    "duration": 364,
    "start_time": "2021-11-20T03:05:26.910Z"
   },
   {
    "duration": 16,
    "start_time": "2021-11-20T03:05:27.276Z"
   },
   {
    "duration": 6,
    "start_time": "2021-11-20T03:05:27.293Z"
   },
   {
    "duration": 6,
    "start_time": "2021-11-20T03:05:27.300Z"
   },
   {
    "duration": 16,
    "start_time": "2021-11-20T03:05:27.307Z"
   },
   {
    "duration": 21,
    "start_time": "2021-11-20T03:05:27.324Z"
   },
   {
    "duration": 28248,
    "start_time": "2021-11-20T03:05:28.444Z"
   },
   {
    "duration": 28168,
    "start_time": "2021-11-20T04:52:48.531Z"
   },
   {
    "duration": 3,
    "start_time": "2021-11-20T04:53:16.792Z"
   },
   {
    "duration": 35,
    "start_time": "2021-11-20T04:53:16.798Z"
   },
   {
    "duration": 8,
    "start_time": "2021-11-20T04:53:16.835Z"
   },
   {
    "duration": 8,
    "start_time": "2021-11-20T04:53:16.844Z"
   },
   {
    "duration": 12,
    "start_time": "2021-11-20T04:53:16.853Z"
   },
   {
    "duration": 267,
    "start_time": "2021-11-20T04:53:16.866Z"
   },
   {
    "duration": 4,
    "start_time": "2021-11-20T04:53:17.135Z"
   },
   {
    "duration": 9,
    "start_time": "2021-11-20T04:53:17.141Z"
   },
   {
    "duration": 316,
    "start_time": "2021-11-20T04:53:17.152Z"
   },
   {
    "duration": 3,
    "start_time": "2021-11-20T04:53:17.469Z"
   },
   {
    "duration": 18,
    "start_time": "2021-11-20T04:53:17.473Z"
   },
   {
    "duration": 325,
    "start_time": "2021-11-20T04:53:17.493Z"
   },
   {
    "duration": 7,
    "start_time": "2021-11-20T04:53:17.820Z"
   },
   {
    "duration": 563,
    "start_time": "2021-11-20T04:53:17.828Z"
   },
   {
    "duration": 203,
    "start_time": "2021-11-20T04:53:18.392Z"
   },
   {
    "duration": 464,
    "start_time": "2021-11-20T04:53:18.597Z"
   },
   {
    "duration": 4,
    "start_time": "2021-11-20T04:53:19.062Z"
   },
   {
    "duration": 6,
    "start_time": "2021-11-20T04:53:19.068Z"
   },
   {
    "duration": 15,
    "start_time": "2021-11-20T04:53:19.076Z"
   },
   {
    "duration": 4,
    "start_time": "2021-11-20T04:53:19.093Z"
   },
   {
    "duration": 4,
    "start_time": "2021-11-20T04:53:19.098Z"
   },
   {
    "duration": 4,
    "start_time": "2021-11-20T04:58:12.205Z"
   },
   {
    "duration": 43,
    "start_time": "2021-11-20T04:58:12.211Z"
   },
   {
    "duration": 7,
    "start_time": "2021-11-20T04:58:12.256Z"
   },
   {
    "duration": 7,
    "start_time": "2021-11-20T04:58:12.265Z"
   },
   {
    "duration": 12,
    "start_time": "2021-11-20T04:58:12.273Z"
   },
   {
    "duration": 248,
    "start_time": "2021-11-20T04:58:12.286Z"
   },
   {
    "duration": 3,
    "start_time": "2021-11-20T04:58:12.536Z"
   },
   {
    "duration": 9,
    "start_time": "2021-11-20T04:58:12.541Z"
   },
   {
    "duration": 313,
    "start_time": "2021-11-20T04:58:12.552Z"
   },
   {
    "duration": 3,
    "start_time": "2021-11-20T04:58:12.867Z"
   },
   {
    "duration": 17,
    "start_time": "2021-11-20T04:58:12.871Z"
   },
   {
    "duration": 345,
    "start_time": "2021-11-20T04:58:12.890Z"
   },
   {
    "duration": 8,
    "start_time": "2021-11-20T04:58:13.236Z"
   },
   {
    "duration": 567,
    "start_time": "2021-11-20T04:58:13.245Z"
   },
   {
    "duration": 210,
    "start_time": "2021-11-20T04:58:13.814Z"
   },
   {
    "duration": 468,
    "start_time": "2021-11-20T04:58:14.026Z"
   },
   {
    "duration": 4,
    "start_time": "2021-11-20T04:58:14.496Z"
   },
   {
    "duration": 7,
    "start_time": "2021-11-20T04:58:14.502Z"
   },
   {
    "duration": 5,
    "start_time": "2021-11-20T04:58:14.510Z"
   },
   {
    "duration": 6,
    "start_time": "2021-11-20T04:58:14.516Z"
   },
   {
    "duration": 3,
    "start_time": "2021-11-20T04:58:14.524Z"
   },
   {
    "duration": 27537,
    "start_time": "2021-11-20T04:58:24.164Z"
   },
   {
    "duration": 9,
    "start_time": "2021-11-20T04:59:23.524Z"
   },
   {
    "duration": 4,
    "start_time": "2021-11-20T04:59:41.757Z"
   },
   {
    "duration": 9,
    "start_time": "2021-11-20T05:02:39.207Z"
   },
   {
    "duration": 5446,
    "start_time": "2021-11-20T05:02:55.503Z"
   },
   {
    "duration": 5163,
    "start_time": "2021-11-20T05:03:01.114Z"
   },
   {
    "duration": 6,
    "start_time": "2021-11-20T05:03:08.063Z"
   },
   {
    "duration": 5,
    "start_time": "2021-11-20T05:03:11.574Z"
   },
   {
    "duration": 4,
    "start_time": "2021-11-20T05:03:44.729Z"
   },
   {
    "duration": 44,
    "start_time": "2021-11-20T05:03:44.734Z"
   },
   {
    "duration": 8,
    "start_time": "2021-11-20T05:03:44.780Z"
   },
   {
    "duration": 16,
    "start_time": "2021-11-20T05:03:44.789Z"
   },
   {
    "duration": 19,
    "start_time": "2021-11-20T05:03:44.806Z"
   },
   {
    "duration": 255,
    "start_time": "2021-11-20T05:03:44.826Z"
   },
   {
    "duration": 11,
    "start_time": "2021-11-20T05:03:45.082Z"
   },
   {
    "duration": 8,
    "start_time": "2021-11-20T05:03:45.094Z"
   },
   {
    "duration": 311,
    "start_time": "2021-11-20T05:03:45.104Z"
   },
   {
    "duration": 3,
    "start_time": "2021-11-20T05:03:45.417Z"
   },
   {
    "duration": 8,
    "start_time": "2021-11-20T05:03:45.421Z"
   },
   {
    "duration": 336,
    "start_time": "2021-11-20T05:03:45.430Z"
   },
   {
    "duration": 8,
    "start_time": "2021-11-20T05:03:45.767Z"
   },
   {
    "duration": 633,
    "start_time": "2021-11-20T05:03:45.777Z"
   },
   {
    "duration": 238,
    "start_time": "2021-11-20T05:03:46.412Z"
   },
   {
    "duration": 375,
    "start_time": "2021-11-20T05:03:46.651Z"
   },
   {
    "duration": 4,
    "start_time": "2021-11-20T05:03:47.028Z"
   },
   {
    "duration": 9,
    "start_time": "2021-11-20T05:03:47.033Z"
   },
   {
    "duration": 5,
    "start_time": "2021-11-20T05:03:47.044Z"
   },
   {
    "duration": 6,
    "start_time": "2021-11-20T05:03:47.050Z"
   },
   {
    "duration": 5,
    "start_time": "2021-11-20T05:03:47.058Z"
   },
   {
    "duration": 28118,
    "start_time": "2021-11-20T05:03:53.278Z"
   },
   {
    "duration": 9,
    "start_time": "2021-11-20T05:07:37.511Z"
   },
   {
    "duration": 4,
    "start_time": "2021-11-20T05:08:29.869Z"
   },
   {
    "duration": 36,
    "start_time": "2021-11-20T05:08:29.875Z"
   },
   {
    "duration": 7,
    "start_time": "2021-11-20T05:08:29.913Z"
   },
   {
    "duration": 8,
    "start_time": "2021-11-20T05:08:29.922Z"
   },
   {
    "duration": 13,
    "start_time": "2021-11-20T05:08:29.931Z"
   },
   {
    "duration": 396,
    "start_time": "2021-11-20T05:08:29.946Z"
   },
   {
    "duration": 4,
    "start_time": "2021-11-20T05:08:30.344Z"
   },
   {
    "duration": 11,
    "start_time": "2021-11-20T05:08:30.350Z"
   },
   {
    "duration": 321,
    "start_time": "2021-11-20T05:08:30.362Z"
   },
   {
    "duration": 6,
    "start_time": "2021-11-20T05:08:30.685Z"
   },
   {
    "duration": 12,
    "start_time": "2021-11-20T05:08:30.693Z"
   },
   {
    "duration": 364,
    "start_time": "2021-11-20T05:08:30.706Z"
   },
   {
    "duration": 8,
    "start_time": "2021-11-20T05:08:31.072Z"
   },
   {
    "duration": 569,
    "start_time": "2021-11-20T05:08:31.092Z"
   },
   {
    "duration": 218,
    "start_time": "2021-11-20T05:08:31.663Z"
   },
   {
    "duration": 341,
    "start_time": "2021-11-20T05:08:31.883Z"
   },
   {
    "duration": 3,
    "start_time": "2021-11-20T05:08:32.226Z"
   },
   {
    "duration": 7,
    "start_time": "2021-11-20T05:08:32.231Z"
   },
   {
    "duration": 6,
    "start_time": "2021-11-20T05:08:32.240Z"
   },
   {
    "duration": 6,
    "start_time": "2021-11-20T05:08:32.248Z"
   },
   {
    "duration": 4,
    "start_time": "2021-11-20T05:08:41.743Z"
   },
   {
    "duration": 27434,
    "start_time": "2021-11-20T05:08:43.759Z"
   },
   {
    "duration": 1128,
    "start_time": "2021-11-21T00:25:02.555Z"
   },
   {
    "duration": 77,
    "start_time": "2021-11-21T00:25:03.685Z"
   },
   {
    "duration": 10,
    "start_time": "2021-11-21T00:25:03.764Z"
   },
   {
    "duration": 6,
    "start_time": "2021-11-21T00:25:03.776Z"
   },
   {
    "duration": 11,
    "start_time": "2021-11-21T00:25:03.784Z"
   },
   {
    "duration": 250,
    "start_time": "2021-11-21T00:25:03.796Z"
   },
   {
    "duration": 3,
    "start_time": "2021-11-21T00:25:04.048Z"
   },
   {
    "duration": 10,
    "start_time": "2021-11-21T00:25:04.054Z"
   },
   {
    "duration": 327,
    "start_time": "2021-11-21T00:25:04.065Z"
   },
   {
    "duration": 3,
    "start_time": "2021-11-21T00:25:04.394Z"
   },
   {
    "duration": 20,
    "start_time": "2021-11-21T00:25:04.399Z"
   },
   {
    "duration": 338,
    "start_time": "2021-11-21T00:25:04.421Z"
   },
   {
    "duration": 8,
    "start_time": "2021-11-21T00:25:04.761Z"
   },
   {
    "duration": 333,
    "start_time": "2021-11-21T00:25:04.771Z"
   },
   {
    "duration": 109,
    "start_time": "2021-11-21T00:25:04.998Z"
   },
   {
    "duration": 103,
    "start_time": "2021-11-21T00:25:05.005Z"
   },
   {
    "duration": 100,
    "start_time": "2021-11-21T00:25:05.009Z"
   },
   {
    "duration": 98,
    "start_time": "2021-11-21T00:25:05.013Z"
   },
   {
    "duration": 96,
    "start_time": "2021-11-21T00:25:05.016Z"
   },
   {
    "duration": 85,
    "start_time": "2021-11-21T00:25:05.029Z"
   },
   {
    "duration": 80,
    "start_time": "2021-11-21T00:25:05.035Z"
   },
   {
    "duration": 77,
    "start_time": "2021-11-21T00:25:05.039Z"
   },
   {
    "duration": 76,
    "start_time": "2021-11-21T00:25:05.042Z"
   },
   {
    "duration": 74,
    "start_time": "2021-11-21T00:25:05.045Z"
   },
   {
    "duration": 71,
    "start_time": "2021-11-21T00:25:05.049Z"
   },
   {
    "duration": 69,
    "start_time": "2021-11-21T00:25:05.053Z"
   },
   {
    "duration": 67,
    "start_time": "2021-11-21T00:25:05.056Z"
   },
   {
    "duration": 3,
    "start_time": "2021-11-21T00:25:24.556Z"
   },
   {
    "duration": 35,
    "start_time": "2021-11-21T00:25:24.763Z"
   },
   {
    "duration": 10,
    "start_time": "2021-11-21T00:25:24.948Z"
   },
   {
    "duration": 5,
    "start_time": "2021-11-21T00:25:26.393Z"
   },
   {
    "duration": 11,
    "start_time": "2021-11-21T00:25:26.548Z"
   },
   {
    "duration": 234,
    "start_time": "2021-11-21T00:25:26.741Z"
   },
   {
    "duration": 4,
    "start_time": "2021-11-21T00:25:28.339Z"
   },
   {
    "duration": 8,
    "start_time": "2021-11-21T00:25:29.972Z"
   },
   {
    "duration": 350,
    "start_time": "2021-11-21T00:25:31.565Z"
   },
   {
    "duration": 3,
    "start_time": "2021-11-21T00:25:34.580Z"
   },
   {
    "duration": 5,
    "start_time": "2021-11-21T00:25:34.837Z"
   },
   {
    "duration": 314,
    "start_time": "2021-11-21T00:25:35.172Z"
   },
   {
    "duration": 7,
    "start_time": "2021-11-21T00:25:38.196Z"
   },
   {
    "duration": 253,
    "start_time": "2021-11-21T00:25:42.132Z"
   },
   {
    "duration": 4,
    "start_time": "2021-11-21T00:27:34.397Z"
   },
   {
    "duration": 3,
    "start_time": "2021-11-21T00:27:49.388Z"
   },
   {
    "duration": 37,
    "start_time": "2021-11-21T00:27:49.393Z"
   },
   {
    "duration": 7,
    "start_time": "2021-11-21T00:27:49.432Z"
   },
   {
    "duration": 6,
    "start_time": "2021-11-21T00:27:49.441Z"
   },
   {
    "duration": 11,
    "start_time": "2021-11-21T00:27:49.449Z"
   },
   {
    "duration": 245,
    "start_time": "2021-11-21T00:27:49.462Z"
   },
   {
    "duration": 4,
    "start_time": "2021-11-21T00:27:49.709Z"
   },
   {
    "duration": 29,
    "start_time": "2021-11-21T00:27:49.716Z"
   },
   {
    "duration": 304,
    "start_time": "2021-11-21T00:27:49.748Z"
   },
   {
    "duration": 3,
    "start_time": "2021-11-21T00:27:50.054Z"
   },
   {
    "duration": 8,
    "start_time": "2021-11-21T00:27:50.059Z"
   },
   {
    "duration": 347,
    "start_time": "2021-11-21T00:27:50.069Z"
   },
   {
    "duration": 9,
    "start_time": "2021-11-21T00:27:50.418Z"
   },
   {
    "duration": 689,
    "start_time": "2021-11-21T00:27:50.444Z"
   },
   {
    "duration": 205,
    "start_time": "2021-11-21T00:27:51.135Z"
   },
   {
    "duration": 342,
    "start_time": "2021-11-21T00:27:51.342Z"
   },
   {
    "duration": 4,
    "start_time": "2021-11-21T00:27:51.686Z"
   },
   {
    "duration": 7,
    "start_time": "2021-11-21T00:27:51.691Z"
   },
   {
    "duration": 4,
    "start_time": "2021-11-21T00:27:51.699Z"
   },
   {
    "duration": 6,
    "start_time": "2021-11-21T00:27:51.704Z"
   },
   {
    "duration": 4,
    "start_time": "2021-11-21T00:27:51.712Z"
   },
   {
    "duration": 34,
    "start_time": "2021-11-21T00:27:51.718Z"
   },
   {
    "duration": 5,
    "start_time": "2021-11-21T00:27:51.755Z"
   },
   {
    "duration": 6,
    "start_time": "2021-11-21T00:27:51.761Z"
   },
   {
    "duration": 8,
    "start_time": "2021-11-21T00:27:51.769Z"
   },
   {
    "duration": 11,
    "start_time": "2021-11-21T00:27:51.779Z"
   },
   {
    "duration": 154,
    "start_time": "2021-11-21T00:27:51.791Z"
   },
   {
    "duration": 26297,
    "start_time": "2021-11-21T00:27:51.947Z"
   },
   {
    "duration": 3,
    "start_time": "2021-11-21T00:32:49.580Z"
   },
   {
    "duration": 37,
    "start_time": "2021-11-21T00:32:49.585Z"
   },
   {
    "duration": 7,
    "start_time": "2021-11-21T00:32:49.624Z"
   },
   {
    "duration": 14,
    "start_time": "2021-11-21T00:32:49.633Z"
   },
   {
    "duration": 17,
    "start_time": "2021-11-21T00:32:49.648Z"
   },
   {
    "duration": 233,
    "start_time": "2021-11-21T00:32:49.667Z"
   },
   {
    "duration": 4,
    "start_time": "2021-11-21T00:32:49.902Z"
   },
   {
    "duration": 31,
    "start_time": "2021-11-21T00:32:49.909Z"
   },
   {
    "duration": 321,
    "start_time": "2021-11-21T00:32:49.942Z"
   },
   {
    "duration": 3,
    "start_time": "2021-11-21T00:32:50.265Z"
   },
   {
    "duration": 13,
    "start_time": "2021-11-21T00:32:50.270Z"
   },
   {
    "duration": 407,
    "start_time": "2021-11-21T00:32:50.284Z"
   },
   {
    "duration": 7,
    "start_time": "2021-11-21T00:32:50.693Z"
   },
   {
    "duration": 565,
    "start_time": "2021-11-21T00:32:50.702Z"
   },
   {
    "duration": 211,
    "start_time": "2021-11-21T00:32:51.269Z"
   },
   {
    "duration": 343,
    "start_time": "2021-11-21T00:32:51.482Z"
   },
   {
    "duration": 3,
    "start_time": "2021-11-21T00:32:51.827Z"
   },
   {
    "duration": 4,
    "start_time": "2021-11-21T00:32:51.844Z"
   },
   {
    "duration": 25,
    "start_time": "2021-11-21T00:32:51.850Z"
   },
   {
    "duration": 27,
    "start_time": "2021-11-21T00:32:51.877Z"
   },
   {
    "duration": 6,
    "start_time": "2021-11-21T00:32:51.906Z"
   },
   {
    "duration": 24433,
    "start_time": "2021-11-21T00:32:51.913Z"
   },
   {
    "duration": 22,
    "start_time": "2021-11-21T00:33:30.550Z"
   },
   {
    "duration": 3,
    "start_time": "2021-11-21T00:35:02.932Z"
   },
   {
    "duration": 38,
    "start_time": "2021-11-21T00:35:02.937Z"
   },
   {
    "duration": 8,
    "start_time": "2021-11-21T00:35:02.977Z"
   },
   {
    "duration": 8,
    "start_time": "2021-11-21T00:35:02.986Z"
   },
   {
    "duration": 11,
    "start_time": "2021-11-21T00:35:02.995Z"
   },
   {
    "duration": 238,
    "start_time": "2021-11-21T00:35:03.008Z"
   },
   {
    "duration": 4,
    "start_time": "2021-11-21T00:35:03.247Z"
   },
   {
    "duration": 10,
    "start_time": "2021-11-21T00:35:03.253Z"
   },
   {
    "duration": 382,
    "start_time": "2021-11-21T00:35:03.266Z"
   },
   {
    "duration": 3,
    "start_time": "2021-11-21T00:35:03.650Z"
   },
   {
    "duration": 7,
    "start_time": "2021-11-21T00:35:03.655Z"
   },
   {
    "duration": 331,
    "start_time": "2021-11-21T00:35:03.664Z"
   },
   {
    "duration": 8,
    "start_time": "2021-11-21T00:35:03.997Z"
   },
   {
    "duration": 568,
    "start_time": "2021-11-21T00:35:04.006Z"
   },
   {
    "duration": 208,
    "start_time": "2021-11-21T00:35:04.575Z"
   },
   {
    "duration": 375,
    "start_time": "2021-11-21T00:35:04.785Z"
   },
   {
    "duration": 3,
    "start_time": "2021-11-21T00:35:05.162Z"
   },
   {
    "duration": 8,
    "start_time": "2021-11-21T00:35:05.167Z"
   },
   {
    "duration": 9,
    "start_time": "2021-11-21T00:35:05.176Z"
   },
   {
    "duration": 7,
    "start_time": "2021-11-21T00:35:05.187Z"
   },
   {
    "duration": 5,
    "start_time": "2021-11-21T00:35:05.196Z"
   },
   {
    "duration": 40844,
    "start_time": "2021-11-21T00:35:05.203Z"
   },
   {
    "duration": 3,
    "start_time": "2021-11-21T00:37:12.205Z"
   },
   {
    "duration": 51,
    "start_time": "2021-11-21T00:37:12.210Z"
   },
   {
    "duration": 8,
    "start_time": "2021-11-21T00:37:12.263Z"
   },
   {
    "duration": 20,
    "start_time": "2021-11-21T00:37:12.273Z"
   },
   {
    "duration": 19,
    "start_time": "2021-11-21T00:37:12.295Z"
   },
   {
    "duration": 324,
    "start_time": "2021-11-21T00:37:12.316Z"
   },
   {
    "duration": 4,
    "start_time": "2021-11-21T00:37:12.641Z"
   },
   {
    "duration": 8,
    "start_time": "2021-11-21T00:37:12.648Z"
   },
   {
    "duration": 318,
    "start_time": "2021-11-21T00:37:12.658Z"
   },
   {
    "duration": 3,
    "start_time": "2021-11-21T00:37:12.978Z"
   },
   {
    "duration": 8,
    "start_time": "2021-11-21T00:37:12.982Z"
   },
   {
    "duration": 347,
    "start_time": "2021-11-21T00:37:12.991Z"
   },
   {
    "duration": 7,
    "start_time": "2021-11-21T00:37:13.344Z"
   },
   {
    "duration": 592,
    "start_time": "2021-11-21T00:37:13.352Z"
   },
   {
    "duration": 234,
    "start_time": "2021-11-21T00:37:13.946Z"
   },
   {
    "duration": 515,
    "start_time": "2021-11-21T00:37:14.181Z"
   },
   {
    "duration": 5,
    "start_time": "2021-11-21T00:37:14.697Z"
   },
   {
    "duration": 17,
    "start_time": "2021-11-21T00:37:14.703Z"
   },
   {
    "duration": 8,
    "start_time": "2021-11-21T00:37:14.721Z"
   },
   {
    "duration": 19,
    "start_time": "2021-11-21T00:37:14.730Z"
   },
   {
    "duration": 8,
    "start_time": "2021-11-21T00:37:14.751Z"
   },
   {
    "duration": 68886,
    "start_time": "2021-11-21T00:37:14.760Z"
   },
   {
    "duration": 4,
    "start_time": "2021-11-21T00:52:06.374Z"
   },
   {
    "duration": 35,
    "start_time": "2021-11-21T00:52:06.380Z"
   },
   {
    "duration": 7,
    "start_time": "2021-11-21T00:52:06.417Z"
   },
   {
    "duration": 6,
    "start_time": "2021-11-21T00:52:06.426Z"
   },
   {
    "duration": 11,
    "start_time": "2021-11-21T00:52:06.433Z"
   },
   {
    "duration": 240,
    "start_time": "2021-11-21T00:52:06.445Z"
   },
   {
    "duration": 3,
    "start_time": "2021-11-21T00:52:06.687Z"
   },
   {
    "duration": 8,
    "start_time": "2021-11-21T00:52:06.693Z"
   },
   {
    "duration": 309,
    "start_time": "2021-11-21T00:52:06.702Z"
   },
   {
    "duration": 3,
    "start_time": "2021-11-21T00:52:07.013Z"
   },
   {
    "duration": 7,
    "start_time": "2021-11-21T00:52:07.017Z"
   },
   {
    "duration": 429,
    "start_time": "2021-11-21T00:52:07.025Z"
   },
   {
    "duration": 7,
    "start_time": "2021-11-21T00:52:07.456Z"
   },
   {
    "duration": 537,
    "start_time": "2021-11-21T00:52:07.464Z"
   },
   {
    "duration": 206,
    "start_time": "2021-11-21T00:52:08.002Z"
   },
   {
    "duration": 396,
    "start_time": "2021-11-21T00:52:08.209Z"
   },
   {
    "duration": 3,
    "start_time": "2021-11-21T00:52:08.607Z"
   },
   {
    "duration": 6,
    "start_time": "2021-11-21T00:52:08.612Z"
   },
   {
    "duration": 4,
    "start_time": "2021-11-21T00:52:08.619Z"
   },
   {
    "duration": 20,
    "start_time": "2021-11-21T00:52:08.625Z"
   },
   {
    "duration": 4,
    "start_time": "2021-11-21T00:52:08.647Z"
   },
   {
    "duration": 67493,
    "start_time": "2021-11-21T00:52:08.652Z"
   },
   {
    "duration": 3,
    "start_time": "2021-11-21T00:54:07.664Z"
   },
   {
    "duration": 37,
    "start_time": "2021-11-21T00:54:07.669Z"
   },
   {
    "duration": 8,
    "start_time": "2021-11-21T00:54:07.708Z"
   },
   {
    "duration": 7,
    "start_time": "2021-11-21T00:54:07.717Z"
   },
   {
    "duration": 11,
    "start_time": "2021-11-21T00:54:07.726Z"
   },
   {
    "duration": 230,
    "start_time": "2021-11-21T00:54:07.739Z"
   },
   {
    "duration": 4,
    "start_time": "2021-11-21T00:54:07.970Z"
   },
   {
    "duration": 8,
    "start_time": "2021-11-21T00:54:07.976Z"
   },
   {
    "duration": 309,
    "start_time": "2021-11-21T00:54:07.986Z"
   },
   {
    "duration": 3,
    "start_time": "2021-11-21T00:54:08.296Z"
   },
   {
    "duration": 6,
    "start_time": "2021-11-21T00:54:08.301Z"
   },
   {
    "duration": 324,
    "start_time": "2021-11-21T00:54:08.309Z"
   },
   {
    "duration": 15,
    "start_time": "2021-11-21T00:54:08.634Z"
   },
   {
    "duration": 620,
    "start_time": "2021-11-21T00:54:08.651Z"
   },
   {
    "duration": 197,
    "start_time": "2021-11-21T00:54:09.273Z"
   },
   {
    "duration": 327,
    "start_time": "2021-11-21T00:54:09.472Z"
   },
   {
    "duration": 4,
    "start_time": "2021-11-21T00:54:09.800Z"
   },
   {
    "duration": 3,
    "start_time": "2021-11-21T00:54:28.124Z"
   },
   {
    "duration": 4,
    "start_time": "2021-11-21T00:58:09.970Z"
   },
   {
    "duration": 4,
    "start_time": "2021-11-21T00:58:24.402Z"
   },
   {
    "duration": 4,
    "start_time": "2021-11-21T00:58:33.852Z"
   },
   {
    "duration": 3,
    "start_time": "2021-11-21T00:58:47.491Z"
   },
   {
    "duration": 4,
    "start_time": "2021-11-21T00:58:47.947Z"
   },
   {
    "duration": 6,
    "start_time": "2021-11-21T00:58:53.866Z"
   },
   {
    "duration": 3,
    "start_time": "2021-11-21T01:08:23.412Z"
   },
   {
    "duration": 5,
    "start_time": "2021-11-21T01:08:23.627Z"
   },
   {
    "duration": 4,
    "start_time": "2021-11-21T01:08:51.529Z"
   },
   {
    "duration": 38,
    "start_time": "2021-11-21T01:08:51.534Z"
   },
   {
    "duration": 8,
    "start_time": "2021-11-21T01:08:51.574Z"
   },
   {
    "duration": 7,
    "start_time": "2021-11-21T01:08:51.583Z"
   },
   {
    "duration": 12,
    "start_time": "2021-11-21T01:08:51.591Z"
   },
   {
    "duration": 258,
    "start_time": "2021-11-21T01:08:51.604Z"
   },
   {
    "duration": 4,
    "start_time": "2021-11-21T01:08:51.863Z"
   },
   {
    "duration": 8,
    "start_time": "2021-11-21T01:08:51.870Z"
   },
   {
    "duration": 326,
    "start_time": "2021-11-21T01:08:51.880Z"
   },
   {
    "duration": 3,
    "start_time": "2021-11-21T01:08:52.208Z"
   },
   {
    "duration": 8,
    "start_time": "2021-11-21T01:08:52.212Z"
   },
   {
    "duration": 343,
    "start_time": "2021-11-21T01:08:52.222Z"
   },
   {
    "duration": 7,
    "start_time": "2021-11-21T01:08:52.567Z"
   },
   {
    "duration": 646,
    "start_time": "2021-11-21T01:08:52.576Z"
   },
   {
    "duration": 207,
    "start_time": "2021-11-21T01:08:53.223Z"
   },
   {
    "duration": 343,
    "start_time": "2021-11-21T01:08:53.431Z"
   },
   {
    "duration": 3,
    "start_time": "2021-11-21T01:08:53.776Z"
   },
   {
    "duration": 5,
    "start_time": "2021-11-21T01:09:00.443Z"
   },
   {
    "duration": 4,
    "start_time": "2021-11-21T01:09:00.774Z"
   },
   {
    "duration": 3,
    "start_time": "2021-11-21T01:09:02.844Z"
   },
   {
    "duration": 5,
    "start_time": "2021-11-21T01:09:03.260Z"
   },
   {
    "duration": 9,
    "start_time": "2021-11-21T01:10:14.098Z"
   },
   {
    "duration": 4,
    "start_time": "2021-11-21T01:12:13.278Z"
   },
   {
    "duration": 3,
    "start_time": "2021-11-21T01:19:39.316Z"
   },
   {
    "duration": 39,
    "start_time": "2021-11-21T01:19:39.321Z"
   },
   {
    "duration": 8,
    "start_time": "2021-11-21T01:19:39.362Z"
   },
   {
    "duration": 7,
    "start_time": "2021-11-21T01:19:39.372Z"
   },
   {
    "duration": 11,
    "start_time": "2021-11-21T01:19:39.381Z"
   },
   {
    "duration": 276,
    "start_time": "2021-11-21T01:19:39.394Z"
   },
   {
    "duration": 3,
    "start_time": "2021-11-21T01:19:39.672Z"
   },
   {
    "duration": 9,
    "start_time": "2021-11-21T01:19:39.677Z"
   },
   {
    "duration": 329,
    "start_time": "2021-11-21T01:19:39.688Z"
   },
   {
    "duration": 4,
    "start_time": "2021-11-21T01:19:40.018Z"
   },
   {
    "duration": 21,
    "start_time": "2021-11-21T01:19:40.023Z"
   },
   {
    "duration": 424,
    "start_time": "2021-11-21T01:19:40.046Z"
   },
   {
    "duration": 10,
    "start_time": "2021-11-21T01:19:40.472Z"
   },
   {
    "duration": 671,
    "start_time": "2021-11-21T01:19:40.483Z"
   },
   {
    "duration": 206,
    "start_time": "2021-11-21T01:19:41.156Z"
   },
   {
    "duration": 333,
    "start_time": "2021-11-21T01:19:41.364Z"
   },
   {
    "duration": 5,
    "start_time": "2021-11-21T01:19:41.699Z"
   },
   {
    "duration": 6,
    "start_time": "2021-11-21T01:19:41.706Z"
   },
   {
    "duration": 5,
    "start_time": "2021-11-21T01:19:50.429Z"
   },
   {
    "duration": 4,
    "start_time": "2021-11-21T01:20:04.686Z"
   },
   {
    "duration": 4,
    "start_time": "2021-11-21T01:20:13.238Z"
   },
   {
    "duration": 3,
    "start_time": "2021-11-21T01:20:23.254Z"
   },
   {
    "duration": 59,
    "start_time": "2021-11-21T01:20:23.259Z"
   },
   {
    "duration": 8,
    "start_time": "2021-11-21T01:20:23.321Z"
   },
   {
    "duration": 26,
    "start_time": "2021-11-21T01:20:23.331Z"
   },
   {
    "duration": 15,
    "start_time": "2021-11-21T01:20:23.359Z"
   },
   {
    "duration": 235,
    "start_time": "2021-11-21T01:20:23.376Z"
   },
   {
    "duration": 4,
    "start_time": "2021-11-21T01:20:23.613Z"
   },
   {
    "duration": 26,
    "start_time": "2021-11-21T01:20:23.618Z"
   },
   {
    "duration": 394,
    "start_time": "2021-11-21T01:20:23.646Z"
   },
   {
    "duration": 3,
    "start_time": "2021-11-21T01:20:24.042Z"
   },
   {
    "duration": 32,
    "start_time": "2021-11-21T01:20:24.047Z"
   },
   {
    "duration": 352,
    "start_time": "2021-11-21T01:20:24.081Z"
   },
   {
    "duration": 18,
    "start_time": "2021-11-21T01:20:24.434Z"
   },
   {
    "duration": 571,
    "start_time": "2021-11-21T01:20:24.454Z"
   },
   {
    "duration": 217,
    "start_time": "2021-11-21T01:20:25.027Z"
   },
   {
    "duration": 350,
    "start_time": "2021-11-21T01:20:25.246Z"
   },
   {
    "duration": 5,
    "start_time": "2021-11-21T01:20:25.599Z"
   },
   {
    "duration": 27,
    "start_time": "2021-11-21T01:20:25.606Z"
   },
   {
    "duration": 18,
    "start_time": "2021-11-21T01:20:25.635Z"
   },
   {
    "duration": 24,
    "start_time": "2021-11-21T01:20:25.654Z"
   },
   {
    "duration": 12,
    "start_time": "2021-11-21T01:20:25.680Z"
   },
   {
    "duration": 4,
    "start_time": "2021-11-21T01:21:13.864Z"
   },
   {
    "duration": 4,
    "start_time": "2021-11-21T01:21:14.214Z"
   },
   {
    "duration": 3,
    "start_time": "2021-11-21T01:21:14.902Z"
   },
   {
    "duration": 4,
    "start_time": "2021-11-21T01:25:34.526Z"
   },
   {
    "duration": 5,
    "start_time": "2021-11-21T01:25:34.806Z"
   },
   {
    "duration": 4,
    "start_time": "2021-11-21T01:26:13.231Z"
   },
   {
    "duration": 8,
    "start_time": "2021-11-21T01:26:39.431Z"
   },
   {
    "duration": 3,
    "start_time": "2021-11-21T01:26:43.111Z"
   },
   {
    "duration": 3,
    "start_time": "2021-11-21T01:27:10.956Z"
   },
   {
    "duration": 37,
    "start_time": "2021-11-21T01:27:10.961Z"
   },
   {
    "duration": 7,
    "start_time": "2021-11-21T01:27:11.000Z"
   },
   {
    "duration": 7,
    "start_time": "2021-11-21T01:27:11.008Z"
   },
   {
    "duration": 10,
    "start_time": "2021-11-21T01:27:11.016Z"
   },
   {
    "duration": 231,
    "start_time": "2021-11-21T01:27:11.028Z"
   },
   {
    "duration": 4,
    "start_time": "2021-11-21T01:27:11.261Z"
   },
   {
    "duration": 9,
    "start_time": "2021-11-21T01:27:11.267Z"
   },
   {
    "duration": 385,
    "start_time": "2021-11-21T01:27:11.277Z"
   },
   {
    "duration": 3,
    "start_time": "2021-11-21T01:27:11.663Z"
   },
   {
    "duration": 7,
    "start_time": "2021-11-21T01:27:11.668Z"
   },
   {
    "duration": 321,
    "start_time": "2021-11-21T01:27:11.676Z"
   },
   {
    "duration": 7,
    "start_time": "2021-11-21T01:27:11.999Z"
   },
   {
    "duration": 552,
    "start_time": "2021-11-21T01:27:12.008Z"
   },
   {
    "duration": 194,
    "start_time": "2021-11-21T01:27:12.562Z"
   },
   {
    "duration": 333,
    "start_time": "2021-11-21T01:27:12.757Z"
   },
   {
    "duration": 4,
    "start_time": "2021-11-21T01:27:13.091Z"
   },
   {
    "duration": 3,
    "start_time": "2021-11-21T01:27:23.039Z"
   },
   {
    "duration": 4,
    "start_time": "2021-11-21T01:27:27.015Z"
   },
   {
    "duration": 4,
    "start_time": "2021-11-21T01:27:27.838Z"
   },
   {
    "duration": 4,
    "start_time": "2021-11-21T01:27:28.263Z"
   },
   {
    "duration": 4,
    "start_time": "2021-11-21T01:27:30.799Z"
   },
   {
    "duration": 4,
    "start_time": "2021-11-21T01:27:31.238Z"
   },
   {
    "duration": 3,
    "start_time": "2021-11-21T01:33:03.837Z"
   },
   {
    "duration": 37,
    "start_time": "2021-11-21T01:33:03.842Z"
   },
   {
    "duration": 8,
    "start_time": "2021-11-21T01:33:03.881Z"
   },
   {
    "duration": 7,
    "start_time": "2021-11-21T01:33:03.890Z"
   },
   {
    "duration": 11,
    "start_time": "2021-11-21T01:33:03.899Z"
   },
   {
    "duration": 425,
    "start_time": "2021-11-21T01:33:03.911Z"
   },
   {
    "duration": 7,
    "start_time": "2021-11-21T01:33:04.338Z"
   },
   {
    "duration": 10,
    "start_time": "2021-11-21T01:33:04.349Z"
   },
   {
    "duration": 389,
    "start_time": "2021-11-21T01:33:04.361Z"
   },
   {
    "duration": 3,
    "start_time": "2021-11-21T01:33:04.752Z"
   },
   {
    "duration": 8,
    "start_time": "2021-11-21T01:33:04.756Z"
   },
   {
    "duration": 442,
    "start_time": "2021-11-21T01:33:04.766Z"
   },
   {
    "duration": 8,
    "start_time": "2021-11-21T01:33:05.209Z"
   },
   {
    "duration": 564,
    "start_time": "2021-11-21T01:33:05.218Z"
   },
   {
    "duration": 230,
    "start_time": "2021-11-21T01:33:05.784Z"
   },
   {
    "duration": 431,
    "start_time": "2021-11-21T01:33:06.016Z"
   },
   {
    "duration": 3,
    "start_time": "2021-11-21T01:33:06.449Z"
   },
   {
    "duration": 6,
    "start_time": "2021-11-21T01:33:06.454Z"
   },
   {
    "duration": 7,
    "start_time": "2021-11-21T01:33:06.461Z"
   },
   {
    "duration": 5,
    "start_time": "2021-11-21T01:33:06.469Z"
   },
   {
    "duration": 4,
    "start_time": "2021-11-21T01:33:06.476Z"
   },
   {
    "duration": 45963,
    "start_time": "2021-11-21T01:33:06.481Z"
   },
   {
    "duration": 3,
    "start_time": "2021-11-21T02:24:56.952Z"
   },
   {
    "duration": 40,
    "start_time": "2021-11-21T02:24:56.958Z"
   },
   {
    "duration": 7,
    "start_time": "2021-11-21T02:24:57.000Z"
   },
   {
    "duration": 7,
    "start_time": "2021-11-21T02:24:57.009Z"
   },
   {
    "duration": 11,
    "start_time": "2021-11-21T02:24:57.017Z"
   },
   {
    "duration": 251,
    "start_time": "2021-11-21T02:24:57.030Z"
   },
   {
    "duration": 4,
    "start_time": "2021-11-21T02:24:57.283Z"
   },
   {
    "duration": 12,
    "start_time": "2021-11-21T02:24:57.289Z"
   },
   {
    "duration": 314,
    "start_time": "2021-11-21T02:24:57.304Z"
   },
   {
    "duration": 3,
    "start_time": "2021-11-21T02:24:57.620Z"
   },
   {
    "duration": 8,
    "start_time": "2021-11-21T02:24:57.624Z"
   },
   {
    "duration": 329,
    "start_time": "2021-11-21T02:24:57.644Z"
   },
   {
    "duration": 7,
    "start_time": "2021-11-21T02:24:57.975Z"
   },
   {
    "duration": 570,
    "start_time": "2021-11-21T02:24:57.983Z"
   },
   {
    "duration": 220,
    "start_time": "2021-11-21T02:24:58.554Z"
   },
   {
    "duration": 430,
    "start_time": "2021-11-21T02:24:58.776Z"
   },
   {
    "duration": 4,
    "start_time": "2021-11-21T02:24:59.207Z"
   },
   {
    "duration": 6,
    "start_time": "2021-11-21T02:24:59.212Z"
   },
   {
    "duration": 7,
    "start_time": "2021-11-21T02:24:59.219Z"
   },
   {
    "duration": 4,
    "start_time": "2021-11-21T02:25:16.050Z"
   },
   {
    "duration": 3,
    "start_time": "2021-11-21T02:25:57.079Z"
   },
   {
    "duration": 37,
    "start_time": "2021-11-21T02:25:57.084Z"
   },
   {
    "duration": 8,
    "start_time": "2021-11-21T02:25:57.122Z"
   },
   {
    "duration": 6,
    "start_time": "2021-11-21T02:25:57.131Z"
   },
   {
    "duration": 10,
    "start_time": "2021-11-21T02:25:57.139Z"
   },
   {
    "duration": 226,
    "start_time": "2021-11-21T02:25:57.150Z"
   },
   {
    "duration": 3,
    "start_time": "2021-11-21T02:25:57.377Z"
   },
   {
    "duration": 8,
    "start_time": "2021-11-21T02:25:57.383Z"
   },
   {
    "duration": 308,
    "start_time": "2021-11-21T02:25:57.392Z"
   },
   {
    "duration": 3,
    "start_time": "2021-11-21T02:25:57.702Z"
   },
   {
    "duration": 7,
    "start_time": "2021-11-21T02:25:57.706Z"
   },
   {
    "duration": 328,
    "start_time": "2021-11-21T02:25:57.714Z"
   },
   {
    "duration": 7,
    "start_time": "2021-11-21T02:25:58.043Z"
   },
   {
    "duration": 538,
    "start_time": "2021-11-21T02:25:58.052Z"
   },
   {
    "duration": 281,
    "start_time": "2021-11-21T02:25:58.592Z"
   },
   {
    "duration": 331,
    "start_time": "2021-11-21T02:25:58.875Z"
   },
   {
    "duration": 4,
    "start_time": "2021-11-21T02:25:59.207Z"
   },
   {
    "duration": 10,
    "start_time": "2021-11-21T02:25:59.213Z"
   },
   {
    "duration": 6,
    "start_time": "2021-11-21T02:25:59.225Z"
   },
   {
    "duration": 3,
    "start_time": "2021-11-21T02:25:59.244Z"
   },
   {
    "duration": 5,
    "start_time": "2021-11-21T02:25:59.248Z"
   },
   {
    "duration": 5,
    "start_time": "2021-11-21T02:25:59.254Z"
   },
   {
    "duration": 3,
    "start_time": "2021-11-21T02:26:52.577Z"
   },
   {
    "duration": 39,
    "start_time": "2021-11-21T02:26:52.582Z"
   },
   {
    "duration": 8,
    "start_time": "2021-11-21T02:26:52.623Z"
   },
   {
    "duration": 16,
    "start_time": "2021-11-21T02:26:52.632Z"
   },
   {
    "duration": 21,
    "start_time": "2021-11-21T02:26:52.649Z"
   },
   {
    "duration": 234,
    "start_time": "2021-11-21T02:26:52.671Z"
   },
   {
    "duration": 3,
    "start_time": "2021-11-21T02:26:52.907Z"
   },
   {
    "duration": 24,
    "start_time": "2021-11-21T02:26:52.912Z"
   },
   {
    "duration": 306,
    "start_time": "2021-11-21T02:26:52.938Z"
   },
   {
    "duration": 2,
    "start_time": "2021-11-21T02:26:53.246Z"
   },
   {
    "duration": 22,
    "start_time": "2021-11-21T02:26:53.250Z"
   },
   {
    "duration": 329,
    "start_time": "2021-11-21T02:26:53.274Z"
   },
   {
    "duration": 7,
    "start_time": "2021-11-21T02:26:53.604Z"
   },
   {
    "duration": 615,
    "start_time": "2021-11-21T02:26:53.613Z"
   },
   {
    "duration": 209,
    "start_time": "2021-11-21T02:26:54.230Z"
   },
   {
    "duration": 344,
    "start_time": "2021-11-21T02:26:54.444Z"
   },
   {
    "duration": 4,
    "start_time": "2021-11-21T02:26:54.790Z"
   },
   {
    "duration": 6,
    "start_time": "2021-11-21T02:26:56.929Z"
   },
   {
    "duration": 4,
    "start_time": "2021-11-21T02:26:57.249Z"
   },
   {
    "duration": 4,
    "start_time": "2021-11-21T02:26:57.569Z"
   },
   {
    "duration": 4,
    "start_time": "2021-11-21T02:26:57.985Z"
   },
   {
    "duration": 4,
    "start_time": "2021-11-21T02:26:58.615Z"
   },
   {
    "duration": 4,
    "start_time": "2021-11-21T02:28:28.601Z"
   },
   {
    "duration": 37,
    "start_time": "2021-11-21T02:28:28.607Z"
   },
   {
    "duration": 8,
    "start_time": "2021-11-21T02:28:28.647Z"
   },
   {
    "duration": 6,
    "start_time": "2021-11-21T02:28:28.657Z"
   },
   {
    "duration": 11,
    "start_time": "2021-11-21T02:28:28.665Z"
   },
   {
    "duration": 247,
    "start_time": "2021-11-21T02:28:28.678Z"
   },
   {
    "duration": 4,
    "start_time": "2021-11-21T02:28:28.927Z"
   },
   {
    "duration": 8,
    "start_time": "2021-11-21T02:28:28.944Z"
   },
   {
    "duration": 296,
    "start_time": "2021-11-21T02:28:28.955Z"
   },
   {
    "duration": 2,
    "start_time": "2021-11-21T02:28:29.253Z"
   },
   {
    "duration": 7,
    "start_time": "2021-11-21T02:28:29.257Z"
   },
   {
    "duration": 334,
    "start_time": "2021-11-21T02:28:29.265Z"
   },
   {
    "duration": 7,
    "start_time": "2021-11-21T02:28:29.601Z"
   },
   {
    "duration": 636,
    "start_time": "2021-11-21T02:28:29.610Z"
   },
   {
    "duration": 198,
    "start_time": "2021-11-21T02:28:30.248Z"
   },
   {
    "duration": 328,
    "start_time": "2021-11-21T02:28:30.448Z"
   },
   {
    "duration": 4,
    "start_time": "2021-11-21T02:28:30.777Z"
   },
   {
    "duration": 30,
    "start_time": "2021-11-21T02:28:30.782Z"
   },
   {
    "duration": 22,
    "start_time": "2021-11-21T02:28:30.814Z"
   },
   {
    "duration": 31,
    "start_time": "2021-11-21T02:28:30.837Z"
   },
   {
    "duration": 20,
    "start_time": "2021-11-21T02:28:30.869Z"
   },
   {
    "duration": 25,
    "start_time": "2021-11-21T02:28:30.891Z"
   },
   {
    "duration": 66827,
    "start_time": "2021-11-21T02:28:30.917Z"
   },
   {
    "duration": 22,
    "start_time": "2021-11-21T02:31:16.671Z"
   },
   {
    "duration": 32,
    "start_time": "2021-11-21T02:31:26.818Z"
   },
   {
    "duration": 5,
    "start_time": "2021-11-21T02:31:52.250Z"
   },
   {
    "duration": 23,
    "start_time": "2021-11-21T02:31:57.650Z"
   },
   {
    "duration": 3,
    "start_time": "2021-11-21T02:38:33.377Z"
   },
   {
    "duration": 44,
    "start_time": "2021-11-21T02:38:33.382Z"
   },
   {
    "duration": 7,
    "start_time": "2021-11-21T02:38:33.428Z"
   },
   {
    "duration": 7,
    "start_time": "2021-11-21T02:38:33.437Z"
   },
   {
    "duration": 13,
    "start_time": "2021-11-21T02:38:33.445Z"
   },
   {
    "duration": 233,
    "start_time": "2021-11-21T02:38:33.459Z"
   },
   {
    "duration": 4,
    "start_time": "2021-11-21T02:38:33.694Z"
   },
   {
    "duration": 15,
    "start_time": "2021-11-21T02:38:33.700Z"
   },
   {
    "duration": 310,
    "start_time": "2021-11-21T02:38:33.718Z"
   },
   {
    "duration": 3,
    "start_time": "2021-11-21T02:38:34.030Z"
   },
   {
    "duration": 16,
    "start_time": "2021-11-21T02:38:34.034Z"
   },
   {
    "duration": 465,
    "start_time": "2021-11-21T02:38:34.052Z"
   },
   {
    "duration": 9,
    "start_time": "2021-11-21T02:38:34.519Z"
   },
   {
    "duration": 564,
    "start_time": "2021-11-21T02:38:34.529Z"
   },
   {
    "duration": 203,
    "start_time": "2021-11-21T02:38:35.094Z"
   },
   {
    "duration": 338,
    "start_time": "2021-11-21T02:38:35.298Z"
   },
   {
    "duration": 6,
    "start_time": "2021-11-21T02:38:35.638Z"
   },
   {
    "duration": 5,
    "start_time": "2021-11-21T02:38:35.646Z"
   },
   {
    "duration": 5,
    "start_time": "2021-11-21T02:38:35.652Z"
   },
   {
    "duration": 5,
    "start_time": "2021-11-21T02:38:35.658Z"
   },
   {
    "duration": 4,
    "start_time": "2021-11-21T02:38:35.665Z"
   },
   {
    "duration": 69774,
    "start_time": "2021-11-21T02:38:35.671Z"
   },
   {
    "duration": 1141,
    "start_time": "2021-11-21T18:20:21.175Z"
   },
   {
    "duration": 43,
    "start_time": "2021-11-21T18:20:22.318Z"
   },
   {
    "duration": 11,
    "start_time": "2021-11-21T18:20:22.363Z"
   },
   {
    "duration": 9,
    "start_time": "2021-11-21T18:20:22.376Z"
   },
   {
    "duration": 12,
    "start_time": "2021-11-21T18:20:22.387Z"
   },
   {
    "duration": 276,
    "start_time": "2021-11-21T18:20:22.401Z"
   },
   {
    "duration": 4,
    "start_time": "2021-11-21T18:20:22.679Z"
   },
   {
    "duration": 10,
    "start_time": "2021-11-21T18:20:22.687Z"
   },
   {
    "duration": 353,
    "start_time": "2021-11-21T18:20:22.699Z"
   },
   {
    "duration": 4,
    "start_time": "2021-11-21T18:20:23.054Z"
   },
   {
    "duration": 10,
    "start_time": "2021-11-21T18:20:23.060Z"
   },
   {
    "duration": 479,
    "start_time": "2021-11-21T18:20:23.072Z"
   },
   {
    "duration": 8,
    "start_time": "2021-11-21T18:20:23.553Z"
   },
   {
    "duration": 946,
    "start_time": "2021-11-21T18:20:23.563Z"
   },
   {
    "duration": 227,
    "start_time": "2021-11-21T18:20:24.511Z"
   },
   {
    "duration": 363,
    "start_time": "2021-11-21T18:20:24.740Z"
   },
   {
    "duration": 4,
    "start_time": "2021-11-21T18:20:25.105Z"
   },
   {
    "duration": 6,
    "start_time": "2021-11-21T18:20:25.111Z"
   },
   {
    "duration": 4,
    "start_time": "2021-11-21T18:20:25.119Z"
   },
   {
    "duration": 9,
    "start_time": "2021-11-21T18:20:25.125Z"
   },
   {
    "duration": 10,
    "start_time": "2021-11-21T18:20:25.135Z"
   },
   {
    "duration": 52812,
    "start_time": "2021-11-21T18:20:25.147Z"
   },
   {
    "duration": 23,
    "start_time": "2021-11-21T18:21:36.865Z"
   },
   {
    "duration": 6,
    "start_time": "2021-11-21T18:21:37.220Z"
   },
   {
    "duration": 7,
    "start_time": "2021-11-21T18:22:01.099Z"
   },
   {
    "duration": 5,
    "start_time": "2021-11-21T18:22:01.522Z"
   },
   {
    "duration": 443,
    "start_time": "2021-11-21T18:22:22.196Z"
   },
   {
    "duration": 6,
    "start_time": "2021-11-21T18:24:33.503Z"
   },
   {
    "duration": 251,
    "start_time": "2021-11-21T18:25:53.511Z"
   },
   {
    "duration": 3,
    "start_time": "2021-11-21T18:27:10.709Z"
   },
   {
    "duration": 37,
    "start_time": "2021-11-21T18:27:10.714Z"
   },
   {
    "duration": 8,
    "start_time": "2021-11-21T18:27:10.753Z"
   },
   {
    "duration": 7,
    "start_time": "2021-11-21T18:27:10.762Z"
   },
   {
    "duration": 10,
    "start_time": "2021-11-21T18:27:10.771Z"
   },
   {
    "duration": 263,
    "start_time": "2021-11-21T18:27:10.783Z"
   },
   {
    "duration": 3,
    "start_time": "2021-11-21T18:27:11.048Z"
   },
   {
    "duration": 9,
    "start_time": "2021-11-21T18:27:11.053Z"
   },
   {
    "duration": 325,
    "start_time": "2021-11-21T18:27:11.064Z"
   },
   {
    "duration": 3,
    "start_time": "2021-11-21T18:27:11.391Z"
   },
   {
    "duration": 7,
    "start_time": "2021-11-21T18:27:11.396Z"
   },
   {
    "duration": 414,
    "start_time": "2021-11-21T18:27:11.404Z"
   },
   {
    "duration": 8,
    "start_time": "2021-11-21T18:27:11.820Z"
   },
   {
    "duration": 564,
    "start_time": "2021-11-21T18:27:11.830Z"
   },
   {
    "duration": 206,
    "start_time": "2021-11-21T18:27:12.396Z"
   },
   {
    "duration": 343,
    "start_time": "2021-11-21T18:27:12.603Z"
   },
   {
    "duration": 5,
    "start_time": "2021-11-21T18:27:12.948Z"
   },
   {
    "duration": 7,
    "start_time": "2021-11-21T18:27:12.954Z"
   },
   {
    "duration": 5,
    "start_time": "2021-11-21T18:27:12.963Z"
   },
   {
    "duration": 6,
    "start_time": "2021-11-21T18:27:12.969Z"
   },
   {
    "duration": 7,
    "start_time": "2021-11-21T18:27:12.977Z"
   },
   {
    "duration": 54267,
    "start_time": "2021-11-21T18:27:12.986Z"
   },
   {
    "duration": 22,
    "start_time": "2021-11-21T18:28:07.256Z"
   },
   {
    "duration": 64,
    "start_time": "2021-11-21T18:28:07.280Z"
   },
   {
    "duration": 6,
    "start_time": "2021-11-21T18:28:07.346Z"
   },
   {
    "duration": 7,
    "start_time": "2021-11-21T18:28:07.354Z"
   },
   {
    "duration": 7,
    "start_time": "2021-11-21T18:28:07.363Z"
   },
   {
    "duration": 183,
    "start_time": "2021-11-21T18:28:07.371Z"
   },
   {
    "duration": 4,
    "start_time": "2021-11-21T18:30:00.049Z"
   },
   {
    "duration": 4,
    "start_time": "2021-11-21T18:30:02.150Z"
   },
   {
    "duration": 4,
    "start_time": "2021-11-21T18:30:02.754Z"
   },
   {
    "duration": 3394625,
    "start_time": "2021-11-21T18:30:04.535Z"
   },
   {
    "duration": 4,
    "start_time": "2021-11-21T19:29:28.994Z"
   },
   {
    "duration": 45,
    "start_time": "2021-11-21T19:29:29.000Z"
   },
   {
    "duration": 10,
    "start_time": "2021-11-21T19:29:29.047Z"
   },
   {
    "duration": 8,
    "start_time": "2021-11-21T19:29:29.059Z"
   },
   {
    "duration": 14,
    "start_time": "2021-11-21T19:29:29.069Z"
   },
   {
    "duration": 344,
    "start_time": "2021-11-21T19:29:29.085Z"
   },
   {
    "duration": 4,
    "start_time": "2021-11-21T19:29:29.430Z"
   },
   {
    "duration": 18,
    "start_time": "2021-11-21T19:29:29.436Z"
   },
   {
    "duration": 405,
    "start_time": "2021-11-21T19:29:29.457Z"
   },
   {
    "duration": 2,
    "start_time": "2021-11-21T19:29:29.865Z"
   },
   {
    "duration": 15,
    "start_time": "2021-11-21T19:29:29.869Z"
   },
   {
    "duration": 363,
    "start_time": "2021-11-21T19:29:29.886Z"
   },
   {
    "duration": 7,
    "start_time": "2021-11-21T19:29:30.251Z"
   },
   {
    "duration": 590,
    "start_time": "2021-11-21T19:29:30.260Z"
   },
   {
    "duration": 224,
    "start_time": "2021-11-21T19:29:30.852Z"
   },
   {
    "duration": 354,
    "start_time": "2021-11-21T19:29:31.078Z"
   },
   {
    "duration": 4,
    "start_time": "2021-11-21T19:29:31.433Z"
   },
   {
    "duration": 4,
    "start_time": "2021-11-21T19:29:31.444Z"
   },
   {
    "duration": 12,
    "start_time": "2021-11-21T19:29:31.450Z"
   },
   {
    "duration": 10,
    "start_time": "2021-11-21T19:29:31.464Z"
   },
   {
    "duration": 8,
    "start_time": "2021-11-21T19:29:31.476Z"
   },
   {
    "duration": 53063,
    "start_time": "2021-11-21T19:29:31.486Z"
   },
   {
    "duration": 27,
    "start_time": "2021-11-21T19:30:24.551Z"
   },
   {
    "duration": 6,
    "start_time": "2021-11-21T19:30:24.580Z"
   },
   {
    "duration": 9,
    "start_time": "2021-11-21T19:30:24.588Z"
   },
   {
    "duration": 28,
    "start_time": "2021-11-21T19:30:24.599Z"
   },
   {
    "duration": 16,
    "start_time": "2021-11-21T19:30:24.630Z"
   },
   {
    "duration": 26,
    "start_time": "2021-11-21T19:30:24.647Z"
   },
   {
    "duration": 73,
    "start_time": "2021-11-21T19:30:24.674Z"
   },
   {
    "duration": 5,
    "start_time": "2021-11-21T19:31:56.901Z"
   },
   {
    "duration": 38,
    "start_time": "2021-11-21T19:31:56.908Z"
   },
   {
    "duration": 12,
    "start_time": "2021-11-21T19:31:56.948Z"
   },
   {
    "duration": 8,
    "start_time": "2021-11-21T19:31:56.963Z"
   },
   {
    "duration": 16,
    "start_time": "2021-11-21T19:31:56.974Z"
   },
   {
    "duration": 538,
    "start_time": "2021-11-21T19:31:56.993Z"
   },
   {
    "duration": 12,
    "start_time": "2021-11-21T19:31:57.534Z"
   },
   {
    "duration": 9,
    "start_time": "2021-11-21T19:31:57.549Z"
   },
   {
    "duration": 339,
    "start_time": "2021-11-21T19:31:57.560Z"
   },
   {
    "duration": 4,
    "start_time": "2021-11-21T19:31:57.901Z"
   },
   {
    "duration": 8,
    "start_time": "2021-11-21T19:31:57.906Z"
   },
   {
    "duration": 365,
    "start_time": "2021-11-21T19:31:57.916Z"
   },
   {
    "duration": 8,
    "start_time": "2021-11-21T19:31:58.283Z"
   },
   {
    "duration": 723,
    "start_time": "2021-11-21T19:31:58.293Z"
   },
   {
    "duration": 378,
    "start_time": "2021-11-21T19:31:59.018Z"
   },
   {
    "duration": 717,
    "start_time": "2021-11-21T19:31:59.399Z"
   },
   {
    "duration": 5,
    "start_time": "2021-11-21T19:32:00.118Z"
   },
   {
    "duration": 31,
    "start_time": "2021-11-21T19:32:00.125Z"
   },
   {
    "duration": 8,
    "start_time": "2021-11-21T19:32:00.158Z"
   },
   {
    "duration": 22,
    "start_time": "2021-11-21T19:32:00.169Z"
   },
   {
    "duration": 7,
    "start_time": "2021-11-21T19:32:00.193Z"
   },
   {
    "duration": 59653,
    "start_time": "2021-11-21T19:32:00.202Z"
   },
   {
    "duration": 5,
    "start_time": "2021-11-21T19:33:22.800Z"
   },
   {
    "duration": 50,
    "start_time": "2021-11-21T19:33:22.808Z"
   },
   {
    "duration": 11,
    "start_time": "2021-11-21T19:33:22.861Z"
   },
   {
    "duration": 11,
    "start_time": "2021-11-21T19:33:22.874Z"
   },
   {
    "duration": 11,
    "start_time": "2021-11-21T19:33:22.887Z"
   },
   {
    "duration": 262,
    "start_time": "2021-11-21T19:33:22.900Z"
   },
   {
    "duration": 4,
    "start_time": "2021-11-21T19:33:23.165Z"
   },
   {
    "duration": 10,
    "start_time": "2021-11-21T19:33:23.171Z"
   },
   {
    "duration": 325,
    "start_time": "2021-11-21T19:33:23.183Z"
   },
   {
    "duration": 3,
    "start_time": "2021-11-21T19:33:23.510Z"
   },
   {
    "duration": 8,
    "start_time": "2021-11-21T19:33:23.515Z"
   },
   {
    "duration": 361,
    "start_time": "2021-11-21T19:33:23.524Z"
   },
   {
    "duration": 9,
    "start_time": "2021-11-21T19:33:23.887Z"
   },
   {
    "duration": 577,
    "start_time": "2021-11-21T19:33:23.898Z"
   },
   {
    "duration": 288,
    "start_time": "2021-11-21T19:33:24.477Z"
   },
   {
    "duration": 722,
    "start_time": "2021-11-21T19:33:24.768Z"
   },
   {
    "duration": 4,
    "start_time": "2021-11-21T19:33:25.492Z"
   },
   {
    "duration": 15,
    "start_time": "2021-11-21T19:33:25.497Z"
   },
   {
    "duration": 21,
    "start_time": "2021-11-21T19:33:25.514Z"
   },
   {
    "duration": 18,
    "start_time": "2021-11-21T19:33:25.537Z"
   },
   {
    "duration": 24,
    "start_time": "2021-11-21T19:33:25.557Z"
   },
   {
    "duration": 55168,
    "start_time": "2021-11-21T19:33:25.583Z"
   },
   {
    "duration": 27,
    "start_time": "2021-11-21T19:34:25.589Z"
   },
   {
    "duration": 5,
    "start_time": "2021-11-21T19:34:32.342Z"
   },
   {
    "duration": 6,
    "start_time": "2021-11-21T19:34:33.109Z"
   },
   {
    "duration": 5,
    "start_time": "2021-11-21T19:34:35.297Z"
   },
   {
    "duration": 5,
    "start_time": "2021-11-21T19:34:38.480Z"
   },
   {
    "duration": 22,
    "start_time": "2021-11-21T19:34:42.527Z"
   },
   {
    "duration": 3,
    "start_time": "2021-11-21T19:35:38.664Z"
   },
   {
    "duration": 45,
    "start_time": "2021-11-21T19:35:38.679Z"
   },
   {
    "duration": 12,
    "start_time": "2021-11-21T19:35:38.727Z"
   },
   {
    "duration": 21,
    "start_time": "2021-11-21T19:35:38.742Z"
   },
   {
    "duration": 17,
    "start_time": "2021-11-21T19:35:38.766Z"
   },
   {
    "duration": 349,
    "start_time": "2021-11-21T19:35:38.786Z"
   },
   {
    "duration": 8,
    "start_time": "2021-11-21T19:35:39.138Z"
   },
   {
    "duration": 26,
    "start_time": "2021-11-21T19:35:39.148Z"
   },
   {
    "duration": 511,
    "start_time": "2021-11-21T19:35:39.176Z"
   },
   {
    "duration": 3,
    "start_time": "2021-11-21T19:35:39.690Z"
   },
   {
    "duration": 32,
    "start_time": "2021-11-21T19:35:39.695Z"
   },
   {
    "duration": 383,
    "start_time": "2021-11-21T19:35:39.729Z"
   },
   {
    "duration": 8,
    "start_time": "2021-11-21T19:35:40.114Z"
   },
   {
    "duration": 748,
    "start_time": "2021-11-21T19:35:40.124Z"
   },
   {
    "duration": 237,
    "start_time": "2021-11-21T19:35:40.874Z"
   },
   {
    "duration": 379,
    "start_time": "2021-11-21T19:35:41.113Z"
   },
   {
    "duration": 4,
    "start_time": "2021-11-21T19:35:41.495Z"
   },
   {
    "duration": 7,
    "start_time": "2021-11-21T19:35:41.501Z"
   },
   {
    "duration": 5,
    "start_time": "2021-11-21T19:35:41.510Z"
   },
   {
    "duration": 29,
    "start_time": "2021-11-21T19:35:41.517Z"
   },
   {
    "duration": 5,
    "start_time": "2021-11-21T19:35:41.548Z"
   },
   {
    "duration": 53096,
    "start_time": "2021-11-21T19:35:41.554Z"
   },
   {
    "duration": 27,
    "start_time": "2021-11-21T19:36:39.594Z"
   },
   {
    "duration": 8,
    "start_time": "2021-11-21T19:36:40.782Z"
   },
   {
    "duration": 6,
    "start_time": "2021-11-21T19:36:42.519Z"
   },
   {
    "duration": 5,
    "start_time": "2021-11-21T19:36:42.808Z"
   },
   {
    "duration": 6,
    "start_time": "2021-11-21T19:36:45.030Z"
   },
   {
    "duration": 194,
    "start_time": "2021-11-21T19:36:46.849Z"
   },
   {
    "duration": 20,
    "start_time": "2021-11-21T20:03:04.096Z"
   },
   {
    "duration": 830,
    "start_time": "2021-11-21T20:05:24.188Z"
   },
   {
    "duration": 686,
    "start_time": "2021-11-21T20:09:06.351Z"
   },
   {
    "duration": 695,
    "start_time": "2021-11-21T20:09:23.353Z"
   },
   {
    "duration": 3,
    "start_time": "2021-11-21T20:09:46.917Z"
   },
   {
    "duration": 3,
    "start_time": "2021-11-21T20:09:46.925Z"
   },
   {
    "duration": 13,
    "start_time": "2021-11-21T20:09:46.930Z"
   },
   {
    "duration": 1311,
    "start_time": "2021-11-21T20:11:22.799Z"
   },
   {
    "duration": 38,
    "start_time": "2021-11-21T20:11:24.112Z"
   },
   {
    "duration": 11,
    "start_time": "2021-11-21T20:11:24.152Z"
   },
   {
    "duration": 6,
    "start_time": "2021-11-21T20:11:24.165Z"
   },
   {
    "duration": 16,
    "start_time": "2021-11-21T20:11:24.173Z"
   },
   {
    "duration": 329,
    "start_time": "2021-11-21T20:11:24.190Z"
   },
   {
    "duration": 5,
    "start_time": "2021-11-21T20:11:24.521Z"
   },
   {
    "duration": 23,
    "start_time": "2021-11-21T20:11:24.529Z"
   },
   {
    "duration": 343,
    "start_time": "2021-11-21T20:11:24.555Z"
   },
   {
    "duration": 3,
    "start_time": "2021-11-21T20:11:24.899Z"
   },
   {
    "duration": 9,
    "start_time": "2021-11-21T20:11:24.904Z"
   },
   {
    "duration": 353,
    "start_time": "2021-11-21T20:11:24.915Z"
   },
   {
    "duration": 7,
    "start_time": "2021-11-21T20:11:25.270Z"
   },
   {
    "duration": 667,
    "start_time": "2021-11-21T20:11:25.279Z"
   },
   {
    "duration": 229,
    "start_time": "2021-11-21T20:11:25.948Z"
   },
   {
    "duration": 360,
    "start_time": "2021-11-21T20:11:26.179Z"
   },
   {
    "duration": 5,
    "start_time": "2021-11-21T20:11:26.545Z"
   },
   {
    "duration": 8,
    "start_time": "2021-11-21T20:11:26.551Z"
   },
   {
    "duration": 5,
    "start_time": "2021-11-21T20:11:26.560Z"
   },
   {
    "duration": 6,
    "start_time": "2021-11-21T20:11:26.567Z"
   },
   {
    "duration": 5,
    "start_time": "2021-11-21T20:11:26.575Z"
   },
   {
    "duration": 50367,
    "start_time": "2021-11-21T20:11:26.581Z"
   },
   {
    "duration": 25,
    "start_time": "2021-11-21T20:12:16.952Z"
   },
   {
    "duration": 6,
    "start_time": "2021-11-21T20:12:16.979Z"
   },
   {
    "duration": 5,
    "start_time": "2021-11-21T20:12:16.987Z"
   },
   {
    "duration": 4,
    "start_time": "2021-11-21T20:12:16.994Z"
   },
   {
    "duration": 7,
    "start_time": "2021-11-21T20:12:17.000Z"
   },
   {
    "duration": 144,
    "start_time": "2021-11-21T20:12:17.009Z"
   },
   {
    "duration": 837,
    "start_time": "2021-11-21T20:12:17.157Z"
   },
   {
    "duration": 3,
    "start_time": "2021-11-21T20:19:29.312Z"
   },
   {
    "duration": 49,
    "start_time": "2021-11-21T20:19:29.317Z"
   },
   {
    "duration": 9,
    "start_time": "2021-11-21T20:19:29.369Z"
   },
   {
    "duration": 14,
    "start_time": "2021-11-21T20:19:29.381Z"
   },
   {
    "duration": 26,
    "start_time": "2021-11-21T20:19:29.397Z"
   },
   {
    "duration": 255,
    "start_time": "2021-11-21T20:19:29.425Z"
   },
   {
    "duration": 4,
    "start_time": "2021-11-21T20:19:29.683Z"
   },
   {
    "duration": 12,
    "start_time": "2021-11-21T20:19:29.689Z"
   },
   {
    "duration": 326,
    "start_time": "2021-11-21T20:19:29.703Z"
   },
   {
    "duration": 3,
    "start_time": "2021-11-21T20:19:30.031Z"
   },
   {
    "duration": 7,
    "start_time": "2021-11-21T20:19:30.045Z"
   },
   {
    "duration": 437,
    "start_time": "2021-11-21T20:19:30.053Z"
   },
   {
    "duration": 8,
    "start_time": "2021-11-21T20:19:30.492Z"
   },
   {
    "duration": 591,
    "start_time": "2021-11-21T20:19:30.501Z"
   },
   {
    "duration": 223,
    "start_time": "2021-11-21T20:19:31.094Z"
   },
   {
    "duration": 364,
    "start_time": "2021-11-21T20:19:31.319Z"
   },
   {
    "duration": 4,
    "start_time": "2021-11-21T20:19:31.685Z"
   },
   {
    "duration": 33,
    "start_time": "2021-11-21T20:19:31.690Z"
   },
   {
    "duration": 25,
    "start_time": "2021-11-21T20:19:31.726Z"
   },
   {
    "duration": 31,
    "start_time": "2021-11-21T20:19:31.752Z"
   },
   {
    "duration": 21,
    "start_time": "2021-11-21T20:19:31.784Z"
   },
   {
    "duration": 50544,
    "start_time": "2021-11-21T20:19:31.807Z"
   },
   {
    "duration": 115,
    "start_time": "2021-11-21T20:20:22.353Z"
   },
   {
    "duration": 8,
    "start_time": "2021-11-21T20:20:22.470Z"
   },
   {
    "duration": 15,
    "start_time": "2021-11-21T20:20:22.480Z"
   },
   {
    "duration": 17,
    "start_time": "2021-11-21T20:20:22.497Z"
   },
   {
    "duration": 29,
    "start_time": "2021-11-21T20:20:22.515Z"
   },
   {
    "duration": 106,
    "start_time": "2021-11-21T20:20:22.546Z"
   },
   {
    "duration": 1461,
    "start_time": "2021-11-21T20:20:22.655Z"
   },
   {
    "duration": 406,
    "start_time": "2021-11-21T20:31:13.427Z"
   },
   {
    "duration": 12,
    "start_time": "2021-11-21T20:31:35.584Z"
   },
   {
    "duration": 1182,
    "start_time": "2021-11-22T06:52:29.678Z"
   },
   {
    "duration": 39,
    "start_time": "2021-11-22T06:52:30.862Z"
   },
   {
    "duration": 21,
    "start_time": "2021-11-22T06:52:30.904Z"
   },
   {
    "duration": 20,
    "start_time": "2021-11-22T06:52:30.927Z"
   },
   {
    "duration": 24,
    "start_time": "2021-11-22T06:52:30.948Z"
   },
   {
    "duration": 249,
    "start_time": "2021-11-22T06:52:30.974Z"
   },
   {
    "duration": 4,
    "start_time": "2021-11-22T06:52:31.225Z"
   },
   {
    "duration": 13,
    "start_time": "2021-11-22T06:52:31.231Z"
   },
   {
    "duration": 331,
    "start_time": "2021-11-22T06:52:31.246Z"
   },
   {
    "duration": 3,
    "start_time": "2021-11-22T06:52:31.579Z"
   },
   {
    "duration": 22,
    "start_time": "2021-11-22T06:52:31.584Z"
   },
   {
    "duration": 342,
    "start_time": "2021-11-22T06:52:31.608Z"
   },
   {
    "duration": 15,
    "start_time": "2021-11-22T06:52:31.952Z"
   },
   {
    "duration": 639,
    "start_time": "2021-11-22T06:52:31.969Z"
   },
   {
    "duration": 211,
    "start_time": "2021-11-22T06:52:32.611Z"
   },
   {
    "duration": 350,
    "start_time": "2021-11-22T06:52:32.825Z"
   },
   {
    "duration": 5,
    "start_time": "2021-11-22T06:52:33.178Z"
   },
   {
    "duration": 9,
    "start_time": "2021-11-22T06:52:33.185Z"
   },
   {
    "duration": 20,
    "start_time": "2021-11-22T06:52:33.195Z"
   },
   {
    "duration": 13,
    "start_time": "2021-11-22T06:52:33.217Z"
   },
   {
    "duration": 13,
    "start_time": "2021-11-22T06:52:33.232Z"
   },
   {
    "duration": 48423,
    "start_time": "2021-11-22T06:52:33.247Z"
   },
   {
    "duration": 113,
    "start_time": "2021-11-22T06:53:21.675Z"
   },
   {
    "duration": 7,
    "start_time": "2021-11-22T06:53:21.790Z"
   },
   {
    "duration": 7,
    "start_time": "2021-11-22T06:53:21.798Z"
   },
   {
    "duration": 5,
    "start_time": "2021-11-22T06:53:21.806Z"
   },
   {
    "duration": 7,
    "start_time": "2021-11-22T06:53:21.813Z"
   },
   {
    "duration": 244,
    "start_time": "2021-11-22T06:53:21.821Z"
   },
   {
    "duration": 1128,
    "start_time": "2021-11-22T06:53:22.067Z"
   },
   {
    "duration": 165563,
    "start_time": "2021-11-22T06:53:23.197Z"
   },
   {
    "duration": 552,
    "start_time": "2021-11-22T06:58:00.064Z"
   },
   {
    "duration": 526,
    "start_time": "2021-11-22T06:58:15.448Z"
   },
   {
    "duration": 167004,
    "start_time": "2021-11-22T07:02:29.873Z"
   },
   {
    "duration": 168086,
    "start_time": "2021-11-22T07:07:11.269Z"
   },
   {
    "duration": 166220,
    "start_time": "2021-11-22T07:11:19.045Z"
   },
   {
    "duration": 3,
    "start_time": "2021-11-22T07:26:03.133Z"
   },
   {
    "duration": 1721,
    "start_time": "2021-11-22T07:29:30.812Z"
   },
   {
    "duration": 1272,
    "start_time": "2021-11-22T07:29:41.404Z"
   },
   {
    "duration": 5,
    "start_time": "2021-11-22T07:29:46.741Z"
   },
   {
    "duration": 80,
    "start_time": "2021-11-22T07:38:54.285Z"
   },
   {
    "duration": 85,
    "start_time": "2021-11-22T07:39:25.424Z"
   },
   {
    "duration": 252,
    "start_time": "2021-11-22T07:41:43.347Z"
   },
   {
    "duration": 145072,
    "start_time": "2021-11-22T07:42:14.602Z"
   },
   {
    "duration": 275421,
    "start_time": "2021-11-22T07:45:56.169Z"
   },
   {
    "duration": 290226,
    "start_time": "2021-11-22T08:01:44.944Z"
   },
   {
    "duration": 249,
    "start_time": "2021-11-22T08:06:35.172Z"
   },
   {
    "duration": 4,
    "start_time": "2021-11-22T08:06:52.246Z"
   },
   {
    "duration": 4,
    "start_time": "2021-11-22T08:07:02.841Z"
   },
   {
    "duration": 6,
    "start_time": "2021-11-22T08:07:06.416Z"
   },
   {
    "duration": 235,
    "start_time": "2021-11-22T08:10:29.205Z"
   },
   {
    "duration": 4,
    "start_time": "2021-11-22T08:10:39.511Z"
   },
   {
    "duration": 7,
    "start_time": "2021-11-22T08:10:40.821Z"
   },
   {
    "duration": 4,
    "start_time": "2021-11-22T08:27:10.527Z"
   },
   {
    "duration": 2512,
    "start_time": "2021-11-22T08:27:11.289Z"
   },
   {
    "duration": 4,
    "start_time": "2021-11-22T08:44:03.435Z"
   },
   {
    "duration": 3,
    "start_time": "2021-11-22T08:44:03.923Z"
   },
   {
    "duration": 2589,
    "start_time": "2021-11-22T08:44:04.684Z"
   },
   {
    "duration": 2202,
    "start_time": "2021-11-22T08:44:51.075Z"
   },
   {
    "duration": 26,
    "start_time": "2021-11-22T08:45:30.227Z"
   },
   {
    "duration": 4,
    "start_time": "2021-11-22T08:45:35.964Z"
   },
   {
    "duration": 4,
    "start_time": "2021-11-22T08:46:19.892Z"
   },
   {
    "duration": 40,
    "start_time": "2021-11-22T08:46:19.898Z"
   },
   {
    "duration": 9,
    "start_time": "2021-11-22T08:46:19.940Z"
   },
   {
    "duration": 8,
    "start_time": "2021-11-22T08:46:19.951Z"
   },
   {
    "duration": 12,
    "start_time": "2021-11-22T08:46:19.960Z"
   },
   {
    "duration": 261,
    "start_time": "2021-11-22T08:46:19.973Z"
   },
   {
    "duration": 4,
    "start_time": "2021-11-22T08:46:20.236Z"
   },
   {
    "duration": 29,
    "start_time": "2021-11-22T08:46:20.242Z"
   },
   {
    "duration": 321,
    "start_time": "2021-11-22T08:46:20.273Z"
   },
   {
    "duration": 3,
    "start_time": "2021-11-22T08:46:20.596Z"
   },
   {
    "duration": 9,
    "start_time": "2021-11-22T08:46:20.601Z"
   },
   {
    "duration": 362,
    "start_time": "2021-11-22T08:46:20.611Z"
   },
   {
    "duration": 8,
    "start_time": "2021-11-22T08:46:20.975Z"
   },
   {
    "duration": 622,
    "start_time": "2021-11-22T08:46:20.985Z"
   },
   {
    "duration": 352,
    "start_time": "2021-11-22T08:46:21.608Z"
   },
   {
    "duration": 475,
    "start_time": "2021-11-22T08:46:21.962Z"
   },
   {
    "duration": 4,
    "start_time": "2021-11-22T08:46:22.439Z"
   },
   {
    "duration": 19,
    "start_time": "2021-11-22T08:46:22.445Z"
   },
   {
    "duration": 6,
    "start_time": "2021-11-22T08:46:22.466Z"
   },
   {
    "duration": 7,
    "start_time": "2021-11-22T08:46:22.474Z"
   },
   {
    "duration": 5,
    "start_time": "2021-11-22T08:46:22.483Z"
   },
   {
    "duration": 45582,
    "start_time": "2021-11-22T08:46:22.489Z"
   },
   {
    "duration": 107,
    "start_time": "2021-11-22T08:47:08.075Z"
   },
   {
    "duration": 7,
    "start_time": "2021-11-22T08:47:08.184Z"
   },
   {
    "duration": 19,
    "start_time": "2021-11-22T08:47:08.193Z"
   },
   {
    "duration": 16,
    "start_time": "2021-11-22T08:47:08.214Z"
   },
   {
    "duration": 16,
    "start_time": "2021-11-22T08:47:08.232Z"
   },
   {
    "duration": 120,
    "start_time": "2021-11-22T08:47:08.249Z"
   },
   {
    "duration": 5,
    "start_time": "2021-11-22T08:47:37.826Z"
   },
   {
    "duration": 3,
    "start_time": "2021-11-22T08:47:40.042Z"
   },
   {
    "duration": 2112,
    "start_time": "2021-11-22T08:47:41.153Z"
   },
   {
    "duration": 15,
    "start_time": "2021-11-22T08:48:53.786Z"
   },
   {
    "duration": 2474,
    "start_time": "2021-11-22T08:49:03.793Z"
   },
   {
    "duration": 1232,
    "start_time": "2021-11-22T08:51:00.127Z"
   },
   {
    "duration": 40,
    "start_time": "2021-11-22T08:51:01.361Z"
   },
   {
    "duration": 13,
    "start_time": "2021-11-22T08:51:01.403Z"
   },
   {
    "duration": 16,
    "start_time": "2021-11-22T08:51:01.418Z"
   },
   {
    "duration": 17,
    "start_time": "2021-11-22T08:51:01.436Z"
   },
   {
    "duration": 264,
    "start_time": "2021-11-22T08:51:01.455Z"
   },
   {
    "duration": 5,
    "start_time": "2021-11-22T08:51:01.721Z"
   },
   {
    "duration": 36,
    "start_time": "2021-11-22T08:51:01.727Z"
   },
   {
    "duration": 378,
    "start_time": "2021-11-22T08:51:01.766Z"
   },
   {
    "duration": 4,
    "start_time": "2021-11-22T08:51:02.146Z"
   },
   {
    "duration": 26,
    "start_time": "2021-11-22T08:51:02.151Z"
   },
   {
    "duration": 376,
    "start_time": "2021-11-22T08:51:02.179Z"
   },
   {
    "duration": 12,
    "start_time": "2021-11-22T08:51:02.557Z"
   },
   {
    "duration": 683,
    "start_time": "2021-11-22T08:51:02.571Z"
   },
   {
    "duration": 206,
    "start_time": "2021-11-22T08:51:03.263Z"
   },
   {
    "duration": 350,
    "start_time": "2021-11-22T08:51:03.471Z"
   },
   {
    "duration": 4,
    "start_time": "2021-11-22T08:51:03.823Z"
   },
   {
    "duration": 9,
    "start_time": "2021-11-22T08:51:03.829Z"
   },
   {
    "duration": 8,
    "start_time": "2021-11-22T08:51:03.839Z"
   },
   {
    "duration": 16,
    "start_time": "2021-11-22T08:51:03.848Z"
   },
   {
    "duration": 5,
    "start_time": "2021-11-22T08:51:03.866Z"
   },
   {
    "duration": 46606,
    "start_time": "2021-11-22T08:51:03.872Z"
   },
   {
    "duration": 97,
    "start_time": "2021-11-22T08:51:50.480Z"
   },
   {
    "duration": 6,
    "start_time": "2021-11-22T08:51:50.578Z"
   },
   {
    "duration": 8,
    "start_time": "2021-11-22T08:51:50.586Z"
   },
   {
    "duration": 4,
    "start_time": "2021-11-22T08:51:50.595Z"
   },
   {
    "duration": 63,
    "start_time": "2021-11-22T08:51:50.602Z"
   },
   {
    "duration": 198,
    "start_time": "2021-11-22T08:51:50.667Z"
   },
   {
    "duration": 4,
    "start_time": "2021-11-22T08:54:02.841Z"
   },
   {
    "duration": 15149,
    "start_time": "2021-11-22T08:54:03.427Z"
   },
   {
    "duration": 297,
    "start_time": "2021-11-22T08:54:18.578Z"
   },
   {
    "duration": 48,
    "start_time": "2021-11-22T08:56:29.523Z"
   },
   {
    "duration": 24,
    "start_time": "2021-11-22T08:56:39.058Z"
   },
   {
    "duration": 4,
    "start_time": "2021-11-22T08:57:11.233Z"
   },
   {
    "duration": 4,
    "start_time": "2021-11-22T08:57:17.642Z"
   },
   {
    "duration": 4,
    "start_time": "2021-11-22T08:58:48.778Z"
   },
   {
    "duration": 4,
    "start_time": "2021-11-22T08:58:59.802Z"
   },
   {
    "duration": 5,
    "start_time": "2021-11-22T09:01:51.217Z"
   },
   {
    "duration": 6,
    "start_time": "2021-11-22T09:01:52.280Z"
   },
   {
    "duration": 6,
    "start_time": "2021-11-22T09:02:21.050Z"
   },
   {
    "duration": 2460,
    "start_time": "2021-11-22T09:02:30.305Z"
   },
   {
    "duration": 386,
    "start_time": "2021-11-22T09:04:34.630Z"
   },
   {
    "duration": 243,
    "start_time": "2021-11-22T09:04:40.263Z"
   },
   {
    "duration": 6,
    "start_time": "2021-11-22T09:04:43.039Z"
   },
   {
    "duration": 6,
    "start_time": "2021-11-22T09:04:43.248Z"
   },
   {
    "duration": 6,
    "start_time": "2021-11-22T09:04:43.440Z"
   },
   {
    "duration": 4619,
    "start_time": "2021-11-22T09:04:44.247Z"
   },
   {
    "duration": 1190,
    "start_time": "2021-11-22T09:07:52.481Z"
   },
   {
    "duration": 38,
    "start_time": "2021-11-22T09:07:53.673Z"
   },
   {
    "duration": 11,
    "start_time": "2021-11-22T09:07:53.713Z"
   },
   {
    "duration": 8,
    "start_time": "2021-11-22T09:07:53.726Z"
   },
   {
    "duration": 13,
    "start_time": "2021-11-22T09:07:53.736Z"
   },
   {
    "duration": 240,
    "start_time": "2021-11-22T09:07:53.750Z"
   },
   {
    "duration": 3,
    "start_time": "2021-11-22T09:07:53.992Z"
   },
   {
    "duration": 19,
    "start_time": "2021-11-22T09:07:53.997Z"
   },
   {
    "duration": 328,
    "start_time": "2021-11-22T09:07:54.019Z"
   },
   {
    "duration": 3,
    "start_time": "2021-11-22T09:07:54.349Z"
   },
   {
    "duration": 11,
    "start_time": "2021-11-22T09:07:54.354Z"
   },
   {
    "duration": 454,
    "start_time": "2021-11-22T09:07:54.367Z"
   },
   {
    "duration": 8,
    "start_time": "2021-11-22T09:07:54.823Z"
   },
   {
    "duration": 635,
    "start_time": "2021-11-22T09:07:54.833Z"
   },
   {
    "duration": 212,
    "start_time": "2021-11-22T09:07:55.470Z"
   },
   {
    "duration": 341,
    "start_time": "2021-11-22T09:07:55.683Z"
   },
   {
    "duration": 4,
    "start_time": "2021-11-22T09:07:56.025Z"
   },
   {
    "duration": 18,
    "start_time": "2021-11-22T09:07:56.031Z"
   },
   {
    "duration": 4,
    "start_time": "2021-11-22T09:07:56.051Z"
   },
   {
    "duration": 9,
    "start_time": "2021-11-22T09:07:56.057Z"
   },
   {
    "duration": 5,
    "start_time": "2021-11-22T09:07:56.067Z"
   },
   {
    "duration": 43691,
    "start_time": "2021-11-22T09:07:56.074Z"
   },
   {
    "duration": 25,
    "start_time": "2021-11-22T09:08:39.766Z"
   },
   {
    "duration": 7,
    "start_time": "2021-11-22T09:08:39.793Z"
   },
   {
    "duration": 10,
    "start_time": "2021-11-22T09:08:39.801Z"
   },
   {
    "duration": 4,
    "start_time": "2021-11-22T09:08:39.813Z"
   },
   {
    "duration": 6,
    "start_time": "2021-11-22T09:08:39.820Z"
   },
   {
    "duration": 140,
    "start_time": "2021-11-22T09:08:39.828Z"
   },
   {
    "duration": 96,
    "start_time": "2021-11-22T09:08:39.970Z"
   },
   {
    "duration": 197,
    "start_time": "2021-11-22T09:08:40.068Z"
   },
   {
    "duration": 25,
    "start_time": "2021-11-22T09:10:05.902Z"
   },
   {
    "duration": 6,
    "start_time": "2021-11-22T09:10:21.725Z"
   },
   {
    "duration": 1150,
    "start_time": "2021-11-22T09:20:34.100Z"
   },
   {
    "duration": 40,
    "start_time": "2021-11-22T09:20:35.252Z"
   },
   {
    "duration": 11,
    "start_time": "2021-11-22T09:20:35.295Z"
   },
   {
    "duration": 9,
    "start_time": "2021-11-22T09:20:35.308Z"
   },
   {
    "duration": 14,
    "start_time": "2021-11-22T09:20:35.319Z"
   },
   {
    "duration": 254,
    "start_time": "2021-11-22T09:20:35.335Z"
   },
   {
    "duration": 5,
    "start_time": "2021-11-22T09:20:35.590Z"
   },
   {
    "duration": 17,
    "start_time": "2021-11-22T09:20:35.596Z"
   },
   {
    "duration": 334,
    "start_time": "2021-11-22T09:20:35.615Z"
   },
   {
    "duration": 3,
    "start_time": "2021-11-22T09:20:35.951Z"
   },
   {
    "duration": 12,
    "start_time": "2021-11-22T09:20:35.956Z"
   },
   {
    "duration": 347,
    "start_time": "2021-11-22T09:20:35.970Z"
   },
   {
    "duration": 7,
    "start_time": "2021-11-22T09:20:36.319Z"
   },
   {
    "duration": 742,
    "start_time": "2021-11-22T09:20:36.327Z"
   },
   {
    "duration": 205,
    "start_time": "2021-11-22T09:20:37.071Z"
   },
   {
    "duration": 434,
    "start_time": "2021-11-22T09:20:37.278Z"
   },
   {
    "duration": 4,
    "start_time": "2021-11-22T09:20:37.714Z"
   },
   {
    "duration": 49,
    "start_time": "2021-11-22T09:20:37.720Z"
   },
   {
    "duration": 30,
    "start_time": "2021-11-22T09:20:37.771Z"
   },
   {
    "duration": 34,
    "start_time": "2021-11-22T09:20:37.802Z"
   },
   {
    "duration": 11,
    "start_time": "2021-11-22T09:20:37.838Z"
   },
   {
    "duration": 43921,
    "start_time": "2021-11-22T09:20:37.851Z"
   },
   {
    "duration": 26,
    "start_time": "2021-11-22T09:21:21.864Z"
   },
   {
    "duration": 6,
    "start_time": "2021-11-22T09:21:21.892Z"
   },
   {
    "duration": 11,
    "start_time": "2021-11-22T09:21:21.900Z"
   },
   {
    "duration": 4,
    "start_time": "2021-11-22T09:21:21.913Z"
   },
   {
    "duration": 6,
    "start_time": "2021-11-22T09:21:21.920Z"
   },
   {
    "duration": 136,
    "start_time": "2021-11-22T09:21:21.927Z"
   },
   {
    "duration": 1189,
    "start_time": "2021-11-22T09:21:22.066Z"
   },
   {
    "duration": 171518,
    "start_time": "2021-11-22T09:21:23.257Z"
   },
   {
    "duration": 285910,
    "start_time": "2021-11-22T09:24:14.776Z"
   },
   {
    "duration": 76,
    "start_time": "2021-11-22T09:29:00.688Z"
   },
   {
    "duration": 39,
    "start_time": "2021-11-22T09:29:00.766Z"
   },
   {
    "duration": 3,
    "start_time": "2021-11-22T09:50:43.666Z"
   },
   {
    "duration": 42,
    "start_time": "2021-11-22T09:50:43.671Z"
   },
   {
    "duration": 8,
    "start_time": "2021-11-22T09:50:43.715Z"
   },
   {
    "duration": 18,
    "start_time": "2021-11-22T09:50:43.725Z"
   },
   {
    "duration": 52,
    "start_time": "2021-11-22T09:50:43.745Z"
   },
   {
    "duration": 266,
    "start_time": "2021-11-22T09:50:43.799Z"
   },
   {
    "duration": 3,
    "start_time": "2021-11-22T09:50:44.067Z"
   },
   {
    "duration": 27,
    "start_time": "2021-11-22T09:50:44.073Z"
   },
   {
    "duration": 309,
    "start_time": "2021-11-22T09:50:44.102Z"
   },
   {
    "duration": 3,
    "start_time": "2021-11-22T09:50:44.413Z"
   },
   {
    "duration": 9,
    "start_time": "2021-11-22T09:50:44.417Z"
   },
   {
    "duration": 346,
    "start_time": "2021-11-22T09:50:44.427Z"
   },
   {
    "duration": 7,
    "start_time": "2021-11-22T09:50:44.775Z"
   },
   {
    "duration": 599,
    "start_time": "2021-11-22T09:50:44.784Z"
   },
   {
    "duration": 313,
    "start_time": "2021-11-22T09:50:45.385Z"
   },
   {
    "duration": 369,
    "start_time": "2021-11-22T09:50:45.700Z"
   },
   {
    "duration": 3,
    "start_time": "2021-11-22T09:50:46.071Z"
   },
   {
    "duration": 9,
    "start_time": "2021-11-22T09:50:46.076Z"
   },
   {
    "duration": 11,
    "start_time": "2021-11-22T09:50:46.087Z"
   },
   {
    "duration": 7,
    "start_time": "2021-11-22T09:50:46.099Z"
   },
   {
    "duration": 5,
    "start_time": "2021-11-22T09:50:46.108Z"
   },
   {
    "duration": 46548,
    "start_time": "2021-11-22T09:50:46.115Z"
   },
   {
    "duration": 26,
    "start_time": "2021-11-22T09:51:32.667Z"
   },
   {
    "duration": 8,
    "start_time": "2021-11-22T09:51:32.695Z"
   },
   {
    "duration": 29,
    "start_time": "2021-11-22T09:51:32.705Z"
   },
   {
    "duration": 37,
    "start_time": "2021-11-22T09:51:32.736Z"
   },
   {
    "duration": 35,
    "start_time": "2021-11-22T09:51:32.775Z"
   },
   {
    "duration": 489,
    "start_time": "2021-11-22T09:51:32.812Z"
   },
   {
    "duration": 7,
    "start_time": "2021-11-22T09:51:44.384Z"
   },
   {
    "duration": 152,
    "start_time": "2021-11-22T09:51:45.112Z"
   },
   {
    "duration": 6,
    "start_time": "2021-11-22T09:53:28.158Z"
   },
   {
    "duration": 7,
    "start_time": "2021-11-22T09:53:28.527Z"
   },
   {
    "duration": 356,
    "start_time": "2021-11-22T09:53:29.977Z"
   },
   {
    "duration": 6,
    "start_time": "2021-11-22T09:53:48.062Z"
   },
   {
    "duration": 7,
    "start_time": "2021-11-22T09:53:48.426Z"
   },
   {
    "duration": 6,
    "start_time": "2021-11-22T09:53:49.503Z"
   },
   {
    "duration": 80,
    "start_time": "2021-11-22T09:53:49.990Z"
   },
   {
    "duration": 6,
    "start_time": "2021-11-22T09:54:38.862Z"
   },
   {
    "duration": 6,
    "start_time": "2021-11-22T09:54:39.390Z"
   },
   {
    "duration": 5,
    "start_time": "2021-11-22T09:54:39.983Z"
   },
   {
    "duration": 153,
    "start_time": "2021-11-22T09:54:40.414Z"
   },
   {
    "duration": 5,
    "start_time": "2021-11-22T09:55:13.934Z"
   },
   {
    "duration": 7,
    "start_time": "2021-11-22T09:55:14.357Z"
   },
   {
    "duration": 7,
    "start_time": "2021-11-22T09:55:14.782Z"
   },
   {
    "duration": 143,
    "start_time": "2021-11-22T09:55:15.238Z"
   },
   {
    "duration": 210,
    "start_time": "2021-11-22T09:56:32.854Z"
   },
   {
    "duration": 2333,
    "start_time": "2021-11-22T09:56:53.950Z"
   },
   {
    "duration": 5,
    "start_time": "2021-11-22T09:58:25.078Z"
   },
   {
    "duration": 6,
    "start_time": "2021-11-22T09:58:25.525Z"
   },
   {
    "duration": 6,
    "start_time": "2021-11-22T09:58:26.525Z"
   },
   {
    "duration": 3166,
    "start_time": "2021-11-22T09:58:26.901Z"
   },
   {
    "duration": 1215,
    "start_time": "2021-11-22T10:01:48.464Z"
   },
   {
    "duration": 40,
    "start_time": "2021-11-22T10:01:49.681Z"
   },
   {
    "duration": 12,
    "start_time": "2021-11-22T10:01:49.723Z"
   },
   {
    "duration": 8,
    "start_time": "2021-11-22T10:01:49.737Z"
   },
   {
    "duration": 28,
    "start_time": "2021-11-22T10:01:49.747Z"
   },
   {
    "duration": 289,
    "start_time": "2021-11-22T10:01:49.776Z"
   },
   {
    "duration": 4,
    "start_time": "2021-11-22T10:01:50.068Z"
   },
   {
    "duration": 20,
    "start_time": "2021-11-22T10:01:50.073Z"
   },
   {
    "duration": 351,
    "start_time": "2021-11-22T10:01:50.097Z"
   },
   {
    "duration": 3,
    "start_time": "2021-11-22T10:01:50.451Z"
   },
   {
    "duration": 13,
    "start_time": "2021-11-22T10:01:50.456Z"
   },
   {
    "duration": 585,
    "start_time": "2021-11-22T10:01:50.471Z"
   },
   {
    "duration": 10,
    "start_time": "2021-11-22T10:01:51.063Z"
   },
   {
    "duration": 826,
    "start_time": "2021-11-22T10:01:51.075Z"
   },
   {
    "duration": 236,
    "start_time": "2021-11-22T10:01:51.903Z"
   },
   {
    "duration": 401,
    "start_time": "2021-11-22T10:01:52.141Z"
   },
   {
    "duration": 19,
    "start_time": "2021-11-22T10:01:52.544Z"
   },
   {
    "duration": 11,
    "start_time": "2021-11-22T10:01:52.566Z"
   },
   {
    "duration": 12,
    "start_time": "2021-11-22T10:01:52.580Z"
   },
   {
    "duration": 11,
    "start_time": "2021-11-22T10:01:52.594Z"
   },
   {
    "duration": 5,
    "start_time": "2021-11-22T10:01:52.608Z"
   },
   {
    "duration": 47558,
    "start_time": "2021-11-22T10:01:52.615Z"
   },
   {
    "duration": 26,
    "start_time": "2021-11-22T10:02:40.175Z"
   },
   {
    "duration": 65,
    "start_time": "2021-11-22T10:02:40.203Z"
   },
   {
    "duration": 11,
    "start_time": "2021-11-22T10:02:40.270Z"
   },
   {
    "duration": 5,
    "start_time": "2021-11-22T10:02:40.283Z"
   },
   {
    "duration": 7,
    "start_time": "2021-11-22T10:02:40.292Z"
   },
   {
    "duration": 70,
    "start_time": "2021-11-22T10:02:40.301Z"
   },
   {
    "duration": 1371,
    "start_time": "2021-11-22T10:02:40.465Z"
   },
   {
    "duration": 192943,
    "start_time": "2021-11-22T10:02:41.838Z"
   },
   {
    "duration": 332803,
    "start_time": "2021-11-22T10:05:54.783Z"
   },
   {
    "duration": 77,
    "start_time": "2021-11-22T10:11:27.588Z"
   },
   {
    "duration": 11,
    "start_time": "2021-11-22T10:11:27.667Z"
   },
   {
    "duration": 9,
    "start_time": "2021-11-22T10:11:27.680Z"
   },
   {
    "duration": 8,
    "start_time": "2021-11-22T10:11:27.691Z"
   },
   {
    "duration": 5,
    "start_time": "2021-11-22T10:11:27.701Z"
   },
   {
    "duration": 2956,
    "start_time": "2021-11-22T10:11:27.708Z"
   },
   {
    "duration": 5516,
    "start_time": "2021-11-22T11:04:15.488Z"
   },
   {
    "duration": 202,
    "start_time": "2021-11-22T11:04:21.090Z"
   },
   {
    "duration": 98,
    "start_time": "2021-11-22T11:04:21.294Z"
   },
   {
    "duration": 92,
    "start_time": "2021-11-22T11:04:21.398Z"
   },
   {
    "duration": 16,
    "start_time": "2021-11-22T11:04:21.491Z"
   },
   {
    "duration": 1698,
    "start_time": "2021-11-22T11:04:21.509Z"
   },
   {
    "duration": 81,
    "start_time": "2021-11-22T11:04:23.208Z"
   },
   {
    "duration": 10,
    "start_time": "2021-11-22T11:04:23.291Z"
   },
   {
    "duration": 2000,
    "start_time": "2021-11-22T11:04:41.589Z"
   },
   {
    "duration": 4,
    "start_time": "2021-11-22T11:04:43.597Z"
   },
   {
    "duration": 9,
    "start_time": "2021-11-22T11:04:43.690Z"
   },
   {
    "duration": 2101,
    "start_time": "2021-11-22T11:04:43.792Z"
   },
   {
    "duration": 94,
    "start_time": "2021-11-22T11:04:45.895Z"
   },
   {
    "duration": 4406,
    "start_time": "2021-11-22T11:04:45.993Z"
   },
   {
    "duration": 1401,
    "start_time": "2021-11-22T11:04:50.490Z"
   },
   {
    "duration": 2708,
    "start_time": "2021-11-22T11:04:51.895Z"
   },
   {
    "duration": 6,
    "start_time": "2021-11-22T11:04:54.689Z"
   },
   {
    "duration": 56,
    "start_time": "2021-11-22T11:06:16.932Z"
   },
   {
    "duration": 4,
    "start_time": "2021-11-22T11:06:17.788Z"
   },
   {
    "duration": 5,
    "start_time": "2021-11-22T11:06:17.989Z"
   },
   {
    "duration": 4,
    "start_time": "2021-11-22T11:06:19.088Z"
   },
   {
    "duration": 1817,
    "start_time": "2021-11-22T18:57:28.439Z"
   },
   {
    "duration": 64,
    "start_time": "2021-11-22T18:57:30.258Z"
   },
   {
    "duration": 22,
    "start_time": "2021-11-22T18:57:30.326Z"
   },
   {
    "duration": 30,
    "start_time": "2021-11-22T18:57:30.352Z"
   },
   {
    "duration": 25,
    "start_time": "2021-11-22T18:57:30.385Z"
   },
   {
    "duration": 654,
    "start_time": "2021-11-22T18:57:30.412Z"
   },
   {
    "duration": 16,
    "start_time": "2021-11-22T18:57:31.069Z"
   },
   {
    "duration": 24,
    "start_time": "2021-11-22T18:57:31.090Z"
   },
   {
    "duration": 816,
    "start_time": "2021-11-22T18:57:31.117Z"
   },
   {
    "duration": 5,
    "start_time": "2021-11-22T18:57:31.936Z"
   },
   {
    "duration": 16,
    "start_time": "2021-11-22T18:57:31.943Z"
   },
   {
    "duration": 876,
    "start_time": "2021-11-22T18:57:31.962Z"
   },
   {
    "duration": 14,
    "start_time": "2021-11-22T18:57:32.841Z"
   },
   {
    "duration": 1241,
    "start_time": "2021-11-22T18:57:32.858Z"
   },
   {
    "duration": 362,
    "start_time": "2021-11-22T18:57:34.102Z"
   },
   {
    "duration": 598,
    "start_time": "2021-11-22T18:57:34.467Z"
   },
   {
    "duration": 6,
    "start_time": "2021-11-22T18:57:35.067Z"
   },
   {
    "duration": 12,
    "start_time": "2021-11-22T18:57:35.083Z"
   },
   {
    "duration": 13,
    "start_time": "2021-11-22T18:57:35.099Z"
   },
   {
    "duration": 12,
    "start_time": "2021-11-22T18:57:35.115Z"
   },
   {
    "duration": 16,
    "start_time": "2021-11-22T18:57:45.384Z"
   },
   {
    "duration": 511,
    "start_time": "2021-11-22T19:24:18.009Z"
   },
   {
    "duration": 6,
    "start_time": "2021-11-22T19:24:25.717Z"
   },
   {
    "duration": 9,
    "start_time": "2021-11-22T19:24:27.237Z"
   },
   {
    "duration": 8,
    "start_time": "2021-11-22T19:24:27.949Z"
   },
   {
    "duration": 3466,
    "start_time": "2021-11-22T19:24:29.931Z"
   },
   {
    "duration": 7,
    "start_time": "2021-11-22T19:25:11.232Z"
   },
   {
    "duration": 58,
    "start_time": "2021-11-22T19:25:11.242Z"
   },
   {
    "duration": 14,
    "start_time": "2021-11-22T19:25:11.304Z"
   },
   {
    "duration": 11,
    "start_time": "2021-11-22T19:25:11.321Z"
   },
   {
    "duration": 54,
    "start_time": "2021-11-22T19:25:11.336Z"
   },
   {
    "duration": 581,
    "start_time": "2021-11-22T19:25:11.393Z"
   },
   {
    "duration": 8,
    "start_time": "2021-11-22T19:25:11.977Z"
   },
   {
    "duration": 17,
    "start_time": "2021-11-22T19:25:11.987Z"
   },
   {
    "duration": 776,
    "start_time": "2021-11-22T19:25:12.010Z"
   },
   {
    "duration": 4,
    "start_time": "2021-11-22T19:25:12.789Z"
   },
   {
    "duration": 15,
    "start_time": "2021-11-22T19:25:12.795Z"
   },
   {
    "duration": 680,
    "start_time": "2021-11-22T19:25:12.813Z"
   },
   {
    "duration": 14,
    "start_time": "2021-11-22T19:25:13.495Z"
   },
   {
    "duration": 1103,
    "start_time": "2021-11-22T19:25:13.512Z"
   },
   {
    "duration": 370,
    "start_time": "2021-11-22T19:25:14.618Z"
   },
   {
    "duration": 589,
    "start_time": "2021-11-22T19:25:14.990Z"
   },
   {
    "duration": 6,
    "start_time": "2021-11-22T19:25:15.584Z"
   },
   {
    "duration": 14,
    "start_time": "2021-11-22T19:25:15.592Z"
   },
   {
    "duration": 8,
    "start_time": "2021-11-22T19:25:15.609Z"
   },
   {
    "duration": 9,
    "start_time": "2021-11-22T19:25:15.619Z"
   },
   {
    "duration": 6,
    "start_time": "2021-11-22T19:25:15.630Z"
   },
   {
    "duration": 57044,
    "start_time": "2021-11-22T19:25:15.638Z"
   },
   {
    "duration": 36,
    "start_time": "2021-11-22T19:26:12.685Z"
   },
   {
    "duration": 8,
    "start_time": "2021-11-22T19:26:12.724Z"
   },
   {
    "duration": 10,
    "start_time": "2021-11-22T19:26:12.735Z"
   },
   {
    "duration": 35,
    "start_time": "2021-11-22T19:26:12.747Z"
   },
   {
    "duration": 13,
    "start_time": "2021-11-22T19:26:12.787Z"
   },
   {
    "duration": 81,
    "start_time": "2021-11-22T19:26:12.802Z"
   },
   {
    "duration": 6,
    "start_time": "2021-11-22T19:26:43.474Z"
   },
   {
    "duration": 8,
    "start_time": "2021-11-22T19:26:43.689Z"
   },
   {
    "duration": 7,
    "start_time": "2021-11-22T19:26:43.925Z"
   },
   {
    "duration": 269979,
    "start_time": "2021-11-22T19:26:44.414Z"
   },
   {
    "duration": 371,
    "start_time": "2021-11-22T19:31:22.738Z"
   },
   {
    "duration": 871,
    "start_time": "2021-11-22T19:32:29.763Z"
   },
   {
    "duration": 9,
    "start_time": "2021-11-22T19:32:58.363Z"
   },
   {
    "duration": 10,
    "start_time": "2021-11-22T19:33:25.541Z"
   },
   {
    "duration": 14,
    "start_time": "2021-11-22T19:34:27.333Z"
   },
   {
    "duration": 5,
    "start_time": "2021-11-22T19:34:34.592Z"
   },
   {
    "duration": 8,
    "start_time": "2021-11-22T19:34:44.319Z"
   },
   {
    "duration": 300,
    "start_time": "2021-11-22T19:38:32.979Z"
   },
   {
    "duration": 328,
    "start_time": "2021-11-22T19:41:02.860Z"
   },
   {
    "duration": 314,
    "start_time": "2021-11-22T19:41:20.859Z"
   },
   {
    "duration": 7,
    "start_time": "2021-11-22T19:41:38.246Z"
   },
   {
    "duration": 8,
    "start_time": "2021-11-22T19:41:41.940Z"
   },
   {
    "duration": 8,
    "start_time": "2021-11-22T19:41:45.345Z"
   },
   {
    "duration": 8,
    "start_time": "2021-11-22T19:41:57.867Z"
   },
   {
    "duration": 9,
    "start_time": "2021-11-22T19:42:03.585Z"
   },
   {
    "duration": 7,
    "start_time": "2021-11-22T19:42:04.036Z"
   },
   {
    "duration": 9,
    "start_time": "2021-11-22T19:42:04.502Z"
   },
   {
    "duration": 11,
    "start_time": "2021-11-22T19:42:07.873Z"
   },
   {
    "duration": 729,
    "start_time": "2021-11-22T19:43:24.512Z"
   },
   {
    "duration": 846,
    "start_time": "2021-11-22T19:43:37.391Z"
   },
   {
    "duration": 404,
    "start_time": "2021-11-22T19:44:09.344Z"
   },
   {
    "duration": 368,
    "start_time": "2021-11-22T19:45:07.224Z"
   },
   {
    "duration": 11,
    "start_time": "2021-11-22T19:45:19.040Z"
   },
   {
    "duration": 395,
    "start_time": "2021-11-22T19:45:43.063Z"
   },
   {
    "duration": 734,
    "start_time": "2021-11-22T19:48:10.795Z"
   },
   {
    "duration": 8,
    "start_time": "2021-11-22T19:48:18.840Z"
   },
   {
    "duration": 16,
    "start_time": "2021-11-22T19:48:34.481Z"
   },
   {
    "duration": 16,
    "start_time": "2021-11-22T19:48:40.993Z"
   },
   {
    "duration": 13,
    "start_time": "2021-11-22T19:49:02.647Z"
   },
   {
    "duration": 335,
    "start_time": "2021-11-22T19:49:21.982Z"
   },
   {
    "duration": 17,
    "start_time": "2021-11-22T19:49:29.395Z"
   },
   {
    "duration": 6,
    "start_time": "2021-11-22T19:49:42.492Z"
   },
   {
    "duration": 5,
    "start_time": "2021-11-22T19:49:50.387Z"
   },
   {
    "duration": 4,
    "start_time": "2021-11-22T19:51:01.447Z"
   },
   {
    "duration": 8,
    "start_time": "2021-11-22T19:51:06.023Z"
   },
   {
    "duration": 300,
    "start_time": "2021-11-22T19:51:28.803Z"
   },
   {
    "duration": 335,
    "start_time": "2021-11-22T19:52:07.769Z"
   },
   {
    "duration": 4,
    "start_time": "2021-11-22T19:52:32.113Z"
   },
   {
    "duration": 315,
    "start_time": "2021-11-22T19:54:49.843Z"
   },
   {
    "duration": 388,
    "start_time": "2021-11-22T19:55:12.557Z"
   },
   {
    "duration": 419,
    "start_time": "2021-11-22T19:55:22.682Z"
   },
   {
    "duration": 25,
    "start_time": "2021-11-22T19:56:50.461Z"
   },
   {
    "duration": 11,
    "start_time": "2021-11-22T19:57:03.517Z"
   },
   {
    "duration": 7,
    "start_time": "2021-11-22T19:57:15.619Z"
   },
   {
    "duration": 388,
    "start_time": "2021-11-22T19:59:06.485Z"
   },
   {
    "duration": 12,
    "start_time": "2021-11-22T19:59:56.988Z"
   },
   {
    "duration": 10,
    "start_time": "2021-11-22T20:00:00.586Z"
   },
   {
    "duration": 12,
    "start_time": "2021-11-22T20:00:09.257Z"
   },
   {
    "duration": 1586,
    "start_time": "2021-11-23T05:32:27.165Z"
   },
   {
    "duration": 50,
    "start_time": "2021-11-23T05:32:28.754Z"
   },
   {
    "duration": 18,
    "start_time": "2021-11-23T05:32:28.808Z"
   },
   {
    "duration": 11,
    "start_time": "2021-11-23T05:32:28.829Z"
   },
   {
    "duration": 60,
    "start_time": "2021-11-23T05:32:28.843Z"
   },
   {
    "duration": 436,
    "start_time": "2021-11-23T05:32:28.906Z"
   },
   {
    "duration": 6,
    "start_time": "2021-11-23T05:32:29.345Z"
   },
   {
    "duration": 15,
    "start_time": "2021-11-23T05:32:29.353Z"
   },
   {
    "duration": 571,
    "start_time": "2021-11-23T05:32:29.372Z"
   },
   {
    "duration": 4,
    "start_time": "2021-11-23T05:32:29.946Z"
   },
   {
    "duration": 12,
    "start_time": "2021-11-23T05:32:29.952Z"
   },
   {
    "duration": 594,
    "start_time": "2021-11-23T05:32:29.967Z"
   },
   {
    "duration": 12,
    "start_time": "2021-11-23T05:32:30.563Z"
   },
   {
    "duration": 1103,
    "start_time": "2021-11-23T05:32:30.577Z"
   },
   {
    "duration": 371,
    "start_time": "2021-11-23T05:32:31.682Z"
   },
   {
    "duration": 687,
    "start_time": "2021-11-23T05:32:32.056Z"
   },
   {
    "duration": 5,
    "start_time": "2021-11-23T05:32:32.746Z"
   },
   {
    "duration": 9,
    "start_time": "2021-11-23T05:32:32.753Z"
   },
   {
    "duration": 12,
    "start_time": "2021-11-23T05:32:32.765Z"
   },
   {
    "duration": 8,
    "start_time": "2021-11-23T05:32:32.801Z"
   },
   {
    "duration": 9,
    "start_time": "2021-11-23T05:32:32.812Z"
   },
   {
    "duration": 52478,
    "start_time": "2021-11-23T05:32:32.824Z"
   },
   {
    "duration": 107,
    "start_time": "2021-11-23T05:33:25.304Z"
   },
   {
    "duration": 8,
    "start_time": "2021-11-23T05:33:25.414Z"
   },
   {
    "duration": 7,
    "start_time": "2021-11-23T05:33:25.425Z"
   },
   {
    "duration": 6,
    "start_time": "2021-11-23T05:33:25.434Z"
   },
   {
    "duration": 7,
    "start_time": "2021-11-23T05:33:25.445Z"
   },
   {
    "duration": 59,
    "start_time": "2021-11-23T05:33:25.455Z"
   },
   {
    "duration": 1886,
    "start_time": "2021-11-23T05:33:25.517Z"
   },
   {
    "duration": 248235,
    "start_time": "2021-11-23T05:33:27.405Z"
   },
   {
    "duration": 363182,
    "start_time": "2021-11-23T05:37:35.643Z"
   },
   {
    "duration": 4,
    "start_time": "2021-11-23T05:43:38.827Z"
   },
   {
    "duration": 12,
    "start_time": "2021-11-23T05:43:38.834Z"
   },
   {
    "duration": 55,
    "start_time": "2021-11-23T05:43:38.849Z"
   },
   {
    "duration": 11,
    "start_time": "2021-11-23T05:43:38.907Z"
   },
   {
    "duration": 8,
    "start_time": "2021-11-23T05:43:38.920Z"
   },
   {
    "duration": 2694,
    "start_time": "2021-11-23T05:43:38.930Z"
   },
   {
    "duration": 15,
    "start_time": "2021-11-23T05:43:41.699Z"
   },
   {
    "duration": 812,
    "start_time": "2021-11-23T05:43:41.716Z"
   },
   {
    "duration": 354,
    "start_time": "2021-11-23T05:43:52.533Z"
   },
   {
    "duration": 14,
    "start_time": "2021-11-23T05:45:48.816Z"
   },
   {
    "duration": 13,
    "start_time": "2021-11-23T05:45:56.055Z"
   },
   {
    "duration": 13,
    "start_time": "2021-11-23T05:46:05.563Z"
   },
   {
    "duration": 7,
    "start_time": "2021-11-23T05:47:16.537Z"
   },
   {
    "duration": 338,
    "start_time": "2021-11-23T05:47:29.501Z"
   },
   {
    "duration": 6,
    "start_time": "2021-11-23T05:47:40.586Z"
   },
   {
    "duration": 6,
    "start_time": "2021-11-23T05:49:42.158Z"
   },
   {
    "duration": 5,
    "start_time": "2021-11-23T05:49:59.062Z"
   },
   {
    "duration": 362,
    "start_time": "2021-11-23T05:50:33.083Z"
   },
   {
    "duration": 353,
    "start_time": "2021-11-23T05:50:45.558Z"
   },
   {
    "duration": 385,
    "start_time": "2021-11-23T05:50:58.482Z"
   },
   {
    "duration": 6,
    "start_time": "2021-11-23T05:52:37.501Z"
   },
   {
    "duration": 46,
    "start_time": "2021-11-23T05:54:08.462Z"
   },
   {
    "duration": 296,
    "start_time": "2021-11-23T05:54:27.277Z"
   },
   {
    "duration": 361,
    "start_time": "2021-11-23T05:54:43.316Z"
   },
   {
    "duration": 365,
    "start_time": "2021-11-23T05:57:41.402Z"
   },
   {
    "duration": 8,
    "start_time": "2021-11-23T05:57:50.336Z"
   },
   {
    "duration": 4,
    "start_time": "2021-11-23T05:57:58.881Z"
   },
   {
    "duration": 4,
    "start_time": "2021-11-23T05:58:43.624Z"
   },
   {
    "duration": 8,
    "start_time": "2021-11-23T05:58:50.329Z"
   },
   {
    "duration": 6,
    "start_time": "2021-11-23T05:59:01.245Z"
   },
   {
    "duration": 326,
    "start_time": "2021-11-23T05:59:14.239Z"
   },
   {
    "duration": 360,
    "start_time": "2021-11-23T05:59:23.980Z"
   },
   {
    "duration": 4,
    "start_time": "2021-11-23T06:00:14.636Z"
   },
   {
    "duration": 7,
    "start_time": "2021-11-23T06:01:39.898Z"
   },
   {
    "duration": 4,
    "start_time": "2021-11-23T06:01:40.212Z"
   },
   {
    "duration": 377,
    "start_time": "2021-11-23T06:01:40.497Z"
   },
   {
    "duration": 366,
    "start_time": "2021-11-23T06:01:57.248Z"
   },
   {
    "duration": 387,
    "start_time": "2021-11-23T06:02:01.562Z"
   },
   {
    "duration": 484,
    "start_time": "2021-11-23T06:03:30.327Z"
   },
   {
    "duration": 417,
    "start_time": "2021-11-23T06:03:46.886Z"
   },
   {
    "duration": 414,
    "start_time": "2021-11-23T06:04:39.579Z"
   },
   {
    "duration": 432,
    "start_time": "2021-11-23T06:08:40.156Z"
   },
   {
    "duration": 438,
    "start_time": "2021-11-23T06:09:14.757Z"
   },
   {
    "duration": 452,
    "start_time": "2021-11-23T06:09:18.248Z"
   },
   {
    "duration": 439,
    "start_time": "2021-11-23T06:09:40.863Z"
   },
   {
    "duration": 430,
    "start_time": "2021-11-23T06:09:45.874Z"
   },
   {
    "duration": 426,
    "start_time": "2021-11-23T06:10:41.636Z"
   },
   {
    "duration": 427,
    "start_time": "2021-11-23T06:12:58.885Z"
   },
   {
    "duration": 459,
    "start_time": "2021-11-23T06:13:44.963Z"
   },
   {
    "duration": 53,
    "start_time": "2021-11-23T06:20:51.317Z"
   },
   {
    "duration": 443,
    "start_time": "2021-11-23T06:21:04.084Z"
   },
   {
    "duration": 398,
    "start_time": "2021-11-23T06:22:56.838Z"
   },
   {
    "duration": 425,
    "start_time": "2021-11-23T06:23:09.227Z"
   },
   {
    "duration": 563,
    "start_time": "2021-11-23T06:23:24.742Z"
   },
   {
    "duration": 471,
    "start_time": "2021-11-23T06:24:23.496Z"
   },
   {
    "duration": 483,
    "start_time": "2021-11-23T06:24:27.983Z"
   },
   {
    "duration": 470,
    "start_time": "2021-11-23T06:24:32.973Z"
   },
   {
    "duration": 458,
    "start_time": "2021-11-23T06:24:39.324Z"
   },
   {
    "duration": 470,
    "start_time": "2021-11-23T06:25:09.663Z"
   },
   {
    "duration": 488,
    "start_time": "2021-11-23T06:25:15.141Z"
   },
   {
    "duration": 463,
    "start_time": "2021-11-23T06:26:35.652Z"
   },
   {
    "duration": 588,
    "start_time": "2021-11-23T06:26:55.505Z"
   },
   {
    "duration": 493,
    "start_time": "2021-11-23T06:27:03.877Z"
   },
   {
    "duration": 581,
    "start_time": "2021-11-23T06:27:27.189Z"
   },
   {
    "duration": 473,
    "start_time": "2021-11-23T06:27:36.854Z"
   },
   {
    "duration": 589,
    "start_time": "2021-11-23T06:27:44.340Z"
   },
   {
    "duration": 1363,
    "start_time": "2021-11-23T06:31:40.237Z"
   },
   {
    "duration": 985,
    "start_time": "2021-11-23T06:31:54.309Z"
   },
   {
    "duration": 890,
    "start_time": "2021-11-23T06:32:06.397Z"
   },
   {
    "duration": 927,
    "start_time": "2021-11-23T06:32:18.357Z"
   },
   {
    "duration": 1018,
    "start_time": "2021-11-23T06:32:24.619Z"
   },
   {
    "duration": 1238,
    "start_time": "2021-11-23T06:32:55.186Z"
   },
   {
    "duration": 1041,
    "start_time": "2021-11-23T06:33:10.064Z"
   },
   {
    "duration": 1087,
    "start_time": "2021-11-23T06:33:29.177Z"
   },
   {
    "duration": 575,
    "start_time": "2021-11-23T06:33:41.218Z"
   },
   {
    "duration": 996,
    "start_time": "2021-11-23T06:33:48.539Z"
   },
   {
    "duration": 989,
    "start_time": "2021-11-23T06:34:52.088Z"
   },
   {
    "duration": 1263,
    "start_time": "2021-11-23T06:35:01.374Z"
   },
   {
    "duration": 994,
    "start_time": "2021-11-23T06:36:25.218Z"
   },
   {
    "duration": 1003,
    "start_time": "2021-11-23T06:36:30.767Z"
   },
   {
    "duration": 1002,
    "start_time": "2021-11-23T06:36:34.754Z"
   },
   {
    "duration": 1139,
    "start_time": "2021-11-23T06:36:38.736Z"
   },
   {
    "duration": 1559,
    "start_time": "2021-11-23T06:37:09.910Z"
   },
   {
    "duration": 1256,
    "start_time": "2021-11-23T06:37:53.469Z"
   },
   {
    "duration": 1340,
    "start_time": "2021-11-23T06:38:00.427Z"
   },
   {
    "duration": 1311,
    "start_time": "2021-11-23T06:39:31.118Z"
   },
   {
    "duration": 1288,
    "start_time": "2021-11-23T06:40:55.012Z"
   },
   {
    "duration": 1535,
    "start_time": "2021-11-23T06:42:02.590Z"
   },
   {
    "duration": 1551,
    "start_time": "2021-11-23T06:44:12.242Z"
   },
   {
    "duration": 1495,
    "start_time": "2021-11-23T06:46:01.720Z"
   },
   {
    "duration": 1445,
    "start_time": "2021-11-23T06:46:13.160Z"
   },
   {
    "duration": 1431,
    "start_time": "2021-11-23T06:46:22.795Z"
   },
   {
    "duration": 1718,
    "start_time": "2021-11-23T06:46:33.767Z"
   },
   {
    "duration": 1729,
    "start_time": "2021-11-23T06:46:43.274Z"
   },
   {
    "duration": 1341,
    "start_time": "2021-11-23T06:47:46.572Z"
   },
   {
    "duration": 1364,
    "start_time": "2021-11-23T06:48:10.248Z"
   },
   {
    "duration": 1431,
    "start_time": "2021-11-23T06:48:35.456Z"
   }
  ],
  "kernelspec": {
   "display_name": "Python 3 (ipykernel)",
   "language": "python",
   "name": "python3"
  },
  "language_info": {
   "codemirror_mode": {
    "name": "ipython",
    "version": 3
   },
   "file_extension": ".py",
   "mimetype": "text/x-python",
   "name": "python",
   "nbconvert_exporter": "python",
   "pygments_lexer": "ipython3",
   "version": "3.9.5"
  },
  "toc": {
   "base_numbering": 1,
   "nav_menu": {},
   "number_sections": false,
   "sideBar": true,
   "skip_h1_title": true,
   "title_cell": "Содержание",
   "title_sidebar": "Contents",
   "toc_cell": false,
   "toc_position": {
    "height": "calc(100% - 180px)",
    "left": "10px",
    "top": "150px",
    "width": "236.125px"
   },
   "toc_section_display": true,
   "toc_window_display": false
  }
 },
 "nbformat": 4,
 "nbformat_minor": 2
}
