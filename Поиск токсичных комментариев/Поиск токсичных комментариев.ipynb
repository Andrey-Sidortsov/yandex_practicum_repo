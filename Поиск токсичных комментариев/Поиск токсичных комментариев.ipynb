{
 "cells": [
  {
   "cell_type": "markdown",
   "metadata": {},
   "source": [
    "# Поиск токсичных комментариев"
   ]
  },
  {
   "cell_type": "markdown",
   "metadata": {},
   "source": [
    "Интернет-магазин запускает новый сервис. Теперь пользователи могут редактировать и дополнять описания товаров. То есть клиенты предлагают свои правки и комментируют изменения других. Магазину нужен инструмент, который будет искать токсичные комментарии и отправлять их на модерацию. \n",
    "\n",
    "Модель должна иметь метрику качества *F1* не меньше 0.75. "
   ]
  },
  {
   "cell_type": "markdown",
   "metadata": {
    "toc": true
   },
   "source": [
    "<h1>Содержание<span class=\"tocSkip\"></span></h1>\n",
    "<div class=\"toc\"><ul class=\"toc-item\"><li><span><a href=\"#Подготовка\" data-toc-modified-id=\"Подготовка-1\"><span class=\"toc-item-num\">1&nbsp;&nbsp;</span>Подготовка</a></span></li><li><span><a href=\"#Обучение\" data-toc-modified-id=\"Обучение-2\"><span class=\"toc-item-num\">2&nbsp;&nbsp;</span>Обучение</a></span></li><li><span><a href=\"#Выводы\" data-toc-modified-id=\"Выводы-3\"><span class=\"toc-item-num\">3&nbsp;&nbsp;</span>Выводы</a></span></li></ul></div>"
   ]
  },
  {
   "cell_type": "markdown",
   "metadata": {},
   "source": [
    "## Подготовка"
   ]
  },
  {
   "cell_type": "markdown",
   "metadata": {},
   "source": [
    "Загрузим всё необходимое для работы"
   ]
  },
  {
   "cell_type": "code",
   "execution_count": 1,
   "metadata": {},
   "outputs": [],
   "source": [
    "import pandas as pd\n",
    "\n",
    "import numpy as np\n",
    "\n",
    "import re \n",
    "\n",
    "from pymystem3 import Mystem\n",
    "\n",
    "import nltk\n",
    "\n",
    "from nltk.corpus import stopwords\n",
    "\n",
    "from sklearn.feature_extraction.text import TfidfVectorizer\n",
    "\n",
    "from sklearn.model_selection import train_test_split\n",
    "\n",
    "from sklearn.tree import DecisionTreeClassifier\n",
    "\n",
    "from sklearn.ensemble import RandomForestClassifier\n",
    "\n",
    "from sklearn.linear_model import LogisticRegression\n",
    "\n",
    "from sklearn.metrics import f1_score\n",
    "\n",
    "from nltk.stem import WordNetLemmatizer"
   ]
  },
  {
   "cell_type": "code",
   "execution_count": 2,
   "metadata": {},
   "outputs": [],
   "source": [
    "df_toxic_comments = pd.read_csv('/datasets/toxic_comments.csv')"
   ]
  },
  {
   "cell_type": "code",
   "execution_count": 3,
   "metadata": {
    "scrolled": true
   },
   "outputs": [
    {
     "data": {
      "text/html": [
       "<div>\n",
       "<style scoped>\n",
       "    .dataframe tbody tr th:only-of-type {\n",
       "        vertical-align: middle;\n",
       "    }\n",
       "\n",
       "    .dataframe tbody tr th {\n",
       "        vertical-align: top;\n",
       "    }\n",
       "\n",
       "    .dataframe thead th {\n",
       "        text-align: right;\n",
       "    }\n",
       "</style>\n",
       "<table border=\"1\" class=\"dataframe\">\n",
       "  <thead>\n",
       "    <tr style=\"text-align: right;\">\n",
       "      <th></th>\n",
       "      <th>text</th>\n",
       "      <th>toxic</th>\n",
       "    </tr>\n",
       "  </thead>\n",
       "  <tbody>\n",
       "    <tr>\n",
       "      <th>0</th>\n",
       "      <td>Explanation\\nWhy the edits made under my usern...</td>\n",
       "      <td>0</td>\n",
       "    </tr>\n",
       "    <tr>\n",
       "      <th>1</th>\n",
       "      <td>D'aww! He matches this background colour I'm s...</td>\n",
       "      <td>0</td>\n",
       "    </tr>\n",
       "    <tr>\n",
       "      <th>2</th>\n",
       "      <td>Hey man, I'm really not trying to edit war. It...</td>\n",
       "      <td>0</td>\n",
       "    </tr>\n",
       "    <tr>\n",
       "      <th>3</th>\n",
       "      <td>\"\\nMore\\nI can't make any real suggestions on ...</td>\n",
       "      <td>0</td>\n",
       "    </tr>\n",
       "    <tr>\n",
       "      <th>4</th>\n",
       "      <td>You, sir, are my hero. Any chance you remember...</td>\n",
       "      <td>0</td>\n",
       "    </tr>\n",
       "    <tr>\n",
       "      <th>...</th>\n",
       "      <td>...</td>\n",
       "      <td>...</td>\n",
       "    </tr>\n",
       "    <tr>\n",
       "      <th>159566</th>\n",
       "      <td>\":::::And for the second time of asking, when ...</td>\n",
       "      <td>0</td>\n",
       "    </tr>\n",
       "    <tr>\n",
       "      <th>159567</th>\n",
       "      <td>You should be ashamed of yourself \\n\\nThat is ...</td>\n",
       "      <td>0</td>\n",
       "    </tr>\n",
       "    <tr>\n",
       "      <th>159568</th>\n",
       "      <td>Spitzer \\n\\nUmm, theres no actual article for ...</td>\n",
       "      <td>0</td>\n",
       "    </tr>\n",
       "    <tr>\n",
       "      <th>159569</th>\n",
       "      <td>And it looks like it was actually you who put ...</td>\n",
       "      <td>0</td>\n",
       "    </tr>\n",
       "    <tr>\n",
       "      <th>159570</th>\n",
       "      <td>\"\\nAnd ... I really don't think you understand...</td>\n",
       "      <td>0</td>\n",
       "    </tr>\n",
       "  </tbody>\n",
       "</table>\n",
       "<p>159571 rows × 2 columns</p>\n",
       "</div>"
      ],
      "text/plain": [
       "                                                     text  toxic\n",
       "0       Explanation\\nWhy the edits made under my usern...      0\n",
       "1       D'aww! He matches this background colour I'm s...      0\n",
       "2       Hey man, I'm really not trying to edit war. It...      0\n",
       "3       \"\\nMore\\nI can't make any real suggestions on ...      0\n",
       "4       You, sir, are my hero. Any chance you remember...      0\n",
       "...                                                   ...    ...\n",
       "159566  \":::::And for the second time of asking, when ...      0\n",
       "159567  You should be ashamed of yourself \\n\\nThat is ...      0\n",
       "159568  Spitzer \\n\\nUmm, theres no actual article for ...      0\n",
       "159569  And it looks like it was actually you who put ...      0\n",
       "159570  \"\\nAnd ... I really don't think you understand...      0\n",
       "\n",
       "[159571 rows x 2 columns]"
      ]
     },
     "execution_count": 3,
     "metadata": {},
     "output_type": "execute_result"
    }
   ],
   "source": [
    "df_toxic_comments"
   ]
  },
  {
   "cell_type": "markdown",
   "metadata": {},
   "source": [
    "Первое, что сделаем после загрузки в данном случае это посмотрим на баланс классов. "
   ]
  },
  {
   "cell_type": "code",
   "execution_count": 4,
   "metadata": {},
   "outputs": [
    {
     "data": {
      "text/plain": [
       "10.167887648758233"
      ]
     },
     "execution_count": 4,
     "metadata": {},
     "output_type": "execute_result"
    }
   ],
   "source": [
    "df_toxic_comments['toxic'].mean() * 100"
   ]
  },
  {
   "cell_type": "markdown",
   "metadata": {},
   "source": [
    "Далеко не 1:1. Учтём это при построении моделей."
   ]
  },
  {
   "cell_type": "code",
   "execution_count": 5,
   "metadata": {},
   "outputs": [],
   "source": [
    "target = df_toxic_comments['toxic']"
   ]
  },
  {
   "cell_type": "code",
   "execution_count": 6,
   "metadata": {},
   "outputs": [],
   "source": [
    "corpus = df_toxic_comments['text']"
   ]
  },
  {
   "cell_type": "markdown",
   "metadata": {},
   "source": [
    "Разобьём данные на обучающую и тестовую выборку."
   ]
  },
  {
   "cell_type": "code",
   "execution_count": 7,
   "metadata": {},
   "outputs": [],
   "source": [
    "corpus_train, corpus_test, target_train, target_test  = train_test_split(corpus, \n",
    "                                                           target, \n",
    "                                                           random_state = 12345, \n",
    "                                                           test_size = 0.1)"
   ]
  },
  {
   "cell_type": "code",
   "execution_count": 8,
   "metadata": {},
   "outputs": [],
   "source": [
    "corpus_train = corpus_train.values.astype('U')"
   ]
  },
  {
   "cell_type": "code",
   "execution_count": 9,
   "metadata": {},
   "outputs": [],
   "source": [
    "corpus_test = corpus_test.values.astype('U')"
   ]
  },
  {
   "cell_type": "markdown",
   "metadata": {},
   "source": [
    "Напишем функцию для подготовки текстов, выполняющую:\n",
    "1. Лемматизацию текста с помощью библиотеке `NLTK`;\n",
    "2. Устранение лишних символов и пробелов."
   ]
  },
  {
   "cell_type": "markdown",
   "metadata": {},
   "source": [
    "Для наглядности, выведем пару предложение корпуса до и после применения функции."
   ]
  },
  {
   "cell_type": "code",
   "execution_count": 10,
   "metadata": {},
   "outputs": [
    {
     "data": {
      "text/plain": [
       "array([\"There is something wrong with you, Madam! \\n\\nMadam, stop all of this nonsence on the ABC Kids page, I believe that Disney's One Saturday Morning launched in 1996, not 1997, and I'm thinking Mater's Tall Tales was not on ABC Kids, so cut this crap out, Darby, or I'm gonna kill you.   12:09 6 July 2012 (UTC)\",\n",
       "       'Amyas Godfrey\\nThe page has come under scrutiny as of late. How can we fix it so it is more in line with Wiki guidelines? Should it stay or should it go?'],\n",
       "      dtype='<U5000')"
      ]
     },
     "execution_count": 10,
     "metadata": {},
     "output_type": "execute_result"
    }
   ],
   "source": [
    "corpus_train[:2]"
   ]
  },
  {
   "cell_type": "code",
   "execution_count": 11,
   "metadata": {},
   "outputs": [],
   "source": [
    "def preparation(text):\n",
    "    for i in range (0, len(text)):\n",
    "        text[i] = re.sub(r'[^a-zA-Z]', ' ', text[i])  # Устранение лишних символов\n",
    "        text[i] = \" \".join(text[i].split())           # Устранение лишних пробелов\n",
    "        w = WordNetLemmatizer() \n",
    "        lemmas = w.lemmatize(text[i],'v')\n",
    "        text[i] = \"\".join(str(x) for x in lemmas)     # Лемматизация"
   ]
  },
  {
   "cell_type": "code",
   "execution_count": 12,
   "metadata": {},
   "outputs": [],
   "source": [
    "preparation(corpus_train)"
   ]
  },
  {
   "cell_type": "code",
   "execution_count": 13,
   "metadata": {},
   "outputs": [
    {
     "data": {
      "text/plain": [
       "array(['There is something wrong with you Madam Madam stop all of this nonsence on the ABC Kids page I believe that Disney s One Saturday Morning launched in not and I m thinking Mater s Tall Tales was not on ABC Kids so cut this crap out Darby or I m gonna kill you July UTC',\n",
       "       'Amyas Godfrey The page has come under scrutiny as of late How can we fix it so it is more in line with Wiki guidelines Should it stay or should it go'],\n",
       "      dtype='<U5000')"
      ]
     },
     "execution_count": 13,
     "metadata": {},
     "output_type": "execute_result"
    }
   ],
   "source": [
    "corpus_train[:2]"
   ]
  },
  {
   "cell_type": "markdown",
   "metadata": {},
   "source": [
    "Разница налицо."
   ]
  },
  {
   "cell_type": "code",
   "execution_count": 14,
   "metadata": {},
   "outputs": [],
   "source": [
    "preparation(corpus_test)"
   ]
  },
  {
   "cell_type": "markdown",
   "metadata": {},
   "source": [
    "Рассчитаем `TF-IDF` для каждой выборки."
   ]
  },
  {
   "cell_type": "code",
   "execution_count": null,
   "metadata": {},
   "outputs": [],
   "source": [
    "nltk.download('stopwords') "
   ]
  },
  {
   "cell_type": "code",
   "execution_count": null,
   "metadata": {},
   "outputs": [],
   "source": [
    "stop_words = set(stopwords.words('english'))"
   ]
  },
  {
   "cell_type": "code",
   "execution_count": null,
   "metadata": {},
   "outputs": [],
   "source": [
    "count_tf_idf = TfidfVectorizer(stop_words = stop_words)"
   ]
  },
  {
   "cell_type": "code",
   "execution_count": null,
   "metadata": {},
   "outputs": [],
   "source": [
    "tf_idf_train = count_tf_idf.fit_transform(corpus_train)"
   ]
  },
  {
   "cell_type": "code",
   "execution_count": null,
   "metadata": {},
   "outputs": [],
   "source": [
    "tf_idf_test = count_tf_idf.transform(corpus_test)"
   ]
  },
  {
   "cell_type": "markdown",
   "metadata": {},
   "source": [
    "## Обучение"
   ]
  },
  {
   "cell_type": "markdown",
   "metadata": {},
   "source": [
    "Итак, для классификации комментариев используем следующие виды моделей:\n",
    "1. `DecisionTreeClassifier`;\n",
    "2. `RandomForestClassifier`;\n",
    "3. `LogisticRegression`."
   ]
  },
  {
   "cell_type": "markdown",
   "metadata": {},
   "source": [
    "*`DecisionTreeClassifier`*"
   ]
  },
  {
   "cell_type": "markdown",
   "metadata": {},
   "source": [
    "В данном случае исследуем результат при изменении гиперпараметра `max_depth`."
   ]
  },
  {
   "cell_type": "code",
   "execution_count": null,
   "metadata": {},
   "outputs": [],
   "source": [
    "list_f1_score_tree = []\n",
    "max_depth_tree = []\n",
    "\n",
    "for depth in range(1,21): \n",
    "    \n",
    "    model = DecisionTreeClassifier(random_state=12345, \n",
    "                                   max_depth = depth, \n",
    "                                   class_weight = 'balanced')\n",
    "    \n",
    "    model.fit(tf_idf_train,target_train)\n",
    "    predictions = model.predict(tf_idf_test)\n",
    "    \n",
    "    f1_score_1 = f1_score(target_test, predictions) \n",
    "    \n",
    "    list_f1_score_tree.append(f1_score_1)\n",
    "    max_depth_tree.append(depth)\n",
    "\n",
    "columns = {\n",
    "            \"max_depth_tree\":np.array(max_depth_tree),\n",
    "            \"f1_score_tree\": np.array(list_f1_score_tree),\n",
    "          }\n",
    "\n",
    "df_max_f1_score_tree = pd.DataFrame(columns)\n",
    "\n",
    "df_max_f1_score_tree.query('f1_score_tree == f1_score_tree.max()')"
   ]
  },
  {
   "cell_type": "markdown",
   "metadata": {},
   "source": [
    "*`RandomForestClassifier`*"
   ]
  },
  {
   "cell_type": "markdown",
   "metadata": {},
   "source": [
    "Для леса исследуем следующие гиперпараметры: \n",
    "1. `n_estimators`\n",
    "2. `max_depth`"
   ]
  },
  {
   "cell_type": "code",
   "execution_count": null,
   "metadata": {
    "scrolled": true
   },
   "outputs": [],
   "source": [
    "list_f1_forest = []\n",
    "n_estimators_forest = []\n",
    "max_depth_forest = []\n",
    "\n",
    "for est in range(100,500,100):\n",
    "    \n",
    "    for depth in range(1,20): \n",
    "        \n",
    "        model = RandomForestClassifier(random_state=12345,\n",
    "                                      n_estimators = est,\n",
    "                                      max_depth = depth, \n",
    "                                      class_weight = 'balanced')\n",
    "        \n",
    "        model.fit(tf_idf_train,target_train)\n",
    "        predictions = model.predict(tf_idf_test)\n",
    "        f1_score_2 = f1_score(target_test, predictions) \n",
    "    \n",
    "        list_f1_forest.append(f1_score_2)\n",
    "        n_estimators_forest.append(est)\n",
    "        max_depth_forest.append(depth)\n",
    "\n",
    "columns = {\n",
    "            \"max_depth_forest\":np.array(max_depth_forest),\n",
    "            \"n_estimators_forest\":np.array(n_estimators_forest),\n",
    "            \"f1_forest\": np.array(list_f1_forest),\n",
    "          }\n",
    "\n",
    "df_max_f1_forest = pd.DataFrame(columns)\n",
    "\n",
    "df_max_f1_forest.query('f1_forest == f1_forest.max()')"
   ]
  },
  {
   "cell_type": "markdown",
   "metadata": {},
   "source": [
    "*`LogisticRegression`*"
   ]
  },
  {
   "cell_type": "markdown",
   "metadata": {},
   "source": [
    "Прежде, чем определиться с подбором гиперпараметров, посмотрим за какое время и какое значение метрики `f1_score` можно получить на стандратных настройках для логистической регрессии."
   ]
  },
  {
   "cell_type": "code",
   "execution_count": null,
   "metadata": {},
   "outputs": [],
   "source": [
    "%%time \n",
    "\n",
    "model = LogisticRegression(random_state=12345, class_weight = 'balanced')\n",
    "model.fit(tf_idf_train,target_train)\n",
    "predictions = model.predict(tf_idf_test)\n",
    "f1_score_3 = f1_score(target_test, predictions)\n",
    "print(f1_score_3)"
   ]
  },
  {
   "cell_type": "markdown",
   "metadata": {},
   "source": [
    "В целом, это уже выше необходимого значения. Поэтому подойдём к вопросу исследования гиперпараметров чисто символически. Чтобы не растягивать расчёт на часы, выберем только 2 из них:\n",
    "\n",
    "1. `penalty`\n",
    "2. `C`"
   ]
  },
  {
   "cell_type": "code",
   "execution_count": null,
   "metadata": {},
   "outputs": [],
   "source": [
    "%%time\n",
    "\n",
    "list_f1_logistic = []\n",
    "list_penalty = []\n",
    "list_c = []\n",
    "\n",
    "for penalty in ['l1','l2']:\n",
    "    \n",
    "    for c in range(1,21,1):\n",
    "        \n",
    "        model = LogisticRegression(random_state=12345,\n",
    "                                              penalty = penalty,\n",
    "                                              C = c, \n",
    "                                              class_weight = 'balanced')\n",
    "        \n",
    "        model.fit(tf_idf_train,target_train)\n",
    "        predictions = model.predict(tf_idf_test)\n",
    "        f1_score_4 = f1_score(target_test, predictions)\n",
    "        \n",
    "        list_f1_logistic.append(f1_score_4)\n",
    "        list_penalty.append(penalty)\n",
    "        list_c.append(c)\n",
    "    \n",
    "columns = {\n",
    "            \"penalty\":np.array(list_penalty),\n",
    "            \"c\":np.array(list_c),\n",
    "            \"f1_logistic\": np.array(list_f1_logistic),\n",
    "          }\n",
    "                \n",
    "\n",
    "df_max_f1_logistic = pd.DataFrame(columns)\n",
    "\n",
    "df_max_f1_logistic.query('f1_logistic == f1_logistic.max()')        "
   ]
  },
  {
   "cell_type": "markdown",
   "metadata": {},
   "source": [
    "## Выводы"
   ]
  },
  {
   "cell_type": "markdown",
   "metadata": {},
   "source": [
    "Итак, по итогам проведённых исследований получили следующие результаты: "
   ]
  },
  {
   "cell_type": "code",
   "execution_count": null,
   "metadata": {},
   "outputs": [],
   "source": [
    "names = ['DecisionTreeClassifier','RandomForestClassifier','LogisticRegression']\n",
    "column = {\"f1_score\": np.array([0.60, 0.41, 0.78])}\n",
    "final_f1_score = pd.DataFrame(column, index = names) "
   ]
  },
  {
   "cell_type": "code",
   "execution_count": null,
   "metadata": {},
   "outputs": [],
   "source": [
    "final_f1_score"
   ]
  },
  {
   "cell_type": "markdown",
   "metadata": {},
   "source": [
    "Таким образом, из преведённой выше таблицы хорошо видно, что лучший прогноз на предмет тональности комментария мы сможем получить с помощью модели логистической регрессии `LogisticRegression` с гиперпараметрами `penalty` = `l2`, `c` = `7`. В свою очередь решить проблему дисбаланса классов позволяет гиперпараметр `class_weight = 'balanced'`.Для лемматизации используем библиотеку `NLTK`. Значение метрики `f1_score` составит в этом случае `0.78`. "
   ]
  }
 ],
 "metadata": {
  "ExecuteTimeLog": [
   {
    "duration": 715,
    "start_time": "2021-11-26T12:39:36.300Z"
   },
   {
    "duration": 2948,
    "start_time": "2021-11-26T12:40:15.517Z"
   },
   {
    "duration": 12531,
    "start_time": "2021-11-26T12:46:36.678Z"
   },
   {
    "duration": 23,
    "start_time": "2021-11-26T12:46:55.209Z"
   },
   {
    "duration": 4499,
    "start_time": "2021-11-27T17:49:47.770Z"
   },
   {
    "duration": 620,
    "start_time": "2021-11-27T18:03:25.782Z"
   },
   {
    "duration": 3,
    "start_time": "2021-11-27T18:03:30.534Z"
   },
   {
    "duration": 690,
    "start_time": "2021-11-27T18:03:30.838Z"
   },
   {
    "duration": 15,
    "start_time": "2021-11-27T18:03:31.530Z"
   },
   {
    "duration": 9,
    "start_time": "2021-11-27T18:06:38.748Z"
   },
   {
    "duration": 261,
    "start_time": "2021-11-27T18:07:02.176Z"
   },
   {
    "duration": 7,
    "start_time": "2021-11-27T18:07:07.677Z"
   },
   {
    "duration": 699,
    "start_time": "2021-11-27T18:07:08.660Z"
   },
   {
    "duration": 81,
    "start_time": "2021-11-27T18:07:16.141Z"
   },
   {
    "duration": 10,
    "start_time": "2021-11-27T18:07:20.566Z"
   },
   {
    "duration": 5,
    "start_time": "2021-11-27T18:07:48.701Z"
   },
   {
    "duration": 4,
    "start_time": "2021-11-27T18:07:55.676Z"
   },
   {
    "duration": 5,
    "start_time": "2021-11-27T18:08:39.285Z"
   },
   {
    "duration": 4,
    "start_time": "2021-11-27T18:08:47.244Z"
   },
   {
    "duration": 2300,
    "start_time": "2021-11-27T18:14:50.394Z"
   },
   {
    "duration": 5,
    "start_time": "2021-11-27T18:16:08.250Z"
   },
   {
    "duration": 5,
    "start_time": "2021-11-27T18:16:13.442Z"
   },
   {
    "duration": 4,
    "start_time": "2021-11-27T18:16:16.962Z"
   },
   {
    "duration": 5,
    "start_time": "2021-11-27T18:16:19.954Z"
   },
   {
    "duration": 4,
    "start_time": "2021-11-27T18:17:18.361Z"
   },
   {
    "duration": 526,
    "start_time": "2021-11-27T18:17:32.882Z"
   },
   {
    "duration": 6297,
    "start_time": "2021-11-27T18:17:46.450Z"
   },
   {
    "duration": 794,
    "start_time": "2021-11-27T18:19:13.962Z"
   },
   {
    "duration": 3,
    "start_time": "2021-11-27T18:19:44.696Z"
   },
   {
    "duration": 58,
    "start_time": "2021-11-27T18:20:16.416Z"
   },
   {
    "duration": 32,
    "start_time": "2021-11-27T18:20:19.369Z"
   },
   {
    "duration": 4,
    "start_time": "2021-11-27T18:22:03.608Z"
   },
   {
    "duration": 675,
    "start_time": "2021-11-27T18:23:05.583Z"
   },
   {
    "duration": 536,
    "start_time": "2021-11-27T18:23:18.544Z"
   },
   {
    "duration": 5373,
    "start_time": "2021-11-27T18:25:17.289Z"
   },
   {
    "duration": 292,
    "start_time": "2021-11-27T18:25:36.056Z"
   },
   {
    "duration": 605,
    "start_time": "2021-11-27T18:25:53.895Z"
   },
   {
    "duration": 684,
    "start_time": "2021-11-27T18:25:54.503Z"
   },
   {
    "duration": 17,
    "start_time": "2021-11-27T18:25:55.189Z"
   },
   {
    "duration": 8,
    "start_time": "2021-11-27T18:25:55.208Z"
   },
   {
    "duration": 733,
    "start_time": "2021-11-27T18:25:55.217Z"
   },
   {
    "duration": 309,
    "start_time": "2021-11-27T18:29:03.731Z"
   },
   {
    "duration": 3,
    "start_time": "2021-11-27T18:29:17.919Z"
   },
   {
    "duration": 4,
    "start_time": "2021-11-27T18:29:40.499Z"
   },
   {
    "duration": 2069,
    "start_time": "2021-11-27T18:29:40.850Z"
   },
   {
    "duration": 49,
    "start_time": "2021-11-27T18:29:42.921Z"
   },
   {
    "duration": 3,
    "start_time": "2021-11-27T18:29:42.975Z"
   },
   {
    "duration": 501,
    "start_time": "2021-11-27T18:29:42.980Z"
   },
   {
    "duration": 3,
    "start_time": "2021-11-27T18:29:43.562Z"
   },
   {
    "duration": 7,
    "start_time": "2021-11-27T18:29:51.887Z"
   },
   {
    "duration": 5,
    "start_time": "2021-11-27T18:32:24.079Z"
   },
   {
    "duration": 4,
    "start_time": "2021-11-27T18:32:32.921Z"
   },
   {
    "duration": 5,
    "start_time": "2021-11-27T18:32:52.376Z"
   },
   {
    "duration": 3,
    "start_time": "2021-11-27T18:38:29.522Z"
   },
   {
    "duration": 5,
    "start_time": "2021-11-27T18:38:32.383Z"
   },
   {
    "duration": 5,
    "start_time": "2021-11-27T18:38:40.176Z"
   },
   {
    "duration": 5,
    "start_time": "2021-11-27T18:38:41.681Z"
   },
   {
    "duration": 4,
    "start_time": "2021-11-27T18:39:18.608Z"
   },
   {
    "duration": 3,
    "start_time": "2021-11-27T18:39:21.728Z"
   },
   {
    "duration": 4,
    "start_time": "2021-11-27T18:40:13.199Z"
   },
   {
    "duration": 24,
    "start_time": "2021-11-27T18:40:16.551Z"
   },
   {
    "duration": 4,
    "start_time": "2021-11-27T18:40:32.495Z"
   },
   {
    "duration": 4,
    "start_time": "2021-11-27T18:40:36.414Z"
   },
   {
    "duration": 4,
    "start_time": "2021-11-27T18:43:07.838Z"
   },
   {
    "duration": 534,
    "start_time": "2021-11-27T18:51:35.357Z"
   },
   {
    "duration": 3,
    "start_time": "2021-11-27T18:53:50.114Z"
   },
   {
    "duration": 11234,
    "start_time": "2021-11-27T18:57:09.569Z"
   },
   {
    "duration": 6,
    "start_time": "2021-11-27T18:57:50.089Z"
   },
   {
    "duration": 5,
    "start_time": "2021-11-27T18:58:04.736Z"
   },
   {
    "duration": 5,
    "start_time": "2021-11-27T18:58:08.446Z"
   },
   {
    "duration": 4,
    "start_time": "2021-11-27T18:58:30.824Z"
   },
   {
    "duration": 4,
    "start_time": "2021-11-27T18:58:45.920Z"
   },
   {
    "duration": 295,
    "start_time": "2021-11-27T18:59:52.696Z"
   },
   {
    "duration": 266,
    "start_time": "2021-11-27T19:00:12.632Z"
   },
   {
    "duration": 265,
    "start_time": "2021-11-27T19:00:56.791Z"
   },
   {
    "duration": 290,
    "start_time": "2021-11-27T19:02:06.519Z"
   },
   {
    "duration": 7,
    "start_time": "2021-11-27T19:14:13.423Z"
   },
   {
    "duration": 4,
    "start_time": "2021-11-27T19:14:29.768Z"
   },
   {
    "duration": 4,
    "start_time": "2021-11-27T19:16:01.585Z"
   },
   {
    "duration": 3,
    "start_time": "2021-11-27T19:16:55.481Z"
   },
   {
    "duration": 3,
    "start_time": "2021-11-27T19:16:59.760Z"
   },
   {
    "duration": 534,
    "start_time": "2021-11-27T19:17:07.601Z"
   },
   {
    "duration": 473,
    "start_time": "2021-11-27T19:19:29.160Z"
   },
   {
    "duration": 3567,
    "start_time": "2021-11-27T19:19:44.103Z"
   },
   {
    "duration": 2712,
    "start_time": "2021-11-27T19:20:07.920Z"
   },
   {
    "duration": 5,
    "start_time": "2021-11-27T19:21:21.975Z"
   },
   {
    "duration": 653,
    "start_time": "2021-11-27T19:21:37.647Z"
   },
   {
    "duration": 3740,
    "start_time": "2021-11-27T19:21:38.305Z"
   },
   {
    "duration": 23,
    "start_time": "2021-11-27T19:21:42.048Z"
   },
   {
    "duration": 17,
    "start_time": "2021-11-27T19:21:42.074Z"
   },
   {
    "duration": 746,
    "start_time": "2021-11-27T19:21:42.094Z"
   },
   {
    "duration": 4,
    "start_time": "2021-11-27T19:21:42.842Z"
   },
   {
    "duration": 21,
    "start_time": "2021-11-27T19:21:42.848Z"
   },
   {
    "duration": 2259,
    "start_time": "2021-11-27T19:21:42.871Z"
   },
   {
    "duration": 56,
    "start_time": "2021-11-27T19:21:45.133Z"
   },
   {
    "duration": 4,
    "start_time": "2021-11-27T19:21:45.192Z"
   },
   {
    "duration": 6,
    "start_time": "2021-11-27T19:21:46.734Z"
   },
   {
    "duration": 5,
    "start_time": "2021-11-27T19:21:51.535Z"
   },
   {
    "duration": 2666,
    "start_time": "2021-11-27T19:21:54.750Z"
   },
   {
    "duration": 7,
    "start_time": "2021-11-27T19:21:59.486Z"
   },
   {
    "duration": 4,
    "start_time": "2021-11-27T19:24:24.407Z"
   },
   {
    "duration": 4,
    "start_time": "2021-11-27T19:24:30.142Z"
   },
   {
    "duration": 3,
    "start_time": "2021-11-27T19:24:42.254Z"
   },
   {
    "duration": 4,
    "start_time": "2021-11-27T19:24:46.710Z"
   },
   {
    "duration": 3,
    "start_time": "2021-11-27T19:24:48.638Z"
   },
   {
    "duration": 4,
    "start_time": "2021-11-27T19:25:07.925Z"
   },
   {
    "duration": 6,
    "start_time": "2021-11-27T19:25:14.855Z"
   },
   {
    "duration": 3,
    "start_time": "2021-11-27T19:31:37.828Z"
   },
   {
    "duration": 662,
    "start_time": "2021-11-27T19:32:43.607Z"
   },
   {
    "duration": 937,
    "start_time": "2021-11-27T19:32:44.271Z"
   },
   {
    "duration": 9,
    "start_time": "2021-11-27T19:32:46.640Z"
   },
   {
    "duration": 22,
    "start_time": "2021-11-27T19:32:54.088Z"
   },
   {
    "duration": 746,
    "start_time": "2021-11-27T19:33:19.875Z"
   },
   {
    "duration": 648,
    "start_time": "2021-11-27T19:49:21.866Z"
   },
   {
    "duration": 3,
    "start_time": "2021-11-27T19:49:34.306Z"
   },
   {
    "duration": 4,
    "start_time": "2021-11-27T19:49:37.985Z"
   },
   {
    "duration": 24,
    "start_time": "2021-11-27T19:50:18.929Z"
   },
   {
    "duration": 7,
    "start_time": "2021-11-27T19:50:22.818Z"
   },
   {
    "duration": 3,
    "start_time": "2021-11-27T19:50:55.194Z"
   },
   {
    "duration": 4,
    "start_time": "2021-11-27T19:51:25.169Z"
   },
   {
    "duration": 4,
    "start_time": "2021-11-27T19:51:26.745Z"
   },
   {
    "duration": 5,
    "start_time": "2021-11-27T19:51:35.929Z"
   },
   {
    "duration": 8,
    "start_time": "2021-11-27T19:51:36.764Z"
   },
   {
    "duration": 3,
    "start_time": "2021-11-27T19:55:36.856Z"
   },
   {
    "duration": 3,
    "start_time": "2021-11-27T19:55:54.527Z"
   },
   {
    "duration": 2243,
    "start_time": "2021-11-27T19:56:06.880Z"
   },
   {
    "duration": 564,
    "start_time": "2021-11-27T19:56:54.918Z"
   },
   {
    "duration": 668,
    "start_time": "2021-11-27T19:56:55.484Z"
   },
   {
    "duration": 2,
    "start_time": "2021-11-27T19:56:56.154Z"
   },
   {
    "duration": 7,
    "start_time": "2021-11-27T19:58:19.551Z"
   },
   {
    "duration": 9,
    "start_time": "2021-11-27T19:58:32.927Z"
   },
   {
    "duration": 621,
    "start_time": "2021-11-27T20:00:46.699Z"
   },
   {
    "duration": 3,
    "start_time": "2021-11-27T20:01:43.054Z"
   },
   {
    "duration": 8,
    "start_time": "2021-11-27T20:01:46.382Z"
   },
   {
    "duration": 4,
    "start_time": "2021-11-27T20:02:02.494Z"
   },
   {
    "duration": 4,
    "start_time": "2021-11-27T20:02:14.660Z"
   },
   {
    "duration": 3,
    "start_time": "2021-11-27T20:02:50.098Z"
   },
   {
    "duration": 3,
    "start_time": "2021-11-27T20:02:51.093Z"
   },
   {
    "duration": 747,
    "start_time": "2021-11-27T20:04:06.149Z"
   },
   {
    "duration": 5,
    "start_time": "2021-11-27T20:04:18.333Z"
   },
   {
    "duration": 1420,
    "start_time": "2021-11-27T20:04:58.996Z"
   },
   {
    "duration": 349,
    "start_time": "2021-11-27T20:06:57.707Z"
   },
   {
    "duration": 2344,
    "start_time": "2021-11-27T20:06:59.172Z"
   },
   {
    "duration": 6,
    "start_time": "2021-11-27T20:07:01.519Z"
   },
   {
    "duration": 4,
    "start_time": "2021-11-27T20:08:56.218Z"
   },
   {
    "duration": 2873,
    "start_time": "2021-11-27T20:09:06.827Z"
   },
   {
    "duration": 5,
    "start_time": "2021-11-27T20:09:15.171Z"
   },
   {
    "duration": 5,
    "start_time": "2021-11-27T20:12:05.866Z"
   },
   {
    "duration": 5,
    "start_time": "2021-11-27T20:12:23.546Z"
   },
   {
    "duration": 4,
    "start_time": "2021-11-27T20:13:07.666Z"
   },
   {
    "duration": 5,
    "start_time": "2021-11-27T20:13:21.585Z"
   },
   {
    "duration": 5,
    "start_time": "2021-11-27T20:13:30.073Z"
   },
   {
    "duration": 4,
    "start_time": "2021-11-27T20:14:29.601Z"
   },
   {
    "duration": 8,
    "start_time": "2021-11-27T20:14:43.271Z"
   },
   {
    "duration": 4,
    "start_time": "2021-11-27T20:14:55.545Z"
   },
   {
    "duration": 248,
    "start_time": "2021-11-27T20:15:56.457Z"
   },
   {
    "duration": 2,
    "start_time": "2021-11-27T20:15:59.042Z"
   },
   {
    "duration": 4,
    "start_time": "2021-11-27T20:16:00.000Z"
   },
   {
    "duration": 4,
    "start_time": "2021-11-27T20:16:10.432Z"
   },
   {
    "duration": 3,
    "start_time": "2021-11-27T20:17:14.016Z"
   },
   {
    "duration": 5,
    "start_time": "2021-11-27T20:17:21.192Z"
   },
   {
    "duration": 3,
    "start_time": "2021-11-27T20:18:08.128Z"
   },
   {
    "duration": 3,
    "start_time": "2021-11-27T20:18:09.144Z"
   },
   {
    "duration": 8,
    "start_time": "2021-11-27T20:18:17.591Z"
   },
   {
    "duration": 5,
    "start_time": "2021-11-27T20:18:18.703Z"
   },
   {
    "duration": 4,
    "start_time": "2021-11-27T20:18:23.544Z"
   },
   {
    "duration": 5,
    "start_time": "2021-11-27T20:18:29.549Z"
   },
   {
    "duration": 3,
    "start_time": "2021-11-27T20:18:38.223Z"
   },
   {
    "duration": 3,
    "start_time": "2021-11-27T20:23:42.806Z"
   },
   {
    "duration": 4,
    "start_time": "2021-11-27T20:23:46.190Z"
   },
   {
    "duration": 4,
    "start_time": "2021-11-27T20:41:08.048Z"
   },
   {
    "duration": 3,
    "start_time": "2021-11-27T20:41:11.591Z"
   },
   {
    "duration": 362,
    "start_time": "2021-11-27T20:42:02.055Z"
   },
   {
    "duration": 4,
    "start_time": "2021-11-27T20:42:42.087Z"
   },
   {
    "duration": 7,
    "start_time": "2021-11-27T20:44:32.710Z"
   },
   {
    "duration": 4,
    "start_time": "2021-11-27T20:44:41.022Z"
   },
   {
    "duration": 618,
    "start_time": "2021-11-27T20:46:16.528Z"
   },
   {
    "duration": 3405,
    "start_time": "2021-11-27T20:46:17.148Z"
   },
   {
    "duration": 2,
    "start_time": "2021-11-27T20:46:20.556Z"
   },
   {
    "duration": 13,
    "start_time": "2021-11-27T20:46:20.559Z"
   },
   {
    "duration": 12,
    "start_time": "2021-11-27T20:46:25.361Z"
   },
   {
    "duration": 726,
    "start_time": "2021-11-27T20:46:26.808Z"
   },
   {
    "duration": 2501,
    "start_time": "2021-11-27T20:46:30.888Z"
   },
   {
    "duration": 6,
    "start_time": "2021-11-27T20:46:33.392Z"
   },
   {
    "duration": 10,
    "start_time": "2021-11-27T20:46:33.401Z"
   },
   {
    "duration": 2771,
    "start_time": "2021-11-27T20:46:34.328Z"
   },
   {
    "duration": 2,
    "start_time": "2021-11-27T20:46:37.102Z"
   },
   {
    "duration": 11,
    "start_time": "2021-11-27T20:46:37.106Z"
   },
   {
    "duration": 3,
    "start_time": "2021-11-27T20:46:38.080Z"
   },
   {
    "duration": 474,
    "start_time": "2021-11-27T20:46:45.632Z"
   },
   {
    "duration": 378,
    "start_time": "2021-11-27T20:46:47.416Z"
   },
   {
    "duration": 5,
    "start_time": "2021-11-27T20:46:48.167Z"
   },
   {
    "duration": 4,
    "start_time": "2021-11-27T20:46:49.384Z"
   },
   {
    "duration": 6,
    "start_time": "2021-11-27T20:46:52.185Z"
   },
   {
    "duration": 4,
    "start_time": "2021-11-27T20:46:52.424Z"
   },
   {
    "duration": 3,
    "start_time": "2021-11-27T20:46:55.616Z"
   },
   {
    "duration": 3,
    "start_time": "2021-11-27T20:46:57.880Z"
   },
   {
    "duration": 5,
    "start_time": "2021-11-27T20:47:02.986Z"
   },
   {
    "duration": 3,
    "start_time": "2021-11-27T20:47:08.480Z"
   },
   {
    "duration": 4,
    "start_time": "2021-11-27T20:47:10.416Z"
   },
   {
    "duration": 3,
    "start_time": "2021-11-27T20:47:14.547Z"
   },
   {
    "duration": 3,
    "start_time": "2021-11-27T20:54:37.758Z"
   },
   {
    "duration": 592,
    "start_time": "2021-11-27T20:56:07.702Z"
   },
   {
    "duration": 3,
    "start_time": "2021-11-27T20:57:23.471Z"
   },
   {
    "duration": 262,
    "start_time": "2021-11-27T20:57:46.941Z"
   },
   {
    "duration": 4,
    "start_time": "2021-11-27T20:58:05.285Z"
   },
   {
    "duration": 583,
    "start_time": "2021-11-27T21:01:53.985Z"
   },
   {
    "duration": 663,
    "start_time": "2021-11-27T21:01:54.570Z"
   },
   {
    "duration": 3,
    "start_time": "2021-11-27T21:01:55.236Z"
   },
   {
    "duration": 7,
    "start_time": "2021-11-27T21:01:56.377Z"
   },
   {
    "duration": 2299,
    "start_time": "2021-11-27T21:02:03.664Z"
   },
   {
    "duration": 3,
    "start_time": "2021-11-27T21:02:07.081Z"
   },
   {
    "duration": 304,
    "start_time": "2021-11-27T21:02:11.248Z"
   },
   {
    "duration": 3,
    "start_time": "2021-11-27T21:02:25.898Z"
   },
   {
    "duration": 2808,
    "start_time": "2021-11-27T21:02:28.366Z"
   },
   {
    "duration": 3,
    "start_time": "2021-11-27T21:02:32.320Z"
   },
   {
    "duration": 5,
    "start_time": "2021-11-27T21:02:34.760Z"
   },
   {
    "duration": 4,
    "start_time": "2021-11-27T21:02:36.626Z"
   },
   {
    "duration": 581,
    "start_time": "2021-11-27T21:02:58.114Z"
   },
   {
    "duration": 265,
    "start_time": "2021-11-27T21:02:59.585Z"
   },
   {
    "duration": 438,
    "start_time": "2021-11-27T21:03:04.233Z"
   },
   {
    "duration": 6,
    "start_time": "2021-11-27T21:03:06.592Z"
   },
   {
    "duration": 3,
    "start_time": "2021-11-27T21:03:17.392Z"
   },
   {
    "duration": 4,
    "start_time": "2021-11-27T21:03:19.609Z"
   },
   {
    "duration": 337,
    "start_time": "2021-11-27T21:03:21.369Z"
   },
   {
    "duration": 3,
    "start_time": "2021-11-27T21:14:56.830Z"
   },
   {
    "duration": 7,
    "start_time": "2021-11-27T21:14:58.581Z"
   },
   {
    "duration": 6,
    "start_time": "2021-11-27T21:15:17.204Z"
   },
   {
    "duration": 4,
    "start_time": "2021-11-27T21:19:36.501Z"
   },
   {
    "duration": 3,
    "start_time": "2021-11-27T21:19:52.082Z"
   },
   {
    "duration": 3,
    "start_time": "2021-11-27T21:19:55.859Z"
   },
   {
    "duration": 4,
    "start_time": "2021-11-27T21:19:57.187Z"
   },
   {
    "duration": 5,
    "start_time": "2021-11-27T21:19:57.457Z"
   },
   {
    "duration": 3,
    "start_time": "2021-11-27T21:19:59.451Z"
   },
   {
    "duration": 3,
    "start_time": "2021-11-27T21:20:01.225Z"
   },
   {
    "duration": 3,
    "start_time": "2021-11-27T21:50:03.465Z"
   },
   {
    "duration": 2,
    "start_time": "2021-11-27T22:03:11.462Z"
   },
   {
    "duration": 3,
    "start_time": "2021-11-27T22:03:14.005Z"
   },
   {
    "duration": 850,
    "start_time": "2021-11-27T22:03:26.917Z"
   },
   {
    "duration": 5,
    "start_time": "2021-11-27T22:03:31.173Z"
   },
   {
    "duration": 584,
    "start_time": "2021-11-27T22:04:14.481Z"
   },
   {
    "duration": 660,
    "start_time": "2021-11-27T22:04:15.067Z"
   },
   {
    "duration": 3,
    "start_time": "2021-11-27T22:04:15.729Z"
   },
   {
    "duration": 19,
    "start_time": "2021-11-27T22:04:15.734Z"
   },
   {
    "duration": 593,
    "start_time": "2021-11-27T22:04:15.755Z"
   },
   {
    "duration": 2298,
    "start_time": "2021-11-27T22:04:16.350Z"
   },
   {
    "duration": 11,
    "start_time": "2021-11-27T22:04:18.650Z"
   },
   {
    "duration": 6,
    "start_time": "2021-11-27T22:04:18.663Z"
   },
   {
    "duration": 844,
    "start_time": "2021-11-27T22:04:18.672Z"
   },
   {
    "duration": 9,
    "start_time": "2021-11-27T22:04:19.519Z"
   },
   {
    "duration": 3,
    "start_time": "2021-11-27T22:05:46.716Z"
   },
   {
    "duration": 676,
    "start_time": "2021-11-27T22:05:48.440Z"
   },
   {
    "duration": 5,
    "start_time": "2021-11-27T22:06:04.272Z"
   },
   {
    "duration": 6,
    "start_time": "2021-11-27T22:06:14.312Z"
   },
   {
    "duration": 3,
    "start_time": "2021-11-27T22:06:31.704Z"
   },
   {
    "duration": 2614,
    "start_time": "2021-11-27T22:06:32.135Z"
   },
   {
    "duration": 7,
    "start_time": "2021-11-27T22:06:41.136Z"
   },
   {
    "duration": 590,
    "start_time": "2021-11-27T22:09:01.219Z"
   },
   {
    "duration": 680,
    "start_time": "2021-11-27T22:09:01.811Z"
   },
   {
    "duration": 2,
    "start_time": "2021-11-27T22:09:02.493Z"
   },
   {
    "duration": 638,
    "start_time": "2021-11-27T22:09:02.497Z"
   },
   {
    "duration": 2311,
    "start_time": "2021-11-27T22:09:03.137Z"
   },
   {
    "duration": 7,
    "start_time": "2021-11-27T22:09:05.450Z"
   },
   {
    "duration": 4,
    "start_time": "2021-11-27T22:09:05.463Z"
   },
   {
    "duration": 2550,
    "start_time": "2021-11-27T22:09:09.594Z"
   },
   {
    "duration": 10,
    "start_time": "2021-11-27T22:09:17.554Z"
   },
   {
    "duration": 4,
    "start_time": "2021-11-27T22:12:19.913Z"
   },
   {
    "duration": 4,
    "start_time": "2021-11-27T22:12:35.968Z"
   },
   {
    "duration": 3,
    "start_time": "2021-11-27T22:13:43.609Z"
   },
   {
    "duration": 4,
    "start_time": "2021-11-27T22:13:45.200Z"
   },
   {
    "duration": 337,
    "start_time": "2021-11-27T22:17:31.385Z"
   },
   {
    "duration": 1222,
    "start_time": "2021-11-27T22:17:38.309Z"
   },
   {
    "duration": 947,
    "start_time": "2021-11-27T22:17:39.534Z"
   },
   {
    "duration": 4,
    "start_time": "2021-11-27T22:17:40.483Z"
   },
   {
    "duration": 6,
    "start_time": "2021-11-27T22:17:40.489Z"
   },
   {
    "duration": 2750,
    "start_time": "2021-11-27T22:17:40.497Z"
   },
   {
    "duration": 13,
    "start_time": "2021-11-27T22:17:43.250Z"
   },
   {
    "duration": 5,
    "start_time": "2021-11-27T22:17:45.123Z"
   },
   {
    "duration": 45086,
    "start_time": "2021-11-27T22:17:45.546Z"
   },
   {
    "duration": 11,
    "start_time": "2021-11-27T22:19:24.170Z"
   },
   {
    "duration": 386,
    "start_time": "2021-11-27T22:23:40.049Z"
   },
   {
    "duration": 4,
    "start_time": "2021-11-27T22:23:49.184Z"
   },
   {
    "duration": 3,
    "start_time": "2021-11-27T22:23:58.326Z"
   },
   {
    "duration": 247,
    "start_time": "2021-11-27T22:24:13.632Z"
   },
   {
    "duration": 3,
    "start_time": "2021-11-27T22:25:02.184Z"
   },
   {
    "duration": 4,
    "start_time": "2021-11-27T22:25:11.152Z"
   },
   {
    "duration": 3,
    "start_time": "2021-11-27T22:25:42.431Z"
   },
   {
    "duration": 5,
    "start_time": "2021-11-27T22:25:51.647Z"
   },
   {
    "duration": 243,
    "start_time": "2021-11-27T22:27:36.373Z"
   },
   {
    "duration": 3,
    "start_time": "2021-11-27T22:27:55.703Z"
   },
   {
    "duration": 4,
    "start_time": "2021-11-27T22:27:56.067Z"
   },
   {
    "duration": 4,
    "start_time": "2021-11-27T22:28:04.510Z"
   },
   {
    "duration": 4,
    "start_time": "2021-11-27T22:28:09.287Z"
   },
   {
    "duration": 4,
    "start_time": "2021-11-27T22:28:18.715Z"
   },
   {
    "duration": 3,
    "start_time": "2021-11-27T22:28:26.359Z"
   },
   {
    "duration": 4,
    "start_time": "2021-11-27T22:28:27.823Z"
   },
   {
    "duration": 4,
    "start_time": "2021-11-27T22:28:39.911Z"
   },
   {
    "duration": 4,
    "start_time": "2021-11-27T22:29:27.009Z"
   },
   {
    "duration": 5,
    "start_time": "2021-11-27T22:29:37.710Z"
   },
   {
    "duration": 122,
    "start_time": "2021-11-27T22:30:15.270Z"
   },
   {
    "duration": 5,
    "start_time": "2021-11-27T22:30:25.910Z"
   },
   {
    "duration": 4,
    "start_time": "2021-11-27T22:31:51.509Z"
   },
   {
    "duration": 11,
    "start_time": "2021-11-27T22:32:08.245Z"
   },
   {
    "duration": 6,
    "start_time": "2021-11-27T22:32:19.302Z"
   },
   {
    "duration": 4,
    "start_time": "2021-11-27T22:32:24.461Z"
   },
   {
    "duration": 12,
    "start_time": "2021-11-27T22:37:06.996Z"
   },
   {
    "duration": 3,
    "start_time": "2021-11-27T22:37:23.131Z"
   },
   {
    "duration": 5,
    "start_time": "2021-11-27T22:37:26.147Z"
   },
   {
    "duration": 4,
    "start_time": "2021-11-27T22:38:26.809Z"
   },
   {
    "duration": 4,
    "start_time": "2021-11-27T22:38:33.477Z"
   },
   {
    "duration": 3,
    "start_time": "2021-11-27T22:38:39.611Z"
   },
   {
    "duration": 4,
    "start_time": "2021-11-27T22:38:40.307Z"
   },
   {
    "duration": 5,
    "start_time": "2021-11-27T22:52:25.901Z"
   },
   {
    "duration": 6,
    "start_time": "2021-11-27T22:52:29.631Z"
   },
   {
    "duration": 4,
    "start_time": "2021-11-27T22:52:41.319Z"
   },
   {
    "duration": 5,
    "start_time": "2021-11-27T22:54:58.022Z"
   },
   {
    "duration": 4,
    "start_time": "2021-11-27T22:54:59.061Z"
   },
   {
    "duration": 4,
    "start_time": "2021-11-27T22:55:02.990Z"
   },
   {
    "duration": 10,
    "start_time": "2021-11-27T22:55:03.325Z"
   },
   {
    "duration": 7,
    "start_time": "2021-11-27T22:55:03.710Z"
   },
   {
    "duration": 5,
    "start_time": "2021-11-27T22:55:13.478Z"
   },
   {
    "duration": 23,
    "start_time": "2021-11-27T23:01:27.874Z"
   },
   {
    "duration": 3,
    "start_time": "2021-11-27T23:02:43.708Z"
   },
   {
    "duration": 252,
    "start_time": "2021-11-27T23:05:40.160Z"
   },
   {
    "duration": 4,
    "start_time": "2021-11-27T23:07:10.402Z"
   },
   {
    "duration": 4,
    "start_time": "2021-11-27T23:07:15.985Z"
   },
   {
    "duration": 76,
    "start_time": "2021-11-27T23:07:59.300Z"
   },
   {
    "duration": 4,
    "start_time": "2021-11-27T23:08:10.266Z"
   },
   {
    "duration": 3,
    "start_time": "2021-11-27T23:08:17.178Z"
   },
   {
    "duration": 9,
    "start_time": "2021-11-27T23:08:59.577Z"
   },
   {
    "duration": 244,
    "start_time": "2021-11-27T23:10:38.305Z"
   },
   {
    "duration": 4,
    "start_time": "2021-11-27T23:10:44.614Z"
   },
   {
    "duration": 4,
    "start_time": "2021-11-27T23:11:14.426Z"
   },
   {
    "duration": 5,
    "start_time": "2021-11-27T23:11:27.472Z"
   },
   {
    "duration": 3,
    "start_time": "2021-11-27T23:11:27.672Z"
   },
   {
    "duration": 3,
    "start_time": "2021-11-27T23:11:28.992Z"
   },
   {
    "duration": 9,
    "start_time": "2021-11-27T23:11:29.201Z"
   },
   {
    "duration": 6,
    "start_time": "2021-11-27T23:11:29.960Z"
   },
   {
    "duration": 4,
    "start_time": "2021-11-27T23:11:41.480Z"
   },
   {
    "duration": 4,
    "start_time": "2021-11-27T23:11:46.743Z"
   },
   {
    "duration": 284,
    "start_time": "2021-11-27T23:12:02.745Z"
   },
   {
    "duration": 1214,
    "start_time": "2021-11-27T23:12:24.159Z"
   },
   {
    "duration": 660,
    "start_time": "2021-11-27T23:12:25.375Z"
   },
   {
    "duration": 3,
    "start_time": "2021-11-27T23:12:26.037Z"
   },
   {
    "duration": 2379,
    "start_time": "2021-11-27T23:12:34.497Z"
   },
   {
    "duration": 3,
    "start_time": "2021-11-27T23:12:38.553Z"
   },
   {
    "duration": 4,
    "start_time": "2021-11-27T23:12:40.656Z"
   },
   {
    "duration": 50337,
    "start_time": "2021-11-27T23:12:46.089Z"
   },
   {
    "duration": 4,
    "start_time": "2021-11-27T23:13:45.663Z"
   },
   {
    "duration": 279,
    "start_time": "2021-11-27T23:13:47.191Z"
   },
   {
    "duration": 6,
    "start_time": "2021-11-27T23:13:47.472Z"
   },
   {
    "duration": 4,
    "start_time": "2021-11-27T23:13:48.301Z"
   },
   {
    "duration": 19,
    "start_time": "2021-11-27T23:13:48.308Z"
   },
   {
    "duration": 6,
    "start_time": "2021-11-27T23:13:48.331Z"
   },
   {
    "duration": 10,
    "start_time": "2021-11-27T23:14:10.320Z"
   },
   {
    "duration": 375,
    "start_time": "2021-11-27T23:26:14.778Z"
   },
   {
    "duration": 257,
    "start_time": "2021-11-27T23:26:46.091Z"
   },
   {
    "duration": 6,
    "start_time": "2021-11-27T23:27:13.245Z"
   },
   {
    "duration": 4,
    "start_time": "2021-11-27T23:27:19.843Z"
   },
   {
    "duration": 256,
    "start_time": "2021-11-27T23:27:32.555Z"
   },
   {
    "duration": 5,
    "start_time": "2021-11-27T23:28:38.354Z"
   },
   {
    "duration": 3,
    "start_time": "2021-11-27T23:28:50.956Z"
   },
   {
    "duration": 256,
    "start_time": "2021-11-27T23:28:52.731Z"
   },
   {
    "duration": 5,
    "start_time": "2021-11-27T23:29:12.434Z"
   },
   {
    "duration": 254,
    "start_time": "2021-11-27T23:29:14.403Z"
   },
   {
    "duration": 260,
    "start_time": "2021-11-27T23:29:34.146Z"
   },
   {
    "duration": 4,
    "start_time": "2021-11-27T23:29:52.178Z"
   },
   {
    "duration": 293,
    "start_time": "2021-11-27T23:29:56.961Z"
   },
   {
    "duration": 255,
    "start_time": "2021-11-27T23:30:01.362Z"
   },
   {
    "duration": 400,
    "start_time": "2021-11-27T23:30:03.842Z"
   },
   {
    "duration": 4,
    "start_time": "2021-11-27T23:30:06.636Z"
   },
   {
    "duration": 5,
    "start_time": "2021-11-27T23:30:19.545Z"
   },
   {
    "duration": 5,
    "start_time": "2021-11-27T23:32:00.441Z"
   },
   {
    "duration": 5,
    "start_time": "2021-11-27T23:32:06.434Z"
   },
   {
    "duration": 4,
    "start_time": "2021-11-27T23:32:09.273Z"
   },
   {
    "duration": 81,
    "start_time": "2021-11-27T23:34:02.442Z"
   },
   {
    "duration": 5,
    "start_time": "2021-11-27T23:34:06.920Z"
   },
   {
    "duration": 2,
    "start_time": "2021-11-27T23:34:15.408Z"
   },
   {
    "duration": 6,
    "start_time": "2021-11-27T23:34:18.840Z"
   },
   {
    "duration": 276,
    "start_time": "2021-11-27T23:34:51.808Z"
   },
   {
    "duration": 5,
    "start_time": "2021-11-27T23:36:30.503Z"
   },
   {
    "duration": 4,
    "start_time": "2021-11-27T23:36:38.384Z"
   },
   {
    "duration": 277,
    "start_time": "2021-11-27T23:36:44.512Z"
   },
   {
    "duration": 4,
    "start_time": "2021-11-27T23:36:46.895Z"
   },
   {
    "duration": 3,
    "start_time": "2021-11-27T23:36:48.423Z"
   },
   {
    "duration": 4,
    "start_time": "2021-11-27T23:38:16.134Z"
   },
   {
    "duration": 272,
    "start_time": "2021-11-27T23:38:19.878Z"
   },
   {
    "duration": 5,
    "start_time": "2021-11-27T23:38:47.399Z"
   },
   {
    "duration": 1293,
    "start_time": "2021-11-27T23:38:57.452Z"
   },
   {
    "duration": 665,
    "start_time": "2021-11-27T23:38:59.074Z"
   },
   {
    "duration": 2,
    "start_time": "2021-11-27T23:38:59.741Z"
   },
   {
    "duration": 2423,
    "start_time": "2021-11-27T23:39:02.498Z"
   },
   {
    "duration": 6,
    "start_time": "2021-11-27T23:39:04.923Z"
   },
   {
    "duration": 4,
    "start_time": "2021-11-27T23:39:05.418Z"
   },
   {
    "duration": 45702,
    "start_time": "2021-11-27T23:39:05.867Z"
   },
   {
    "duration": 5,
    "start_time": "2021-11-27T23:39:51.571Z"
   },
   {
    "duration": 147,
    "start_time": "2021-11-27T23:39:51.578Z"
   },
   {
    "duration": 4,
    "start_time": "2021-11-27T23:39:51.727Z"
   },
   {
    "duration": 20,
    "start_time": "2021-11-27T23:39:51.733Z"
   },
   {
    "duration": 23,
    "start_time": "2021-11-27T23:39:51.754Z"
   },
   {
    "duration": 19,
    "start_time": "2021-11-27T23:39:51.778Z"
   },
   {
    "duration": 11,
    "start_time": "2021-11-27T23:39:51.800Z"
   },
   {
    "duration": 11,
    "start_time": "2021-11-27T23:39:51.813Z"
   },
   {
    "duration": 5,
    "start_time": "2021-11-27T23:40:51.641Z"
   },
   {
    "duration": 20,
    "start_time": "2021-11-27T23:41:16.593Z"
   },
   {
    "duration": 7,
    "start_time": "2021-11-27T23:41:19.602Z"
   },
   {
    "duration": 6,
    "start_time": "2021-11-27T23:43:38.009Z"
   },
   {
    "duration": 7,
    "start_time": "2021-11-27T23:43:55.408Z"
   },
   {
    "duration": 1316,
    "start_time": "2021-11-27T23:50:18.575Z"
   },
   {
    "duration": 671,
    "start_time": "2021-11-27T23:50:19.893Z"
   },
   {
    "duration": 3,
    "start_time": "2021-11-27T23:50:20.566Z"
   },
   {
    "duration": 2426,
    "start_time": "2021-11-27T23:50:20.571Z"
   },
   {
    "duration": 20,
    "start_time": "2021-11-27T23:50:22.999Z"
   },
   {
    "duration": 29,
    "start_time": "2021-11-27T23:50:23.020Z"
   },
   {
    "duration": 946151,
    "start_time": "2021-11-27T23:50:23.051Z"
   },
   {
    "duration": 8,
    "start_time": "2021-11-28T00:06:09.205Z"
   },
   {
    "duration": 238,
    "start_time": "2021-11-28T00:06:09.217Z"
   },
   {
    "duration": 5,
    "start_time": "2021-11-28T00:06:09.458Z"
   },
   {
    "duration": 11,
    "start_time": "2021-11-28T00:06:09.466Z"
   },
   {
    "duration": 120,
    "start_time": "2021-11-28T00:06:09.479Z"
   },
   {
    "duration": 7,
    "start_time": "2021-11-28T00:06:09.601Z"
   },
   {
    "duration": 153,
    "start_time": "2021-11-28T00:06:09.609Z"
   },
   {
    "duration": 7,
    "start_time": "2021-11-28T00:06:09.765Z"
   },
   {
    "duration": 32,
    "start_time": "2021-11-28T00:06:09.774Z"
   },
   {
    "duration": 131,
    "start_time": "2021-11-28T00:06:09.808Z"
   },
   {
    "duration": 7,
    "start_time": "2021-11-28T00:06:09.941Z"
   },
   {
    "duration": 38,
    "start_time": "2021-11-28T00:06:09.950Z"
   },
   {
    "duration": 39,
    "start_time": "2021-11-28T00:06:09.990Z"
   },
   {
    "duration": 1268,
    "start_time": "2021-11-28T00:11:40.268Z"
   },
   {
    "duration": 657,
    "start_time": "2021-11-28T00:11:41.538Z"
   },
   {
    "duration": 2,
    "start_time": "2021-11-28T00:11:42.197Z"
   },
   {
    "duration": 2381,
    "start_time": "2021-11-28T00:11:42.201Z"
   },
   {
    "duration": 6,
    "start_time": "2021-11-28T00:11:44.584Z"
   },
   {
    "duration": 6,
    "start_time": "2021-11-28T00:11:44.592Z"
   },
   {
    "duration": 9697807,
    "start_time": "2021-11-28T00:11:44.599Z"
   },
   {
    "duration": 3,
    "start_time": "2021-11-28T02:53:22.409Z"
   },
   {
    "duration": 149,
    "start_time": "2021-11-28T02:53:22.415Z"
   },
   {
    "duration": 5,
    "start_time": "2021-11-28T02:53:22.566Z"
   },
   {
    "duration": 5,
    "start_time": "2021-11-28T02:53:22.573Z"
   },
   {
    "duration": 602,
    "start_time": "2021-11-28T02:53:22.579Z"
   },
   {
    "duration": 355,
    "start_time": "2021-11-28T02:53:23.184Z"
   },
   {
    "duration": -132,
    "start_time": "2021-11-28T02:53:23.673Z"
   },
   {
    "duration": -139,
    "start_time": "2021-11-28T02:53:23.681Z"
   },
   {
    "duration": -139,
    "start_time": "2021-11-28T02:53:23.682Z"
   },
   {
    "duration": -139,
    "start_time": "2021-11-28T02:53:23.683Z"
   },
   {
    "duration": -139,
    "start_time": "2021-11-28T02:53:23.684Z"
   },
   {
    "duration": -142,
    "start_time": "2021-11-28T02:53:23.688Z"
   },
   {
    "duration": 241,
    "start_time": "2021-11-28T03:03:39.656Z"
   },
   {
    "duration": 3,
    "start_time": "2021-11-28T03:05:43.495Z"
   },
   {
    "duration": 6,
    "start_time": "2021-11-28T03:05:44.047Z"
   },
   {
    "duration": 4,
    "start_time": "2021-11-28T03:05:44.550Z"
   },
   {
    "duration": 7,
    "start_time": "2021-11-28T03:05:44.870Z"
   },
   {
    "duration": 612,
    "start_time": "2021-11-28T03:05:45.263Z"
   },
   {
    "duration": 8,
    "start_time": "2021-11-28T03:05:45.877Z"
   },
   {
    "duration": 5334,
    "start_time": "2021-11-28T03:05:55.983Z"
   },
   {
    "duration": 6,
    "start_time": "2021-11-28T03:06:04.487Z"
   },
   {
    "duration": 2372,
    "start_time": "2021-11-28T03:06:08.855Z"
   },
   {
    "duration": 6,
    "start_time": "2021-11-28T03:06:11.229Z"
   },
   {
    "duration": 1103,
    "start_time": "2021-11-28T03:06:18.871Z"
   },
   {
    "duration": 7,
    "start_time": "2021-11-28T03:06:20.065Z"
   },
   {
    "duration": 760,
    "start_time": "2021-11-28T03:11:03.381Z"
   },
   {
    "duration": 479,
    "start_time": "2021-11-28T03:11:47.285Z"
   },
   {
    "duration": 5350,
    "start_time": "2021-11-28T03:12:05.477Z"
   },
   {
    "duration": 261,
    "start_time": "2021-11-28T03:12:25.436Z"
   },
   {
    "duration": 6,
    "start_time": "2021-11-28T03:12:38.999Z"
   },
   {
    "duration": 6,
    "start_time": "2021-11-28T03:12:44.124Z"
   },
   {
    "duration": 3,
    "start_time": "2021-11-28T03:13:23.684Z"
   },
   {
    "duration": 5,
    "start_time": "2021-11-28T03:13:28.812Z"
   },
   {
    "duration": 257,
    "start_time": "2021-11-28T03:13:40.812Z"
   },
   {
    "duration": 280,
    "start_time": "2021-11-28T03:13:46.700Z"
   },
   {
    "duration": 3,
    "start_time": "2021-11-28T03:14:34.740Z"
   },
   {
    "duration": 239,
    "start_time": "2021-11-28T03:14:35.747Z"
   },
   {
    "duration": 3,
    "start_time": "2021-11-28T03:14:48.012Z"
   },
   {
    "duration": 272,
    "start_time": "2021-11-28T03:14:49.659Z"
   },
   {
    "duration": 5423,
    "start_time": "2021-11-28T03:16:10.620Z"
   },
   {
    "duration": 287,
    "start_time": "2021-11-28T03:16:20.572Z"
   },
   {
    "duration": 2424,
    "start_time": "2021-11-28T03:16:26.787Z"
   },
   {
    "duration": 244,
    "start_time": "2021-11-28T03:16:29.213Z"
   },
   {
    "duration": 1078,
    "start_time": "2021-11-28T03:16:31.691Z"
   },
   {
    "duration": 238,
    "start_time": "2021-11-28T03:16:33.795Z"
   },
   {
    "duration": 244,
    "start_time": "2021-11-28T03:17:00.595Z"
   },
   {
    "duration": 340,
    "start_time": "2021-11-28T19:43:22.953Z"
   },
   {
    "duration": 1645,
    "start_time": "2021-11-28T19:44:15.556Z"
   },
   {
    "duration": 1500,
    "start_time": "2021-11-28T19:44:17.204Z"
   },
   {
    "duration": 4,
    "start_time": "2021-11-28T19:44:19.917Z"
   },
   {
    "duration": 4,
    "start_time": "2021-11-28T19:44:27.837Z"
   },
   {
    "duration": 2872,
    "start_time": "2021-11-28T19:44:31.288Z"
   },
   {
    "duration": 5,
    "start_time": "2021-11-28T19:44:34.168Z"
   },
   {
    "duration": 7,
    "start_time": "2021-11-28T19:46:00.706Z"
   },
   {
    "duration": 2122,
    "start_time": "2021-11-28T19:46:23.061Z"
   },
   {
    "duration": 15,
    "start_time": "2021-11-28T19:46:32.444Z"
   },
   {
    "duration": 4,
    "start_time": "2021-11-28T19:48:08.564Z"
   },
   {
    "duration": 369,
    "start_time": "2021-11-28T19:48:22.674Z"
   },
   {
    "duration": 831,
    "start_time": "2021-11-28T19:48:42.304Z"
   },
   {
    "duration": 4,
    "start_time": "2021-11-28T19:48:43.137Z"
   },
   {
    "duration": 1752,
    "start_time": "2021-11-28T19:50:56.537Z"
   },
   {
    "duration": 1422,
    "start_time": "2021-11-28T19:50:58.293Z"
   },
   {
    "duration": 4,
    "start_time": "2021-11-28T19:50:59.718Z"
   },
   {
    "duration": 3105,
    "start_time": "2021-11-28T19:51:04.514Z"
   },
   {
    "duration": 5,
    "start_time": "2021-11-28T19:51:07.622Z"
   },
   {
    "duration": 6,
    "start_time": "2021-11-28T19:51:07.758Z"
   },
   {
    "duration": 2297,
    "start_time": "2021-11-28T19:51:16.299Z"
   },
   {
    "duration": 5,
    "start_time": "2021-11-28T19:51:32.656Z"
   },
   {
    "duration": 170,
    "start_time": "2021-11-28T19:51:33.777Z"
   },
   {
    "duration": 11,
    "start_time": "2021-11-28T19:51:35.048Z"
   },
   {
    "duration": 5,
    "start_time": "2021-11-28T19:51:37.200Z"
   },
   {
    "duration": 41,
    "start_time": "2021-11-28T19:51:37.618Z"
   },
   {
    "duration": 10,
    "start_time": "2021-11-28T19:51:37.955Z"
   },
   {
    "duration": 13,
    "start_time": "2021-11-28T19:51:45.628Z"
   },
   {
    "duration": 11,
    "start_time": "2021-11-28T19:51:49.551Z"
   },
   {
    "duration": 8,
    "start_time": "2021-11-28T19:51:50.707Z"
   },
   {
    "duration": 608,
    "start_time": "2021-11-28T19:52:02.759Z"
   },
   {
    "duration": 10,
    "start_time": "2021-11-28T19:52:15.428Z"
   },
   {
    "duration": 268,
    "start_time": "2021-11-28T19:52:18.572Z"
   },
   {
    "duration": 1765,
    "start_time": "2021-11-28T19:55:03.950Z"
   },
   {
    "duration": 858,
    "start_time": "2021-11-28T19:55:05.718Z"
   },
   {
    "duration": 4,
    "start_time": "2021-11-28T19:55:06.580Z"
   },
   {
    "duration": 3047,
    "start_time": "2021-11-28T19:55:06.588Z"
   },
   {
    "duration": 7,
    "start_time": "2021-11-28T19:55:09.637Z"
   },
   {
    "duration": 21,
    "start_time": "2021-11-28T19:55:09.647Z"
   },
   {
    "duration": 2937,
    "start_time": "2021-11-28T19:55:09.672Z"
   },
   {
    "duration": 6,
    "start_time": "2021-11-28T19:55:12.613Z"
   },
   {
    "duration": 126,
    "start_time": "2021-11-28T19:55:12.623Z"
   },
   {
    "duration": 6,
    "start_time": "2021-11-28T19:55:12.752Z"
   },
   {
    "duration": 8,
    "start_time": "2021-11-28T19:55:12.760Z"
   },
   {
    "duration": 24,
    "start_time": "2021-11-28T19:55:12.771Z"
   },
   {
    "duration": 7,
    "start_time": "2021-11-28T19:55:12.798Z"
   },
   {
    "duration": 478,
    "start_time": "2021-11-28T19:55:12.808Z"
   },
   {
    "duration": 1713,
    "start_time": "2021-11-28T19:57:09.272Z"
   },
   {
    "duration": 1032,
    "start_time": "2021-11-28T19:57:10.989Z"
   },
   {
    "duration": 4,
    "start_time": "2021-11-28T19:57:12.024Z"
   },
   {
    "duration": 2948,
    "start_time": "2021-11-28T19:57:12.031Z"
   },
   {
    "duration": 19,
    "start_time": "2021-11-28T19:57:14.982Z"
   },
   {
    "duration": 22,
    "start_time": "2021-11-28T19:57:15.004Z"
   },
   {
    "duration": 2219,
    "start_time": "2021-11-28T19:57:15.028Z"
   },
   {
    "duration": 5,
    "start_time": "2021-11-28T19:57:17.249Z"
   },
   {
    "duration": 168,
    "start_time": "2021-11-28T19:57:17.268Z"
   },
   {
    "duration": 5,
    "start_time": "2021-11-28T19:57:17.438Z"
   },
   {
    "duration": 7,
    "start_time": "2021-11-28T19:57:17.446Z"
   },
   {
    "duration": 26,
    "start_time": "2021-11-28T19:57:17.456Z"
   },
   {
    "duration": 10,
    "start_time": "2021-11-28T19:57:17.486Z"
   },
   {
    "duration": 606,
    "start_time": "2021-11-28T19:57:17.499Z"
   },
   {
    "duration": 6,
    "start_time": "2021-11-28T20:32:48.577Z"
   },
   {
    "duration": 1539,
    "start_time": "2021-11-28T20:38:13.515Z"
   },
   {
    "duration": 1319,
    "start_time": "2021-11-28T20:38:15.056Z"
   },
   {
    "duration": 3,
    "start_time": "2021-11-28T20:38:16.378Z"
   },
   {
    "duration": 2905,
    "start_time": "2021-11-28T20:38:16.385Z"
   },
   {
    "duration": 8,
    "start_time": "2021-11-28T20:38:19.293Z"
   },
   {
    "duration": 7,
    "start_time": "2021-11-28T20:38:19.304Z"
   },
   {
    "duration": 2168,
    "start_time": "2021-11-28T20:38:19.314Z"
   },
   {
    "duration": 5,
    "start_time": "2021-11-28T20:38:21.485Z"
   },
   {
    "duration": 226,
    "start_time": "2021-11-28T20:38:21.494Z"
   },
   {
    "duration": 5,
    "start_time": "2021-11-28T20:38:21.723Z"
   },
   {
    "duration": 5,
    "start_time": "2021-11-28T20:38:21.731Z"
   },
   {
    "duration": 23,
    "start_time": "2021-11-28T20:38:21.739Z"
   },
   {
    "duration": 8,
    "start_time": "2021-11-28T20:38:21.765Z"
   },
   {
    "duration": 569,
    "start_time": "2021-11-28T20:38:21.776Z"
   },
   {
    "duration": 2192,
    "start_time": "2021-11-28T20:43:32.092Z"
   },
   {
    "duration": 881,
    "start_time": "2021-11-28T20:43:34.287Z"
   },
   {
    "duration": 4,
    "start_time": "2021-11-28T20:43:35.172Z"
   },
   {
    "duration": 3150,
    "start_time": "2021-11-28T20:43:35.179Z"
   },
   {
    "duration": 8,
    "start_time": "2021-11-28T20:43:38.332Z"
   },
   {
    "duration": 8,
    "start_time": "2021-11-28T20:43:38.342Z"
   },
   {
    "duration": 2311,
    "start_time": "2021-11-28T20:43:38.368Z"
   },
   {
    "duration": 5,
    "start_time": "2021-11-28T20:43:40.684Z"
   },
   {
    "duration": 240,
    "start_time": "2021-11-28T20:43:40.691Z"
   },
   {
    "duration": 5,
    "start_time": "2021-11-28T20:43:40.933Z"
   },
   {
    "duration": 7,
    "start_time": "2021-11-28T20:43:40.940Z"
   },
   {
    "duration": 23,
    "start_time": "2021-11-28T20:43:40.949Z"
   },
   {
    "duration": 8,
    "start_time": "2021-11-28T20:43:40.975Z"
   },
   {
    "duration": 250,
    "start_time": "2021-11-28T20:43:40.986Z"
   },
   {
    "duration": 1574,
    "start_time": "2021-11-28T20:44:36.916Z"
   },
   {
    "duration": 838,
    "start_time": "2021-11-28T20:44:38.495Z"
   },
   {
    "duration": 4,
    "start_time": "2021-11-28T20:44:39.336Z"
   },
   {
    "duration": 3038,
    "start_time": "2021-11-28T20:44:39.343Z"
   },
   {
    "duration": 7,
    "start_time": "2021-11-28T20:44:42.384Z"
   },
   {
    "duration": 5,
    "start_time": "2021-11-28T20:44:42.394Z"
   },
   {
    "duration": 2242,
    "start_time": "2021-11-28T20:44:42.402Z"
   },
   {
    "duration": 4,
    "start_time": "2021-11-28T20:44:44.647Z"
   },
   {
    "duration": 162,
    "start_time": "2021-11-28T20:44:44.653Z"
   },
   {
    "duration": 5,
    "start_time": "2021-11-28T20:44:44.817Z"
   },
   {
    "duration": 6,
    "start_time": "2021-11-28T20:44:44.824Z"
   },
   {
    "duration": 32,
    "start_time": "2021-11-28T20:44:44.832Z"
   },
   {
    "duration": 11,
    "start_time": "2021-11-28T20:44:44.866Z"
   },
   {
    "duration": 231,
    "start_time": "2021-11-28T20:44:44.881Z"
   },
   {
    "duration": 15,
    "start_time": "2021-11-28T20:45:23.993Z"
   },
   {
    "duration": 7,
    "start_time": "2021-11-28T20:45:24.409Z"
   },
   {
    "duration": 1612,
    "start_time": "2021-11-28T20:45:54.617Z"
   },
   {
    "duration": 832,
    "start_time": "2021-11-28T20:45:56.232Z"
   },
   {
    "duration": 3,
    "start_time": "2021-11-28T20:45:57.069Z"
   },
   {
    "duration": 3047,
    "start_time": "2021-11-28T20:45:57.075Z"
   },
   {
    "duration": 7,
    "start_time": "2021-11-28T20:46:00.125Z"
   },
   {
    "duration": 8,
    "start_time": "2021-11-28T20:46:00.135Z"
   },
   {
    "duration": 2388,
    "start_time": "2021-11-28T20:46:00.146Z"
   },
   {
    "duration": 5,
    "start_time": "2021-11-28T20:46:02.536Z"
   },
   {
    "duration": 217,
    "start_time": "2021-11-28T20:46:02.544Z"
   },
   {
    "duration": 7,
    "start_time": "2021-11-28T20:46:02.764Z"
   },
   {
    "duration": 10,
    "start_time": "2021-11-28T20:46:02.773Z"
   },
   {
    "duration": 129,
    "start_time": "2021-11-28T20:46:02.787Z"
   },
   {
    "duration": 6,
    "start_time": "2021-11-28T20:46:02.918Z"
   },
   {
    "duration": 191,
    "start_time": "2021-11-28T20:46:02.927Z"
   },
   {
    "duration": 8,
    "start_time": "2021-11-28T20:46:03.120Z"
   },
   {
    "duration": 951,
    "start_time": "2021-11-28T20:46:07.894Z"
   },
   {
    "duration": 105,
    "start_time": "2021-11-28T20:46:23.192Z"
   },
   {
    "duration": 8,
    "start_time": "2021-11-28T20:46:23.588Z"
   },
   {
    "duration": 14,
    "start_time": "2021-11-28T20:46:26.835Z"
   },
   {
    "duration": 9,
    "start_time": "2021-11-28T20:46:27.135Z"
   },
   {
    "duration": 6,
    "start_time": "2021-11-28T20:46:39.958Z"
   },
   {
    "duration": 139,
    "start_time": "2021-11-28T20:46:46.715Z"
   },
   {
    "duration": 7,
    "start_time": "2021-11-28T20:46:47.099Z"
   },
   {
    "duration": 860,
    "start_time": "2021-11-28T20:46:52.428Z"
   },
   {
    "duration": 96,
    "start_time": "2021-11-28T20:47:02.085Z"
   },
   {
    "duration": 9,
    "start_time": "2021-11-28T20:47:03.848Z"
   },
   {
    "duration": 17,
    "start_time": "2021-11-28T20:47:08.898Z"
   },
   {
    "duration": 7,
    "start_time": "2021-11-28T20:47:09.167Z"
   },
   {
    "duration": 1770,
    "start_time": "2021-11-28T20:47:32.233Z"
   },
   {
    "duration": 822,
    "start_time": "2021-11-28T20:47:34.005Z"
   },
   {
    "duration": 4,
    "start_time": "2021-11-28T20:47:34.830Z"
   },
   {
    "duration": 2981,
    "start_time": "2021-11-28T20:48:10.548Z"
   },
   {
    "duration": 6,
    "start_time": "2021-11-28T20:48:13.532Z"
   },
   {
    "duration": 8,
    "start_time": "2021-11-28T20:48:14.773Z"
   },
   {
    "duration": 2643,
    "start_time": "2021-11-28T20:48:20.389Z"
   },
   {
    "duration": 4,
    "start_time": "2021-11-28T20:48:39.150Z"
   },
   {
    "duration": 135,
    "start_time": "2021-11-28T20:48:43.463Z"
   },
   {
    "duration": 5,
    "start_time": "2021-11-28T20:48:43.807Z"
   },
   {
    "duration": 4,
    "start_time": "2021-11-28T20:48:44.665Z"
   },
   {
    "duration": 206,
    "start_time": "2021-11-28T20:48:45.274Z"
   },
   {
    "duration": 7,
    "start_time": "2021-11-28T20:48:45.678Z"
   },
   {
    "duration": 460,
    "start_time": "2021-11-28T20:48:49.315Z"
   },
   {
    "duration": 10,
    "start_time": "2021-11-28T20:48:51.375Z"
   },
   {
    "duration": 2103,
    "start_time": "2021-11-28T20:48:54.666Z"
   },
   {
    "duration": 261,
    "start_time": "2021-11-28T20:49:00.413Z"
   },
   {
    "duration": 9,
    "start_time": "2021-11-28T20:49:00.751Z"
   },
   {
    "duration": 1082,
    "start_time": "2021-11-28T20:49:03.090Z"
   },
   {
    "duration": 10,
    "start_time": "2021-11-28T20:49:04.175Z"
   },
   {
    "duration": 1617,
    "start_time": "2021-11-28T20:51:11.062Z"
   },
   {
    "duration": 822,
    "start_time": "2021-11-28T20:51:12.682Z"
   },
   {
    "duration": 4,
    "start_time": "2021-11-28T20:51:13.507Z"
   },
   {
    "duration": 2992,
    "start_time": "2021-11-28T20:51:13.643Z"
   },
   {
    "duration": 10,
    "start_time": "2021-11-28T20:51:16.637Z"
   },
   {
    "duration": 22,
    "start_time": "2021-11-28T20:51:16.649Z"
   },
   {
    "duration": 4200,
    "start_time": "2021-11-28T20:51:18.657Z"
   },
   {
    "duration": 8,
    "start_time": "2021-11-28T20:51:22.860Z"
   },
   {
    "duration": 132,
    "start_time": "2021-11-28T20:51:22.871Z"
   },
   {
    "duration": 9,
    "start_time": "2021-11-28T20:51:23.005Z"
   },
   {
    "duration": 8,
    "start_time": "2021-11-28T20:51:23.016Z"
   },
   {
    "duration": 974,
    "start_time": "2021-11-28T20:51:23.073Z"
   },
   {
    "duration": 21,
    "start_time": "2021-11-28T20:51:24.049Z"
   },
   {
    "duration": 8003,
    "start_time": "2021-11-28T20:51:33.523Z"
   },
   {
    "duration": 8,
    "start_time": "2021-11-28T20:51:41.529Z"
   },
   {
    "duration": 13117,
    "start_time": "2021-11-28T20:51:44.581Z"
   },
   {
    "duration": 3236,
    "start_time": "2021-11-28T20:52:03.254Z"
   },
   {
    "duration": 9,
    "start_time": "2021-11-28T20:52:12.682Z"
   },
   {
    "duration": 1691,
    "start_time": "2021-11-28T20:52:17.879Z"
   },
   {
    "duration": 91,
    "start_time": "2021-11-28T20:52:19.575Z"
   },
   {
    "duration": 1657,
    "start_time": "2021-11-28T20:52:48.536Z"
   },
   {
    "duration": 819,
    "start_time": "2021-11-28T20:52:50.196Z"
   },
   {
    "duration": 4,
    "start_time": "2021-11-28T20:52:51.018Z"
   },
   {
    "duration": 2957,
    "start_time": "2021-11-28T20:52:51.024Z"
   },
   {
    "duration": 8,
    "start_time": "2021-11-28T20:52:53.984Z"
   },
   {
    "duration": 7,
    "start_time": "2021-11-28T20:52:58.088Z"
   },
   {
    "duration": 22497,
    "start_time": "2021-11-28T20:53:00.716Z"
   },
   {
    "duration": 4,
    "start_time": "2021-11-28T20:53:32.572Z"
   },
   {
    "duration": 204,
    "start_time": "2021-11-28T20:53:34.706Z"
   },
   {
    "duration": 5,
    "start_time": "2021-11-28T20:53:35.019Z"
   },
   {
    "duration": 4,
    "start_time": "2021-11-28T20:53:35.973Z"
   },
   {
    "duration": 9497,
    "start_time": "2021-11-28T20:53:36.288Z"
   },
   {
    "duration": 46,
    "start_time": "2021-11-28T20:53:45.788Z"
   },
   {
    "duration": 6,
    "start_time": "2021-11-28T20:53:45.897Z"
   },
   {
    "duration": 6,
    "start_time": "2021-11-28T20:53:52.085Z"
   },
   {
    "duration": 301855,
    "start_time": "2021-11-28T20:54:04.082Z"
   },
   {
    "duration": 12,
    "start_time": "2021-11-28T20:59:05.940Z"
   },
   {
    "duration": 96390,
    "start_time": "2021-11-28T20:59:05.955Z"
   },
   {
    "duration": 24,
    "start_time": "2021-11-28T21:00:42.348Z"
   },
   {
    "duration": 7922,
    "start_time": "2021-11-28T21:00:42.376Z"
   },
   {
    "duration": 17,
    "start_time": "2021-11-28T21:00:50.301Z"
   },
   {
    "duration": 1915,
    "start_time": "2021-11-28T21:01:17.385Z"
   },
   {
    "duration": 834,
    "start_time": "2021-11-28T21:01:19.303Z"
   },
   {
    "duration": 3,
    "start_time": "2021-11-28T21:01:20.140Z"
   },
   {
    "duration": 2949,
    "start_time": "2021-11-28T21:01:20.146Z"
   },
   {
    "duration": 7,
    "start_time": "2021-11-28T21:01:23.098Z"
   },
   {
    "duration": 6,
    "start_time": "2021-11-28T21:01:23.256Z"
   },
   {
    "duration": 37171,
    "start_time": "2021-11-28T21:01:24.389Z"
   },
   {
    "duration": 5441,
    "start_time": "2021-11-28T21:02:16.283Z"
   },
   {
    "duration": 5,
    "start_time": "2021-11-28T21:02:39.088Z"
   },
   {
    "duration": 127,
    "start_time": "2021-11-28T21:02:41.384Z"
   },
   {
    "duration": 6,
    "start_time": "2021-11-28T21:02:41.668Z"
   },
   {
    "duration": 3,
    "start_time": "2021-11-28T21:02:43.237Z"
   },
   {
    "duration": 15167,
    "start_time": "2021-11-28T21:02:43.708Z"
   },
   {
    "duration": 94,
    "start_time": "2021-11-28T21:02:58.879Z"
   },
   {
    "duration": 5,
    "start_time": "2021-11-28T21:03:01.803Z"
   },
   {
    "duration": 5,
    "start_time": "2021-11-28T21:03:02.760Z"
   },
   {
    "duration": 7,
    "start_time": "2021-11-28T21:03:19.080Z"
   },
   {
    "duration": 6,
    "start_time": "2021-11-28T21:03:26.189Z"
   },
   {
    "duration": 693454,
    "start_time": "2021-11-28T21:03:30.248Z"
   },
   {
    "duration": 17,
    "start_time": "2021-11-28T21:15:03.705Z"
   },
   {
    "duration": 200276,
    "start_time": "2021-11-28T21:15:03.725Z"
   },
   {
    "duration": 18,
    "start_time": "2021-11-28T21:18:24.004Z"
   },
   {
    "duration": 7905,
    "start_time": "2021-11-28T21:18:24.026Z"
   },
   {
    "duration": 16,
    "start_time": "2021-11-28T21:18:31.934Z"
   },
   {
    "duration": 492,
    "start_time": "2021-11-29T07:58:03.657Z"
   },
   {
    "duration": 4,
    "start_time": "2021-11-29T08:04:10.436Z"
   },
   {
    "duration": 25480,
    "start_time": "2021-11-29T08:04:14.699Z"
   },
   {
    "duration": 2,
    "start_time": "2021-11-29T08:04:40.181Z"
   },
   {
    "duration": 2248,
    "start_time": "2021-11-29T08:04:40.185Z"
   },
   {
    "duration": 5,
    "start_time": "2021-11-29T08:04:42.435Z"
   },
   {
    "duration": 11,
    "start_time": "2021-11-29T08:04:42.442Z"
   },
   {
    "duration": 1420,
    "start_time": "2021-11-29T08:04:47.155Z"
   },
   {
    "duration": 3,
    "start_time": "2021-11-29T08:04:49.549Z"
   },
   {
    "duration": 306,
    "start_time": "2021-11-29T08:04:52.095Z"
   },
   {
    "duration": 3,
    "start_time": "2021-11-29T08:04:52.586Z"
   },
   {
    "duration": 3,
    "start_time": "2021-11-29T08:04:55.330Z"
   },
   {
    "duration": 14,
    "start_time": "2021-11-29T08:05:36.915Z"
   },
   {
    "duration": 4,
    "start_time": "2021-11-29T08:05:37.262Z"
   },
   {
    "duration": 4,
    "start_time": "2021-11-29T08:05:38.227Z"
   },
   {
    "duration": 4,
    "start_time": "2021-11-29T08:05:38.549Z"
   },
   {
    "duration": 4,
    "start_time": "2021-11-29T08:05:40.747Z"
   },
   {
    "duration": 4,
    "start_time": "2021-11-29T08:05:40.995Z"
   },
   {
    "duration": 7,
    "start_time": "2021-11-29T08:05:45.968Z"
   },
   {
    "duration": 5,
    "start_time": "2021-11-29T08:05:46.463Z"
   },
   {
    "duration": 87,
    "start_time": "2021-11-29T08:05:47.060Z"
   },
   {
    "duration": 31,
    "start_time": "2021-11-29T08:05:51.485Z"
   },
   {
    "duration": 9,
    "start_time": "2021-11-29T08:05:51.701Z"
   },
   {
    "duration": 6,
    "start_time": "2021-11-29T08:05:53.085Z"
   },
   {
    "duration": 6,
    "start_time": "2021-11-29T08:05:53.374Z"
   },
   {
    "duration": 1148,
    "start_time": "2021-11-29T11:35:23.185Z"
   },
   {
    "duration": 3165,
    "start_time": "2021-11-29T11:35:24.763Z"
   },
   {
    "duration": 2,
    "start_time": "2021-11-29T11:35:28.735Z"
   },
   {
    "duration": 1966,
    "start_time": "2021-11-29T11:35:29.297Z"
   },
   {
    "duration": 3,
    "start_time": "2021-11-29T11:35:37.376Z"
   },
   {
    "duration": 3,
    "start_time": "2021-11-29T11:35:42.765Z"
   },
   {
    "duration": 4,
    "start_time": "2021-11-29T11:35:43.302Z"
   },
   {
    "duration": 1118,
    "start_time": "2021-11-29T11:35:45.160Z"
   },
   {
    "duration": 3,
    "start_time": "2021-11-29T11:35:48.123Z"
   },
   {
    "duration": 300,
    "start_time": "2021-11-29T11:35:51.175Z"
   },
   {
    "duration": 4,
    "start_time": "2021-11-29T11:35:51.678Z"
   },
   {
    "duration": 2,
    "start_time": "2021-11-29T11:35:53.516Z"
   },
   {
    "duration": 11,
    "start_time": "2021-11-29T11:36:18.121Z"
   },
   {
    "duration": 4,
    "start_time": "2021-11-29T11:36:18.702Z"
   },
   {
    "duration": 3,
    "start_time": "2021-11-29T11:36:19.802Z"
   },
   {
    "duration": 4,
    "start_time": "2021-11-29T11:36:20.193Z"
   },
   {
    "duration": 4,
    "start_time": "2021-11-29T11:36:20.917Z"
   },
   {
    "duration": 4,
    "start_time": "2021-11-29T11:36:21.095Z"
   },
   {
    "duration": 18998,
    "start_time": "2021-11-29T11:44:07.096Z"
   },
   {
    "duration": 17,
    "start_time": "2021-11-29T11:44:47.258Z"
   },
   {
    "duration": 6,
    "start_time": "2021-11-29T11:44:47.572Z"
   },
   {
    "duration": 2,
    "start_time": "2021-11-29T11:48:44.705Z"
   },
   {
    "duration": 3,
    "start_time": "2021-11-29T11:49:06.229Z"
   },
   {
    "duration": 3,
    "start_time": "2021-11-29T11:49:20.482Z"
   },
   {
    "duration": 5,
    "start_time": "2021-11-29T11:53:28.870Z"
   },
   {
    "duration": 77,
    "start_time": "2021-11-29T11:57:37.447Z"
   },
   {
    "duration": 331,
    "start_time": "2021-11-29T11:57:46.881Z"
   },
   {
    "duration": 234,
    "start_time": "2021-11-29T11:57:56.485Z"
   },
   {
    "duration": 257,
    "start_time": "2021-11-29T11:58:19.833Z"
   },
   {
    "duration": 257,
    "start_time": "2021-11-29T11:58:36.154Z"
   },
   {
    "duration": 272,
    "start_time": "2021-11-29T11:58:46.720Z"
   },
   {
    "duration": 747,
    "start_time": "2021-11-29T11:59:22.650Z"
   },
   {
    "duration": 1150,
    "start_time": "2021-11-29T12:00:49.185Z"
   },
   {
    "duration": 557,
    "start_time": "2021-11-29T12:00:50.337Z"
   },
   {
    "duration": 2,
    "start_time": "2021-11-29T12:00:50.896Z"
   },
   {
    "duration": 1986,
    "start_time": "2021-11-29T12:00:50.900Z"
   },
   {
    "duration": 5,
    "start_time": "2021-11-29T12:00:52.888Z"
   },
   {
    "duration": 5,
    "start_time": "2021-11-29T12:00:52.895Z"
   },
   {
    "duration": 6111,
    "start_time": "2021-11-29T12:00:52.902Z"
   },
   {
    "duration": 3,
    "start_time": "2021-11-29T12:00:59.016Z"
   },
   {
    "duration": 207,
    "start_time": "2021-11-29T12:00:59.020Z"
   },
   {
    "duration": 4,
    "start_time": "2021-11-29T12:00:59.229Z"
   },
   {
    "duration": 4,
    "start_time": "2021-11-29T12:00:59.234Z"
   },
   {
    "duration": 2562,
    "start_time": "2021-11-29T12:00:59.239Z"
   },
   {
    "duration": 15,
    "start_time": "2021-11-29T12:01:01.803Z"
   },
   {
    "duration": 24,
    "start_time": "2021-11-29T12:01:01.819Z"
   },
   {
    "duration": 9,
    "start_time": "2021-11-29T12:01:01.845Z"
   },
   {
    "duration": 15,
    "start_time": "2021-11-29T12:01:01.856Z"
   },
   {
    "duration": 9,
    "start_time": "2021-11-29T12:01:01.873Z"
   },
   {
    "duration": 66588,
    "start_time": "2021-11-29T12:01:01.883Z"
   },
   {
    "duration": 1256786,
    "start_time": "2021-11-29T12:02:08.473Z"
   },
   {
    "duration": 3145943,
    "start_time": "2021-11-29T12:23:05.261Z"
   },
   {
    "duration": 1148,
    "start_time": "2021-11-29T14:06:56.471Z"
   },
   {
    "duration": 562,
    "start_time": "2021-11-29T14:06:57.620Z"
   },
   {
    "duration": 3,
    "start_time": "2021-11-29T14:06:58.184Z"
   },
   {
    "duration": 1971,
    "start_time": "2021-11-29T14:06:58.189Z"
   },
   {
    "duration": 8,
    "start_time": "2021-11-29T14:07:00.161Z"
   },
   {
    "duration": 8,
    "start_time": "2021-11-29T14:07:00.170Z"
   },
   {
    "duration": 1172,
    "start_time": "2021-11-29T14:07:00.180Z"
   },
   {
    "duration": 3,
    "start_time": "2021-11-29T14:07:01.354Z"
   },
   {
    "duration": 194,
    "start_time": "2021-11-29T14:07:01.359Z"
   },
   {
    "duration": 4,
    "start_time": "2021-11-29T14:07:01.555Z"
   },
   {
    "duration": 29,
    "start_time": "2021-11-29T14:07:01.560Z"
   },
   {
    "duration": 43,
    "start_time": "2021-11-29T14:07:01.591Z"
   },
   {
    "duration": 25,
    "start_time": "2021-11-29T14:07:01.635Z"
   },
   {
    "duration": 26,
    "start_time": "2021-11-29T14:07:01.662Z"
   },
   {
    "duration": 9,
    "start_time": "2021-11-29T14:07:01.690Z"
   },
   {
    "duration": 9,
    "start_time": "2021-11-29T14:07:01.701Z"
   },
   {
    "duration": 9,
    "start_time": "2021-11-29T14:07:01.711Z"
   },
   {
    "duration": 80,
    "start_time": "2021-11-29T14:07:01.722Z"
   },
   {
    "duration": 18900,
    "start_time": "2021-11-29T14:07:01.804Z"
   },
   {
    "duration": 6675,
    "start_time": "2021-11-29T14:07:20.706Z"
   },
   {
    "duration": 1131,
    "start_time": "2021-11-29T14:10:08.608Z"
   },
   {
    "duration": 563,
    "start_time": "2021-11-29T14:10:09.741Z"
   },
   {
    "duration": 3,
    "start_time": "2021-11-29T14:10:10.306Z"
   },
   {
    "duration": 2107,
    "start_time": "2021-11-29T14:10:10.830Z"
   },
   {
    "duration": 2,
    "start_time": "2021-11-29T14:10:18.671Z"
   },
   {
    "duration": 8,
    "start_time": "2021-11-29T14:10:24.540Z"
   },
   {
    "duration": 4,
    "start_time": "2021-11-29T14:10:30.821Z"
   },
   {
    "duration": 20138,
    "start_time": "2021-11-29T14:10:33.416Z"
   },
   {
    "duration": 2,
    "start_time": "2021-11-29T14:10:57.963Z"
   },
   {
    "duration": 182,
    "start_time": "2021-11-29T14:11:01.225Z"
   },
   {
    "duration": 4,
    "start_time": "2021-11-29T14:11:01.491Z"
   },
   {
    "duration": 3,
    "start_time": "2021-11-29T14:11:03.692Z"
   },
   {
    "duration": 7889,
    "start_time": "2021-11-29T14:11:04.030Z"
   },
   {
    "duration": 40,
    "start_time": "2021-11-29T14:11:11.921Z"
   },
   {
    "duration": 3,
    "start_time": "2021-11-29T14:11:11.963Z"
   },
   {
    "duration": 22,
    "start_time": "2021-11-29T14:11:11.968Z"
   },
   {
    "duration": 5,
    "start_time": "2021-11-29T14:11:11.991Z"
   },
   {
    "duration": 9,
    "start_time": "2021-11-29T14:11:11.997Z"
   },
   {
    "duration": 342757,
    "start_time": "2021-11-29T14:11:23.531Z"
   },
   {
    "duration": 4876598,
    "start_time": "2021-11-29T14:17:06.290Z"
   },
   {
    "duration": 9153257,
    "start_time": "2021-11-29T15:38:22.890Z"
   },
   {
    "duration": 1153,
    "start_time": "2021-11-29T20:33:16.483Z"
   },
   {
    "duration": 586,
    "start_time": "2021-11-29T20:33:20.218Z"
   },
   {
    "duration": 3,
    "start_time": "2021-11-29T20:33:21.527Z"
   },
   {
    "duration": 2111,
    "start_time": "2021-11-29T20:33:22.633Z"
   },
   {
    "duration": 8,
    "start_time": "2021-11-29T20:33:41.371Z"
   },
   {
    "duration": 7,
    "start_time": "2021-11-29T20:33:52.109Z"
   },
   {
    "duration": 5,
    "start_time": "2021-11-29T21:01:08.076Z"
   },
   {
    "duration": 4,
    "start_time": "2021-11-29T21:01:47.008Z"
   },
   {
    "duration": 3,
    "start_time": "2021-11-29T21:05:11.127Z"
   },
   {
    "duration": 1142,
    "start_time": "2021-11-29T21:05:40.089Z"
   },
   {
    "duration": 3238,
    "start_time": "2021-11-29T21:05:41.232Z"
   },
   {
    "duration": 2,
    "start_time": "2021-11-29T21:05:44.472Z"
   },
   {
    "duration": 2088,
    "start_time": "2021-11-29T21:05:46.900Z"
   },
   {
    "duration": 8,
    "start_time": "2021-11-29T21:05:48.990Z"
   },
   {
    "duration": 3,
    "start_time": "2021-11-29T21:05:51.826Z"
   },
   {
    "duration": 265,
    "start_time": "2021-11-29T21:06:32.605Z"
   },
   {
    "duration": 228,
    "start_time": "2021-11-29T21:06:43.705Z"
   },
   {
    "duration": 1155,
    "start_time": "2021-11-29T21:06:55.888Z"
   },
   {
    "duration": 3162,
    "start_time": "2021-11-29T21:06:57.045Z"
   },
   {
    "duration": 2,
    "start_time": "2021-11-29T21:07:00.209Z"
   },
   {
    "duration": 2066,
    "start_time": "2021-11-29T21:07:00.212Z"
   },
   {
    "duration": 11,
    "start_time": "2021-11-29T21:07:02.280Z"
   },
   {
    "duration": 5,
    "start_time": "2021-11-29T21:07:02.292Z"
   },
   {
    "duration": 8,
    "start_time": "2021-11-29T21:07:02.299Z"
   },
   {
    "duration": 4,
    "start_time": "2021-11-29T21:07:30.399Z"
   },
   {
    "duration": 4,
    "start_time": "2021-11-29T21:07:36.796Z"
   },
   {
    "duration": 5,
    "start_time": "2021-11-29T21:07:49.269Z"
   },
   {
    "duration": 3,
    "start_time": "2021-11-29T21:07:52.337Z"
   },
   {
    "duration": 4,
    "start_time": "2021-11-29T21:09:14.226Z"
   },
   {
    "duration": 5,
    "start_time": "2021-11-29T21:09:30.829Z"
   },
   {
    "duration": 1619,
    "start_time": "2021-11-30T06:42:29.221Z"
   },
   {
    "duration": 809,
    "start_time": "2021-11-30T06:42:32.746Z"
   },
   {
    "duration": 10,
    "start_time": "2021-11-30T06:42:33.557Z"
   },
   {
    "duration": 14,
    "start_time": "2021-11-30T06:42:36.493Z"
   },
   {
    "duration": 4,
    "start_time": "2021-11-30T06:52:45.158Z"
   },
   {
    "duration": 8,
    "start_time": "2021-11-30T06:52:45.330Z"
   },
   {
    "duration": 7,
    "start_time": "2021-11-30T06:52:45.489Z"
   },
   {
    "duration": 4,
    "start_time": "2021-11-30T06:52:45.621Z"
   },
   {
    "duration": 14,
    "start_time": "2021-11-30T06:52:45.769Z"
   },
   {
    "duration": 9,
    "start_time": "2021-11-30T06:52:45.946Z"
   },
   {
    "duration": 8,
    "start_time": "2021-11-30T06:53:16.330Z"
   },
   {
    "duration": 6,
    "start_time": "2021-11-30T06:53:26.289Z"
   },
   {
    "duration": 5,
    "start_time": "2021-11-30T06:53:33.626Z"
   },
   {
    "duration": 441,
    "start_time": "2021-11-30T06:57:59.078Z"
   },
   {
    "duration": 25,
    "start_time": "2021-11-30T06:58:53.831Z"
   },
   {
    "duration": 7,
    "start_time": "2021-11-30T06:59:02.632Z"
   },
   {
    "duration": 6,
    "start_time": "2021-11-30T06:59:09.280Z"
   },
   {
    "duration": 5,
    "start_time": "2021-11-30T06:59:17.040Z"
   },
   {
    "duration": 1576,
    "start_time": "2021-11-30T06:59:52.936Z"
   },
   {
    "duration": 761,
    "start_time": "2021-11-30T06:59:54.515Z"
   },
   {
    "duration": 5,
    "start_time": "2021-11-30T06:59:55.280Z"
   },
   {
    "duration": 17,
    "start_time": "2021-11-30T06:59:55.289Z"
   },
   {
    "duration": 9,
    "start_time": "2021-11-30T06:59:55.309Z"
   },
   {
    "duration": 12,
    "start_time": "2021-11-30T06:59:55.321Z"
   },
   {
    "duration": 38,
    "start_time": "2021-11-30T06:59:55.336Z"
   },
   {
    "duration": 5,
    "start_time": "2021-11-30T06:59:55.376Z"
   },
   {
    "duration": 14,
    "start_time": "2021-11-30T06:59:55.386Z"
   },
   {
    "duration": 10,
    "start_time": "2021-11-30T06:59:55.402Z"
   },
   {
    "duration": 71,
    "start_time": "2021-11-30T06:59:55.414Z"
   },
   {
    "duration": 5,
    "start_time": "2021-11-30T06:59:55.488Z"
   },
   {
    "duration": 7,
    "start_time": "2021-11-30T06:59:55.496Z"
   },
   {
    "duration": 9,
    "start_time": "2021-11-30T07:00:25.825Z"
   },
   {
    "duration": 1635,
    "start_time": "2021-11-30T07:01:08.632Z"
   },
   {
    "duration": 763,
    "start_time": "2021-11-30T07:01:10.269Z"
   },
   {
    "duration": 3,
    "start_time": "2021-11-30T07:01:11.035Z"
   },
   {
    "duration": 31,
    "start_time": "2021-11-30T07:01:11.041Z"
   },
   {
    "duration": 3,
    "start_time": "2021-11-30T07:01:11.075Z"
   },
   {
    "duration": 11,
    "start_time": "2021-11-30T07:01:11.081Z"
   },
   {
    "duration": 6,
    "start_time": "2021-11-30T07:01:11.095Z"
   },
   {
    "duration": 5,
    "start_time": "2021-11-30T07:01:11.104Z"
   },
   {
    "duration": 15,
    "start_time": "2021-11-30T07:01:11.112Z"
   },
   {
    "duration": 43,
    "start_time": "2021-11-30T07:01:11.130Z"
   },
   {
    "duration": 24,
    "start_time": "2021-11-30T07:01:11.175Z"
   },
   {
    "duration": 6,
    "start_time": "2021-11-30T07:01:11.201Z"
   },
   {
    "duration": 11,
    "start_time": "2021-11-30T07:01:11.209Z"
   },
   {
    "duration": 45,
    "start_time": "2021-11-30T07:01:11.222Z"
   },
   {
    "duration": 1551,
    "start_time": "2021-11-30T07:01:26.181Z"
   },
   {
    "duration": 777,
    "start_time": "2021-11-30T07:01:27.735Z"
   },
   {
    "duration": 4,
    "start_time": "2021-11-30T07:01:28.516Z"
   },
   {
    "duration": 26,
    "start_time": "2021-11-30T07:01:28.524Z"
   },
   {
    "duration": 14,
    "start_time": "2021-11-30T07:01:28.553Z"
   },
   {
    "duration": 12,
    "start_time": "2021-11-30T07:01:28.571Z"
   },
   {
    "duration": 9,
    "start_time": "2021-11-30T07:01:28.585Z"
   },
   {
    "duration": 5,
    "start_time": "2021-11-30T07:01:28.596Z"
   },
   {
    "duration": 13,
    "start_time": "2021-11-30T07:01:28.606Z"
   },
   {
    "duration": 50,
    "start_time": "2021-11-30T07:01:28.622Z"
   },
   {
    "duration": 22,
    "start_time": "2021-11-30T07:01:28.675Z"
   },
   {
    "duration": 6,
    "start_time": "2021-11-30T07:01:28.700Z"
   },
   {
    "duration": 8,
    "start_time": "2021-11-30T07:01:28.709Z"
   },
   {
    "duration": 50,
    "start_time": "2021-11-30T07:01:28.720Z"
   },
   {
    "duration": 1592,
    "start_time": "2021-11-30T07:01:43.169Z"
   },
   {
    "duration": 808,
    "start_time": "2021-11-30T07:01:44.764Z"
   },
   {
    "duration": 4,
    "start_time": "2021-11-30T07:01:45.575Z"
   },
   {
    "duration": 20,
    "start_time": "2021-11-30T07:01:45.582Z"
   },
   {
    "duration": 4,
    "start_time": "2021-11-30T07:01:45.604Z"
   },
   {
    "duration": 12,
    "start_time": "2021-11-30T07:01:45.610Z"
   },
   {
    "duration": 8,
    "start_time": "2021-11-30T07:01:45.625Z"
   },
   {
    "duration": 32,
    "start_time": "2021-11-30T07:01:45.636Z"
   },
   {
    "duration": 16,
    "start_time": "2021-11-30T07:01:45.672Z"
   },
   {
    "duration": 13,
    "start_time": "2021-11-30T07:01:45.691Z"
   },
   {
    "duration": 25,
    "start_time": "2021-11-30T07:01:45.707Z"
   },
   {
    "duration": 32,
    "start_time": "2021-11-30T07:01:45.735Z"
   },
   {
    "duration": 5,
    "start_time": "2021-11-30T07:01:45.770Z"
   },
   {
    "duration": 20,
    "start_time": "2021-11-30T07:01:45.778Z"
   },
   {
    "duration": 1581,
    "start_time": "2021-11-30T07:06:36.467Z"
   },
   {
    "duration": 785,
    "start_time": "2021-11-30T07:06:38.051Z"
   },
   {
    "duration": 4,
    "start_time": "2021-11-30T07:06:38.840Z"
   },
   {
    "duration": 28,
    "start_time": "2021-11-30T07:06:38.847Z"
   },
   {
    "duration": 7,
    "start_time": "2021-11-30T07:06:38.877Z"
   },
   {
    "duration": 12,
    "start_time": "2021-11-30T07:06:38.886Z"
   },
   {
    "duration": 9,
    "start_time": "2021-11-30T07:06:38.901Z"
   },
   {
    "duration": 5,
    "start_time": "2021-11-30T07:06:38.913Z"
   },
   {
    "duration": 48,
    "start_time": "2021-11-30T07:06:38.921Z"
   },
   {
    "duration": 8,
    "start_time": "2021-11-30T07:06:38.971Z"
   },
   {
    "duration": 25,
    "start_time": "2021-11-30T07:06:38.982Z"
   },
   {
    "duration": 4,
    "start_time": "2021-11-30T07:06:39.010Z"
   },
   {
    "duration": 14,
    "start_time": "2021-11-30T07:06:39.016Z"
   },
   {
    "duration": 37,
    "start_time": "2021-11-30T07:06:39.032Z"
   },
   {
    "duration": 1630,
    "start_time": "2021-11-30T07:07:00.220Z"
   },
   {
    "duration": 785,
    "start_time": "2021-11-30T07:07:01.853Z"
   },
   {
    "duration": 5,
    "start_time": "2021-11-30T07:07:02.642Z"
   },
   {
    "duration": 28,
    "start_time": "2021-11-30T07:07:02.651Z"
   },
   {
    "duration": 9,
    "start_time": "2021-11-30T07:07:02.682Z"
   },
   {
    "duration": 12,
    "start_time": "2021-11-30T07:07:02.693Z"
   },
   {
    "duration": 15,
    "start_time": "2021-11-30T07:07:02.707Z"
   },
   {
    "duration": 6,
    "start_time": "2021-11-30T07:07:02.724Z"
   },
   {
    "duration": 42,
    "start_time": "2021-11-30T07:07:02.735Z"
   },
   {
    "duration": 18,
    "start_time": "2021-11-30T07:07:02.780Z"
   },
   {
    "duration": 21,
    "start_time": "2021-11-30T07:07:02.801Z"
   },
   {
    "duration": 5,
    "start_time": "2021-11-30T07:07:02.824Z"
   },
   {
    "duration": 9,
    "start_time": "2021-11-30T07:07:02.831Z"
   },
   {
    "duration": 8,
    "start_time": "2021-11-30T07:07:02.867Z"
   },
   {
    "duration": 1520,
    "start_time": "2021-11-30T07:08:55.623Z"
   },
   {
    "duration": 791,
    "start_time": "2021-11-30T07:08:57.146Z"
   },
   {
    "duration": 4,
    "start_time": "2021-11-30T07:08:57.940Z"
   },
   {
    "duration": 31,
    "start_time": "2021-11-30T07:08:57.947Z"
   },
   {
    "duration": 4,
    "start_time": "2021-11-30T07:08:57.980Z"
   },
   {
    "duration": 10,
    "start_time": "2021-11-30T07:08:57.987Z"
   },
   {
    "duration": 6,
    "start_time": "2021-11-30T07:08:57.999Z"
   },
   {
    "duration": 9,
    "start_time": "2021-11-30T07:08:58.007Z"
   },
   {
    "duration": 48,
    "start_time": "2021-11-30T07:08:58.019Z"
   },
   {
    "duration": 8,
    "start_time": "2021-11-30T07:08:58.069Z"
   },
   {
    "duration": 22,
    "start_time": "2021-11-30T07:08:58.079Z"
   },
   {
    "duration": 5,
    "start_time": "2021-11-30T07:08:58.104Z"
   },
   {
    "duration": 5,
    "start_time": "2021-11-30T07:08:58.112Z"
   },
   {
    "duration": 50,
    "start_time": "2021-11-30T07:08:58.120Z"
   },
   {
    "duration": 1606,
    "start_time": "2021-11-30T07:09:17.988Z"
   },
   {
    "duration": 787,
    "start_time": "2021-11-30T07:09:19.597Z"
   },
   {
    "duration": 3,
    "start_time": "2021-11-30T07:09:20.387Z"
   },
   {
    "duration": 17,
    "start_time": "2021-11-30T07:09:20.393Z"
   },
   {
    "duration": 3,
    "start_time": "2021-11-30T07:09:20.412Z"
   },
   {
    "duration": 9,
    "start_time": "2021-11-30T07:09:20.418Z"
   },
   {
    "duration": 9,
    "start_time": "2021-11-30T07:09:20.430Z"
   },
   {
    "duration": 29,
    "start_time": "2021-11-30T07:09:20.441Z"
   },
   {
    "duration": 14,
    "start_time": "2021-11-30T07:09:20.473Z"
   },
   {
    "duration": 8,
    "start_time": "2021-11-30T07:09:20.490Z"
   },
   {
    "duration": 21,
    "start_time": "2021-11-30T07:09:20.500Z"
   },
   {
    "duration": 4,
    "start_time": "2021-11-30T07:09:20.524Z"
   },
   {
    "duration": 40,
    "start_time": "2021-11-30T07:09:20.530Z"
   },
   {
    "duration": 12,
    "start_time": "2021-11-30T07:09:20.572Z"
   },
   {
    "duration": 1630,
    "start_time": "2021-11-30T07:13:13.641Z"
   },
   {
    "duration": 798,
    "start_time": "2021-11-30T07:13:15.274Z"
   },
   {
    "duration": 3,
    "start_time": "2021-11-30T07:13:16.075Z"
   },
   {
    "duration": 23,
    "start_time": "2021-11-30T07:13:16.081Z"
   },
   {
    "duration": 3,
    "start_time": "2021-11-30T07:13:16.107Z"
   },
   {
    "duration": 12,
    "start_time": "2021-11-30T07:13:16.112Z"
   },
   {
    "duration": 5,
    "start_time": "2021-11-30T07:13:16.127Z"
   },
   {
    "duration": 31,
    "start_time": "2021-11-30T07:13:16.135Z"
   },
   {
    "duration": 12,
    "start_time": "2021-11-30T07:13:16.170Z"
   },
   {
    "duration": 12,
    "start_time": "2021-11-30T07:13:16.184Z"
   },
   {
    "duration": 20,
    "start_time": "2021-11-30T07:13:16.198Z"
   },
   {
    "duration": 5,
    "start_time": "2021-11-30T07:13:16.220Z"
   },
   {
    "duration": 41,
    "start_time": "2021-11-30T07:13:16.227Z"
   },
   {
    "duration": 13,
    "start_time": "2021-11-30T07:13:16.271Z"
   },
   {
    "duration": 567,
    "start_time": "2021-11-30T11:25:07.964Z"
   },
   {
    "duration": 6,
    "start_time": "2021-11-30T11:25:10.786Z"
   },
   {
    "duration": 3,
    "start_time": "2021-11-30T11:26:03.706Z"
   },
   {
    "duration": 6,
    "start_time": "2021-11-30T11:26:06.001Z"
   },
   {
    "duration": 2257,
    "start_time": "2021-11-30T11:26:07.784Z"
   },
   {
    "duration": 8,
    "start_time": "2021-11-30T11:27:43.864Z"
   },
   {
    "duration": 596,
    "start_time": "2021-11-30T11:27:48.034Z"
   },
   {
    "duration": 1569,
    "start_time": "2021-11-30T11:28:36.620Z"
   },
   {
    "duration": 794,
    "start_time": "2021-11-30T11:28:38.191Z"
   },
   {
    "duration": 4,
    "start_time": "2021-11-30T11:28:38.988Z"
   },
   {
    "duration": 30,
    "start_time": "2021-11-30T11:28:38.994Z"
   },
   {
    "duration": 7,
    "start_time": "2021-11-30T11:28:39.026Z"
   },
   {
    "duration": 18,
    "start_time": "2021-11-30T11:28:39.035Z"
   },
   {
    "duration": 12,
    "start_time": "2021-11-30T11:28:39.055Z"
   },
   {
    "duration": 9,
    "start_time": "2021-11-30T11:28:39.070Z"
   },
   {
    "duration": 26,
    "start_time": "2021-11-30T11:28:39.083Z"
   },
   {
    "duration": 9,
    "start_time": "2021-11-30T11:28:39.111Z"
   },
   {
    "duration": 30,
    "start_time": "2021-11-30T11:28:39.123Z"
   },
   {
    "duration": 12,
    "start_time": "2021-11-30T11:28:39.156Z"
   },
   {
    "duration": 599,
    "start_time": "2021-11-30T11:28:39.170Z"
   },
   {
    "duration": 5,
    "start_time": "2021-11-30T11:28:42.785Z"
   },
   {
    "duration": 501,
    "start_time": "2021-11-30T11:28:43.674Z"
   },
   {
    "duration": 8026,
    "start_time": "2021-11-30T11:28:49.891Z"
   },
   {
    "duration": 334,
    "start_time": "2021-11-30T11:29:08.299Z"
   },
   {
    "duration": 7,
    "start_time": "2021-11-30T11:29:08.636Z"
   },
   {
    "duration": 4,
    "start_time": "2021-11-30T11:29:12.232Z"
   },
   {
    "duration": 2554,
    "start_time": "2021-11-30T11:29:16.625Z"
   },
   {
    "duration": 15,
    "start_time": "2021-11-30T11:29:36.865Z"
   },
   {
    "duration": 1573,
    "start_time": "2021-11-30T11:30:19.695Z"
   },
   {
    "duration": 759,
    "start_time": "2021-11-30T11:30:21.270Z"
   },
   {
    "duration": 4,
    "start_time": "2021-11-30T11:30:22.032Z"
   },
   {
    "duration": 34,
    "start_time": "2021-11-30T11:30:22.038Z"
   },
   {
    "duration": 4,
    "start_time": "2021-11-30T11:30:22.074Z"
   },
   {
    "duration": 12,
    "start_time": "2021-11-30T11:30:22.080Z"
   },
   {
    "duration": 6,
    "start_time": "2021-11-30T11:30:22.095Z"
   },
   {
    "duration": 10,
    "start_time": "2021-11-30T11:30:22.104Z"
   },
   {
    "duration": 53,
    "start_time": "2021-11-30T11:30:22.118Z"
   },
   {
    "duration": 7,
    "start_time": "2021-11-30T11:30:22.174Z"
   },
   {
    "duration": 30,
    "start_time": "2021-11-30T11:30:22.184Z"
   },
   {
    "duration": 8,
    "start_time": "2021-11-30T11:30:22.216Z"
   },
   {
    "duration": 595,
    "start_time": "2021-11-30T11:30:22.226Z"
   },
   {
    "duration": 6,
    "start_time": "2021-11-30T11:30:22.824Z"
   },
   {
    "duration": 7983,
    "start_time": "2021-11-30T11:30:22.832Z"
   },
   {
    "duration": 153,
    "start_time": "2021-11-30T11:30:30.818Z"
   },
   {
    "duration": 5,
    "start_time": "2021-11-30T11:30:30.973Z"
   },
   {
    "duration": 16,
    "start_time": "2021-11-30T11:30:30.980Z"
   },
   {
    "duration": 2733,
    "start_time": "2021-11-30T11:30:30.999Z"
   },
   {
    "duration": 19,
    "start_time": "2021-11-30T11:30:33.735Z"
   },
   {
    "duration": 54950,
    "start_time": "2021-11-30T11:30:33.769Z"
   },
   {
    "duration": 1086532,
    "start_time": "2021-11-30T11:33:00.300Z"
   },
   {
    "duration": 7114352,
    "start_time": "2021-11-30T11:55:03.548Z"
   },
   {
    "duration": 5,
    "start_time": "2021-11-30T14:17:52.765Z"
   },
   {
    "duration": 9,
    "start_time": "2021-11-30T14:17:58.558Z"
   },
   {
    "duration": 13,
    "start_time": "2021-11-30T14:55:26.236Z"
   },
   {
    "duration": 291,
    "start_time": "2021-12-01T21:33:05.026Z"
   },
   {
    "duration": 1119,
    "start_time": "2021-12-01T21:33:10.338Z"
   },
   {
    "duration": 3266,
    "start_time": "2021-12-01T21:33:11.459Z"
   },
   {
    "duration": 14,
    "start_time": "2021-12-01T21:33:14.727Z"
   },
   {
    "duration": 3,
    "start_time": "2021-12-01T21:33:14.743Z"
   },
   {
    "duration": 2,
    "start_time": "2021-12-01T21:33:15.434Z"
   },
   {
    "duration": 3,
    "start_time": "2021-12-01T21:33:22.394Z"
   },
   {
    "duration": 1191,
    "start_time": "2021-12-01T21:34:24.618Z"
   },
   {
    "duration": 621,
    "start_time": "2021-12-01T21:34:25.811Z"
   },
   {
    "duration": 17,
    "start_time": "2021-12-01T21:34:26.434Z"
   },
   {
    "duration": 6,
    "start_time": "2021-12-01T21:34:26.453Z"
   },
   {
    "duration": 4,
    "start_time": "2021-12-01T21:34:30.870Z"
   },
   {
    "duration": 4,
    "start_time": "2021-12-01T21:34:32.614Z"
   },
   {
    "duration": 1172,
    "start_time": "2021-12-01T21:35:12.089Z"
   },
   {
    "duration": 701,
    "start_time": "2021-12-01T21:35:13.263Z"
   },
   {
    "duration": 26,
    "start_time": "2021-12-01T21:35:13.967Z"
   },
   {
    "duration": 5,
    "start_time": "2021-12-01T21:35:13.995Z"
   },
   {
    "duration": 3,
    "start_time": "2021-12-01T21:35:21.941Z"
   },
   {
    "duration": 5,
    "start_time": "2021-12-01T21:35:23.724Z"
   },
   {
    "duration": 631804,
    "start_time": "2021-12-01T21:35:24.652Z"
   },
   {
    "duration": 1192,
    "start_time": "2021-12-01T21:47:24.255Z"
   },
   {
    "duration": 643,
    "start_time": "2021-12-01T21:47:25.449Z"
   },
   {
    "duration": 14,
    "start_time": "2021-12-01T21:47:26.094Z"
   },
   {
    "duration": 4,
    "start_time": "2021-12-01T21:47:26.110Z"
   },
   {
    "duration": 2119,
    "start_time": "2021-12-01T21:47:26.116Z"
   },
   {
    "duration": 4,
    "start_time": "2021-12-01T21:47:34.062Z"
   },
   {
    "duration": 17116,
    "start_time": "2021-12-01T21:47:34.893Z"
   },
   {
    "duration": 1168,
    "start_time": "2021-12-01T21:48:18.270Z"
   },
   {
    "duration": 585,
    "start_time": "2021-12-01T21:48:19.439Z"
   },
   {
    "duration": 14,
    "start_time": "2021-12-01T21:48:20.027Z"
   },
   {
    "duration": 7,
    "start_time": "2021-12-01T21:48:20.042Z"
   },
   {
    "duration": 2052,
    "start_time": "2021-12-01T21:48:20.050Z"
   },
   {
    "duration": 5,
    "start_time": "2021-12-01T21:48:22.104Z"
   },
   {
    "duration": 16537,
    "start_time": "2021-12-01T21:48:22.111Z"
   },
   {
    "duration": 1153,
    "start_time": "2021-12-01T21:49:23.200Z"
   },
   {
    "duration": 581,
    "start_time": "2021-12-01T21:49:24.355Z"
   },
   {
    "duration": 15,
    "start_time": "2021-12-01T21:49:24.938Z"
   },
   {
    "duration": 5,
    "start_time": "2021-12-01T21:49:24.955Z"
   },
   {
    "duration": 27,
    "start_time": "2021-12-01T21:49:24.961Z"
   },
   {
    "duration": 4,
    "start_time": "2021-12-01T21:49:24.990Z"
   },
   {
    "duration": 1220,
    "start_time": "2021-12-01T21:57:39.873Z"
   },
   {
    "duration": 593,
    "start_time": "2021-12-01T21:57:41.095Z"
   },
   {
    "duration": 14,
    "start_time": "2021-12-01T21:57:41.690Z"
   },
   {
    "duration": 6,
    "start_time": "2021-12-01T21:57:41.706Z"
   },
   {
    "duration": 2158,
    "start_time": "2021-12-01T21:57:41.713Z"
   },
   {
    "duration": 14,
    "start_time": "2021-12-01T21:57:43.873Z"
   },
   {
    "duration": 16837,
    "start_time": "2021-12-01T21:57:43.888Z"
   },
   {
    "duration": 4,
    "start_time": "2021-12-01T22:01:12.958Z"
   },
   {
    "duration": 4,
    "start_time": "2021-12-01T22:01:23.183Z"
   },
   {
    "duration": 4,
    "start_time": "2021-12-01T22:01:31.487Z"
   },
   {
    "duration": 1150,
    "start_time": "2021-12-01T22:01:48.650Z"
   },
   {
    "duration": 577,
    "start_time": "2021-12-01T22:01:49.802Z"
   },
   {
    "duration": 14,
    "start_time": "2021-12-01T22:01:50.382Z"
   },
   {
    "duration": 10,
    "start_time": "2021-12-01T22:01:50.398Z"
   },
   {
    "duration": 2121,
    "start_time": "2021-12-01T22:01:50.409Z"
   },
   {
    "duration": 5,
    "start_time": "2021-12-01T22:01:52.532Z"
   },
   {
    "duration": 4,
    "start_time": "2021-12-01T22:01:52.539Z"
   },
   {
    "duration": 16569,
    "start_time": "2021-12-01T22:01:52.545Z"
   },
   {
    "duration": 4,
    "start_time": "2021-12-01T22:02:09.116Z"
   },
   {
    "duration": 4,
    "start_time": "2021-12-01T22:03:30.536Z"
   },
   {
    "duration": 3,
    "start_time": "2021-12-01T22:03:33.856Z"
   },
   {
    "duration": 1096,
    "start_time": "2021-12-01T22:03:49.944Z"
   },
   {
    "duration": 576,
    "start_time": "2021-12-01T22:03:51.042Z"
   },
   {
    "duration": 14,
    "start_time": "2021-12-01T22:03:51.619Z"
   },
   {
    "duration": 4,
    "start_time": "2021-12-01T22:03:51.635Z"
   },
   {
    "duration": 2148,
    "start_time": "2021-12-01T22:03:51.640Z"
   },
   {
    "duration": 4,
    "start_time": "2021-12-01T22:03:53.789Z"
   },
   {
    "duration": 4,
    "start_time": "2021-12-01T22:03:53.794Z"
   },
   {
    "duration": 17012,
    "start_time": "2021-12-01T22:03:53.800Z"
   },
   {
    "duration": 4,
    "start_time": "2021-12-01T22:04:10.814Z"
   },
   {
    "duration": 4,
    "start_time": "2021-12-01T22:08:27.866Z"
   },
   {
    "duration": 75,
    "start_time": "2021-12-01T22:09:24.531Z"
   },
   {
    "duration": 2,
    "start_time": "2021-12-01T22:09:53.483Z"
   },
   {
    "duration": 5,
    "start_time": "2021-12-01T22:09:56.730Z"
   },
   {
    "duration": 6,
    "start_time": "2021-12-01T22:20:49.079Z"
   },
   {
    "duration": 270,
    "start_time": "2021-12-01T22:24:25.189Z"
   },
   {
    "duration": 1161,
    "start_time": "2021-12-01T22:24:37.171Z"
   },
   {
    "duration": 3264,
    "start_time": "2021-12-01T22:24:38.334Z"
   },
   {
    "duration": 13,
    "start_time": "2021-12-01T22:24:41.600Z"
   },
   {
    "duration": 5,
    "start_time": "2021-12-01T22:24:41.615Z"
   },
   {
    "duration": 2057,
    "start_time": "2021-12-01T22:24:41.621Z"
   },
   {
    "duration": 9,
    "start_time": "2021-12-01T22:24:43.679Z"
   },
   {
    "duration": 4,
    "start_time": "2021-12-01T22:24:43.689Z"
   },
   {
    "duration": 18030,
    "start_time": "2021-12-01T22:24:43.695Z"
   },
   {
    "duration": 4,
    "start_time": "2021-12-01T22:25:01.728Z"
   },
   {
    "duration": 11,
    "start_time": "2021-12-01T22:25:01.734Z"
   },
   {
    "duration": 13,
    "start_time": "2021-12-01T22:25:01.747Z"
   },
   {
    "duration": 1129,
    "start_time": "2021-12-01T22:37:01.051Z"
   },
   {
    "duration": 3269,
    "start_time": "2021-12-01T22:37:02.182Z"
   },
   {
    "duration": 13,
    "start_time": "2021-12-01T22:37:05.453Z"
   },
   {
    "duration": 6,
    "start_time": "2021-12-01T22:37:05.468Z"
   },
   {
    "duration": 2217,
    "start_time": "2021-12-01T22:37:05.475Z"
   },
   {
    "duration": 6,
    "start_time": "2021-12-01T22:37:07.693Z"
   },
   {
    "duration": 4,
    "start_time": "2021-12-01T22:37:07.701Z"
   },
   {
    "duration": 17426,
    "start_time": "2021-12-01T22:37:07.707Z"
   },
   {
    "duration": 3,
    "start_time": "2021-12-01T22:37:25.135Z"
   },
   {
    "duration": 4,
    "start_time": "2021-12-01T22:37:25.140Z"
   },
   {
    "duration": 8,
    "start_time": "2021-12-01T22:37:25.146Z"
   },
   {
    "duration": 1099,
    "start_time": "2021-12-01T22:38:22.838Z"
   },
   {
    "duration": 3249,
    "start_time": "2021-12-01T22:38:23.939Z"
   },
   {
    "duration": 17,
    "start_time": "2021-12-01T22:38:27.190Z"
   },
   {
    "duration": 3,
    "start_time": "2021-12-01T22:38:27.209Z"
   },
   {
    "duration": 2119,
    "start_time": "2021-12-01T22:38:27.214Z"
   },
   {
    "duration": 5,
    "start_time": "2021-12-01T22:38:29.335Z"
   },
   {
    "duration": 4,
    "start_time": "2021-12-01T22:38:29.341Z"
   },
   {
    "duration": 17077,
    "start_time": "2021-12-01T22:38:29.347Z"
   },
   {
    "duration": 3,
    "start_time": "2021-12-01T22:38:46.426Z"
   },
   {
    "duration": 4,
    "start_time": "2021-12-01T22:38:46.431Z"
   },
   {
    "duration": 7,
    "start_time": "2021-12-01T22:38:46.436Z"
   },
   {
    "duration": 10,
    "start_time": "2021-12-01T22:38:46.445Z"
   },
   {
    "duration": 1138,
    "start_time": "2021-12-01T22:39:00.507Z"
   },
   {
    "duration": 606,
    "start_time": "2021-12-01T22:39:01.647Z"
   },
   {
    "duration": 13,
    "start_time": "2021-12-01T22:39:02.255Z"
   },
   {
    "duration": 6,
    "start_time": "2021-12-01T22:39:02.269Z"
   },
   {
    "duration": 2084,
    "start_time": "2021-12-01T22:39:02.288Z"
   },
   {
    "duration": 15,
    "start_time": "2021-12-01T22:39:04.374Z"
   },
   {
    "duration": 5,
    "start_time": "2021-12-01T22:39:04.391Z"
   },
   {
    "duration": 16460,
    "start_time": "2021-12-01T22:39:04.397Z"
   },
   {
    "duration": 3,
    "start_time": "2021-12-01T22:39:20.860Z"
   },
   {
    "duration": 4,
    "start_time": "2021-12-01T22:39:20.865Z"
   },
   {
    "duration": 19,
    "start_time": "2021-12-01T22:39:20.870Z"
   },
   {
    "duration": 266,
    "start_time": "2021-12-01T22:41:22.085Z"
   },
   {
    "duration": 1079,
    "start_time": "2021-12-01T22:41:25.746Z"
   },
   {
    "duration": 3238,
    "start_time": "2021-12-01T22:41:26.826Z"
   },
   {
    "duration": 13,
    "start_time": "2021-12-01T22:41:30.066Z"
   },
   {
    "duration": 4,
    "start_time": "2021-12-01T22:41:30.088Z"
   },
   {
    "duration": 2118,
    "start_time": "2021-12-01T22:41:30.093Z"
   },
   {
    "duration": 5,
    "start_time": "2021-12-01T22:41:32.213Z"
   },
   {
    "duration": 6,
    "start_time": "2021-12-01T22:41:32.220Z"
   },
   {
    "duration": 17114,
    "start_time": "2021-12-01T22:41:32.227Z"
   },
   {
    "duration": 4,
    "start_time": "2021-12-01T22:41:49.343Z"
   },
   {
    "duration": 4,
    "start_time": "2021-12-01T22:41:49.348Z"
   },
   {
    "duration": 8,
    "start_time": "2021-12-01T22:41:49.353Z"
   },
   {
    "duration": 1299,
    "start_time": "2021-12-01T22:42:07.525Z"
   },
   {
    "duration": 723,
    "start_time": "2021-12-01T22:42:08.826Z"
   },
   {
    "duration": 15,
    "start_time": "2021-12-01T22:42:09.551Z"
   },
   {
    "duration": 6,
    "start_time": "2021-12-01T22:42:09.567Z"
   },
   {
    "duration": 2100,
    "start_time": "2021-12-01T22:42:09.588Z"
   },
   {
    "duration": 3,
    "start_time": "2021-12-01T22:42:11.690Z"
   },
   {
    "duration": 4,
    "start_time": "2021-12-01T22:42:11.695Z"
   },
   {
    "duration": 16525,
    "start_time": "2021-12-01T22:42:11.700Z"
   },
   {
    "duration": 3,
    "start_time": "2021-12-01T22:42:28.228Z"
   },
   {
    "duration": 16,
    "start_time": "2021-12-01T22:42:28.233Z"
   },
   {
    "duration": 10,
    "start_time": "2021-12-01T22:42:28.250Z"
   },
   {
    "duration": 129,
    "start_time": "2021-12-01T22:42:28.261Z"
   },
   {
    "duration": 268,
    "start_time": "2021-12-01T22:43:35.000Z"
   },
   {
    "duration": 1091,
    "start_time": "2021-12-01T22:43:41.071Z"
   },
   {
    "duration": 3268,
    "start_time": "2021-12-01T22:43:42.164Z"
   },
   {
    "duration": 13,
    "start_time": "2021-12-01T22:43:45.434Z"
   },
   {
    "duration": 4,
    "start_time": "2021-12-01T22:43:45.449Z"
   },
   {
    "duration": 3,
    "start_time": "2021-12-01T22:43:45.455Z"
   },
   {
    "duration": 6,
    "start_time": "2021-12-01T22:44:10.976Z"
   },
   {
    "duration": 2,
    "start_time": "2021-12-01T22:45:52.352Z"
   },
   {
    "duration": 29,
    "start_time": "2021-12-01T22:46:16.575Z"
   },
   {
    "duration": 4,
    "start_time": "2021-12-01T22:46:25.423Z"
   },
   {
    "duration": 4,
    "start_time": "2021-12-01T22:46:32.439Z"
   },
   {
    "duration": 3,
    "start_time": "2021-12-01T22:47:46.071Z"
   },
   {
    "duration": 4,
    "start_time": "2021-12-01T22:47:52.719Z"
   },
   {
    "duration": 2155,
    "start_time": "2021-12-01T22:48:59.333Z"
   },
   {
    "duration": 111,
    "start_time": "2021-12-01T22:49:01.490Z"
   },
   {
    "duration": 4,
    "start_time": "2021-12-01T22:52:50.269Z"
   },
   {
    "duration": 4,
    "start_time": "2021-12-01T22:52:58.308Z"
   },
   {
    "duration": 4,
    "start_time": "2021-12-01T22:53:02.812Z"
   },
   {
    "duration": 15725,
    "start_time": "2021-12-01T22:53:07.492Z"
   },
   {
    "duration": 7,
    "start_time": "2021-12-01T22:55:19.436Z"
   },
   {
    "duration": 7,
    "start_time": "2021-12-01T22:55:26.955Z"
   },
   {
    "duration": 5,
    "start_time": "2021-12-01T22:59:28.890Z"
   },
   {
    "duration": 5,
    "start_time": "2021-12-01T22:59:29.242Z"
   },
   {
    "duration": 4,
    "start_time": "2021-12-01T22:59:39.498Z"
   },
   {
    "duration": 4,
    "start_time": "2021-12-01T22:59:50.690Z"
   },
   {
    "duration": 255,
    "start_time": "2021-12-01T23:01:26.800Z"
   },
   {
    "duration": -90,
    "start_time": "2021-12-01T23:01:27.147Z"
   },
   {
    "duration": -92,
    "start_time": "2021-12-01T23:01:27.150Z"
   },
   {
    "duration": -98,
    "start_time": "2021-12-01T23:01:27.157Z"
   },
   {
    "duration": -100,
    "start_time": "2021-12-01T23:01:27.160Z"
   },
   {
    "duration": -102,
    "start_time": "2021-12-01T23:01:27.162Z"
   },
   {
    "duration": -102,
    "start_time": "2021-12-01T23:01:27.163Z"
   },
   {
    "duration": -105,
    "start_time": "2021-12-01T23:01:27.167Z"
   },
   {
    "duration": -107,
    "start_time": "2021-12-01T23:01:27.170Z"
   },
   {
    "duration": -108,
    "start_time": "2021-12-01T23:01:27.172Z"
   },
   {
    "duration": -108,
    "start_time": "2021-12-01T23:01:27.173Z"
   },
   {
    "duration": -110,
    "start_time": "2021-12-01T23:01:27.175Z"
   },
   {
    "duration": -111,
    "start_time": "2021-12-01T23:01:27.177Z"
   },
   {
    "duration": -111,
    "start_time": "2021-12-01T23:01:27.178Z"
   },
   {
    "duration": -112,
    "start_time": "2021-12-01T23:01:27.180Z"
   },
   {
    "duration": -116,
    "start_time": "2021-12-01T23:01:27.185Z"
   },
   {
    "duration": -117,
    "start_time": "2021-12-01T23:01:27.187Z"
   },
   {
    "duration": -122,
    "start_time": "2021-12-01T23:01:27.192Z"
   },
   {
    "duration": -123,
    "start_time": "2021-12-01T23:01:27.194Z"
   },
   {
    "duration": 1165,
    "start_time": "2021-12-01T23:01:44.171Z"
   },
   {
    "duration": 3247,
    "start_time": "2021-12-01T23:01:45.337Z"
   },
   {
    "duration": 14,
    "start_time": "2021-12-01T23:01:48.588Z"
   },
   {
    "duration": 5,
    "start_time": "2021-12-01T23:01:48.603Z"
   },
   {
    "duration": 3,
    "start_time": "2021-12-01T23:01:48.610Z"
   },
   {
    "duration": 4,
    "start_time": "2021-12-01T23:01:48.614Z"
   },
   {
    "duration": 7,
    "start_time": "2021-12-01T23:01:48.620Z"
   },
   {
    "duration": 26,
    "start_time": "2021-12-01T23:01:48.628Z"
   },
   {
    "duration": 32,
    "start_time": "2021-12-01T23:01:48.656Z"
   },
   {
    "duration": 5,
    "start_time": "2021-12-01T23:01:48.690Z"
   },
   {
    "duration": 4,
    "start_time": "2021-12-01T23:01:48.696Z"
   },
   {
    "duration": 11,
    "start_time": "2021-12-01T23:01:48.702Z"
   },
   {
    "duration": 6,
    "start_time": "2021-12-01T23:01:48.714Z"
   },
   {
    "duration": 3,
    "start_time": "2021-12-01T23:02:09.023Z"
   },
   {
    "duration": 4,
    "start_time": "2021-12-01T23:02:16.031Z"
   },
   {
    "duration": 14,
    "start_time": "2021-12-01T23:03:22.006Z"
   },
   {
    "duration": 14,
    "start_time": "2021-12-01T23:03:30.550Z"
   },
   {
    "duration": 4,
    "start_time": "2021-12-01T23:03:36.669Z"
   },
   {
    "duration": 4,
    "start_time": "2021-12-01T23:03:43.806Z"
   },
   {
    "duration": 15,
    "start_time": "2021-12-01T23:04:01.934Z"
   },
   {
    "duration": 3,
    "start_time": "2021-12-01T23:04:02.382Z"
   },
   {
    "duration": 3,
    "start_time": "2021-12-01T23:04:02.726Z"
   },
   {
    "duration": 4,
    "start_time": "2021-12-01T23:04:14.462Z"
   },
   {
    "duration": 15,
    "start_time": "2021-12-01T23:04:20.438Z"
   },
   {
    "duration": 7,
    "start_time": "2021-12-01T23:04:20.677Z"
   },
   {
    "duration": 3,
    "start_time": "2021-12-01T23:04:21.246Z"
   },
   {
    "duration": 4,
    "start_time": "2021-12-01T23:04:22.891Z"
   },
   {
    "duration": 14,
    "start_time": "2021-12-01T23:04:27.910Z"
   },
   {
    "duration": 3,
    "start_time": "2021-12-01T23:04:28.158Z"
   },
   {
    "duration": 4,
    "start_time": "2021-12-01T23:04:28.461Z"
   },
   {
    "duration": 3,
    "start_time": "2021-12-01T23:04:29.973Z"
   },
   {
    "duration": 14,
    "start_time": "2021-12-01T23:04:36.782Z"
   },
   {
    "duration": 3,
    "start_time": "2021-12-01T23:04:36.998Z"
   },
   {
    "duration": 3,
    "start_time": "2021-12-01T23:04:37.414Z"
   },
   {
    "duration": 3,
    "start_time": "2021-12-01T23:04:37.966Z"
   },
   {
    "duration": 18,
    "start_time": "2021-12-01T23:04:45.101Z"
   },
   {
    "duration": 4,
    "start_time": "2021-12-01T23:04:45.317Z"
   },
   {
    "duration": 4,
    "start_time": "2021-12-01T23:04:45.493Z"
   },
   {
    "duration": 4,
    "start_time": "2021-12-01T23:04:45.997Z"
   },
   {
    "duration": 15,
    "start_time": "2021-12-01T23:04:57.589Z"
   },
   {
    "duration": 3,
    "start_time": "2021-12-01T23:04:57.851Z"
   },
   {
    "duration": 3,
    "start_time": "2021-12-01T23:04:58.093Z"
   },
   {
    "duration": 4,
    "start_time": "2021-12-01T23:04:58.309Z"
   },
   {
    "duration": 15,
    "start_time": "2021-12-01T23:05:04.701Z"
   },
   {
    "duration": 4,
    "start_time": "2021-12-01T23:05:04.885Z"
   },
   {
    "duration": 3,
    "start_time": "2021-12-01T23:05:05.046Z"
   },
   {
    "duration": 4,
    "start_time": "2021-12-01T23:05:05.237Z"
   },
   {
    "duration": 14,
    "start_time": "2021-12-01T23:05:09.734Z"
   },
   {
    "duration": 3,
    "start_time": "2021-12-01T23:05:09.950Z"
   },
   {
    "duration": 3,
    "start_time": "2021-12-01T23:05:10.109Z"
   },
   {
    "duration": 3,
    "start_time": "2021-12-01T23:05:10.277Z"
   },
   {
    "duration": 15,
    "start_time": "2021-12-01T23:05:19.509Z"
   },
   {
    "duration": 4,
    "start_time": "2021-12-01T23:05:19.693Z"
   },
   {
    "duration": 3,
    "start_time": "2021-12-01T23:05:19.853Z"
   },
   {
    "duration": 3,
    "start_time": "2021-12-01T23:05:20.021Z"
   },
   {
    "duration": 80,
    "start_time": "2021-12-01T23:05:42.045Z"
   },
   {
    "duration": 5,
    "start_time": "2021-12-01T23:05:44.373Z"
   },
   {
    "duration": 6,
    "start_time": "2021-12-01T23:08:51.540Z"
   },
   {
    "duration": 2151,
    "start_time": "2021-12-01T23:09:35.389Z"
   },
   {
    "duration": 408,
    "start_time": "2021-12-01T23:09:50.124Z"
   },
   {
    "duration": 115,
    "start_time": "2021-12-01T23:09:50.534Z"
   },
   {
    "duration": 4,
    "start_time": "2021-12-01T23:10:26.172Z"
   },
   {
    "duration": 4,
    "start_time": "2021-12-01T23:10:29.678Z"
   },
   {
    "duration": 4428,
    "start_time": "2021-12-01T23:10:35.149Z"
   },
   {
    "duration": 9,
    "start_time": "2021-12-01T23:10:39.579Z"
   },
   {
    "duration": 826,
    "start_time": "2021-12-01T23:10:55.452Z"
   },
   {
    "duration": 328,
    "start_time": "2021-12-01T23:12:45.930Z"
   },
   {
    "duration": 432,
    "start_time": "2021-12-01T23:12:48.467Z"
   },
   {
    "duration": 3,
    "start_time": "2021-12-01T23:12:48.900Z"
   },
   {
    "duration": 6,
    "start_time": "2021-12-01T23:12:48.905Z"
   },
   {
    "duration": 1908,
    "start_time": "2021-12-01T23:12:50.283Z"
   },
   {
    "duration": 375,
    "start_time": "2021-12-01T23:13:11.275Z"
   },
   {
    "duration": 20108,
    "start_time": "2021-12-01T23:14:25.707Z"
   },
   {
    "duration": 168839,
    "start_time": "2021-12-01T23:19:24.713Z"
   },
   {
    "duration": 1150,
    "start_time": "2021-12-01T23:24:47.191Z"
   },
   {
    "duration": 3242,
    "start_time": "2021-12-01T23:24:48.343Z"
   },
   {
    "duration": 13,
    "start_time": "2021-12-01T23:24:51.587Z"
   },
   {
    "duration": 5,
    "start_time": "2021-12-01T23:24:51.602Z"
   },
   {
    "duration": 5,
    "start_time": "2021-12-01T23:24:51.609Z"
   },
   {
    "duration": 5,
    "start_time": "2021-12-01T23:24:51.615Z"
   },
   {
    "duration": 9,
    "start_time": "2021-12-01T23:24:51.621Z"
   },
   {
    "duration": 28,
    "start_time": "2021-12-01T23:24:51.632Z"
   },
   {
    "duration": 26,
    "start_time": "2021-12-01T23:24:51.662Z"
   },
   {
    "duration": 5,
    "start_time": "2021-12-01T23:24:51.690Z"
   },
   {
    "duration": 5,
    "start_time": "2021-12-01T23:24:51.696Z"
   },
   {
    "duration": 12,
    "start_time": "2021-12-01T23:24:51.702Z"
   },
   {
    "duration": 5,
    "start_time": "2021-12-01T23:24:51.715Z"
   },
   {
    "duration": 13,
    "start_time": "2021-12-01T23:24:51.722Z"
   },
   {
    "duration": 5,
    "start_time": "2021-12-01T23:24:51.736Z"
   },
   {
    "duration": 465,
    "start_time": "2021-12-01T23:24:51.742Z"
   },
   {
    "duration": 123,
    "start_time": "2021-12-01T23:24:52.208Z"
   },
   {
    "duration": 10,
    "start_time": "2021-12-01T23:24:52.333Z"
   },
   {
    "duration": 4,
    "start_time": "2021-12-01T23:24:52.344Z"
   },
   {
    "duration": 3995,
    "start_time": "2021-12-01T23:24:52.349Z"
   },
   {
    "duration": 3,
    "start_time": "2021-12-01T23:24:56.346Z"
   },
   {
    "duration": 776,
    "start_time": "2021-12-01T23:24:56.351Z"
   },
   {
    "duration": 139,
    "start_time": "2021-12-01T23:24:57.128Z"
   },
   {
    "duration": 5,
    "start_time": "2021-12-01T23:24:57.269Z"
   },
   {
    "duration": 3,
    "start_time": "2021-12-01T23:24:57.276Z"
   },
   {
    "duration": 1415,
    "start_time": "2021-12-01T23:24:57.280Z"
   },
   {
    "duration": 392,
    "start_time": "2021-12-01T23:24:58.699Z"
   },
   {
    "duration": 4361186,
    "start_time": "2021-12-01T23:25:11.226Z"
   },
   {
    "duration": 3744,
    "start_time": "2021-12-02T01:06:49.844Z"
   },
   {
    "duration": 1151,
    "start_time": "2021-12-02T01:08:16.675Z"
   },
   {
    "duration": 573,
    "start_time": "2021-12-02T01:08:17.827Z"
   },
   {
    "duration": 14,
    "start_time": "2021-12-02T01:08:18.402Z"
   },
   {
    "duration": 5,
    "start_time": "2021-12-02T01:08:18.418Z"
   },
   {
    "duration": 3,
    "start_time": "2021-12-02T01:08:18.424Z"
   },
   {
    "duration": 4,
    "start_time": "2021-12-02T01:08:18.428Z"
   },
   {
    "duration": 8,
    "start_time": "2021-12-02T01:08:18.433Z"
   },
   {
    "duration": 51,
    "start_time": "2021-12-02T01:08:18.443Z"
   },
   {
    "duration": 5,
    "start_time": "2021-12-02T01:08:18.496Z"
   },
   {
    "duration": 4,
    "start_time": "2021-12-02T01:08:18.503Z"
   },
   {
    "duration": 4,
    "start_time": "2021-12-02T01:08:18.508Z"
   },
   {
    "duration": 12,
    "start_time": "2021-12-02T01:08:18.513Z"
   },
   {
    "duration": 5,
    "start_time": "2021-12-02T01:08:18.527Z"
   },
   {
    "duration": 14,
    "start_time": "2021-12-02T01:08:18.533Z"
   },
   {
    "duration": 5,
    "start_time": "2021-12-02T01:08:18.548Z"
   },
   {
    "duration": 484,
    "start_time": "2021-12-02T01:08:18.554Z"
   },
   {
    "duration": 77,
    "start_time": "2021-12-02T01:08:19.040Z"
   },
   {
    "duration": 5,
    "start_time": "2021-12-02T01:08:19.119Z"
   },
   {
    "duration": 4,
    "start_time": "2021-12-02T01:08:19.126Z"
   },
   {
    "duration": 4319,
    "start_time": "2021-12-02T01:08:19.131Z"
   },
   {
    "duration": 3,
    "start_time": "2021-12-02T01:08:23.452Z"
   },
   {
    "duration": 468,
    "start_time": "2021-12-02T01:08:23.457Z"
   },
   {
    "duration": 187,
    "start_time": "2021-12-02T01:08:23.928Z"
   },
   {
    "duration": 3,
    "start_time": "2021-12-02T01:08:24.116Z"
   },
   {
    "duration": 5,
    "start_time": "2021-12-02T01:08:24.120Z"
   },
   {
    "duration": 1442,
    "start_time": "2021-12-02T01:08:24.127Z"
   },
   {
    "duration": 239,
    "start_time": "2021-12-02T01:08:25.571Z"
   },
   {
    "duration": 2933,
    "start_time": "2021-12-02T01:08:30.959Z"
   },
   {
    "duration": 1112,
    "start_time": "2021-12-02T01:11:21.020Z"
   },
   {
    "duration": 575,
    "start_time": "2021-12-02T01:11:22.133Z"
   },
   {
    "duration": 13,
    "start_time": "2021-12-02T01:11:22.710Z"
   },
   {
    "duration": 5,
    "start_time": "2021-12-02T01:11:22.724Z"
   },
   {
    "duration": 3,
    "start_time": "2021-12-02T01:11:22.731Z"
   },
   {
    "duration": 4,
    "start_time": "2021-12-02T01:11:22.736Z"
   },
   {
    "duration": 7,
    "start_time": "2021-12-02T01:11:22.741Z"
   },
   {
    "duration": 47,
    "start_time": "2021-12-02T01:11:22.749Z"
   },
   {
    "duration": 6,
    "start_time": "2021-12-02T01:11:22.798Z"
   },
   {
    "duration": 5,
    "start_time": "2021-12-02T01:11:22.805Z"
   },
   {
    "duration": 4,
    "start_time": "2021-12-02T01:11:22.812Z"
   },
   {
    "duration": 12,
    "start_time": "2021-12-02T01:11:22.817Z"
   },
   {
    "duration": 5,
    "start_time": "2021-12-02T01:11:22.830Z"
   },
   {
    "duration": 16,
    "start_time": "2021-12-02T01:11:22.837Z"
   },
   {
    "duration": 33,
    "start_time": "2021-12-02T01:11:22.855Z"
   },
   {
    "duration": 4,
    "start_time": "2021-12-02T01:11:35.755Z"
   },
   {
    "duration": 579,
    "start_time": "2021-12-02T01:11:35.761Z"
   },
   {
    "duration": 9,
    "start_time": "2021-12-02T01:11:36.342Z"
   },
   {
    "duration": 5,
    "start_time": "2021-12-02T01:11:36.353Z"
   },
   {
    "duration": 3,
    "start_time": "2021-12-02T01:11:36.360Z"
   },
   {
    "duration": 3,
    "start_time": "2021-12-02T01:11:36.387Z"
   },
   {
    "duration": 8,
    "start_time": "2021-12-02T01:11:36.391Z"
   },
   {
    "duration": 35,
    "start_time": "2021-12-02T01:11:36.400Z"
   },
   {
    "duration": 6,
    "start_time": "2021-12-02T01:11:36.438Z"
   },
   {
    "duration": 4,
    "start_time": "2021-12-02T01:11:36.447Z"
   },
   {
    "duration": 36,
    "start_time": "2021-12-02T01:11:36.453Z"
   },
   {
    "duration": 14,
    "start_time": "2021-12-02T01:11:36.491Z"
   },
   {
    "duration": 6,
    "start_time": "2021-12-02T01:11:36.507Z"
   },
   {
    "duration": 18,
    "start_time": "2021-12-02T01:11:36.515Z"
   },
   {
    "duration": 6,
    "start_time": "2021-12-02T01:11:36.535Z"
   },
   {
    "duration": 645,
    "start_time": "2021-12-02T01:11:36.543Z"
   },
   {
    "duration": 121,
    "start_time": "2021-12-02T01:11:37.190Z"
   },
   {
    "duration": 6,
    "start_time": "2021-12-02T01:11:37.313Z"
   },
   {
    "duration": 4,
    "start_time": "2021-12-02T01:11:37.321Z"
   },
   {
    "duration": 5017,
    "start_time": "2021-12-02T01:11:37.327Z"
   },
   {
    "duration": 3,
    "start_time": "2021-12-02T01:11:42.346Z"
   },
   {
    "duration": 755,
    "start_time": "2021-12-02T01:11:42.351Z"
   },
   {
    "duration": 182,
    "start_time": "2021-12-02T01:11:43.108Z"
   },
   {
    "duration": 3,
    "start_time": "2021-12-02T01:11:43.291Z"
   },
   {
    "duration": 4,
    "start_time": "2021-12-02T01:11:43.296Z"
   },
   {
    "duration": 2025,
    "start_time": "2021-12-02T01:11:43.301Z"
   },
   {
    "duration": 391,
    "start_time": "2021-12-02T01:11:45.329Z"
   },
   {
    "duration": 1067,
    "start_time": "2021-12-02T01:13:43.715Z"
   },
   {
    "duration": 581,
    "start_time": "2021-12-02T01:13:44.784Z"
   },
   {
    "duration": 23,
    "start_time": "2021-12-02T01:13:45.367Z"
   },
   {
    "duration": 4,
    "start_time": "2021-12-02T01:13:45.392Z"
   },
   {
    "duration": 4,
    "start_time": "2021-12-02T01:13:45.398Z"
   },
   {
    "duration": 4,
    "start_time": "2021-12-02T01:13:45.404Z"
   },
   {
    "duration": 8,
    "start_time": "2021-12-02T01:13:45.409Z"
   },
   {
    "duration": 28,
    "start_time": "2021-12-02T01:13:45.419Z"
   },
   {
    "duration": 6,
    "start_time": "2021-12-02T01:13:45.449Z"
   },
   {
    "duration": 33,
    "start_time": "2021-12-02T01:13:45.457Z"
   },
   {
    "duration": 5,
    "start_time": "2021-12-02T01:13:45.492Z"
   },
   {
    "duration": 11,
    "start_time": "2021-12-02T01:13:45.498Z"
   },
   {
    "duration": 5,
    "start_time": "2021-12-02T01:13:45.511Z"
   },
   {
    "duration": 16,
    "start_time": "2021-12-02T01:13:45.518Z"
   },
   {
    "duration": 5,
    "start_time": "2021-12-02T01:13:45.535Z"
   },
   {
    "duration": 627,
    "start_time": "2021-12-02T01:13:45.541Z"
   },
   {
    "duration": 122,
    "start_time": "2021-12-02T01:13:46.170Z"
   },
   {
    "duration": 5,
    "start_time": "2021-12-02T01:13:46.294Z"
   },
   {
    "duration": 3,
    "start_time": "2021-12-02T01:13:46.300Z"
   },
   {
    "duration": 4999,
    "start_time": "2021-12-02T01:13:46.305Z"
   },
   {
    "duration": 4,
    "start_time": "2021-12-02T01:13:51.305Z"
   },
   {
    "duration": 764,
    "start_time": "2021-12-02T01:13:51.310Z"
   },
   {
    "duration": 138,
    "start_time": "2021-12-02T01:13:52.075Z"
   },
   {
    "duration": 3,
    "start_time": "2021-12-02T01:13:52.215Z"
   },
   {
    "duration": 7,
    "start_time": "2021-12-02T01:13:52.219Z"
   },
   {
    "duration": 2064,
    "start_time": "2021-12-02T01:13:52.227Z"
   },
   {
    "duration": 392,
    "start_time": "2021-12-02T01:13:54.294Z"
   },
   {
    "duration": 332,
    "start_time": "2021-12-02T01:14:11.398Z"
   },
   {
    "duration": 4732,
    "start_time": "2021-12-02T01:14:16.263Z"
   },
   {
    "duration": 1146,
    "start_time": "2021-12-02T01:15:04.668Z"
   },
   {
    "duration": 572,
    "start_time": "2021-12-02T01:15:05.816Z"
   },
   {
    "duration": 15,
    "start_time": "2021-12-02T01:15:06.390Z"
   },
   {
    "duration": 5,
    "start_time": "2021-12-02T01:15:06.408Z"
   },
   {
    "duration": 13,
    "start_time": "2021-12-02T01:15:06.415Z"
   },
   {
    "duration": 14,
    "start_time": "2021-12-02T01:15:06.430Z"
   },
   {
    "duration": 11,
    "start_time": "2021-12-02T01:15:06.445Z"
   },
   {
    "duration": 32,
    "start_time": "2021-12-02T01:15:06.458Z"
   },
   {
    "duration": 7,
    "start_time": "2021-12-02T01:15:06.493Z"
   },
   {
    "duration": 7,
    "start_time": "2021-12-02T01:15:06.502Z"
   },
   {
    "duration": 14,
    "start_time": "2021-12-02T01:15:06.510Z"
   },
   {
    "duration": 18,
    "start_time": "2021-12-02T01:15:06.525Z"
   },
   {
    "duration": 6,
    "start_time": "2021-12-02T01:15:06.545Z"
   },
   {
    "duration": 24,
    "start_time": "2021-12-02T01:15:06.553Z"
   },
   {
    "duration": 6,
    "start_time": "2021-12-02T01:15:06.587Z"
   },
   {
    "duration": 996,
    "start_time": "2021-12-02T01:15:06.594Z"
   },
   {
    "duration": 127,
    "start_time": "2021-12-02T01:15:07.592Z"
   },
   {
    "duration": 5,
    "start_time": "2021-12-02T01:15:07.721Z"
   },
   {
    "duration": 4,
    "start_time": "2021-12-02T01:15:07.728Z"
   },
   {
    "duration": 8297,
    "start_time": "2021-12-02T01:15:07.734Z"
   },
   {
    "duration": 4,
    "start_time": "2021-12-02T01:15:16.032Z"
   },
   {
    "duration": 809,
    "start_time": "2021-12-02T01:15:16.038Z"
   },
   {
    "duration": 184,
    "start_time": "2021-12-02T01:15:16.849Z"
   },
   {
    "duration": 3,
    "start_time": "2021-12-02T01:15:17.034Z"
   },
   {
    "duration": 4,
    "start_time": "2021-12-02T01:15:17.039Z"
   },
   {
    "duration": 3588,
    "start_time": "2021-12-02T01:15:17.044Z"
   },
   {
    "duration": 391,
    "start_time": "2021-12-02T01:15:20.634Z"
   },
   {
    "duration": 7963,
    "start_time": "2021-12-02T01:15:25.341Z"
   },
   {
    "duration": 362,
    "start_time": "2021-12-02T01:28:55.407Z"
   },
   {
    "duration": 1016,
    "start_time": "2021-12-02T01:29:08.629Z"
   },
   {
    "duration": 568,
    "start_time": "2021-12-02T01:29:09.648Z"
   },
   {
    "duration": 14,
    "start_time": "2021-12-02T01:29:10.217Z"
   },
   {
    "duration": 9,
    "start_time": "2021-12-02T01:29:10.233Z"
   },
   {
    "duration": 5,
    "start_time": "2021-12-02T01:29:10.243Z"
   },
   {
    "duration": 5,
    "start_time": "2021-12-02T01:29:10.249Z"
   },
   {
    "duration": 11,
    "start_time": "2021-12-02T01:29:10.255Z"
   },
   {
    "duration": 37,
    "start_time": "2021-12-02T01:29:10.267Z"
   },
   {
    "duration": 5,
    "start_time": "2021-12-02T01:29:10.306Z"
   },
   {
    "duration": 6,
    "start_time": "2021-12-02T01:29:52.599Z"
   },
   {
    "duration": 4,
    "start_time": "2021-12-02T01:29:53.000Z"
   },
   {
    "duration": 12,
    "start_time": "2021-12-02T01:29:53.479Z"
   },
   {
    "duration": 334,
    "start_time": "2021-12-02T01:29:53.895Z"
   },
   {
    "duration": 236,
    "start_time": "2021-12-02T01:29:54.359Z"
   },
   {
    "duration": 240,
    "start_time": "2021-12-02T01:30:31.975Z"
   },
   {
    "duration": 224,
    "start_time": "2021-12-02T01:30:41.231Z"
   },
   {
    "duration": 6,
    "start_time": "2021-12-02T01:31:08.719Z"
   },
   {
    "duration": 14,
    "start_time": "2021-12-02T01:31:17.623Z"
   },
   {
    "duration": 7,
    "start_time": "2021-12-02T01:31:29.575Z"
   },
   {
    "duration": 32,
    "start_time": "2021-12-02T01:33:43.926Z"
   },
   {
    "duration": 5,
    "start_time": "2021-12-02T01:33:44.950Z"
   },
   {
    "duration": 29,
    "start_time": "2021-12-02T01:34:44.734Z"
   },
   {
    "duration": 6,
    "start_time": "2021-12-02T01:34:46.277Z"
   },
   {
    "duration": 28,
    "start_time": "2021-12-02T01:37:28.133Z"
   },
   {
    "duration": 435,
    "start_time": "2021-12-02T01:38:08.941Z"
   },
   {
    "duration": 125,
    "start_time": "2021-12-02T01:38:09.378Z"
   },
   {
    "duration": 1961,
    "start_time": "2021-12-02T01:38:09.505Z"
   },
   {
    "duration": 1188,
    "start_time": "2021-12-02T01:38:55.955Z"
   },
   {
    "duration": 3258,
    "start_time": "2021-12-02T01:38:57.144Z"
   },
   {
    "duration": 16,
    "start_time": "2021-12-02T01:39:00.404Z"
   },
   {
    "duration": 3,
    "start_time": "2021-12-02T01:39:00.422Z"
   },
   {
    "duration": 5,
    "start_time": "2021-12-02T01:39:00.427Z"
   },
   {
    "duration": 9,
    "start_time": "2021-12-02T01:39:00.433Z"
   },
   {
    "duration": 9,
    "start_time": "2021-12-02T01:39:00.443Z"
   },
   {
    "duration": 51,
    "start_time": "2021-12-02T01:39:00.454Z"
   },
   {
    "duration": 5,
    "start_time": "2021-12-02T01:39:00.507Z"
   },
   {
    "duration": 4,
    "start_time": "2021-12-02T01:39:00.514Z"
   },
   {
    "duration": 6,
    "start_time": "2021-12-02T01:39:00.519Z"
   },
   {
    "duration": 13,
    "start_time": "2021-12-02T01:39:00.526Z"
   },
   {
    "duration": 5,
    "start_time": "2021-12-02T01:39:00.540Z"
   },
   {
    "duration": 14,
    "start_time": "2021-12-02T01:39:00.546Z"
   },
   {
    "duration": 27,
    "start_time": "2021-12-02T01:39:00.561Z"
   },
   {
    "duration": 27,
    "start_time": "2021-12-02T01:39:00.590Z"
   },
   {
    "duration": 448,
    "start_time": "2021-12-02T01:39:00.619Z"
   },
   {
    "duration": 122,
    "start_time": "2021-12-02T01:39:01.068Z"
   },
   {
    "duration": 1954,
    "start_time": "2021-12-02T01:39:01.192Z"
   },
   {
    "duration": 1091,
    "start_time": "2021-12-02T01:39:33.745Z"
   },
   {
    "duration": 3227,
    "start_time": "2021-12-02T01:39:34.837Z"
   },
   {
    "duration": 22,
    "start_time": "2021-12-02T01:39:38.066Z"
   },
   {
    "duration": 5,
    "start_time": "2021-12-02T01:39:38.089Z"
   },
   {
    "duration": 9,
    "start_time": "2021-12-02T01:39:38.095Z"
   },
   {
    "duration": 9,
    "start_time": "2021-12-02T01:39:38.105Z"
   },
   {
    "duration": 13,
    "start_time": "2021-12-02T01:39:38.115Z"
   },
   {
    "duration": 30,
    "start_time": "2021-12-02T01:39:38.130Z"
   },
   {
    "duration": 5,
    "start_time": "2021-12-02T01:39:38.162Z"
   },
   {
    "duration": 13,
    "start_time": "2021-12-02T01:39:38.168Z"
   },
   {
    "duration": 30,
    "start_time": "2021-12-02T01:39:38.182Z"
   },
   {
    "duration": 12,
    "start_time": "2021-12-02T01:39:38.213Z"
   },
   {
    "duration": 5,
    "start_time": "2021-12-02T01:39:38.226Z"
   },
   {
    "duration": 13,
    "start_time": "2021-12-02T01:39:38.233Z"
   },
   {
    "duration": 5,
    "start_time": "2021-12-02T01:39:38.247Z"
   },
   {
    "duration": 30,
    "start_time": "2021-12-02T01:39:38.253Z"
   },
   {
    "duration": 225,
    "start_time": "2021-12-02T01:39:42.156Z"
   },
   {
    "duration": 1997,
    "start_time": "2021-12-02T01:39:44.184Z"
   },
   {
    "duration": 108,
    "start_time": "2021-12-02T01:39:47.108Z"
   },
   {
    "duration": 1130,
    "start_time": "2021-12-02T01:41:18.916Z"
   },
   {
    "duration": 3234,
    "start_time": "2021-12-02T01:41:20.047Z"
   },
   {
    "duration": 14,
    "start_time": "2021-12-02T01:41:23.283Z"
   },
   {
    "duration": 7,
    "start_time": "2021-12-02T01:41:23.298Z"
   },
   {
    "duration": 2,
    "start_time": "2021-12-02T01:41:23.307Z"
   },
   {
    "duration": 4,
    "start_time": "2021-12-02T01:41:23.311Z"
   },
   {
    "duration": 7,
    "start_time": "2021-12-02T01:41:23.316Z"
   },
   {
    "duration": 27,
    "start_time": "2021-12-02T01:41:23.325Z"
   },
   {
    "duration": 35,
    "start_time": "2021-12-02T01:41:23.354Z"
   },
   {
    "duration": 4,
    "start_time": "2021-12-02T01:41:23.390Z"
   },
   {
    "duration": 4,
    "start_time": "2021-12-02T01:41:23.396Z"
   },
   {
    "duration": 11,
    "start_time": "2021-12-02T01:41:23.402Z"
   },
   {
    "duration": 5,
    "start_time": "2021-12-02T01:41:23.414Z"
   },
   {
    "duration": 13,
    "start_time": "2021-12-02T01:41:23.420Z"
   },
   {
    "duration": 4,
    "start_time": "2021-12-02T01:41:23.434Z"
   },
   {
    "duration": 51,
    "start_time": "2021-12-02T01:41:23.440Z"
   },
   {
    "duration": 435,
    "start_time": "2021-12-02T01:41:49.510Z"
   },
   {
    "duration": 120,
    "start_time": "2021-12-02T01:41:50.015Z"
   },
   {
    "duration": 30,
    "start_time": "2021-12-02T01:41:52.519Z"
   },
   {
    "duration": 2012,
    "start_time": "2021-12-02T01:41:54.735Z"
   },
   {
    "duration": 264,
    "start_time": "2021-12-02T01:43:57.390Z"
   },
   {
    "duration": 1158,
    "start_time": "2021-12-02T01:44:02.067Z"
   },
   {
    "duration": 3226,
    "start_time": "2021-12-02T01:44:03.228Z"
   },
   {
    "duration": 13,
    "start_time": "2021-12-02T01:44:06.456Z"
   },
   {
    "duration": 4,
    "start_time": "2021-12-02T01:44:06.471Z"
   },
   {
    "duration": 12,
    "start_time": "2021-12-02T01:44:06.476Z"
   },
   {
    "duration": 6,
    "start_time": "2021-12-02T01:44:06.489Z"
   },
   {
    "duration": 8,
    "start_time": "2021-12-02T01:44:06.496Z"
   },
   {
    "duration": 27,
    "start_time": "2021-12-02T01:44:06.505Z"
   },
   {
    "duration": 5,
    "start_time": "2021-12-02T01:44:08.614Z"
   },
   {
    "duration": 29,
    "start_time": "2021-12-02T01:45:31.230Z"
   },
   {
    "duration": 6,
    "start_time": "2021-12-02T01:46:45.549Z"
   },
   {
    "duration": 5,
    "start_time": "2021-12-02T01:47:16.852Z"
   },
   {
    "duration": 5,
    "start_time": "2021-12-02T01:47:17.116Z"
   },
   {
    "duration": 11,
    "start_time": "2021-12-02T01:47:17.348Z"
   },
   {
    "duration": 8,
    "start_time": "2021-12-02T01:47:17.821Z"
   },
   {
    "duration": 14,
    "start_time": "2021-12-02T01:47:33.285Z"
   },
   {
    "duration": 5,
    "start_time": "2021-12-02T01:47:35.796Z"
   },
   {
    "duration": 4,
    "start_time": "2021-12-02T01:48:54.988Z"
   },
   {
    "duration": 4,
    "start_time": "2021-12-02T01:49:01.324Z"
   },
   {
    "duration": 446,
    "start_time": "2021-12-02T01:50:00.412Z"
   },
   {
    "duration": 2117,
    "start_time": "2021-12-02T01:50:00.860Z"
   },
   {
    "duration": 110,
    "start_time": "2021-12-02T01:50:02.979Z"
   },
   {
    "duration": 4,
    "start_time": "2021-12-02T01:50:16.035Z"
   },
   {
    "duration": 4,
    "start_time": "2021-12-02T01:50:17.195Z"
   },
   {
    "duration": 3919,
    "start_time": "2021-12-02T01:50:20.347Z"
   },
   {
    "duration": 4,
    "start_time": "2021-12-02T01:50:24.268Z"
   },
   {
    "duration": 14405,
    "start_time": "2021-12-02T01:50:33.683Z"
   },
   {
    "duration": 757,
    "start_time": "2021-12-02T01:50:48.089Z"
   },
   {
    "duration": 205,
    "start_time": "2021-12-02T01:52:16.667Z"
   },
   {
    "duration": 4,
    "start_time": "2021-12-02T01:52:16.882Z"
   },
   {
    "duration": 2,
    "start_time": "2021-12-02T01:52:17.643Z"
   },
   {
    "duration": 1735,
    "start_time": "2021-12-02T01:52:55.755Z"
   },
   {
    "duration": 391,
    "start_time": "2021-12-02T01:52:57.492Z"
   },
   {
    "duration": 1097,
    "start_time": "2021-12-02T01:54:13.637Z"
   },
   {
    "duration": 3201,
    "start_time": "2021-12-02T01:54:14.736Z"
   },
   {
    "duration": 13,
    "start_time": "2021-12-02T01:54:17.939Z"
   },
   {
    "duration": 6,
    "start_time": "2021-12-02T01:54:17.953Z"
   },
   {
    "duration": 4,
    "start_time": "2021-12-02T01:54:17.960Z"
   },
   {
    "duration": 4,
    "start_time": "2021-12-02T01:54:17.965Z"
   },
   {
    "duration": 24,
    "start_time": "2021-12-02T01:54:17.971Z"
   },
   {
    "duration": 27,
    "start_time": "2021-12-02T01:54:17.996Z"
   },
   {
    "duration": 4,
    "start_time": "2021-12-02T01:54:18.026Z"
   },
   {
    "duration": 4,
    "start_time": "2021-12-02T01:54:18.032Z"
   },
   {
    "duration": 4,
    "start_time": "2021-12-02T01:54:18.038Z"
   },
   {
    "duration": 10,
    "start_time": "2021-12-02T01:54:18.043Z"
   },
   {
    "duration": 34,
    "start_time": "2021-12-02T01:54:18.054Z"
   },
   {
    "duration": 13,
    "start_time": "2021-12-02T01:54:18.089Z"
   },
   {
    "duration": 5,
    "start_time": "2021-12-02T01:54:18.103Z"
   },
   {
    "duration": 450,
    "start_time": "2021-12-02T01:54:18.109Z"
   },
   {
    "duration": 2143,
    "start_time": "2021-12-02T01:54:18.560Z"
   },
   {
    "duration": 109,
    "start_time": "2021-12-02T01:54:20.705Z"
   },
   {
    "duration": 5,
    "start_time": "2021-12-02T01:54:20.816Z"
   },
   {
    "duration": 3,
    "start_time": "2021-12-02T01:54:20.822Z"
   },
   {
    "duration": 4031,
    "start_time": "2021-12-02T01:54:20.827Z"
   },
   {
    "duration": 4,
    "start_time": "2021-12-02T01:54:24.859Z"
   },
   {
    "duration": 14681,
    "start_time": "2021-12-02T01:54:24.864Z"
   },
   {
    "duration": 761,
    "start_time": "2021-12-02T01:54:39.546Z"
   },
   {
    "duration": 111,
    "start_time": "2021-12-02T01:54:40.308Z"
   },
   {
    "duration": 5,
    "start_time": "2021-12-02T01:54:40.420Z"
   },
   {
    "duration": 2,
    "start_time": "2021-12-02T01:54:40.428Z"
   },
   {
    "duration": 1676,
    "start_time": "2021-12-02T01:54:40.432Z"
   },
   {
    "duration": 418,
    "start_time": "2021-12-02T01:54:42.110Z"
   },
   {
    "duration": 1147,
    "start_time": "2021-12-02T02:29:30.783Z"
   },
   {
    "duration": 3210,
    "start_time": "2021-12-02T02:29:35.416Z"
   },
   {
    "duration": 15,
    "start_time": "2021-12-02T02:29:38.627Z"
   },
   {
    "duration": 5,
    "start_time": "2021-12-02T02:29:38.644Z"
   },
   {
    "duration": 3,
    "start_time": "2021-12-02T02:29:44.239Z"
   },
   {
    "duration": 3,
    "start_time": "2021-12-02T02:29:44.759Z"
   },
   {
    "duration": 31,
    "start_time": "2021-12-02T02:30:18.983Z"
   },
   {
    "duration": 1924,
    "start_time": "2021-12-02T02:32:58.303Z"
   },
   {
    "duration": 218,
    "start_time": "2021-12-02T02:33:00.229Z"
   },
   {
    "duration": 3,
    "start_time": "2021-12-02T02:35:19.623Z"
   },
   {
    "duration": 14897,
    "start_time": "2021-12-02T02:35:22.581Z"
   },
   {
    "duration": 1491,
    "start_time": "2021-12-02T02:35:37.479Z"
   },
   {
    "duration": 109,
    "start_time": "2021-12-02T02:35:42.533Z"
   },
   {
    "duration": 5,
    "start_time": "2021-12-02T02:35:42.814Z"
   },
   {
    "duration": 3,
    "start_time": "2021-12-02T02:35:45.190Z"
   },
   {
    "duration": 6954,
    "start_time": "2021-12-02T02:36:12.958Z"
   },
   {
    "duration": 764,
    "start_time": "2021-12-02T02:36:19.914Z"
   },
   {
    "duration": 336,
    "start_time": "2021-12-02T02:37:09.278Z"
   },
   {
    "duration": 152494,
    "start_time": "2021-12-02T02:37:16.251Z"
   },
   {
    "duration": 151250,
    "start_time": "2021-12-02T02:40:12.269Z"
   },
   {
    "duration": 68199,
    "start_time": "2021-12-02T02:42:43.521Z"
   },
   {
    "duration": 3,
    "start_time": "2021-12-02T02:43:51.722Z"
   },
   {
    "duration": 14006,
    "start_time": "2021-12-02T02:43:51.727Z"
   },
   {
    "duration": 267,
    "start_time": "2021-12-02T02:54:31.639Z"
   },
   {
    "duration": -72,
    "start_time": "2021-12-02T02:54:31.980Z"
   },
   {
    "duration": 1144,
    "start_time": "2021-12-02T02:54:37.091Z"
   },
   {
    "duration": 569,
    "start_time": "2021-12-02T02:54:38.237Z"
   },
   {
    "duration": 13,
    "start_time": "2021-12-02T02:54:38.808Z"
   },
   {
    "duration": 4,
    "start_time": "2021-12-02T02:54:38.822Z"
   },
   {
    "duration": 3,
    "start_time": "2021-12-02T02:54:44.046Z"
   },
   {
    "duration": 3,
    "start_time": "2021-12-02T02:54:45.198Z"
   },
   {
    "duration": 292,
    "start_time": "2021-12-02T03:04:07.745Z"
   },
   {
    "duration": -75,
    "start_time": "2021-12-02T03:04:08.114Z"
   },
   {
    "duration": 29,
    "start_time": "2021-12-02T03:04:10.979Z"
   },
   {
    "duration": 1965,
    "start_time": "2021-12-02T03:04:12.714Z"
   },
   {
    "duration": 223,
    "start_time": "2021-12-02T03:04:14.681Z"
   },
   {
    "duration": 4,
    "start_time": "2021-12-02T03:04:20.322Z"
   },
   {
    "duration": 3,
    "start_time": "2021-12-02T03:04:21.066Z"
   },
   {
    "duration": 15200,
    "start_time": "2021-12-02T03:04:27.138Z"
   },
   {
    "duration": 3,
    "start_time": "2021-12-02T03:04:42.340Z"
   },
   {
    "duration": 1519,
    "start_time": "2021-12-02T03:04:42.344Z"
   },
   {
    "duration": 204,
    "start_time": "2021-12-02T03:04:49.850Z"
   },
   {
    "duration": 3,
    "start_time": "2021-12-02T03:04:50.154Z"
   },
   {
    "duration": 2,
    "start_time": "2021-12-02T03:04:52.122Z"
   },
   {
    "duration": 7151,
    "start_time": "2021-12-02T03:04:55.018Z"
   },
   {
    "duration": 759,
    "start_time": "2021-12-02T03:05:02.171Z"
   },
   {
    "duration": 141111,
    "start_time": "2021-12-02T03:07:04.249Z"
   },
   {
    "duration": 783297,
    "start_time": "2021-12-02T03:09:25.361Z"
   },
   {
    "duration": 250,
    "start_time": "2021-12-02T03:27:01.842Z"
   },
   {
    "duration": 1650,
    "start_time": "2021-12-02T06:36:32.344Z"
   },
   {
    "duration": 776,
    "start_time": "2021-12-02T06:36:33.997Z"
   },
   {
    "duration": 23,
    "start_time": "2021-12-02T06:36:34.777Z"
   },
   {
    "duration": 6,
    "start_time": "2021-12-02T06:36:34.802Z"
   },
   {
    "duration": 4,
    "start_time": "2021-12-02T06:36:34.830Z"
   },
   {
    "duration": 5,
    "start_time": "2021-12-02T06:36:34.837Z"
   },
   {
    "duration": 36,
    "start_time": "2021-12-02T06:36:34.845Z"
   },
   {
    "duration": 2668,
    "start_time": "2021-12-02T06:36:34.883Z"
   },
   {
    "duration": 301,
    "start_time": "2021-12-02T06:36:37.555Z"
   },
   {
    "duration": 7,
    "start_time": "2021-12-02T06:36:37.859Z"
   },
   {
    "duration": 7,
    "start_time": "2021-12-02T06:36:37.868Z"
   },
   {
    "duration": 29825,
    "start_time": "2021-12-02T06:36:37.877Z"
   },
   {
    "duration": 5,
    "start_time": "2021-12-02T06:37:07.704Z"
   },
   {
    "duration": 3277,
    "start_time": "2021-12-02T06:37:07.711Z"
   },
   {
    "duration": 406,
    "start_time": "2021-12-02T06:37:10.991Z"
   },
   {
    "duration": 5,
    "start_time": "2021-12-02T06:37:11.399Z"
   },
   {
    "duration": 6,
    "start_time": "2021-12-02T06:37:11.406Z"
   },
   {
    "duration": 12962,
    "start_time": "2021-12-02T06:37:11.414Z"
   },
   {
    "duration": 1384,
    "start_time": "2021-12-02T06:37:24.378Z"
   },
   {
    "duration": 300844,
    "start_time": "2021-12-02T06:37:25.765Z"
   },
   {
    "duration": 1608689,
    "start_time": "2021-12-02T06:42:26.613Z"
   },
   {
    "duration": 1593,
    "start_time": "2021-12-02T18:58:31.522Z"
   },
   {
    "duration": 789,
    "start_time": "2021-12-02T18:58:33.118Z"
   },
   {
    "duration": 27,
    "start_time": "2021-12-02T18:58:33.910Z"
   },
   {
    "duration": 5,
    "start_time": "2021-12-02T18:58:33.940Z"
   },
   {
    "duration": 11,
    "start_time": "2021-12-02T18:58:33.948Z"
   },
   {
    "duration": 6,
    "start_time": "2021-12-02T18:58:33.961Z"
   },
   {
    "duration": 66,
    "start_time": "2021-12-02T18:58:33.970Z"
   },
   {
    "duration": 2801,
    "start_time": "2021-12-02T18:58:34.038Z"
   },
   {
    "duration": 303,
    "start_time": "2021-12-02T18:58:36.844Z"
   },
   {
    "duration": 8,
    "start_time": "2021-12-02T18:58:37.150Z"
   },
   {
    "duration": 6,
    "start_time": "2021-12-02T18:58:37.160Z"
   },
   {
    "duration": 27721,
    "start_time": "2021-12-02T18:58:37.169Z"
   },
   {
    "duration": 6,
    "start_time": "2021-12-02T18:59:04.892Z"
   },
   {
    "duration": 2863,
    "start_time": "2021-12-02T18:59:04.900Z"
   },
   {
    "duration": 199,
    "start_time": "2021-12-02T18:59:07.766Z"
   },
   {
    "duration": 6,
    "start_time": "2021-12-02T18:59:07.968Z"
   },
   {
    "duration": 6,
    "start_time": "2021-12-02T18:59:07.977Z"
   },
   {
    "duration": 12794,
    "start_time": "2021-12-02T18:59:07.986Z"
   },
   {
    "duration": 1419,
    "start_time": "2021-12-02T18:59:20.782Z"
   },
   {
    "duration": 1626,
    "start_time": "2021-12-02T23:10:52.586Z"
   },
   {
    "duration": 782,
    "start_time": "2021-12-02T23:10:54.214Z"
   },
   {
    "duration": 30,
    "start_time": "2021-12-02T23:10:54.999Z"
   },
   {
    "duration": 6,
    "start_time": "2021-12-02T23:10:55.031Z"
   },
   {
    "duration": 11,
    "start_time": "2021-12-02T23:10:55.039Z"
   },
   {
    "duration": 23,
    "start_time": "2021-12-02T23:10:55.052Z"
   },
   {
    "duration": 42,
    "start_time": "2021-12-02T23:10:55.078Z"
   },
   {
    "duration": 2745,
    "start_time": "2021-12-02T23:10:55.122Z"
   },
   {
    "duration": 304,
    "start_time": "2021-12-02T23:10:57.871Z"
   },
   {
    "duration": 7,
    "start_time": "2021-12-02T23:10:58.178Z"
   },
   {
    "duration": 8,
    "start_time": "2021-12-02T23:10:58.187Z"
   },
   {
    "duration": 27434,
    "start_time": "2021-12-02T23:10:58.197Z"
   },
   {
    "duration": 6,
    "start_time": "2021-12-02T23:11:25.633Z"
   },
   {
    "duration": 2955,
    "start_time": "2021-12-02T23:11:25.642Z"
   },
   {
    "duration": 210,
    "start_time": "2021-12-02T23:11:28.600Z"
   },
   {
    "duration": 6,
    "start_time": "2021-12-02T23:11:28.814Z"
   },
   {
    "duration": 8,
    "start_time": "2021-12-02T23:11:28.823Z"
   },
   {
    "duration": 13296,
    "start_time": "2021-12-02T23:11:28.833Z"
   },
   {
    "duration": 1311,
    "start_time": "2021-12-02T23:11:42.131Z"
   },
   {
    "duration": 5,
    "start_time": "2021-12-02T23:11:57.900Z"
   },
   {
    "duration": 14420,
    "start_time": "2021-12-02T23:12:02.190Z"
   },
   {
    "duration": 790593,
    "start_time": "2021-12-02T23:35:06.229Z"
   },
   {
    "duration": 262788,
    "start_time": "2021-12-02T23:57:36.134Z"
   },
   {
    "duration": 1525236,
    "start_time": "2021-12-03T00:01:58.925Z"
   },
   {
    "duration": 5,
    "start_time": "2021-12-03T00:35:41.529Z"
   },
   {
    "duration": 9,
    "start_time": "2021-12-03T00:35:42.104Z"
   },
   {
    "duration": 7157,
    "start_time": "2021-12-05T19:01:29.946Z"
   },
   {
    "duration": 12798,
    "start_time": "2021-12-05T19:03:05.452Z"
   },
   {
    "duration": 2616,
    "start_time": "2021-12-05T19:06:05.893Z"
   },
   {
    "duration": 8,
    "start_time": "2021-12-05T19:06:11.988Z"
   },
   {
    "duration": 3,
    "start_time": "2021-12-05T19:06:29.981Z"
   },
   {
    "duration": 3,
    "start_time": "2021-12-05T19:07:16.372Z"
   },
   {
    "duration": 219,
    "start_time": "2021-12-05T19:07:37.997Z"
   },
   {
    "duration": 3,
    "start_time": "2021-12-05T19:07:49.045Z"
   },
   {
    "duration": 168,
    "start_time": "2021-12-05T19:09:09.869Z"
   },
   {
    "duration": 3,
    "start_time": "2021-12-05T19:09:14.653Z"
   },
   {
    "duration": 3,
    "start_time": "2021-12-05T19:09:15.957Z"
   },
   {
    "duration": 4,
    "start_time": "2021-12-05T19:16:37.796Z"
   },
   {
    "duration": 56,
    "start_time": "2021-12-05T19:16:51.284Z"
   },
   {
    "duration": 54,
    "start_time": "2021-12-05T19:16:57.893Z"
   },
   {
    "duration": 4,
    "start_time": "2021-12-05T19:17:01.631Z"
   },
   {
    "duration": 5341,
    "start_time": "2021-12-05T19:22:47.940Z"
   },
   {
    "duration": 4,
    "start_time": "2021-12-05T19:22:57.227Z"
   },
   {
    "duration": 4,
    "start_time": "2021-12-05T19:22:59.868Z"
   },
   {
    "duration": 12871,
    "start_time": "2021-12-05T19:23:04.894Z"
   },
   {
    "duration": 10680,
    "start_time": "2021-12-05T19:23:26.587Z"
   },
   {
    "duration": 4,
    "start_time": "2021-12-05T19:23:40.338Z"
   },
   {
    "duration": 4,
    "start_time": "2021-12-05T19:23:41.451Z"
   },
   {
    "duration": 3,
    "start_time": "2021-12-05T19:28:26.762Z"
   },
   {
    "duration": 175,
    "start_time": "2021-12-05T19:28:28.034Z"
   },
   {
    "duration": 3,
    "start_time": "2021-12-05T19:28:37.202Z"
   },
   {
    "duration": 4509,
    "start_time": "2021-12-05T19:38:25.198Z"
   },
   {
    "duration": 3136,
    "start_time": "2021-12-05T19:38:39.021Z"
   },
   {
    "duration": 3,
    "start_time": "2021-12-05T19:38:44.069Z"
   },
   {
    "duration": 3323,
    "start_time": "2021-12-05T19:39:55.260Z"
   },
   {
    "duration": 3671,
    "start_time": "2021-12-05T19:40:03.893Z"
   },
   {
    "duration": 4,
    "start_time": "2021-12-05T19:40:14.180Z"
   },
   {
    "duration": 6127,
    "start_time": "2021-12-05T19:40:55.644Z"
   },
   {
    "duration": 4,
    "start_time": "2021-12-05T19:41:04.115Z"
   },
   {
    "duration": 4,
    "start_time": "2021-12-05T19:41:30.042Z"
   },
   {
    "duration": 2,
    "start_time": "2021-12-05T19:41:44.234Z"
   },
   {
    "duration": 4,
    "start_time": "2021-12-05T19:45:10.905Z"
   },
   {
    "duration": 4,
    "start_time": "2021-12-05T19:45:30.728Z"
   },
   {
    "duration": 2,
    "start_time": "2021-12-05T19:47:15.383Z"
   },
   {
    "duration": 3,
    "start_time": "2021-12-05T19:47:17.006Z"
   },
   {
    "duration": 4,
    "start_time": "2021-12-05T19:47:27.454Z"
   },
   {
    "duration": 216,
    "start_time": "2021-12-05T19:48:30.327Z"
   },
   {
    "duration": 3,
    "start_time": "2021-12-05T19:48:34.246Z"
   },
   {
    "duration": 4,
    "start_time": "2021-12-05T19:48:36.990Z"
   },
   {
    "duration": 4,
    "start_time": "2021-12-05T19:49:05.557Z"
   },
   {
    "duration": 5,
    "start_time": "2021-12-05T19:49:06.989Z"
   },
   {
    "duration": 2,
    "start_time": "2021-12-05T19:49:40.781Z"
   },
   {
    "duration": 169,
    "start_time": "2021-12-05T19:49:41.677Z"
   },
   {
    "duration": 2,
    "start_time": "2021-12-05T20:06:46.232Z"
   },
   {
    "duration": 3,
    "start_time": "2021-12-05T20:06:47.645Z"
   },
   {
    "duration": 3,
    "start_time": "2021-12-05T20:06:50.521Z"
   },
   {
    "duration": 5,
    "start_time": "2021-12-05T20:07:31.670Z"
   },
   {
    "duration": 6,
    "start_time": "2021-12-05T20:07:43.709Z"
   },
   {
    "duration": 4125,
    "start_time": "2021-12-05T20:27:11.040Z"
   },
   {
    "duration": 5136,
    "start_time": "2021-12-05T20:28:30.821Z"
   },
   {
    "duration": 5799,
    "start_time": "2021-12-05T20:28:46.350Z"
   },
   {
    "duration": 6288,
    "start_time": "2021-12-05T20:29:00.389Z"
   },
   {
    "duration": 8,
    "start_time": "2021-12-05T20:29:12.342Z"
   },
   {
    "duration": 3,
    "start_time": "2021-12-05T20:29:15.221Z"
   },
   {
    "duration": 5,
    "start_time": "2021-12-05T20:29:23.405Z"
   },
   {
    "duration": 400,
    "start_time": "2021-12-05T20:32:15.661Z"
   },
   {
    "duration": 3,
    "start_time": "2021-12-05T20:32:23.460Z"
   },
   {
    "duration": 3,
    "start_time": "2021-12-05T20:32:25.428Z"
   },
   {
    "duration": 4,
    "start_time": "2021-12-05T20:32:27.884Z"
   },
   {
    "duration": 4,
    "start_time": "2021-12-05T20:32:32.068Z"
   },
   {
    "duration": 1380,
    "start_time": "2022-05-02T22:15:16.962Z"
   },
   {
    "duration": 956,
    "start_time": "2022-05-02T22:15:18.345Z"
   },
   {
    "duration": 18,
    "start_time": "2022-05-02T22:15:19.303Z"
   },
   {
    "duration": 5,
    "start_time": "2022-05-02T22:15:22.546Z"
   },
   {
    "duration": 3,
    "start_time": "2022-05-02T22:15:26.474Z"
   },
   {
    "duration": 3,
    "start_time": "2022-05-02T22:15:26.689Z"
   },
   {
    "duration": 36,
    "start_time": "2022-05-02T22:15:28.314Z"
   },
   {
    "duration": 1927,
    "start_time": "2022-05-02T22:15:28.915Z"
   },
   {
    "duration": 217,
    "start_time": "2022-05-02T22:15:30.844Z"
   },
   {
    "duration": 5,
    "start_time": "2022-05-02T22:15:37.601Z"
   },
   {
    "duration": 4,
    "start_time": "2022-05-02T22:15:37.818Z"
   },
   {
    "duration": 18106,
    "start_time": "2022-05-02T22:15:39.825Z"
   },
   {
    "duration": 3,
    "start_time": "2022-05-02T22:15:57.933Z"
   },
   {
    "duration": 1840,
    "start_time": "2022-05-02T22:15:57.938Z"
   },
   {
    "duration": 1349,
    "start_time": "2022-05-03T00:11:18.494Z"
   },
   {
    "duration": 905,
    "start_time": "2022-05-03T00:11:19.845Z"
   },
   {
    "duration": 18,
    "start_time": "2022-05-03T00:11:20.751Z"
   },
   {
    "duration": 5,
    "start_time": "2022-05-03T00:11:20.770Z"
   },
   {
    "duration": 4,
    "start_time": "2022-05-03T00:11:20.777Z"
   },
   {
    "duration": 6,
    "start_time": "2022-05-03T00:11:20.782Z"
   },
   {
    "duration": 53,
    "start_time": "2022-05-03T00:11:20.789Z"
   },
   {
    "duration": 1975,
    "start_time": "2022-05-03T00:11:20.844Z"
   },
   {
    "duration": 224,
    "start_time": "2022-05-03T00:11:22.822Z"
   },
   {
    "duration": 8,
    "start_time": "2022-05-03T00:11:23.048Z"
   },
   {
    "duration": 4,
    "start_time": "2022-05-03T00:11:23.058Z"
   },
   {
    "duration": 17464,
    "start_time": "2022-05-03T00:11:23.063Z"
   },
   {
    "duration": 4,
    "start_time": "2022-05-03T00:11:40.529Z"
   },
   {
    "duration": 1775,
    "start_time": "2022-05-03T00:11:40.535Z"
   }
  ],
  "kernelspec": {
   "display_name": "Python 3 (ipykernel)",
   "language": "python",
   "name": "python3"
  },
  "language_info": {
   "codemirror_mode": {
    "name": "ipython",
    "version": 3
   },
   "file_extension": ".py",
   "mimetype": "text/x-python",
   "name": "python",
   "nbconvert_exporter": "python",
   "pygments_lexer": "ipython3",
   "version": "3.9.5"
  },
  "toc": {
   "base_numbering": 1,
   "nav_menu": {},
   "number_sections": true,
   "sideBar": true,
   "skip_h1_title": true,
   "title_cell": "Содержание",
   "title_sidebar": "Contents",
   "toc_cell": true,
   "toc_position": {
    "height": "calc(100% - 180px)",
    "left": "10px",
    "top": "150px",
    "width": "302.385px"
   },
   "toc_section_display": true,
   "toc_window_display": false
  }
 },
 "nbformat": 4,
 "nbformat_minor": 2
}
