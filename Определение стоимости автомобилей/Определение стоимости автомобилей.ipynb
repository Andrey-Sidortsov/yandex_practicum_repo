{
 "cells": [
  {
   "cell_type": "markdown",
   "metadata": {},
   "source": [
    "# Определение стоимости автомобилей"
   ]
  },
  {
   "cell_type": "markdown",
   "metadata": {},
   "source": [
    "Сервис по продаже автомобилей с пробегом разрабатывает приложение для привлечения новых клиентов. В нём можно быстро узнать рыночную стоимость своего автомобиля. В вашем распоряжении исторические данные: технические характеристики, комплектации и цены автомобилей. Необходимо построить модель для определения стоимости. "
   ]
  },
  {
   "cell_type": "markdown",
   "metadata": {},
   "source": [
    "Заказчику важны:\n",
    "\n",
    "- качество предсказания;\n",
    "- скорость предсказания;\n",
    "- время обучения."
   ]
  },
  {
   "cell_type": "markdown",
   "metadata": {},
   "source": [
    "* `DateCrawled` — дата скачивания анкеты из базы\n",
    "* `Price` — цена (евро)\n",
    "* `VehicleType` — тип автомобильного кузова\n",
    "* `RegistrationYear` — год регистрации автомобиля\n",
    "* `Gearbox` — тип коробки передач\n",
    "* `Power` — мощность (л. с.)\n",
    "* `Model` — модель автомобиля\n",
    "* `Kilometer` — пробег (км)\n",
    "* `RegistrationMonth` — месяц регистрации автомобиля\n",
    "* `FuelType` — тип топлива\n",
    "* `Brand` — марка автомобиля\n",
    "* `NotRepaired` — была машина в ремонте или нет\n",
    "* `DateCreated` — дата создания анкеты\n",
    "* `NumberOfPictures` — количество фотографий автомобиля\n",
    "* `PostalCode` — почтовый индекс владельца анкеты (пользователя)\n",
    "* `LastSeen` — дата последней активности пользователя"
   ]
  },
  {
   "cell_type": "markdown",
   "metadata": {},
   "source": [
    "#### План работы над проектом :"
   ]
  },
  {
   "cell_type": "markdown",
   "metadata": {},
   "source": [
    "1. [Подготовка данных](#Step_1)\n",
    "2. [Обучение моделей](#Step_2)\n",
    "3. [Анализ моделей](#Step_3)\n",
    "4. [Вывод](#Step_4)"
   ]
  },
  {
   "cell_type": "markdown",
   "metadata": {},
   "source": [
    "## Подготовка данных <a id=\"Step_1\"></a>"
   ]
  },
  {
   "cell_type": "markdown",
   "metadata": {},
   "source": [
    "Загрузим всё необходимое для работы"
   ]
  },
  {
   "cell_type": "code",
   "execution_count": 1,
   "metadata": {},
   "outputs": [],
   "source": [
    "import pandas as pd\n",
    "\n",
    "from numpy import mean\n",
    "from numpy import std\n",
    "\n",
    "from matplotlib import pyplot\n",
    "\n",
    "from sklearn.preprocessing import OrdinalEncoder\n",
    "\n",
    "from sklearn.model_selection import train_test_split\n",
    "\n",
    "from sklearn.metrics import mean_squared_error\n",
    "\n",
    "from sklearn.linear_model import LinearRegression\n",
    "\n",
    "from lightgbm import LGBMRegressor\n",
    "\n",
    "from sklearn.model_selection import cross_val_score\n",
    "\n",
    "from sklearn.model_selection import RepeatedKFold\n"
   ]
  },
  {
   "cell_type": "code",
   "execution_count": 2,
   "metadata": {},
   "outputs": [],
   "source": [
    "df = pd.read_csv('/datasets/autos.csv')"
   ]
  },
  {
   "cell_type": "code",
   "execution_count": 3,
   "metadata": {},
   "outputs": [],
   "source": [
    "pd.options.display.max_columns = None"
   ]
  },
  {
   "cell_type": "code",
   "execution_count": 4,
   "metadata": {
    "scrolled": false
   },
   "outputs": [
    {
     "data": {
      "text/html": [
       "<div>\n",
       "<style scoped>\n",
       "    .dataframe tbody tr th:only-of-type {\n",
       "        vertical-align: middle;\n",
       "    }\n",
       "\n",
       "    .dataframe tbody tr th {\n",
       "        vertical-align: top;\n",
       "    }\n",
       "\n",
       "    .dataframe thead th {\n",
       "        text-align: right;\n",
       "    }\n",
       "</style>\n",
       "<table border=\"1\" class=\"dataframe\">\n",
       "  <thead>\n",
       "    <tr style=\"text-align: right;\">\n",
       "      <th></th>\n",
       "      <th>DateCrawled</th>\n",
       "      <th>Price</th>\n",
       "      <th>VehicleType</th>\n",
       "      <th>RegistrationYear</th>\n",
       "      <th>Gearbox</th>\n",
       "      <th>Power</th>\n",
       "      <th>Model</th>\n",
       "      <th>Kilometer</th>\n",
       "      <th>RegistrationMonth</th>\n",
       "      <th>FuelType</th>\n",
       "      <th>Brand</th>\n",
       "      <th>NotRepaired</th>\n",
       "      <th>DateCreated</th>\n",
       "      <th>NumberOfPictures</th>\n",
       "      <th>PostalCode</th>\n",
       "      <th>LastSeen</th>\n",
       "    </tr>\n",
       "  </thead>\n",
       "  <tbody>\n",
       "    <tr>\n",
       "      <td>0</td>\n",
       "      <td>2016-03-24 11:52:17</td>\n",
       "      <td>480</td>\n",
       "      <td>NaN</td>\n",
       "      <td>1993</td>\n",
       "      <td>manual</td>\n",
       "      <td>0</td>\n",
       "      <td>golf</td>\n",
       "      <td>150000</td>\n",
       "      <td>0</td>\n",
       "      <td>petrol</td>\n",
       "      <td>volkswagen</td>\n",
       "      <td>NaN</td>\n",
       "      <td>2016-03-24 00:00:00</td>\n",
       "      <td>0</td>\n",
       "      <td>70435</td>\n",
       "      <td>2016-04-07 03:16:57</td>\n",
       "    </tr>\n",
       "    <tr>\n",
       "      <td>1</td>\n",
       "      <td>2016-03-24 10:58:45</td>\n",
       "      <td>18300</td>\n",
       "      <td>coupe</td>\n",
       "      <td>2011</td>\n",
       "      <td>manual</td>\n",
       "      <td>190</td>\n",
       "      <td>NaN</td>\n",
       "      <td>125000</td>\n",
       "      <td>5</td>\n",
       "      <td>gasoline</td>\n",
       "      <td>audi</td>\n",
       "      <td>yes</td>\n",
       "      <td>2016-03-24 00:00:00</td>\n",
       "      <td>0</td>\n",
       "      <td>66954</td>\n",
       "      <td>2016-04-07 01:46:50</td>\n",
       "    </tr>\n",
       "    <tr>\n",
       "      <td>2</td>\n",
       "      <td>2016-03-14 12:52:21</td>\n",
       "      <td>9800</td>\n",
       "      <td>suv</td>\n",
       "      <td>2004</td>\n",
       "      <td>auto</td>\n",
       "      <td>163</td>\n",
       "      <td>grand</td>\n",
       "      <td>125000</td>\n",
       "      <td>8</td>\n",
       "      <td>gasoline</td>\n",
       "      <td>jeep</td>\n",
       "      <td>NaN</td>\n",
       "      <td>2016-03-14 00:00:00</td>\n",
       "      <td>0</td>\n",
       "      <td>90480</td>\n",
       "      <td>2016-04-05 12:47:46</td>\n",
       "    </tr>\n",
       "    <tr>\n",
       "      <td>3</td>\n",
       "      <td>2016-03-17 16:54:04</td>\n",
       "      <td>1500</td>\n",
       "      <td>small</td>\n",
       "      <td>2001</td>\n",
       "      <td>manual</td>\n",
       "      <td>75</td>\n",
       "      <td>golf</td>\n",
       "      <td>150000</td>\n",
       "      <td>6</td>\n",
       "      <td>petrol</td>\n",
       "      <td>volkswagen</td>\n",
       "      <td>no</td>\n",
       "      <td>2016-03-17 00:00:00</td>\n",
       "      <td>0</td>\n",
       "      <td>91074</td>\n",
       "      <td>2016-03-17 17:40:17</td>\n",
       "    </tr>\n",
       "    <tr>\n",
       "      <td>4</td>\n",
       "      <td>2016-03-31 17:25:20</td>\n",
       "      <td>3600</td>\n",
       "      <td>small</td>\n",
       "      <td>2008</td>\n",
       "      <td>manual</td>\n",
       "      <td>69</td>\n",
       "      <td>fabia</td>\n",
       "      <td>90000</td>\n",
       "      <td>7</td>\n",
       "      <td>gasoline</td>\n",
       "      <td>skoda</td>\n",
       "      <td>no</td>\n",
       "      <td>2016-03-31 00:00:00</td>\n",
       "      <td>0</td>\n",
       "      <td>60437</td>\n",
       "      <td>2016-04-06 10:17:21</td>\n",
       "    </tr>\n",
       "    <tr>\n",
       "      <td>...</td>\n",
       "      <td>...</td>\n",
       "      <td>...</td>\n",
       "      <td>...</td>\n",
       "      <td>...</td>\n",
       "      <td>...</td>\n",
       "      <td>...</td>\n",
       "      <td>...</td>\n",
       "      <td>...</td>\n",
       "      <td>...</td>\n",
       "      <td>...</td>\n",
       "      <td>...</td>\n",
       "      <td>...</td>\n",
       "      <td>...</td>\n",
       "      <td>...</td>\n",
       "      <td>...</td>\n",
       "      <td>...</td>\n",
       "    </tr>\n",
       "    <tr>\n",
       "      <td>354364</td>\n",
       "      <td>2016-03-21 09:50:58</td>\n",
       "      <td>0</td>\n",
       "      <td>NaN</td>\n",
       "      <td>2005</td>\n",
       "      <td>manual</td>\n",
       "      <td>0</td>\n",
       "      <td>colt</td>\n",
       "      <td>150000</td>\n",
       "      <td>7</td>\n",
       "      <td>petrol</td>\n",
       "      <td>mitsubishi</td>\n",
       "      <td>yes</td>\n",
       "      <td>2016-03-21 00:00:00</td>\n",
       "      <td>0</td>\n",
       "      <td>2694</td>\n",
       "      <td>2016-03-21 10:42:49</td>\n",
       "    </tr>\n",
       "    <tr>\n",
       "      <td>354365</td>\n",
       "      <td>2016-03-14 17:48:27</td>\n",
       "      <td>2200</td>\n",
       "      <td>NaN</td>\n",
       "      <td>2005</td>\n",
       "      <td>NaN</td>\n",
       "      <td>0</td>\n",
       "      <td>NaN</td>\n",
       "      <td>20000</td>\n",
       "      <td>1</td>\n",
       "      <td>NaN</td>\n",
       "      <td>sonstige_autos</td>\n",
       "      <td>NaN</td>\n",
       "      <td>2016-03-14 00:00:00</td>\n",
       "      <td>0</td>\n",
       "      <td>39576</td>\n",
       "      <td>2016-04-06 00:46:52</td>\n",
       "    </tr>\n",
       "    <tr>\n",
       "      <td>354366</td>\n",
       "      <td>2016-03-05 19:56:21</td>\n",
       "      <td>1199</td>\n",
       "      <td>convertible</td>\n",
       "      <td>2000</td>\n",
       "      <td>auto</td>\n",
       "      <td>101</td>\n",
       "      <td>fortwo</td>\n",
       "      <td>125000</td>\n",
       "      <td>3</td>\n",
       "      <td>petrol</td>\n",
       "      <td>smart</td>\n",
       "      <td>no</td>\n",
       "      <td>2016-03-05 00:00:00</td>\n",
       "      <td>0</td>\n",
       "      <td>26135</td>\n",
       "      <td>2016-03-11 18:17:12</td>\n",
       "    </tr>\n",
       "    <tr>\n",
       "      <td>354367</td>\n",
       "      <td>2016-03-19 18:57:12</td>\n",
       "      <td>9200</td>\n",
       "      <td>bus</td>\n",
       "      <td>1996</td>\n",
       "      <td>manual</td>\n",
       "      <td>102</td>\n",
       "      <td>transporter</td>\n",
       "      <td>150000</td>\n",
       "      <td>3</td>\n",
       "      <td>gasoline</td>\n",
       "      <td>volkswagen</td>\n",
       "      <td>no</td>\n",
       "      <td>2016-03-19 00:00:00</td>\n",
       "      <td>0</td>\n",
       "      <td>87439</td>\n",
       "      <td>2016-04-07 07:15:26</td>\n",
       "    </tr>\n",
       "    <tr>\n",
       "      <td>354368</td>\n",
       "      <td>2016-03-20 19:41:08</td>\n",
       "      <td>3400</td>\n",
       "      <td>wagon</td>\n",
       "      <td>2002</td>\n",
       "      <td>manual</td>\n",
       "      <td>100</td>\n",
       "      <td>golf</td>\n",
       "      <td>150000</td>\n",
       "      <td>6</td>\n",
       "      <td>gasoline</td>\n",
       "      <td>volkswagen</td>\n",
       "      <td>NaN</td>\n",
       "      <td>2016-03-20 00:00:00</td>\n",
       "      <td>0</td>\n",
       "      <td>40764</td>\n",
       "      <td>2016-03-24 12:45:21</td>\n",
       "    </tr>\n",
       "  </tbody>\n",
       "</table>\n",
       "<p>354369 rows × 16 columns</p>\n",
       "</div>"
      ],
      "text/plain": [
       "                DateCrawled  Price  VehicleType  RegistrationYear Gearbox  \\\n",
       "0       2016-03-24 11:52:17    480          NaN              1993  manual   \n",
       "1       2016-03-24 10:58:45  18300        coupe              2011  manual   \n",
       "2       2016-03-14 12:52:21   9800          suv              2004    auto   \n",
       "3       2016-03-17 16:54:04   1500        small              2001  manual   \n",
       "4       2016-03-31 17:25:20   3600        small              2008  manual   \n",
       "...                     ...    ...          ...               ...     ...   \n",
       "354364  2016-03-21 09:50:58      0          NaN              2005  manual   \n",
       "354365  2016-03-14 17:48:27   2200          NaN              2005     NaN   \n",
       "354366  2016-03-05 19:56:21   1199  convertible              2000    auto   \n",
       "354367  2016-03-19 18:57:12   9200          bus              1996  manual   \n",
       "354368  2016-03-20 19:41:08   3400        wagon              2002  manual   \n",
       "\n",
       "        Power        Model  Kilometer  RegistrationMonth  FuelType  \\\n",
       "0           0         golf     150000                  0    petrol   \n",
       "1         190          NaN     125000                  5  gasoline   \n",
       "2         163        grand     125000                  8  gasoline   \n",
       "3          75         golf     150000                  6    petrol   \n",
       "4          69        fabia      90000                  7  gasoline   \n",
       "...       ...          ...        ...                ...       ...   \n",
       "354364      0         colt     150000                  7    petrol   \n",
       "354365      0          NaN      20000                  1       NaN   \n",
       "354366    101       fortwo     125000                  3    petrol   \n",
       "354367    102  transporter     150000                  3  gasoline   \n",
       "354368    100         golf     150000                  6  gasoline   \n",
       "\n",
       "                 Brand NotRepaired          DateCreated  NumberOfPictures  \\\n",
       "0           volkswagen         NaN  2016-03-24 00:00:00                 0   \n",
       "1                 audi         yes  2016-03-24 00:00:00                 0   \n",
       "2                 jeep         NaN  2016-03-14 00:00:00                 0   \n",
       "3           volkswagen          no  2016-03-17 00:00:00                 0   \n",
       "4                skoda          no  2016-03-31 00:00:00                 0   \n",
       "...                ...         ...                  ...               ...   \n",
       "354364      mitsubishi         yes  2016-03-21 00:00:00                 0   \n",
       "354365  sonstige_autos         NaN  2016-03-14 00:00:00                 0   \n",
       "354366           smart          no  2016-03-05 00:00:00                 0   \n",
       "354367      volkswagen          no  2016-03-19 00:00:00                 0   \n",
       "354368      volkswagen         NaN  2016-03-20 00:00:00                 0   \n",
       "\n",
       "        PostalCode             LastSeen  \n",
       "0            70435  2016-04-07 03:16:57  \n",
       "1            66954  2016-04-07 01:46:50  \n",
       "2            90480  2016-04-05 12:47:46  \n",
       "3            91074  2016-03-17 17:40:17  \n",
       "4            60437  2016-04-06 10:17:21  \n",
       "...            ...                  ...  \n",
       "354364        2694  2016-03-21 10:42:49  \n",
       "354365       39576  2016-04-06 00:46:52  \n",
       "354366       26135  2016-03-11 18:17:12  \n",
       "354367       87439  2016-04-07 07:15:26  \n",
       "354368       40764  2016-03-24 12:45:21  \n",
       "\n",
       "[354369 rows x 16 columns]"
      ]
     },
     "execution_count": 4,
     "metadata": {},
     "output_type": "execute_result"
    }
   ],
   "source": [
    "df"
   ]
  },
  {
   "cell_type": "code",
   "execution_count": 5,
   "metadata": {},
   "outputs": [
    {
     "name": "stdout",
     "output_type": "stream",
     "text": [
      "<class 'pandas.core.frame.DataFrame'>\n",
      "RangeIndex: 354369 entries, 0 to 354368\n",
      "Data columns (total 16 columns):\n",
      "DateCrawled          354369 non-null object\n",
      "Price                354369 non-null int64\n",
      "VehicleType          316879 non-null object\n",
      "RegistrationYear     354369 non-null int64\n",
      "Gearbox              334536 non-null object\n",
      "Power                354369 non-null int64\n",
      "Model                334664 non-null object\n",
      "Kilometer            354369 non-null int64\n",
      "RegistrationMonth    354369 non-null int64\n",
      "FuelType             321474 non-null object\n",
      "Brand                354369 non-null object\n",
      "NotRepaired          283215 non-null object\n",
      "DateCreated          354369 non-null object\n",
      "NumberOfPictures     354369 non-null int64\n",
      "PostalCode           354369 non-null int64\n",
      "LastSeen             354369 non-null object\n",
      "dtypes: int64(7), object(9)\n",
      "memory usage: 43.3+ MB\n"
     ]
    }
   ],
   "source": [
    "df.info()"
   ]
  },
  {
   "cell_type": "code",
   "execution_count": 6,
   "metadata": {},
   "outputs": [
    {
     "data": {
      "text/html": [
       "<div>\n",
       "<style scoped>\n",
       "    .dataframe tbody tr th:only-of-type {\n",
       "        vertical-align: middle;\n",
       "    }\n",
       "\n",
       "    .dataframe tbody tr th {\n",
       "        vertical-align: top;\n",
       "    }\n",
       "\n",
       "    .dataframe thead th {\n",
       "        text-align: right;\n",
       "    }\n",
       "</style>\n",
       "<table border=\"1\" class=\"dataframe\">\n",
       "  <thead>\n",
       "    <tr style=\"text-align: right;\">\n",
       "      <th></th>\n",
       "      <th>Price</th>\n",
       "      <th>RegistrationYear</th>\n",
       "      <th>Power</th>\n",
       "      <th>Kilometer</th>\n",
       "      <th>RegistrationMonth</th>\n",
       "      <th>NumberOfPictures</th>\n",
       "      <th>PostalCode</th>\n",
       "    </tr>\n",
       "  </thead>\n",
       "  <tbody>\n",
       "    <tr>\n",
       "      <td>count</td>\n",
       "      <td>354369.000000</td>\n",
       "      <td>354369.000000</td>\n",
       "      <td>354369.000000</td>\n",
       "      <td>354369.000000</td>\n",
       "      <td>354369.000000</td>\n",
       "      <td>354369.0</td>\n",
       "      <td>354369.000000</td>\n",
       "    </tr>\n",
       "    <tr>\n",
       "      <td>mean</td>\n",
       "      <td>4416.656776</td>\n",
       "      <td>2004.234448</td>\n",
       "      <td>110.094337</td>\n",
       "      <td>128211.172535</td>\n",
       "      <td>5.714645</td>\n",
       "      <td>0.0</td>\n",
       "      <td>50508.689087</td>\n",
       "    </tr>\n",
       "    <tr>\n",
       "      <td>std</td>\n",
       "      <td>4514.158514</td>\n",
       "      <td>90.227958</td>\n",
       "      <td>189.850405</td>\n",
       "      <td>37905.341530</td>\n",
       "      <td>3.726421</td>\n",
       "      <td>0.0</td>\n",
       "      <td>25783.096248</td>\n",
       "    </tr>\n",
       "    <tr>\n",
       "      <td>min</td>\n",
       "      <td>0.000000</td>\n",
       "      <td>1000.000000</td>\n",
       "      <td>0.000000</td>\n",
       "      <td>5000.000000</td>\n",
       "      <td>0.000000</td>\n",
       "      <td>0.0</td>\n",
       "      <td>1067.000000</td>\n",
       "    </tr>\n",
       "    <tr>\n",
       "      <td>25%</td>\n",
       "      <td>1050.000000</td>\n",
       "      <td>1999.000000</td>\n",
       "      <td>69.000000</td>\n",
       "      <td>125000.000000</td>\n",
       "      <td>3.000000</td>\n",
       "      <td>0.0</td>\n",
       "      <td>30165.000000</td>\n",
       "    </tr>\n",
       "    <tr>\n",
       "      <td>50%</td>\n",
       "      <td>2700.000000</td>\n",
       "      <td>2003.000000</td>\n",
       "      <td>105.000000</td>\n",
       "      <td>150000.000000</td>\n",
       "      <td>6.000000</td>\n",
       "      <td>0.0</td>\n",
       "      <td>49413.000000</td>\n",
       "    </tr>\n",
       "    <tr>\n",
       "      <td>75%</td>\n",
       "      <td>6400.000000</td>\n",
       "      <td>2008.000000</td>\n",
       "      <td>143.000000</td>\n",
       "      <td>150000.000000</td>\n",
       "      <td>9.000000</td>\n",
       "      <td>0.0</td>\n",
       "      <td>71083.000000</td>\n",
       "    </tr>\n",
       "    <tr>\n",
       "      <td>max</td>\n",
       "      <td>20000.000000</td>\n",
       "      <td>9999.000000</td>\n",
       "      <td>20000.000000</td>\n",
       "      <td>150000.000000</td>\n",
       "      <td>12.000000</td>\n",
       "      <td>0.0</td>\n",
       "      <td>99998.000000</td>\n",
       "    </tr>\n",
       "  </tbody>\n",
       "</table>\n",
       "</div>"
      ],
      "text/plain": [
       "               Price  RegistrationYear          Power      Kilometer  \\\n",
       "count  354369.000000     354369.000000  354369.000000  354369.000000   \n",
       "mean     4416.656776       2004.234448     110.094337  128211.172535   \n",
       "std      4514.158514         90.227958     189.850405   37905.341530   \n",
       "min         0.000000       1000.000000       0.000000    5000.000000   \n",
       "25%      1050.000000       1999.000000      69.000000  125000.000000   \n",
       "50%      2700.000000       2003.000000     105.000000  150000.000000   \n",
       "75%      6400.000000       2008.000000     143.000000  150000.000000   \n",
       "max     20000.000000       9999.000000   20000.000000  150000.000000   \n",
       "\n",
       "       RegistrationMonth  NumberOfPictures     PostalCode  \n",
       "count      354369.000000          354369.0  354369.000000  \n",
       "mean            5.714645               0.0   50508.689087  \n",
       "std             3.726421               0.0   25783.096248  \n",
       "min             0.000000               0.0    1067.000000  \n",
       "25%             3.000000               0.0   30165.000000  \n",
       "50%             6.000000               0.0   49413.000000  \n",
       "75%             9.000000               0.0   71083.000000  \n",
       "max            12.000000               0.0   99998.000000  "
      ]
     },
     "execution_count": 6,
     "metadata": {},
     "output_type": "execute_result"
    }
   ],
   "source": [
    "df.describe()"
   ]
  },
  {
   "cell_type": "code",
   "execution_count": 7,
   "metadata": {},
   "outputs": [
    {
     "data": {
      "image/png": "[encoded data removed]",
      "text/plain": [
       "<Figure size 1080x1440 with 9 Axes>"
      ]
     },
     "metadata": {
      "needs_background": "light"
     },
     "output_type": "display_data"
    }
   ],
   "source": [
    "df.hist(bins = 50, figsize = (15,20));"
   ]
  },
  {
   "cell_type": "markdown",
   "metadata": {},
   "source": [
    "Прежде чем перейти к дальнейшему рассмотрению, приведём названия признаков к нижнему регистру"
   ]
  },
  {
   "cell_type": "code",
   "execution_count": 8,
   "metadata": {},
   "outputs": [],
   "source": [
    "df.columns = map(str.lower, df.columns)"
   ]
  },
  {
   "cell_type": "markdown",
   "metadata": {},
   "source": [
    "Рассмотрим каждый признак по отдельности"
   ]
  },
  {
   "cell_type": "markdown",
   "metadata": {},
   "source": [
    "`DateCrawled` — дата скачивания анкеты из базы"
   ]
  },
  {
   "cell_type": "code",
   "execution_count": 9,
   "metadata": {},
   "outputs": [
    {
     "name": "stdout",
     "output_type": "stream",
     "text": [
      "Пропусков: 0\n"
     ]
    }
   ],
   "source": [
    "print('Пропусков:', df['datecrawled'].isna().sum())"
   ]
  },
  {
   "cell_type": "markdown",
   "metadata": {},
   "source": [
    "Загадка, как может повлиять дата скачивания анкеты из базы на прогноз цены автомобиля. Уберём данный признак. Была бы это дата продажи автомобиля - да, можно было бы связать с датой создания анкеты на продажу, а разницу, то есть время продажи, использовать как дополнительный признак. Но нет, это просто время скачивания... А когда продали, когда скачали - пади разбери)"
   ]
  },
  {
   "cell_type": "code",
   "execution_count": 10,
   "metadata": {},
   "outputs": [],
   "source": [
    "df.drop('datecrawled', axis = 1, inplace = True)"
   ]
  },
  {
   "cell_type": "markdown",
   "metadata": {},
   "source": [
    "`Price` — цена (евро)"
   ]
  },
  {
   "cell_type": "markdown",
   "metadata": {},
   "source": [
    "Итак, наш целевой признак, святая святых, пристально ознакомимся, что всё таки имеем. "
   ]
  },
  {
   "cell_type": "markdown",
   "metadata": {},
   "source": [
    "Метод `describe` показал нам, что минимальная цена равна 0 ... Что ж, посмотрим сколько машин у нас, вроде как, отдали задаром. "
   ]
  },
  {
   "cell_type": "code",
   "execution_count": 11,
   "metadata": {},
   "outputs": [
    {
     "data": {
      "text/plain": [
       "10772"
      ]
     },
     "execution_count": 11,
     "metadata": {},
     "output_type": "execute_result"
    }
   ],
   "source": [
    "len(df[df['price'] == 0])"
   ]
  },
  {
   "cell_type": "code",
   "execution_count": 12,
   "metadata": {},
   "outputs": [
    {
     "data": {
      "text/plain": [
       "3.04"
      ]
     },
     "execution_count": 12,
     "metadata": {},
     "output_type": "execute_result"
    }
   ],
   "source": [
    "round((len(df[df['price'] == 0]) / len(df)),4) * 100"
   ]
  },
  {
   "cell_type": "markdown",
   "metadata": {},
   "source": [
    "Изобретать велосипед здесь нет смысла. Даже, если это не сбой при обработке данных и не полный аналог `Nan`, то наша модель должна будет предсказывать цену, а не альтруистические порывы, даже для самой последней колымаги. </b> \n",
    "\n",
    "Таким образом, просто удалим объекты с нулевой ценой, тем более, что таковых, всего 3,04 %."
   ]
  },
  {
   "cell_type": "code",
   "execution_count": 13,
   "metadata": {},
   "outputs": [],
   "source": [
    "df = df[df['price'] > 0]"
   ]
  },
  {
   "cell_type": "markdown",
   "metadata": {},
   "source": [
    "Хорошо, едем дальше. С нулями разобрались, а что у нас чуть больше 0, есть ли болиды за 100 и меньше?"
   ]
  },
  {
   "cell_type": "code",
   "execution_count": 14,
   "metadata": {},
   "outputs": [
    {
     "data": {
      "text/plain": [
       "2542"
      ]
     },
     "execution_count": 14,
     "metadata": {},
     "output_type": "execute_result"
    }
   ],
   "source": [
    "len(df[df['price'] < 100])"
   ]
  },
  {
   "cell_type": "markdown",
   "metadata": {},
   "source": [
    "Хорошо... А 200? "
   ]
  },
  {
   "cell_type": "code",
   "execution_count": 15,
   "metadata": {
    "scrolled": true
   },
   "outputs": [
    {
     "data": {
      "text/plain": [
       "6690"
      ]
     },
     "execution_count": 15,
     "metadata": {},
     "output_type": "execute_result"
    }
   ],
   "source": [
    "len(df[df['price'] < 200])"
   ]
  },
  {
   "cell_type": "markdown",
   "metadata": {},
   "source": [
    "500"
   ]
  },
  {
   "cell_type": "code",
   "execution_count": 16,
   "metadata": {},
   "outputs": [
    {
     "data": {
      "text/plain": [
       "25282"
      ]
     },
     "execution_count": 16,
     "metadata": {},
     "output_type": "execute_result"
    }
   ],
   "source": [
    "len(df[df['price'] < 500])"
   ]
  },
  {
   "cell_type": "markdown",
   "metadata": {},
   "source": [
    "..."
   ]
  },
  {
   "cell_type": "markdown",
   "metadata": {},
   "source": [
    "Так. Что двигало людьми при выставлении таких цен, конечно, отличный вопрос, особенно с учётом специфики европейского рынка (судя по валюте), правил утилизации и прочих радостей. Но, из имеющихся у нас признаков, мы предполагаем, что всё таки имеем дело с автомобилями на ходу, пусть и, порой, не первой свежести и весьма поношенных, однако рабочих. И в этом случае, даже для рынка российского, это была бы цена, мягко говоря, сомнительная."
   ]
  },
  {
   "cell_type": "markdown",
   "metadata": {},
   "source": [
    "Наша задача помочь сервису выдавать клиентам более-менее адекватную рекомендацию по рынку, а подобного рода \"хитрые умозаключения\" с ценой меньше 500 будут эту самую рекомендацию заметно занижать. "
   ]
  },
  {
   "cell_type": "markdown",
   "metadata": {},
   "source": [
    "Может быть, всё таки речь об авто доживающих последние часы? Оценим. "
   ]
  },
  {
   "cell_type": "code",
   "execution_count": 17,
   "metadata": {},
   "outputs": [],
   "source": [
    "df_price_500 = df[df['price'] < 500]"
   ]
  },
  {
   "cell_type": "markdown",
   "metadata": {},
   "source": [
    "Для быстрого анализа, нам, конечно, в данном случае, все признаки ни к чему. Для понимания имеем ли мы дело с металлоломом или нет, достаточно будет нескольких. "
   ]
  },
  {
   "cell_type": "code",
   "execution_count": 18,
   "metadata": {},
   "outputs": [],
   "source": [
    "df_price_500 = df_price_500[['price','registrationyear','kilometer']]"
   ]
  },
  {
   "cell_type": "code",
   "execution_count": 19,
   "metadata": {},
   "outputs": [],
   "source": [
    "df_price_500.groupby('registrationyear')['kilometer'].mean();"
   ]
  },
  {
   "cell_type": "markdown",
   "metadata": {},
   "source": [
    "Вот оно что, тут и невменяемые значеням по датам подъехали. Хорошо, параллельно и с этим разберёмся. Вопросов к такой информации становится всё больше. "
   ]
  },
  {
   "cell_type": "code",
   "execution_count": 20,
   "metadata": {},
   "outputs": [],
   "source": [
    "df_price_500 = (df_price_500\n",
    "                .query('registrationyear > 1900 and registrationyear < 2021')) "
   ]
  },
  {
   "cell_type": "code",
   "execution_count": 21,
   "metadata": {
    "scrolled": true
   },
   "outputs": [],
   "source": [
    "(df_price_500\n",
    " .groupby('registrationyear')['kilometer','price']\n",
    " .agg(['mean','count'])).head(30);"
   ]
  },
  {
   "cell_type": "code",
   "execution_count": 22,
   "metadata": {
    "scrolled": true
   },
   "outputs": [],
   "source": [
    "(df_price_500\n",
    " .groupby('registrationyear')['kilometer','price']\n",
    " .agg(['mean','count'])).tail(30);"
   ]
  },
  {
   "cell_type": "markdown",
   "metadata": {},
   "source": [
    "Итак, чтобы не углубляться ещё больше в дебри, примем относительно ценовой политики следующий постулаты: если цена автомобиля меньше 500 евро, год выпуска больше 2005, а пробег меньше 100000, то в рамках нашей модели будем считать такие объекты нерепрезентативными, а следовательно подлежащими исключению из фрейма. "
   ]
  },
  {
   "cell_type": "markdown",
   "metadata": {},
   "source": [
    "Применим полученные выше результаты"
   ]
  },
  {
   "cell_type": "code",
   "execution_count": 23,
   "metadata": {},
   "outputs": [],
   "source": [
    "df = df.query('registrationyear > 1900 and registrationyear < 2020')"
   ]
  },
  {
   "cell_type": "code",
   "execution_count": 24,
   "metadata": {},
   "outputs": [],
   "source": [
    "df_1 = df\n",
    "df_1 = df_1.query('price <= 500')\n",
    "df_1 = df_1.query('registrationyear >= 2005')\n",
    "df_1 = df_1.query('kilometer <= 100000')"
   ]
  },
  {
   "cell_type": "code",
   "execution_count": 25,
   "metadata": {},
   "outputs": [],
   "source": [
    "list_1 = df_1.index"
   ]
  },
  {
   "cell_type": "code",
   "execution_count": 26,
   "metadata": {
    "scrolled": false
   },
   "outputs": [],
   "source": [
    "df = df.query(\"index not in @list_1\")"
   ]
  },
  {
   "cell_type": "markdown",
   "metadata": {},
   "source": [
    "Также обратим внимание на год регистрации авто. Последняя дата регистрации на сайте 2016, а последняя дата регистрации авто 2019... Оценим, сколько таким сомнительных цифр в нашем распоряжении."
   ]
  },
  {
   "cell_type": "code",
   "execution_count": 27,
   "metadata": {},
   "outputs": [
    {
     "data": {
      "text/plain": [
       "(13567, 15)"
      ]
     },
     "execution_count": 27,
     "metadata": {},
     "output_type": "execute_result"
    }
   ],
   "source": [
    "df.query('registrationyear > 2016').shape"
   ]
  },
  {
   "cell_type": "markdown",
   "metadata": {},
   "source": [
    "Не мало. Не хотелось бы их терять. Поэтому допустим, что всё старше 2016 года - это ошибка ввода пользователя, и, следовательно, заменим подобные цифры этим 2016 годом. "
   ]
  },
  {
   "cell_type": "code",
   "execution_count": 28,
   "metadata": {},
   "outputs": [],
   "source": [
    "df['registrationyear'].where(df['registrationyear'] <= 2016, 2016, inplace = True)"
   ]
  },
  {
   "cell_type": "markdown",
   "metadata": {},
   "source": [
    "Посмотрим количество пропусков."
   ]
  },
  {
   "cell_type": "code",
   "execution_count": 29,
   "metadata": {},
   "outputs": [
    {
     "name": "stdout",
     "output_type": "stream",
     "text": [
      "Пропусков: 0\n"
     ]
    }
   ],
   "source": [
    "print('Пропусков:', df['price'].isna().sum())"
   ]
  },
  {
   "cell_type": "markdown",
   "metadata": {},
   "source": [
    "`VehicleType` — тип автомобильного кузова"
   ]
  },
  {
   "cell_type": "code",
   "execution_count": 30,
   "metadata": {},
   "outputs": [
    {
     "data": {
      "text/plain": [
       "sedan          89338\n",
       "small          77928\n",
       "wagon          63671\n",
       "bus            28330\n",
       "convertible    19849\n",
       "coupe          15618\n",
       "suv            11768\n",
       "other           3068\n",
       "Name: vehicletype, dtype: int64"
      ]
     },
     "execution_count": 30,
     "metadata": {},
     "output_type": "execute_result"
    }
   ],
   "source": [
    "df['vehicletype'].value_counts()"
   ]
  },
  {
   "cell_type": "code",
   "execution_count": 31,
   "metadata": {},
   "outputs": [
    {
     "name": "stdout",
     "output_type": "stream",
     "text": [
      "Пропусков: 32830\n"
     ]
    }
   ],
   "source": [
    "print('Пропусков:', df['vehicletype'].isna().sum())"
   ]
  },
  {
   "cell_type": "markdown",
   "metadata": {},
   "source": [
    "Терять почти 10% данных нет никакого желания. Пожалуй, конкретно в этом случае, допустимо будет пропущенные значения поместить в категорию `other`."
   ]
  },
  {
   "cell_type": "code",
   "execution_count": 32,
   "metadata": {},
   "outputs": [],
   "source": [
    "df['vehicletype'].fillna(value = 'other',inplace = True);"
   ]
  },
  {
   "cell_type": "code",
   "execution_count": 33,
   "metadata": {},
   "outputs": [
    {
     "name": "stdout",
     "output_type": "stream",
     "text": [
      "Пропусков: 0\n"
     ]
    }
   ],
   "source": [
    "print('Пропусков:', df['vehicletype'].isna().sum())"
   ]
  },
  {
   "cell_type": "markdown",
   "metadata": {},
   "source": [
    "`RegistrationYear` — год регистрации автомобиля"
   ]
  },
  {
   "cell_type": "code",
   "execution_count": 34,
   "metadata": {},
   "outputs": [
    {
     "name": "stdout",
     "output_type": "stream",
     "text": [
      "Пропусков: 0\n"
     ]
    }
   ],
   "source": [
    "print('Пропусков:', df['registrationyear'].isna().sum())"
   ]
  },
  {
   "cell_type": "markdown",
   "metadata": {},
   "source": [
    "`Gearbox` — тип коробки передач"
   ]
  },
  {
   "cell_type": "code",
   "execution_count": 35,
   "metadata": {},
   "outputs": [
    {
     "data": {
      "text/plain": [
       "manual    260908\n",
       "auto       64762\n",
       "Name: gearbox, dtype: int64"
      ]
     },
     "execution_count": 35,
     "metadata": {},
     "output_type": "execute_result"
    }
   ],
   "source": [
    "df['gearbox'].value_counts()"
   ]
  },
  {
   "cell_type": "code",
   "execution_count": 36,
   "metadata": {
    "scrolled": true
   },
   "outputs": [
    {
     "name": "stdout",
     "output_type": "stream",
     "text": [
      "Пропусков: 16730\n"
     ]
    }
   ],
   "source": [
    "print('Пропусков:', df['gearbox'].isna().sum())"
   ]
  },
  {
   "cell_type": "markdown",
   "metadata": {},
   "source": [
    "Здесь поступим также как и с кузовом. Чтобы лишний раз не терять данные, допустим, что это не пропуски, а, возможно, просто другие виды коробок, которые по каким-то причинам не были корректно отражены. Вместо пропусков создадим третью категорию `other`."
   ]
  },
  {
   "cell_type": "code",
   "execution_count": 37,
   "metadata": {},
   "outputs": [],
   "source": [
    "df['gearbox'].fillna(value = 'other', inplace = True)"
   ]
  },
  {
   "cell_type": "markdown",
   "metadata": {},
   "source": [
    "`Power` — мощность (л. с.)"
   ]
  },
  {
   "cell_type": "code",
   "execution_count": 38,
   "metadata": {},
   "outputs": [
    {
     "data": {
      "text/plain": [
       "0        35638\n",
       "1           23\n",
       "2            9\n",
       "3            8\n",
       "4           30\n",
       "         ...  \n",
       "17932        1\n",
       "19208        1\n",
       "19211        1\n",
       "19312        1\n",
       "20000        1\n",
       "Name: power, Length: 698, dtype: int64"
      ]
     },
     "execution_count": 38,
     "metadata": {},
     "output_type": "execute_result"
    }
   ],
   "source": [
    "df['power'].value_counts().sort_index()"
   ]
  },
  {
   "cell_type": "markdown",
   "metadata": {},
   "source": [
    "Так, по поводу верхнего предела поступим просто, предположим, что в данных по продажам присутствуют ультрамощные спорткары и установим верхний порог в 1500 л с, остальное уберём. "
   ]
  },
  {
   "cell_type": "code",
   "execution_count": 39,
   "metadata": {},
   "outputs": [
    {
     "data": {
      "text/plain": [
       "(189, 15)"
      ]
     },
     "execution_count": 39,
     "metadata": {},
     "output_type": "execute_result"
    }
   ],
   "source": [
    "df.query('power >= 1500').shape"
   ]
  },
  {
   "cell_type": "markdown",
   "metadata": {},
   "source": [
    "Приемлимо. Убираем. "
   ]
  },
  {
   "cell_type": "code",
   "execution_count": 40,
   "metadata": {},
   "outputs": [],
   "source": [
    "df.query('power <= 1500', inplace = True)"
   ]
  },
  {
   "cell_type": "markdown",
   "metadata": {},
   "source": [
    "А вот с нижним - вопрос. Посмотрим сколько у нас машин с показателем меньше 20 (на таком фоне даже многострадальный матиз смотрится уверенно). "
   ]
  },
  {
   "cell_type": "code",
   "execution_count": 41,
   "metadata": {},
   "outputs": [
    {
     "data": {
      "text/plain": [
       "(36048, 15)"
      ]
     },
     "execution_count": 41,
     "metadata": {},
     "output_type": "execute_result"
    }
   ],
   "source": [
    "df.query('power <= 20').shape"
   ]
  },
  {
   "cell_type": "markdown",
   "metadata": {},
   "source": [
    "Солидно. Учитывая контекст, об удалении, разумеется, речь не идёт. Вопрос, что делать с нулями: оставить или заменить. Где у нас будет искажение? В нуле? В середине? Или в медиане? "
   ]
  },
  {
   "cell_type": "markdown",
   "metadata": {},
   "source": [
    "Нет, руки, конечно, чешутся избавиться от явно странных значений, но, если считать, что это не сбой при обработке данных, а покупателей рук дело, то ситуация может повториться и в этом случае модель должна быть готова что-то отрекомендовать. В общем, нули не тронем..."
   ]
  },
  {
   "cell_type": "code",
   "execution_count": 42,
   "metadata": {},
   "outputs": [
    {
     "name": "stdout",
     "output_type": "stream",
     "text": [
      "Пропусков: 0\n"
     ]
    }
   ],
   "source": [
    "print('Пропусков:', df['power'].isna().sum())"
   ]
  },
  {
   "cell_type": "markdown",
   "metadata": {},
   "source": [
    "`Model` — модель автомобиля"
   ]
  },
  {
   "cell_type": "code",
   "execution_count": 43,
   "metadata": {},
   "outputs": [],
   "source": [
    "df['model'].value_counts().sort_values(ascending = False).head(10);"
   ]
  },
  {
   "cell_type": "code",
   "execution_count": 44,
   "metadata": {},
   "outputs": [
    {
     "data": {
      "text/plain": [
       "250"
      ]
     },
     "execution_count": 44,
     "metadata": {},
     "output_type": "execute_result"
    }
   ],
   "source": [
    "len(df['model'].value_counts())"
   ]
  },
  {
   "cell_type": "code",
   "execution_count": 45,
   "metadata": {},
   "outputs": [
    {
     "name": "stdout",
     "output_type": "stream",
     "text": [
      "Пропусков: 17205\n"
     ]
    }
   ],
   "source": [
    "print('Пропусков:', df['model'].isna().sum())"
   ]
  },
  {
   "cell_type": "markdown",
   "metadata": {},
   "source": [
    "И снова, чтобы избежать потери данных, прибегнем к созданию дополнительной категории `other`."
   ]
  },
  {
   "cell_type": "code",
   "execution_count": 46,
   "metadata": {},
   "outputs": [],
   "source": [
    "df['model'].fillna(value = 'other', inplace = True)"
   ]
  },
  {
   "cell_type": "markdown",
   "metadata": {},
   "source": [
    "`Kilometer` — пробег (км)"
   ]
  },
  {
   "cell_type": "code",
   "execution_count": 47,
   "metadata": {},
   "outputs": [
    {
     "name": "stdout",
     "output_type": "stream",
     "text": [
      "Пропусков: 0\n"
     ]
    }
   ],
   "source": [
    "print('Пропусков:', df['kilometer'].isna().sum())"
   ]
  },
  {
   "cell_type": "markdown",
   "metadata": {},
   "source": [
    "`RegistrationMonth` — месяц регистрации автомобиля"
   ]
  },
  {
   "cell_type": "code",
   "execution_count": 48,
   "metadata": {},
   "outputs": [
    {
     "name": "stdout",
     "output_type": "stream",
     "text": [
      "Пропусков: 0\n"
     ]
    }
   ],
   "source": [
    "print('Пропусков:', df['registrationmonth'].isna().sum())"
   ]
  },
  {
   "cell_type": "markdown",
   "metadata": {},
   "source": [
    "`FuelType` — тип топлива"
   ]
  },
  {
   "cell_type": "code",
   "execution_count": 49,
   "metadata": {},
   "outputs": [
    {
     "data": {
      "text/plain": [
       "petrol      210274\n",
       "gasoline     97008\n",
       "lpg           5163\n",
       "cng            550\n",
       "hybrid         226\n",
       "other          158\n",
       "electric        87\n",
       "Name: fueltype, dtype: int64"
      ]
     },
     "execution_count": 49,
     "metadata": {},
     "output_type": "execute_result"
    }
   ],
   "source": [
    "df['fueltype'].value_counts()"
   ]
  },
  {
   "cell_type": "code",
   "execution_count": 50,
   "metadata": {},
   "outputs": [
    {
     "name": "stdout",
     "output_type": "stream",
     "text": [
      "Пропусков: 28749\n"
     ]
    }
   ],
   "source": [
    "print('Пропусков:', df['fueltype'].isna().sum())"
   ]
  },
  {
   "cell_type": "markdown",
   "metadata": {},
   "source": [
    "По старой-доброй пропуски всё туда же, в `other`."
   ]
  },
  {
   "cell_type": "code",
   "execution_count": 51,
   "metadata": {},
   "outputs": [],
   "source": [
    "df['fueltype'].fillna(value = 'other', inplace = True)"
   ]
  },
  {
   "cell_type": "markdown",
   "metadata": {},
   "source": [
    "`Brand` — марка автомобиля"
   ]
  },
  {
   "cell_type": "code",
   "execution_count": 52,
   "metadata": {},
   "outputs": [
    {
     "data": {
      "text/plain": [
       "volkswagen       74191\n",
       "opel             38377\n",
       "bmw              35688\n",
       "mercedes_benz    31265\n",
       "audi             28483\n",
       "ford             24303\n",
       "renault          17306\n",
       "peugeot          10758\n",
       "fiat              9290\n",
       "seat              6695\n",
       "Name: brand, dtype: int64"
      ]
     },
     "execution_count": 52,
     "metadata": {},
     "output_type": "execute_result"
    }
   ],
   "source": [
    "df['brand'].value_counts().head(10)"
   ]
  },
  {
   "cell_type": "code",
   "execution_count": 53,
   "metadata": {},
   "outputs": [
    {
     "name": "stdout",
     "output_type": "stream",
     "text": [
      "Пропусков: 0\n"
     ]
    }
   ],
   "source": [
    "print('Пропусков:', df['brand'].isna().sum())"
   ]
  },
  {
   "cell_type": "markdown",
   "metadata": {},
   "source": [
    "`NotRepaired` — была машина в ремонте или нет"
   ]
  },
  {
   "cell_type": "code",
   "execution_count": 54,
   "metadata": {},
   "outputs": [
    {
     "data": {
      "text/plain": [
       "no     243337\n",
       "yes     33875\n",
       "Name: notrepaired, dtype: int64"
      ]
     },
     "execution_count": 54,
     "metadata": {},
     "output_type": "execute_result"
    }
   ],
   "source": [
    "df['notrepaired'].value_counts()"
   ]
  },
  {
   "cell_type": "code",
   "execution_count": 55,
   "metadata": {
    "scrolled": true
   },
   "outputs": [
    {
     "name": "stdout",
     "output_type": "stream",
     "text": [
      "Пропусков: 65003\n"
     ]
    }
   ],
   "source": [
    "print('Пропусков:', df['notrepaired'].isna().sum())"
   ]
  },
  {
   "cell_type": "markdown",
   "metadata": {},
   "source": [
    "Так, ситуация следующая, избавляться от такого количества объектов идея так себе, с другой стороны, утверждать, что машина в ремонте однозначно была или не была, также сомнительно. Поэтому на этом этаме поделим фрейм на 2 части, в кажой из которой отразим на эту проблему две диаметрально противоположные точки зрения: 1 - все пропуски заменим на то, что ремонт был; 2 - удалим все объекты, где отсутствует информация по ремонту."
   ]
  },
  {
   "cell_type": "code",
   "execution_count": 56,
   "metadata": {},
   "outputs": [],
   "source": [
    "df_2 = df.copy()"
   ]
  },
  {
   "cell_type": "code",
   "execution_count": 57,
   "metadata": {},
   "outputs": [],
   "source": [
    "df_2.dropna(subset = ['notrepaired'], inplace = True)"
   ]
  },
  {
   "cell_type": "code",
   "execution_count": 58,
   "metadata": {},
   "outputs": [],
   "source": [
    "df['notrepaired'].fillna(value = 'yes', inplace = True)"
   ]
  },
  {
   "cell_type": "markdown",
   "metadata": {},
   "source": [
    "`DateCreated` — дата создания анкеты"
   ]
  },
  {
   "cell_type": "code",
   "execution_count": 59,
   "metadata": {
    "scrolled": true
   },
   "outputs": [
    {
     "name": "stdout",
     "output_type": "stream",
     "text": [
      "Пропусков: 0\n"
     ]
    }
   ],
   "source": [
    "print('Пропусков:', df['datecreated'].isna().sum())"
   ]
  },
  {
   "cell_type": "markdown",
   "metadata": {},
   "source": [
    "Как было уже было написано выше сама по себе дата создания анкеты нам мало, что даёт, поэтому этот признак также под нож."
   ]
  },
  {
   "cell_type": "code",
   "execution_count": 60,
   "metadata": {},
   "outputs": [],
   "source": [
    "df.drop('datecreated', axis = 1, inplace = True)"
   ]
  },
  {
   "cell_type": "code",
   "execution_count": 61,
   "metadata": {},
   "outputs": [],
   "source": [
    "df_2.drop('datecreated', axis = 1, inplace = True)"
   ]
  },
  {
   "cell_type": "markdown",
   "metadata": {},
   "source": [
    "`NumberOfPictures` — количество фотографий автомобиля"
   ]
  },
  {
   "cell_type": "code",
   "execution_count": 62,
   "metadata": {},
   "outputs": [
    {
     "data": {
      "text/plain": [
       "0    342215\n",
       "Name: numberofpictures, dtype: int64"
      ]
     },
     "execution_count": 62,
     "metadata": {},
     "output_type": "execute_result"
    }
   ],
   "source": [
    "df['numberofpictures'].value_counts()"
   ]
  },
  {
   "cell_type": "markdown",
   "metadata": {},
   "source": [
    "Очевидно, что признак, не несущий какой-либо смысловой нагрузки нам вряд ли пригодится"
   ]
  },
  {
   "cell_type": "code",
   "execution_count": 63,
   "metadata": {},
   "outputs": [],
   "source": [
    "df.drop('numberofpictures', axis = 1, inplace = True)"
   ]
  },
  {
   "cell_type": "code",
   "execution_count": 64,
   "metadata": {},
   "outputs": [],
   "source": [
    "df_2.drop('numberofpictures', axis = 1, inplace = True)"
   ]
  },
  {
   "cell_type": "markdown",
   "metadata": {},
   "source": [
    "`PostalCode` — почтовый индекс владельца анкеты (пользователя)"
   ]
  },
  {
   "cell_type": "code",
   "execution_count": 65,
   "metadata": {},
   "outputs": [
    {
     "data": {
      "text/plain": [
       "10115    811\n",
       "65428    604\n",
       "66333    325\n",
       "32257    303\n",
       "44145    301\n",
       "52525    296\n",
       "78224    286\n",
       "13357    282\n",
       "26789    280\n",
       "48599    279\n",
       "Name: postalcode, dtype: int64"
      ]
     },
     "execution_count": 65,
     "metadata": {},
     "output_type": "execute_result"
    }
   ],
   "source": [
    "df['postalcode'].value_counts().head(10)"
   ]
  },
  {
   "cell_type": "code",
   "execution_count": 66,
   "metadata": {},
   "outputs": [],
   "source": [
    "df_2.drop('postalcode', axis = 1, inplace = True)"
   ]
  },
  {
   "cell_type": "code",
   "execution_count": 67,
   "metadata": {},
   "outputs": [
    {
     "name": "stdout",
     "output_type": "stream",
     "text": [
      "Пропусков: 0\n"
     ]
    }
   ],
   "source": [
    "print('Пропусков:', df['postalcode'].isna().sum())"
   ]
  },
  {
   "cell_type": "markdown",
   "metadata": {},
   "source": [
    "`LastSeen` — дата последней активности пользователя"
   ]
  },
  {
   "cell_type": "code",
   "execution_count": 68,
   "metadata": {},
   "outputs": [
    {
     "name": "stdout",
     "output_type": "stream",
     "text": [
      "Пропусков: 0\n"
     ]
    }
   ],
   "source": [
    "print('Пропусков:', df['lastseen'].isna().sum())"
   ]
  },
  {
   "cell_type": "markdown",
   "metadata": {},
   "source": [
    "Пропусков тут, конечно, нет, но сильно сомневаюсь, что дата последней активности пользователя будет положительно сказываться на качестве рекомендуемой цены пользователю вновь прибывшему. Исключим этот признак. "
   ]
  },
  {
   "cell_type": "code",
   "execution_count": 69,
   "metadata": {},
   "outputs": [],
   "source": [
    "df.drop('lastseen', axis = 1, inplace = True)"
   ]
  },
  {
   "cell_type": "code",
   "execution_count": 70,
   "metadata": {},
   "outputs": [],
   "source": [
    "df_2.drop('lastseen', axis = 1, inplace = True)"
   ]
  },
  {
   "cell_type": "markdown",
   "metadata": {},
   "source": [
    "И в довесок, вернём индексам упорядоченный вид."
   ]
  },
  {
   "cell_type": "code",
   "execution_count": 71,
   "metadata": {},
   "outputs": [],
   "source": [
    "df.reset_index(drop = True, inplace = True)"
   ]
  },
  {
   "cell_type": "code",
   "execution_count": 72,
   "metadata": {},
   "outputs": [],
   "source": [
    "df_2.reset_index(drop = True, inplace = True)"
   ]
  },
  {
   "cell_type": "markdown",
   "metadata": {},
   "source": [
    "Далее необходимо провести подготовку категориальных признаков к построению модели, но в случае с `LightGBM` делать это совершенно необязательно, так как библиотека работает с ними напрямую."
   ]
  },
  {
   "cell_type": "markdown",
   "metadata": {},
   "source": [
    "В качестве эксперимента с помощью техники `Ordinal Encoding` подготовим категориальные признаки к построению модели для `df`, а для другого фрейма `df_2` построим финальную модель без подготовки категориальных признаков. "
   ]
  },
  {
   "cell_type": "code",
   "execution_count": 73,
   "metadata": {},
   "outputs": [],
   "source": [
    "columns_enc = ['vehicletype','gearbox','model','fueltype','brand','notrepaired']"
   ]
  },
  {
   "cell_type": "code",
   "execution_count": 74,
   "metadata": {},
   "outputs": [],
   "source": [
    "encoder = OrdinalEncoder()"
   ]
  },
  {
   "cell_type": "code",
   "execution_count": 75,
   "metadata": {},
   "outputs": [],
   "source": [
    "df_enc = pd.DataFrame(encoder.fit_transform(df[columns_enc]), \n",
    "                            columns=columns_enc)"
   ]
  },
  {
   "cell_type": "markdown",
   "metadata": {},
   "source": [
    "Отлично, успех налицо. Теперь заменим в нашем датасете соответствующей признаки на преобразованные. "
   ]
  },
  {
   "cell_type": "code",
   "execution_count": 76,
   "metadata": {},
   "outputs": [],
   "source": [
    "df.drop(columns_enc, axis = 1, inplace = True)"
   ]
  },
  {
   "cell_type": "code",
   "execution_count": 77,
   "metadata": {},
   "outputs": [],
   "source": [
    "df = df.join(df_enc)"
   ]
  },
  {
   "cell_type": "markdown",
   "metadata": {},
   "source": [
    "Итак, посмотрим, что у нас получилось в результате всех манипуляций во время подготовки данных"
   ]
  },
  {
   "cell_type": "code",
   "execution_count": 78,
   "metadata": {
    "scrolled": false
   },
   "outputs": [
    {
     "data": {
      "text/html": [
       "<div>\n",
       "<style scoped>\n",
       "    .dataframe tbody tr th:only-of-type {\n",
       "        vertical-align: middle;\n",
       "    }\n",
       "\n",
       "    .dataframe tbody tr th {\n",
       "        vertical-align: top;\n",
       "    }\n",
       "\n",
       "    .dataframe thead th {\n",
       "        text-align: right;\n",
       "    }\n",
       "</style>\n",
       "<table border=\"1\" class=\"dataframe\">\n",
       "  <thead>\n",
       "    <tr style=\"text-align: right;\">\n",
       "      <th></th>\n",
       "      <th>price</th>\n",
       "      <th>registrationyear</th>\n",
       "      <th>power</th>\n",
       "      <th>kilometer</th>\n",
       "      <th>registrationmonth</th>\n",
       "      <th>postalcode</th>\n",
       "      <th>vehicletype</th>\n",
       "      <th>gearbox</th>\n",
       "      <th>model</th>\n",
       "      <th>fueltype</th>\n",
       "      <th>brand</th>\n",
       "      <th>notrepaired</th>\n",
       "    </tr>\n",
       "  </thead>\n",
       "  <tbody>\n",
       "    <tr>\n",
       "      <td>0</td>\n",
       "      <td>480</td>\n",
       "      <td>1993</td>\n",
       "      <td>0</td>\n",
       "      <td>150000</td>\n",
       "      <td>0</td>\n",
       "      <td>70435</td>\n",
       "      <td>3.0</td>\n",
       "      <td>1.0</td>\n",
       "      <td>116.0</td>\n",
       "      <td>6.0</td>\n",
       "      <td>38.0</td>\n",
       "      <td>1.0</td>\n",
       "    </tr>\n",
       "    <tr>\n",
       "      <td>1</td>\n",
       "      <td>18300</td>\n",
       "      <td>2011</td>\n",
       "      <td>190</td>\n",
       "      <td>125000</td>\n",
       "      <td>5</td>\n",
       "      <td>66954</td>\n",
       "      <td>2.0</td>\n",
       "      <td>1.0</td>\n",
       "      <td>166.0</td>\n",
       "      <td>2.0</td>\n",
       "      <td>1.0</td>\n",
       "      <td>1.0</td>\n",
       "    </tr>\n",
       "    <tr>\n",
       "      <td>2</td>\n",
       "      <td>9800</td>\n",
       "      <td>2004</td>\n",
       "      <td>163</td>\n",
       "      <td>125000</td>\n",
       "      <td>8</td>\n",
       "      <td>90480</td>\n",
       "      <td>6.0</td>\n",
       "      <td>0.0</td>\n",
       "      <td>117.0</td>\n",
       "      <td>2.0</td>\n",
       "      <td>14.0</td>\n",
       "      <td>1.0</td>\n",
       "    </tr>\n",
       "    <tr>\n",
       "      <td>3</td>\n",
       "      <td>1500</td>\n",
       "      <td>2001</td>\n",
       "      <td>75</td>\n",
       "      <td>150000</td>\n",
       "      <td>6</td>\n",
       "      <td>91074</td>\n",
       "      <td>5.0</td>\n",
       "      <td>1.0</td>\n",
       "      <td>116.0</td>\n",
       "      <td>6.0</td>\n",
       "      <td>38.0</td>\n",
       "      <td>0.0</td>\n",
       "    </tr>\n",
       "    <tr>\n",
       "      <td>4</td>\n",
       "      <td>3600</td>\n",
       "      <td>2008</td>\n",
       "      <td>69</td>\n",
       "      <td>90000</td>\n",
       "      <td>7</td>\n",
       "      <td>60437</td>\n",
       "      <td>5.0</td>\n",
       "      <td>1.0</td>\n",
       "      <td>101.0</td>\n",
       "      <td>2.0</td>\n",
       "      <td>31.0</td>\n",
       "      <td>0.0</td>\n",
       "    </tr>\n",
       "    <tr>\n",
       "      <td>...</td>\n",
       "      <td>...</td>\n",
       "      <td>...</td>\n",
       "      <td>...</td>\n",
       "      <td>...</td>\n",
       "      <td>...</td>\n",
       "      <td>...</td>\n",
       "      <td>...</td>\n",
       "      <td>...</td>\n",
       "      <td>...</td>\n",
       "      <td>...</td>\n",
       "      <td>...</td>\n",
       "      <td>...</td>\n",
       "    </tr>\n",
       "    <tr>\n",
       "      <td>342210</td>\n",
       "      <td>1150</td>\n",
       "      <td>2000</td>\n",
       "      <td>0</td>\n",
       "      <td>150000</td>\n",
       "      <td>3</td>\n",
       "      <td>26624</td>\n",
       "      <td>0.0</td>\n",
       "      <td>1.0</td>\n",
       "      <td>249.0</td>\n",
       "      <td>6.0</td>\n",
       "      <td>24.0</td>\n",
       "      <td>0.0</td>\n",
       "    </tr>\n",
       "    <tr>\n",
       "      <td>342211</td>\n",
       "      <td>2200</td>\n",
       "      <td>2005</td>\n",
       "      <td>0</td>\n",
       "      <td>20000</td>\n",
       "      <td>1</td>\n",
       "      <td>39576</td>\n",
       "      <td>3.0</td>\n",
       "      <td>2.0</td>\n",
       "      <td>166.0</td>\n",
       "      <td>5.0</td>\n",
       "      <td>33.0</td>\n",
       "      <td>1.0</td>\n",
       "    </tr>\n",
       "    <tr>\n",
       "      <td>342212</td>\n",
       "      <td>1199</td>\n",
       "      <td>2000</td>\n",
       "      <td>101</td>\n",
       "      <td>125000</td>\n",
       "      <td>3</td>\n",
       "      <td>26135</td>\n",
       "      <td>1.0</td>\n",
       "      <td>0.0</td>\n",
       "      <td>106.0</td>\n",
       "      <td>6.0</td>\n",
       "      <td>32.0</td>\n",
       "      <td>0.0</td>\n",
       "    </tr>\n",
       "    <tr>\n",
       "      <td>342213</td>\n",
       "      <td>9200</td>\n",
       "      <td>1996</td>\n",
       "      <td>102</td>\n",
       "      <td>150000</td>\n",
       "      <td>3</td>\n",
       "      <td>87439</td>\n",
       "      <td>0.0</td>\n",
       "      <td>1.0</td>\n",
       "      <td>224.0</td>\n",
       "      <td>2.0</td>\n",
       "      <td>38.0</td>\n",
       "      <td>0.0</td>\n",
       "    </tr>\n",
       "    <tr>\n",
       "      <td>342214</td>\n",
       "      <td>3400</td>\n",
       "      <td>2002</td>\n",
       "      <td>100</td>\n",
       "      <td>150000</td>\n",
       "      <td>6</td>\n",
       "      <td>40764</td>\n",
       "      <td>7.0</td>\n",
       "      <td>1.0</td>\n",
       "      <td>116.0</td>\n",
       "      <td>2.0</td>\n",
       "      <td>38.0</td>\n",
       "      <td>1.0</td>\n",
       "    </tr>\n",
       "  </tbody>\n",
       "</table>\n",
       "<p>342215 rows × 12 columns</p>\n",
       "</div>"
      ],
      "text/plain": [
       "        price  registrationyear  power  kilometer  registrationmonth  \\\n",
       "0         480              1993      0     150000                  0   \n",
       "1       18300              2011    190     125000                  5   \n",
       "2        9800              2004    163     125000                  8   \n",
       "3        1500              2001     75     150000                  6   \n",
       "4        3600              2008     69      90000                  7   \n",
       "...       ...               ...    ...        ...                ...   \n",
       "342210   1150              2000      0     150000                  3   \n",
       "342211   2200              2005      0      20000                  1   \n",
       "342212   1199              2000    101     125000                  3   \n",
       "342213   9200              1996    102     150000                  3   \n",
       "342214   3400              2002    100     150000                  6   \n",
       "\n",
       "        postalcode  vehicletype  gearbox  model  fueltype  brand  notrepaired  \n",
       "0            70435          3.0      1.0  116.0       6.0   38.0          1.0  \n",
       "1            66954          2.0      1.0  166.0       2.0    1.0          1.0  \n",
       "2            90480          6.0      0.0  117.0       2.0   14.0          1.0  \n",
       "3            91074          5.0      1.0  116.0       6.0   38.0          0.0  \n",
       "4            60437          5.0      1.0  101.0       2.0   31.0          0.0  \n",
       "...            ...          ...      ...    ...       ...    ...          ...  \n",
       "342210       26624          0.0      1.0  249.0       6.0   24.0          0.0  \n",
       "342211       39576          3.0      2.0  166.0       5.0   33.0          1.0  \n",
       "342212       26135          1.0      0.0  106.0       6.0   32.0          0.0  \n",
       "342213       87439          0.0      1.0  224.0       2.0   38.0          0.0  \n",
       "342214       40764          7.0      1.0  116.0       2.0   38.0          1.0  \n",
       "\n",
       "[342215 rows x 12 columns]"
      ]
     },
     "execution_count": 78,
     "metadata": {},
     "output_type": "execute_result"
    }
   ],
   "source": [
    "df"
   ]
  },
  {
   "cell_type": "code",
   "execution_count": 79,
   "metadata": {
    "scrolled": false
   },
   "outputs": [
    {
     "name": "stdout",
     "output_type": "stream",
     "text": [
      "<class 'pandas.core.frame.DataFrame'>\n",
      "RangeIndex: 342215 entries, 0 to 342214\n",
      "Data columns (total 12 columns):\n",
      "price                342215 non-null int64\n",
      "registrationyear     342215 non-null int64\n",
      "power                342215 non-null int64\n",
      "kilometer            342215 non-null int64\n",
      "registrationmonth    342215 non-null int64\n",
      "postalcode           342215 non-null int64\n",
      "vehicletype          342215 non-null float64\n",
      "gearbox              342215 non-null float64\n",
      "model                342215 non-null float64\n",
      "fueltype             342215 non-null float64\n",
      "brand                342215 non-null float64\n",
      "notrepaired          342215 non-null float64\n",
      "dtypes: float64(6), int64(6)\n",
      "memory usage: 31.3 MB\n"
     ]
    }
   ],
   "source": [
    "df.info()"
   ]
  },
  {
   "cell_type": "markdown",
   "metadata": {},
   "source": [
    "Последний штрих."
   ]
  },
  {
   "cell_type": "code",
   "execution_count": 80,
   "metadata": {},
   "outputs": [],
   "source": [
    "for column in df.columns:\n",
    "    df[column] = pd.to_numeric(df[column], downcast= 'integer')"
   ]
  },
  {
   "cell_type": "code",
   "execution_count": 81,
   "metadata": {},
   "outputs": [
    {
     "name": "stdout",
     "output_type": "stream",
     "text": [
      "<class 'pandas.core.frame.DataFrame'>\n",
      "RangeIndex: 342215 entries, 0 to 342214\n",
      "Data columns (total 12 columns):\n",
      "price                342215 non-null int16\n",
      "registrationyear     342215 non-null int16\n",
      "power                342215 non-null int16\n",
      "kilometer            342215 non-null int32\n",
      "registrationmonth    342215 non-null int8\n",
      "postalcode           342215 non-null int32\n",
      "vehicletype          342215 non-null int8\n",
      "gearbox              342215 non-null int8\n",
      "model                342215 non-null int16\n",
      "fueltype             342215 non-null int8\n",
      "brand                342215 non-null int8\n",
      "notrepaired          342215 non-null int8\n",
      "dtypes: int16(4), int32(2), int8(6)\n",
      "memory usage: 7.2 MB\n"
     ]
    }
   ],
   "source": [
    "df.info()"
   ]
  },
  {
   "cell_type": "markdown",
   "metadata": {},
   "source": [
    "Мелочь, а приятно) </b>\n",
    "\n",
    "С другой стороны, как мелочь, почти в 4,5 раза меньше используемой памяти! Здесь - не критично и обратное, а на данных побольше - разница более чем."
   ]
  },
  {
   "cell_type": "markdown",
   "metadata": {},
   "source": [
    "Оценим потери информации в результате предобработки по оставшимся признакам. "
   ]
  },
  {
   "cell_type": "code",
   "execution_count": 82,
   "metadata": {},
   "outputs": [
    {
     "data": {
      "text/plain": [
       "3.43"
      ]
     },
     "execution_count": 82,
     "metadata": {},
     "output_type": "execute_result"
    }
   ],
   "source": [
    "round((((354369 - 342215) / 354369) * 100),3)"
   ]
  },
  {
   "cell_type": "markdown",
   "metadata": {},
   "source": [
    "Весьма и весьма приемлимые 3,43 %! Выглядит как успех)"
   ]
  },
  {
   "cell_type": "markdown",
   "metadata": {},
   "source": [
    "*Вывод*"
   ]
  },
  {
   "cell_type": "markdown",
   "metadata": {},
   "source": [
    "Промежуточные результаты таковы: \n",
    "1. Загрузили всё необходимое для работы; \n",
    "2. Произвели первичный анализ имеющейся информации;\n",
    "3. Удалили признаки, информативность которых вызывает большие вопросы; \n",
    "4. Выявили аномальные значения и тут же от них избавились; \n",
    "5. Восстановили отсутствующие значения; \n",
    "6. Осуществили подготовку категориальных признаков с помощью техники `Ordinal Encoding`;\n",
    "7. Минимизировал количество используемой памяти посредством приведения к соответствующему типу данных (`int32`, `int16`, `int8`);\n",
    "8. Совопкупные потери объектов для оставшихся признаков по итогам подготовки данных составили `3,43%`."
   ]
  },
  {
   "cell_type": "markdown",
   "metadata": {},
   "source": [
    "## Обучение моделей"
   ]
  },
  {
   "cell_type": "markdown",
   "metadata": {},
   "source": [
    "Начнём, конечно же, с создания базовой модели самой обычной линейной регрессии, без каких-либо изменений гиперпараметров и использования градиентного бустинга."
   ]
  },
  {
   "cell_type": "code",
   "execution_count": 83,
   "metadata": {},
   "outputs": [],
   "source": [
    "features= df.drop('price', axis=1)\n",
    "target = df['price']"
   ]
  },
  {
   "cell_type": "code",
   "execution_count": 84,
   "metadata": {},
   "outputs": [],
   "source": [
    "features_train, features_valid, target_train, target_valid = train_test_split(\n",
    "    features, target, test_size= 0.25, random_state=12345)"
   ]
  },
  {
   "cell_type": "code",
   "execution_count": 85,
   "metadata": {},
   "outputs": [
    {
     "name": "stdout",
     "output_type": "stream",
     "text": [
      "CPU times: user 112 ms, sys: 64.1 ms, total: 176 ms\n",
      "Wall time: 150 ms\n"
     ]
    }
   ],
   "source": [
    "%%time\n",
    "\n",
    "model_base = LinearRegression()\n",
    "model_base.fit(features_train, target_train)\n",
    "predictions = model_base.predict(features_valid)\n",
    "rmse_base = mean_squared_error(target_valid, predictions,) ** 0.5"
   ]
  },
  {
   "cell_type": "code",
   "execution_count": 86,
   "metadata": {},
   "outputs": [
    {
     "name": "stdout",
     "output_type": "stream",
     "text": [
      "3140.590545681898\n"
     ]
    }
   ],
   "source": [
    "print(rmse_base)"
   ]
  },
  {
   "cell_type": "markdown",
   "metadata": {},
   "source": [
    "Есть контакт, едем дальше."
   ]
  },
  {
   "cell_type": "markdown",
   "metadata": {},
   "source": [
    "А дальше у нас `LightGBM`."
   ]
  },
  {
   "cell_type": "markdown",
   "metadata": {},
   "source": [
    "Хоть это и не входит в непосредственную задачу этого проекта, но хотелось бы рассмотреть несколько способов обучения моделей:\n",
    "1. Итеративный метод кросс-валидации `RepeatedKFold`;\n",
    "2. Классическая кросс-валидация `cross_val_score`;\n",
    "3. Обычная подставновка обучающих и валидационных признаков после разделения `train_test_split`."
   ]
  },
  {
   "cell_type": "code",
   "execution_count": 87,
   "metadata": {},
   "outputs": [],
   "source": [
    "model_lgbm_cv_1 = LGBMRegressor()"
   ]
  },
  {
   "cell_type": "code",
   "execution_count": 88,
   "metadata": {},
   "outputs": [],
   "source": [
    "cv = RepeatedKFold(n_splits=10, n_repeats=3, random_state=1)"
   ]
  },
  {
   "cell_type": "code",
   "execution_count": 89,
   "metadata": {},
   "outputs": [
    {
     "name": "stdout",
     "output_type": "stream",
     "text": [
      "CPU times: user 19min 59s, sys: 5.72 s, total: 20min 5s\n",
      "Wall time: 20min 13s\n"
     ]
    }
   ],
   "source": [
    "%%time\n",
    "\n",
    "n_scores = cross_val_score(model_lgbm_cv_1, \n",
    "                           features, \n",
    "                           target, \n",
    "                           scoring='neg_mean_squared_error', \n",
    "                           cv=cv, \n",
    "                           n_jobs=-1, \n",
    "                           error_score='raise')"
   ]
  },
  {
   "cell_type": "code",
   "execution_count": 90,
   "metadata": {},
   "outputs": [],
   "source": [
    "rmse_lgbm_cv_1 = (n_scores * (-1)) ** 0.5"
   ]
  },
  {
   "cell_type": "code",
   "execution_count": 91,
   "metadata": {},
   "outputs": [
    {
     "name": "stdout",
     "output_type": "stream",
     "text": [
      "RMSE: mean = 1751.582 std = (17.901)\n"
     ]
    }
   ],
   "source": [
    "print('RMSE: mean = %.3f std = (%.3f)' % (mean(rmse_lgbm_cv_1), std(rmse_lgbm_cv_1)))"
   ]
  },
  {
   "cell_type": "markdown",
   "metadata": {},
   "source": [
    "Результаты не могут не радовать. И величина ошибки существенно меньше по сравнению с базовой, и значения её лежат, так сказать, достаточно кучно. "
   ]
  },
  {
   "cell_type": "markdown",
   "metadata": {},
   "source": [
    "Но. 10 минут... Страшно даже представить сколько времени при таком подходе займёт подбор гиперпараметров... Вряд ли это, что нам нужно)"
   ]
  },
  {
   "cell_type": "markdown",
   "metadata": {},
   "source": [
    "*Обычная кросс-валидация.*"
   ]
  },
  {
   "cell_type": "code",
   "execution_count": 92,
   "metadata": {},
   "outputs": [],
   "source": [
    "model_lgbm_cv_2 = LGBMRegressor()"
   ]
  },
  {
   "cell_type": "code",
   "execution_count": 93,
   "metadata": {},
   "outputs": [
    {
     "name": "stdout",
     "output_type": "stream",
     "text": [
      "CPU times: user 2min 40s, sys: 625 ms, total: 2min 41s\n",
      "Wall time: 2min 42s\n"
     ]
    }
   ],
   "source": [
    "%%time\n",
    "\n",
    "n_scores = cross_val_score(model_lgbm_cv_2, \n",
    "                           features, \n",
    "                           target, \n",
    "                           scoring='neg_mean_squared_error',\n",
    "                           cv=5,\n",
    "                           n_jobs=-1,\n",
    "                           error_score='raise')"
   ]
  },
  {
   "cell_type": "code",
   "execution_count": 94,
   "metadata": {},
   "outputs": [],
   "source": [
    "rmse_lgbm_cv_2 = (n_scores * (-1)) ** 0.5"
   ]
  },
  {
   "cell_type": "code",
   "execution_count": 95,
   "metadata": {},
   "outputs": [
    {
     "name": "stdout",
     "output_type": "stream",
     "text": [
      "RMSE: mean = 1753.469 std = (11.589)\n"
     ]
    }
   ],
   "source": [
    "print('RMSE: mean = %.3f std = (%.3f)' % (mean(rmse_lgbm_cv_2), std(rmse_lgbm_cv_2)))"
   ]
  },
  {
   "cell_type": "markdown",
   "metadata": {},
   "source": [
    "Другой разговор! В 10 раз быстрее! Среднее значение практически такое же, отклонение меньше, но это прямое следствие количества результатов, которых, очевидно, также меньше."
   ]
  },
  {
   "cell_type": "markdown",
   "metadata": {},
   "source": [
    "*Подстановка тренировочных и валидационных признаков после `train_test_split`.*"
   ]
  },
  {
   "cell_type": "code",
   "execution_count": 96,
   "metadata": {},
   "outputs": [],
   "source": [
    "model_lgbm_cv_3 = LGBMRegressor()"
   ]
  },
  {
   "cell_type": "code",
   "execution_count": 97,
   "metadata": {},
   "outputs": [
    {
     "name": "stdout",
     "output_type": "stream",
     "text": [
      "CPU times: user 39.7 s, sys: 265 ms, total: 40 s\n",
      "Wall time: 40.4 s\n"
     ]
    }
   ],
   "source": [
    "%%time\n",
    "\n",
    "model_lgbm_cv_3.fit(features_train, target_train)\n",
    "predictions = model_lgbm_cv_3.predict(features_valid)"
   ]
  },
  {
   "cell_type": "code",
   "execution_count": 98,
   "metadata": {},
   "outputs": [],
   "source": [
    "rmse_lgbm_cv_3 = mean_squared_error(target_valid, predictions,) ** 0.5"
   ]
  },
  {
   "cell_type": "code",
   "execution_count": 99,
   "metadata": {},
   "outputs": [
    {
     "data": {
      "text/plain": [
       "1748.3659250036394"
      ]
     },
     "execution_count": 99,
     "metadata": {},
     "output_type": "execute_result"
    }
   ],
   "source": [
    "rmse_lgbm_cv_3"
   ]
  },
  {
   "cell_type": "markdown",
   "metadata": {},
   "source": [
    "Так. Собственно, что и говорить, разница по метрике ничтожная, а вот во времени более чем! Очередное ускорение: почти в 6 раз!"
   ]
  },
  {
   "cell_type": "markdown",
   "metadata": {},
   "source": [
    "Следовательно, с учётом временной специфики самого бустинга, качества полученных результатов и перспективы исследования гиперпараметров, остановимся на последнем варианте."
   ]
  },
  {
   "cell_type": "markdown",
   "metadata": {},
   "source": [
    "*Изменение гиперпараметров моделей*"
   ]
  },
  {
   "cell_type": "markdown",
   "metadata": {},
   "source": [
    "Теперь займёмся гиперпараметрами. Исследуем следующие из них:\n",
    "1. Количество деревьев;\n",
    "2. Глубина дерева;\n",
    "3. Скорость обучения;\n",
    "4. Тип бустинга."
   ]
  },
  {
   "cell_type": "markdown",
   "metadata": {},
   "source": [
    "*Количество деревьев.*"
   ]
  },
  {
   "cell_type": "code",
   "execution_count": 100,
   "metadata": {},
   "outputs": [],
   "source": [
    "def get_models():\n",
    "    models = dict()\n",
    "    trees = [100, 200, 300, 400, 500, 600, 700, 800, 900, 1000]\n",
    "    for n in trees:\n",
    "        models[str(n)] = LGBMRegressor(n_estimators=n)\n",
    "    return models"
   ]
  },
  {
   "cell_type": "code",
   "execution_count": 101,
   "metadata": {},
   "outputs": [],
   "source": [
    "def evaluate_model(model):\n",
    "    model.fit(features_train, target_train)\n",
    "    predictions = model.predict(features_valid)\n",
    "    rmse = mean_squared_error(target_valid, predictions,) ** 0.5\n",
    "    return rmse"
   ]
  },
  {
   "cell_type": "code",
   "execution_count": 102,
   "metadata": {},
   "outputs": [],
   "source": [
    "models = get_models()"
   ]
  },
  {
   "cell_type": "code",
   "execution_count": 103,
   "metadata": {},
   "outputs": [
    {
     "name": "stdout",
     "output_type": "stream",
     "text": [
      ">100 1748.366\n",
      ">200 1690.142\n",
      ">300 1659.823\n",
      ">400 1639.861\n",
      ">500 1627.642\n",
      ">600 1618.452\n",
      ">700 1611.051\n",
      ">800 1603.012\n",
      ">900 1597.179\n",
      ">1000 1593.498\n"
     ]
    }
   ],
   "source": [
    "for name, model in models.items():\n",
    "    rmse = evaluate_model(model)\n",
    "    print('>%s %.3f' % (name, mean(rmse)))"
   ]
  },
  {
   "cell_type": "markdown",
   "metadata": {},
   "source": [
    "*Глубина дерева.*"
   ]
  },
  {
   "cell_type": "code",
   "execution_count": 104,
   "metadata": {},
   "outputs": [],
   "source": [
    "def get_models():\n",
    "    models = dict()\n",
    "    for i in range(1,11):\n",
    "        models[str(i)] = LGBMRegressor(max_depth = i, num_leaves = 2**i)\n",
    "    return models"
   ]
  },
  {
   "cell_type": "code",
   "execution_count": 105,
   "metadata": {},
   "outputs": [],
   "source": [
    "def evaluate_model(model):\n",
    "    model.fit(features_train, target_train)\n",
    "    predictions = model.predict(features_valid)\n",
    "    rmse = mean_squared_error(target_valid, predictions,) ** 0.5\n",
    "    return rmse"
   ]
  },
  {
   "cell_type": "code",
   "execution_count": 106,
   "metadata": {},
   "outputs": [],
   "source": [
    "models = get_models()"
   ]
  },
  {
   "cell_type": "code",
   "execution_count": 107,
   "metadata": {},
   "outputs": [
    {
     "name": "stdout",
     "output_type": "stream",
     "text": [
      ">1 2528.422\n",
      ">2 2118.912\n",
      ">3 1957.472\n",
      ">4 1858.834\n",
      ">5 1792.910\n",
      ">6 1739.755\n",
      ">7 1692.907\n",
      ">8 1653.689\n",
      ">9 1632.577\n",
      ">10 1610.201\n"
     ]
    }
   ],
   "source": [
    "for name, model in models.items():\n",
    "    rmse = evaluate_model(model)\n",
    "    print('>%s %.3f' % (name, mean(rmse)))"
   ]
  },
  {
   "cell_type": "markdown",
   "metadata": {},
   "source": [
    "*Скорость обучения.*"
   ]
  },
  {
   "cell_type": "code",
   "execution_count": 108,
   "metadata": {},
   "outputs": [],
   "source": [
    "def get_models():\n",
    "    models = dict()\n",
    "    rates = [0.0001, 0.001, 0.01, 0.1, 1.0]\n",
    "    for r in rates:\n",
    "        key = '%.4f' % r\n",
    "        models[key] = LGBMRegressor(learning_rate = r)\n",
    "    return models"
   ]
  },
  {
   "cell_type": "code",
   "execution_count": 109,
   "metadata": {},
   "outputs": [],
   "source": [
    "def evaluate_model(model):\n",
    "    model.fit(features_train, target_train)\n",
    "    predictions = model.predict(features_valid)\n",
    "    rmse = mean_squared_error(target_valid, predictions,) ** 0.5\n",
    "    return rmse"
   ]
  },
  {
   "cell_type": "code",
   "execution_count": 110,
   "metadata": {},
   "outputs": [],
   "source": [
    "models = get_models()"
   ]
  },
  {
   "cell_type": "code",
   "execution_count": 111,
   "metadata": {},
   "outputs": [
    {
     "name": "stdout",
     "output_type": "stream",
     "text": [
      ">0.0001 4474.423\n",
      ">0.0010 4202.607\n",
      ">0.0100 2678.310\n",
      ">0.1000 1748.366\n",
      ">1.0000 1753.015\n"
     ]
    }
   ],
   "source": [
    "for name, model in models.items():\n",
    "    rmse = evaluate_model(model)\n",
    "    print('>%s %.3f' % (name, mean(rmse)))"
   ]
  },
  {
   "cell_type": "markdown",
   "metadata": {},
   "source": [
    "*Тип бустинга.*"
   ]
  },
  {
   "cell_type": "code",
   "execution_count": 112,
   "metadata": {},
   "outputs": [],
   "source": [
    "def get_models():\n",
    "    models = dict()\n",
    "    types = ['gbdt', 'dart', 'goss']\n",
    "    for t in types:\n",
    "        models[t] = LGBMRegressor(boosting_type=t)\n",
    "    return models"
   ]
  },
  {
   "cell_type": "code",
   "execution_count": 113,
   "metadata": {},
   "outputs": [],
   "source": [
    "def evaluate_model(model):\n",
    "    model.fit(features_train, target_train)\n",
    "    predictions = model.predict(features_valid)\n",
    "    rmse = mean_squared_error(target_valid, predictions,) ** 0.5\n",
    "    return rmse"
   ]
  },
  {
   "cell_type": "code",
   "execution_count": 114,
   "metadata": {},
   "outputs": [],
   "source": [
    "models = get_models()"
   ]
  },
  {
   "cell_type": "code",
   "execution_count": 115,
   "metadata": {},
   "outputs": [
    {
     "name": "stdout",
     "output_type": "stream",
     "text": [
      ">gbdt 1748.366\n",
      ">dart 2002.890\n",
      ">goss 1715.076\n"
     ]
    }
   ],
   "source": [
    "for name, model in models.items():\n",
    "    rmse = evaluate_model(model)\n",
    "    print('>%s %.3f' % (name, mean(rmse)))"
   ]
  },
  {
   "cell_type": "markdown",
   "metadata": {},
   "source": [
    "Теперь объедим лучшее из гиперпараметров, что нам удалось получить, в одну модель."
   ]
  },
  {
   "cell_type": "code",
   "execution_count": 116,
   "metadata": {},
   "outputs": [],
   "source": [
    "best_model_1 = LGBMRegressor(n_estimators = 1000, \n",
    "                           max_depth = 10, \n",
    "                           num_leaves = 20, \n",
    "                           learning_rate = 1,\n",
    "                           boosting_type = 'goss')"
   ]
  },
  {
   "cell_type": "code",
   "execution_count": 117,
   "metadata": {},
   "outputs": [
    {
     "name": "stdout",
     "output_type": "stream",
     "text": [
      "CPU times: user 1min 52s, sys: 497 ms, total: 1min 53s\n",
      "Wall time: 1min 54s\n"
     ]
    }
   ],
   "source": [
    "%%time\n",
    "\n",
    "best_model_1.fit(features_train, target_train)\n",
    "predictions = best_model_1.predict(features_valid)"
   ]
  },
  {
   "cell_type": "code",
   "execution_count": 118,
   "metadata": {},
   "outputs": [],
   "source": [
    "best_rmse_1 = mean_squared_error(target_valid, predictions,) ** 0.5"
   ]
  },
  {
   "cell_type": "code",
   "execution_count": 119,
   "metadata": {},
   "outputs": [
    {
     "data": {
      "text/plain": [
       "1.683131561015067e+39"
      ]
     },
     "execution_count": 119,
     "metadata": {},
     "output_type": "execute_result"
    }
   ],
   "source": [
    "best_rmse_1"
   ]
  },
  {
   "cell_type": "markdown",
   "metadata": {},
   "source": [
    "Дааа, результат превзошёл все ожидания. Вернём тип бустинга на исходные."
   ]
  },
  {
   "cell_type": "code",
   "execution_count": 120,
   "metadata": {},
   "outputs": [],
   "source": [
    "best_model_2 = LGBMRegressor(n_estimators = 1000, \n",
    "                           max_depth = 10, \n",
    "                           num_leaves = 20, \n",
    "                           learning_rate = 1)                           "
   ]
  },
  {
   "cell_type": "code",
   "execution_count": 121,
   "metadata": {},
   "outputs": [
    {
     "name": "stdout",
     "output_type": "stream",
     "text": [
      "CPU times: user 4min 37s, sys: 1.35 s, total: 4min 39s\n",
      "Wall time: 4min 41s\n"
     ]
    }
   ],
   "source": [
    "%%time\n",
    "\n",
    "best_model_2.fit(features_train, target_train)\n",
    "predictions = best_model_2.predict(features_valid)"
   ]
  },
  {
   "cell_type": "code",
   "execution_count": 122,
   "metadata": {},
   "outputs": [],
   "source": [
    "best_rmse_2 = mean_squared_error(target_valid, predictions,) ** 0.5"
   ]
  },
  {
   "cell_type": "code",
   "execution_count": 123,
   "metadata": {},
   "outputs": [
    {
     "data": {
      "text/plain": [
       "1795.6261298894788"
      ]
     },
     "execution_count": 123,
     "metadata": {},
     "output_type": "execute_result"
    }
   ],
   "source": [
    "best_rmse_2"
   ]
  },
  {
   "cell_type": "markdown",
   "metadata": {},
   "source": [
    "Многовато. Попробуем убрать время обучения."
   ]
  },
  {
   "cell_type": "code",
   "execution_count": 124,
   "metadata": {},
   "outputs": [],
   "source": [
    "best_model_3 = LGBMRegressor(n_estimators = 1000, \n",
    "                           max_depth = 10, \n",
    "                           num_leaves = 20) "
   ]
  },
  {
   "cell_type": "code",
   "execution_count": 125,
   "metadata": {},
   "outputs": [
    {
     "name": "stdout",
     "output_type": "stream",
     "text": [
      "CPU times: user 12min 23s, sys: 3.88 s, total: 12min 26s\n",
      "Wall time: 12min 31s\n"
     ]
    }
   ],
   "source": [
    "%%time\n",
    "\n",
    "best_model_3.fit(features_train, target_train)\n",
    "predictions = best_model_3.predict(features_valid)"
   ]
  },
  {
   "cell_type": "code",
   "execution_count": 126,
   "metadata": {},
   "outputs": [],
   "source": [
    "best_rmse_3 = mean_squared_error(target_valid, predictions,) ** 0.5"
   ]
  },
  {
   "cell_type": "code",
   "execution_count": 127,
   "metadata": {},
   "outputs": [
    {
     "data": {
      "text/plain": [
       "1617.873559650489"
      ]
     },
     "execution_count": 127,
     "metadata": {},
     "output_type": "execute_result"
    }
   ],
   "source": [
    "best_rmse_3"
   ]
  },
  {
   "cell_type": "markdown",
   "metadata": {},
   "source": [
    "Уберём листья)"
   ]
  },
  {
   "cell_type": "code",
   "execution_count": 128,
   "metadata": {},
   "outputs": [],
   "source": [
    "best_model_4 = LGBMRegressor(n_estimators = 1000, \n",
    "                           max_depth = 10) "
   ]
  },
  {
   "cell_type": "code",
   "execution_count": 129,
   "metadata": {},
   "outputs": [
    {
     "name": "stdout",
     "output_type": "stream",
     "text": [
      "CPU times: user 6min 26s, sys: 1.88 s, total: 6min 28s\n",
      "Wall time: 6min 31s\n"
     ]
    }
   ],
   "source": [
    "%%time\n",
    "\n",
    "best_model_4.fit(features_train, target_train)\n",
    "predictions = best_model_4.predict(features_valid)"
   ]
  },
  {
   "cell_type": "code",
   "execution_count": 130,
   "metadata": {},
   "outputs": [],
   "source": [
    "best_rmse_4 = mean_squared_error(target_valid, predictions,) ** 0.5"
   ]
  },
  {
   "cell_type": "code",
   "execution_count": 131,
   "metadata": {},
   "outputs": [
    {
     "data": {
      "text/plain": [
       "1596.9138573386192"
      ]
     },
     "execution_count": 131,
     "metadata": {},
     "output_type": "execute_result"
    }
   ],
   "source": [
    "best_rmse_4"
   ]
  },
  {
   "cell_type": "markdown",
   "metadata": {},
   "source": [
    "Вот. Уже похоже на правду. И напоследок оставим единственный гиперпараметр."
   ]
  },
  {
   "cell_type": "code",
   "execution_count": 132,
   "metadata": {},
   "outputs": [],
   "source": [
    "best_model_5 = LGBMRegressor(n_estimators = 1000) "
   ]
  },
  {
   "cell_type": "code",
   "execution_count": 133,
   "metadata": {},
   "outputs": [
    {
     "name": "stdout",
     "output_type": "stream",
     "text": [
      "CPU times: user 7min 22s, sys: 2.06 s, total: 7min 24s\n",
      "Wall time: 7min 28s\n"
     ]
    }
   ],
   "source": [
    "%%time\n",
    "\n",
    "best_model_5.fit(features_train, target_train)\n",
    "predictions = best_model_5.predict(features_valid)"
   ]
  },
  {
   "cell_type": "code",
   "execution_count": 134,
   "metadata": {},
   "outputs": [],
   "source": [
    "best_rmse_5 = mean_squared_error(target_valid, predictions,) ** 0.5"
   ]
  },
  {
   "cell_type": "code",
   "execution_count": 135,
   "metadata": {},
   "outputs": [
    {
     "data": {
      "text/plain": [
       "1593.4978171028338"
      ]
     },
     "execution_count": 135,
     "metadata": {},
     "output_type": "execute_result"
    }
   ],
   "source": [
    "best_rmse_5"
   ]
  },
  {
   "cell_type": "markdown",
   "metadata": {},
   "source": [
    "Теперь, получив лучшую модель, подставим в неё значения второго фрейма, чтобы сравнить результат."
   ]
  },
  {
   "cell_type": "code",
   "execution_count": 143,
   "metadata": {},
   "outputs": [],
   "source": [
    "features_2= df_2.drop('price', axis=1)\n",
    "target_2 = df_2['price']"
   ]
  },
  {
   "cell_type": "code",
   "execution_count": 144,
   "metadata": {},
   "outputs": [],
   "source": [
    "features_train_2, features_valid_2, target_train_2, target_valid_2 = train_test_split(\n",
    "    features_2, target_2, test_size= 0.25, random_state=12345)"
   ]
  },
  {
   "cell_type": "code",
   "execution_count": 145,
   "metadata": {},
   "outputs": [],
   "source": [
    "best_model_6 = LGBMRegressor(n_estimators = 1000) "
   ]
  },
  {
   "cell_type": "code",
   "execution_count": 146,
   "metadata": {},
   "outputs": [],
   "source": [
    "cat_features = ['vehicletype', 'gearbox', 'model', 'fueltype', 'notrepaired', 'brand']"
   ]
  },
  {
   "cell_type": "code",
   "execution_count": 147,
   "metadata": {},
   "outputs": [],
   "source": [
    "df_2[cat_features] = df_2[cat_features].astype('category')"
   ]
  },
  {
   "cell_type": "code",
   "execution_count": 149,
   "metadata": {},
   "outputs": [
    {
     "name": "stdout",
     "output_type": "stream",
     "text": [
      "CPU times: user 3min 46s, sys: 1.24 s, total: 3min 47s\n",
      "Wall time: 3min 49s\n"
     ]
    }
   ],
   "source": [
    "%%time\n",
    "\n",
    "best_model_6.fit(features_train_2, \n",
    "                   target_train_2,\n",
    "                   categorical_feature = cat_features, \n",
    "                   verbose=10)\n",
    "predictions = best_model_6.predict(features_valid_2)"
   ]
  },
  {
   "cell_type": "code",
   "execution_count": 150,
   "metadata": {},
   "outputs": [],
   "source": [
    "best_rmse_6 = mean_squared_error(target_valid_2, predictions,) ** 0.5"
   ]
  },
  {
   "cell_type": "code",
   "execution_count": 151,
   "metadata": {},
   "outputs": [
    {
     "data": {
      "text/plain": [
       "1533.28731995856"
      ]
     },
     "execution_count": 151,
     "metadata": {},
     "output_type": "execute_result"
    }
   ],
   "source": [
    "best_rmse_6"
   ]
  },
  {
   "cell_type": "markdown",
   "metadata": {},
   "source": [
    "Успех! "
   ]
  },
  {
   "cell_type": "markdown",
   "metadata": {},
   "source": [
    "## Анализ моделей"
   ]
  },
  {
   "cell_type": "markdown",
   "metadata": {},
   "source": [
    "Итак, для наглядности сведём полученные данные в одну таблицу."
   ]
  },
  {
   "cell_type": "code",
   "execution_count": 155,
   "metadata": {},
   "outputs": [],
   "source": [
    "list_results = [\n",
    "  ['base_model', rmse_base, 0.2],\n",
    "  ['model_lgbm_cv_1', mean(rmse_lgbm_cv_1), 637],\n",
    "  ['model_lgbm_cv_2', mean(rmse_lgbm_cv_2), 62],\n",
    "  ['model_lgbm_cv_3', mean(rmse_lgbm_cv_3), 11],\n",
    "  ['best_model_2', best_rmse_2, 56], \n",
    "  ['best_model_3', best_rmse_3, 65],\n",
    "  ['best_model_4', best_rmse_4, 72],\n",
    "  ['best_model_5', best_rmse_5, 72],\n",
    "  ['best_model_6', best_rmse_6, 72]]\n"
   ]
  },
  {
   "cell_type": "code",
   "execution_count": 156,
   "metadata": {},
   "outputs": [],
   "source": [
    "df_results = pd.DataFrame(list_results, columns = ['name','rmse','time'])"
   ]
  },
  {
   "cell_type": "code",
   "execution_count": 157,
   "metadata": {
    "scrolled": true
   },
   "outputs": [
    {
     "data": {
      "text/html": [
       "<div>\n",
       "<style scoped>\n",
       "    .dataframe tbody tr th:only-of-type {\n",
       "        vertical-align: middle;\n",
       "    }\n",
       "\n",
       "    .dataframe tbody tr th {\n",
       "        vertical-align: top;\n",
       "    }\n",
       "\n",
       "    .dataframe thead th {\n",
       "        text-align: right;\n",
       "    }\n",
       "</style>\n",
       "<table border=\"1\" class=\"dataframe\">\n",
       "  <thead>\n",
       "    <tr style=\"text-align: right;\">\n",
       "      <th></th>\n",
       "      <th>name</th>\n",
       "      <th>rmse</th>\n",
       "      <th>time</th>\n",
       "    </tr>\n",
       "  </thead>\n",
       "  <tbody>\n",
       "    <tr>\n",
       "      <td>0</td>\n",
       "      <td>base_model</td>\n",
       "      <td>3140.590546</td>\n",
       "      <td>0.2</td>\n",
       "    </tr>\n",
       "    <tr>\n",
       "      <td>1</td>\n",
       "      <td>model_lgbm_cv_1</td>\n",
       "      <td>1751.582322</td>\n",
       "      <td>637.0</td>\n",
       "    </tr>\n",
       "    <tr>\n",
       "      <td>2</td>\n",
       "      <td>model_lgbm_cv_2</td>\n",
       "      <td>1753.468827</td>\n",
       "      <td>62.0</td>\n",
       "    </tr>\n",
       "    <tr>\n",
       "      <td>3</td>\n",
       "      <td>model_lgbm_cv_3</td>\n",
       "      <td>1748.365925</td>\n",
       "      <td>11.0</td>\n",
       "    </tr>\n",
       "    <tr>\n",
       "      <td>4</td>\n",
       "      <td>best_model_2</td>\n",
       "      <td>1795.626130</td>\n",
       "      <td>56.0</td>\n",
       "    </tr>\n",
       "    <tr>\n",
       "      <td>5</td>\n",
       "      <td>best_model_3</td>\n",
       "      <td>1617.873560</td>\n",
       "      <td>65.0</td>\n",
       "    </tr>\n",
       "    <tr>\n",
       "      <td>6</td>\n",
       "      <td>best_model_4</td>\n",
       "      <td>1596.913857</td>\n",
       "      <td>72.0</td>\n",
       "    </tr>\n",
       "    <tr>\n",
       "      <td>7</td>\n",
       "      <td>best_model_5</td>\n",
       "      <td>1593.497817</td>\n",
       "      <td>72.0</td>\n",
       "    </tr>\n",
       "    <tr>\n",
       "      <td>8</td>\n",
       "      <td>best_model_6</td>\n",
       "      <td>1533.287320</td>\n",
       "      <td>72.0</td>\n",
       "    </tr>\n",
       "  </tbody>\n",
       "</table>\n",
       "</div>"
      ],
      "text/plain": [
       "              name         rmse   time\n",
       "0       base_model  3140.590546    0.2\n",
       "1  model_lgbm_cv_1  1751.582322  637.0\n",
       "2  model_lgbm_cv_2  1753.468827   62.0\n",
       "3  model_lgbm_cv_3  1748.365925   11.0\n",
       "4     best_model_2  1795.626130   56.0\n",
       "5     best_model_3  1617.873560   65.0\n",
       "6     best_model_4  1596.913857   72.0\n",
       "7     best_model_5  1593.497817   72.0\n",
       "8     best_model_6  1533.287320   72.0"
      ]
     },
     "execution_count": 157,
     "metadata": {},
     "output_type": "execute_result"
    }
   ],
   "source": [
    "df_results"
   ]
  },
  {
   "cell_type": "markdown",
   "metadata": {},
   "source": [
    "Проанализируем результаты в порядке их получения:\n",
    "1. `base_model` - наша базовая модель. Обычная линейная регрессия. Результаты соответствущие. Больших надежд тут не было изначально, но будет с чем сравнить;\n",
    "2. `model_lgbm_cv_1` - с этой модели и далее будет только градиентный бустинг. Конретно в этом случае добавляем ещё итеративную кросс-валидацию. Результат ощутимо лучше по качеству, а вот время улетело в космос. Естественно не наш вариант;\n",
    "3. `model_lgbm_cv_2` - аналогичная модель, только с обычной кросс-валидацией. Существенно быстрее, качество такое же. Выглядит убедительно;\n",
    "4. `model_lgbm_cv_3` - отказываемся от игр с кросс-валидацией. Получаем тоже самое качество, но снова в разы быстрее! Именно с таким подход обучению модели дальше будем исследовать гиперпараметры;\n",
    "5. `best_model_1` - первая модель, которая вобрала в себя все, до этого показавшие себя по отдельности прекрасно, гиперпараметры, даже не попала в таблицу из-за своей вселенский размеров ошибки;\n",
    "6. `best_model_2` - убрали измения типа бустинга, ситуация стабилизировалась, но ошибка велика. Больше даже простой модели с бустингом, не говоря уже о гиперпараметрах;\n",
    "7. `best_model_3` - со скоростью также обучения также прощаемся, чуть растёт время, а ошибка наоброт - уменьшается;\n",
    "8. `best_model_4` - убираем листья, и снова небольшой рост по качеству и по времени;\n",
    "9. `best_model_5` - и наконец наш финалист, лучшая модель на первом фрейме `df`! Оставляем только `n_estimators = 1000` и получаем тоже время и совсем немного лучшее качество. \n",
    "10. `best_model_6` - но как выяснилось и не финалист вовсе) если подставить в модель второй фрейм `df_2`, то результат будет ещё лучше!\n",
    "Следовательно, данная модель больше всего нам и подходит."
   ]
  },
  {
   "cell_type": "markdown",
   "metadata": {},
   "source": [
    "## Вывод"
   ]
  },
  {
   "cell_type": "markdown",
   "metadata": {},
   "source": [
    "По результатам проведённого анализа, включающего в себя подготовку данных, построение и исследование моделей, можно утверждать, что наиболее эффективной из полученных для нас является последняя модель градиентного бустинга для регрессии с гиперпараметром `n_estimators = 1000` и фрейма `df_2`, где всё таки исключен почтовый код и отсуствующие данные по ремонту, а категориальные переменные подаются в модель напрямую. Время обучения и предсказания равны 178 секундам, а`RMSE = 1533.287`. <br/>\n",
    "\n",
    "Проведённый анализ наглядно демонстрирует влияние рассмотренных гиперпараметров как по отдельности, так и всех вместе. При этом совместное их изменение в рамках одной модели дало существенно худшие результаты, чем изменение каждого параметра по отдельности. <br/>\n",
    "\n",
    "И, конечно же, нельзя не отметить, что применение градиентного бустинга чуть больше чем в 1.5 раз уменьшило `RMSE` по сравнению с обычной линейной регрессией."
   ]
  }
 ],
 "metadata": {
  "ExecuteTimeLog": [
   {
    "duration": 434,
    "start_time": "2021-11-08T18:43:55.085Z"
   },
   {
    "duration": 902,
    "start_time": "2021-11-08T18:44:23.043Z"
   },
   {
    "duration": 1116,
    "start_time": "2021-11-08T18:44:28.217Z"
   },
   {
    "duration": 47,
    "start_time": "2021-11-08T18:44:35.730Z"
   },
   {
    "duration": 165,
    "start_time": "2021-11-08T18:46:00.911Z"
   },
   {
    "duration": 4,
    "start_time": "2021-11-08T18:47:47.024Z"
   },
   {
    "duration": 37,
    "start_time": "2021-11-08T18:47:47.564Z"
   },
   {
    "duration": 130,
    "start_time": "2021-11-08T18:48:51.144Z"
   },
   {
    "duration": 2335,
    "start_time": "2021-11-08T18:49:58.873Z"
   },
   {
    "duration": 3204,
    "start_time": "2021-11-08T18:51:04.627Z"
   },
   {
    "duration": 4,
    "start_time": "2021-11-08T19:01:37.564Z"
   },
   {
    "duration": 7,
    "start_time": "2021-11-08T19:01:46.246Z"
   },
   {
    "duration": 9922,
    "start_time": "2021-11-08T19:03:10.136Z"
   },
   {
    "duration": 10093,
    "start_time": "2021-11-08T19:04:45.062Z"
   },
   {
    "duration": 16,
    "start_time": "2021-11-08T19:05:02.415Z"
   },
   {
    "duration": 50,
    "start_time": "2021-11-08T19:05:13.462Z"
   },
   {
    "duration": 39,
    "start_time": "2021-11-08T19:05:23.624Z"
   },
   {
    "duration": 38,
    "start_time": "2021-11-08T19:05:30.088Z"
   },
   {
    "duration": 671,
    "start_time": "2021-11-08T19:05:35.702Z"
   },
   {
    "duration": 35,
    "start_time": "2021-11-08T19:05:45.449Z"
   },
   {
    "duration": 50,
    "start_time": "2021-11-08T19:06:13.852Z"
   },
   {
    "duration": 20,
    "start_time": "2021-11-08T19:06:28.576Z"
   },
   {
    "duration": 39,
    "start_time": "2021-11-08T19:12:23.015Z"
   },
   {
    "duration": 5,
    "start_time": "2021-11-08T19:13:18.873Z"
   },
   {
    "duration": 3,
    "start_time": "2021-11-08T19:13:22.439Z"
   },
   {
    "duration": 6,
    "start_time": "2021-11-08T19:13:26.338Z"
   },
   {
    "duration": 44,
    "start_time": "2021-11-08T19:13:52.883Z"
   },
   {
    "duration": 34,
    "start_time": "2021-11-08T19:15:00.722Z"
   },
   {
    "duration": 20,
    "start_time": "2021-11-08T19:15:30.687Z"
   },
   {
    "duration": 145,
    "start_time": "2021-11-08T19:16:26.424Z"
   },
   {
    "duration": 7,
    "start_time": "2021-11-08T19:16:56.568Z"
   },
   {
    "duration": 49,
    "start_time": "2021-11-08T19:17:47.146Z"
   },
   {
    "duration": 21,
    "start_time": "2021-11-08T19:18:06.433Z"
   },
   {
    "duration": 17,
    "start_time": "2021-11-08T19:19:15.420Z"
   },
   {
    "duration": 334,
    "start_time": "2021-11-08T19:19:40.027Z"
   },
   {
    "duration": 21,
    "start_time": "2021-11-08T19:20:09.956Z"
   },
   {
    "duration": 14,
    "start_time": "2021-11-08T19:20:53.211Z"
   },
   {
    "duration": 424,
    "start_time": "2021-11-08T19:21:17.764Z"
   },
   {
    "duration": 14,
    "start_time": "2021-11-08T19:21:22.799Z"
   },
   {
    "duration": 6,
    "start_time": "2021-11-08T19:21:34.500Z"
   },
   {
    "duration": 81,
    "start_time": "2021-11-08T19:24:05.030Z"
   },
   {
    "duration": 47,
    "start_time": "2021-11-08T19:24:15.261Z"
   },
   {
    "duration": 21,
    "start_time": "2021-11-08T19:24:30.430Z"
   },
   {
    "duration": 825,
    "start_time": "2021-11-08T19:27:00.218Z"
   },
   {
    "duration": 1165,
    "start_time": "2021-11-08T19:27:01.045Z"
   },
   {
    "duration": 4,
    "start_time": "2021-11-08T19:27:02.214Z"
   },
   {
    "duration": 69,
    "start_time": "2021-11-08T19:27:02.222Z"
   },
   {
    "duration": 176,
    "start_time": "2021-11-08T19:27:02.294Z"
   },
   {
    "duration": 141,
    "start_time": "2021-11-08T19:27:02.473Z"
   },
   {
    "duration": 3447,
    "start_time": "2021-11-08T19:27:02.617Z"
   },
   {
    "duration": 6,
    "start_time": "2021-11-08T19:27:06.070Z"
   },
   {
    "duration": 24,
    "start_time": "2021-11-08T19:27:06.079Z"
   },
   {
    "duration": 34,
    "start_time": "2021-11-08T19:27:06.106Z"
   },
   {
    "duration": 45,
    "start_time": "2021-11-08T19:27:06.144Z"
   },
   {
    "duration": 105,
    "start_time": "2021-11-08T19:27:06.192Z"
   },
   {
    "duration": 19,
    "start_time": "2021-11-08T19:27:06.300Z"
   },
   {
    "duration": 64,
    "start_time": "2021-11-08T19:27:06.322Z"
   },
   {
    "duration": 22,
    "start_time": "2021-11-08T19:27:06.389Z"
   },
   {
    "duration": 42,
    "start_time": "2021-11-08T19:27:06.414Z"
   },
   {
    "duration": 18,
    "start_time": "2021-11-08T19:27:06.460Z"
   },
   {
    "duration": 97,
    "start_time": "2021-11-08T19:27:06.481Z"
   },
   {
    "duration": 30,
    "start_time": "2021-11-08T19:27:06.581Z"
   },
   {
    "duration": 485,
    "start_time": "2021-11-08T19:27:06.614Z"
   },
   {
    "duration": 6,
    "start_time": "2021-11-08T19:27:29.921Z"
   },
   {
    "duration": 6,
    "start_time": "2021-11-08T19:27:58.603Z"
   },
   {
    "duration": 145,
    "start_time": "2021-11-08T19:28:31.015Z"
   },
   {
    "duration": 6,
    "start_time": "2021-11-08T19:28:44.508Z"
   },
   {
    "duration": 78,
    "start_time": "2021-11-08T19:29:42.730Z"
   },
   {
    "duration": 33,
    "start_time": "2021-11-08T19:29:56.694Z"
   },
   {
    "duration": 7,
    "start_time": "2021-11-08T19:30:06.422Z"
   },
   {
    "duration": 78,
    "start_time": "2021-11-08T19:30:49.450Z"
   },
   {
    "duration": 81,
    "start_time": "2021-11-08T19:31:04.323Z"
   },
   {
    "duration": 21,
    "start_time": "2021-11-08T19:31:17.763Z"
   },
   {
    "duration": 75,
    "start_time": "2021-11-08T19:32:12.905Z"
   },
   {
    "duration": 22,
    "start_time": "2021-11-08T19:32:22.013Z"
   },
   {
    "duration": 124,
    "start_time": "2021-11-08T19:33:03.623Z"
   },
   {
    "duration": 21,
    "start_time": "2021-11-08T19:33:23.808Z"
   },
   {
    "duration": 11,
    "start_time": "2021-11-08T19:34:32.041Z"
   },
   {
    "duration": 20,
    "start_time": "2021-11-08T19:34:54.909Z"
   },
   {
    "duration": 11,
    "start_time": "2021-11-08T19:34:55.693Z"
   },
   {
    "duration": 21,
    "start_time": "2021-11-08T19:35:35.377Z"
   },
   {
    "duration": 19,
    "start_time": "2021-11-08T19:35:46.706Z"
   },
   {
    "duration": 17,
    "start_time": "2021-11-08T19:35:50.192Z"
   },
   {
    "duration": 6,
    "start_time": "2021-11-08T19:36:16.218Z"
   },
   {
    "duration": 137,
    "start_time": "2021-11-08T19:36:33.072Z"
   },
   {
    "duration": 25,
    "start_time": "2021-11-08T19:36:49.180Z"
   },
   {
    "duration": 129,
    "start_time": "2021-11-08T19:36:51.747Z"
   },
   {
    "duration": 7,
    "start_time": "2021-11-08T19:39:36.066Z"
   },
   {
    "duration": 42,
    "start_time": "2021-11-08T19:40:19.775Z"
   },
   {
    "duration": 54,
    "start_time": "2021-11-08T19:40:24.637Z"
   },
   {
    "duration": 58,
    "start_time": "2021-11-08T19:40:42.705Z"
   },
   {
    "duration": 45,
    "start_time": "2021-11-08T19:41:36.357Z"
   },
   {
    "duration": 399,
    "start_time": "2021-11-08T19:42:14.076Z"
   },
   {
    "duration": 33,
    "start_time": "2021-11-08T19:42:29.474Z"
   },
   {
    "duration": 31,
    "start_time": "2021-11-08T19:42:38.495Z"
   },
   {
    "duration": 440,
    "start_time": "2021-11-09T10:59:36.168Z"
   },
   {
    "duration": 1095,
    "start_time": "2021-11-09T10:59:40.797Z"
   },
   {
    "duration": 1102,
    "start_time": "2021-11-09T10:59:41.895Z"
   },
   {
    "duration": 3,
    "start_time": "2021-11-09T10:59:43.000Z"
   },
   {
    "duration": 63,
    "start_time": "2021-11-09T10:59:43.006Z"
   },
   {
    "duration": 161,
    "start_time": "2021-11-09T10:59:43.072Z"
   },
   {
    "duration": 139,
    "start_time": "2021-11-09T10:59:43.236Z"
   },
   {
    "duration": 3303,
    "start_time": "2021-11-09T10:59:43.379Z"
   },
   {
    "duration": 5,
    "start_time": "2021-11-09T10:59:46.687Z"
   },
   {
    "duration": 40,
    "start_time": "2021-11-09T10:59:46.695Z"
   },
   {
    "duration": 33,
    "start_time": "2021-11-09T10:59:46.739Z"
   },
   {
    "duration": 63,
    "start_time": "2021-11-09T10:59:46.774Z"
   },
   {
    "duration": 20,
    "start_time": "2021-11-09T10:59:46.840Z"
   },
   {
    "duration": 49,
    "start_time": "2021-11-09T10:59:46.863Z"
   },
   {
    "duration": 122,
    "start_time": "2021-11-09T10:59:49.841Z"
   },
   {
    "duration": 91,
    "start_time": "2021-11-09T10:59:58.104Z"
   },
   {
    "duration": 11961,
    "start_time": "2021-11-09T11:00:24.416Z"
   },
   {
    "duration": 81,
    "start_time": "2021-11-09T11:00:41.302Z"
   },
   {
    "duration": 44,
    "start_time": "2021-11-09T11:00:41.664Z"
   },
   {
    "duration": 719,
    "start_time": "2021-11-09T11:02:08.635Z"
   },
   {
    "duration": 703,
    "start_time": "2021-11-09T11:02:14.021Z"
   },
   {
    "duration": 125,
    "start_time": "2021-11-09T11:02:39.587Z"
   },
   {
    "duration": 96,
    "start_time": "2021-11-09T11:13:07.791Z"
   },
   {
    "duration": 93,
    "start_time": "2021-11-09T11:13:12.530Z"
   },
   {
    "duration": 41,
    "start_time": "2021-11-09T11:13:22.071Z"
   },
   {
    "duration": 139,
    "start_time": "2021-11-09T11:15:50.412Z"
   },
   {
    "duration": 12,
    "start_time": "2021-11-09T11:16:08.201Z"
   },
   {
    "duration": 49,
    "start_time": "2021-11-09T11:16:35.303Z"
   },
   {
    "duration": 42,
    "start_time": "2021-11-09T11:16:43.426Z"
   },
   {
    "duration": 40,
    "start_time": "2021-11-09T11:16:51.981Z"
   },
   {
    "duration": 50,
    "start_time": "2021-11-09T11:17:10.448Z"
   },
   {
    "duration": 11,
    "start_time": "2021-11-09T11:17:20.096Z"
   },
   {
    "duration": 41,
    "start_time": "2021-11-09T11:17:31.781Z"
   },
   {
    "duration": 45,
    "start_time": "2021-11-09T11:17:41.193Z"
   },
   {
    "duration": 21,
    "start_time": "2021-11-09T11:18:33.662Z"
   },
   {
    "duration": 6,
    "start_time": "2021-11-09T11:21:37.514Z"
   },
   {
    "duration": 63,
    "start_time": "2021-11-09T11:23:57.827Z"
   },
   {
    "duration": 37,
    "start_time": "2021-11-09T11:24:02.326Z"
   },
   {
    "duration": 5,
    "start_time": "2021-11-09T11:24:14.834Z"
   },
   {
    "duration": 33,
    "start_time": "2021-11-09T11:25:55.803Z"
   },
   {
    "duration": 67,
    "start_time": "2021-11-09T11:27:52.746Z"
   },
   {
    "duration": 5,
    "start_time": "2021-11-09T11:27:59.512Z"
   },
   {
    "duration": 5,
    "start_time": "2021-11-09T11:28:07.477Z"
   },
   {
    "duration": 5,
    "start_time": "2021-11-09T11:29:03.508Z"
   },
   {
    "duration": 27,
    "start_time": "2021-11-09T11:30:33.064Z"
   },
   {
    "duration": 21,
    "start_time": "2021-11-09T11:30:37.620Z"
   },
   {
    "duration": 18,
    "start_time": "2021-11-09T11:30:41.826Z"
   },
   {
    "duration": 33,
    "start_time": "2021-11-09T11:31:37.479Z"
   },
   {
    "duration": 16,
    "start_time": "2021-11-09T11:35:11.974Z"
   },
   {
    "duration": 14,
    "start_time": "2021-11-09T11:38:29.683Z"
   },
   {
    "duration": 37,
    "start_time": "2021-11-09T11:40:04.640Z"
   },
   {
    "duration": 137,
    "start_time": "2021-11-09T11:45:26.561Z"
   },
   {
    "duration": 139,
    "start_time": "2021-11-09T11:45:32.088Z"
   },
   {
    "duration": 188,
    "start_time": "2021-11-09T11:46:29.147Z"
   },
   {
    "duration": 5,
    "start_time": "2021-11-09T11:46:43.650Z"
   },
   {
    "duration": 11,
    "start_time": "2021-11-09T11:46:50.012Z"
   },
   {
    "duration": 16,
    "start_time": "2021-11-09T11:47:11.200Z"
   },
   {
    "duration": 390,
    "start_time": "2021-11-09T11:47:18.964Z"
   },
   {
    "duration": 402,
    "start_time": "2021-11-09T11:47:26.257Z"
   },
   {
    "duration": 15,
    "start_time": "2021-11-09T11:47:33.221Z"
   },
   {
    "duration": 5,
    "start_time": "2021-11-09T11:48:00.205Z"
   },
   {
    "duration": 13,
    "start_time": "2021-11-09T11:48:05.137Z"
   },
   {
    "duration": 13,
    "start_time": "2021-11-09T11:48:12.078Z"
   },
   {
    "duration": 4,
    "start_time": "2021-11-09T11:48:27.457Z"
   },
   {
    "duration": 15,
    "start_time": "2021-11-09T11:48:29.955Z"
   },
   {
    "duration": 15,
    "start_time": "2021-11-09T11:48:35.623Z"
   },
   {
    "duration": 17,
    "start_time": "2021-11-09T11:48:47.040Z"
   },
   {
    "duration": 6,
    "start_time": "2021-11-09T11:48:53.652Z"
   },
   {
    "duration": 12,
    "start_time": "2021-11-09T11:48:58.884Z"
   },
   {
    "duration": 7,
    "start_time": "2021-11-09T11:49:31.528Z"
   },
   {
    "duration": 16,
    "start_time": "2021-11-09T11:56:56.842Z"
   },
   {
    "duration": 17,
    "start_time": "2021-11-09T11:57:12.236Z"
   },
   {
    "duration": 16,
    "start_time": "2021-11-09T11:57:15.270Z"
   },
   {
    "duration": 16,
    "start_time": "2021-11-09T11:57:23.346Z"
   },
   {
    "duration": 14,
    "start_time": "2021-11-09T12:01:58.486Z"
   },
   {
    "duration": 5,
    "start_time": "2021-11-09T12:02:17.354Z"
   },
   {
    "duration": 3,
    "start_time": "2021-11-09T12:02:37.496Z"
   },
   {
    "duration": 1092,
    "start_time": "2021-11-09T12:02:37.502Z"
   },
   {
    "duration": 3,
    "start_time": "2021-11-09T12:02:38.597Z"
   },
   {
    "duration": 45,
    "start_time": "2021-11-09T12:02:38.602Z"
   },
   {
    "duration": 167,
    "start_time": "2021-11-09T12:02:38.660Z"
   },
   {
    "duration": 123,
    "start_time": "2021-11-09T12:02:38.830Z"
   },
   {
    "duration": 3061,
    "start_time": "2021-11-09T12:02:38.960Z"
   },
   {
    "duration": 4,
    "start_time": "2021-11-09T12:02:42.025Z"
   },
   {
    "duration": 48,
    "start_time": "2021-11-09T12:02:42.032Z"
   },
   {
    "duration": 77,
    "start_time": "2021-11-09T12:02:42.083Z"
   },
   {
    "duration": 17,
    "start_time": "2021-11-09T12:02:42.162Z"
   },
   {
    "duration": 17,
    "start_time": "2021-11-09T12:02:42.181Z"
   },
   {
    "duration": 6,
    "start_time": "2021-11-09T12:02:53.729Z"
   },
   {
    "duration": 6,
    "start_time": "2021-11-09T12:02:54.168Z"
   },
   {
    "duration": 4,
    "start_time": "2021-11-09T12:03:10.343Z"
   },
   {
    "duration": 1039,
    "start_time": "2021-11-09T12:03:10.353Z"
   },
   {
    "duration": 3,
    "start_time": "2021-11-09T12:03:11.395Z"
   },
   {
    "duration": 37,
    "start_time": "2021-11-09T12:03:11.401Z"
   },
   {
    "duration": 156,
    "start_time": "2021-11-09T12:03:11.459Z"
   },
   {
    "duration": 132,
    "start_time": "2021-11-09T12:03:11.618Z"
   },
   {
    "duration": 3057,
    "start_time": "2021-11-09T12:03:11.752Z"
   },
   {
    "duration": 4,
    "start_time": "2021-11-09T12:03:14.811Z"
   },
   {
    "duration": 42,
    "start_time": "2021-11-09T12:03:14.817Z"
   },
   {
    "duration": 71,
    "start_time": "2021-11-09T12:03:14.864Z"
   },
   {
    "duration": 36,
    "start_time": "2021-11-09T12:03:14.938Z"
   },
   {
    "duration": 19,
    "start_time": "2021-11-09T12:03:14.977Z"
   },
   {
    "duration": 95,
    "start_time": "2021-11-09T12:03:14.999Z"
   },
   {
    "duration": 6,
    "start_time": "2021-11-09T12:03:23.177Z"
   },
   {
    "duration": 39,
    "start_time": "2021-11-09T12:08:22.516Z"
   },
   {
    "duration": 10,
    "start_time": "2021-11-09T12:08:28.981Z"
   },
   {
    "duration": 15,
    "start_time": "2021-11-09T12:10:49.523Z"
   },
   {
    "duration": 19,
    "start_time": "2021-11-09T12:20:53.831Z"
   },
   {
    "duration": 25,
    "start_time": "2021-11-09T12:24:40.783Z"
   },
   {
    "duration": 17,
    "start_time": "2021-11-09T12:40:38.038Z"
   },
   {
    "duration": 7,
    "start_time": "2021-11-09T12:41:05.307Z"
   },
   {
    "duration": 7,
    "start_time": "2021-11-09T12:41:09.160Z"
   },
   {
    "duration": 389,
    "start_time": "2021-11-09T12:43:49.126Z"
   },
   {
    "duration": 10,
    "start_time": "2021-11-09T12:43:59.377Z"
   },
   {
    "duration": 519,
    "start_time": "2021-11-09T12:50:34.844Z"
   },
   {
    "duration": 7,
    "start_time": "2021-11-09T12:51:31.301Z"
   },
   {
    "duration": 10,
    "start_time": "2021-11-09T12:51:40.543Z"
   },
   {
    "duration": 7,
    "start_time": "2021-11-09T12:52:19.456Z"
   },
   {
    "duration": 9,
    "start_time": "2021-11-09T12:52:20.191Z"
   },
   {
    "duration": 5,
    "start_time": "2021-11-09T12:53:00.127Z"
   },
   {
    "duration": 17,
    "start_time": "2021-11-09T12:55:19.203Z"
   },
   {
    "duration": 8,
    "start_time": "2021-11-09T12:55:54.373Z"
   },
   {
    "duration": 4,
    "start_time": "2021-11-09T12:56:09.444Z"
   },
   {
    "duration": 991,
    "start_time": "2021-11-09T12:56:09.450Z"
   },
   {
    "duration": 4,
    "start_time": "2021-11-09T12:56:10.444Z"
   },
   {
    "duration": 37,
    "start_time": "2021-11-09T12:56:10.458Z"
   },
   {
    "duration": 181,
    "start_time": "2021-11-09T12:56:10.497Z"
   },
   {
    "duration": 121,
    "start_time": "2021-11-09T12:56:10.681Z"
   },
   {
    "duration": 2933,
    "start_time": "2021-11-09T12:56:10.804Z"
   },
   {
    "duration": 4,
    "start_time": "2021-11-09T12:56:13.741Z"
   },
   {
    "duration": 40,
    "start_time": "2021-11-09T12:56:13.747Z"
   },
   {
    "duration": 76,
    "start_time": "2021-11-09T12:56:13.789Z"
   },
   {
    "duration": 16,
    "start_time": "2021-11-09T12:56:13.867Z"
   },
   {
    "duration": 16,
    "start_time": "2021-11-09T12:56:13.885Z"
   },
   {
    "duration": 89,
    "start_time": "2021-11-09T12:56:13.903Z"
   },
   {
    "duration": 12,
    "start_time": "2021-11-09T12:56:13.995Z"
   },
   {
    "duration": 15,
    "start_time": "2021-11-09T12:56:14.010Z"
   },
   {
    "duration": 43,
    "start_time": "2021-11-09T12:56:14.027Z"
   },
   {
    "duration": 3,
    "start_time": "2021-11-09T12:56:21.719Z"
   },
   {
    "duration": 1040,
    "start_time": "2021-11-09T12:56:21.725Z"
   },
   {
    "duration": 3,
    "start_time": "2021-11-09T12:56:22.768Z"
   },
   {
    "duration": 41,
    "start_time": "2021-11-09T12:56:22.773Z"
   },
   {
    "duration": 173,
    "start_time": "2021-11-09T12:56:22.816Z"
   },
   {
    "duration": 121,
    "start_time": "2021-11-09T12:56:22.991Z"
   },
   {
    "duration": 2980,
    "start_time": "2021-11-09T12:56:23.114Z"
   },
   {
    "duration": 4,
    "start_time": "2021-11-09T12:56:26.097Z"
   },
   {
    "duration": 30,
    "start_time": "2021-11-09T12:56:26.105Z"
   },
   {
    "duration": 88,
    "start_time": "2021-11-09T12:56:26.138Z"
   },
   {
    "duration": 34,
    "start_time": "2021-11-09T12:56:26.228Z"
   },
   {
    "duration": 18,
    "start_time": "2021-11-09T12:56:26.264Z"
   },
   {
    "duration": 89,
    "start_time": "2021-11-09T12:56:26.284Z"
   },
   {
    "duration": 11,
    "start_time": "2021-11-09T12:56:26.375Z"
   },
   {
    "duration": 14,
    "start_time": "2021-11-09T12:56:26.388Z"
   },
   {
    "duration": 61,
    "start_time": "2021-11-09T12:56:26.405Z"
   },
   {
    "duration": 17,
    "start_time": "2021-11-09T12:56:26.469Z"
   },
   {
    "duration": 7,
    "start_time": "2021-11-09T12:56:39.239Z"
   },
   {
    "duration": 19,
    "start_time": "2021-11-09T12:57:01.162Z"
   },
   {
    "duration": 10,
    "start_time": "2021-11-09T12:57:13.071Z"
   },
   {
    "duration": 7,
    "start_time": "2021-11-09T12:57:15.660Z"
   },
   {
    "duration": 5,
    "start_time": "2021-11-09T12:57:16.032Z"
   },
   {
    "duration": 34,
    "start_time": "2021-11-09T12:57:25.112Z"
   },
   {
    "duration": 18,
    "start_time": "2021-11-09T12:57:33.875Z"
   },
   {
    "duration": 7,
    "start_time": "2021-11-09T12:58:38.411Z"
   },
   {
    "duration": 6,
    "start_time": "2021-11-09T12:58:38.807Z"
   },
   {
    "duration": 16,
    "start_time": "2021-11-09T12:58:39.390Z"
   },
   {
    "duration": 10,
    "start_time": "2021-11-09T12:58:48.132Z"
   },
   {
    "duration": 7,
    "start_time": "2021-11-09T12:58:49.220Z"
   },
   {
    "duration": 5,
    "start_time": "2021-11-09T12:58:49.935Z"
   },
   {
    "duration": 17,
    "start_time": "2021-11-09T12:58:50.515Z"
   },
   {
    "duration": 5,
    "start_time": "2021-11-09T13:03:18.750Z"
   },
   {
    "duration": 5,
    "start_time": "2021-11-09T13:03:21.674Z"
   },
   {
    "duration": 7,
    "start_time": "2021-11-09T13:03:44.712Z"
   },
   {
    "duration": 6,
    "start_time": "2021-11-09T13:03:45.022Z"
   },
   {
    "duration": 18,
    "start_time": "2021-11-09T13:03:53.512Z"
   },
   {
    "duration": 7,
    "start_time": "2021-11-09T13:04:03.411Z"
   },
   {
    "duration": 5,
    "start_time": "2021-11-09T13:04:03.922Z"
   },
   {
    "duration": 18,
    "start_time": "2021-11-09T13:04:04.476Z"
   },
   {
    "duration": 399,
    "start_time": "2021-11-09T13:05:02.280Z"
   },
   {
    "duration": 396,
    "start_time": "2021-11-09T13:05:15.337Z"
   },
   {
    "duration": 19,
    "start_time": "2021-11-09T13:05:20.424Z"
   },
   {
    "duration": 4,
    "start_time": "2021-11-09T13:05:36.323Z"
   },
   {
    "duration": 1069,
    "start_time": "2021-11-09T13:05:36.330Z"
   },
   {
    "duration": 3,
    "start_time": "2021-11-09T13:05:37.402Z"
   },
   {
    "duration": 53,
    "start_time": "2021-11-09T13:05:37.408Z"
   },
   {
    "duration": 167,
    "start_time": "2021-11-09T13:05:37.463Z"
   },
   {
    "duration": 110,
    "start_time": "2021-11-09T13:05:37.632Z"
   },
   {
    "duration": 3076,
    "start_time": "2021-11-09T13:05:37.744Z"
   },
   {
    "duration": 4,
    "start_time": "2021-11-09T13:05:40.824Z"
   },
   {
    "duration": 45,
    "start_time": "2021-11-09T13:05:40.830Z"
   },
   {
    "duration": 66,
    "start_time": "2021-11-09T13:05:40.877Z"
   },
   {
    "duration": 30,
    "start_time": "2021-11-09T13:05:40.945Z"
   },
   {
    "duration": 18,
    "start_time": "2021-11-09T13:05:40.977Z"
   },
   {
    "duration": 93,
    "start_time": "2021-11-09T13:05:40.998Z"
   },
   {
    "duration": 10,
    "start_time": "2021-11-09T13:05:41.093Z"
   },
   {
    "duration": 17,
    "start_time": "2021-11-09T13:05:41.105Z"
   },
   {
    "duration": 43,
    "start_time": "2021-11-09T13:05:41.124Z"
   },
   {
    "duration": 17,
    "start_time": "2021-11-09T13:05:41.169Z"
   },
   {
    "duration": 7,
    "start_time": "2021-11-09T13:05:45.538Z"
   },
   {
    "duration": 10,
    "start_time": "2021-11-09T13:05:47.229Z"
   },
   {
    "duration": 7,
    "start_time": "2021-11-09T13:05:51.843Z"
   },
   {
    "duration": 5,
    "start_time": "2021-11-09T13:05:52.290Z"
   },
   {
    "duration": 18,
    "start_time": "2021-11-09T13:05:55.983Z"
   },
   {
    "duration": 8,
    "start_time": "2021-11-09T13:06:09.220Z"
   },
   {
    "duration": 5,
    "start_time": "2021-11-09T13:06:09.564Z"
   },
   {
    "duration": 18,
    "start_time": "2021-11-09T13:06:10.272Z"
   },
   {
    "duration": 3,
    "start_time": "2021-11-09T13:06:31.044Z"
   },
   {
    "duration": 1209,
    "start_time": "2021-11-09T13:06:31.050Z"
   },
   {
    "duration": 3,
    "start_time": "2021-11-09T13:06:32.262Z"
   },
   {
    "duration": 37,
    "start_time": "2021-11-09T13:06:32.268Z"
   },
   {
    "duration": 172,
    "start_time": "2021-11-09T13:06:32.308Z"
   },
   {
    "duration": 122,
    "start_time": "2021-11-09T13:06:32.482Z"
   },
   {
    "duration": 3055,
    "start_time": "2021-11-09T13:06:32.607Z"
   },
   {
    "duration": 4,
    "start_time": "2021-11-09T13:06:35.665Z"
   },
   {
    "duration": 29,
    "start_time": "2021-11-09T13:06:35.671Z"
   },
   {
    "duration": 94,
    "start_time": "2021-11-09T13:06:35.703Z"
   },
   {
    "duration": 17,
    "start_time": "2021-11-09T13:06:35.799Z"
   },
   {
    "duration": 17,
    "start_time": "2021-11-09T13:06:35.818Z"
   },
   {
    "duration": 86,
    "start_time": "2021-11-09T13:06:35.837Z"
   },
   {
    "duration": 9,
    "start_time": "2021-11-09T13:06:35.925Z"
   },
   {
    "duration": 33,
    "start_time": "2021-11-09T13:06:35.936Z"
   },
   {
    "duration": 20,
    "start_time": "2021-11-09T13:06:35.972Z"
   },
   {
    "duration": 16,
    "start_time": "2021-11-09T13:06:35.994Z"
   },
   {
    "duration": 22,
    "start_time": "2021-11-09T13:06:36.013Z"
   },
   {
    "duration": 10,
    "start_time": "2021-11-09T13:06:36.061Z"
   },
   {
    "duration": 20,
    "start_time": "2021-11-09T13:06:36.074Z"
   },
   {
    "duration": 18,
    "start_time": "2021-11-09T13:06:36.096Z"
   },
   {
    "duration": 25,
    "start_time": "2021-11-09T13:06:36.117Z"
   },
   {
    "duration": 22,
    "start_time": "2021-11-09T13:06:36.145Z"
   },
   {
    "duration": 42,
    "start_time": "2021-11-09T13:06:36.170Z"
   },
   {
    "duration": 47,
    "start_time": "2021-11-09T13:06:36.215Z"
   },
   {
    "duration": 6,
    "start_time": "2021-11-09T13:06:36.265Z"
   },
   {
    "duration": 40,
    "start_time": "2021-11-09T13:06:36.274Z"
   },
   {
    "duration": 108,
    "start_time": "2021-11-09T13:06:36.317Z"
   },
   {
    "duration": 48,
    "start_time": "2021-11-09T13:06:36.427Z"
   },
   {
    "duration": 130,
    "start_time": "2021-11-09T13:06:36.477Z"
   },
   {
    "duration": -191,
    "start_time": "2021-11-09T13:06:36.801Z"
   },
   {
    "duration": -195,
    "start_time": "2021-11-09T13:06:36.806Z"
   },
   {
    "duration": -198,
    "start_time": "2021-11-09T13:06:36.810Z"
   },
   {
    "duration": -203,
    "start_time": "2021-11-09T13:06:36.817Z"
   },
   {
    "duration": -206,
    "start_time": "2021-11-09T13:06:36.821Z"
   },
   {
    "duration": -210,
    "start_time": "2021-11-09T13:06:36.826Z"
   },
   {
    "duration": -214,
    "start_time": "2021-11-09T13:06:36.832Z"
   },
   {
    "duration": -218,
    "start_time": "2021-11-09T13:06:36.837Z"
   },
   {
    "duration": -221,
    "start_time": "2021-11-09T13:06:36.841Z"
   },
   {
    "duration": -224,
    "start_time": "2021-11-09T13:06:36.845Z"
   },
   {
    "duration": -230,
    "start_time": "2021-11-09T13:06:36.853Z"
   },
   {
    "duration": -233,
    "start_time": "2021-11-09T13:06:36.857Z"
   },
   {
    "duration": -236,
    "start_time": "2021-11-09T13:06:36.861Z"
   },
   {
    "duration": -242,
    "start_time": "2021-11-09T13:06:36.868Z"
   },
   {
    "duration": -244,
    "start_time": "2021-11-09T13:06:36.872Z"
   },
   {
    "duration": -247,
    "start_time": "2021-11-09T13:06:36.876Z"
   },
   {
    "duration": -253,
    "start_time": "2021-11-09T13:06:36.883Z"
   },
   {
    "duration": -257,
    "start_time": "2021-11-09T13:06:36.888Z"
   },
   {
    "duration": -259,
    "start_time": "2021-11-09T13:06:36.892Z"
   },
   {
    "duration": -263,
    "start_time": "2021-11-09T13:06:36.897Z"
   },
   {
    "duration": -268,
    "start_time": "2021-11-09T13:06:36.903Z"
   },
   {
    "duration": 6,
    "start_time": "2021-11-09T13:06:58.798Z"
   },
   {
    "duration": 20,
    "start_time": "2021-11-09T13:07:15.006Z"
   },
   {
    "duration": 4,
    "start_time": "2021-11-09T13:07:41.666Z"
   },
   {
    "duration": 1182,
    "start_time": "2021-11-09T13:07:41.673Z"
   },
   {
    "duration": 3,
    "start_time": "2021-11-09T13:07:42.860Z"
   },
   {
    "duration": 51,
    "start_time": "2021-11-09T13:07:42.866Z"
   },
   {
    "duration": 202,
    "start_time": "2021-11-09T13:07:42.919Z"
   },
   {
    "duration": 135,
    "start_time": "2021-11-09T13:07:43.124Z"
   },
   {
    "duration": 3222,
    "start_time": "2021-11-09T13:07:43.263Z"
   },
   {
    "duration": 5,
    "start_time": "2021-11-09T13:07:46.489Z"
   },
   {
    "duration": 28,
    "start_time": "2021-11-09T13:07:46.496Z"
   },
   {
    "duration": 89,
    "start_time": "2021-11-09T13:07:46.526Z"
   },
   {
    "duration": 17,
    "start_time": "2021-11-09T13:07:46.617Z"
   },
   {
    "duration": 37,
    "start_time": "2021-11-09T13:07:46.637Z"
   },
   {
    "duration": 92,
    "start_time": "2021-11-09T13:07:46.677Z"
   },
   {
    "duration": 11,
    "start_time": "2021-11-09T13:07:46.772Z"
   },
   {
    "duration": 14,
    "start_time": "2021-11-09T13:07:46.785Z"
   },
   {
    "duration": 19,
    "start_time": "2021-11-09T13:07:46.801Z"
   },
   {
    "duration": 52,
    "start_time": "2021-11-09T13:07:46.822Z"
   },
   {
    "duration": 16,
    "start_time": "2021-11-09T13:07:46.877Z"
   },
   {
    "duration": 6,
    "start_time": "2021-11-09T13:07:46.897Z"
   },
   {
    "duration": 7,
    "start_time": "2021-11-09T13:07:56.474Z"
   },
   {
    "duration": 11,
    "start_time": "2021-11-09T13:08:01.881Z"
   },
   {
    "duration": 7,
    "start_time": "2021-11-09T13:08:09.212Z"
   },
   {
    "duration": 5,
    "start_time": "2021-11-09T13:08:11.010Z"
   },
   {
    "duration": 5,
    "start_time": "2021-11-09T13:08:31.799Z"
   },
   {
    "duration": 18,
    "start_time": "2021-11-09T13:08:32.345Z"
   },
   {
    "duration": 7,
    "start_time": "2021-11-09T13:08:52.062Z"
   },
   {
    "duration": 4,
    "start_time": "2021-11-09T13:08:52.449Z"
   },
   {
    "duration": 18,
    "start_time": "2021-11-09T13:08:55.741Z"
   },
   {
    "duration": 5,
    "start_time": "2021-11-09T13:09:13.173Z"
   },
   {
    "duration": 55,
    "start_time": "2021-11-09T13:09:24.597Z"
   },
   {
    "duration": 18,
    "start_time": "2021-11-09T13:10:11.859Z"
   },
   {
    "duration": 14,
    "start_time": "2021-11-09T13:10:17.804Z"
   },
   {
    "duration": 4,
    "start_time": "2021-11-09T13:11:01.085Z"
   },
   {
    "duration": 1118,
    "start_time": "2021-11-09T13:11:01.092Z"
   },
   {
    "duration": 4,
    "start_time": "2021-11-09T13:11:02.212Z"
   },
   {
    "duration": 58,
    "start_time": "2021-11-09T13:11:02.219Z"
   },
   {
    "duration": 179,
    "start_time": "2021-11-09T13:11:02.280Z"
   },
   {
    "duration": 119,
    "start_time": "2021-11-09T13:11:02.461Z"
   },
   {
    "duration": 3178,
    "start_time": "2021-11-09T13:11:02.582Z"
   },
   {
    "duration": 5,
    "start_time": "2021-11-09T13:11:05.764Z"
   },
   {
    "duration": 44,
    "start_time": "2021-11-09T13:11:05.773Z"
   },
   {
    "duration": 91,
    "start_time": "2021-11-09T13:11:05.820Z"
   },
   {
    "duration": 17,
    "start_time": "2021-11-09T13:11:05.913Z"
   },
   {
    "duration": 32,
    "start_time": "2021-11-09T13:11:05.933Z"
   },
   {
    "duration": 69,
    "start_time": "2021-11-09T13:11:13.752Z"
   },
   {
    "duration": 14,
    "start_time": "2021-11-09T13:11:25.160Z"
   },
   {
    "duration": 7,
    "start_time": "2021-11-09T13:11:54.732Z"
   },
   {
    "duration": 11,
    "start_time": "2021-11-09T13:12:07.148Z"
   },
   {
    "duration": 15,
    "start_time": "2021-11-09T13:12:08.108Z"
   },
   {
    "duration": 21,
    "start_time": "2021-11-09T13:12:10.377Z"
   },
   {
    "duration": 21,
    "start_time": "2021-11-09T13:12:13.829Z"
   },
   {
    "duration": 18,
    "start_time": "2021-11-09T13:12:21.475Z"
   },
   {
    "duration": 35,
    "start_time": "2021-11-09T13:12:36.035Z"
   },
   {
    "duration": 5,
    "start_time": "2021-11-09T13:13:02.441Z"
   },
   {
    "duration": 13,
    "start_time": "2021-11-09T13:13:06.243Z"
   },
   {
    "duration": 4,
    "start_time": "2021-11-09T13:13:28.229Z"
   },
   {
    "duration": 1093,
    "start_time": "2021-11-09T13:13:28.237Z"
   },
   {
    "duration": 4,
    "start_time": "2021-11-09T13:13:29.333Z"
   },
   {
    "duration": 51,
    "start_time": "2021-11-09T13:13:29.340Z"
   },
   {
    "duration": 158,
    "start_time": "2021-11-09T13:13:29.393Z"
   },
   {
    "duration": 118,
    "start_time": "2021-11-09T13:13:29.554Z"
   },
   {
    "duration": 3204,
    "start_time": "2021-11-09T13:13:29.675Z"
   },
   {
    "duration": 4,
    "start_time": "2021-11-09T13:13:32.882Z"
   },
   {
    "duration": 31,
    "start_time": "2021-11-09T13:13:32.890Z"
   },
   {
    "duration": 93,
    "start_time": "2021-11-09T13:13:32.924Z"
   },
   {
    "duration": 20,
    "start_time": "2021-11-09T13:13:33.020Z"
   },
   {
    "duration": 30,
    "start_time": "2021-11-09T13:13:33.043Z"
   },
   {
    "duration": 90,
    "start_time": "2021-11-09T13:13:33.076Z"
   },
   {
    "duration": 10,
    "start_time": "2021-11-09T13:13:33.169Z"
   },
   {
    "duration": 14,
    "start_time": "2021-11-09T13:13:33.182Z"
   },
   {
    "duration": 23,
    "start_time": "2021-11-09T13:13:33.198Z"
   },
   {
    "duration": 46,
    "start_time": "2021-11-09T13:13:33.223Z"
   },
   {
    "duration": 6,
    "start_time": "2021-11-09T13:13:33.271Z"
   },
   {
    "duration": 14,
    "start_time": "2021-11-09T13:13:36.723Z"
   },
   {
    "duration": 137,
    "start_time": "2021-11-09T13:13:51.105Z"
   },
   {
    "duration": 5,
    "start_time": "2021-11-09T13:13:57.665Z"
   },
   {
    "duration": 12,
    "start_time": "2021-11-09T13:14:03.110Z"
   },
   {
    "duration": 12,
    "start_time": "2021-11-09T13:14:30.422Z"
   },
   {
    "duration": 3,
    "start_time": "2021-11-09T13:14:36.093Z"
   },
   {
    "duration": 1094,
    "start_time": "2021-11-09T13:14:36.099Z"
   },
   {
    "duration": 4,
    "start_time": "2021-11-09T13:14:37.195Z"
   },
   {
    "duration": 163,
    "start_time": "2021-11-09T13:14:37.202Z"
   },
   {
    "duration": 164,
    "start_time": "2021-11-09T13:14:37.368Z"
   },
   {
    "duration": 128,
    "start_time": "2021-11-09T13:14:37.534Z"
   },
   {
    "duration": 3069,
    "start_time": "2021-11-09T13:14:37.664Z"
   },
   {
    "duration": 4,
    "start_time": "2021-11-09T13:14:40.735Z"
   },
   {
    "duration": 41,
    "start_time": "2021-11-09T13:14:40.742Z"
   },
   {
    "duration": 88,
    "start_time": "2021-11-09T13:14:40.786Z"
   },
   {
    "duration": 19,
    "start_time": "2021-11-09T13:14:40.877Z"
   },
   {
    "duration": 16,
    "start_time": "2021-11-09T13:14:40.898Z"
   },
   {
    "duration": 93,
    "start_time": "2021-11-09T13:14:40.917Z"
   },
   {
    "duration": 11,
    "start_time": "2021-11-09T13:14:41.012Z"
   },
   {
    "duration": 34,
    "start_time": "2021-11-09T13:14:41.025Z"
   },
   {
    "duration": 22,
    "start_time": "2021-11-09T13:14:41.062Z"
   },
   {
    "duration": 19,
    "start_time": "2021-11-09T13:14:41.086Z"
   },
   {
    "duration": 43,
    "start_time": "2021-11-09T13:14:42.882Z"
   },
   {
    "duration": 453,
    "start_time": "2021-11-09T13:15:01.919Z"
   },
   {
    "duration": 6,
    "start_time": "2021-11-09T13:15:21.172Z"
   },
   {
    "duration": 3,
    "start_time": "2021-11-09T13:15:43.951Z"
   },
   {
    "duration": 1165,
    "start_time": "2021-11-09T13:15:43.958Z"
   },
   {
    "duration": 3,
    "start_time": "2021-11-09T13:15:45.126Z"
   },
   {
    "duration": 72,
    "start_time": "2021-11-09T13:15:45.133Z"
   },
   {
    "duration": 187,
    "start_time": "2021-11-09T13:15:45.208Z"
   },
   {
    "duration": 127,
    "start_time": "2021-11-09T13:15:45.397Z"
   },
   {
    "duration": 3400,
    "start_time": "2021-11-09T13:15:45.527Z"
   },
   {
    "duration": 4,
    "start_time": "2021-11-09T13:15:48.931Z"
   },
   {
    "duration": 41,
    "start_time": "2021-11-09T13:15:48.937Z"
   },
   {
    "duration": 97,
    "start_time": "2021-11-09T13:15:48.980Z"
   },
   {
    "duration": 21,
    "start_time": "2021-11-09T13:15:49.080Z"
   },
   {
    "duration": 18,
    "start_time": "2021-11-09T13:15:49.104Z"
   },
   {
    "duration": 100,
    "start_time": "2021-11-09T13:15:49.124Z"
   },
   {
    "duration": 10,
    "start_time": "2021-11-09T13:15:49.227Z"
   },
   {
    "duration": 30,
    "start_time": "2021-11-09T13:15:49.239Z"
   },
   {
    "duration": 23,
    "start_time": "2021-11-09T13:15:49.271Z"
   },
   {
    "duration": 18,
    "start_time": "2021-11-09T13:15:49.296Z"
   },
   {
    "duration": 6,
    "start_time": "2021-11-09T13:16:00.650Z"
   },
   {
    "duration": 10,
    "start_time": "2021-11-09T13:16:40.640Z"
   },
   {
    "duration": 399,
    "start_time": "2021-11-09T13:16:52.352Z"
   },
   {
    "duration": 414,
    "start_time": "2021-11-09T13:17:01.469Z"
   },
   {
    "duration": 3,
    "start_time": "2021-11-09T13:17:12.082Z"
   },
   {
    "duration": 1137,
    "start_time": "2021-11-09T13:17:12.088Z"
   },
   {
    "duration": 3,
    "start_time": "2021-11-09T13:17:13.229Z"
   },
   {
    "duration": 50,
    "start_time": "2021-11-09T13:17:13.234Z"
   },
   {
    "duration": 167,
    "start_time": "2021-11-09T13:17:13.287Z"
   },
   {
    "duration": 117,
    "start_time": "2021-11-09T13:17:13.460Z"
   },
   {
    "duration": 3423,
    "start_time": "2021-11-09T13:17:13.580Z"
   },
   {
    "duration": 4,
    "start_time": "2021-11-09T13:17:17.005Z"
   },
   {
    "duration": 50,
    "start_time": "2021-11-09T13:17:17.013Z"
   },
   {
    "duration": 80,
    "start_time": "2021-11-09T13:17:17.065Z"
   },
   {
    "duration": 23,
    "start_time": "2021-11-09T13:17:17.147Z"
   },
   {
    "duration": 20,
    "start_time": "2021-11-09T13:17:17.172Z"
   },
   {
    "duration": 95,
    "start_time": "2021-11-09T13:17:17.195Z"
   },
   {
    "duration": 10,
    "start_time": "2021-11-09T13:17:17.292Z"
   },
   {
    "duration": 26,
    "start_time": "2021-11-09T13:17:17.304Z"
   },
   {
    "duration": 37,
    "start_time": "2021-11-09T13:17:17.333Z"
   },
   {
    "duration": 18,
    "start_time": "2021-11-09T13:17:17.372Z"
   },
   {
    "duration": 5,
    "start_time": "2021-11-09T13:17:17.393Z"
   },
   {
    "duration": 9,
    "start_time": "2021-11-09T13:17:21.342Z"
   },
   {
    "duration": 29,
    "start_time": "2021-11-09T13:17:29.161Z"
   },
   {
    "duration": 5,
    "start_time": "2021-11-09T13:17:34.017Z"
   },
   {
    "duration": 3,
    "start_time": "2021-11-09T13:17:55.215Z"
   },
   {
    "duration": 6,
    "start_time": "2021-11-09T13:18:12.859Z"
   },
   {
    "duration": 4,
    "start_time": "2021-11-09T13:18:41.281Z"
   },
   {
    "duration": 6,
    "start_time": "2021-11-09T13:18:49.155Z"
   },
   {
    "duration": 13,
    "start_time": "2021-11-09T13:18:53.177Z"
   },
   {
    "duration": 3,
    "start_time": "2021-11-09T13:21:10.366Z"
   },
   {
    "duration": 1087,
    "start_time": "2021-11-09T13:21:10.372Z"
   },
   {
    "duration": 3,
    "start_time": "2021-11-09T13:21:11.462Z"
   },
   {
    "duration": 44,
    "start_time": "2021-11-09T13:21:11.467Z"
   },
   {
    "duration": 170,
    "start_time": "2021-11-09T13:21:11.513Z"
   },
   {
    "duration": 122,
    "start_time": "2021-11-09T13:21:11.685Z"
   },
   {
    "duration": 3090,
    "start_time": "2021-11-09T13:21:11.811Z"
   },
   {
    "duration": 4,
    "start_time": "2021-11-09T13:21:14.904Z"
   },
   {
    "duration": 29,
    "start_time": "2021-11-09T13:21:14.910Z"
   },
   {
    "duration": 84,
    "start_time": "2021-11-09T13:21:14.941Z"
   },
   {
    "duration": 33,
    "start_time": "2021-11-09T13:21:15.027Z"
   },
   {
    "duration": 18,
    "start_time": "2021-11-09T13:21:15.063Z"
   },
   {
    "duration": 81,
    "start_time": "2021-11-09T13:21:15.084Z"
   },
   {
    "duration": 10,
    "start_time": "2021-11-09T13:21:15.168Z"
   },
   {
    "duration": 12,
    "start_time": "2021-11-09T13:21:15.180Z"
   },
   {
    "duration": 18,
    "start_time": "2021-11-09T13:21:15.195Z"
   },
   {
    "duration": 53,
    "start_time": "2021-11-09T13:21:15.216Z"
   },
   {
    "duration": 7,
    "start_time": "2021-11-09T13:21:15.271Z"
   },
   {
    "duration": 15,
    "start_time": "2021-11-09T13:21:15.283Z"
   },
   {
    "duration": 9,
    "start_time": "2021-11-09T13:21:15.301Z"
   },
   {
    "duration": 7,
    "start_time": "2021-11-09T13:21:15.312Z"
   },
   {
    "duration": 49,
    "start_time": "2021-11-09T13:21:15.322Z"
   },
   {
    "duration": 25,
    "start_time": "2021-11-09T13:21:15.373Z"
   },
   {
    "duration": 7,
    "start_time": "2021-11-09T13:21:15.400Z"
   },
   {
    "duration": 65,
    "start_time": "2021-11-09T13:21:15.410Z"
   },
   {
    "duration": 38,
    "start_time": "2021-11-09T13:21:15.477Z"
   },
   {
    "duration": 11,
    "start_time": "2021-11-09T13:21:15.517Z"
   },
   {
    "duration": 45,
    "start_time": "2021-11-09T13:21:15.530Z"
   },
   {
    "duration": 93,
    "start_time": "2021-11-09T13:21:15.577Z"
   },
   {
    "duration": 43,
    "start_time": "2021-11-09T13:21:15.672Z"
   },
   {
    "duration": 146,
    "start_time": "2021-11-09T13:21:15.717Z"
   },
   {
    "duration": -54,
    "start_time": "2021-11-09T13:21:15.920Z"
   },
   {
    "duration": -57,
    "start_time": "2021-11-09T13:21:15.924Z"
   },
   {
    "duration": -58,
    "start_time": "2021-11-09T13:21:15.928Z"
   },
   {
    "duration": -60,
    "start_time": "2021-11-09T13:21:15.931Z"
   },
   {
    "duration": -62,
    "start_time": "2021-11-09T13:21:15.935Z"
   },
   {
    "duration": -64,
    "start_time": "2021-11-09T13:21:15.939Z"
   },
   {
    "duration": -67,
    "start_time": "2021-11-09T13:21:15.943Z"
   },
   {
    "duration": -68,
    "start_time": "2021-11-09T13:21:15.946Z"
   },
   {
    "duration": -71,
    "start_time": "2021-11-09T13:21:15.950Z"
   },
   {
    "duration": -73,
    "start_time": "2021-11-09T13:21:15.954Z"
   },
   {
    "duration": -75,
    "start_time": "2021-11-09T13:21:15.958Z"
   },
   {
    "duration": -76,
    "start_time": "2021-11-09T13:21:15.961Z"
   },
   {
    "duration": -79,
    "start_time": "2021-11-09T13:21:15.965Z"
   },
   {
    "duration": -81,
    "start_time": "2021-11-09T13:21:15.969Z"
   },
   {
    "duration": -84,
    "start_time": "2021-11-09T13:21:15.973Z"
   },
   {
    "duration": -86,
    "start_time": "2021-11-09T13:21:15.976Z"
   },
   {
    "duration": -98,
    "start_time": "2021-11-09T13:21:15.989Z"
   },
   {
    "duration": -100,
    "start_time": "2021-11-09T13:21:15.992Z"
   },
   {
    "duration": -102,
    "start_time": "2021-11-09T13:21:15.996Z"
   },
   {
    "duration": -104,
    "start_time": "2021-11-09T13:21:15.999Z"
   },
   {
    "duration": -107,
    "start_time": "2021-11-09T13:21:16.004Z"
   },
   {
    "duration": 4,
    "start_time": "2021-11-09T13:21:43.779Z"
   },
   {
    "duration": 1077,
    "start_time": "2021-11-09T13:21:43.786Z"
   },
   {
    "duration": 5,
    "start_time": "2021-11-09T13:21:44.867Z"
   },
   {
    "duration": 40,
    "start_time": "2021-11-09T13:21:44.875Z"
   },
   {
    "duration": 177,
    "start_time": "2021-11-09T13:21:44.918Z"
   },
   {
    "duration": 121,
    "start_time": "2021-11-09T13:21:45.098Z"
   },
   {
    "duration": 3093,
    "start_time": "2021-11-09T13:21:45.221Z"
   },
   {
    "duration": 4,
    "start_time": "2021-11-09T13:21:48.316Z"
   },
   {
    "duration": 45,
    "start_time": "2021-11-09T13:21:48.324Z"
   },
   {
    "duration": 69,
    "start_time": "2021-11-09T13:21:48.372Z"
   },
   {
    "duration": 31,
    "start_time": "2021-11-09T13:21:48.443Z"
   },
   {
    "duration": 18,
    "start_time": "2021-11-09T13:21:48.476Z"
   },
   {
    "duration": 89,
    "start_time": "2021-11-09T13:21:48.497Z"
   },
   {
    "duration": 10,
    "start_time": "2021-11-09T13:21:48.588Z"
   },
   {
    "duration": 13,
    "start_time": "2021-11-09T13:21:48.600Z"
   },
   {
    "duration": 50,
    "start_time": "2021-11-09T13:21:48.616Z"
   },
   {
    "duration": 17,
    "start_time": "2021-11-09T13:21:48.668Z"
   },
   {
    "duration": 7,
    "start_time": "2021-11-09T13:21:54.343Z"
   },
   {
    "duration": 16,
    "start_time": "2021-11-09T13:21:55.386Z"
   },
   {
    "duration": 3,
    "start_time": "2021-11-09T13:26:40.364Z"
   },
   {
    "duration": 1154,
    "start_time": "2021-11-09T13:26:40.370Z"
   },
   {
    "duration": 3,
    "start_time": "2021-11-09T13:26:41.527Z"
   },
   {
    "duration": 53,
    "start_time": "2021-11-09T13:26:41.532Z"
   },
   {
    "duration": 165,
    "start_time": "2021-11-09T13:26:41.587Z"
   },
   {
    "duration": 121,
    "start_time": "2021-11-09T13:26:41.754Z"
   },
   {
    "duration": 3008,
    "start_time": "2021-11-09T13:26:41.878Z"
   },
   {
    "duration": 4,
    "start_time": "2021-11-09T13:26:44.889Z"
   },
   {
    "duration": 30,
    "start_time": "2021-11-09T13:26:44.895Z"
   },
   {
    "duration": 88,
    "start_time": "2021-11-09T13:26:44.927Z"
   },
   {
    "duration": 18,
    "start_time": "2021-11-09T13:26:45.018Z"
   },
   {
    "duration": 35,
    "start_time": "2021-11-09T13:26:45.039Z"
   },
   {
    "duration": 94,
    "start_time": "2021-11-09T13:26:45.077Z"
   },
   {
    "duration": 11,
    "start_time": "2021-11-09T13:26:45.174Z"
   },
   {
    "duration": 21,
    "start_time": "2021-11-09T13:26:45.188Z"
   },
   {
    "duration": 48,
    "start_time": "2021-11-09T13:26:45.212Z"
   },
   {
    "duration": 17,
    "start_time": "2021-11-09T13:26:45.263Z"
   },
   {
    "duration": 6,
    "start_time": "2021-11-09T13:26:54.781Z"
   },
   {
    "duration": 12,
    "start_time": "2021-11-09T13:26:58.166Z"
   },
   {
    "duration": 4,
    "start_time": "2021-11-09T13:27:14.276Z"
   },
   {
    "duration": 1052,
    "start_time": "2021-11-09T13:27:14.285Z"
   },
   {
    "duration": 3,
    "start_time": "2021-11-09T13:27:15.339Z"
   },
   {
    "duration": 43,
    "start_time": "2021-11-09T13:27:15.345Z"
   },
   {
    "duration": 177,
    "start_time": "2021-11-09T13:27:15.392Z"
   },
   {
    "duration": 121,
    "start_time": "2021-11-09T13:27:15.572Z"
   },
   {
    "duration": 3220,
    "start_time": "2021-11-09T13:27:15.696Z"
   },
   {
    "duration": 5,
    "start_time": "2021-11-09T13:27:18.919Z"
   },
   {
    "duration": 48,
    "start_time": "2021-11-09T13:27:18.927Z"
   },
   {
    "duration": 79,
    "start_time": "2021-11-09T13:27:18.980Z"
   },
   {
    "duration": 17,
    "start_time": "2021-11-09T13:27:19.062Z"
   },
   {
    "duration": 19,
    "start_time": "2021-11-09T13:27:19.081Z"
   },
   {
    "duration": 92,
    "start_time": "2021-11-09T13:27:19.103Z"
   },
   {
    "duration": 12,
    "start_time": "2021-11-09T13:27:19.198Z"
   },
   {
    "duration": 19,
    "start_time": "2021-11-09T13:27:19.212Z"
   },
   {
    "duration": 40,
    "start_time": "2021-11-09T13:27:19.233Z"
   },
   {
    "duration": 17,
    "start_time": "2021-11-09T13:27:19.275Z"
   },
   {
    "duration": 7,
    "start_time": "2021-11-09T13:27:27.782Z"
   },
   {
    "duration": 21,
    "start_time": "2021-11-09T13:27:28.557Z"
   },
   {
    "duration": 10,
    "start_time": "2021-11-09T13:28:09.869Z"
   },
   {
    "duration": 8,
    "start_time": "2021-11-09T13:28:33.569Z"
   },
   {
    "duration": 13,
    "start_time": "2021-11-09T13:28:34.339Z"
   },
   {
    "duration": 20,
    "start_time": "2021-11-09T13:29:00.040Z"
   },
   {
    "duration": 35,
    "start_time": "2021-11-09T13:29:10.245Z"
   },
   {
    "duration": 14,
    "start_time": "2021-11-09T13:29:31.427Z"
   },
   {
    "duration": 8,
    "start_time": "2021-11-09T13:29:35.928Z"
   },
   {
    "duration": 12,
    "start_time": "2021-11-09T13:29:36.369Z"
   },
   {
    "duration": 9,
    "start_time": "2021-11-09T13:29:42.488Z"
   },
   {
    "duration": 12,
    "start_time": "2021-11-09T13:29:44.080Z"
   },
   {
    "duration": 3,
    "start_time": "2021-11-09T13:30:02.602Z"
   },
   {
    "duration": 1102,
    "start_time": "2021-11-09T13:30:02.608Z"
   },
   {
    "duration": 3,
    "start_time": "2021-11-09T13:30:03.713Z"
   },
   {
    "duration": 79,
    "start_time": "2021-11-09T13:30:03.719Z"
   },
   {
    "duration": 161,
    "start_time": "2021-11-09T13:30:03.800Z"
   },
   {
    "duration": 121,
    "start_time": "2021-11-09T13:30:03.963Z"
   },
   {
    "duration": 3389,
    "start_time": "2021-11-09T13:30:04.086Z"
   },
   {
    "duration": 4,
    "start_time": "2021-11-09T13:30:07.477Z"
   },
   {
    "duration": 29,
    "start_time": "2021-11-09T13:30:07.485Z"
   },
   {
    "duration": 103,
    "start_time": "2021-11-09T13:30:07.517Z"
   },
   {
    "duration": 19,
    "start_time": "2021-11-09T13:30:07.622Z"
   },
   {
    "duration": 29,
    "start_time": "2021-11-09T13:30:07.644Z"
   },
   {
    "duration": 64,
    "start_time": "2021-11-09T13:30:07.675Z"
   },
   {
    "duration": 10,
    "start_time": "2021-11-09T13:30:07.759Z"
   },
   {
    "duration": 14,
    "start_time": "2021-11-09T13:30:07.772Z"
   },
   {
    "duration": 19,
    "start_time": "2021-11-09T13:30:07.789Z"
   },
   {
    "duration": 53,
    "start_time": "2021-11-09T13:30:07.811Z"
   },
   {
    "duration": 6,
    "start_time": "2021-11-09T13:30:07.866Z"
   },
   {
    "duration": 21,
    "start_time": "2021-11-09T13:30:07.874Z"
   },
   {
    "duration": 11,
    "start_time": "2021-11-09T13:30:07.897Z"
   },
   {
    "duration": 8,
    "start_time": "2021-11-09T13:30:22.352Z"
   },
   {
    "duration": 11,
    "start_time": "2021-11-09T13:30:23.520Z"
   },
   {
    "duration": 8,
    "start_time": "2021-11-09T13:30:39.586Z"
   },
   {
    "duration": 12,
    "start_time": "2021-11-09T13:30:40.061Z"
   },
   {
    "duration": 26,
    "start_time": "2021-11-09T13:31:07.183Z"
   },
   {
    "duration": 11,
    "start_time": "2021-11-09T13:31:38.755Z"
   },
   {
    "duration": 26,
    "start_time": "2021-11-09T13:31:39.148Z"
   },
   {
    "duration": 779,
    "start_time": "2021-11-09T17:34:22.817Z"
   },
   {
    "duration": 1117,
    "start_time": "2021-11-09T17:34:23.598Z"
   },
   {
    "duration": 3,
    "start_time": "2021-11-09T17:34:24.718Z"
   },
   {
    "duration": 49,
    "start_time": "2021-11-09T17:34:24.723Z"
   },
   {
    "duration": 169,
    "start_time": "2021-11-09T17:34:24.774Z"
   },
   {
    "duration": 133,
    "start_time": "2021-11-09T17:34:24.946Z"
   },
   {
    "duration": 3197,
    "start_time": "2021-11-09T17:34:25.081Z"
   },
   {
    "duration": 4,
    "start_time": "2021-11-09T17:34:28.281Z"
   },
   {
    "duration": 43,
    "start_time": "2021-11-09T17:34:28.289Z"
   },
   {
    "duration": 77,
    "start_time": "2021-11-09T17:34:28.334Z"
   },
   {
    "duration": 31,
    "start_time": "2021-11-09T17:34:28.413Z"
   },
   {
    "duration": 20,
    "start_time": "2021-11-09T17:34:28.446Z"
   },
   {
    "duration": 100,
    "start_time": "2021-11-09T17:34:28.469Z"
   },
   {
    "duration": 12,
    "start_time": "2021-11-09T17:34:28.572Z"
   },
   {
    "duration": 44,
    "start_time": "2021-11-09T17:34:28.587Z"
   },
   {
    "duration": 22,
    "start_time": "2021-11-09T17:34:28.634Z"
   },
   {
    "duration": 19,
    "start_time": "2021-11-09T17:34:28.659Z"
   },
   {
    "duration": 7,
    "start_time": "2021-11-09T17:34:28.680Z"
   },
   {
    "duration": 13,
    "start_time": "2021-11-09T17:34:28.729Z"
   },
   {
    "duration": 13,
    "start_time": "2021-11-09T17:34:28.745Z"
   },
   {
    "duration": 13,
    "start_time": "2021-11-09T17:35:27.571Z"
   },
   {
    "duration": 13,
    "start_time": "2021-11-09T17:35:41.871Z"
   },
   {
    "duration": 13,
    "start_time": "2021-11-09T17:36:06.551Z"
   },
   {
    "duration": 14,
    "start_time": "2021-11-09T17:41:14.619Z"
   },
   {
    "duration": 27,
    "start_time": "2021-11-09T17:41:15.403Z"
   },
   {
    "duration": 36,
    "start_time": "2021-11-09T17:41:31.148Z"
   },
   {
    "duration": 30,
    "start_time": "2021-11-09T17:44:55.153Z"
   },
   {
    "duration": 30,
    "start_time": "2021-11-09T17:45:13.693Z"
   },
   {
    "duration": 30,
    "start_time": "2021-11-09T17:46:13.804Z"
   },
   {
    "duration": 20,
    "start_time": "2021-11-09T18:05:16.973Z"
   },
   {
    "duration": 20,
    "start_time": "2021-11-09T18:05:20.067Z"
   },
   {
    "duration": 7,
    "start_time": "2021-11-09T18:05:26.889Z"
   },
   {
    "duration": 90,
    "start_time": "2021-11-09T18:07:05.058Z"
   },
   {
    "duration": 4,
    "start_time": "2021-11-09T18:07:20.673Z"
   },
   {
    "duration": 1114,
    "start_time": "2021-11-09T18:07:20.680Z"
   },
   {
    "duration": 3,
    "start_time": "2021-11-09T18:07:21.797Z"
   },
   {
    "duration": 50,
    "start_time": "2021-11-09T18:07:21.803Z"
   },
   {
    "duration": 176,
    "start_time": "2021-11-09T18:07:21.856Z"
   },
   {
    "duration": 123,
    "start_time": "2021-11-09T18:07:22.034Z"
   },
   {
    "duration": 3170,
    "start_time": "2021-11-09T18:07:22.159Z"
   },
   {
    "duration": 4,
    "start_time": "2021-11-09T18:07:25.333Z"
   },
   {
    "duration": 29,
    "start_time": "2021-11-09T18:07:25.340Z"
   },
   {
    "duration": 83,
    "start_time": "2021-11-09T18:07:25.371Z"
   },
   {
    "duration": 16,
    "start_time": "2021-11-09T18:07:25.456Z"
   },
   {
    "duration": 15,
    "start_time": "2021-11-09T18:07:25.474Z"
   },
   {
    "duration": 95,
    "start_time": "2021-11-09T18:07:25.491Z"
   },
   {
    "duration": 10,
    "start_time": "2021-11-09T18:07:25.588Z"
   },
   {
    "duration": 30,
    "start_time": "2021-11-09T18:07:25.601Z"
   },
   {
    "duration": 19,
    "start_time": "2021-11-09T18:07:25.633Z"
   },
   {
    "duration": 16,
    "start_time": "2021-11-09T18:07:25.655Z"
   },
   {
    "duration": 6,
    "start_time": "2021-11-09T18:07:25.673Z"
   },
   {
    "duration": 9,
    "start_time": "2021-11-09T18:07:25.681Z"
   },
   {
    "duration": 43,
    "start_time": "2021-11-09T18:07:25.692Z"
   },
   {
    "duration": 18,
    "start_time": "2021-11-09T18:07:25.737Z"
   },
   {
    "duration": 17,
    "start_time": "2021-11-09T18:07:25.757Z"
   },
   {
    "duration": 83,
    "start_time": "2021-11-09T18:07:32.051Z"
   },
   {
    "duration": 3,
    "start_time": "2021-11-09T18:07:42.616Z"
   },
   {
    "duration": 1066,
    "start_time": "2021-11-09T18:07:42.622Z"
   },
   {
    "duration": 4,
    "start_time": "2021-11-09T18:07:43.690Z"
   },
   {
    "duration": 48,
    "start_time": "2021-11-09T18:07:43.697Z"
   },
   {
    "duration": 169,
    "start_time": "2021-11-09T18:07:43.748Z"
   },
   {
    "duration": 125,
    "start_time": "2021-11-09T18:07:43.920Z"
   },
   {
    "duration": 3062,
    "start_time": "2021-11-09T18:07:44.047Z"
   },
   {
    "duration": 16,
    "start_time": "2021-11-09T18:07:47.113Z"
   },
   {
    "duration": 30,
    "start_time": "2021-11-09T18:07:47.132Z"
   },
   {
    "duration": 75,
    "start_time": "2021-11-09T18:07:47.165Z"
   },
   {
    "duration": 19,
    "start_time": "2021-11-09T18:07:47.243Z"
   },
   {
    "duration": 16,
    "start_time": "2021-11-09T18:07:47.264Z"
   },
   {
    "duration": 95,
    "start_time": "2021-11-09T18:07:47.283Z"
   },
   {
    "duration": 9,
    "start_time": "2021-11-09T18:07:47.380Z"
   },
   {
    "duration": 16,
    "start_time": "2021-11-09T18:07:47.392Z"
   },
   {
    "duration": 19,
    "start_time": "2021-11-09T18:07:47.430Z"
   },
   {
    "duration": 18,
    "start_time": "2021-11-09T18:07:47.452Z"
   },
   {
    "duration": 8,
    "start_time": "2021-11-09T18:07:47.473Z"
   },
   {
    "duration": 46,
    "start_time": "2021-11-09T18:07:47.484Z"
   },
   {
    "duration": 10,
    "start_time": "2021-11-09T18:07:47.532Z"
   },
   {
    "duration": 20,
    "start_time": "2021-11-09T18:07:47.544Z"
   },
   {
    "duration": 17,
    "start_time": "2021-11-09T18:07:47.566Z"
   },
   {
    "duration": 86,
    "start_time": "2021-11-09T18:07:52.386Z"
   },
   {
    "duration": 21,
    "start_time": "2021-11-09T18:08:08.248Z"
   },
   {
    "duration": 53,
    "start_time": "2021-11-09T18:14:00.155Z"
   },
   {
    "duration": 113,
    "start_time": "2021-11-09T18:14:17.238Z"
   },
   {
    "duration": 79,
    "start_time": "2021-11-09T18:15:52.654Z"
   },
   {
    "duration": 57,
    "start_time": "2021-11-09T18:16:02.210Z"
   },
   {
    "duration": 4,
    "start_time": "2021-11-09T18:16:58.498Z"
   },
   {
    "duration": 1091,
    "start_time": "2021-11-09T18:16:58.504Z"
   },
   {
    "duration": 3,
    "start_time": "2021-11-09T18:16:59.598Z"
   },
   {
    "duration": 46,
    "start_time": "2021-11-09T18:16:59.604Z"
   },
   {
    "duration": 173,
    "start_time": "2021-11-09T18:16:59.653Z"
   },
   {
    "duration": 129,
    "start_time": "2021-11-09T18:16:59.829Z"
   },
   {
    "duration": 3609,
    "start_time": "2021-11-09T18:16:59.961Z"
   },
   {
    "duration": 5,
    "start_time": "2021-11-09T18:17:03.573Z"
   },
   {
    "duration": 47,
    "start_time": "2021-11-09T18:17:03.582Z"
   },
   {
    "duration": 77,
    "start_time": "2021-11-09T18:17:03.633Z"
   },
   {
    "duration": 34,
    "start_time": "2021-11-09T18:17:03.713Z"
   },
   {
    "duration": 18,
    "start_time": "2021-11-09T18:17:03.750Z"
   },
   {
    "duration": 99,
    "start_time": "2021-11-09T18:17:03.771Z"
   },
   {
    "duration": 11,
    "start_time": "2021-11-09T18:17:03.873Z"
   },
   {
    "duration": 15,
    "start_time": "2021-11-09T18:17:03.886Z"
   },
   {
    "duration": 21,
    "start_time": "2021-11-09T18:17:03.929Z"
   },
   {
    "duration": 20,
    "start_time": "2021-11-09T18:17:03.952Z"
   },
   {
    "duration": 6,
    "start_time": "2021-11-09T18:17:03.975Z"
   },
   {
    "duration": 20,
    "start_time": "2021-11-09T18:17:03.983Z"
   },
   {
    "duration": 10,
    "start_time": "2021-11-09T18:17:04.030Z"
   },
   {
    "duration": 33,
    "start_time": "2021-11-09T18:17:04.042Z"
   },
   {
    "duration": 19,
    "start_time": "2021-11-09T18:17:04.078Z"
   },
   {
    "duration": 101,
    "start_time": "2021-11-09T18:17:04.100Z"
   },
   {
    "duration": 79,
    "start_time": "2021-11-09T18:17:18.016Z"
   },
   {
    "duration": 71,
    "start_time": "2021-11-09T18:17:18.609Z"
   },
   {
    "duration": 33,
    "start_time": "2021-11-09T18:17:32.173Z"
   },
   {
    "duration": 4,
    "start_time": "2021-11-09T18:17:35.761Z"
   },
   {
    "duration": 1083,
    "start_time": "2021-11-09T18:17:35.767Z"
   },
   {
    "duration": 3,
    "start_time": "2021-11-09T18:17:36.853Z"
   },
   {
    "duration": 41,
    "start_time": "2021-11-09T18:17:36.859Z"
   },
   {
    "duration": 192,
    "start_time": "2021-11-09T18:17:36.902Z"
   },
   {
    "duration": 135,
    "start_time": "2021-11-09T18:17:37.096Z"
   },
   {
    "duration": 3359,
    "start_time": "2021-11-09T18:17:37.234Z"
   },
   {
    "duration": 4,
    "start_time": "2021-11-09T18:17:40.597Z"
   },
   {
    "duration": 144,
    "start_time": "2021-11-09T18:17:40.604Z"
   },
   {
    "duration": 89,
    "start_time": "2021-11-09T18:17:40.750Z"
   },
   {
    "duration": 17,
    "start_time": "2021-11-09T18:17:40.842Z"
   },
   {
    "duration": 18,
    "start_time": "2021-11-09T18:17:40.861Z"
   },
   {
    "duration": 91,
    "start_time": "2021-11-09T18:17:40.881Z"
   },
   {
    "duration": 9,
    "start_time": "2021-11-09T18:17:40.975Z"
   },
   {
    "duration": 23,
    "start_time": "2021-11-09T18:17:40.986Z"
   },
   {
    "duration": 30,
    "start_time": "2021-11-09T18:17:41.012Z"
   },
   {
    "duration": 17,
    "start_time": "2021-11-09T18:17:41.045Z"
   },
   {
    "duration": 10,
    "start_time": "2021-11-09T18:17:41.064Z"
   },
   {
    "duration": 18,
    "start_time": "2021-11-09T18:17:41.076Z"
   },
   {
    "duration": 36,
    "start_time": "2021-11-09T18:17:41.097Z"
   },
   {
    "duration": 35,
    "start_time": "2021-11-09T18:17:41.136Z"
   },
   {
    "duration": 16,
    "start_time": "2021-11-09T18:17:41.174Z"
   },
   {
    "duration": 97,
    "start_time": "2021-11-09T18:17:41.194Z"
   },
   {
    "duration": 28,
    "start_time": "2021-11-09T18:17:46.006Z"
   },
   {
    "duration": 46,
    "start_time": "2021-11-09T18:17:46.905Z"
   },
   {
    "duration": 5,
    "start_time": "2021-11-09T18:18:00.440Z"
   },
   {
    "duration": 35,
    "start_time": "2021-11-09T18:18:13.827Z"
   },
   {
    "duration": 6,
    "start_time": "2021-11-09T18:18:23.644Z"
   },
   {
    "duration": 419,
    "start_time": "2021-11-09T18:19:11.421Z"
   },
   {
    "duration": 416,
    "start_time": "2021-11-09T18:26:51.352Z"
   },
   {
    "duration": 318,
    "start_time": "2021-11-09T18:29:53.412Z"
   },
   {
    "duration": 4,
    "start_time": "2021-11-09T18:30:09.544Z"
   },
   {
    "duration": 23,
    "start_time": "2021-11-09T18:30:14.374Z"
   },
   {
    "duration": 68,
    "start_time": "2021-11-09T18:30:24.839Z"
   },
   {
    "duration": 5,
    "start_time": "2021-11-09T18:30:45.096Z"
   },
   {
    "duration": 6,
    "start_time": "2021-11-09T18:30:59.764Z"
   },
   {
    "duration": 4,
    "start_time": "2021-11-09T18:31:05.159Z"
   },
   {
    "duration": 1159,
    "start_time": "2021-11-09T18:31:05.166Z"
   },
   {
    "duration": 3,
    "start_time": "2021-11-09T18:31:06.327Z"
   },
   {
    "duration": 38,
    "start_time": "2021-11-09T18:31:06.333Z"
   },
   {
    "duration": 174,
    "start_time": "2021-11-09T18:31:06.373Z"
   },
   {
    "duration": 130,
    "start_time": "2021-11-09T18:31:06.549Z"
   },
   {
    "duration": 3053,
    "start_time": "2021-11-09T18:31:06.681Z"
   },
   {
    "duration": 4,
    "start_time": "2021-11-09T18:31:09.737Z"
   },
   {
    "duration": 35,
    "start_time": "2021-11-09T18:31:09.745Z"
   },
   {
    "duration": 81,
    "start_time": "2021-11-09T18:31:09.782Z"
   },
   {
    "duration": 16,
    "start_time": "2021-11-09T18:31:09.866Z"
   },
   {
    "duration": 21,
    "start_time": "2021-11-09T18:31:09.884Z"
   },
   {
    "duration": 83,
    "start_time": "2021-11-09T18:31:09.907Z"
   },
   {
    "duration": 11,
    "start_time": "2021-11-09T18:31:09.993Z"
   },
   {
    "duration": 30,
    "start_time": "2021-11-09T18:31:10.006Z"
   },
   {
    "duration": 26,
    "start_time": "2021-11-09T18:31:10.039Z"
   },
   {
    "duration": 24,
    "start_time": "2021-11-09T18:31:10.069Z"
   },
   {
    "duration": 10,
    "start_time": "2021-11-09T18:31:10.095Z"
   },
   {
    "duration": 27,
    "start_time": "2021-11-09T18:31:10.107Z"
   },
   {
    "duration": 15,
    "start_time": "2021-11-09T18:31:10.137Z"
   },
   {
    "duration": 20,
    "start_time": "2021-11-09T18:31:10.154Z"
   },
   {
    "duration": 17,
    "start_time": "2021-11-09T18:31:10.177Z"
   },
   {
    "duration": 32,
    "start_time": "2021-11-09T18:31:10.197Z"
   },
   {
    "duration": 82,
    "start_time": "2021-11-09T18:31:23.503Z"
   },
   {
    "duration": 5,
    "start_time": "2021-11-09T18:31:29.948Z"
   },
   {
    "duration": 29,
    "start_time": "2021-11-09T18:31:48.216Z"
   },
   {
    "duration": 6,
    "start_time": "2021-11-09T18:31:49.345Z"
   },
   {
    "duration": 323,
    "start_time": "2021-11-09T18:31:50.976Z"
   },
   {
    "duration": 292,
    "start_time": "2021-11-09T18:32:07.401Z"
   },
   {
    "duration": 4,
    "start_time": "2021-11-09T18:32:20.562Z"
   },
   {
    "duration": 1071,
    "start_time": "2021-11-09T18:32:20.568Z"
   },
   {
    "duration": 4,
    "start_time": "2021-11-09T18:32:21.642Z"
   },
   {
    "duration": 40,
    "start_time": "2021-11-09T18:32:21.648Z"
   },
   {
    "duration": 177,
    "start_time": "2021-11-09T18:32:21.690Z"
   },
   {
    "duration": 124,
    "start_time": "2021-11-09T18:32:21.870Z"
   },
   {
    "duration": 3520,
    "start_time": "2021-11-09T18:32:21.997Z"
   },
   {
    "duration": 8,
    "start_time": "2021-11-09T18:32:25.521Z"
   },
   {
    "duration": 22,
    "start_time": "2021-11-09T18:32:25.532Z"
   },
   {
    "duration": 86,
    "start_time": "2021-11-09T18:32:25.557Z"
   },
   {
    "duration": 16,
    "start_time": "2021-11-09T18:32:25.646Z"
   },
   {
    "duration": 15,
    "start_time": "2021-11-09T18:32:25.664Z"
   },
   {
    "duration": 94,
    "start_time": "2021-11-09T18:32:25.681Z"
   },
   {
    "duration": 11,
    "start_time": "2021-11-09T18:32:25.778Z"
   },
   {
    "duration": 14,
    "start_time": "2021-11-09T18:32:25.792Z"
   },
   {
    "duration": 35,
    "start_time": "2021-11-09T18:32:25.808Z"
   },
   {
    "duration": 16,
    "start_time": "2021-11-09T18:32:25.845Z"
   },
   {
    "duration": 7,
    "start_time": "2021-11-09T18:32:25.864Z"
   },
   {
    "duration": 9,
    "start_time": "2021-11-09T18:32:25.874Z"
   },
   {
    "duration": 51,
    "start_time": "2021-11-09T18:32:25.886Z"
   },
   {
    "duration": 22,
    "start_time": "2021-11-09T18:32:25.939Z"
   },
   {
    "duration": 20,
    "start_time": "2021-11-09T18:32:25.963Z"
   },
   {
    "duration": 6,
    "start_time": "2021-11-09T18:32:26.029Z"
   },
   {
    "duration": 98,
    "start_time": "2021-11-09T18:32:26.038Z"
   },
   {
    "duration": 5,
    "start_time": "2021-11-09T18:32:26.139Z"
   },
   {
    "duration": 34,
    "start_time": "2021-11-09T18:32:26.147Z"
   },
   {
    "duration": 7,
    "start_time": "2021-11-09T18:32:26.183Z"
   },
   {
    "duration": 317,
    "start_time": "2021-11-09T18:32:30.522Z"
   },
   {
    "duration": 3,
    "start_time": "2021-11-09T18:33:22.827Z"
   },
   {
    "duration": 76,
    "start_time": "2021-11-09T18:33:32.736Z"
   },
   {
    "duration": 5,
    "start_time": "2021-11-09T18:33:41.119Z"
   },
   {
    "duration": 6,
    "start_time": "2021-11-09T18:37:13.980Z"
   },
   {
    "duration": 43,
    "start_time": "2021-11-09T18:37:25.342Z"
   },
   {
    "duration": 21,
    "start_time": "2021-11-09T18:37:39.026Z"
   },
   {
    "duration": 42,
    "start_time": "2021-11-09T18:38:46.784Z"
   },
   {
    "duration": 70,
    "start_time": "2021-11-09T18:38:47.474Z"
   },
   {
    "duration": 42,
    "start_time": "2021-11-09T18:38:50.615Z"
   },
   {
    "duration": 89,
    "start_time": "2021-11-09T18:38:55.975Z"
   },
   {
    "duration": 20,
    "start_time": "2021-11-09T18:39:07.503Z"
   },
   {
    "duration": 11,
    "start_time": "2021-11-09T18:39:20.519Z"
   },
   {
    "duration": 6,
    "start_time": "2021-11-09T18:39:21.189Z"
   },
   {
    "duration": 45,
    "start_time": "2021-11-09T18:39:33.660Z"
   },
   {
    "duration": 43,
    "start_time": "2021-11-09T18:39:34.240Z"
   },
   {
    "duration": 19,
    "start_time": "2021-11-09T18:39:36.251Z"
   },
   {
    "duration": 6,
    "start_time": "2021-11-09T18:39:42.456Z"
   },
   {
    "duration": 6,
    "start_time": "2021-11-09T18:39:54.532Z"
   },
   {
    "duration": 43,
    "start_time": "2021-11-09T18:40:07.018Z"
   },
   {
    "duration": 20,
    "start_time": "2021-11-09T18:40:09.297Z"
   },
   {
    "duration": 47,
    "start_time": "2021-11-09T18:40:16.160Z"
   },
   {
    "duration": 47,
    "start_time": "2021-11-09T18:40:41.444Z"
   },
   {
    "duration": 20,
    "start_time": "2021-11-09T18:40:41.820Z"
   },
   {
    "duration": 40,
    "start_time": "2021-11-09T18:41:03.931Z"
   },
   {
    "duration": 70,
    "start_time": "2021-11-09T18:41:05.069Z"
   },
   {
    "duration": 35,
    "start_time": "2021-11-09T18:41:05.364Z"
   },
   {
    "duration": 20,
    "start_time": "2021-11-09T18:41:05.885Z"
   },
   {
    "duration": 19,
    "start_time": "2021-11-09T18:41:12.665Z"
   },
   {
    "duration": 281,
    "start_time": "2021-11-09T18:49:29.387Z"
   },
   {
    "duration": 25,
    "start_time": "2021-11-09T18:49:35.251Z"
   },
   {
    "duration": 21,
    "start_time": "2021-11-09T18:49:41.232Z"
   },
   {
    "duration": 21,
    "start_time": "2021-11-09T18:49:51.349Z"
   },
   {
    "duration": 20,
    "start_time": "2021-11-09T18:50:42.016Z"
   },
   {
    "duration": 19,
    "start_time": "2021-11-09T18:50:43.190Z"
   },
   {
    "duration": 6,
    "start_time": "2021-11-09T18:51:03.056Z"
   },
   {
    "duration": 190,
    "start_time": "2021-11-09T19:01:29.195Z"
   },
   {
    "duration": 4,
    "start_time": "2021-11-09T19:01:35.675Z"
   },
   {
    "duration": 1086,
    "start_time": "2021-11-09T19:01:35.682Z"
   },
   {
    "duration": 5,
    "start_time": "2021-11-09T19:01:36.772Z"
   },
   {
    "duration": 56,
    "start_time": "2021-11-09T19:01:36.780Z"
   },
   {
    "duration": 167,
    "start_time": "2021-11-09T19:01:36.840Z"
   },
   {
    "duration": 137,
    "start_time": "2021-11-09T19:01:37.011Z"
   },
   {
    "duration": 3258,
    "start_time": "2021-11-09T19:01:37.151Z"
   },
   {
    "duration": 16,
    "start_time": "2021-11-09T19:01:40.413Z"
   },
   {
    "duration": 28,
    "start_time": "2021-11-09T19:01:40.433Z"
   },
   {
    "duration": 80,
    "start_time": "2021-11-09T19:01:40.464Z"
   },
   {
    "duration": 18,
    "start_time": "2021-11-09T19:01:40.546Z"
   },
   {
    "duration": 18,
    "start_time": "2021-11-09T19:01:40.566Z"
   },
   {
    "duration": 94,
    "start_time": "2021-11-09T19:01:40.586Z"
   },
   {
    "duration": 12,
    "start_time": "2021-11-09T19:01:40.682Z"
   },
   {
    "duration": 40,
    "start_time": "2021-11-09T19:01:40.697Z"
   },
   {
    "duration": 20,
    "start_time": "2021-11-09T19:01:40.740Z"
   },
   {
    "duration": 18,
    "start_time": "2021-11-09T19:01:40.762Z"
   },
   {
    "duration": 7,
    "start_time": "2021-11-09T19:01:40.782Z"
   },
   {
    "duration": 39,
    "start_time": "2021-11-09T19:01:40.792Z"
   },
   {
    "duration": 9,
    "start_time": "2021-11-09T19:01:40.834Z"
   },
   {
    "duration": 19,
    "start_time": "2021-11-09T19:01:40.845Z"
   },
   {
    "duration": 17,
    "start_time": "2021-11-09T19:01:40.867Z"
   },
   {
    "duration": 117,
    "start_time": "2021-11-09T19:01:40.888Z"
   },
   {
    "duration": 43,
    "start_time": "2021-11-09T19:01:41.008Z"
   },
   {
    "duration": 3,
    "start_time": "2021-11-09T19:01:41.053Z"
   },
   {
    "duration": 99,
    "start_time": "2021-11-09T19:01:41.059Z"
   },
   {
    "duration": 6,
    "start_time": "2021-11-09T19:01:41.160Z"
   },
   {
    "duration": 63,
    "start_time": "2021-11-09T19:01:41.168Z"
   },
   {
    "duration": 23,
    "start_time": "2021-11-09T19:01:41.233Z"
   },
   {
    "duration": 25,
    "start_time": "2021-11-09T19:01:41.258Z"
   },
   {
    "duration": 23,
    "start_time": "2021-11-09T19:01:41.285Z"
   },
   {
    "duration": 23,
    "start_time": "2021-11-09T19:01:41.310Z"
   },
   {
    "duration": 45,
    "start_time": "2021-11-09T19:01:41.336Z"
   },
   {
    "duration": 54,
    "start_time": "2021-11-09T19:01:41.384Z"
   },
   {
    "duration": 22,
    "start_time": "2021-11-09T19:01:48.528Z"
   },
   {
    "duration": 19,
    "start_time": "2021-11-09T19:01:54.492Z"
   },
   {
    "duration": 34,
    "start_time": "2021-11-09T19:04:20.747Z"
   },
   {
    "duration": 32,
    "start_time": "2021-11-09T19:04:26.965Z"
   },
   {
    "duration": 20,
    "start_time": "2021-11-09T19:05:27.883Z"
   },
   {
    "duration": 13,
    "start_time": "2021-11-09T19:05:45.577Z"
   },
   {
    "duration": 26,
    "start_time": "2021-11-09T19:06:09.213Z"
   },
   {
    "duration": 43,
    "start_time": "2021-11-09T19:08:41.208Z"
   },
   {
    "duration": 5,
    "start_time": "2021-11-09T19:08:52.318Z"
   },
   {
    "duration": 20,
    "start_time": "2021-11-09T19:09:17.373Z"
   },
   {
    "duration": 21,
    "start_time": "2021-11-09T19:13:47.282Z"
   },
   {
    "duration": 20,
    "start_time": "2021-11-09T19:13:55.618Z"
   },
   {
    "duration": 36,
    "start_time": "2021-11-09T19:15:41.155Z"
   },
   {
    "duration": 12,
    "start_time": "2021-11-09T19:16:40.258Z"
   },
   {
    "duration": 41,
    "start_time": "2021-11-09T19:16:40.961Z"
   },
   {
    "duration": 33,
    "start_time": "2021-11-09T19:16:48.920Z"
   },
   {
    "duration": 36,
    "start_time": "2021-11-09T19:27:11.511Z"
   },
   {
    "duration": 31,
    "start_time": "2021-11-09T19:27:17.607Z"
   },
   {
    "duration": 5,
    "start_time": "2021-11-09T19:27:44.694Z"
   },
   {
    "duration": 14,
    "start_time": "2021-11-09T19:28:11.732Z"
   },
   {
    "duration": 40,
    "start_time": "2021-11-09T19:28:36.879Z"
   },
   {
    "duration": 40,
    "start_time": "2021-11-09T19:28:45.802Z"
   },
   {
    "duration": 438,
    "start_time": "2021-11-09T19:29:17.632Z"
   },
   {
    "duration": 15,
    "start_time": "2021-11-09T19:29:23.994Z"
   },
   {
    "duration": 12,
    "start_time": "2021-11-09T19:29:42.429Z"
   },
   {
    "duration": 300,
    "start_time": "2021-11-09T19:30:04.514Z"
   },
   {
    "duration": 294,
    "start_time": "2021-11-09T19:30:09.679Z"
   },
   {
    "duration": 13,
    "start_time": "2021-11-09T19:30:58.245Z"
   },
   {
    "duration": 18,
    "start_time": "2021-11-09T19:31:07.347Z"
   },
   {
    "duration": 13,
    "start_time": "2021-11-09T19:32:34.403Z"
   },
   {
    "duration": 13,
    "start_time": "2021-11-09T19:32:37.488Z"
   },
   {
    "duration": 15,
    "start_time": "2021-11-09T19:32:45.874Z"
   },
   {
    "duration": 15,
    "start_time": "2021-11-09T19:33:16.945Z"
   },
   {
    "duration": 14,
    "start_time": "2021-11-09T19:33:30.076Z"
   },
   {
    "duration": 13,
    "start_time": "2021-11-09T19:38:09.913Z"
   },
   {
    "duration": 50,
    "start_time": "2021-11-09T19:38:58.104Z"
   },
   {
    "duration": 13,
    "start_time": "2021-11-09T19:39:12.061Z"
   },
   {
    "duration": 21,
    "start_time": "2021-11-09T19:40:30.975Z"
   },
   {
    "duration": 22,
    "start_time": "2021-11-09T19:45:59.503Z"
   },
   {
    "duration": 6,
    "start_time": "2021-11-09T19:52:47.086Z"
   },
   {
    "duration": 677,
    "start_time": "2021-11-10T15:04:35.386Z"
   },
   {
    "duration": 350,
    "start_time": "2021-11-10T15:04:40.234Z"
   },
   {
    "duration": 781,
    "start_time": "2021-11-10T15:04:40.586Z"
   },
   {
    "duration": 3,
    "start_time": "2021-11-10T15:04:41.369Z"
   },
   {
    "duration": 90,
    "start_time": "2021-11-10T15:04:41.374Z"
   },
   {
    "duration": 126,
    "start_time": "2021-11-10T15:04:41.466Z"
   },
   {
    "duration": 106,
    "start_time": "2021-11-10T15:04:41.593Z"
   },
   {
    "duration": 1862,
    "start_time": "2021-11-10T15:04:41.701Z"
   },
   {
    "duration": 4,
    "start_time": "2021-11-10T15:04:43.565Z"
   },
   {
    "duration": 20,
    "start_time": "2021-11-10T15:04:43.571Z"
   },
   {
    "duration": 71,
    "start_time": "2021-11-10T15:04:43.592Z"
   },
   {
    "duration": 14,
    "start_time": "2021-11-10T15:04:43.665Z"
   },
   {
    "duration": 12,
    "start_time": "2021-11-10T15:04:43.680Z"
   },
   {
    "duration": 38,
    "start_time": "2021-11-10T15:04:43.694Z"
   },
   {
    "duration": 34,
    "start_time": "2021-11-10T15:04:43.734Z"
   },
   {
    "duration": 12,
    "start_time": "2021-11-10T15:04:43.769Z"
   },
   {
    "duration": 14,
    "start_time": "2021-11-10T15:04:43.782Z"
   },
   {
    "duration": 12,
    "start_time": "2021-11-10T15:04:43.798Z"
   },
   {
    "duration": 118,
    "start_time": "2021-11-10T15:04:43.811Z"
   },
   {
    "duration": 10,
    "start_time": "2021-11-10T15:04:43.931Z"
   },
   {
    "duration": 11,
    "start_time": "2021-11-10T15:04:43.942Z"
   },
   {
    "duration": 16,
    "start_time": "2021-11-10T15:04:43.954Z"
   },
   {
    "duration": 12,
    "start_time": "2021-11-10T15:04:43.972Z"
   },
   {
    "duration": 53,
    "start_time": "2021-11-10T15:04:43.987Z"
   },
   {
    "duration": 39,
    "start_time": "2021-11-10T15:04:44.042Z"
   },
   {
    "duration": 3,
    "start_time": "2021-11-10T15:04:44.083Z"
   },
   {
    "duration": 55,
    "start_time": "2021-11-10T15:04:44.087Z"
   },
   {
    "duration": 19,
    "start_time": "2021-11-10T15:04:44.144Z"
   },
   {
    "duration": 322,
    "start_time": "2021-11-10T15:06:35.835Z"
   },
   {
    "duration": 75,
    "start_time": "2021-11-10T15:06:41.138Z"
   },
   {
    "duration": 81,
    "start_time": "2021-11-10T15:06:47.146Z"
   },
   {
    "duration": 81,
    "start_time": "2021-11-10T15:06:49.419Z"
   },
   {
    "duration": 3,
    "start_time": "2021-11-10T15:12:50.224Z"
   },
   {
    "duration": 347,
    "start_time": "2021-11-10T15:13:03.256Z"
   },
   {
    "duration": 32,
    "start_time": "2021-11-10T15:14:53.320Z"
   },
   {
    "duration": 4,
    "start_time": "2021-11-10T15:18:42.636Z"
   },
   {
    "duration": 15,
    "start_time": "2021-11-10T15:19:01.862Z"
   },
   {
    "duration": 14,
    "start_time": "2021-11-10T15:26:46.251Z"
   },
   {
    "duration": 18,
    "start_time": "2021-11-10T15:29:21.467Z"
   },
   {
    "duration": 32,
    "start_time": "2021-11-10T15:29:30.626Z"
   },
   {
    "duration": 15,
    "start_time": "2021-11-10T15:30:53.823Z"
   },
   {
    "duration": 32,
    "start_time": "2021-11-10T15:30:55.482Z"
   },
   {
    "duration": 331,
    "start_time": "2021-11-11T07:40:36.205Z"
   },
   {
    "duration": 637,
    "start_time": "2021-11-11T07:40:50.819Z"
   },
   {
    "duration": 872,
    "start_time": "2021-11-11T07:40:51.458Z"
   },
   {
    "duration": 2,
    "start_time": "2021-11-11T07:40:52.332Z"
   },
   {
    "duration": 41,
    "start_time": "2021-11-11T07:40:52.336Z"
   },
   {
    "duration": 135,
    "start_time": "2021-11-11T07:40:52.378Z"
   },
   {
    "duration": 117,
    "start_time": "2021-11-11T07:40:52.514Z"
   },
   {
    "duration": 2006,
    "start_time": "2021-11-11T07:40:52.633Z"
   },
   {
    "duration": 3,
    "start_time": "2021-11-11T07:40:54.642Z"
   },
   {
    "duration": 30,
    "start_time": "2021-11-11T07:40:54.648Z"
   },
   {
    "duration": 57,
    "start_time": "2021-11-11T07:40:54.680Z"
   },
   {
    "duration": 36,
    "start_time": "2021-11-11T07:40:54.739Z"
   },
   {
    "duration": 16,
    "start_time": "2021-11-11T07:40:54.777Z"
   },
   {
    "duration": 70,
    "start_time": "2021-11-11T07:40:54.795Z"
   },
   {
    "duration": 12,
    "start_time": "2021-11-11T07:40:54.867Z"
   },
   {
    "duration": 14,
    "start_time": "2021-11-11T07:40:54.881Z"
   },
   {
    "duration": 18,
    "start_time": "2021-11-11T07:40:54.897Z"
   },
   {
    "duration": 55,
    "start_time": "2021-11-11T07:40:54.918Z"
   },
   {
    "duration": 6,
    "start_time": "2021-11-11T07:40:54.975Z"
   },
   {
    "duration": 12,
    "start_time": "2021-11-11T07:40:54.983Z"
   },
   {
    "duration": 14,
    "start_time": "2021-11-11T07:40:54.997Z"
   },
   {
    "duration": 16,
    "start_time": "2021-11-11T07:40:55.013Z"
   },
   {
    "duration": 35,
    "start_time": "2021-11-11T07:40:55.031Z"
   },
   {
    "duration": 61,
    "start_time": "2021-11-11T07:40:55.071Z"
   },
   {
    "duration": 45,
    "start_time": "2021-11-11T07:40:55.135Z"
   },
   {
    "duration": 3,
    "start_time": "2021-11-11T07:40:55.181Z"
   },
   {
    "duration": 54,
    "start_time": "2021-11-11T07:40:55.186Z"
   },
   {
    "duration": 6,
    "start_time": "2021-11-11T07:40:55.242Z"
   },
   {
    "duration": 508,
    "start_time": "2021-11-11T07:40:55.249Z"
   },
   {
    "duration": 36,
    "start_time": "2021-11-11T07:40:55.759Z"
   },
   {
    "duration": 17,
    "start_time": "2021-11-11T07:40:55.798Z"
   },
   {
    "duration": 18,
    "start_time": "2021-11-11T07:40:55.818Z"
   },
   {
    "duration": 18,
    "start_time": "2021-11-11T07:40:55.863Z"
   },
   {
    "duration": 6,
    "start_time": "2021-11-11T07:40:55.883Z"
   },
   {
    "duration": 38,
    "start_time": "2021-11-11T07:40:55.891Z"
   },
   {
    "duration": 38,
    "start_time": "2021-11-11T07:40:55.931Z"
   },
   {
    "duration": 19,
    "start_time": "2021-11-11T07:40:55.971Z"
   },
   {
    "duration": 13,
    "start_time": "2021-11-11T07:40:55.992Z"
   },
   {
    "duration": 9,
    "start_time": "2021-11-11T07:40:56.007Z"
   },
   {
    "duration": 71,
    "start_time": "2021-11-11T07:40:56.017Z"
   },
   {
    "duration": 20,
    "start_time": "2021-11-11T07:40:56.090Z"
   },
   {
    "duration": 4,
    "start_time": "2021-11-11T07:40:56.112Z"
   },
   {
    "duration": 50,
    "start_time": "2021-11-11T07:40:56.118Z"
   },
   {
    "duration": 46,
    "start_time": "2021-11-11T07:40:56.170Z"
   },
   {
    "duration": 29,
    "start_time": "2021-11-11T07:40:56.218Z"
   },
   {
    "duration": 28,
    "start_time": "2021-11-11T07:40:56.248Z"
   },
   {
    "duration": 18,
    "start_time": "2021-11-11T07:40:56.278Z"
   },
   {
    "duration": 5,
    "start_time": "2021-11-11T07:40:56.298Z"
   },
   {
    "duration": 53,
    "start_time": "2021-11-11T07:40:56.305Z"
   },
   {
    "duration": 20,
    "start_time": "2021-11-11T07:40:56.360Z"
   },
   {
    "duration": 20,
    "start_time": "2021-11-11T07:40:56.382Z"
   },
   {
    "duration": 37,
    "start_time": "2021-11-11T07:40:56.404Z"
   },
   {
    "duration": 22,
    "start_time": "2021-11-11T07:40:56.443Z"
   },
   {
    "duration": 33,
    "start_time": "2021-11-11T07:40:56.467Z"
   },
   {
    "duration": 19,
    "start_time": "2021-11-11T07:40:56.502Z"
   },
   {
    "duration": 14,
    "start_time": "2021-11-11T07:40:56.523Z"
   },
   {
    "duration": 39,
    "start_time": "2021-11-11T07:40:56.539Z"
   },
   {
    "duration": 19,
    "start_time": "2021-11-11T07:40:56.580Z"
   },
   {
    "duration": 37,
    "start_time": "2021-11-11T07:40:56.601Z"
   },
   {
    "duration": 30,
    "start_time": "2021-11-11T07:40:56.639Z"
   },
   {
    "duration": 35,
    "start_time": "2021-11-11T07:40:56.671Z"
   },
   {
    "duration": 9,
    "start_time": "2021-11-11T07:40:56.708Z"
   },
   {
    "duration": 9,
    "start_time": "2021-11-11T07:40:56.719Z"
   },
   {
    "duration": 50,
    "start_time": "2021-11-11T07:40:56.730Z"
   },
   {
    "duration": 32,
    "start_time": "2021-11-11T07:40:56.781Z"
   },
   {
    "duration": 86,
    "start_time": "2021-11-11T07:40:56.815Z"
   },
   {
    "duration": 3,
    "start_time": "2021-11-11T07:41:31.955Z"
   },
   {
    "duration": 3,
    "start_time": "2021-11-11T07:41:43.915Z"
   },
   {
    "duration": 814,
    "start_time": "2021-11-11T07:44:44.184Z"
   },
   {
    "duration": 18,
    "start_time": "2021-11-11T07:44:49.777Z"
   },
   {
    "duration": 22,
    "start_time": "2021-11-11T07:45:08.291Z"
   },
   {
    "duration": 842,
    "start_time": "2021-11-11T07:45:29.258Z"
   },
   {
    "duration": 25,
    "start_time": "2021-11-11T07:45:33.567Z"
   },
   {
    "duration": 20,
    "start_time": "2021-11-11T07:47:04.721Z"
   },
   {
    "duration": 3,
    "start_time": "2021-11-11T07:48:57.533Z"
   },
   {
    "duration": 914,
    "start_time": "2021-11-11T07:48:57.538Z"
   },
   {
    "duration": 3,
    "start_time": "2021-11-11T07:48:58.453Z"
   },
   {
    "duration": 33,
    "start_time": "2021-11-11T07:48:58.458Z"
   },
   {
    "duration": 129,
    "start_time": "2021-11-11T07:48:58.493Z"
   },
   {
    "duration": 118,
    "start_time": "2021-11-11T07:48:58.623Z"
   },
   {
    "duration": 2109,
    "start_time": "2021-11-11T07:48:58.744Z"
   },
   {
    "duration": 3,
    "start_time": "2021-11-11T07:49:00.863Z"
   },
   {
    "duration": 33,
    "start_time": "2021-11-11T07:49:00.868Z"
   },
   {
    "duration": 59,
    "start_time": "2021-11-11T07:49:00.903Z"
   },
   {
    "duration": 21,
    "start_time": "2021-11-11T07:49:00.964Z"
   },
   {
    "duration": 22,
    "start_time": "2021-11-11T07:49:00.988Z"
   },
   {
    "duration": 56,
    "start_time": "2021-11-11T07:49:01.013Z"
   },
   {
    "duration": 11,
    "start_time": "2021-11-11T07:49:01.071Z"
   },
   {
    "duration": 17,
    "start_time": "2021-11-11T07:49:01.084Z"
   },
   {
    "duration": 28,
    "start_time": "2021-11-11T07:49:01.103Z"
   },
   {
    "duration": 14,
    "start_time": "2021-11-11T07:49:01.133Z"
   },
   {
    "duration": 18,
    "start_time": "2021-11-11T07:49:01.149Z"
   },
   {
    "duration": 17,
    "start_time": "2021-11-11T07:49:01.171Z"
   },
   {
    "duration": 21,
    "start_time": "2021-11-11T07:49:01.191Z"
   },
   {
    "duration": 19,
    "start_time": "2021-11-11T07:49:01.214Z"
   },
   {
    "duration": 20,
    "start_time": "2021-11-11T07:49:01.236Z"
   },
   {
    "duration": 60,
    "start_time": "2021-11-11T07:49:01.258Z"
   },
   {
    "duration": 25,
    "start_time": "2021-11-11T07:49:01.320Z"
   },
   {
    "duration": 3,
    "start_time": "2021-11-11T07:49:01.347Z"
   },
   {
    "duration": 69,
    "start_time": "2021-11-11T07:49:01.351Z"
   },
   {
    "duration": 5,
    "start_time": "2021-11-11T07:49:01.421Z"
   },
   {
    "duration": 26,
    "start_time": "2021-11-11T07:49:01.427Z"
   },
   {
    "duration": 78,
    "start_time": "2021-11-11T07:49:01.454Z"
   },
   {
    "duration": 23,
    "start_time": "2021-11-11T07:49:01.534Z"
   },
   {
    "duration": 33,
    "start_time": "2021-11-11T07:49:01.558Z"
   },
   {
    "duration": 23,
    "start_time": "2021-11-11T07:49:01.593Z"
   },
   {
    "duration": 48,
    "start_time": "2021-11-11T07:49:01.618Z"
   },
   {
    "duration": 66,
    "start_time": "2021-11-11T07:49:01.668Z"
   },
   {
    "duration": 25,
    "start_time": "2021-11-11T07:49:01.736Z"
   },
   {
    "duration": 29,
    "start_time": "2021-11-11T07:49:01.763Z"
   },
   {
    "duration": 27,
    "start_time": "2021-11-11T07:49:01.794Z"
   },
   {
    "duration": 11,
    "start_time": "2021-11-11T07:49:01.823Z"
   },
   {
    "duration": 46,
    "start_time": "2021-11-11T07:49:01.836Z"
   },
   {
    "duration": 20,
    "start_time": "2021-11-11T07:49:01.884Z"
   },
   {
    "duration": 5,
    "start_time": "2021-11-11T07:49:01.906Z"
   },
   {
    "duration": 67,
    "start_time": "2021-11-11T07:49:01.913Z"
   },
   {
    "duration": 55,
    "start_time": "2021-11-11T07:49:01.982Z"
   },
   {
    "duration": 20,
    "start_time": "2021-11-11T07:49:02.039Z"
   },
   {
    "duration": 24,
    "start_time": "2021-11-11T07:49:02.061Z"
   },
   {
    "duration": 17,
    "start_time": "2021-11-11T07:49:02.087Z"
   },
   {
    "duration": 17,
    "start_time": "2021-11-11T07:49:02.106Z"
   },
   {
    "duration": 48,
    "start_time": "2021-11-11T07:49:02.125Z"
   },
   {
    "duration": 21,
    "start_time": "2021-11-11T07:49:02.175Z"
   },
   {
    "duration": 45,
    "start_time": "2021-11-11T07:49:02.198Z"
   },
   {
    "duration": 44,
    "start_time": "2021-11-11T07:49:02.245Z"
   },
   {
    "duration": 31,
    "start_time": "2021-11-11T07:49:02.291Z"
   },
   {
    "duration": 40,
    "start_time": "2021-11-11T07:49:02.323Z"
   },
   {
    "duration": 23,
    "start_time": "2021-11-11T07:49:02.365Z"
   },
   {
    "duration": 30,
    "start_time": "2021-11-11T07:49:02.394Z"
   },
   {
    "duration": 17,
    "start_time": "2021-11-11T07:49:02.427Z"
   },
   {
    "duration": 31,
    "start_time": "2021-11-11T07:49:02.446Z"
   },
   {
    "duration": 50,
    "start_time": "2021-11-11T07:49:02.480Z"
   },
   {
    "duration": 9,
    "start_time": "2021-11-11T07:49:02.532Z"
   },
   {
    "duration": 39,
    "start_time": "2021-11-11T07:49:02.543Z"
   },
   {
    "duration": 12,
    "start_time": "2021-11-11T07:49:02.584Z"
   },
   {
    "duration": 9,
    "start_time": "2021-11-11T07:49:02.598Z"
   },
   {
    "duration": 22,
    "start_time": "2021-11-11T07:49:02.608Z"
   },
   {
    "duration": 43,
    "start_time": "2021-11-11T07:49:02.632Z"
   },
   {
    "duration": 24,
    "start_time": "2021-11-11T07:50:09.390Z"
   },
   {
    "duration": 3,
    "start_time": "2021-11-11T07:54:56.285Z"
   },
   {
    "duration": 3,
    "start_time": "2021-11-11T07:55:10.046Z"
   },
   {
    "duration": 1130,
    "start_time": "2021-11-11T07:55:12.737Z"
   },
   {
    "duration": 1039,
    "start_time": "2021-11-11T07:55:23.943Z"
   },
   {
    "duration": 255,
    "start_time": "2021-11-11T07:57:01.708Z"
   },
   {
    "duration": 4,
    "start_time": "2021-11-11T07:57:05.281Z"
   },
   {
    "duration": 3,
    "start_time": "2021-11-11T07:57:05.708Z"
   },
   {
    "duration": 421,
    "start_time": "2021-11-11T07:57:06.109Z"
   },
   {
    "duration": 12,
    "start_time": "2021-11-11T07:57:11.689Z"
   },
   {
    "duration": 251,
    "start_time": "2021-11-11T08:07:10.505Z"
   },
   {
    "duration": 4,
    "start_time": "2021-11-11T08:07:17.726Z"
   },
   {
    "duration": 22,
    "start_time": "2021-11-11T08:07:46.615Z"
   },
   {
    "duration": 3,
    "start_time": "2021-11-11T08:16:03.781Z"
   },
   {
    "duration": 4,
    "start_time": "2021-11-11T08:16:13.215Z"
   },
   {
    "duration": 824,
    "start_time": "2021-11-11T08:16:13.221Z"
   },
   {
    "duration": 4,
    "start_time": "2021-11-11T08:16:14.047Z"
   },
   {
    "duration": 33,
    "start_time": "2021-11-11T08:16:14.053Z"
   },
   {
    "duration": 136,
    "start_time": "2021-11-11T08:16:14.089Z"
   },
   {
    "duration": 117,
    "start_time": "2021-11-11T08:16:14.227Z"
   },
   {
    "duration": 2183,
    "start_time": "2021-11-11T08:16:14.346Z"
   },
   {
    "duration": 4,
    "start_time": "2021-11-11T08:16:16.533Z"
   },
   {
    "duration": 34,
    "start_time": "2021-11-11T08:16:16.540Z"
   },
   {
    "duration": 49,
    "start_time": "2021-11-11T08:16:16.576Z"
   },
   {
    "duration": 14,
    "start_time": "2021-11-11T08:16:16.626Z"
   },
   {
    "duration": 32,
    "start_time": "2021-11-11T08:16:16.642Z"
   },
   {
    "duration": 35,
    "start_time": "2021-11-11T08:16:16.676Z"
   },
   {
    "duration": 10,
    "start_time": "2021-11-11T08:16:16.713Z"
   },
   {
    "duration": 11,
    "start_time": "2021-11-11T08:16:16.725Z"
   },
   {
    "duration": 15,
    "start_time": "2021-11-11T08:16:16.764Z"
   },
   {
    "duration": 18,
    "start_time": "2021-11-11T08:16:16.781Z"
   },
   {
    "duration": 9,
    "start_time": "2021-11-11T08:16:16.801Z"
   },
   {
    "duration": 22,
    "start_time": "2021-11-11T08:16:16.812Z"
   },
   {
    "duration": 19,
    "start_time": "2021-11-11T08:16:16.836Z"
   },
   {
    "duration": 21,
    "start_time": "2021-11-11T08:16:16.857Z"
   },
   {
    "duration": 11,
    "start_time": "2021-11-11T08:16:16.880Z"
   },
   {
    "duration": 54,
    "start_time": "2021-11-11T08:16:16.895Z"
   },
   {
    "duration": 34,
    "start_time": "2021-11-11T08:16:16.951Z"
   },
   {
    "duration": 2,
    "start_time": "2021-11-11T08:16:16.987Z"
   },
   {
    "duration": 62,
    "start_time": "2021-11-11T08:16:16.991Z"
   },
   {
    "duration": 8,
    "start_time": "2021-11-11T08:16:17.055Z"
   },
   {
    "duration": 15,
    "start_time": "2021-11-11T08:16:17.065Z"
   },
   {
    "duration": 49,
    "start_time": "2021-11-11T08:16:17.082Z"
   },
   {
    "duration": 25,
    "start_time": "2021-11-11T08:16:17.133Z"
   },
   {
    "duration": 30,
    "start_time": "2021-11-11T08:16:17.160Z"
   },
   {
    "duration": 28,
    "start_time": "2021-11-11T08:16:17.192Z"
   },
   {
    "duration": 11,
    "start_time": "2021-11-11T08:16:17.222Z"
   },
   {
    "duration": 35,
    "start_time": "2021-11-11T08:16:17.235Z"
   },
   {
    "duration": 26,
    "start_time": "2021-11-11T08:16:17.272Z"
   },
   {
    "duration": 39,
    "start_time": "2021-11-11T08:16:17.300Z"
   },
   {
    "duration": 29,
    "start_time": "2021-11-11T08:16:17.341Z"
   },
   {
    "duration": 22,
    "start_time": "2021-11-11T08:16:17.373Z"
   },
   {
    "duration": 60,
    "start_time": "2021-11-11T08:16:17.397Z"
   },
   {
    "duration": 19,
    "start_time": "2021-11-11T08:16:17.459Z"
   },
   {
    "duration": 4,
    "start_time": "2021-11-11T08:16:17.480Z"
   },
   {
    "duration": 53,
    "start_time": "2021-11-11T08:16:17.486Z"
   },
   {
    "duration": 53,
    "start_time": "2021-11-11T08:16:17.541Z"
   },
   {
    "duration": 27,
    "start_time": "2021-11-11T08:16:17.595Z"
   },
   {
    "duration": 27,
    "start_time": "2021-11-11T08:16:17.624Z"
   },
   {
    "duration": 9,
    "start_time": "2021-11-11T08:16:17.653Z"
   },
   {
    "duration": 15,
    "start_time": "2021-11-11T08:16:17.663Z"
   },
   {
    "duration": 38,
    "start_time": "2021-11-11T08:16:17.679Z"
   },
   {
    "duration": 21,
    "start_time": "2021-11-11T08:16:17.719Z"
   },
   {
    "duration": 29,
    "start_time": "2021-11-11T08:16:17.742Z"
   },
   {
    "duration": 46,
    "start_time": "2021-11-11T08:16:17.773Z"
   },
   {
    "duration": 31,
    "start_time": "2021-11-11T08:16:17.821Z"
   },
   {
    "duration": 34,
    "start_time": "2021-11-11T08:16:17.854Z"
   },
   {
    "duration": 23,
    "start_time": "2021-11-11T08:16:17.890Z"
   },
   {
    "duration": 26,
    "start_time": "2021-11-11T08:16:17.916Z"
   },
   {
    "duration": 19,
    "start_time": "2021-11-11T08:16:17.944Z"
   },
   {
    "duration": 34,
    "start_time": "2021-11-11T08:16:17.966Z"
   },
   {
    "duration": 42,
    "start_time": "2021-11-11T08:16:18.002Z"
   },
   {
    "duration": 8,
    "start_time": "2021-11-11T08:16:18.046Z"
   },
   {
    "duration": 45,
    "start_time": "2021-11-11T08:16:18.056Z"
   },
   {
    "duration": 10,
    "start_time": "2021-11-11T08:16:18.103Z"
   },
   {
    "duration": 5,
    "start_time": "2021-11-11T08:16:18.115Z"
   },
   {
    "duration": 31,
    "start_time": "2021-11-11T08:16:18.121Z"
   },
   {
    "duration": 37,
    "start_time": "2021-11-11T08:16:18.153Z"
   },
   {
    "duration": 3,
    "start_time": "2021-11-11T08:16:22.044Z"
   },
   {
    "duration": 22,
    "start_time": "2021-11-11T08:16:27.565Z"
   },
   {
    "duration": 3,
    "start_time": "2021-11-11T08:16:43.379Z"
   },
   {
    "duration": 3,
    "start_time": "2021-11-11T08:16:44.344Z"
   },
   {
    "duration": 441,
    "start_time": "2021-11-11T08:16:46.302Z"
   },
   {
    "duration": 13,
    "start_time": "2021-11-11T08:16:46.877Z"
   },
   {
    "duration": 11,
    "start_time": "2021-11-11T08:18:48.259Z"
   },
   {
    "duration": 11,
    "start_time": "2021-11-11T08:18:53.413Z"
   },
   {
    "duration": 30,
    "start_time": "2021-11-11T08:19:11.044Z"
   },
   {
    "duration": 11,
    "start_time": "2021-11-11T08:19:33.545Z"
   },
   {
    "duration": 25,
    "start_time": "2021-11-11T08:20:42.872Z"
   },
   {
    "duration": 16,
    "start_time": "2021-11-11T08:20:59.205Z"
   },
   {
    "duration": 19,
    "start_time": "2021-11-11T08:21:10.555Z"
   },
   {
    "duration": 251,
    "start_time": "2021-11-11T08:23:47.209Z"
   },
   {
    "duration": 248,
    "start_time": "2021-11-11T08:24:35.737Z"
   },
   {
    "duration": 259,
    "start_time": "2021-11-11T08:24:40.238Z"
   },
   {
    "duration": 296,
    "start_time": "2021-11-11T08:24:50.729Z"
   },
   {
    "duration": 4,
    "start_time": "2021-11-11T08:25:40.976Z"
   },
   {
    "duration": 4,
    "start_time": "2021-11-11T08:25:56.706Z"
   },
   {
    "duration": 29,
    "start_time": "2021-11-11T08:26:33.353Z"
   },
   {
    "duration": 245,
    "start_time": "2021-11-11T08:26:44.237Z"
   },
   {
    "duration": 20,
    "start_time": "2021-11-11T08:26:52.465Z"
   },
   {
    "duration": 12,
    "start_time": "2021-11-11T08:27:54.403Z"
   },
   {
    "duration": 41,
    "start_time": "2021-11-11T08:28:22.100Z"
   },
   {
    "duration": 16,
    "start_time": "2021-11-11T08:28:25.430Z"
   },
   {
    "duration": 17,
    "start_time": "2021-11-11T08:29:00.561Z"
   },
   {
    "duration": 4,
    "start_time": "2021-11-11T08:29:29.909Z"
   },
   {
    "duration": 989,
    "start_time": "2021-11-11T08:29:29.915Z"
   },
   {
    "duration": 3,
    "start_time": "2021-11-11T08:29:30.906Z"
   },
   {
    "duration": 45,
    "start_time": "2021-11-11T08:29:30.912Z"
   },
   {
    "duration": 142,
    "start_time": "2021-11-11T08:29:30.959Z"
   },
   {
    "duration": 115,
    "start_time": "2021-11-11T08:29:31.103Z"
   },
   {
    "duration": 2248,
    "start_time": "2021-11-11T08:29:31.220Z"
   },
   {
    "duration": 4,
    "start_time": "2021-11-11T08:29:33.470Z"
   },
   {
    "duration": 21,
    "start_time": "2021-11-11T08:29:33.476Z"
   },
   {
    "duration": 74,
    "start_time": "2021-11-11T08:29:33.499Z"
   },
   {
    "duration": 13,
    "start_time": "2021-11-11T08:29:33.574Z"
   },
   {
    "duration": 14,
    "start_time": "2021-11-11T08:29:33.589Z"
   },
   {
    "duration": 35,
    "start_time": "2021-11-11T08:29:33.604Z"
   },
   {
    "duration": 29,
    "start_time": "2021-11-11T08:29:33.642Z"
   },
   {
    "duration": 11,
    "start_time": "2021-11-11T08:29:33.673Z"
   },
   {
    "duration": 16,
    "start_time": "2021-11-11T08:29:33.686Z"
   },
   {
    "duration": 13,
    "start_time": "2021-11-11T08:29:33.704Z"
   },
   {
    "duration": 8,
    "start_time": "2021-11-11T08:29:33.719Z"
   },
   {
    "duration": 42,
    "start_time": "2021-11-11T08:29:33.729Z"
   },
   {
    "duration": 13,
    "start_time": "2021-11-11T08:29:33.774Z"
   },
   {
    "duration": 18,
    "start_time": "2021-11-11T08:29:33.789Z"
   },
   {
    "duration": 13,
    "start_time": "2021-11-11T08:29:33.809Z"
   },
   {
    "duration": 70,
    "start_time": "2021-11-11T08:29:33.826Z"
   },
   {
    "duration": 25,
    "start_time": "2021-11-11T08:29:33.899Z"
   },
   {
    "duration": 3,
    "start_time": "2021-11-11T08:29:33.926Z"
   },
   {
    "duration": 74,
    "start_time": "2021-11-11T08:29:33.931Z"
   },
   {
    "duration": 5,
    "start_time": "2021-11-11T08:29:34.006Z"
   },
   {
    "duration": 5,
    "start_time": "2021-11-11T08:29:34.012Z"
   },
   {
    "duration": 49,
    "start_time": "2021-11-11T08:29:34.019Z"
   },
   {
    "duration": 42,
    "start_time": "2021-11-11T08:29:34.071Z"
   },
   {
    "duration": 32,
    "start_time": "2021-11-11T08:29:34.115Z"
   },
   {
    "duration": 32,
    "start_time": "2021-11-11T08:29:34.150Z"
   },
   {
    "duration": 6,
    "start_time": "2021-11-11T08:29:34.184Z"
   },
   {
    "duration": 42,
    "start_time": "2021-11-11T08:29:34.192Z"
   },
   {
    "duration": 29,
    "start_time": "2021-11-11T08:29:34.235Z"
   },
   {
    "duration": 22,
    "start_time": "2021-11-11T08:29:34.267Z"
   },
   {
    "duration": 22,
    "start_time": "2021-11-11T08:29:34.291Z"
   },
   {
    "duration": 17,
    "start_time": "2021-11-11T08:29:34.316Z"
   },
   {
    "duration": 54,
    "start_time": "2021-11-11T08:29:34.335Z"
   },
   {
    "duration": 21,
    "start_time": "2021-11-11T08:29:34.391Z"
   },
   {
    "duration": 5,
    "start_time": "2021-11-11T08:29:34.414Z"
   },
   {
    "duration": 60,
    "start_time": "2021-11-11T08:29:34.421Z"
   },
   {
    "duration": 53,
    "start_time": "2021-11-11T08:29:34.483Z"
   },
   {
    "duration": 29,
    "start_time": "2021-11-11T08:29:34.539Z"
   },
   {
    "duration": 34,
    "start_time": "2021-11-11T08:29:34.571Z"
   },
   {
    "duration": 20,
    "start_time": "2021-11-11T08:29:34.608Z"
   },
   {
    "duration": 19,
    "start_time": "2021-11-11T08:29:34.630Z"
   },
   {
    "duration": 43,
    "start_time": "2021-11-11T08:29:34.651Z"
   },
   {
    "duration": 20,
    "start_time": "2021-11-11T08:29:34.696Z"
   },
   {
    "duration": 24,
    "start_time": "2021-11-11T08:29:34.717Z"
   },
   {
    "duration": 45,
    "start_time": "2021-11-11T08:29:34.743Z"
   },
   {
    "duration": 16,
    "start_time": "2021-11-11T08:29:34.790Z"
   },
   {
    "duration": 42,
    "start_time": "2021-11-11T08:29:34.808Z"
   },
   {
    "duration": 28,
    "start_time": "2021-11-11T08:29:34.852Z"
   },
   {
    "duration": 27,
    "start_time": "2021-11-11T08:29:34.882Z"
   },
   {
    "duration": 19,
    "start_time": "2021-11-11T08:29:34.911Z"
   },
   {
    "duration": 31,
    "start_time": "2021-11-11T08:29:34.931Z"
   },
   {
    "duration": 37,
    "start_time": "2021-11-11T08:29:34.963Z"
   },
   {
    "duration": 8,
    "start_time": "2021-11-11T08:29:35.002Z"
   },
   {
    "duration": 34,
    "start_time": "2021-11-11T08:29:35.011Z"
   },
   {
    "duration": 22,
    "start_time": "2021-11-11T08:29:35.047Z"
   },
   {
    "duration": 5,
    "start_time": "2021-11-11T08:29:35.071Z"
   },
   {
    "duration": 32,
    "start_time": "2021-11-11T08:29:35.078Z"
   },
   {
    "duration": 44,
    "start_time": "2021-11-11T08:29:35.111Z"
   },
   {
    "duration": 3,
    "start_time": "2021-11-11T08:29:35.157Z"
   },
   {
    "duration": 10,
    "start_time": "2021-11-11T08:29:35.162Z"
   },
   {
    "duration": 15,
    "start_time": "2021-11-11T08:29:35.174Z"
   },
   {
    "duration": 461,
    "start_time": "2021-11-11T08:29:35.194Z"
   },
   {
    "duration": 12,
    "start_time": "2021-11-11T08:29:38.259Z"
   },
   {
    "duration": 19,
    "start_time": "2021-11-11T08:29:38.575Z"
   },
   {
    "duration": 17,
    "start_time": "2021-11-11T08:29:41.760Z"
   },
   {
    "duration": 16,
    "start_time": "2021-11-11T08:29:46.471Z"
   },
   {
    "duration": 79,
    "start_time": "2021-11-11T08:30:32.813Z"
   },
   {
    "duration": 18,
    "start_time": "2021-11-11T08:30:41.618Z"
   },
   {
    "duration": 4,
    "start_time": "2021-11-11T08:36:25.131Z"
   },
   {
    "duration": 5,
    "start_time": "2021-11-11T08:36:42.633Z"
   },
   {
    "duration": 25,
    "start_time": "2021-11-11T09:07:18.284Z"
   },
   {
    "duration": 3,
    "start_time": "2021-11-11T09:07:58.862Z"
   },
   {
    "duration": 7,
    "start_time": "2021-11-11T09:08:47.557Z"
   },
   {
    "duration": 41,
    "start_time": "2021-11-11T09:09:05.864Z"
   },
   {
    "duration": 414,
    "start_time": "2021-11-11T09:12:33.620Z"
   },
   {
    "duration": 178,
    "start_time": "2021-11-11T09:13:18.085Z"
   },
   {
    "duration": 383,
    "start_time": "2021-11-11T09:13:32.990Z"
   },
   {
    "duration": 97,
    "start_time": "2021-11-11T09:13:44.381Z"
   },
   {
    "duration": 15,
    "start_time": "2021-11-11T09:30:27.416Z"
   },
   {
    "duration": 260,
    "start_time": "2021-11-11T09:50:49.575Z"
   },
   {
    "duration": 3,
    "start_time": "2021-11-11T09:51:48.292Z"
   },
   {
    "duration": 3,
    "start_time": "2021-11-11T09:51:55.474Z"
   },
   {
    "duration": 275,
    "start_time": "2021-11-11T09:52:03.324Z"
   },
   {
    "duration": 3,
    "start_time": "2021-11-11T09:53:01.637Z"
   },
   {
    "duration": 2,
    "start_time": "2021-11-11T09:53:07.295Z"
   },
   {
    "duration": 3,
    "start_time": "2021-11-11T10:01:51.436Z"
   },
   {
    "duration": 4,
    "start_time": "2021-11-11T10:02:09.587Z"
   },
   {
    "duration": 272,
    "start_time": "2021-11-11T10:06:26.843Z"
   },
   {
    "duration": 315411,
    "start_time": "2021-11-11T10:10:57.567Z"
   },
   {
    "duration": 5,
    "start_time": "2021-11-11T10:17:36.013Z"
   },
   {
    "duration": 5,
    "start_time": "2021-11-11T10:18:15.129Z"
   },
   {
    "duration": 5,
    "start_time": "2021-11-11T10:18:24.211Z"
   },
   {
    "duration": 4,
    "start_time": "2021-11-11T10:18:34.002Z"
   },
   {
    "duration": 255,
    "start_time": "2021-11-11T10:18:43.304Z"
   },
   {
    "duration": 254,
    "start_time": "2021-11-11T10:18:49.630Z"
   },
   {
    "duration": 259,
    "start_time": "2021-11-11T10:18:57.485Z"
   },
   {
    "duration": 260,
    "start_time": "2021-11-11T10:19:46.591Z"
   },
   {
    "duration": 244,
    "start_time": "2021-11-11T10:19:52.102Z"
   },
   {
    "duration": 4,
    "start_time": "2021-11-11T10:20:40.231Z"
   },
   {
    "duration": 4,
    "start_time": "2021-11-11T10:20:47.925Z"
   },
   {
    "duration": 3,
    "start_time": "2021-11-11T10:24:07.310Z"
   },
   {
    "duration": 246,
    "start_time": "2021-11-11T10:24:49.063Z"
   },
   {
    "duration": 4,
    "start_time": "2021-11-11T10:26:56.063Z"
   },
   {
    "duration": 527,
    "start_time": "2021-11-11T10:32:20.896Z"
   },
   {
    "duration": 87,
    "start_time": "2021-11-11T10:32:32.964Z"
   },
   {
    "duration": 221,
    "start_time": "2021-11-11T10:34:10.843Z"
   },
   {
    "duration": 209,
    "start_time": "2021-11-11T12:07:19.329Z"
   },
   {
    "duration": 989,
    "start_time": "2021-11-11T12:07:28.816Z"
   },
   {
    "duration": 746,
    "start_time": "2021-11-11T12:07:29.807Z"
   },
   {
    "duration": 3,
    "start_time": "2021-11-11T12:07:30.555Z"
   },
   {
    "duration": 43,
    "start_time": "2021-11-11T12:07:30.559Z"
   },
   {
    "duration": 127,
    "start_time": "2021-11-11T12:07:30.604Z"
   },
   {
    "duration": 107,
    "start_time": "2021-11-11T12:07:30.732Z"
   },
   {
    "duration": 1966,
    "start_time": "2021-11-11T12:07:30.840Z"
   },
   {
    "duration": 3,
    "start_time": "2021-11-11T12:07:32.808Z"
   },
   {
    "duration": 18,
    "start_time": "2021-11-11T12:07:32.813Z"
   },
   {
    "duration": 67,
    "start_time": "2021-11-11T12:07:32.833Z"
   },
   {
    "duration": 12,
    "start_time": "2021-11-11T12:07:32.901Z"
   },
   {
    "duration": 20,
    "start_time": "2021-11-11T12:07:32.914Z"
   },
   {
    "duration": 45,
    "start_time": "2021-11-11T12:07:32.935Z"
   },
   {
    "duration": 10,
    "start_time": "2021-11-11T12:07:32.982Z"
   },
   {
    "duration": 12,
    "start_time": "2021-11-11T12:07:32.993Z"
   },
   {
    "duration": 16,
    "start_time": "2021-11-11T12:07:33.006Z"
   },
   {
    "duration": 12,
    "start_time": "2021-11-11T12:07:33.024Z"
   },
   {
    "duration": 4,
    "start_time": "2021-11-11T12:07:33.037Z"
   },
   {
    "duration": 11,
    "start_time": "2021-11-11T12:07:33.042Z"
   },
   {
    "duration": 8,
    "start_time": "2021-11-11T12:07:33.055Z"
   },
   {
    "duration": 32,
    "start_time": "2021-11-11T12:07:33.065Z"
   },
   {
    "duration": 10,
    "start_time": "2021-11-11T12:07:33.099Z"
   },
   {
    "duration": 50,
    "start_time": "2021-11-11T12:07:33.113Z"
   },
   {
    "duration": 35,
    "start_time": "2021-11-11T12:07:33.166Z"
   },
   {
    "duration": 2,
    "start_time": "2021-11-11T12:07:33.202Z"
   },
   {
    "duration": 46,
    "start_time": "2021-11-11T12:07:33.206Z"
   },
   {
    "duration": 4,
    "start_time": "2021-11-11T12:07:33.254Z"
   },
   {
    "duration": 12,
    "start_time": "2021-11-11T12:07:33.259Z"
   },
   {
    "duration": 39,
    "start_time": "2021-11-11T12:07:33.272Z"
   },
   {
    "duration": 20,
    "start_time": "2021-11-11T12:07:33.312Z"
   },
   {
    "duration": 24,
    "start_time": "2021-11-11T12:07:33.334Z"
   },
   {
    "duration": 17,
    "start_time": "2021-11-11T12:07:33.360Z"
   },
   {
    "duration": 10,
    "start_time": "2021-11-11T12:07:33.378Z"
   },
   {
    "duration": 33,
    "start_time": "2021-11-11T12:07:33.389Z"
   },
   {
    "duration": 19,
    "start_time": "2021-11-11T12:07:33.424Z"
   },
   {
    "duration": 17,
    "start_time": "2021-11-11T12:07:33.444Z"
   },
   {
    "duration": 14,
    "start_time": "2021-11-11T12:07:33.463Z"
   },
   {
    "duration": 20,
    "start_time": "2021-11-11T12:07:33.479Z"
   },
   {
    "duration": 38,
    "start_time": "2021-11-11T12:07:33.501Z"
   },
   {
    "duration": 18,
    "start_time": "2021-11-11T12:07:33.540Z"
   },
   {
    "duration": 5,
    "start_time": "2021-11-11T12:07:33.559Z"
   },
   {
    "duration": 32,
    "start_time": "2021-11-11T12:07:33.592Z"
   },
   {
    "duration": 32,
    "start_time": "2021-11-11T12:07:33.626Z"
   },
   {
    "duration": 38,
    "start_time": "2021-11-11T12:07:33.660Z"
   },
   {
    "duration": 18,
    "start_time": "2021-11-11T12:07:33.699Z"
   },
   {
    "duration": 11,
    "start_time": "2021-11-11T12:07:33.719Z"
   },
   {
    "duration": 7,
    "start_time": "2021-11-11T12:07:33.732Z"
   },
   {
    "duration": 35,
    "start_time": "2021-11-11T12:07:33.740Z"
   },
   {
    "duration": 23,
    "start_time": "2021-11-11T12:07:33.777Z"
   },
   {
    "duration": 17,
    "start_time": "2021-11-11T12:07:33.802Z"
   },
   {
    "duration": 35,
    "start_time": "2021-11-11T12:07:33.820Z"
   },
   {
    "duration": 22,
    "start_time": "2021-11-11T12:07:33.857Z"
   },
   {
    "duration": 37,
    "start_time": "2021-11-11T12:07:33.880Z"
   },
   {
    "duration": 19,
    "start_time": "2021-11-11T12:07:33.919Z"
   },
   {
    "duration": 24,
    "start_time": "2021-11-11T12:07:33.940Z"
   },
   {
    "duration": 16,
    "start_time": "2021-11-11T12:07:33.965Z"
   },
   {
    "duration": 21,
    "start_time": "2021-11-11T12:07:33.982Z"
   },
   {
    "duration": 30,
    "start_time": "2021-11-11T12:07:34.004Z"
   },
   {
    "duration": 7,
    "start_time": "2021-11-11T12:07:34.036Z"
   },
   {
    "duration": 29,
    "start_time": "2021-11-11T12:07:34.044Z"
   },
   {
    "duration": 20,
    "start_time": "2021-11-11T12:07:34.075Z"
   },
   {
    "duration": 4,
    "start_time": "2021-11-11T12:07:34.097Z"
   },
   {
    "duration": 20,
    "start_time": "2021-11-11T12:07:34.102Z"
   },
   {
    "duration": 35,
    "start_time": "2021-11-11T12:07:34.123Z"
   },
   {
    "duration": 3,
    "start_time": "2021-11-11T12:07:34.159Z"
   },
   {
    "duration": 9,
    "start_time": "2021-11-11T12:07:34.164Z"
   },
   {
    "duration": 13,
    "start_time": "2021-11-11T12:07:34.174Z"
   },
   {
    "duration": 397,
    "start_time": "2021-11-11T12:07:34.194Z"
   },
   {
    "duration": 9,
    "start_time": "2021-11-11T12:07:34.593Z"
   },
   {
    "duration": 20,
    "start_time": "2021-11-11T12:07:34.604Z"
   },
   {
    "duration": 14,
    "start_time": "2021-11-11T12:07:34.626Z"
   },
   {
    "duration": 14,
    "start_time": "2021-11-11T12:07:34.641Z"
   },
   {
    "duration": 76,
    "start_time": "2021-11-11T12:07:34.656Z"
   },
   {
    "duration": 14,
    "start_time": "2021-11-11T12:07:34.734Z"
   },
   {
    "duration": 4,
    "start_time": "2021-11-11T12:07:34.750Z"
   },
   {
    "duration": 14,
    "start_time": "2021-11-11T12:07:34.755Z"
   },
   {
    "duration": 52,
    "start_time": "2021-11-11T12:07:34.771Z"
   },
   {
    "duration": 172,
    "start_time": "2021-11-11T12:07:34.824Z"
   },
   {
    "duration": 96,
    "start_time": "2021-11-11T12:07:34.999Z"
   },
   {
    "duration": 6,
    "start_time": "2021-11-11T12:07:35.097Z"
   },
   {
    "duration": 8,
    "start_time": "2021-11-11T12:07:35.105Z"
   },
   {
    "duration": 235,
    "start_time": "2021-11-11T12:07:48.390Z"
   },
   {
    "duration": 344292,
    "start_time": "2021-11-11T12:07:54.710Z"
   },
   {
    "duration": 2,
    "start_time": "2021-11-11T12:18:03.474Z"
   },
   {
    "duration": 3,
    "start_time": "2021-11-11T12:18:04.916Z"
   },
   {
    "duration": 1475,
    "start_time": "2021-11-11T18:08:44.494Z"
   },
   {
    "duration": 1198,
    "start_time": "2021-11-11T18:08:45.972Z"
   },
   {
    "duration": 4,
    "start_time": "2021-11-11T18:08:47.173Z"
   },
   {
    "duration": 67,
    "start_time": "2021-11-11T18:08:47.180Z"
   },
   {
    "duration": 172,
    "start_time": "2021-11-11T18:08:47.250Z"
   },
   {
    "duration": 135,
    "start_time": "2021-11-11T18:08:47.425Z"
   },
   {
    "duration": 3150,
    "start_time": "2021-11-11T18:08:47.563Z"
   },
   {
    "duration": 4,
    "start_time": "2021-11-11T18:08:50.724Z"
   },
   {
    "duration": 37,
    "start_time": "2021-11-11T18:08:50.731Z"
   },
   {
    "duration": 90,
    "start_time": "2021-11-11T18:08:50.771Z"
   },
   {
    "duration": 17,
    "start_time": "2021-11-11T18:08:50.863Z"
   },
   {
    "duration": 40,
    "start_time": "2021-11-11T18:08:50.883Z"
   },
   {
    "duration": 62,
    "start_time": "2021-11-11T18:08:50.926Z"
   },
   {
    "duration": 11,
    "start_time": "2021-11-11T18:08:50.990Z"
   },
   {
    "duration": 15,
    "start_time": "2021-11-11T18:08:51.022Z"
   },
   {
    "duration": 22,
    "start_time": "2021-11-11T18:08:51.039Z"
   },
   {
    "duration": 18,
    "start_time": "2021-11-11T18:08:51.063Z"
   },
   {
    "duration": 120,
    "start_time": "2021-11-11T18:08:51.083Z"
   },
   {
    "duration": 22,
    "start_time": "2021-11-11T18:08:51.206Z"
   },
   {
    "duration": 18,
    "start_time": "2021-11-11T18:08:51.231Z"
   },
   {
    "duration": 22,
    "start_time": "2021-11-11T18:08:51.251Z"
   },
   {
    "duration": 46,
    "start_time": "2021-11-11T18:08:51.276Z"
   },
   {
    "duration": 94,
    "start_time": "2021-11-11T18:08:51.328Z"
   },
   {
    "duration": 29,
    "start_time": "2021-11-11T18:08:51.426Z"
   },
   {
    "duration": 3,
    "start_time": "2021-11-11T18:08:51.457Z"
   },
   {
    "duration": 100,
    "start_time": "2021-11-11T18:08:51.463Z"
   },
   {
    "duration": 6,
    "start_time": "2021-11-11T18:08:51.565Z"
   },
   {
    "duration": 6,
    "start_time": "2021-11-11T18:08:51.573Z"
   },
   {
    "duration": 66,
    "start_time": "2021-11-11T18:08:51.581Z"
   },
   {
    "duration": 25,
    "start_time": "2021-11-11T18:08:51.650Z"
   },
   {
    "duration": 26,
    "start_time": "2021-11-11T18:08:51.677Z"
   },
   {
    "duration": 32,
    "start_time": "2021-11-11T18:08:51.705Z"
   },
   {
    "duration": 6,
    "start_time": "2021-11-11T18:08:51.739Z"
   },
   {
    "duration": 44,
    "start_time": "2021-11-11T18:08:51.748Z"
   },
   {
    "duration": 44,
    "start_time": "2021-11-11T18:08:51.795Z"
   },
   {
    "duration": 24,
    "start_time": "2021-11-11T18:08:51.842Z"
   },
   {
    "duration": 16,
    "start_time": "2021-11-11T18:08:51.869Z"
   },
   {
    "duration": 36,
    "start_time": "2021-11-11T18:08:51.888Z"
   },
   {
    "duration": 69,
    "start_time": "2021-11-11T18:08:51.927Z"
   },
   {
    "duration": 47,
    "start_time": "2021-11-11T18:08:51.999Z"
   },
   {
    "duration": 7,
    "start_time": "2021-11-11T18:08:52.049Z"
   },
   {
    "duration": 80,
    "start_time": "2021-11-11T18:08:52.059Z"
   },
   {
    "duration": 46,
    "start_time": "2021-11-11T18:08:52.141Z"
   },
   {
    "duration": 36,
    "start_time": "2021-11-11T18:08:52.189Z"
   },
   {
    "duration": 24,
    "start_time": "2021-11-11T18:08:52.228Z"
   },
   {
    "duration": 9,
    "start_time": "2021-11-11T18:08:52.255Z"
   },
   {
    "duration": 6,
    "start_time": "2021-11-11T18:08:52.267Z"
   },
   {
    "duration": 75,
    "start_time": "2021-11-11T18:08:52.275Z"
   },
   {
    "duration": 22,
    "start_time": "2021-11-11T18:08:52.353Z"
   },
   {
    "duration": 45,
    "start_time": "2021-11-11T18:08:52.378Z"
   },
   {
    "duration": 47,
    "start_time": "2021-11-11T18:08:52.426Z"
   },
   {
    "duration": 20,
    "start_time": "2021-11-11T18:08:52.476Z"
   },
   {
    "duration": 43,
    "start_time": "2021-11-11T18:08:52.523Z"
   },
   {
    "duration": 21,
    "start_time": "2021-11-11T18:08:52.568Z"
   },
   {
    "duration": 45,
    "start_time": "2021-11-11T18:08:52.592Z"
   },
   {
    "duration": 22,
    "start_time": "2021-11-11T18:08:52.640Z"
   },
   {
    "duration": 21,
    "start_time": "2021-11-11T18:08:52.665Z"
   },
   {
    "duration": 78,
    "start_time": "2021-11-11T18:08:52.688Z"
   },
   {
    "duration": 12,
    "start_time": "2021-11-11T18:08:52.769Z"
   },
   {
    "duration": 67,
    "start_time": "2021-11-11T18:08:52.783Z"
   },
   {
    "duration": 15,
    "start_time": "2021-11-11T18:08:52.853Z"
   },
   {
    "duration": 5,
    "start_time": "2021-11-11T18:08:52.870Z"
   },
   {
    "duration": 50,
    "start_time": "2021-11-11T18:08:52.877Z"
   },
   {
    "duration": 44,
    "start_time": "2021-11-11T18:08:52.930Z"
   },
   {
    "duration": 4,
    "start_time": "2021-11-11T18:08:52.976Z"
   },
   {
    "duration": 7,
    "start_time": "2021-11-11T18:08:52.982Z"
   },
   {
    "duration": 30,
    "start_time": "2021-11-11T18:08:52.992Z"
   },
   {
    "duration": 645,
    "start_time": "2021-11-11T18:08:53.031Z"
   },
   {
    "duration": 17,
    "start_time": "2021-11-11T18:08:53.679Z"
   },
   {
    "duration": 32,
    "start_time": "2021-11-11T18:08:53.698Z"
   },
   {
    "duration": 24,
    "start_time": "2021-11-11T18:08:53.732Z"
   },
   {
    "duration": 19,
    "start_time": "2021-11-11T18:08:53.759Z"
   },
   {
    "duration": 119,
    "start_time": "2021-11-11T18:08:53.780Z"
   },
   {
    "duration": 31,
    "start_time": "2021-11-11T18:08:53.901Z"
   },
   {
    "duration": 5,
    "start_time": "2021-11-11T18:08:53.934Z"
   },
   {
    "duration": 13,
    "start_time": "2021-11-11T18:08:53.941Z"
   },
   {
    "duration": 67,
    "start_time": "2021-11-11T18:08:53.956Z"
   },
   {
    "duration": 297,
    "start_time": "2021-11-11T18:08:54.026Z"
   },
   {
    "duration": 3,
    "start_time": "2021-11-11T18:08:54.326Z"
   },
   {
    "duration": 6,
    "start_time": "2021-11-11T18:08:54.331Z"
   },
   {
    "duration": 6,
    "start_time": "2021-11-11T18:08:54.339Z"
   },
   {
    "duration": 384687,
    "start_time": "2021-11-11T18:08:54.347Z"
   },
   {
    "duration": 4,
    "start_time": "2021-11-11T18:15:19.036Z"
   },
   {
    "duration": 4,
    "start_time": "2021-11-11T18:15:19.123Z"
   },
   {
    "duration": 144,
    "start_time": "2021-11-11T18:24:38.182Z"
   },
   {
    "duration": 9975,
    "start_time": "2021-11-11T18:24:57.055Z"
   },
   {
    "duration": 89,
    "start_time": "2021-11-11T18:25:07.034Z"
   },
   {
    "duration": 7,
    "start_time": "2021-11-11T18:25:07.126Z"
   },
   {
    "duration": 4,
    "start_time": "2021-11-11T18:25:17.664Z"
   },
   {
    "duration": 5,
    "start_time": "2021-11-11T18:25:51.135Z"
   },
   {
    "duration": 1229,
    "start_time": "2021-11-11T18:25:51.143Z"
   },
   {
    "duration": 3,
    "start_time": "2021-11-11T18:25:52.375Z"
   },
   {
    "duration": 56,
    "start_time": "2021-11-11T18:25:52.381Z"
   },
   {
    "duration": 171,
    "start_time": "2021-11-11T18:25:52.439Z"
   },
   {
    "duration": 130,
    "start_time": "2021-11-11T18:25:52.612Z"
   },
   {
    "duration": 5237,
    "start_time": "2021-11-11T18:25:52.746Z"
   },
   {
    "duration": 6,
    "start_time": "2021-11-11T18:25:57.988Z"
   },
   {
    "duration": 50,
    "start_time": "2021-11-11T18:25:57.997Z"
   },
   {
    "duration": 78,
    "start_time": "2021-11-11T18:25:58.049Z"
   },
   {
    "duration": 17,
    "start_time": "2021-11-11T18:25:58.130Z"
   },
   {
    "duration": 17,
    "start_time": "2021-11-11T18:25:58.150Z"
   },
   {
    "duration": 102,
    "start_time": "2021-11-11T18:25:58.169Z"
   },
   {
    "duration": 11,
    "start_time": "2021-11-11T18:25:58.274Z"
   },
   {
    "duration": 38,
    "start_time": "2021-11-11T18:25:58.288Z"
   },
   {
    "duration": 21,
    "start_time": "2021-11-11T18:25:58.329Z"
   },
   {
    "duration": 18,
    "start_time": "2021-11-11T18:25:58.353Z"
   },
   {
    "duration": 7,
    "start_time": "2021-11-11T18:25:58.374Z"
   },
   {
    "duration": 6,
    "start_time": "2021-11-11T18:25:58.424Z"
   },
   {
    "duration": 9,
    "start_time": "2021-11-11T18:25:58.433Z"
   },
   {
    "duration": 19,
    "start_time": "2021-11-11T18:25:58.444Z"
   },
   {
    "duration": 18,
    "start_time": "2021-11-11T18:25:58.464Z"
   },
   {
    "duration": 80,
    "start_time": "2021-11-11T18:25:58.524Z"
   },
   {
    "duration": 37,
    "start_time": "2021-11-11T18:25:58.608Z"
   },
   {
    "duration": 3,
    "start_time": "2021-11-11T18:25:58.648Z"
   },
   {
    "duration": 95,
    "start_time": "2021-11-11T18:25:58.654Z"
   },
   {
    "duration": 5,
    "start_time": "2021-11-11T18:25:58.752Z"
   },
   {
    "duration": 8,
    "start_time": "2021-11-11T18:25:58.759Z"
   },
   {
    "duration": 58,
    "start_time": "2021-11-11T18:25:58.769Z"
   },
   {
    "duration": 20,
    "start_time": "2021-11-11T18:25:58.830Z"
   },
   {
    "duration": 21,
    "start_time": "2021-11-11T18:25:58.852Z"
   },
   {
    "duration": 50,
    "start_time": "2021-11-11T18:25:58.876Z"
   },
   {
    "duration": 7,
    "start_time": "2021-11-11T18:25:58.928Z"
   },
   {
    "duration": 48,
    "start_time": "2021-11-11T18:25:58.937Z"
   },
   {
    "duration": 41,
    "start_time": "2021-11-11T18:25:58.987Z"
   },
   {
    "duration": 24,
    "start_time": "2021-11-11T18:25:59.031Z"
   },
   {
    "duration": 16,
    "start_time": "2021-11-11T18:25:59.057Z"
   },
   {
    "duration": 49,
    "start_time": "2021-11-11T18:25:59.076Z"
   },
   {
    "duration": 69,
    "start_time": "2021-11-11T18:25:59.128Z"
   },
   {
    "duration": 45,
    "start_time": "2021-11-11T18:25:59.199Z"
   },
   {
    "duration": 8,
    "start_time": "2021-11-11T18:25:59.247Z"
   },
   {
    "duration": 77,
    "start_time": "2021-11-11T18:25:59.258Z"
   },
   {
    "duration": 53,
    "start_time": "2021-11-11T18:25:59.337Z"
   },
   {
    "duration": 36,
    "start_time": "2021-11-11T18:25:59.393Z"
   },
   {
    "duration": 21,
    "start_time": "2021-11-11T18:25:59.432Z"
   },
   {
    "duration": 8,
    "start_time": "2021-11-11T18:25:59.455Z"
   },
   {
    "duration": 7,
    "start_time": "2021-11-11T18:25:59.465Z"
   },
   {
    "duration": 82,
    "start_time": "2021-11-11T18:25:59.474Z"
   },
   {
    "duration": 22,
    "start_time": "2021-11-11T18:25:59.559Z"
   },
   {
    "duration": 21,
    "start_time": "2021-11-11T18:25:59.583Z"
   },
   {
    "duration": 47,
    "start_time": "2021-11-11T18:25:59.623Z"
   },
   {
    "duration": 22,
    "start_time": "2021-11-11T18:25:59.673Z"
   },
   {
    "duration": 65,
    "start_time": "2021-11-11T18:25:59.698Z"
   },
   {
    "duration": 23,
    "start_time": "2021-11-11T18:25:59.765Z"
   },
   {
    "duration": 39,
    "start_time": "2021-11-11T18:25:59.791Z"
   },
   {
    "duration": 22,
    "start_time": "2021-11-11T18:25:59.833Z"
   },
   {
    "duration": 22,
    "start_time": "2021-11-11T18:25:59.858Z"
   },
   {
    "duration": 74,
    "start_time": "2021-11-11T18:25:59.883Z"
   },
   {
    "duration": 13,
    "start_time": "2021-11-11T18:25:59.960Z"
   },
   {
    "duration": 71,
    "start_time": "2021-11-11T18:25:59.975Z"
   },
   {
    "duration": 13,
    "start_time": "2021-11-11T18:26:00.048Z"
   },
   {
    "duration": 6,
    "start_time": "2021-11-11T18:26:00.063Z"
   },
   {
    "duration": 53,
    "start_time": "2021-11-11T18:26:00.071Z"
   },
   {
    "duration": 40,
    "start_time": "2021-11-11T18:26:00.127Z"
   },
   {
    "duration": 4,
    "start_time": "2021-11-11T18:26:00.170Z"
   },
   {
    "duration": 9,
    "start_time": "2021-11-11T18:26:00.176Z"
   },
   {
    "duration": 16,
    "start_time": "2021-11-11T18:26:00.188Z"
   },
   {
    "duration": 681,
    "start_time": "2021-11-11T18:26:00.224Z"
   },
   {
    "duration": 17,
    "start_time": "2021-11-11T18:26:00.908Z"
   },
   {
    "duration": 60,
    "start_time": "2021-11-11T18:26:00.927Z"
   },
   {
    "duration": 31,
    "start_time": "2021-11-11T18:26:00.989Z"
   },
   {
    "duration": 31,
    "start_time": "2021-11-11T18:26:01.022Z"
   },
   {
    "duration": 106,
    "start_time": "2021-11-11T18:26:01.056Z"
   },
   {
    "duration": 24,
    "start_time": "2021-11-11T18:26:01.165Z"
   },
   {
    "duration": 33,
    "start_time": "2021-11-11T18:26:01.192Z"
   },
   {
    "duration": 31,
    "start_time": "2021-11-11T18:26:01.228Z"
   },
   {
    "duration": 70,
    "start_time": "2021-11-11T18:26:01.261Z"
   },
   {
    "duration": 203,
    "start_time": "2021-11-11T18:26:01.333Z"
   },
   {
    "duration": 8,
    "start_time": "2021-11-11T18:26:01.624Z"
   },
   {
    "duration": 87,
    "start_time": "2021-11-11T18:26:01.636Z"
   },
   {
    "duration": 34,
    "start_time": "2021-11-11T18:26:01.726Z"
   },
   {
    "duration": 21,
    "start_time": "2021-11-11T18:26:01.762Z"
   },
   {
    "duration": 637507,
    "start_time": "2021-11-11T18:26:03.815Z"
   },
   {
    "duration": 3,
    "start_time": "2021-11-11T18:36:58.762Z"
   },
   {
    "duration": 5,
    "start_time": "2021-11-11T18:37:01.635Z"
   },
   {
    "duration": 3,
    "start_time": "2021-11-11T18:41:32.801Z"
   },
   {
    "duration": 3,
    "start_time": "2021-11-11T18:41:34.682Z"
   },
   {
    "duration": 62923,
    "start_time": "2021-11-11T18:41:36.001Z"
   },
   {
    "duration": 3,
    "start_time": "2021-11-11T18:42:58.658Z"
   },
   {
    "duration": 4,
    "start_time": "2021-11-11T18:43:05.771Z"
   },
   {
    "duration": 4,
    "start_time": "2021-11-11T18:44:05.370Z"
   },
   {
    "duration": 10466,
    "start_time": "2021-11-11T18:44:23.961Z"
   },
   {
    "duration": 1001,
    "start_time": "2021-11-11T18:44:57.721Z"
   },
   {
    "duration": 5,
    "start_time": "2021-11-11T18:45:17.337Z"
   },
   {
    "duration": 7,
    "start_time": "2021-11-11T18:45:21.689Z"
   },
   {
    "duration": 420,
    "start_time": "2021-11-11T19:32:05.547Z"
   },
   {
    "duration": 5,
    "start_time": "2021-11-11T19:32:10.423Z"
   },
   {
    "duration": 12202,
    "start_time": "2021-11-11T19:32:10.431Z"
   },
   {
    "duration": 1010,
    "start_time": "2021-11-11T19:32:22.635Z"
   },
   {
    "duration": 4,
    "start_time": "2021-11-11T19:32:23.648Z"
   },
   {
    "duration": 71,
    "start_time": "2021-11-11T19:32:23.655Z"
   },
   {
    "duration": 3,
    "start_time": "2021-11-11T19:33:02.186Z"
   },
   {
    "duration": 11684,
    "start_time": "2021-11-11T19:33:02.345Z"
   },
   {
    "duration": 6,
    "start_time": "2021-11-11T19:33:14.032Z"
   },
   {
    "duration": 9,
    "start_time": "2021-11-11T19:33:14.041Z"
   },
   {
    "duration": 88,
    "start_time": "2021-11-11T20:36:51.901Z"
   },
   {
    "duration": 96,
    "start_time": "2021-11-11T20:38:03.684Z"
   },
   {
    "duration": 523,
    "start_time": "2021-11-11T20:38:24.780Z"
   },
   {
    "duration": 533,
    "start_time": "2021-11-11T20:38:54.972Z"
   },
   {
    "duration": 554,
    "start_time": "2021-11-11T20:39:03.163Z"
   },
   {
    "duration": 92,
    "start_time": "2021-11-11T20:39:22.531Z"
   },
   {
    "duration": 462,
    "start_time": "2021-11-11T20:39:28.323Z"
   },
   {
    "duration": 4,
    "start_time": "2021-11-11T20:39:43.098Z"
   },
   {
    "duration": 4,
    "start_time": "2021-11-11T20:41:22.626Z"
   },
   {
    "duration": 11349,
    "start_time": "2021-11-11T20:41:22.874Z"
   },
   {
    "duration": 4,
    "start_time": "2021-11-11T20:41:34.225Z"
   },
   {
    "duration": 6,
    "start_time": "2021-11-11T20:41:34.232Z"
   },
   {
    "duration": 6,
    "start_time": "2021-11-11T20:42:45.090Z"
   },
   {
    "duration": 3,
    "start_time": "2021-11-11T20:44:22.538Z"
   },
   {
    "duration": 3,
    "start_time": "2021-11-11T20:44:36.474Z"
   },
   {
    "duration": 34246,
    "start_time": "2021-11-11T20:46:24.386Z"
   },
   {
    "duration": 4,
    "start_time": "2021-11-11T20:50:12.833Z"
   },
   {
    "duration": 4,
    "start_time": "2021-11-11T20:50:16.272Z"
   },
   {
    "duration": 4,
    "start_time": "2021-11-11T20:50:16.808Z"
   },
   {
    "duration": 4,
    "start_time": "2021-11-11T20:50:17.328Z"
   },
   {
    "duration": 1854,
    "start_time": "2021-11-11T20:50:18.175Z"
   },
   {
    "duration": 1992,
    "start_time": "2021-11-11T20:51:42.032Z"
   },
   {
    "duration": 1824,
    "start_time": "2021-11-11T20:52:53.407Z"
   },
   {
    "duration": 5,
    "start_time": "2021-11-11T20:55:33.334Z"
   },
   {
    "duration": 4,
    "start_time": "2021-11-11T20:55:33.526Z"
   },
   {
    "duration": 4,
    "start_time": "2021-11-11T20:55:33.693Z"
   },
   {
    "duration": 4,
    "start_time": "2021-11-11T20:55:33.877Z"
   },
   {
    "duration": 2178,
    "start_time": "2021-11-11T20:55:34.333Z"
   },
   {
    "duration": 1820,
    "start_time": "2021-11-11T20:55:44.303Z"
   },
   {
    "duration": 3,
    "start_time": "2021-11-11T20:58:06.199Z"
   },
   {
    "duration": 4,
    "start_time": "2021-11-11T20:59:30.373Z"
   },
   {
    "duration": 5,
    "start_time": "2021-11-11T20:59:30.972Z"
   },
   {
    "duration": 4,
    "start_time": "2021-11-11T20:59:32.324Z"
   },
   {
    "duration": 4,
    "start_time": "2021-11-11T20:59:32.644Z"
   },
   {
    "duration": 563,
    "start_time": "2021-11-11T20:59:44.445Z"
   },
   {
    "duration": 5,
    "start_time": "2021-11-11T21:00:07.316Z"
   },
   {
    "duration": 5,
    "start_time": "2021-11-11T21:00:07.621Z"
   },
   {
    "duration": 4,
    "start_time": "2021-11-11T21:00:08.589Z"
   },
   {
    "duration": 4,
    "start_time": "2021-11-11T21:00:08.884Z"
   },
   {
    "duration": 3550,
    "start_time": "2021-11-11T21:00:10.380Z"
   },
   {
    "duration": 91,
    "start_time": "2021-11-11T22:00:56.617Z"
   },
   {
    "duration": 5,
    "start_time": "2021-11-11T22:01:00.414Z"
   },
   {
    "duration": 5,
    "start_time": "2021-11-11T22:01:07.672Z"
   },
   {
    "duration": 4,
    "start_time": "2021-11-11T22:01:07.905Z"
   },
   {
    "duration": 4,
    "start_time": "2021-11-11T22:01:08.073Z"
   },
   {
    "duration": 30775,
    "start_time": "2021-11-11T22:01:08.264Z"
   },
   {
    "duration": 5,
    "start_time": "2021-11-11T22:02:30.113Z"
   },
   {
    "duration": 33168,
    "start_time": "2021-11-11T22:02:44.570Z"
   },
   {
    "duration": 5,
    "start_time": "2021-11-11T22:04:44.207Z"
   },
   {
    "duration": 4,
    "start_time": "2021-11-11T22:04:44.527Z"
   },
   {
    "duration": 4,
    "start_time": "2021-11-11T22:04:45.575Z"
   },
   {
    "duration": 3,
    "start_time": "2021-11-11T22:04:45.745Z"
   },
   {
    "duration": 100895,
    "start_time": "2021-11-11T22:04:45.927Z"
   },
   {
    "duration": 5,
    "start_time": "2021-11-11T22:08:00.327Z"
   },
   {
    "duration": 4,
    "start_time": "2021-11-11T22:08:00.479Z"
   },
   {
    "duration": 5,
    "start_time": "2021-11-11T22:08:00.662Z"
   },
   {
    "duration": 4,
    "start_time": "2021-11-11T22:08:00.823Z"
   },
   {
    "duration": 244556,
    "start_time": "2021-11-11T22:08:00.983Z"
   },
   {
    "duration": 518,
    "start_time": "2021-11-11T22:13:00.382Z"
   },
   {
    "duration": 275,
    "start_time": "2021-11-11T22:13:40.366Z"
   },
   {
    "duration": 5,
    "start_time": "2021-11-11T22:13:44.069Z"
   },
   {
    "duration": 606,
    "start_time": "2021-11-11T22:13:47.413Z"
   },
   {
    "duration": 218,
    "start_time": "2021-11-11T22:14:25.734Z"
   },
   {
    "duration": 4,
    "start_time": "2021-11-11T22:17:00.269Z"
   },
   {
    "duration": 5,
    "start_time": "2021-11-11T22:17:01.411Z"
   },
   {
    "duration": 7,
    "start_time": "2021-11-11T22:17:02.484Z"
   },
   {
    "duration": 4,
    "start_time": "2021-11-11T22:17:02.724Z"
   },
   {
    "duration": 29094,
    "start_time": "2021-11-11T22:17:24.740Z"
   },
   {
    "duration": 5,
    "start_time": "2021-11-11T22:18:35.468Z"
   },
   {
    "duration": 4,
    "start_time": "2021-11-11T22:18:35.636Z"
   },
   {
    "duration": 4,
    "start_time": "2021-11-11T22:18:35.810Z"
   },
   {
    "duration": 142225,
    "start_time": "2021-11-11T22:18:36.420Z"
   },
   {
    "duration": 4,
    "start_time": "2021-11-11T22:25:33.306Z"
   },
   {
    "duration": 5,
    "start_time": "2021-11-11T22:25:35.081Z"
   },
   {
    "duration": 585,
    "start_time": "2021-11-11T22:25:36.041Z"
   },
   {
    "duration": 594,
    "start_time": "2021-11-11T22:25:56.609Z"
   },
   {
    "duration": 5,
    "start_time": "2021-11-11T22:26:01.817Z"
   },
   {
    "duration": 4,
    "start_time": "2021-11-11T22:26:02.203Z"
   },
   {
    "duration": 7,
    "start_time": "2021-11-11T22:26:02.721Z"
   },
   {
    "duration": 607,
    "start_time": "2021-11-11T22:26:05.441Z"
   },
   {
    "duration": 5,
    "start_time": "2021-11-11T22:26:30.777Z"
   },
   {
    "duration": 5,
    "start_time": "2021-11-11T22:26:31.393Z"
   },
   {
    "duration": 3,
    "start_time": "2021-11-11T22:26:32.433Z"
   },
   {
    "duration": 539,
    "start_time": "2021-11-11T22:26:33.329Z"
   },
   {
    "duration": 56248,
    "start_time": "2021-11-11T22:30:41.680Z"
   },
   {
    "duration": 4,
    "start_time": "2021-11-11T22:33:13.071Z"
   },
   {
    "duration": 4,
    "start_time": "2021-11-11T22:33:13.519Z"
   },
   {
    "duration": 4,
    "start_time": "2021-11-11T22:33:14.006Z"
   },
   {
    "duration": 48244,
    "start_time": "2021-11-11T22:33:14.479Z"
   },
   {
    "duration": 4,
    "start_time": "2021-11-11T23:41:28.645Z"
   },
   {
    "duration": 20328,
    "start_time": "2021-11-11T23:41:32.904Z"
   },
   {
    "duration": 5,
    "start_time": "2021-11-11T23:42:10.305Z"
   },
   {
    "duration": 5,
    "start_time": "2021-11-11T23:42:11.224Z"
   },
   {
    "duration": 3,
    "start_time": "2021-11-11T23:42:28.033Z"
   },
   {
    "duration": 29832,
    "start_time": "2021-11-11T23:42:39.407Z"
   },
   {
    "duration": 5,
    "start_time": "2021-11-11T23:43:13.280Z"
   },
   {
    "duration": 6,
    "start_time": "2021-11-11T23:43:13.727Z"
   },
   {
    "duration": 4,
    "start_time": "2021-11-11T23:44:41.143Z"
   },
   {
    "duration": 4,
    "start_time": "2021-11-11T23:44:43.318Z"
   },
   {
    "duration": 34958,
    "start_time": "2021-11-11T23:44:43.695Z"
   },
   {
    "duration": 5,
    "start_time": "2021-11-11T23:45:18.656Z"
   },
   {
    "duration": 5,
    "start_time": "2021-11-11T23:45:18.724Z"
   },
   {
    "duration": 5,
    "start_time": "2021-11-11T23:55:43.348Z"
   },
   {
    "duration": 5,
    "start_time": "2021-11-11T23:55:44.547Z"
   },
   {
    "duration": 4,
    "start_time": "2021-11-11T23:55:44.794Z"
   },
   {
    "duration": 457618,
    "start_time": "2021-11-11T23:55:45.107Z"
   },
   {
    "duration": 4,
    "start_time": "2021-11-12T00:09:30.303Z"
   },
   {
    "duration": 59773,
    "start_time": "2021-11-12T00:09:31.479Z"
   },
   {
    "duration": 5,
    "start_time": "2021-11-12T00:10:31.255Z"
   },
   {
    "duration": 6,
    "start_time": "2021-11-12T00:10:31.325Z"
   },
   {
    "duration": 5,
    "start_time": "2021-11-12T00:11:41.598Z"
   },
   {
    "duration": 69970,
    "start_time": "2021-11-12T00:11:41.862Z"
   },
   {
    "duration": 4,
    "start_time": "2021-11-12T00:12:51.835Z"
   },
   {
    "duration": 8,
    "start_time": "2021-11-12T00:12:51.842Z"
   },
   {
    "duration": 5,
    "start_time": "2021-11-12T00:13:44.166Z"
   },
   {
    "duration": 72669,
    "start_time": "2021-11-12T00:13:47.782Z"
   },
   {
    "duration": 4,
    "start_time": "2021-11-12T00:15:00.454Z"
   },
   {
    "duration": 68,
    "start_time": "2021-11-12T00:15:00.461Z"
   },
   {
    "duration": 5,
    "start_time": "2021-11-12T00:22:31.379Z"
   },
   {
    "duration": 39015,
    "start_time": "2021-11-12T00:22:31.611Z"
   },
   {
    "duration": 4,
    "start_time": "2021-11-12T00:23:10.629Z"
   },
   {
    "duration": 20,
    "start_time": "2021-11-12T00:23:10.636Z"
   },
   {
    "duration": 3,
    "start_time": "2021-11-12T00:28:18.033Z"
   },
   {
    "duration": 69791,
    "start_time": "2021-11-12T00:28:18.433Z"
   },
   {
    "duration": 5,
    "start_time": "2021-11-12T00:29:28.227Z"
   },
   {
    "duration": 15,
    "start_time": "2021-11-12T00:29:28.235Z"
   },
   {
    "duration": 4,
    "start_time": "2021-11-12T00:37:47.318Z"
   },
   {
    "duration": 41590,
    "start_time": "2021-11-12T00:37:47.533Z"
   },
   {
    "duration": 6,
    "start_time": "2021-11-12T00:38:29.127Z"
   },
   {
    "duration": 7,
    "start_time": "2021-11-12T00:38:29.137Z"
   },
   {
    "duration": 6,
    "start_time": "2021-11-12T00:38:29.147Z"
   },
   {
    "duration": 56385,
    "start_time": "2021-11-12T00:38:29.155Z"
   },
   {
    "duration": 4,
    "start_time": "2021-11-12T00:39:25.543Z"
   },
   {
    "duration": 16,
    "start_time": "2021-11-12T00:39:25.550Z"
   },
   {
    "duration": 3,
    "start_time": "2021-11-12T00:39:25.570Z"
   },
   {
    "duration": 65472,
    "start_time": "2021-11-12T00:39:25.576Z"
   },
   {
    "duration": 7,
    "start_time": "2021-11-12T00:40:31.051Z"
   },
   {
    "duration": 26,
    "start_time": "2021-11-12T00:40:31.061Z"
   },
   {
    "duration": 3,
    "start_time": "2021-11-12T00:40:52.166Z"
   },
   {
    "duration": 72453,
    "start_time": "2021-11-12T00:40:52.373Z"
   },
   {
    "duration": 5,
    "start_time": "2021-11-12T00:42:04.829Z"
   },
   {
    "duration": 19,
    "start_time": "2021-11-12T00:42:04.837Z"
   },
   {
    "duration": 7,
    "start_time": "2021-11-12T00:42:04.859Z"
   },
   {
    "duration": 72382,
    "start_time": "2021-11-12T00:42:04.868Z"
   },
   {
    "duration": 5,
    "start_time": "2021-11-12T00:43:17.252Z"
   },
   {
    "duration": 6,
    "start_time": "2021-11-12T00:43:17.323Z"
   },
   {
    "duration": 4,
    "start_time": "2021-11-12T00:51:08.459Z"
   },
   {
    "duration": 291,
    "start_time": "2021-11-12T01:05:29.685Z"
   },
   {
    "duration": 5,
    "start_time": "2021-11-12T01:05:57.652Z"
   },
   {
    "duration": 6,
    "start_time": "2021-11-12T01:05:59.150Z"
   },
   {
    "duration": 10,
    "start_time": "2021-11-12T01:06:06.230Z"
   },
   {
    "duration": 5,
    "start_time": "2021-11-12T01:28:02.773Z"
   },
   {
    "duration": 6,
    "start_time": "2021-11-12T01:28:03.260Z"
   },
   {
    "duration": 11,
    "start_time": "2021-11-12T01:28:03.675Z"
   },
   {
    "duration": 4,
    "start_time": "2021-11-12T01:30:14.597Z"
   },
   {
    "duration": 6,
    "start_time": "2021-11-12T01:30:15.011Z"
   },
   {
    "duration": 10,
    "start_time": "2021-11-12T01:30:15.589Z"
   },
   {
    "duration": 5,
    "start_time": "2021-11-12T01:32:01.315Z"
   },
   {
    "duration": 6,
    "start_time": "2021-11-12T01:32:02.706Z"
   },
   {
    "duration": 11,
    "start_time": "2021-11-12T01:32:03.035Z"
   },
   {
    "duration": 286,
    "start_time": "2021-11-12T01:37:21.162Z"
   },
   {
    "duration": 5,
    "start_time": "2021-11-12T01:37:21.601Z"
   },
   {
    "duration": 5,
    "start_time": "2021-11-12T01:38:01.010Z"
   },
   {
    "duration": 1137,
    "start_time": "2021-11-12T01:38:01.018Z"
   },
   {
    "duration": 4,
    "start_time": "2021-11-12T01:38:02.158Z"
   },
   {
    "duration": 57,
    "start_time": "2021-11-12T01:38:02.165Z"
   },
   {
    "duration": 161,
    "start_time": "2021-11-12T01:38:02.225Z"
   },
   {
    "duration": 133,
    "start_time": "2021-11-12T01:38:02.389Z"
   },
   {
    "duration": 3251,
    "start_time": "2021-11-12T01:38:02.524Z"
   },
   {
    "duration": 4,
    "start_time": "2021-11-12T01:38:05.779Z"
   },
   {
    "duration": 40,
    "start_time": "2021-11-12T01:38:05.786Z"
   },
   {
    "duration": 70,
    "start_time": "2021-11-12T01:38:05.829Z"
   },
   {
    "duration": 29,
    "start_time": "2021-11-12T01:38:05.901Z"
   },
   {
    "duration": 17,
    "start_time": "2021-11-12T01:38:05.932Z"
   },
   {
    "duration": 78,
    "start_time": "2021-11-12T01:38:05.951Z"
   },
   {
    "duration": 10,
    "start_time": "2021-11-12T01:38:06.032Z"
   },
   {
    "duration": 15,
    "start_time": "2021-11-12T01:38:06.045Z"
   },
   {
    "duration": 23,
    "start_time": "2021-11-12T01:38:06.062Z"
   },
   {
    "duration": 47,
    "start_time": "2021-11-12T01:38:06.087Z"
   },
   {
    "duration": 10,
    "start_time": "2021-11-12T01:38:06.136Z"
   },
   {
    "duration": 13,
    "start_time": "2021-11-12T01:38:06.148Z"
   },
   {
    "duration": 13,
    "start_time": "2021-11-12T01:38:06.163Z"
   },
   {
    "duration": 50,
    "start_time": "2021-11-12T01:38:06.178Z"
   },
   {
    "duration": 18,
    "start_time": "2021-11-12T01:38:06.230Z"
   },
   {
    "duration": 104,
    "start_time": "2021-11-12T01:38:06.254Z"
   },
   {
    "duration": 31,
    "start_time": "2021-11-12T01:38:06.362Z"
   },
   {
    "duration": 4,
    "start_time": "2021-11-12T01:38:06.395Z"
   },
   {
    "duration": 91,
    "start_time": "2021-11-12T01:38:06.401Z"
   },
   {
    "duration": 6,
    "start_time": "2021-11-12T01:38:06.495Z"
   },
   {
    "duration": 3,
    "start_time": "2021-11-12T01:38:06.523Z"
   },
   {
    "duration": 47,
    "start_time": "2021-11-12T01:38:06.529Z"
   },
   {
    "duration": 21,
    "start_time": "2021-11-12T01:38:06.579Z"
   },
   {
    "duration": 21,
    "start_time": "2021-11-12T01:38:06.623Z"
   },
   {
    "duration": 23,
    "start_time": "2021-11-12T01:38:06.646Z"
   },
   {
    "duration": 5,
    "start_time": "2021-11-12T01:38:06.672Z"
   },
   {
    "duration": 68,
    "start_time": "2021-11-12T01:38:06.680Z"
   },
   {
    "duration": 18,
    "start_time": "2021-11-12T01:38:06.751Z"
   },
   {
    "duration": 20,
    "start_time": "2021-11-12T01:38:06.772Z"
   },
   {
    "duration": 36,
    "start_time": "2021-11-12T01:38:06.794Z"
   },
   {
    "duration": 10,
    "start_time": "2021-11-12T01:38:06.833Z"
   },
   {
    "duration": 99,
    "start_time": "2021-11-12T01:38:06.845Z"
   },
   {
    "duration": 25,
    "start_time": "2021-11-12T01:38:06.947Z"
   },
   {
    "duration": 7,
    "start_time": "2021-11-12T01:38:06.975Z"
   },
   {
    "duration": 71,
    "start_time": "2021-11-12T01:38:06.984Z"
   },
   {
    "duration": 42,
    "start_time": "2021-11-12T01:38:07.058Z"
   },
   {
    "duration": 31,
    "start_time": "2021-11-12T01:38:07.103Z"
   },
   {
    "duration": 24,
    "start_time": "2021-11-12T01:38:07.136Z"
   },
   {
    "duration": 9,
    "start_time": "2021-11-12T01:38:07.163Z"
   },
   {
    "duration": 9,
    "start_time": "2021-11-12T01:38:07.174Z"
   },
   {
    "duration": 78,
    "start_time": "2021-11-12T01:38:07.186Z"
   },
   {
    "duration": 22,
    "start_time": "2021-11-12T01:38:07.267Z"
   },
   {
    "duration": 49,
    "start_time": "2021-11-12T01:38:07.292Z"
   },
   {
    "duration": 45,
    "start_time": "2021-11-12T01:38:07.344Z"
   },
   {
    "duration": 38,
    "start_time": "2021-11-12T01:38:07.392Z"
   },
   {
    "duration": 42,
    "start_time": "2021-11-12T01:38:07.433Z"
   },
   {
    "duration": 45,
    "start_time": "2021-11-12T01:38:07.478Z"
   },
   {
    "duration": 16,
    "start_time": "2021-11-12T01:38:07.525Z"
   },
   {
    "duration": 22,
    "start_time": "2021-11-12T01:38:07.543Z"
   },
   {
    "duration": 21,
    "start_time": "2021-11-12T01:38:07.567Z"
   },
   {
    "duration": 78,
    "start_time": "2021-11-12T01:38:07.590Z"
   },
   {
    "duration": 12,
    "start_time": "2021-11-12T01:38:07.670Z"
   },
   {
    "duration": 75,
    "start_time": "2021-11-12T01:38:07.684Z"
   },
   {
    "duration": 12,
    "start_time": "2021-11-12T01:38:07.761Z"
   },
   {
    "duration": 6,
    "start_time": "2021-11-12T01:38:07.775Z"
   },
   {
    "duration": 46,
    "start_time": "2021-11-12T01:38:07.783Z"
   },
   {
    "duration": 44,
    "start_time": "2021-11-12T01:38:07.831Z"
   },
   {
    "duration": 4,
    "start_time": "2021-11-12T01:38:07.878Z"
   },
   {
    "duration": 7,
    "start_time": "2021-11-12T01:38:07.884Z"
   },
   {
    "duration": 7,
    "start_time": "2021-11-12T01:38:07.893Z"
   },
   {
    "duration": 644,
    "start_time": "2021-11-12T01:38:07.930Z"
   },
   {
    "duration": 17,
    "start_time": "2021-11-12T01:38:08.577Z"
   },
   {
    "duration": 33,
    "start_time": "2021-11-12T01:38:08.597Z"
   },
   {
    "duration": 23,
    "start_time": "2021-11-12T01:38:08.632Z"
   },
   {
    "duration": 21,
    "start_time": "2021-11-12T01:38:08.657Z"
   },
   {
    "duration": 120,
    "start_time": "2021-11-12T01:38:08.680Z"
   },
   {
    "duration": 29,
    "start_time": "2021-11-12T01:38:08.803Z"
   },
   {
    "duration": 5,
    "start_time": "2021-11-12T01:38:08.835Z"
   },
   {
    "duration": 9,
    "start_time": "2021-11-12T01:38:08.843Z"
   },
   {
    "duration": 78,
    "start_time": "2021-11-12T01:38:08.854Z"
   },
   {
    "duration": 192,
    "start_time": "2021-11-12T01:38:08.935Z"
   },
   {
    "duration": 93,
    "start_time": "2021-11-12T01:38:09.131Z"
   },
   {
    "duration": 8,
    "start_time": "2021-11-12T01:38:09.227Z"
   },
   {
    "duration": 10,
    "start_time": "2021-11-12T01:38:09.238Z"
   },
   {
    "duration": 346584,
    "start_time": "2021-11-12T01:38:09.250Z"
   },
   {
    "duration": 4,
    "start_time": "2021-11-12T01:43:55.836Z"
   },
   {
    "duration": 79,
    "start_time": "2021-11-12T01:43:55.843Z"
   },
   {
    "duration": 7,
    "start_time": "2021-11-12T01:43:55.925Z"
   },
   {
    "duration": 57498,
    "start_time": "2021-11-12T01:43:55.934Z"
   },
   {
    "duration": 3,
    "start_time": "2021-11-12T01:44:53.434Z"
   },
   {
    "duration": 11,
    "start_time": "2021-11-12T01:44:53.439Z"
   },
   {
    "duration": 6,
    "start_time": "2021-11-12T01:44:53.452Z"
   },
   {
    "duration": 10366,
    "start_time": "2021-11-12T01:44:53.460Z"
   },
   {
    "duration": 5,
    "start_time": "2021-11-12T01:45:03.829Z"
   },
   {
    "duration": 12,
    "start_time": "2021-11-12T01:45:03.837Z"
   },
   {
    "duration": 9,
    "start_time": "2021-11-12T01:45:03.852Z"
   },
   {
    "duration": 7,
    "start_time": "2021-11-12T01:45:03.864Z"
   },
   {
    "duration": 53,
    "start_time": "2021-11-12T01:45:03.874Z"
   },
   {
    "duration": 413835,
    "start_time": "2021-11-12T01:45:03.930Z"
   },
   {
    "duration": 62,
    "start_time": "2021-11-12T01:51:57.768Z"
   },
   {
    "duration": 14,
    "start_time": "2021-11-12T01:51:57.833Z"
   },
   {
    "duration": 22,
    "start_time": "2021-11-12T01:51:57.850Z"
   },
   {
    "duration": 129366,
    "start_time": "2021-11-12T01:51:57.876Z"
   },
   {
    "duration": 4,
    "start_time": "2021-11-12T01:54:07.245Z"
   },
   {
    "duration": 7,
    "start_time": "2021-11-12T01:54:07.251Z"
   },
   {
    "duration": 11,
    "start_time": "2021-11-12T01:54:07.260Z"
   },
   {
    "duration": 58007,
    "start_time": "2021-11-12T01:54:07.322Z"
   },
   {
    "duration": 4,
    "start_time": "2021-11-12T01:55:05.331Z"
   },
   {
    "duration": 18,
    "start_time": "2021-11-12T01:55:05.337Z"
   },
   {
    "duration": 7,
    "start_time": "2021-11-12T01:55:05.357Z"
   },
   {
    "duration": 49861,
    "start_time": "2021-11-12T01:55:05.367Z"
   },
   {
    "duration": 3,
    "start_time": "2021-11-12T01:55:55.231Z"
   },
   {
    "duration": 41494,
    "start_time": "2021-11-12T01:55:55.237Z"
   },
   {
    "duration": 5,
    "start_time": "2021-11-12T01:56:36.734Z"
   },
   {
    "duration": 82,
    "start_time": "2021-11-12T01:56:36.742Z"
   },
   {
    "duration": 6,
    "start_time": "2021-11-12T01:56:36.827Z"
   },
   {
    "duration": 57922,
    "start_time": "2021-11-12T01:56:36.835Z"
   },
   {
    "duration": 62,
    "start_time": "2021-11-12T01:57:34.760Z"
   },
   {
    "duration": 7,
    "start_time": "2021-11-12T01:57:34.826Z"
   },
   {
    "duration": 7,
    "start_time": "2021-11-12T01:57:34.836Z"
   },
   {
    "duration": 66517,
    "start_time": "2021-11-12T01:57:34.846Z"
   },
   {
    "duration": 57,
    "start_time": "2021-11-12T01:58:41.365Z"
   },
   {
    "duration": 16,
    "start_time": "2021-11-12T01:58:41.426Z"
   },
   {
    "duration": 14,
    "start_time": "2021-11-12T01:58:41.445Z"
   },
   {
    "duration": 68199,
    "start_time": "2021-11-12T01:58:41.462Z"
   },
   {
    "duration": 5,
    "start_time": "2021-11-12T01:59:49.663Z"
   },
   {
    "duration": 8,
    "start_time": "2021-11-12T01:59:49.671Z"
   },
   {
    "duration": 45,
    "start_time": "2021-11-12T01:59:49.682Z"
   },
   {
    "duration": 71212,
    "start_time": "2021-11-12T01:59:49.729Z"
   },
   {
    "duration": 6,
    "start_time": "2021-11-12T02:01:00.944Z"
   },
   {
    "duration": 16,
    "start_time": "2021-11-12T02:01:00.953Z"
   },
   {
    "duration": 50,
    "start_time": "2021-11-12T02:01:00.972Z"
   },
   {
    "duration": 13,
    "start_time": "2021-11-12T02:01:01.025Z"
   },
   {
    "duration": 32,
    "start_time": "2021-11-12T02:01:01.040Z"
   },
   {
    "duration": 1554,
    "start_time": "2021-11-12T02:45:39.687Z"
   },
   {
    "duration": 1107,
    "start_time": "2021-11-12T02:45:41.243Z"
   },
   {
    "duration": 3,
    "start_time": "2021-11-12T02:45:42.353Z"
   },
   {
    "duration": 42,
    "start_time": "2021-11-12T02:45:42.359Z"
   },
   {
    "duration": 168,
    "start_time": "2021-11-12T02:45:42.423Z"
   },
   {
    "duration": 128,
    "start_time": "2021-11-12T02:45:42.593Z"
   },
   {
    "duration": 3076,
    "start_time": "2021-11-12T02:45:42.724Z"
   },
   {
    "duration": 3,
    "start_time": "2021-11-12T02:45:45.804Z"
   },
   {
    "duration": 34,
    "start_time": "2021-11-12T02:45:45.810Z"
   },
   {
    "duration": 101,
    "start_time": "2021-11-12T02:45:45.847Z"
   },
   {
    "duration": 25,
    "start_time": "2021-11-12T02:45:45.951Z"
   },
   {
    "duration": 17,
    "start_time": "2021-11-12T02:45:45.979Z"
   },
   {
    "duration": 81,
    "start_time": "2021-11-12T02:45:45.999Z"
   },
   {
    "duration": 11,
    "start_time": "2021-11-12T02:45:46.082Z"
   },
   {
    "duration": 35,
    "start_time": "2021-11-12T02:45:46.095Z"
   },
   {
    "duration": 21,
    "start_time": "2021-11-12T02:45:46.132Z"
   },
   {
    "duration": 19,
    "start_time": "2021-11-12T02:45:46.156Z"
   },
   {
    "duration": 6,
    "start_time": "2021-11-12T02:45:46.177Z"
   },
   {
    "duration": 37,
    "start_time": "2021-11-12T02:45:46.185Z"
   },
   {
    "duration": 15,
    "start_time": "2021-11-12T02:45:46.225Z"
   },
   {
    "duration": 18,
    "start_time": "2021-11-12T02:45:46.242Z"
   },
   {
    "duration": 17,
    "start_time": "2021-11-12T02:45:46.262Z"
   },
   {
    "duration": 111,
    "start_time": "2021-11-12T02:45:46.285Z"
   },
   {
    "duration": 41,
    "start_time": "2021-11-12T02:45:46.400Z"
   },
   {
    "duration": 3,
    "start_time": "2021-11-12T02:45:46.444Z"
   },
   {
    "duration": 92,
    "start_time": "2021-11-12T02:45:46.449Z"
   },
   {
    "duration": 6,
    "start_time": "2021-11-12T02:45:46.543Z"
   },
   {
    "duration": 5,
    "start_time": "2021-11-12T02:45:46.551Z"
   },
   {
    "duration": 66,
    "start_time": "2021-11-12T02:45:46.558Z"
   },
   {
    "duration": 19,
    "start_time": "2021-11-12T02:45:46.627Z"
   },
   {
    "duration": 21,
    "start_time": "2021-11-12T02:45:46.649Z"
   },
   {
    "duration": 24,
    "start_time": "2021-11-12T02:45:46.672Z"
   },
   {
    "duration": 6,
    "start_time": "2021-11-12T02:45:46.722Z"
   },
   {
    "duration": 41,
    "start_time": "2021-11-12T02:45:46.730Z"
   },
   {
    "duration": 19,
    "start_time": "2021-11-12T02:45:46.773Z"
   },
   {
    "duration": 20,
    "start_time": "2021-11-12T02:45:46.823Z"
   },
   {
    "duration": 18,
    "start_time": "2021-11-12T02:45:46.846Z"
   },
   {
    "duration": 10,
    "start_time": "2021-11-12T02:45:46.866Z"
   },
   {
    "duration": 97,
    "start_time": "2021-11-12T02:45:46.879Z"
   },
   {
    "duration": 23,
    "start_time": "2021-11-12T02:45:46.979Z"
   },
   {
    "duration": 18,
    "start_time": "2021-11-12T02:45:47.004Z"
   },
   {
    "duration": 43,
    "start_time": "2021-11-12T02:45:47.025Z"
   },
   {
    "duration": 65,
    "start_time": "2021-11-12T02:45:47.070Z"
   },
   {
    "duration": 20,
    "start_time": "2021-11-12T02:45:47.138Z"
   },
   {
    "duration": 19,
    "start_time": "2021-11-12T02:45:47.161Z"
   },
   {
    "duration": 10,
    "start_time": "2021-11-12T02:45:47.182Z"
   },
   {
    "duration": 31,
    "start_time": "2021-11-12T02:45:47.195Z"
   },
   {
    "duration": 42,
    "start_time": "2021-11-12T02:45:47.229Z"
   },
   {
    "duration": 48,
    "start_time": "2021-11-12T02:45:47.274Z"
   },
   {
    "duration": 20,
    "start_time": "2021-11-12T02:45:47.324Z"
   },
   {
    "duration": 48,
    "start_time": "2021-11-12T02:45:47.347Z"
   },
   {
    "duration": 36,
    "start_time": "2021-11-12T02:45:47.398Z"
   },
   {
    "duration": 41,
    "start_time": "2021-11-12T02:45:47.436Z"
   },
   {
    "duration": 45,
    "start_time": "2021-11-12T02:45:47.480Z"
   },
   {
    "duration": 15,
    "start_time": "2021-11-12T02:45:47.527Z"
   },
   {
    "duration": 22,
    "start_time": "2021-11-12T02:45:47.544Z"
   },
   {
    "duration": 23,
    "start_time": "2021-11-12T02:45:47.568Z"
   },
   {
    "duration": 73,
    "start_time": "2021-11-12T02:45:47.594Z"
   },
   {
    "duration": 12,
    "start_time": "2021-11-12T02:45:47.670Z"
   },
   {
    "duration": 75,
    "start_time": "2021-11-12T02:45:47.684Z"
   },
   {
    "duration": 15,
    "start_time": "2021-11-12T02:45:47.761Z"
   },
   {
    "duration": 6,
    "start_time": "2021-11-12T02:45:47.778Z"
   },
   {
    "duration": 49,
    "start_time": "2021-11-12T02:45:47.786Z"
   },
   {
    "duration": 42,
    "start_time": "2021-11-12T02:45:47.838Z"
   },
   {
    "duration": 4,
    "start_time": "2021-11-12T02:45:47.882Z"
   },
   {
    "duration": 6,
    "start_time": "2021-11-12T02:45:47.888Z"
   },
   {
    "duration": 28,
    "start_time": "2021-11-12T02:45:47.897Z"
   },
   {
    "duration": 650,
    "start_time": "2021-11-12T02:45:47.935Z"
   },
   {
    "duration": 17,
    "start_time": "2021-11-12T02:45:48.589Z"
   },
   {
    "duration": 25,
    "start_time": "2021-11-12T02:45:48.608Z"
   },
   {
    "duration": 24,
    "start_time": "2021-11-12T02:45:48.635Z"
   },
   {
    "duration": 21,
    "start_time": "2021-11-12T02:45:48.661Z"
   },
   {
    "duration": 112,
    "start_time": "2021-11-12T02:45:48.685Z"
   },
   {
    "duration": 34,
    "start_time": "2021-11-12T02:45:48.800Z"
   },
   {
    "duration": 6,
    "start_time": "2021-11-12T02:45:48.836Z"
   },
   {
    "duration": 10,
    "start_time": "2021-11-12T02:45:48.844Z"
   },
   {
    "duration": 76,
    "start_time": "2021-11-12T02:45:48.856Z"
   },
   {
    "duration": 193,
    "start_time": "2021-11-12T02:45:48.935Z"
   },
   {
    "duration": 95,
    "start_time": "2021-11-12T02:45:49.131Z"
   },
   {
    "duration": 6,
    "start_time": "2021-11-12T02:45:49.229Z"
   },
   {
    "duration": 5,
    "start_time": "2021-11-12T02:45:49.237Z"
   },
   {
    "duration": 346279,
    "start_time": "2021-11-12T02:45:49.245Z"
   },
   {
    "duration": 4,
    "start_time": "2021-11-12T02:51:35.527Z"
   },
   {
    "duration": 10,
    "start_time": "2021-11-12T02:51:35.533Z"
   },
   {
    "duration": 6,
    "start_time": "2021-11-12T02:51:35.545Z"
   },
   {
    "duration": 58384,
    "start_time": "2021-11-12T02:51:35.554Z"
   },
   {
    "duration": 3,
    "start_time": "2021-11-12T02:52:33.941Z"
   },
   {
    "duration": 78,
    "start_time": "2021-11-12T02:52:33.947Z"
   },
   {
    "duration": 5,
    "start_time": "2021-11-12T02:52:34.027Z"
   },
   {
    "duration": 10204,
    "start_time": "2021-11-12T02:52:34.035Z"
   },
   {
    "duration": 6,
    "start_time": "2021-11-12T02:52:44.242Z"
   },
   {
    "duration": 76,
    "start_time": "2021-11-12T02:52:44.251Z"
   },
   {
    "duration": 7,
    "start_time": "2021-11-12T02:52:44.330Z"
   },
   {
    "duration": 7,
    "start_time": "2021-11-12T02:52:44.340Z"
   },
   {
    "duration": 6,
    "start_time": "2021-11-12T02:52:44.350Z"
   },
   {
    "duration": 10875,
    "start_time": "2021-11-12T02:52:44.359Z"
   },
   {
    "duration": -141,
    "start_time": "2021-11-12T02:52:55.377Z"
   },
   {
    "duration": -143,
    "start_time": "2021-11-12T02:52:55.381Z"
   },
   {
    "duration": -147,
    "start_time": "2021-11-12T02:52:55.386Z"
   },
   {
    "duration": -149,
    "start_time": "2021-11-12T02:52:55.390Z"
   },
   {
    "duration": -151,
    "start_time": "2021-11-12T02:52:55.394Z"
   },
   {
    "duration": -153,
    "start_time": "2021-11-12T02:52:55.397Z"
   },
   {
    "duration": -160,
    "start_time": "2021-11-12T02:52:55.405Z"
   },
   {
    "duration": -162,
    "start_time": "2021-11-12T02:52:55.409Z"
   },
   {
    "duration": -164,
    "start_time": "2021-11-12T02:52:55.412Z"
   },
   {
    "duration": -167,
    "start_time": "2021-11-12T02:52:55.416Z"
   },
   {
    "duration": -169,
    "start_time": "2021-11-12T02:52:55.420Z"
   },
   {
    "duration": -172,
    "start_time": "2021-11-12T02:52:55.424Z"
   },
   {
    "duration": -174,
    "start_time": "2021-11-12T02:52:55.428Z"
   },
   {
    "duration": -176,
    "start_time": "2021-11-12T02:52:55.431Z"
   },
   {
    "duration": -179,
    "start_time": "2021-11-12T02:52:55.436Z"
   },
   {
    "duration": -183,
    "start_time": "2021-11-12T02:52:55.441Z"
   },
   {
    "duration": -185,
    "start_time": "2021-11-12T02:52:55.445Z"
   },
   {
    "duration": -188,
    "start_time": "2021-11-12T02:52:55.449Z"
   },
   {
    "duration": -190,
    "start_time": "2021-11-12T02:52:55.453Z"
   },
   {
    "duration": -192,
    "start_time": "2021-11-12T02:52:55.456Z"
   },
   {
    "duration": -195,
    "start_time": "2021-11-12T02:52:55.461Z"
   },
   {
    "duration": -197,
    "start_time": "2021-11-12T02:52:55.464Z"
   },
   {
    "duration": -199,
    "start_time": "2021-11-12T02:52:55.468Z"
   },
   {
    "duration": -202,
    "start_time": "2021-11-12T02:52:55.472Z"
   },
   {
    "duration": -205,
    "start_time": "2021-11-12T02:52:55.477Z"
   },
   {
    "duration": -208,
    "start_time": "2021-11-12T02:52:55.481Z"
   },
   {
    "duration": -163,
    "start_time": "2021-11-12T02:52:55.485Z"
   },
   {
    "duration": -164,
    "start_time": "2021-11-12T02:52:55.488Z"
   },
   {
    "duration": -167,
    "start_time": "2021-11-12T02:52:55.492Z"
   },
   {
    "duration": -169,
    "start_time": "2021-11-12T02:52:55.496Z"
   },
   {
    "duration": -171,
    "start_time": "2021-11-12T02:52:55.499Z"
   },
   {
    "duration": -174,
    "start_time": "2021-11-12T02:52:55.503Z"
   },
   {
    "duration": -176,
    "start_time": "2021-11-12T02:52:55.506Z"
   },
   {
    "duration": -178,
    "start_time": "2021-11-12T02:52:55.509Z"
   },
   {
    "duration": -181,
    "start_time": "2021-11-12T02:52:55.513Z"
   },
   {
    "duration": 5,
    "start_time": "2021-11-12T03:00:08.570Z"
   },
   {
    "duration": 5,
    "start_time": "2021-11-12T03:00:08.868Z"
   },
   {
    "duration": 4,
    "start_time": "2021-11-12T03:00:10.514Z"
   },
   {
    "duration": 406526,
    "start_time": "2021-11-12T03:00:10.520Z"
   },
   {
    "duration": 1542,
    "start_time": "2021-11-12T03:07:53.995Z"
   },
   {
    "duration": 1102,
    "start_time": "2021-11-12T03:07:55.540Z"
   },
   {
    "duration": 3,
    "start_time": "2021-11-12T03:07:56.645Z"
   },
   {
    "duration": 54,
    "start_time": "2021-11-12T03:07:56.651Z"
   },
   {
    "duration": 175,
    "start_time": "2021-11-12T03:07:56.708Z"
   },
   {
    "duration": 136,
    "start_time": "2021-11-12T03:07:56.886Z"
   },
   {
    "duration": 3166,
    "start_time": "2021-11-12T03:07:57.024Z"
   },
   {
    "duration": 3,
    "start_time": "2021-11-12T03:08:00.194Z"
   },
   {
    "duration": 40,
    "start_time": "2021-11-12T03:08:00.200Z"
   },
   {
    "duration": 99,
    "start_time": "2021-11-12T03:08:00.242Z"
   },
   {
    "duration": 25,
    "start_time": "2021-11-12T03:08:00.344Z"
   },
   {
    "duration": 21,
    "start_time": "2021-11-12T03:08:00.372Z"
   },
   {
    "duration": 81,
    "start_time": "2021-11-12T03:08:00.396Z"
   },
   {
    "duration": 10,
    "start_time": "2021-11-12T03:08:00.479Z"
   },
   {
    "duration": 38,
    "start_time": "2021-11-12T03:08:00.492Z"
   },
   {
    "duration": 22,
    "start_time": "2021-11-12T03:08:00.532Z"
   },
   {
    "duration": 19,
    "start_time": "2021-11-12T03:08:00.556Z"
   },
   {
    "duration": 7,
    "start_time": "2021-11-12T03:08:00.577Z"
   },
   {
    "duration": 39,
    "start_time": "2021-11-12T03:08:00.586Z"
   },
   {
    "duration": 16,
    "start_time": "2021-11-12T03:08:00.627Z"
   },
   {
    "duration": 19,
    "start_time": "2021-11-12T03:08:00.645Z"
   },
   {
    "duration": 17,
    "start_time": "2021-11-12T03:08:00.666Z"
   },
   {
    "duration": 108,
    "start_time": "2021-11-12T03:08:00.689Z"
   },
   {
    "duration": 44,
    "start_time": "2021-11-12T03:08:00.800Z"
   },
   {
    "duration": 3,
    "start_time": "2021-11-12T03:08:00.846Z"
   },
   {
    "duration": 90,
    "start_time": "2021-11-12T03:08:00.851Z"
   },
   {
    "duration": 6,
    "start_time": "2021-11-12T03:08:00.944Z"
   },
   {
    "duration": 46,
    "start_time": "2021-11-12T03:08:00.952Z"
   },
   {
    "duration": 20,
    "start_time": "2021-11-12T03:08:01.022Z"
   },
   {
    "duration": 38,
    "start_time": "2021-11-12T03:08:01.045Z"
   },
   {
    "duration": 34,
    "start_time": "2021-11-12T03:08:01.086Z"
   },
   {
    "duration": 19,
    "start_time": "2021-11-12T03:08:01.123Z"
   },
   {
    "duration": 55,
    "start_time": "2021-11-12T03:08:01.145Z"
   },
   {
    "duration": 31,
    "start_time": "2021-11-12T03:08:01.203Z"
   },
   {
    "duration": 29,
    "start_time": "2021-11-12T03:08:01.237Z"
   },
   {
    "duration": 29,
    "start_time": "2021-11-12T03:08:01.268Z"
   },
   {
    "duration": 11,
    "start_time": "2021-11-12T03:08:01.300Z"
   },
   {
    "duration": 76,
    "start_time": "2021-11-12T03:08:01.313Z"
   },
   {
    "duration": 41,
    "start_time": "2021-11-12T03:08:01.391Z"
   },
   {
    "duration": 6,
    "start_time": "2021-11-12T03:08:01.434Z"
   },
   {
    "duration": 58,
    "start_time": "2021-11-12T03:08:01.443Z"
   },
   {
    "duration": 54,
    "start_time": "2021-11-12T03:08:01.504Z"
   },
   {
    "duration": 31,
    "start_time": "2021-11-12T03:08:01.561Z"
   },
   {
    "duration": 44,
    "start_time": "2021-11-12T03:08:01.595Z"
   },
   {
    "duration": 17,
    "start_time": "2021-11-12T03:08:01.642Z"
   },
   {
    "duration": 16,
    "start_time": "2021-11-12T03:08:01.661Z"
   },
   {
    "duration": 54,
    "start_time": "2021-11-12T03:08:01.679Z"
   },
   {
    "duration": 27,
    "start_time": "2021-11-12T03:08:01.735Z"
   },
   {
    "duration": 25,
    "start_time": "2021-11-12T03:08:01.764Z"
   },
   {
    "duration": 58,
    "start_time": "2021-11-12T03:08:01.791Z"
   },
   {
    "duration": 24,
    "start_time": "2021-11-12T03:08:01.851Z"
   },
   {
    "duration": 55,
    "start_time": "2021-11-12T03:08:01.878Z"
   },
   {
    "duration": 36,
    "start_time": "2021-11-12T03:08:01.935Z"
   },
   {
    "duration": 25,
    "start_time": "2021-11-12T03:08:01.974Z"
   },
   {
    "duration": 31,
    "start_time": "2021-11-12T03:08:02.001Z"
   },
   {
    "duration": 31,
    "start_time": "2021-11-12T03:08:02.035Z"
   },
   {
    "duration": 59,
    "start_time": "2021-11-12T03:08:02.068Z"
   },
   {
    "duration": 12,
    "start_time": "2021-11-12T03:08:02.130Z"
   },
   {
    "duration": 49,
    "start_time": "2021-11-12T03:08:02.145Z"
   },
   {
    "duration": 31,
    "start_time": "2021-11-12T03:08:02.196Z"
   },
   {
    "duration": 7,
    "start_time": "2021-11-12T03:08:02.229Z"
   },
   {
    "duration": 37,
    "start_time": "2021-11-12T03:08:02.238Z"
   },
   {
    "duration": 61,
    "start_time": "2021-11-12T03:08:02.277Z"
   },
   {
    "duration": 3,
    "start_time": "2021-11-12T03:08:02.341Z"
   },
   {
    "duration": 17,
    "start_time": "2021-11-12T03:08:02.347Z"
   },
   {
    "duration": 8,
    "start_time": "2021-11-12T03:08:02.367Z"
   },
   {
    "duration": 783,
    "start_time": "2021-11-12T03:08:02.377Z"
   },
   {
    "duration": 20,
    "start_time": "2021-11-12T03:08:03.174Z"
   },
   {
    "duration": 37,
    "start_time": "2021-11-12T03:08:03.199Z"
   },
   {
    "duration": 34,
    "start_time": "2021-11-12T03:08:03.239Z"
   },
   {
    "duration": 49,
    "start_time": "2021-11-12T03:08:03.275Z"
   },
   {
    "duration": 81,
    "start_time": "2021-11-12T03:08:03.327Z"
   },
   {
    "duration": 22,
    "start_time": "2021-11-12T03:08:03.422Z"
   },
   {
    "duration": 6,
    "start_time": "2021-11-12T03:08:03.446Z"
   },
   {
    "duration": 10,
    "start_time": "2021-11-12T03:08:03.455Z"
   },
   {
    "duration": 85,
    "start_time": "2021-11-12T03:08:03.467Z"
   },
   {
    "duration": 176,
    "start_time": "2021-11-12T03:08:03.555Z"
   },
   {
    "duration": 5,
    "start_time": "2021-11-12T03:08:03.823Z"
   },
   {
    "duration": 6,
    "start_time": "2021-11-12T03:08:03.831Z"
   },
   {
    "duration": 11,
    "start_time": "2021-11-12T03:08:03.839Z"
   },
   {
    "duration": 351571,
    "start_time": "2021-11-12T03:08:03.853Z"
   },
   {
    "duration": 4,
    "start_time": "2021-11-12T03:13:55.428Z"
   },
   {
    "duration": 9,
    "start_time": "2021-11-12T03:13:55.435Z"
   },
   {
    "duration": 8,
    "start_time": "2021-11-12T03:13:55.446Z"
   },
   {
    "duration": 58668,
    "start_time": "2021-11-12T03:13:55.456Z"
   },
   {
    "duration": 4,
    "start_time": "2021-11-12T03:14:54.126Z"
   },
   {
    "duration": 9,
    "start_time": "2021-11-12T03:14:54.133Z"
   },
   {
    "duration": 10,
    "start_time": "2021-11-12T03:14:54.145Z"
   },
   {
    "duration": 10577,
    "start_time": "2021-11-12T03:14:54.157Z"
   },
   {
    "duration": 5,
    "start_time": "2021-11-12T03:15:04.736Z"
   },
   {
    "duration": 10,
    "start_time": "2021-11-12T03:15:04.743Z"
   },
   {
    "duration": 75,
    "start_time": "2021-11-12T03:15:04.755Z"
   },
   {
    "duration": 13,
    "start_time": "2021-11-12T03:15:04.833Z"
   },
   {
    "duration": 8,
    "start_time": "2021-11-12T03:15:04.849Z"
   },
   {
    "duration": 414182,
    "start_time": "2021-11-12T03:15:04.859Z"
   },
   {
    "duration": 4,
    "start_time": "2021-11-12T03:21:59.043Z"
   },
   {
    "duration": 19,
    "start_time": "2021-11-12T03:21:59.051Z"
   },
   {
    "duration": 56,
    "start_time": "2021-11-12T03:21:59.072Z"
   },
   {
    "duration": 129092,
    "start_time": "2021-11-12T03:21:59.131Z"
   },
   {
    "duration": 4,
    "start_time": "2021-11-12T03:24:08.226Z"
   },
   {
    "duration": 15,
    "start_time": "2021-11-12T03:24:08.232Z"
   },
   {
    "duration": 10,
    "start_time": "2021-11-12T03:24:08.249Z"
   },
   {
    "duration": 56774,
    "start_time": "2021-11-12T03:24:08.261Z"
   },
   {
    "duration": 4,
    "start_time": "2021-11-12T03:25:05.038Z"
   },
   {
    "duration": 9,
    "start_time": "2021-11-12T03:25:05.045Z"
   },
   {
    "duration": 66,
    "start_time": "2021-11-12T03:25:05.056Z"
   },
   {
    "duration": 48299,
    "start_time": "2021-11-12T03:25:05.125Z"
   },
   {
    "duration": 4,
    "start_time": "2021-11-12T03:25:53.426Z"
   },
   {
    "duration": 41593,
    "start_time": "2021-11-12T03:25:53.433Z"
   },
   {
    "duration": 5,
    "start_time": "2021-11-12T03:26:35.029Z"
   },
   {
    "duration": 11,
    "start_time": "2021-11-12T03:26:35.037Z"
   },
   {
    "duration": 12,
    "start_time": "2021-11-12T03:26:35.051Z"
   },
   {
    "duration": 56769,
    "start_time": "2021-11-12T03:26:35.066Z"
   },
   {
    "duration": 4,
    "start_time": "2021-11-12T03:27:31.837Z"
   },
   {
    "duration": 15,
    "start_time": "2021-11-12T03:27:31.843Z"
   },
   {
    "duration": 5,
    "start_time": "2021-11-12T03:27:31.860Z"
   },
   {
    "duration": 62456,
    "start_time": "2021-11-12T03:27:31.867Z"
   },
   {
    "duration": 5,
    "start_time": "2021-11-12T03:28:34.326Z"
   },
   {
    "duration": 7,
    "start_time": "2021-11-12T03:28:34.333Z"
   },
   {
    "duration": 7,
    "start_time": "2021-11-12T03:28:34.343Z"
   },
   {
    "duration": 70377,
    "start_time": "2021-11-12T03:28:34.352Z"
   },
   {
    "duration": 5,
    "start_time": "2021-11-12T03:29:44.732Z"
   },
   {
    "duration": 12,
    "start_time": "2021-11-12T03:29:44.739Z"
   },
   {
    "duration": 4,
    "start_time": "2021-11-12T03:29:44.753Z"
   },
   {
    "duration": 68563,
    "start_time": "2021-11-12T03:29:44.760Z"
   },
   {
    "duration": 4,
    "start_time": "2021-11-12T03:30:53.326Z"
   },
   {
    "duration": 8,
    "start_time": "2021-11-12T03:30:53.332Z"
   },
   {
    "duration": 9,
    "start_time": "2021-11-12T03:30:53.342Z"
   },
   {
    "duration": 10,
    "start_time": "2021-11-12T03:30:53.353Z"
   },
   {
    "duration": 16,
    "start_time": "2021-11-12T03:30:53.365Z"
   },
   {
    "duration": 1508,
    "start_time": "2021-11-12T05:02:25.606Z"
   },
   {
    "duration": 1100,
    "start_time": "2021-11-12T05:02:27.116Z"
   },
   {
    "duration": 4,
    "start_time": "2021-11-12T05:02:28.219Z"
   },
   {
    "duration": 60,
    "start_time": "2021-11-12T05:02:28.225Z"
   },
   {
    "duration": 163,
    "start_time": "2021-11-12T05:02:28.580Z"
   },
   {
    "duration": 120,
    "start_time": "2021-11-12T05:02:28.930Z"
   },
   {
    "duration": 3142,
    "start_time": "2021-11-12T05:02:29.146Z"
   },
   {
    "duration": 4,
    "start_time": "2021-11-12T05:02:32.291Z"
   },
   {
    "duration": 31,
    "start_time": "2021-11-12T05:02:32.298Z"
   },
   {
    "duration": 100,
    "start_time": "2021-11-12T05:02:32.331Z"
   },
   {
    "duration": 21,
    "start_time": "2021-11-12T05:02:32.433Z"
   },
   {
    "duration": 41,
    "start_time": "2021-11-12T05:02:32.457Z"
   },
   {
    "duration": 69,
    "start_time": "2021-11-12T05:02:32.607Z"
   },
   {
    "duration": 11,
    "start_time": "2021-11-12T05:02:32.999Z"
   },
   {
    "duration": 15,
    "start_time": "2021-11-12T05:02:33.338Z"
   },
   {
    "duration": 22,
    "start_time": "2021-11-12T05:02:33.724Z"
   },
   {
    "duration": 19,
    "start_time": "2021-11-12T05:02:34.631Z"
   },
   {
    "duration": 7,
    "start_time": "2021-11-12T05:02:34.979Z"
   },
   {
    "duration": 7,
    "start_time": "2021-11-12T05:02:35.168Z"
   },
   {
    "duration": 14,
    "start_time": "2021-11-12T05:02:35.541Z"
   },
   {
    "duration": 18,
    "start_time": "2021-11-12T05:02:35.727Z"
   },
   {
    "duration": 19,
    "start_time": "2021-11-12T05:02:35.894Z"
   },
   {
    "duration": 82,
    "start_time": "2021-11-12T05:02:36.453Z"
   },
   {
    "duration": 29,
    "start_time": "2021-11-12T05:02:36.630Z"
   },
   {
    "duration": 4,
    "start_time": "2021-11-12T05:02:36.804Z"
   },
   {
    "duration": 76,
    "start_time": "2021-11-12T05:02:37.009Z"
   },
   {
    "duration": 6,
    "start_time": "2021-11-12T05:02:37.176Z"
   },
   {
    "duration": 43,
    "start_time": "2021-11-12T05:02:37.538Z"
   },
   {
    "duration": 20,
    "start_time": "2021-11-12T05:02:37.712Z"
   },
   {
    "duration": 20,
    "start_time": "2021-11-12T05:02:38.060Z"
   },
   {
    "duration": 18,
    "start_time": "2021-11-12T05:02:38.248Z"
   },
   {
    "duration": 6,
    "start_time": "2021-11-12T05:02:38.580Z"
   },
   {
    "duration": 41,
    "start_time": "2021-11-12T05:02:38.928Z"
   },
   {
    "duration": 19,
    "start_time": "2021-11-12T05:02:39.624Z"
   },
   {
    "duration": 21,
    "start_time": "2021-11-12T05:02:40.013Z"
   },
   {
    "duration": 14,
    "start_time": "2021-11-12T05:02:40.359Z"
   },
   {
    "duration": 12,
    "start_time": "2021-11-12T05:02:40.729Z"
   },
   {
    "duration": 70,
    "start_time": "2021-11-12T05:02:41.078Z"
   },
   {
    "duration": 24,
    "start_time": "2021-11-12T05:02:41.432Z"
   },
   {
    "duration": 6,
    "start_time": "2021-11-12T05:02:41.971Z"
   },
   {
    "duration": 42,
    "start_time": "2021-11-12T05:02:42.318Z"
   },
   {
    "duration": 41,
    "start_time": "2021-11-12T05:02:42.492Z"
   },
   {
    "duration": 20,
    "start_time": "2021-11-12T05:02:42.660Z"
   },
   {
    "duration": 21,
    "start_time": "2021-11-12T05:02:42.988Z"
   },
   {
    "duration": 7,
    "start_time": "2021-11-12T05:02:43.352Z"
   },
   {
    "duration": 6,
    "start_time": "2021-11-12T05:02:43.700Z"
   },
   {
    "duration": 42,
    "start_time": "2021-11-12T05:02:44.055Z"
   },
   {
    "duration": 19,
    "start_time": "2021-11-12T05:02:44.228Z"
   },
   {
    "duration": 22,
    "start_time": "2021-11-12T05:02:44.592Z"
   },
   {
    "duration": 51,
    "start_time": "2021-11-12T05:02:44.971Z"
   },
   {
    "duration": 18,
    "start_time": "2021-11-12T05:02:45.332Z"
   },
   {
    "duration": 41,
    "start_time": "2021-11-12T05:02:45.698Z"
   },
   {
    "duration": 20,
    "start_time": "2021-11-12T05:02:45.888Z"
   },
   {
    "duration": 16,
    "start_time": "2021-11-12T05:02:46.259Z"
   },
   {
    "duration": 22,
    "start_time": "2021-11-12T05:02:46.630Z"
   },
   {
    "duration": 20,
    "start_time": "2021-11-12T05:02:46.993Z"
   },
   {
    "duration": 50,
    "start_time": "2021-11-12T05:02:47.377Z"
   },
   {
    "duration": 12,
    "start_time": "2021-11-12T05:02:47.696Z"
   },
   {
    "duration": 44,
    "start_time": "2021-11-12T05:02:48.067Z"
   },
   {
    "duration": 15,
    "start_time": "2021-11-12T05:02:48.429Z"
   },
   {
    "duration": 6,
    "start_time": "2021-11-12T05:02:48.629Z"
   },
   {
    "duration": 24,
    "start_time": "2021-11-12T05:02:48.993Z"
   },
   {
    "duration": 41,
    "start_time": "2021-11-12T05:02:49.345Z"
   },
   {
    "duration": 4,
    "start_time": "2021-11-12T05:02:50.076Z"
   },
   {
    "duration": 4,
    "start_time": "2021-11-12T05:02:50.439Z"
   },
   {
    "duration": 3,
    "start_time": "2021-11-12T05:02:50.619Z"
   },
   {
    "duration": 682,
    "start_time": "2021-11-12T05:02:50.793Z"
   },
   {
    "duration": 16,
    "start_time": "2021-11-12T05:02:51.477Z"
   },
   {
    "duration": 23,
    "start_time": "2021-11-12T05:02:51.495Z"
   },
   {
    "duration": 23,
    "start_time": "2021-11-12T05:02:52.091Z"
   },
   {
    "duration": 21,
    "start_time": "2021-11-12T05:02:52.261Z"
   },
   {
    "duration": 80,
    "start_time": "2021-11-12T05:02:52.658Z"
   },
   {
    "duration": 22,
    "start_time": "2021-11-12T05:02:53.311Z"
   },
   {
    "duration": 5,
    "start_time": "2021-11-12T05:02:56.504Z"
   },
   {
    "duration": 8,
    "start_time": "2021-11-12T05:27:09.863Z"
   },
   {
    "duration": 48,
    "start_time": "2021-11-12T05:27:11.035Z"
   },
   {
    "duration": 241,
    "start_time": "2021-11-12T05:27:11.543Z"
   },
   {
    "duration": 4,
    "start_time": "2021-11-12T05:27:16.671Z"
   },
   {
    "duration": 4,
    "start_time": "2021-11-12T05:28:16.637Z"
   },
   {
    "duration": 4,
    "start_time": "2021-11-12T05:28:18.824Z"
   },
   {
    "duration": 303,
    "start_time": "2021-11-13T04:39:50.154Z"
   },
   {
    "duration": 1153,
    "start_time": "2021-11-13T04:39:54.677Z"
   },
   {
    "duration": 792,
    "start_time": "2021-11-13T04:39:55.831Z"
   },
   {
    "duration": 3,
    "start_time": "2021-11-13T04:39:56.625Z"
   },
   {
    "duration": 33,
    "start_time": "2021-11-13T04:39:56.629Z"
   },
   {
    "duration": 126,
    "start_time": "2021-11-13T04:39:56.663Z"
   },
   {
    "duration": 109,
    "start_time": "2021-11-13T04:39:56.791Z"
   },
   {
    "duration": 1809,
    "start_time": "2021-11-13T04:39:56.901Z"
   },
   {
    "duration": 3,
    "start_time": "2021-11-13T04:39:58.712Z"
   },
   {
    "duration": 27,
    "start_time": "2021-11-13T04:39:58.717Z"
   },
   {
    "duration": 52,
    "start_time": "2021-11-13T04:39:58.746Z"
   },
   {
    "duration": 14,
    "start_time": "2021-11-13T04:39:58.800Z"
   },
   {
    "duration": 12,
    "start_time": "2021-11-13T04:39:58.815Z"
   },
   {
    "duration": 44,
    "start_time": "2021-11-13T04:39:58.845Z"
   },
   {
    "duration": 9,
    "start_time": "2021-11-13T04:39:58.890Z"
   },
   {
    "duration": 10,
    "start_time": "2021-11-13T04:39:58.900Z"
   },
   {
    "duration": 34,
    "start_time": "2021-11-13T04:39:58.911Z"
   },
   {
    "duration": 12,
    "start_time": "2021-11-13T04:39:58.947Z"
   },
   {
    "duration": 5,
    "start_time": "2021-11-13T04:39:58.960Z"
   },
   {
    "duration": 15,
    "start_time": "2021-11-13T04:39:58.967Z"
   },
   {
    "duration": 29,
    "start_time": "2021-11-13T04:39:58.983Z"
   },
   {
    "duration": 14,
    "start_time": "2021-11-13T04:39:59.013Z"
   },
   {
    "duration": 20,
    "start_time": "2021-11-13T04:39:59.029Z"
   },
   {
    "duration": 51,
    "start_time": "2021-11-13T04:39:59.052Z"
   },
   {
    "duration": 22,
    "start_time": "2021-11-13T04:40:00.456Z"
   },
   {
    "duration": 24,
    "start_time": "2021-11-13T04:40:23.524Z"
   },
   {
    "duration": 26,
    "start_time": "2021-11-13T04:42:37.716Z"
   },
   {
    "duration": 334,
    "start_time": "2021-11-13T05:31:33.770Z"
   },
   {
    "duration": 9,
    "start_time": "2021-11-13T05:37:04.042Z"
   },
   {
    "duration": 4,
    "start_time": "2021-11-13T05:37:23.838Z"
   },
   {
    "duration": 721,
    "start_time": "2021-11-13T05:37:23.844Z"
   },
   {
    "duration": 3,
    "start_time": "2021-11-13T05:37:24.567Z"
   },
   {
    "duration": 29,
    "start_time": "2021-11-13T05:37:24.572Z"
   },
   {
    "duration": 131,
    "start_time": "2021-11-13T05:37:24.603Z"
   },
   {
    "duration": 91,
    "start_time": "2021-11-13T05:37:24.736Z"
   },
   {
    "duration": 1793,
    "start_time": "2021-11-13T05:37:24.830Z"
   },
   {
    "duration": 3,
    "start_time": "2021-11-13T05:37:26.625Z"
   },
   {
    "duration": 27,
    "start_time": "2021-11-13T05:37:26.630Z"
   },
   {
    "duration": 43,
    "start_time": "2021-11-13T05:37:26.659Z"
   },
   {
    "duration": 13,
    "start_time": "2021-11-13T05:37:26.704Z"
   },
   {
    "duration": 34,
    "start_time": "2021-11-13T05:37:26.719Z"
   },
   {
    "duration": 29,
    "start_time": "2021-11-13T05:37:26.754Z"
   },
   {
    "duration": 8,
    "start_time": "2021-11-13T05:37:26.785Z"
   },
   {
    "duration": 10,
    "start_time": "2021-11-13T05:37:26.795Z"
   },
   {
    "duration": 42,
    "start_time": "2021-11-13T05:37:26.807Z"
   },
   {
    "duration": 12,
    "start_time": "2021-11-13T05:37:26.850Z"
   },
   {
    "duration": 4,
    "start_time": "2021-11-13T05:37:26.863Z"
   },
   {
    "duration": 5,
    "start_time": "2021-11-13T05:37:26.870Z"
   },
   {
    "duration": 6,
    "start_time": "2021-11-13T05:37:26.877Z"
   },
   {
    "duration": 13,
    "start_time": "2021-11-13T05:37:26.884Z"
   },
   {
    "duration": 11,
    "start_time": "2021-11-13T05:37:26.898Z"
   },
   {
    "duration": 72,
    "start_time": "2021-11-13T05:37:26.911Z"
   },
   {
    "duration": 24,
    "start_time": "2021-11-13T05:37:26.985Z"
   },
   {
    "duration": 34,
    "start_time": "2021-11-13T05:37:27.011Z"
   },
   {
    "duration": 8,
    "start_time": "2021-11-13T05:37:40.135Z"
   },
   {
    "duration": 3,
    "start_time": "2021-11-13T05:38:39.427Z"
   },
   {
    "duration": 773,
    "start_time": "2021-11-13T05:38:39.432Z"
   },
   {
    "duration": 2,
    "start_time": "2021-11-13T05:38:40.207Z"
   },
   {
    "duration": 34,
    "start_time": "2021-11-13T05:38:40.210Z"
   },
   {
    "duration": 127,
    "start_time": "2021-11-13T05:38:40.246Z"
   },
   {
    "duration": 87,
    "start_time": "2021-11-13T05:38:40.375Z"
   },
   {
    "duration": 1944,
    "start_time": "2021-11-13T05:38:40.464Z"
   },
   {
    "duration": 3,
    "start_time": "2021-11-13T05:38:42.410Z"
   },
   {
    "duration": 34,
    "start_time": "2021-11-13T05:38:42.416Z"
   },
   {
    "duration": 40,
    "start_time": "2021-11-13T05:38:42.452Z"
   },
   {
    "duration": 14,
    "start_time": "2021-11-13T05:38:42.494Z"
   },
   {
    "duration": 37,
    "start_time": "2021-11-13T05:38:42.510Z"
   },
   {
    "duration": 31,
    "start_time": "2021-11-13T05:38:42.549Z"
   },
   {
    "duration": 9,
    "start_time": "2021-11-13T05:38:42.582Z"
   },
   {
    "duration": 11,
    "start_time": "2021-11-13T05:38:42.593Z"
   },
   {
    "duration": 42,
    "start_time": "2021-11-13T05:38:42.606Z"
   },
   {
    "duration": 12,
    "start_time": "2021-11-13T05:38:42.650Z"
   },
   {
    "duration": 5,
    "start_time": "2021-11-13T05:38:42.663Z"
   },
   {
    "duration": 5,
    "start_time": "2021-11-13T05:38:42.671Z"
   },
   {
    "duration": 6,
    "start_time": "2021-11-13T05:38:42.678Z"
   },
   {
    "duration": 12,
    "start_time": "2021-11-13T05:38:42.685Z"
   },
   {
    "duration": 45,
    "start_time": "2021-11-13T05:38:42.699Z"
   },
   {
    "duration": 49,
    "start_time": "2021-11-13T05:38:42.746Z"
   },
   {
    "duration": 25,
    "start_time": "2021-11-13T05:38:42.797Z"
   },
   {
    "duration": 30,
    "start_time": "2021-11-13T05:38:42.823Z"
   },
   {
    "duration": 6,
    "start_time": "2021-11-13T05:38:45.502Z"
   },
   {
    "duration": 24,
    "start_time": "2021-11-13T05:38:56.787Z"
   },
   {
    "duration": 5,
    "start_time": "2021-11-13T05:39:34.296Z"
   },
   {
    "duration": 4,
    "start_time": "2021-11-13T05:39:44.371Z"
   },
   {
    "duration": 787,
    "start_time": "2021-11-13T05:39:44.377Z"
   },
   {
    "duration": 3,
    "start_time": "2021-11-13T05:39:45.166Z"
   },
   {
    "duration": 24,
    "start_time": "2021-11-13T05:39:45.170Z"
   },
   {
    "duration": 128,
    "start_time": "2021-11-13T05:39:45.196Z"
   },
   {
    "duration": 95,
    "start_time": "2021-11-13T05:39:45.326Z"
   },
   {
    "duration": 1955,
    "start_time": "2021-11-13T05:39:45.423Z"
   },
   {
    "duration": 3,
    "start_time": "2021-11-13T05:39:47.380Z"
   },
   {
    "duration": 21,
    "start_time": "2021-11-13T05:39:47.385Z"
   },
   {
    "duration": 58,
    "start_time": "2021-11-13T05:39:47.408Z"
   },
   {
    "duration": 12,
    "start_time": "2021-11-13T05:39:47.468Z"
   },
   {
    "duration": 10,
    "start_time": "2021-11-13T05:39:47.482Z"
   },
   {
    "duration": 56,
    "start_time": "2021-11-13T05:39:47.494Z"
   },
   {
    "duration": 9,
    "start_time": "2021-11-13T05:39:47.552Z"
   },
   {
    "duration": 10,
    "start_time": "2021-11-13T05:39:47.562Z"
   },
   {
    "duration": 13,
    "start_time": "2021-11-13T05:39:47.574Z"
   },
   {
    "duration": 11,
    "start_time": "2021-11-13T05:39:47.589Z"
   },
   {
    "duration": 4,
    "start_time": "2021-11-13T05:39:47.602Z"
   },
   {
    "duration": 37,
    "start_time": "2021-11-13T05:39:47.609Z"
   },
   {
    "duration": 9,
    "start_time": "2021-11-13T05:39:47.648Z"
   },
   {
    "duration": 12,
    "start_time": "2021-11-13T05:39:47.658Z"
   },
   {
    "duration": 12,
    "start_time": "2021-11-13T05:39:47.672Z"
   },
   {
    "duration": 70,
    "start_time": "2021-11-13T05:39:47.685Z"
   },
   {
    "duration": 23,
    "start_time": "2021-11-13T05:39:47.756Z"
   },
   {
    "duration": 4,
    "start_time": "2021-11-13T05:39:55.027Z"
   },
   {
    "duration": 15,
    "start_time": "2021-11-13T05:42:14.623Z"
   },
   {
    "duration": 15,
    "start_time": "2021-11-13T05:42:22.918Z"
   },
   {
    "duration": 15,
    "start_time": "2021-11-13T05:42:35.779Z"
   },
   {
    "duration": 4,
    "start_time": "2021-11-13T05:45:17.216Z"
   },
   {
    "duration": 4,
    "start_time": "2021-11-13T05:45:26.419Z"
   },
   {
    "duration": 785,
    "start_time": "2021-11-13T05:45:26.427Z"
   },
   {
    "duration": 3,
    "start_time": "2021-11-13T05:45:27.214Z"
   },
   {
    "duration": 33,
    "start_time": "2021-11-13T05:45:27.219Z"
   },
   {
    "duration": 129,
    "start_time": "2021-11-13T05:45:27.254Z"
   },
   {
    "duration": 97,
    "start_time": "2021-11-13T05:45:27.386Z"
   },
   {
    "duration": 1886,
    "start_time": "2021-11-13T05:45:27.485Z"
   },
   {
    "duration": 3,
    "start_time": "2021-11-13T05:45:29.374Z"
   },
   {
    "duration": 20,
    "start_time": "2021-11-13T05:45:29.379Z"
   },
   {
    "duration": 62,
    "start_time": "2021-11-13T05:45:29.401Z"
   },
   {
    "duration": 11,
    "start_time": "2021-11-13T05:45:29.465Z"
   },
   {
    "duration": 11,
    "start_time": "2021-11-13T05:45:29.478Z"
   },
   {
    "duration": 57,
    "start_time": "2021-11-13T05:45:29.491Z"
   },
   {
    "duration": 8,
    "start_time": "2021-11-13T05:45:29.550Z"
   },
   {
    "duration": 10,
    "start_time": "2021-11-13T05:45:29.560Z"
   },
   {
    "duration": 13,
    "start_time": "2021-11-13T05:45:29.571Z"
   },
   {
    "duration": 12,
    "start_time": "2021-11-13T05:45:29.586Z"
   },
   {
    "duration": 5,
    "start_time": "2021-11-13T05:45:29.599Z"
   },
   {
    "duration": 39,
    "start_time": "2021-11-13T05:45:29.606Z"
   },
   {
    "duration": 6,
    "start_time": "2021-11-13T05:45:29.647Z"
   },
   {
    "duration": 12,
    "start_time": "2021-11-13T05:45:29.655Z"
   },
   {
    "duration": 13,
    "start_time": "2021-11-13T05:45:29.668Z"
   },
   {
    "duration": 66,
    "start_time": "2021-11-13T05:45:29.683Z"
   },
   {
    "duration": 21,
    "start_time": "2021-11-13T05:45:29.752Z"
   },
   {
    "duration": 3,
    "start_time": "2021-11-13T05:45:29.774Z"
   },
   {
    "duration": 46,
    "start_time": "2021-11-13T05:45:29.778Z"
   },
   {
    "duration": 31,
    "start_time": "2021-11-13T05:45:29.826Z"
   },
   {
    "duration": 5,
    "start_time": "2021-11-13T05:45:43.951Z"
   },
   {
    "duration": 6,
    "start_time": "2021-11-13T05:45:48.521Z"
   },
   {
    "duration": 5,
    "start_time": "2021-11-13T05:45:52.017Z"
   },
   {
    "duration": 574,
    "start_time": "2021-11-13T20:06:53.296Z"
   },
   {
    "duration": 1576,
    "start_time": "2021-11-13T20:06:58.107Z"
   },
   {
    "duration": 1223,
    "start_time": "2021-11-13T20:06:59.687Z"
   },
   {
    "duration": 3,
    "start_time": "2021-11-13T20:07:00.914Z"
   },
   {
    "duration": 60,
    "start_time": "2021-11-13T20:07:00.920Z"
   },
   {
    "duration": 185,
    "start_time": "2021-11-13T20:07:00.983Z"
   },
   {
    "duration": 141,
    "start_time": "2021-11-13T20:07:01.171Z"
   },
   {
    "duration": 3241,
    "start_time": "2021-11-13T20:07:01.315Z"
   },
   {
    "duration": 9,
    "start_time": "2021-11-13T20:07:04.559Z"
   },
   {
    "duration": 26,
    "start_time": "2021-11-13T20:07:04.573Z"
   },
   {
    "duration": 98,
    "start_time": "2021-11-13T20:07:04.603Z"
   },
   {
    "duration": 20,
    "start_time": "2021-11-13T20:07:04.704Z"
   },
   {
    "duration": 42,
    "start_time": "2021-11-13T20:07:04.727Z"
   },
   {
    "duration": 67,
    "start_time": "2021-11-13T20:07:04.772Z"
   },
   {
    "duration": 27,
    "start_time": "2021-11-13T20:07:04.841Z"
   },
   {
    "duration": 14,
    "start_time": "2021-11-13T20:07:04.871Z"
   },
   {
    "duration": 19,
    "start_time": "2021-11-13T20:07:04.888Z"
   },
   {
    "duration": 16,
    "start_time": "2021-11-13T20:07:04.909Z"
   },
   {
    "duration": 44,
    "start_time": "2021-11-13T20:07:04.927Z"
   },
   {
    "duration": 11,
    "start_time": "2021-11-13T20:07:04.973Z"
   },
   {
    "duration": 110,
    "start_time": "2021-11-13T20:07:04.987Z"
   },
   {
    "duration": -540,
    "start_time": "2021-11-13T20:07:05.641Z"
   },
   {
    "duration": -613,
    "start_time": "2021-11-13T20:07:05.715Z"
   },
   {
    "duration": -619,
    "start_time": "2021-11-13T20:07:05.723Z"
   },
   {
    "duration": -627,
    "start_time": "2021-11-13T20:07:05.732Z"
   },
   {
    "duration": -632,
    "start_time": "2021-11-13T20:07:05.739Z"
   },
   {
    "duration": -637,
    "start_time": "2021-11-13T20:07:05.746Z"
   },
   {
    "duration": -642,
    "start_time": "2021-11-13T20:07:05.753Z"
   },
   {
    "duration": -648,
    "start_time": "2021-11-13T20:07:05.760Z"
   },
   {
    "duration": -654,
    "start_time": "2021-11-13T20:07:05.768Z"
   },
   {
    "duration": -660,
    "start_time": "2021-11-13T20:07:05.775Z"
   },
   {
    "duration": -666,
    "start_time": "2021-11-13T20:07:05.783Z"
   },
   {
    "duration": -670,
    "start_time": "2021-11-13T20:07:05.789Z"
   },
   {
    "duration": -677,
    "start_time": "2021-11-13T20:07:05.797Z"
   },
   {
    "duration": -681,
    "start_time": "2021-11-13T20:07:05.803Z"
   },
   {
    "duration": -701,
    "start_time": "2021-11-13T20:07:05.825Z"
   },
   {
    "duration": -706,
    "start_time": "2021-11-13T20:07:05.832Z"
   },
   {
    "duration": -712,
    "start_time": "2021-11-13T20:07:05.839Z"
   },
   {
    "duration": -718,
    "start_time": "2021-11-13T20:07:05.847Z"
   },
   {
    "duration": -723,
    "start_time": "2021-11-13T20:07:05.854Z"
   },
   {
    "duration": -728,
    "start_time": "2021-11-13T20:07:05.861Z"
   },
   {
    "duration": -734,
    "start_time": "2021-11-13T20:07:05.869Z"
   },
   {
    "duration": -739,
    "start_time": "2021-11-13T20:07:05.876Z"
   },
   {
    "duration": -717,
    "start_time": "2021-11-13T20:07:05.883Z"
   },
   {
    "duration": -722,
    "start_time": "2021-11-13T20:07:05.890Z"
   },
   {
    "duration": -727,
    "start_time": "2021-11-13T20:07:05.897Z"
   },
   {
    "duration": -732,
    "start_time": "2021-11-13T20:07:05.904Z"
   },
   {
    "duration": -738,
    "start_time": "2021-11-13T20:07:05.912Z"
   },
   {
    "duration": -743,
    "start_time": "2021-11-13T20:07:05.918Z"
   },
   {
    "duration": -761,
    "start_time": "2021-11-13T20:07:05.939Z"
   },
   {
    "duration": -767,
    "start_time": "2021-11-13T20:07:05.948Z"
   },
   {
    "duration": -772,
    "start_time": "2021-11-13T20:07:05.955Z"
   },
   {
    "duration": -776,
    "start_time": "2021-11-13T20:07:05.961Z"
   },
   {
    "duration": -781,
    "start_time": "2021-11-13T20:07:05.968Z"
   },
   {
    "duration": -786,
    "start_time": "2021-11-13T20:07:05.975Z"
   },
   {
    "duration": -792,
    "start_time": "2021-11-13T20:07:05.983Z"
   },
   {
    "duration": -801,
    "start_time": "2021-11-13T20:07:05.994Z"
   },
   {
    "duration": -806,
    "start_time": "2021-11-13T20:07:06.001Z"
   },
   {
    "duration": -812,
    "start_time": "2021-11-13T20:07:06.008Z"
   },
   {
    "duration": -820,
    "start_time": "2021-11-13T20:07:06.017Z"
   },
   {
    "duration": -824,
    "start_time": "2021-11-13T20:07:06.023Z"
   },
   {
    "duration": -831,
    "start_time": "2021-11-13T20:07:06.031Z"
   },
   {
    "duration": -850,
    "start_time": "2021-11-13T20:07:06.052Z"
   },
   {
    "duration": 13,
    "start_time": "2021-11-13T20:07:08.651Z"
   },
   {
    "duration": 15,
    "start_time": "2021-11-13T20:07:09.453Z"
   },
   {
    "duration": 5,
    "start_time": "2021-11-13T20:07:56.870Z"
   },
   {
    "duration": 1188,
    "start_time": "2021-11-13T20:07:56.879Z"
   },
   {
    "duration": 3,
    "start_time": "2021-11-13T20:07:58.070Z"
   },
   {
    "duration": 40,
    "start_time": "2021-11-13T20:07:58.076Z"
   },
   {
    "duration": 180,
    "start_time": "2021-11-13T20:07:58.119Z"
   },
   {
    "duration": 136,
    "start_time": "2021-11-13T20:07:58.301Z"
   },
   {
    "duration": 3432,
    "start_time": "2021-11-13T20:07:58.440Z"
   },
   {
    "duration": 4,
    "start_time": "2021-11-13T20:08:01.875Z"
   },
   {
    "duration": 50,
    "start_time": "2021-11-13T20:08:01.881Z"
   },
   {
    "duration": 81,
    "start_time": "2021-11-13T20:08:01.934Z"
   },
   {
    "duration": 18,
    "start_time": "2021-11-13T20:08:02.018Z"
   },
   {
    "duration": 38,
    "start_time": "2021-11-13T20:08:02.038Z"
   },
   {
    "duration": 55,
    "start_time": "2021-11-13T20:08:02.078Z"
   },
   {
    "duration": 38,
    "start_time": "2021-11-13T20:08:02.136Z"
   },
   {
    "duration": 25,
    "start_time": "2021-11-13T20:08:02.177Z"
   },
   {
    "duration": 22,
    "start_time": "2021-11-13T20:08:02.205Z"
   },
   {
    "duration": 41,
    "start_time": "2021-11-13T20:08:02.230Z"
   },
   {
    "duration": 6,
    "start_time": "2021-11-13T20:08:02.273Z"
   },
   {
    "duration": 24,
    "start_time": "2021-11-13T20:08:02.285Z"
   },
   {
    "duration": 136,
    "start_time": "2021-11-13T20:08:02.313Z"
   },
   {
    "duration": -489,
    "start_time": "2021-11-13T20:08:02.942Z"
   },
   {
    "duration": -496,
    "start_time": "2021-11-13T20:08:02.951Z"
   },
   {
    "duration": -503,
    "start_time": "2021-11-13T20:08:02.959Z"
   },
   {
    "duration": -509,
    "start_time": "2021-11-13T20:08:02.967Z"
   },
   {
    "duration": -515,
    "start_time": "2021-11-13T20:08:02.975Z"
   },
   {
    "duration": -532,
    "start_time": "2021-11-13T20:08:02.993Z"
   },
   {
    "duration": -553,
    "start_time": "2021-11-13T20:08:03.016Z"
   },
   {
    "duration": -559,
    "start_time": "2021-11-13T20:08:03.024Z"
   },
   {
    "duration": -563,
    "start_time": "2021-11-13T20:08:03.030Z"
   },
   {
    "duration": -570,
    "start_time": "2021-11-13T20:08:03.039Z"
   },
   {
    "duration": -575,
    "start_time": "2021-11-13T20:08:03.045Z"
   },
   {
    "duration": -580,
    "start_time": "2021-11-13T20:08:03.052Z"
   },
   {
    "duration": -585,
    "start_time": "2021-11-13T20:08:03.059Z"
   },
   {
    "duration": -591,
    "start_time": "2021-11-13T20:08:03.066Z"
   },
   {
    "duration": -597,
    "start_time": "2021-11-13T20:08:03.074Z"
   },
   {
    "duration": -602,
    "start_time": "2021-11-13T20:08:03.081Z"
   },
   {
    "duration": -606,
    "start_time": "2021-11-13T20:08:03.087Z"
   },
   {
    "duration": -612,
    "start_time": "2021-11-13T20:08:03.094Z"
   },
   {
    "duration": -616,
    "start_time": "2021-11-13T20:08:03.100Z"
   },
   {
    "duration": -621,
    "start_time": "2021-11-13T20:08:03.107Z"
   },
   {
    "duration": -640,
    "start_time": "2021-11-13T20:08:03.128Z"
   },
   {
    "duration": -647,
    "start_time": "2021-11-13T20:08:03.136Z"
   },
   {
    "duration": -652,
    "start_time": "2021-11-13T20:08:03.143Z"
   },
   {
    "duration": -659,
    "start_time": "2021-11-13T20:08:03.151Z"
   },
   {
    "duration": -664,
    "start_time": "2021-11-13T20:08:03.158Z"
   },
   {
    "duration": -670,
    "start_time": "2021-11-13T20:08:03.166Z"
   },
   {
    "duration": -674,
    "start_time": "2021-11-13T20:08:03.172Z"
   },
   {
    "duration": -681,
    "start_time": "2021-11-13T20:08:03.180Z"
   },
   {
    "duration": -684,
    "start_time": "2021-11-13T20:08:03.186Z"
   },
   {
    "duration": -690,
    "start_time": "2021-11-13T20:08:03.193Z"
   },
   {
    "duration": -695,
    "start_time": "2021-11-13T20:08:03.200Z"
   },
   {
    "duration": -700,
    "start_time": "2021-11-13T20:08:03.207Z"
   },
   {
    "duration": -643,
    "start_time": "2021-11-13T20:08:03.214Z"
   },
   {
    "duration": -648,
    "start_time": "2021-11-13T20:08:03.221Z"
   },
   {
    "duration": -671,
    "start_time": "2021-11-13T20:08:03.245Z"
   },
   {
    "duration": -677,
    "start_time": "2021-11-13T20:08:03.253Z"
   },
   {
    "duration": -681,
    "start_time": "2021-11-13T20:08:03.259Z"
   },
   {
    "duration": -688,
    "start_time": "2021-11-13T20:08:03.268Z"
   },
   {
    "duration": -692,
    "start_time": "2021-11-13T20:08:03.274Z"
   },
   {
    "duration": -698,
    "start_time": "2021-11-13T20:08:03.282Z"
   },
   {
    "duration": -704,
    "start_time": "2021-11-13T20:08:03.289Z"
   },
   {
    "duration": 8,
    "start_time": "2021-11-13T20:08:10.853Z"
   },
   {
    "duration": 7,
    "start_time": "2021-11-13T20:08:49.784Z"
   },
   {
    "duration": 1097,
    "start_time": "2021-11-13T20:08:50.399Z"
   },
   {
    "duration": 5,
    "start_time": "2021-11-13T20:08:59.888Z"
   },
   {
    "duration": 1109,
    "start_time": "2021-11-13T20:09:00.461Z"
   },
   {
    "duration": 4,
    "start_time": "2021-11-13T20:09:01.572Z"
   },
   {
    "duration": 38,
    "start_time": "2021-11-13T20:09:02.293Z"
   },
   {
    "duration": 154,
    "start_time": "2021-11-13T20:09:02.748Z"
   },
   {
    "duration": 118,
    "start_time": "2021-11-13T20:09:03.666Z"
   },
   {
    "duration": 3471,
    "start_time": "2021-11-13T20:09:04.321Z"
   },
   {
    "duration": 4,
    "start_time": "2021-11-13T20:09:07.795Z"
   },
   {
    "duration": 39,
    "start_time": "2021-11-13T20:09:07.802Z"
   },
   {
    "duration": 66,
    "start_time": "2021-11-13T20:09:08.811Z"
   },
   {
    "duration": 18,
    "start_time": "2021-11-13T20:09:11.140Z"
   },
   {
    "duration": 18,
    "start_time": "2021-11-13T20:09:11.542Z"
   },
   {
    "duration": 62,
    "start_time": "2021-11-13T20:09:12.386Z"
   },
   {
    "duration": 11,
    "start_time": "2021-11-13T20:09:13.705Z"
   },
   {
    "duration": 16,
    "start_time": "2021-11-13T20:09:14.912Z"
   },
   {
    "duration": 23,
    "start_time": "2021-11-13T20:09:15.867Z"
   },
   {
    "duration": 21,
    "start_time": "2021-11-13T20:09:20.427Z"
   },
   {
    "duration": 9,
    "start_time": "2021-11-13T20:09:21.425Z"
   },
   {
    "duration": 8,
    "start_time": "2021-11-13T20:09:21.829Z"
   },
   {
    "duration": 93,
    "start_time": "2021-11-13T20:09:22.613Z"
   },
   {
    "duration": 21,
    "start_time": "2021-11-13T20:09:23.000Z"
   },
   {
    "duration": 9,
    "start_time": "2021-11-13T20:09:42.627Z"
   },
   {
    "duration": 20,
    "start_time": "2021-11-13T20:09:43.307Z"
   },
   {
    "duration": 18,
    "start_time": "2021-11-13T20:09:45.773Z"
   },
   {
    "duration": 70,
    "start_time": "2021-11-13T20:09:46.462Z"
   },
   {
    "duration": 30,
    "start_time": "2021-11-13T20:09:47.563Z"
   },
   {
    "duration": 4,
    "start_time": "2021-11-13T20:09:48.095Z"
   },
   {
    "duration": 90,
    "start_time": "2021-11-13T20:09:48.626Z"
   },
   {
    "duration": 21,
    "start_time": "2021-11-13T20:09:54.020Z"
   },
   {
    "duration": 8,
    "start_time": "2021-11-13T20:09:57.949Z"
   },
   {
    "duration": 6,
    "start_time": "2021-11-13T20:09:58.688Z"
   },
   {
    "duration": 44,
    "start_time": "2021-11-13T20:09:59.617Z"
   },
   {
    "duration": 20,
    "start_time": "2021-11-13T20:10:01.268Z"
   },
   {
    "duration": 21,
    "start_time": "2021-11-13T20:10:03.026Z"
   },
   {
    "duration": 4,
    "start_time": "2021-11-13T20:18:11.630Z"
   },
   {
    "duration": 37,
    "start_time": "2021-11-13T20:18:14.357Z"
   },
   {
    "duration": 457,
    "start_time": "2021-11-13T20:19:48.381Z"
   },
   {
    "duration": 292,
    "start_time": "2021-11-13T20:20:44.970Z"
   },
   {
    "duration": 356,
    "start_time": "2021-11-13T20:20:57.234Z"
   },
   {
    "duration": 87,
    "start_time": "2021-11-13T20:21:25.614Z"
   },
   {
    "duration": 6,
    "start_time": "2021-11-13T20:21:49.488Z"
   },
   {
    "duration": 1164,
    "start_time": "2021-11-13T20:21:49.497Z"
   },
   {
    "duration": 6,
    "start_time": "2021-11-13T20:21:50.664Z"
   },
   {
    "duration": 40,
    "start_time": "2021-11-13T20:21:50.673Z"
   },
   {
    "duration": 185,
    "start_time": "2021-11-13T20:21:50.716Z"
   },
   {
    "duration": 131,
    "start_time": "2021-11-13T20:21:50.904Z"
   },
   {
    "duration": 3293,
    "start_time": "2021-11-13T20:21:51.038Z"
   },
   {
    "duration": 6,
    "start_time": "2021-11-13T20:21:54.335Z"
   },
   {
    "duration": 47,
    "start_time": "2021-11-13T20:21:54.345Z"
   },
   {
    "duration": 89,
    "start_time": "2021-11-13T20:21:54.395Z"
   },
   {
    "duration": 16,
    "start_time": "2021-11-13T20:21:54.486Z"
   },
   {
    "duration": 17,
    "start_time": "2021-11-13T20:21:54.505Z"
   },
   {
    "duration": 96,
    "start_time": "2021-11-13T20:21:54.524Z"
   },
   {
    "duration": 10,
    "start_time": "2021-11-13T20:21:54.623Z"
   },
   {
    "duration": 40,
    "start_time": "2021-11-13T20:21:54.636Z"
   },
   {
    "duration": 20,
    "start_time": "2021-11-13T20:21:54.678Z"
   },
   {
    "duration": 17,
    "start_time": "2021-11-13T20:21:54.700Z"
   },
   {
    "duration": 6,
    "start_time": "2021-11-13T20:21:54.720Z"
   },
   {
    "duration": 35,
    "start_time": "2021-11-13T20:21:54.732Z"
   },
   {
    "duration": 9,
    "start_time": "2021-11-13T20:21:54.771Z"
   },
   {
    "duration": 18,
    "start_time": "2021-11-13T20:21:54.783Z"
   },
   {
    "duration": 18,
    "start_time": "2021-11-13T20:21:54.804Z"
   },
   {
    "duration": 126,
    "start_time": "2021-11-13T20:21:54.824Z"
   },
   {
    "duration": 35,
    "start_time": "2021-11-13T20:21:54.952Z"
   },
   {
    "duration": 4,
    "start_time": "2021-11-13T20:21:54.989Z"
   },
   {
    "duration": 105,
    "start_time": "2021-11-13T20:21:54.995Z"
   },
   {
    "duration": 22,
    "start_time": "2021-11-13T20:21:55.103Z"
   },
   {
    "duration": 7,
    "start_time": "2021-11-13T20:21:55.128Z"
   },
   {
    "duration": 31,
    "start_time": "2021-11-13T20:21:55.137Z"
   },
   {
    "duration": 45,
    "start_time": "2021-11-13T20:21:55.171Z"
   },
   {
    "duration": 52,
    "start_time": "2021-11-13T20:21:55.218Z"
   },
   {
    "duration": 25,
    "start_time": "2021-11-13T20:21:55.272Z"
   },
   {
    "duration": 24,
    "start_time": "2021-11-13T20:21:55.299Z"
   },
   {
    "duration": 6,
    "start_time": "2021-11-13T20:21:55.325Z"
   },
   {
    "duration": 75,
    "start_time": "2021-11-13T20:21:55.333Z"
   },
   {
    "duration": 20,
    "start_time": "2021-11-13T20:21:55.410Z"
   },
   {
    "duration": 60,
    "start_time": "2021-11-13T20:21:55.433Z"
   },
   {
    "duration": 17,
    "start_time": "2021-11-13T20:21:55.495Z"
   },
   {
    "duration": 10,
    "start_time": "2021-11-13T20:21:55.515Z"
   },
   {
    "duration": 97,
    "start_time": "2021-11-13T20:21:55.528Z"
   },
   {
    "duration": 23,
    "start_time": "2021-11-13T20:21:55.627Z"
   },
   {
    "duration": 17,
    "start_time": "2021-11-13T20:21:55.653Z"
   },
   {
    "duration": 99,
    "start_time": "2021-11-13T20:21:55.673Z"
   },
   {
    "duration": 78,
    "start_time": "2021-11-13T20:21:55.775Z"
   },
   {
    "duration": 23,
    "start_time": "2021-11-13T20:21:55.867Z"
   },
   {
    "duration": 23,
    "start_time": "2021-11-13T20:21:55.892Z"
   },
   {
    "duration": 8,
    "start_time": "2021-11-13T20:21:55.918Z"
   },
   {
    "duration": 39,
    "start_time": "2021-11-13T20:21:55.929Z"
   },
   {
    "duration": 45,
    "start_time": "2021-11-13T20:21:55.971Z"
   },
   {
    "duration": 22,
    "start_time": "2021-11-13T20:21:56.019Z"
   },
   {
    "duration": 42,
    "start_time": "2021-11-13T20:21:56.043Z"
   },
   {
    "duration": 57,
    "start_time": "2021-11-13T20:21:56.088Z"
   },
   {
    "duration": 32,
    "start_time": "2021-11-13T20:21:56.147Z"
   },
   {
    "duration": 52,
    "start_time": "2021-11-13T20:21:56.182Z"
   },
   {
    "duration": 33,
    "start_time": "2021-11-13T20:21:56.241Z"
   },
   {
    "duration": 12,
    "start_time": "2021-11-13T20:21:56.276Z"
   },
   {
    "duration": 15,
    "start_time": "2021-11-13T20:22:24.601Z"
   },
   {
    "duration": 33,
    "start_time": "2021-11-13T20:22:25.141Z"
   },
   {
    "duration": 90,
    "start_time": "2021-11-13T20:22:26.057Z"
   },
   {
    "duration": 20,
    "start_time": "2021-11-13T20:22:39.136Z"
   },
   {
    "duration": 6,
    "start_time": "2021-11-13T20:22:47.244Z"
   },
   {
    "duration": 34,
    "start_time": "2021-11-13T20:23:46.571Z"
   },
   {
    "duration": 5,
    "start_time": "2021-11-13T20:24:23.561Z"
   },
   {
    "duration": 1142,
    "start_time": "2021-11-13T20:24:23.594Z"
   },
   {
    "duration": 5,
    "start_time": "2021-11-13T20:24:24.739Z"
   },
   {
    "duration": 55,
    "start_time": "2021-11-13T20:24:24.748Z"
   },
   {
    "duration": 182,
    "start_time": "2021-11-13T20:24:24.806Z"
   },
   {
    "duration": 144,
    "start_time": "2021-11-13T20:24:24.991Z"
   },
   {
    "duration": 3238,
    "start_time": "2021-11-13T20:24:25.138Z"
   },
   {
    "duration": 4,
    "start_time": "2021-11-13T20:24:28.378Z"
   },
   {
    "duration": 28,
    "start_time": "2021-11-13T20:24:28.384Z"
   },
   {
    "duration": 92,
    "start_time": "2021-11-13T20:24:28.417Z"
   },
   {
    "duration": 17,
    "start_time": "2021-11-13T20:24:28.512Z"
   },
   {
    "duration": 39,
    "start_time": "2021-11-13T20:24:28.532Z"
   },
   {
    "duration": 72,
    "start_time": "2021-11-13T20:24:28.573Z"
   },
   {
    "duration": 22,
    "start_time": "2021-11-13T20:24:28.648Z"
   },
   {
    "duration": 14,
    "start_time": "2021-11-13T20:24:28.672Z"
   },
   {
    "duration": 19,
    "start_time": "2021-11-13T20:24:28.688Z"
   },
   {
    "duration": 16,
    "start_time": "2021-11-13T20:24:28.709Z"
   },
   {
    "duration": 44,
    "start_time": "2021-11-13T20:24:28.727Z"
   },
   {
    "duration": 10,
    "start_time": "2021-11-13T20:24:28.774Z"
   },
   {
    "duration": 10,
    "start_time": "2021-11-13T20:24:28.787Z"
   },
   {
    "duration": 21,
    "start_time": "2021-11-13T20:24:28.799Z"
   },
   {
    "duration": 55,
    "start_time": "2021-11-13T20:24:28.822Z"
   },
   {
    "duration": 91,
    "start_time": "2021-11-13T20:24:28.879Z"
   },
   {
    "duration": 35,
    "start_time": "2021-11-13T20:24:28.973Z"
   },
   {
    "duration": 3,
    "start_time": "2021-11-13T20:24:29.011Z"
   },
   {
    "duration": 102,
    "start_time": "2021-11-13T20:24:29.016Z"
   },
   {
    "duration": 23,
    "start_time": "2021-11-13T20:24:29.121Z"
   },
   {
    "duration": 23,
    "start_time": "2021-11-13T20:24:29.150Z"
   },
   {
    "duration": 7,
    "start_time": "2021-11-13T20:24:29.177Z"
   },
   {
    "duration": 46,
    "start_time": "2021-11-13T20:24:29.187Z"
   },
   {
    "duration": 48,
    "start_time": "2021-11-13T20:24:29.235Z"
   },
   {
    "duration": 22,
    "start_time": "2021-11-13T20:24:29.285Z"
   },
   {
    "duration": 22,
    "start_time": "2021-11-13T20:24:29.310Z"
   },
   {
    "duration": 7,
    "start_time": "2021-11-13T20:24:29.334Z"
   },
   {
    "duration": 66,
    "start_time": "2021-11-13T20:24:29.343Z"
   },
   {
    "duration": 21,
    "start_time": "2021-11-13T20:24:29.411Z"
   },
   {
    "duration": 49,
    "start_time": "2021-11-13T20:24:29.435Z"
   },
   {
    "duration": 16,
    "start_time": "2021-11-13T20:24:29.487Z"
   },
   {
    "duration": 11,
    "start_time": "2021-11-13T20:24:29.505Z"
   },
   {
    "duration": 98,
    "start_time": "2021-11-13T20:24:29.518Z"
   },
   {
    "duration": 23,
    "start_time": "2021-11-13T20:24:29.618Z"
   },
   {
    "duration": 25,
    "start_time": "2021-11-13T20:24:29.643Z"
   },
   {
    "duration": 43,
    "start_time": "2021-11-13T20:24:29.671Z"
   },
   {
    "duration": 62,
    "start_time": "2021-11-13T20:24:29.717Z"
   },
   {
    "duration": 22,
    "start_time": "2021-11-13T20:24:29.781Z"
   },
   {
    "duration": 23,
    "start_time": "2021-11-13T20:24:29.805Z"
   },
   {
    "duration": 9,
    "start_time": "2021-11-13T20:24:29.831Z"
   },
   {
    "duration": 6,
    "start_time": "2021-11-13T20:24:29.867Z"
   },
   {
    "duration": 51,
    "start_time": "2021-11-13T20:24:29.875Z"
   },
   {
    "duration": 44,
    "start_time": "2021-11-13T20:24:29.928Z"
   },
   {
    "duration": 24,
    "start_time": "2021-11-13T20:24:29.975Z"
   },
   {
    "duration": 59,
    "start_time": "2021-11-13T20:24:30.001Z"
   },
   {
    "duration": 26,
    "start_time": "2021-11-13T20:24:30.068Z"
   },
   {
    "duration": 56,
    "start_time": "2021-11-13T20:24:30.096Z"
   },
   {
    "duration": 38,
    "start_time": "2021-11-13T20:24:30.154Z"
   },
   {
    "duration": 20,
    "start_time": "2021-11-13T20:24:30.194Z"
   },
   {
    "duration": 31,
    "start_time": "2021-11-13T20:24:30.217Z"
   },
   {
    "duration": 22,
    "start_time": "2021-11-13T20:24:58.087Z"
   },
   {
    "duration": 24,
    "start_time": "2021-11-13T20:25:05.678Z"
   },
   {
    "duration": 95,
    "start_time": "2021-11-13T20:25:07.286Z"
   },
   {
    "duration": 20,
    "start_time": "2021-11-13T20:25:10.882Z"
   },
   {
    "duration": 39,
    "start_time": "2021-11-13T20:25:11.951Z"
   },
   {
    "duration": 446,
    "start_time": "2021-11-14T05:56:37.731Z"
   },
   {
    "duration": 369,
    "start_time": "2021-11-14T05:56:38.200Z"
   },
   {
    "duration": 1504,
    "start_time": "2021-11-14T05:56:41.913Z"
   },
   {
    "duration": 5225,
    "start_time": "2021-11-14T05:56:43.419Z"
   },
   {
    "duration": 4,
    "start_time": "2021-11-14T05:56:48.647Z"
   },
   {
    "duration": 55,
    "start_time": "2021-11-14T05:56:48.653Z"
   },
   {
    "duration": 176,
    "start_time": "2021-11-14T05:56:48.710Z"
   },
   {
    "duration": 141,
    "start_time": "2021-11-14T05:56:48.888Z"
   },
   {
    "duration": 3485,
    "start_time": "2021-11-14T05:56:49.032Z"
   },
   {
    "duration": 4,
    "start_time": "2021-11-14T05:56:52.521Z"
   },
   {
    "duration": 55,
    "start_time": "2021-11-14T05:56:52.528Z"
   },
   {
    "duration": 96,
    "start_time": "2021-11-14T05:56:52.585Z"
   },
   {
    "duration": 36,
    "start_time": "2021-11-14T05:56:52.683Z"
   },
   {
    "duration": 17,
    "start_time": "2021-11-14T05:56:52.721Z"
   },
   {
    "duration": 78,
    "start_time": "2021-11-14T05:56:52.741Z"
   },
   {
    "duration": 11,
    "start_time": "2021-11-14T05:56:52.821Z"
   },
   {
    "duration": 36,
    "start_time": "2021-11-14T05:56:52.834Z"
   },
   {
    "duration": 26,
    "start_time": "2021-11-14T05:56:52.875Z"
   },
   {
    "duration": 19,
    "start_time": "2021-11-14T05:56:52.903Z"
   },
   {
    "duration": 44,
    "start_time": "2021-11-14T05:56:52.925Z"
   },
   {
    "duration": 16,
    "start_time": "2021-11-14T05:56:52.971Z"
   },
   {
    "duration": 14,
    "start_time": "2021-11-14T05:56:52.989Z"
   },
   {
    "duration": 19,
    "start_time": "2021-11-14T05:56:53.005Z"
   },
   {
    "duration": 54,
    "start_time": "2021-11-14T05:56:53.026Z"
   },
   {
    "duration": 103,
    "start_time": "2021-11-14T05:56:53.089Z"
   },
   {
    "duration": 29,
    "start_time": "2021-11-14T05:56:53.196Z"
   },
   {
    "duration": 4,
    "start_time": "2021-11-14T05:56:53.227Z"
   },
   {
    "duration": 105,
    "start_time": "2021-11-14T05:56:53.233Z"
   },
   {
    "duration": 39,
    "start_time": "2021-11-14T05:56:53.340Z"
   },
   {
    "duration": 7,
    "start_time": "2021-11-14T05:56:53.381Z"
   },
   {
    "duration": 13,
    "start_time": "2021-11-14T05:56:53.390Z"
   },
   {
    "duration": 60,
    "start_time": "2021-11-14T05:56:53.406Z"
   },
   {
    "duration": 33,
    "start_time": "2021-11-14T05:56:53.469Z"
   },
   {
    "duration": 26,
    "start_time": "2021-11-14T05:56:53.504Z"
   },
   {
    "duration": 41,
    "start_time": "2021-11-14T05:56:53.532Z"
   },
   {
    "duration": 7,
    "start_time": "2021-11-14T05:56:53.576Z"
   },
   {
    "duration": 42,
    "start_time": "2021-11-14T05:56:53.585Z"
   },
   {
    "duration": 54,
    "start_time": "2021-11-14T05:56:53.629Z"
   },
   {
    "duration": 22,
    "start_time": "2021-11-14T05:56:53.686Z"
   },
   {
    "duration": 20,
    "start_time": "2021-11-14T05:56:53.710Z"
   },
   {
    "duration": 32,
    "start_time": "2021-11-14T05:56:53.733Z"
   },
   {
    "duration": 68,
    "start_time": "2021-11-14T05:56:53.768Z"
   },
   {
    "duration": 47,
    "start_time": "2021-11-14T05:56:53.838Z"
   },
   {
    "duration": 5,
    "start_time": "2021-11-14T05:56:53.888Z"
   },
   {
    "duration": 70,
    "start_time": "2021-11-14T05:56:53.896Z"
   },
   {
    "duration": 44,
    "start_time": "2021-11-14T05:56:53.971Z"
   },
   {
    "duration": 20,
    "start_time": "2021-11-14T05:56:54.018Z"
   },
   {
    "duration": 25,
    "start_time": "2021-11-14T05:56:54.065Z"
   },
   {
    "duration": 7,
    "start_time": "2021-11-14T05:56:54.092Z"
   },
   {
    "duration": 5,
    "start_time": "2021-11-14T05:56:54.101Z"
   },
   {
    "duration": 82,
    "start_time": "2021-11-14T05:56:54.109Z"
   },
   {
    "duration": 23,
    "start_time": "2021-11-14T05:56:54.193Z"
   },
   {
    "duration": 24,
    "start_time": "2021-11-14T05:56:54.218Z"
   },
   {
    "duration": 66,
    "start_time": "2021-11-14T05:56:54.245Z"
   },
   {
    "duration": 32,
    "start_time": "2021-11-14T05:56:54.313Z"
   },
   {
    "duration": 59,
    "start_time": "2021-11-14T05:56:54.347Z"
   },
   {
    "duration": 30,
    "start_time": "2021-11-14T05:56:54.409Z"
   },
   {
    "duration": 27,
    "start_time": "2021-11-14T05:56:54.441Z"
   },
   {
    "duration": 4,
    "start_time": "2021-11-14T05:57:03.776Z"
   },
   {
    "duration": 21,
    "start_time": "2021-11-14T05:57:05.073Z"
   },
   {
    "duration": 22,
    "start_time": "2021-11-14T05:57:16.372Z"
   },
   {
    "duration": 94,
    "start_time": "2021-11-14T05:57:16.811Z"
   },
   {
    "duration": 29,
    "start_time": "2021-11-14T05:57:17.747Z"
   },
   {
    "duration": 5,
    "start_time": "2021-11-14T05:57:26.970Z"
   },
   {
    "duration": 5,
    "start_time": "2021-11-14T05:57:32.937Z"
   },
   {
    "duration": 1232,
    "start_time": "2021-11-14T05:57:32.945Z"
   },
   {
    "duration": 4,
    "start_time": "2021-11-14T05:57:34.182Z"
   },
   {
    "duration": 42,
    "start_time": "2021-11-14T05:57:34.189Z"
   },
   {
    "duration": 181,
    "start_time": "2021-11-14T05:57:34.234Z"
   },
   {
    "duration": 121,
    "start_time": "2021-11-14T05:57:34.418Z"
   },
   {
    "duration": 3293,
    "start_time": "2021-11-14T05:57:34.541Z"
   },
   {
    "duration": 4,
    "start_time": "2021-11-14T05:57:37.838Z"
   },
   {
    "duration": 33,
    "start_time": "2021-11-14T05:57:37.861Z"
   },
   {
    "duration": 104,
    "start_time": "2021-11-14T05:57:37.897Z"
   },
   {
    "duration": 22,
    "start_time": "2021-11-14T05:57:38.004Z"
   },
   {
    "duration": 44,
    "start_time": "2021-11-14T05:57:38.029Z"
   },
   {
    "duration": 91,
    "start_time": "2021-11-14T05:57:38.075Z"
   },
   {
    "duration": 14,
    "start_time": "2021-11-14T05:57:38.169Z"
   },
   {
    "duration": 28,
    "start_time": "2021-11-14T05:57:38.186Z"
   },
   {
    "duration": 29,
    "start_time": "2021-11-14T05:57:38.216Z"
   },
   {
    "duration": 21,
    "start_time": "2021-11-14T05:57:38.270Z"
   },
   {
    "duration": 8,
    "start_time": "2021-11-14T05:57:38.294Z"
   },
   {
    "duration": 26,
    "start_time": "2021-11-14T05:57:38.304Z"
   },
   {
    "duration": 19,
    "start_time": "2021-11-14T05:57:38.333Z"
   },
   {
    "duration": 34,
    "start_time": "2021-11-14T05:57:38.354Z"
   },
   {
    "duration": 22,
    "start_time": "2021-11-14T05:57:38.390Z"
   },
   {
    "duration": 101,
    "start_time": "2021-11-14T05:57:38.418Z"
   },
   {
    "duration": 49,
    "start_time": "2021-11-14T05:57:38.522Z"
   },
   {
    "duration": 4,
    "start_time": "2021-11-14T05:57:38.574Z"
   },
   {
    "duration": 102,
    "start_time": "2021-11-14T05:57:38.580Z"
   },
   {
    "duration": 23,
    "start_time": "2021-11-14T05:57:38.685Z"
   },
   {
    "duration": 9,
    "start_time": "2021-11-14T05:57:38.710Z"
   },
   {
    "duration": 16,
    "start_time": "2021-11-14T05:57:38.722Z"
   },
   {
    "duration": 53,
    "start_time": "2021-11-14T05:57:38.760Z"
   },
   {
    "duration": 44,
    "start_time": "2021-11-14T05:57:38.816Z"
   },
   {
    "duration": 27,
    "start_time": "2021-11-14T05:57:38.864Z"
   },
   {
    "duration": 35,
    "start_time": "2021-11-14T05:57:38.894Z"
   },
   {
    "duration": 20,
    "start_time": "2021-11-14T05:57:38.931Z"
   },
   {
    "duration": 69,
    "start_time": "2021-11-14T05:57:38.954Z"
   },
   {
    "duration": 45,
    "start_time": "2021-11-14T05:57:39.026Z"
   },
   {
    "duration": 36,
    "start_time": "2021-11-14T05:57:39.073Z"
   },
   {
    "duration": 25,
    "start_time": "2021-11-14T05:57:39.111Z"
   },
   {
    "duration": 12,
    "start_time": "2021-11-14T05:57:39.138Z"
   },
   {
    "duration": 79,
    "start_time": "2021-11-14T05:57:39.152Z"
   },
   {
    "duration": 40,
    "start_time": "2021-11-14T05:57:39.234Z"
   },
   {
    "duration": 6,
    "start_time": "2021-11-14T05:57:39.277Z"
   },
   {
    "duration": 46,
    "start_time": "2021-11-14T05:57:39.285Z"
   },
   {
    "duration": 75,
    "start_time": "2021-11-14T05:57:39.334Z"
   },
   {
    "duration": 25,
    "start_time": "2021-11-14T05:57:39.411Z"
   },
   {
    "duration": 42,
    "start_time": "2021-11-14T05:57:39.438Z"
   },
   {
    "duration": 7,
    "start_time": "2021-11-14T05:57:39.483Z"
   },
   {
    "duration": 6,
    "start_time": "2021-11-14T05:57:39.492Z"
   },
   {
    "duration": 72,
    "start_time": "2021-11-14T05:57:39.501Z"
   },
   {
    "duration": 22,
    "start_time": "2021-11-14T05:57:39.576Z"
   },
   {
    "duration": 21,
    "start_time": "2021-11-14T05:57:39.601Z"
   },
   {
    "duration": 78,
    "start_time": "2021-11-14T05:57:39.624Z"
   },
   {
    "duration": 21,
    "start_time": "2021-11-14T05:57:39.704Z"
   },
   {
    "duration": 66,
    "start_time": "2021-11-14T05:57:39.727Z"
   },
   {
    "duration": 25,
    "start_time": "2021-11-14T05:57:39.795Z"
   },
   {
    "duration": 33,
    "start_time": "2021-11-14T05:57:39.822Z"
   },
   {
    "duration": 5,
    "start_time": "2021-11-14T05:57:48.387Z"
   },
   {
    "duration": 30,
    "start_time": "2021-11-14T05:57:55.545Z"
   },
   {
    "duration": 33,
    "start_time": "2021-11-14T05:58:38.939Z"
   },
   {
    "duration": 740,
    "start_time": "2021-11-14T06:12:24.501Z"
   },
   {
    "duration": 17,
    "start_time": "2021-11-14T06:12:28.406Z"
   },
   {
    "duration": 387,
    "start_time": "2021-11-14T06:12:30.654Z"
   },
   {
    "duration": 3,
    "start_time": "2021-11-14T06:12:39.895Z"
   },
   {
    "duration": 5,
    "start_time": "2021-11-14T06:12:40.542Z"
   },
   {
    "duration": 19,
    "start_time": "2021-11-14T06:13:59.806Z"
   },
   {
    "duration": 88,
    "start_time": "2021-11-14T06:14:17.974Z"
   },
   {
    "duration": 18,
    "start_time": "2021-11-14T06:14:25.038Z"
   },
   {
    "duration": 6,
    "start_time": "2021-11-14T06:14:30.951Z"
   },
   {
    "duration": 6,
    "start_time": "2021-11-14T06:14:43.070Z"
   },
   {
    "duration": 6,
    "start_time": "2021-11-14T06:15:30.420Z"
   },
   {
    "duration": 1269,
    "start_time": "2021-11-14T06:15:30.429Z"
   },
   {
    "duration": 3,
    "start_time": "2021-11-14T06:15:31.701Z"
   },
   {
    "duration": 54,
    "start_time": "2021-11-14T06:15:31.707Z"
   },
   {
    "duration": 182,
    "start_time": "2021-11-14T06:15:31.764Z"
   },
   {
    "duration": 135,
    "start_time": "2021-11-14T06:15:31.948Z"
   },
   {
    "duration": 3512,
    "start_time": "2021-11-14T06:15:32.086Z"
   },
   {
    "duration": 4,
    "start_time": "2021-11-14T06:15:35.603Z"
   },
   {
    "duration": 26,
    "start_time": "2021-11-14T06:15:35.611Z"
   },
   {
    "duration": 91,
    "start_time": "2021-11-14T06:15:35.639Z"
   },
   {
    "duration": 40,
    "start_time": "2021-11-14T06:15:35.733Z"
   },
   {
    "duration": 24,
    "start_time": "2021-11-14T06:15:35.775Z"
   },
   {
    "duration": 88,
    "start_time": "2021-11-14T06:15:35.801Z"
   },
   {
    "duration": 11,
    "start_time": "2021-11-14T06:15:35.892Z"
   },
   {
    "duration": 13,
    "start_time": "2021-11-14T06:15:35.905Z"
   },
   {
    "duration": 57,
    "start_time": "2021-11-14T06:15:35.921Z"
   },
   {
    "duration": 27,
    "start_time": "2021-11-14T06:15:35.981Z"
   },
   {
    "duration": 8,
    "start_time": "2021-11-14T06:15:36.011Z"
   },
   {
    "duration": 18,
    "start_time": "2021-11-14T06:15:36.022Z"
   },
   {
    "duration": 31,
    "start_time": "2021-11-14T06:15:36.043Z"
   },
   {
    "duration": 20,
    "start_time": "2021-11-14T06:15:36.076Z"
   },
   {
    "duration": 17,
    "start_time": "2021-11-14T06:15:36.098Z"
   },
   {
    "duration": 122,
    "start_time": "2021-11-14T06:15:36.120Z"
   },
   {
    "duration": 37,
    "start_time": "2021-11-14T06:15:36.245Z"
   },
   {
    "duration": 3,
    "start_time": "2021-11-14T06:15:36.284Z"
   },
   {
    "duration": 96,
    "start_time": "2021-11-14T06:15:36.289Z"
   },
   {
    "duration": 22,
    "start_time": "2021-11-14T06:15:36.387Z"
   },
   {
    "duration": 6,
    "start_time": "2021-11-14T06:15:36.411Z"
   },
   {
    "duration": 6,
    "start_time": "2021-11-14T06:15:36.420Z"
   },
   {
    "duration": 73,
    "start_time": "2021-11-14T06:15:36.428Z"
   },
   {
    "duration": 22,
    "start_time": "2021-11-14T06:15:36.504Z"
   },
   {
    "duration": 57,
    "start_time": "2021-11-14T06:15:36.529Z"
   },
   {
    "duration": 21,
    "start_time": "2021-11-14T06:15:36.589Z"
   },
   {
    "duration": 6,
    "start_time": "2021-11-14T06:15:36.612Z"
   },
   {
    "duration": 62,
    "start_time": "2021-11-14T06:15:36.620Z"
   },
   {
    "duration": 22,
    "start_time": "2021-11-14T06:15:36.685Z"
   },
   {
    "duration": 21,
    "start_time": "2021-11-14T06:15:36.710Z"
   },
   {
    "duration": 44,
    "start_time": "2021-11-14T06:15:36.734Z"
   },
   {
    "duration": 11,
    "start_time": "2021-11-14T06:15:36.780Z"
   },
   {
    "duration": 96,
    "start_time": "2021-11-14T06:15:36.793Z"
   },
   {
    "duration": 25,
    "start_time": "2021-11-14T06:15:36.892Z"
   },
   {
    "duration": 6,
    "start_time": "2021-11-14T06:15:36.919Z"
   },
   {
    "duration": 74,
    "start_time": "2021-11-14T06:15:36.928Z"
   },
   {
    "duration": 54,
    "start_time": "2021-11-14T06:15:37.005Z"
   },
   {
    "duration": 30,
    "start_time": "2021-11-14T06:15:37.063Z"
   },
   {
    "duration": 27,
    "start_time": "2021-11-14T06:15:37.096Z"
   },
   {
    "duration": 9,
    "start_time": "2021-11-14T06:15:37.126Z"
   },
   {
    "duration": 23,
    "start_time": "2021-11-14T06:15:37.138Z"
   },
   {
    "duration": 45,
    "start_time": "2021-11-14T06:15:37.166Z"
   },
   {
    "duration": 54,
    "start_time": "2021-11-14T06:15:37.214Z"
   },
   {
    "duration": 26,
    "start_time": "2021-11-14T06:15:37.272Z"
   },
   {
    "duration": 69,
    "start_time": "2021-11-14T06:15:37.300Z"
   },
   {
    "duration": 21,
    "start_time": "2021-11-14T06:15:37.372Z"
   },
   {
    "duration": 41,
    "start_time": "2021-11-14T06:15:37.396Z"
   },
   {
    "duration": 55,
    "start_time": "2021-11-14T06:15:37.439Z"
   },
   {
    "duration": 35,
    "start_time": "2021-11-14T06:15:40.878Z"
   },
   {
    "duration": 6,
    "start_time": "2021-11-14T06:15:41.870Z"
   },
   {
    "duration": 20,
    "start_time": "2021-11-14T06:15:43.676Z"
   },
   {
    "duration": 84,
    "start_time": "2021-11-14T06:15:44.101Z"
   },
   {
    "duration": 17,
    "start_time": "2021-11-14T06:15:44.492Z"
   },
   {
    "duration": 5,
    "start_time": "2021-11-14T06:15:44.973Z"
   },
   {
    "duration": 7,
    "start_time": "2021-11-14T06:15:46.359Z"
   },
   {
    "duration": 5,
    "start_time": "2021-11-14T06:16:12.101Z"
   },
   {
    "duration": 25,
    "start_time": "2021-11-14T06:16:12.766Z"
   },
   {
    "duration": 16,
    "start_time": "2021-11-14T06:16:15.021Z"
   },
   {
    "duration": 5,
    "start_time": "2021-11-14T06:16:19.295Z"
   },
   {
    "duration": 25,
    "start_time": "2021-11-14T06:21:53.347Z"
   },
   {
    "duration": 50,
    "start_time": "2021-11-14T06:22:03.346Z"
   },
   {
    "duration": 38,
    "start_time": "2021-11-14T06:22:06.578Z"
   },
   {
    "duration": 12,
    "start_time": "2021-11-14T06:22:11.916Z"
   },
   {
    "duration": 48,
    "start_time": "2021-11-14T06:22:21.610Z"
   },
   {
    "duration": 45,
    "start_time": "2021-11-14T06:22:21.955Z"
   },
   {
    "duration": 13,
    "start_time": "2021-11-14T06:22:28.306Z"
   },
   {
    "duration": 15,
    "start_time": "2021-11-14T06:22:28.506Z"
   },
   {
    "duration": 14,
    "start_time": "2021-11-14T06:25:48.974Z"
   },
   {
    "duration": 17,
    "start_time": "2021-11-14T06:25:51.704Z"
   },
   {
    "duration": 39,
    "start_time": "2021-11-14T06:35:47.006Z"
   },
   {
    "duration": 6,
    "start_time": "2021-11-14T06:35:47.799Z"
   },
   {
    "duration": 6,
    "start_time": "2021-11-14T06:35:57.927Z"
   },
   {
    "duration": 39,
    "start_time": "2021-11-14T06:36:17.047Z"
   },
   {
    "duration": 50,
    "start_time": "2021-11-14T06:36:17.622Z"
   },
   {
    "duration": 38,
    "start_time": "2021-11-14T06:36:17.840Z"
   },
   {
    "duration": 4,
    "start_time": "2021-11-14T06:36:32.902Z"
   },
   {
    "duration": 4,
    "start_time": "2021-11-14T06:36:33.071Z"
   },
   {
    "duration": 17,
    "start_time": "2021-11-14T06:54:17.202Z"
   },
   {
    "duration": 4,
    "start_time": "2021-11-14T06:54:18.978Z"
   },
   {
    "duration": 4,
    "start_time": "2021-11-14T06:54:19.704Z"
   },
   {
    "duration": 674,
    "start_time": "2021-11-14T06:54:20.869Z"
   },
   {
    "duration": 17,
    "start_time": "2021-11-14T06:54:27.888Z"
   },
   {
    "duration": 22,
    "start_time": "2021-11-14T06:54:28.972Z"
   },
   {
    "duration": 29,
    "start_time": "2021-11-14T06:54:33.537Z"
   },
   {
    "duration": 20,
    "start_time": "2021-11-14T06:54:39.608Z"
   },
   {
    "duration": 91,
    "start_time": "2021-11-14T06:54:43.305Z"
   },
   {
    "duration": 22,
    "start_time": "2021-11-14T06:54:43.770Z"
   },
   {
    "duration": 5,
    "start_time": "2021-11-14T06:54:56.545Z"
   },
   {
    "duration": 8,
    "start_time": "2021-11-14T06:55:12.071Z"
   },
   {
    "duration": 53,
    "start_time": "2021-11-14T06:55:12.315Z"
   },
   {
    "duration": 156,
    "start_time": "2021-11-14T06:55:12.512Z"
   },
   {
    "duration": 14,
    "start_time": "2021-11-14T06:55:12.761Z"
   },
   {
    "duration": 6,
    "start_time": "2021-11-14T07:05:16.758Z"
   },
   {
    "duration": 191640,
    "start_time": "2021-11-14T07:05:18.254Z"
   },
   {
    "duration": 5,
    "start_time": "2021-11-14T07:09:00.973Z"
   },
   {
    "duration": 6,
    "start_time": "2021-11-14T07:09:01.325Z"
   },
   {
    "duration": 23,
    "start_time": "2021-11-14T07:09:59.769Z"
   },
   {
    "duration": 140,
    "start_time": "2021-11-14T07:10:24.093Z"
   },
   {
    "duration": 3,
    "start_time": "2021-11-14T07:10:46.343Z"
   },
   {
    "duration": 255,
    "start_time": "2021-11-14T07:12:34.892Z"
   },
   {
    "duration": 4,
    "start_time": "2021-11-14T07:13:13.171Z"
   },
   {
    "duration": 4,
    "start_time": "2021-11-14T07:13:14.123Z"
   },
   {
    "duration": 339,
    "start_time": "2021-11-14T07:13:14.979Z"
   },
   {
    "duration": 3,
    "start_time": "2021-11-14T07:14:03.404Z"
   },
   {
    "duration": 315,
    "start_time": "2021-11-14T07:14:07.043Z"
   },
   {
    "duration": 130,
    "start_time": "2021-11-14T07:18:47.923Z"
   },
   {
    "duration": 8,
    "start_time": "2021-11-14T07:18:57.986Z"
   },
   {
    "duration": 8,
    "start_time": "2021-11-14T07:19:02.193Z"
   },
   {
    "duration": 304,
    "start_time": "2021-11-14T07:19:13.273Z"
   },
   {
    "duration": 393,
    "start_time": "2021-11-14T07:23:31.257Z"
   },
   {
    "duration": 6,
    "start_time": "2021-11-14T07:23:55.753Z"
   },
   {
    "duration": 410,
    "start_time": "2021-11-14T07:24:10.784Z"
   },
   {
    "duration": 393,
    "start_time": "2021-11-14T07:25:20.856Z"
   },
   {
    "duration": 405,
    "start_time": "2021-11-14T07:25:25.703Z"
   },
   {
    "duration": 7,
    "start_time": "2021-11-14T07:25:45.772Z"
   },
   {
    "duration": 43,
    "start_time": "2021-11-14T07:25:47.856Z"
   },
   {
    "duration": 164,
    "start_time": "2021-11-14T07:26:01.973Z"
   },
   {
    "duration": 519,
    "start_time": "2021-11-14T07:26:07.477Z"
   },
   {
    "duration": 613,
    "start_time": "2021-11-14T07:26:12.607Z"
   },
   {
    "duration": 145,
    "start_time": "2021-11-14T07:26:22.200Z"
   },
   {
    "duration": 8,
    "start_time": "2021-11-14T07:26:55.150Z"
   },
   {
    "duration": 537,
    "start_time": "2021-11-14T07:27:03.905Z"
   },
   {
    "duration": 135,
    "start_time": "2021-11-14T07:27:19.495Z"
   },
   {
    "duration": 154,
    "start_time": "2021-11-14T07:28:23.342Z"
   },
   {
    "duration": 8,
    "start_time": "2021-11-14T07:28:25.007Z"
   },
   {
    "duration": 138,
    "start_time": "2021-11-14T07:28:29.759Z"
   },
   {
    "duration": 7,
    "start_time": "2021-11-14T07:28:54.885Z"
   },
   {
    "duration": 122,
    "start_time": "2021-11-14T07:29:11.422Z"
   },
   {
    "duration": 194,
    "start_time": "2021-11-14T07:29:17.405Z"
   },
   {
    "duration": 8,
    "start_time": "2021-11-14T07:29:19.077Z"
   },
   {
    "duration": 6,
    "start_time": "2021-11-14T07:29:40.639Z"
   },
   {
    "duration": 22,
    "start_time": "2021-11-14T07:30:00.158Z"
   },
   {
    "duration": 60,
    "start_time": "2021-11-14T07:30:00.485Z"
   },
   {
    "duration": 4,
    "start_time": "2021-11-14T07:30:00.845Z"
   },
   {
    "duration": 3,
    "start_time": "2021-11-14T07:30:01.478Z"
   },
   {
    "duration": 11,
    "start_time": "2021-11-14T07:30:01.877Z"
   },
   {
    "duration": 178700,
    "start_time": "2021-11-14T07:30:03.478Z"
   },
   {
    "duration": 5,
    "start_time": "2021-11-14T07:33:40.036Z"
   },
   {
    "duration": 5,
    "start_time": "2021-11-14T07:33:52.444Z"
   },
   {
    "duration": 204225,
    "start_time": "2021-11-14T07:34:29.236Z"
   },
   {
    "duration": 1629,
    "start_time": "2021-11-14T08:16:40.772Z"
   },
   {
    "duration": 1140,
    "start_time": "2021-11-14T08:16:42.404Z"
   },
   {
    "duration": 3,
    "start_time": "2021-11-14T08:16:43.547Z"
   },
   {
    "duration": 57,
    "start_time": "2021-11-14T08:16:43.553Z"
   },
   {
    "duration": 181,
    "start_time": "2021-11-14T08:16:43.612Z"
   },
   {
    "duration": 133,
    "start_time": "2021-11-14T08:16:43.795Z"
   },
   {
    "duration": 3319,
    "start_time": "2021-11-14T08:16:43.930Z"
   },
   {
    "duration": 8,
    "start_time": "2021-11-14T08:16:47.252Z"
   },
   {
    "duration": 36,
    "start_time": "2021-11-14T08:16:47.264Z"
   },
   {
    "duration": 108,
    "start_time": "2021-11-14T08:16:47.303Z"
   },
   {
    "duration": 20,
    "start_time": "2021-11-14T08:16:47.414Z"
   },
   {
    "duration": 39,
    "start_time": "2021-11-14T08:16:47.437Z"
   },
   {
    "duration": 84,
    "start_time": "2021-11-14T08:16:47.479Z"
   },
   {
    "duration": 16,
    "start_time": "2021-11-14T08:16:47.569Z"
   },
   {
    "duration": 17,
    "start_time": "2021-11-14T08:16:47.588Z"
   },
   {
    "duration": 56,
    "start_time": "2021-11-14T08:16:47.607Z"
   },
   {
    "duration": 21,
    "start_time": "2021-11-14T08:16:47.666Z"
   },
   {
    "duration": 6,
    "start_time": "2021-11-14T08:16:47.689Z"
   },
   {
    "duration": 8,
    "start_time": "2021-11-14T08:16:47.699Z"
   },
   {
    "duration": 56,
    "start_time": "2021-11-14T08:16:47.710Z"
   },
   {
    "duration": 25,
    "start_time": "2021-11-14T08:16:47.770Z"
   },
   {
    "duration": 18,
    "start_time": "2021-11-14T08:16:47.798Z"
   },
   {
    "duration": 113,
    "start_time": "2021-11-14T08:16:47.822Z"
   },
   {
    "duration": 41,
    "start_time": "2021-11-14T08:16:47.939Z"
   },
   {
    "duration": 3,
    "start_time": "2021-11-14T08:16:47.983Z"
   },
   {
    "duration": 94,
    "start_time": "2021-11-14T08:16:47.988Z"
   },
   {
    "duration": 23,
    "start_time": "2021-11-14T08:16:48.085Z"
   },
   {
    "duration": 8,
    "start_time": "2021-11-14T08:16:48.110Z"
   },
   {
    "duration": 6,
    "start_time": "2021-11-14T08:16:48.121Z"
   },
   {
    "duration": 46,
    "start_time": "2021-11-14T08:16:48.165Z"
   },
   {
    "duration": 25,
    "start_time": "2021-11-14T08:16:48.213Z"
   },
   {
    "duration": 22,
    "start_time": "2021-11-14T08:16:48.266Z"
   },
   {
    "duration": 26,
    "start_time": "2021-11-14T08:16:48.291Z"
   },
   {
    "duration": 6,
    "start_time": "2021-11-14T08:16:48.320Z"
   },
   {
    "duration": 72,
    "start_time": "2021-11-14T08:16:48.328Z"
   },
   {
    "duration": 22,
    "start_time": "2021-11-14T08:16:48.402Z"
   },
   {
    "duration": 39,
    "start_time": "2021-11-14T08:16:48.427Z"
   },
   {
    "duration": 21,
    "start_time": "2021-11-14T08:16:48.469Z"
   },
   {
    "duration": 9,
    "start_time": "2021-11-14T08:16:48.492Z"
   },
   {
    "duration": 96,
    "start_time": "2021-11-14T08:16:48.504Z"
   },
   {
    "duration": 24,
    "start_time": "2021-11-14T08:16:48.602Z"
   },
   {
    "duration": 6,
    "start_time": "2021-11-14T08:16:48.628Z"
   },
   {
    "duration": 48,
    "start_time": "2021-11-14T08:16:48.660Z"
   },
   {
    "duration": 70,
    "start_time": "2021-11-14T08:16:48.710Z"
   },
   {
    "duration": 21,
    "start_time": "2021-11-14T08:16:48.782Z"
   },
   {
    "duration": 21,
    "start_time": "2021-11-14T08:16:48.805Z"
   },
   {
    "duration": 11,
    "start_time": "2021-11-14T08:16:48.828Z"
   },
   {
    "duration": 10,
    "start_time": "2021-11-14T08:16:48.860Z"
   },
   {
    "duration": 62,
    "start_time": "2021-11-14T08:16:48.872Z"
   },
   {
    "duration": 39,
    "start_time": "2021-11-14T08:16:48.936Z"
   },
   {
    "duration": 27,
    "start_time": "2021-11-14T08:16:48.979Z"
   },
   {
    "duration": 66,
    "start_time": "2021-11-14T08:16:49.008Z"
   },
   {
    "duration": 22,
    "start_time": "2021-11-14T08:16:49.077Z"
   },
   {
    "duration": 68,
    "start_time": "2021-11-14T08:16:49.101Z"
   },
   {
    "duration": 33,
    "start_time": "2021-11-14T08:16:49.173Z"
   },
   {
    "duration": 24,
    "start_time": "2021-11-14T08:16:49.208Z"
   },
   {
    "duration": 106,
    "start_time": "2021-11-14T08:16:49.234Z"
   },
   {
    "duration": 33,
    "start_time": "2021-11-14T08:16:49.342Z"
   },
   {
    "duration": 20,
    "start_time": "2021-11-14T08:16:49.378Z"
   },
   {
    "duration": 75,
    "start_time": "2021-11-14T08:16:49.400Z"
   },
   {
    "duration": 42,
    "start_time": "2021-11-14T08:16:49.479Z"
   },
   {
    "duration": 16,
    "start_time": "2021-11-14T08:16:49.524Z"
   },
   {
    "duration": 49,
    "start_time": "2021-11-14T08:16:49.565Z"
   },
   {
    "duration": 58,
    "start_time": "2021-11-14T08:16:49.617Z"
   },
   {
    "duration": 16,
    "start_time": "2021-11-14T08:16:49.678Z"
   },
   {
    "duration": 36,
    "start_time": "2021-11-14T08:16:49.696Z"
   },
   {
    "duration": 28,
    "start_time": "2021-11-14T08:16:49.734Z"
   },
   {
    "duration": 24,
    "start_time": "2021-11-14T08:16:49.779Z"
   },
   {
    "duration": 81,
    "start_time": "2021-11-14T08:16:49.807Z"
   },
   {
    "duration": 32,
    "start_time": "2021-11-14T08:16:49.890Z"
   },
   {
    "duration": 4,
    "start_time": "2021-11-14T08:16:49.924Z"
   },
   {
    "duration": 6,
    "start_time": "2021-11-14T08:16:49.930Z"
   },
   {
    "duration": 25,
    "start_time": "2021-11-14T08:16:49.938Z"
   },
   {
    "duration": 5,
    "start_time": "2021-11-14T08:16:49.967Z"
   },
   {
    "duration": 676,
    "start_time": "2021-11-14T08:16:49.975Z"
   },
   {
    "duration": 23,
    "start_time": "2021-11-14T08:16:50.653Z"
   },
   {
    "duration": 26,
    "start_time": "2021-11-14T08:16:50.678Z"
   },
   {
    "duration": 22,
    "start_time": "2021-11-14T08:16:50.706Z"
   },
   {
    "duration": 51,
    "start_time": "2021-11-14T08:16:50.731Z"
   },
   {
    "duration": 104,
    "start_time": "2021-11-14T08:16:50.785Z"
   },
   {
    "duration": 21,
    "start_time": "2021-11-14T08:16:50.891Z"
   },
   {
    "duration": 6,
    "start_time": "2021-11-14T08:16:50.915Z"
   },
   {
    "duration": 38,
    "start_time": "2021-11-14T08:16:50.923Z"
   },
   {
    "duration": 53,
    "start_time": "2021-11-14T08:16:50.964Z"
   },
   {
    "duration": 242,
    "start_time": "2021-11-14T08:16:51.019Z"
   },
   {
    "duration": 10,
    "start_time": "2021-11-14T08:16:51.269Z"
   },
   {
    "duration": 13,
    "start_time": "2021-11-14T08:16:51.362Z"
   },
   {
    "duration": 7,
    "start_time": "2021-11-14T08:16:51.377Z"
   },
   {
    "duration": 936877,
    "start_time": "2021-11-14T08:16:51.386Z"
   },
   {
    "duration": 7,
    "start_time": "2021-11-14T08:32:28.267Z"
   },
   {
    "duration": 12,
    "start_time": "2021-11-14T08:32:28.279Z"
   },
   {
    "duration": 5,
    "start_time": "2021-11-14T08:32:28.293Z"
   },
   {
    "duration": 147173,
    "start_time": "2021-11-14T08:32:28.301Z"
   },
   {
    "duration": 3,
    "start_time": "2021-11-14T08:34:55.478Z"
   },
   {
    "duration": 11,
    "start_time": "2021-11-14T08:34:55.484Z"
   },
   {
    "duration": 74,
    "start_time": "2021-11-14T08:34:55.497Z"
   },
   {
    "duration": 28698,
    "start_time": "2021-11-14T08:34:55.575Z"
   },
   {
    "duration": 4,
    "start_time": "2021-11-14T08:35:24.276Z"
   },
   {
    "duration": 10,
    "start_time": "2021-11-14T08:35:24.283Z"
   },
   {
    "duration": 9,
    "start_time": "2021-11-14T08:35:24.296Z"
   },
   {
    "duration": 58,
    "start_time": "2021-11-14T08:35:24.308Z"
   },
   {
    "duration": 7,
    "start_time": "2021-11-14T08:35:24.371Z"
   },
   {
    "duration": 1099019,
    "start_time": "2021-11-14T08:35:24.380Z"
   },
   {
    "duration": 4,
    "start_time": "2021-11-14T08:53:43.402Z"
   },
   {
    "duration": 8,
    "start_time": "2021-11-14T08:53:43.462Z"
   },
   {
    "duration": 16,
    "start_time": "2021-11-14T08:53:43.473Z"
   },
   {
    "duration": 1603,
    "start_time": "2021-11-14T09:03:53.176Z"
   },
   {
    "duration": 1159,
    "start_time": "2021-11-14T09:03:54.782Z"
   },
   {
    "duration": 3,
    "start_time": "2021-11-14T09:03:55.944Z"
   },
   {
    "duration": 59,
    "start_time": "2021-11-14T09:03:55.949Z"
   },
   {
    "duration": 198,
    "start_time": "2021-11-14T09:03:56.011Z"
   },
   {
    "duration": 139,
    "start_time": "2021-11-14T09:03:56.212Z"
   },
   {
    "duration": 3238,
    "start_time": "2021-11-14T09:03:56.354Z"
   },
   {
    "duration": 3,
    "start_time": "2021-11-14T09:03:59.596Z"
   },
   {
    "duration": 26,
    "start_time": "2021-11-14T09:03:59.602Z"
   },
   {
    "duration": 103,
    "start_time": "2021-11-14T09:03:59.630Z"
   },
   {
    "duration": 32,
    "start_time": "2021-11-14T09:03:59.736Z"
   },
   {
    "duration": 20,
    "start_time": "2021-11-14T09:03:59.772Z"
   },
   {
    "duration": 94,
    "start_time": "2021-11-14T09:03:59.795Z"
   },
   {
    "duration": 10,
    "start_time": "2021-11-14T09:03:59.891Z"
   },
   {
    "duration": 12,
    "start_time": "2021-11-14T09:03:59.904Z"
   },
   {
    "duration": 61,
    "start_time": "2021-11-14T09:03:59.918Z"
   },
   {
    "duration": 19,
    "start_time": "2021-11-14T09:03:59.982Z"
   },
   {
    "duration": 9,
    "start_time": "2021-11-14T09:04:00.004Z"
   },
   {
    "duration": 10,
    "start_time": "2021-11-14T09:04:00.016Z"
   },
   {
    "duration": 48,
    "start_time": "2021-11-14T09:04:00.029Z"
   },
   {
    "duration": 20,
    "start_time": "2021-11-14T09:04:00.080Z"
   },
   {
    "duration": 16,
    "start_time": "2021-11-14T09:04:00.103Z"
   },
   {
    "duration": 118,
    "start_time": "2021-11-14T09:04:00.125Z"
   },
   {
    "duration": 37,
    "start_time": "2021-11-14T09:04:00.247Z"
   },
   {
    "duration": 3,
    "start_time": "2021-11-14T09:04:00.287Z"
   },
   {
    "duration": 99,
    "start_time": "2021-11-14T09:04:00.292Z"
   },
   {
    "duration": 24,
    "start_time": "2021-11-14T09:04:00.393Z"
   },
   {
    "duration": 8,
    "start_time": "2021-11-14T09:04:00.419Z"
   },
   {
    "duration": 30,
    "start_time": "2021-11-14T09:04:00.429Z"
   },
   {
    "duration": 59,
    "start_time": "2021-11-14T09:04:00.462Z"
   },
   {
    "duration": 40,
    "start_time": "2021-11-14T09:04:00.523Z"
   },
   {
    "duration": 59,
    "start_time": "2021-11-14T09:04:00.567Z"
   },
   {
    "duration": 46,
    "start_time": "2021-11-14T09:04:00.628Z"
   },
   {
    "duration": 21,
    "start_time": "2021-11-14T09:04:00.677Z"
   },
   {
    "duration": 80,
    "start_time": "2021-11-14T09:04:00.701Z"
   },
   {
    "duration": 39,
    "start_time": "2021-11-14T09:04:00.784Z"
   },
   {
    "duration": 53,
    "start_time": "2021-11-14T09:04:00.826Z"
   },
   {
    "duration": 29,
    "start_time": "2021-11-14T09:04:00.881Z"
   },
   {
    "duration": 15,
    "start_time": "2021-11-14T09:04:00.912Z"
   },
   {
    "duration": 86,
    "start_time": "2021-11-14T09:04:00.930Z"
   },
   {
    "duration": 23,
    "start_time": "2021-11-14T09:04:01.019Z"
   },
   {
    "duration": 22,
    "start_time": "2021-11-14T09:04:01.044Z"
   },
   {
    "duration": 53,
    "start_time": "2021-11-14T09:04:01.070Z"
   },
   {
    "duration": 74,
    "start_time": "2021-11-14T09:04:01.125Z"
   },
   {
    "duration": 25,
    "start_time": "2021-11-14T09:04:01.202Z"
   },
   {
    "duration": 45,
    "start_time": "2021-11-14T09:04:01.230Z"
   },
   {
    "duration": 18,
    "start_time": "2021-11-14T09:04:01.277Z"
   },
   {
    "duration": 20,
    "start_time": "2021-11-14T09:04:01.297Z"
   },
   {
    "duration": 65,
    "start_time": "2021-11-14T09:04:01.320Z"
   },
   {
    "duration": 35,
    "start_time": "2021-11-14T09:04:01.388Z"
   },
   {
    "duration": 31,
    "start_time": "2021-11-14T09:04:01.426Z"
   },
   {
    "duration": 65,
    "start_time": "2021-11-14T09:04:01.464Z"
   },
   {
    "duration": 57,
    "start_time": "2021-11-14T09:04:01.532Z"
   },
   {
    "duration": 55,
    "start_time": "2021-11-14T09:04:01.592Z"
   },
   {
    "duration": 51,
    "start_time": "2021-11-14T09:04:01.649Z"
   },
   {
    "duration": 28,
    "start_time": "2021-11-14T09:04:01.703Z"
   },
   {
    "duration": 96,
    "start_time": "2021-11-14T09:04:01.733Z"
   },
   {
    "duration": 30,
    "start_time": "2021-11-14T09:04:01.831Z"
   },
   {
    "duration": 43,
    "start_time": "2021-11-14T09:04:01.866Z"
   },
   {
    "duration": 65,
    "start_time": "2021-11-14T09:04:01.912Z"
   },
   {
    "duration": 40,
    "start_time": "2021-11-14T09:04:01.980Z"
   },
   {
    "duration": 11,
    "start_time": "2021-11-14T09:04:02.022Z"
   },
   {
    "duration": 66,
    "start_time": "2021-11-14T09:04:02.036Z"
   },
   {
    "duration": 37,
    "start_time": "2021-11-14T09:04:02.105Z"
   },
   {
    "duration": 35,
    "start_time": "2021-11-14T09:04:02.145Z"
   },
   {
    "duration": 50,
    "start_time": "2021-11-14T09:04:02.182Z"
   },
   {
    "duration": 6,
    "start_time": "2021-11-14T09:04:02.234Z"
   },
   {
    "duration": 28,
    "start_time": "2021-11-14T09:04:02.266Z"
   },
   {
    "duration": 68,
    "start_time": "2021-11-14T09:04:02.299Z"
   },
   {
    "duration": 43,
    "start_time": "2021-11-14T09:04:02.371Z"
   },
   {
    "duration": 13,
    "start_time": "2021-11-14T09:04:02.416Z"
   },
   {
    "duration": 26,
    "start_time": "2021-11-14T09:04:02.432Z"
   },
   {
    "duration": 24,
    "start_time": "2021-11-14T09:04:02.468Z"
   },
   {
    "duration": 29,
    "start_time": "2021-11-14T09:04:02.495Z"
   },
   {
    "duration": 713,
    "start_time": "2021-11-14T09:04:02.526Z"
   },
   {
    "duration": 22,
    "start_time": "2021-11-14T09:04:03.241Z"
   },
   {
    "duration": 50,
    "start_time": "2021-11-14T09:04:03.268Z"
   },
   {
    "duration": 60,
    "start_time": "2021-11-14T09:04:03.321Z"
   },
   {
    "duration": 21,
    "start_time": "2021-11-14T09:04:03.383Z"
   },
   {
    "duration": 106,
    "start_time": "2021-11-14T09:04:03.406Z"
   },
   {
    "duration": 20,
    "start_time": "2021-11-14T09:04:03.514Z"
   },
   {
    "duration": 6,
    "start_time": "2021-11-14T09:04:03.537Z"
   },
   {
    "duration": 21,
    "start_time": "2021-11-14T09:04:03.565Z"
   },
   {
    "duration": 57,
    "start_time": "2021-11-14T09:04:03.588Z"
   },
   {
    "duration": 316,
    "start_time": "2021-11-14T09:04:03.647Z"
   },
   {
    "duration": 8,
    "start_time": "2021-11-14T09:04:03.966Z"
   },
   {
    "duration": 94,
    "start_time": "2021-11-14T09:04:03.978Z"
   },
   {
    "duration": 4,
    "start_time": "2021-11-14T09:04:04.074Z"
   },
   {
    "duration": 1017021,
    "start_time": "2021-11-14T09:04:04.081Z"
   },
   {
    "duration": 45,
    "start_time": "2021-11-14T09:21:01.117Z"
   },
   {
    "duration": 77,
    "start_time": "2021-11-14T09:21:01.169Z"
   },
   {
    "duration": 95,
    "start_time": "2021-11-14T09:21:01.249Z"
   },
   {
    "duration": 176651,
    "start_time": "2021-11-14T09:21:01.346Z"
   },
   {
    "duration": 66,
    "start_time": "2021-11-14T09:23:57.999Z"
   },
   {
    "duration": 28,
    "start_time": "2021-11-14T09:23:58.068Z"
   },
   {
    "duration": 19,
    "start_time": "2021-11-14T09:23:58.099Z"
   },
   {
    "duration": 33156,
    "start_time": "2021-11-14T09:23:58.121Z"
   },
   {
    "duration": 6,
    "start_time": "2021-11-14T09:24:31.280Z"
   },
   {
    "duration": 78,
    "start_time": "2021-11-14T09:24:31.288Z"
   },
   {
    "duration": 4,
    "start_time": "2021-11-14T09:24:31.372Z"
   },
   {
    "duration": 17,
    "start_time": "2021-11-14T09:24:31.378Z"
   },
   {
    "duration": 16,
    "start_time": "2021-11-14T09:24:31.397Z"
   },
   {
    "duration": 1717,
    "start_time": "2021-11-14T09:50:09.715Z"
   },
   {
    "duration": 1254,
    "start_time": "2021-11-14T09:50:11.434Z"
   },
   {
    "duration": 4,
    "start_time": "2021-11-14T09:50:12.691Z"
   },
   {
    "duration": 68,
    "start_time": "2021-11-14T09:50:12.699Z"
   },
   {
    "duration": 193,
    "start_time": "2021-11-14T09:50:12.770Z"
   },
   {
    "duration": 159,
    "start_time": "2021-11-14T09:50:12.968Z"
   },
   {
    "duration": 3755,
    "start_time": "2021-11-14T09:50:13.130Z"
   },
   {
    "duration": 4,
    "start_time": "2021-11-14T09:50:16.891Z"
   },
   {
    "duration": 37,
    "start_time": "2021-11-14T09:50:16.899Z"
   },
   {
    "duration": 91,
    "start_time": "2021-11-14T09:50:16.959Z"
   },
   {
    "duration": 29,
    "start_time": "2021-11-14T09:50:17.061Z"
   },
   {
    "duration": 19,
    "start_time": "2021-11-14T09:50:17.093Z"
   },
   {
    "duration": 110,
    "start_time": "2021-11-14T09:50:17.115Z"
   },
   {
    "duration": 11,
    "start_time": "2021-11-14T09:50:17.228Z"
   },
   {
    "duration": 20,
    "start_time": "2021-11-14T09:50:17.242Z"
   },
   {
    "duration": 28,
    "start_time": "2021-11-14T09:50:17.266Z"
   },
   {
    "duration": 23,
    "start_time": "2021-11-14T09:50:17.297Z"
   },
   {
    "duration": 38,
    "start_time": "2021-11-14T09:50:17.323Z"
   },
   {
    "duration": 22,
    "start_time": "2021-11-14T09:50:17.364Z"
   },
   {
    "duration": 28,
    "start_time": "2021-11-14T09:50:17.389Z"
   },
   {
    "duration": 20,
    "start_time": "2021-11-14T09:50:17.420Z"
   },
   {
    "duration": 33,
    "start_time": "2021-11-14T09:50:17.442Z"
   },
   {
    "duration": 118,
    "start_time": "2021-11-14T09:50:17.481Z"
   },
   {
    "duration": 31,
    "start_time": "2021-11-14T09:50:17.605Z"
   },
   {
    "duration": 4,
    "start_time": "2021-11-14T09:50:17.639Z"
   },
   {
    "duration": 86,
    "start_time": "2021-11-14T09:50:17.665Z"
   },
   {
    "duration": 27,
    "start_time": "2021-11-14T09:50:17.763Z"
   },
   {
    "duration": 93,
    "start_time": "2021-11-14T09:50:17.793Z"
   },
   {
    "duration": 7,
    "start_time": "2021-11-14T09:50:17.889Z"
   },
   {
    "duration": 44,
    "start_time": "2021-11-14T09:50:17.899Z"
   },
   {
    "duration": 43,
    "start_time": "2021-11-14T09:50:17.946Z"
   },
   {
    "duration": 36,
    "start_time": "2021-11-14T09:50:17.993Z"
   },
   {
    "duration": 35,
    "start_time": "2021-11-14T09:50:18.032Z"
   },
   {
    "duration": 16,
    "start_time": "2021-11-14T09:50:18.071Z"
   },
   {
    "duration": 44,
    "start_time": "2021-11-14T09:50:18.091Z"
   },
   {
    "duration": 37,
    "start_time": "2021-11-14T09:50:18.162Z"
   },
   {
    "duration": 24,
    "start_time": "2021-11-14T09:50:18.203Z"
   },
   {
    "duration": 37,
    "start_time": "2021-11-14T09:50:18.230Z"
   },
   {
    "duration": 13,
    "start_time": "2021-11-14T09:50:18.272Z"
   },
   {
    "duration": 106,
    "start_time": "2021-11-14T09:50:18.288Z"
   },
   {
    "duration": 25,
    "start_time": "2021-11-14T09:50:18.397Z"
   },
   {
    "duration": 6,
    "start_time": "2021-11-14T09:50:18.424Z"
   },
   {
    "duration": 94,
    "start_time": "2021-11-14T09:50:18.433Z"
   },
   {
    "duration": 71,
    "start_time": "2021-11-14T09:50:18.530Z"
   },
   {
    "duration": 28,
    "start_time": "2021-11-14T09:50:18.604Z"
   },
   {
    "duration": 51,
    "start_time": "2021-11-14T09:50:18.635Z"
   },
   {
    "duration": 19,
    "start_time": "2021-11-14T09:50:18.688Z"
   },
   {
    "duration": 11,
    "start_time": "2021-11-14T09:50:18.710Z"
   },
   {
    "duration": 95,
    "start_time": "2021-11-14T09:50:18.724Z"
   },
   {
    "duration": 46,
    "start_time": "2021-11-14T09:50:18.822Z"
   },
   {
    "duration": 37,
    "start_time": "2021-11-14T09:50:18.871Z"
   },
   {
    "duration": 71,
    "start_time": "2021-11-14T09:50:18.911Z"
   },
   {
    "duration": 28,
    "start_time": "2021-11-14T09:50:18.987Z"
   },
   {
    "duration": 63,
    "start_time": "2021-11-14T09:50:19.018Z"
   },
   {
    "duration": 27,
    "start_time": "2021-11-14T09:50:19.083Z"
   },
   {
    "duration": 31,
    "start_time": "2021-11-14T09:50:19.113Z"
   },
   {
    "duration": 122,
    "start_time": "2021-11-14T09:50:19.147Z"
   },
   {
    "duration": 23,
    "start_time": "2021-11-14T09:50:19.273Z"
   },
   {
    "duration": 24,
    "start_time": "2021-11-14T09:50:19.298Z"
   },
   {
    "duration": 92,
    "start_time": "2021-11-14T09:50:19.324Z"
   },
   {
    "duration": 45,
    "start_time": "2021-11-14T09:50:19.419Z"
   },
   {
    "duration": 17,
    "start_time": "2021-11-14T09:50:19.467Z"
   },
   {
    "duration": 48,
    "start_time": "2021-11-14T09:50:19.486Z"
   },
   {
    "duration": 67,
    "start_time": "2021-11-14T09:50:19.537Z"
   },
   {
    "duration": 28,
    "start_time": "2021-11-14T09:50:19.606Z"
   },
   {
    "duration": 60,
    "start_time": "2021-11-14T09:50:19.637Z"
   },
   {
    "duration": 5,
    "start_time": "2021-11-14T09:50:19.700Z"
   },
   {
    "duration": 47,
    "start_time": "2021-11-14T09:50:19.715Z"
   },
   {
    "duration": 47,
    "start_time": "2021-11-14T09:50:19.774Z"
   },
   {
    "duration": 62,
    "start_time": "2021-11-14T09:50:19.823Z"
   },
   {
    "duration": 4,
    "start_time": "2021-11-14T09:50:19.888Z"
   },
   {
    "duration": 9,
    "start_time": "2021-11-14T09:50:19.895Z"
   },
   {
    "duration": 19,
    "start_time": "2021-11-14T09:50:19.907Z"
   },
   {
    "duration": 19,
    "start_time": "2021-11-14T09:50:19.929Z"
   },
   {
    "duration": 950,
    "start_time": "2021-11-14T09:50:19.951Z"
   },
   {
    "duration": 16,
    "start_time": "2021-11-14T09:50:20.904Z"
   },
   {
    "duration": 32,
    "start_time": "2021-11-14T09:50:20.923Z"
   },
   {
    "duration": 35,
    "start_time": "2021-11-14T09:50:20.958Z"
   },
   {
    "duration": 36,
    "start_time": "2021-11-14T09:50:20.996Z"
   },
   {
    "duration": 112,
    "start_time": "2021-11-14T09:50:21.036Z"
   },
   {
    "duration": 39,
    "start_time": "2021-11-14T09:50:21.151Z"
   },
   {
    "duration": 7,
    "start_time": "2021-11-14T09:50:21.193Z"
   },
   {
    "duration": 15,
    "start_time": "2021-11-14T09:50:21.204Z"
   },
   {
    "duration": 107,
    "start_time": "2021-11-14T09:50:21.223Z"
   },
   {
    "duration": 159,
    "start_time": "2021-11-14T09:50:21.333Z"
   },
   {
    "duration": 89,
    "start_time": "2021-11-14T09:50:21.494Z"
   },
   {
    "duration": 20,
    "start_time": "2021-11-14T09:50:21.660Z"
   },
   {
    "duration": 8,
    "start_time": "2021-11-14T09:50:21.682Z"
   },
   {
    "duration": 1213890,
    "start_time": "2021-11-14T09:50:21.693Z"
   },
   {
    "duration": 3,
    "start_time": "2021-11-14T10:10:35.585Z"
   },
   {
    "duration": 73,
    "start_time": "2021-11-14T10:10:35.590Z"
   },
   {
    "duration": 4,
    "start_time": "2021-11-14T10:10:35.666Z"
   },
   {
    "duration": 162911,
    "start_time": "2021-11-14T10:10:35.673Z"
   },
   {
    "duration": 5,
    "start_time": "2021-11-14T10:13:18.587Z"
   },
   {
    "duration": 71,
    "start_time": "2021-11-14T10:13:18.595Z"
   },
   {
    "duration": 95,
    "start_time": "2021-11-14T10:13:18.671Z"
   },
   {
    "duration": 40532,
    "start_time": "2021-11-14T10:13:18.771Z"
   },
   {
    "duration": 61,
    "start_time": "2021-11-14T10:13:59.305Z"
   },
   {
    "duration": 25,
    "start_time": "2021-11-14T10:13:59.377Z"
   },
   {
    "duration": 14,
    "start_time": "2021-11-14T10:13:59.405Z"
   },
   {
    "duration": 42,
    "start_time": "2021-11-14T10:13:59.422Z"
   },
   {
    "duration": 5,
    "start_time": "2021-11-14T10:13:59.468Z"
   },
   {
    "duration": 1380907,
    "start_time": "2021-11-14T10:13:59.476Z"
   },
   {
    "duration": 6,
    "start_time": "2021-11-14T10:37:00.387Z"
   },
   {
    "duration": 25,
    "start_time": "2021-11-14T10:37:00.396Z"
   },
   {
    "duration": 49,
    "start_time": "2021-11-14T10:37:00.423Z"
   },
   {
    "duration": 410319,
    "start_time": "2021-11-14T10:37:00.475Z"
   },
   {
    "duration": 5,
    "start_time": "2021-11-14T10:43:50.797Z"
   },
   {
    "duration": 11,
    "start_time": "2021-11-14T10:43:50.866Z"
   },
   {
    "duration": 29,
    "start_time": "2021-11-14T10:43:50.880Z"
   },
   {
    "duration": 223569,
    "start_time": "2021-11-14T10:43:50.911Z"
   },
   {
    "duration": 4,
    "start_time": "2021-11-14T10:47:34.483Z"
   },
   {
    "duration": 14,
    "start_time": "2021-11-14T10:47:34.490Z"
   },
   {
    "duration": 16,
    "start_time": "2021-11-14T10:47:34.506Z"
   },
   {
    "duration": 140865,
    "start_time": "2021-11-14T10:47:34.525Z"
   },
   {
    "duration": 6,
    "start_time": "2021-11-14T10:49:55.469Z"
   },
   {
    "duration": 114793,
    "start_time": "2021-11-14T10:49:55.478Z"
   },
   {
    "duration": 6,
    "start_time": "2021-11-14T10:51:50.275Z"
   },
   {
    "duration": 24,
    "start_time": "2021-11-14T10:51:50.361Z"
   },
   {
    "duration": 6,
    "start_time": "2021-11-14T10:51:50.388Z"
   },
   {
    "duration": 281573,
    "start_time": "2021-11-14T10:51:50.396Z"
   },
   {
    "duration": 7,
    "start_time": "2021-11-14T10:56:31.973Z"
   },
   {
    "duration": 15,
    "start_time": "2021-11-14T10:56:31.984Z"
   },
   {
    "duration": 7,
    "start_time": "2021-11-14T10:56:32.002Z"
   },
   {
    "duration": 751781,
    "start_time": "2021-11-14T10:56:32.012Z"
   },
   {
    "duration": 5,
    "start_time": "2021-11-14T11:09:03.796Z"
   },
   {
    "duration": 21,
    "start_time": "2021-11-14T11:09:03.803Z"
   },
   {
    "duration": 7,
    "start_time": "2021-11-14T11:09:03.826Z"
   },
   {
    "duration": 391564,
    "start_time": "2021-11-14T11:09:03.862Z"
   },
   {
    "duration": 5,
    "start_time": "2021-11-14T11:15:35.428Z"
   },
   {
    "duration": 7,
    "start_time": "2021-11-14T11:15:35.469Z"
   },
   {
    "duration": 14,
    "start_time": "2021-11-14T11:15:35.480Z"
   },
   {
    "duration": 448207,
    "start_time": "2021-11-14T11:15:35.497Z"
   },
   {
    "duration": 5,
    "start_time": "2021-11-14T11:23:03.707Z"
   },
   {
    "duration": 7,
    "start_time": "2021-11-14T11:23:03.714Z"
   },
   {
    "duration": 65,
    "start_time": "2021-11-14T11:23:03.724Z"
   },
   {
    "duration": 149,
    "start_time": "2021-11-14T11:23:03.792Z"
   },
   {
    "duration": 4,
    "start_time": "2021-11-14T11:23:03.943Z"
   },
   {
    "duration": 18,
    "start_time": "2021-11-14T11:23:03.949Z"
   },
   {
    "duration": 203,
    "start_time": "2021-11-14T11:23:03.971Z"
   },
   {
    "duration": 457,
    "start_time": "2021-11-14T11:23:04.177Z"
   },
   {
    "duration": 417,
    "start_time": "2021-11-14T11:23:04.637Z"
   },
   {
    "duration": -133,
    "start_time": "2021-11-14T11:23:05.190Z"
   },
   {
    "duration": -137,
    "start_time": "2021-11-14T11:23:05.196Z"
   },
   {
    "duration": -140,
    "start_time": "2021-11-14T11:23:05.201Z"
   },
   {
    "duration": -138,
    "start_time": "2021-11-14T11:23:05.205Z"
   },
   {
    "duration": 15,
    "start_time": "2021-11-14T11:29:29.678Z"
   },
   {
    "duration": 69,
    "start_time": "2021-11-14T11:29:30.957Z"
   },
   {
    "duration": 4,
    "start_time": "2021-11-14T11:29:32.756Z"
   },
   {
    "duration": 4,
    "start_time": "2021-11-14T11:29:37.588Z"
   },
   {
    "duration": 11,
    "start_time": "2021-11-14T11:29:40.316Z"
   },
   {
    "duration": 229126,
    "start_time": "2021-11-14T11:32:51.138Z"
   },
   {
    "duration": 5,
    "start_time": "2021-11-14T11:38:05.234Z"
   },
   {
    "duration": 5,
    "start_time": "2021-11-14T11:38:06.674Z"
   },
   {
    "duration": 6,
    "start_time": "2021-11-14T11:38:11.972Z"
   },
   {
    "duration": 5,
    "start_time": "2021-11-14T11:38:13.144Z"
   },
   {
    "duration": 11,
    "start_time": "2021-11-14T11:38:13.624Z"
   },
   {
    "duration": 5,
    "start_time": "2021-11-14T11:38:23.330Z"
   },
   {
    "duration": 6,
    "start_time": "2021-11-14T11:38:24.434Z"
   },
   {
    "duration": 19,
    "start_time": "2021-11-14T11:38:24.656Z"
   }
  ],
  "kernelspec": {
   "display_name": "Python 3 (ipykernel)",
   "language": "python",
   "name": "python3"
  },
  "language_info": {
   "codemirror_mode": {
    "name": "ipython",
    "version": 3
   },
   "file_extension": ".py",
   "mimetype": "text/x-python",
   "name": "python",
   "nbconvert_exporter": "python",
   "pygments_lexer": "ipython3",
   "version": "3.9.5"
  },
  "toc": {
   "base_numbering": 1,
   "nav_menu": {},
   "number_sections": false,
   "sideBar": true,
   "skip_h1_title": true,
   "title_cell": "Table of Contents",
   "title_sidebar": "Contents",
   "toc_cell": false,
   "toc_position": {
    "height": "calc(100% - 180px)",
    "left": "10px",
    "top": "150px",
    "width": "236.125px"
   },
   "toc_section_display": true,
   "toc_window_display": false
  }
 },
 "nbformat": 4,
 "nbformat_minor": 2
}
